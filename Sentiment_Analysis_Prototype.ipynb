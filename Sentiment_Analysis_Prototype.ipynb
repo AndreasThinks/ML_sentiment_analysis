{
  "nbformat": 4,
  "nbformat_minor": 0,
  "metadata": {
    "colab": {
      "name": "Sentiment Analysis Prototype",
      "provenance": []
    },
    "kernelspec": {
      "name": "python3",
      "display_name": "Python 3"
    },
    "widgets": {
      "application/vnd.jupyter.widget-state+json": {
        "ef2b80bbfbdc444e94a015ed8cb77a7b": {
          "model_module": "@jupyter-widgets/controls",
          "model_name": "VBoxModel",
          "state": {
            "_view_name": "VBoxView",
            "_dom_classes": [],
            "_model_name": "VBoxModel",
            "_view_module": "@jupyter-widgets/controls",
            "_model_module_version": "1.5.0",
            "_view_count": null,
            "_view_module_version": "1.5.0",
            "box_style": "",
            "layout": "IPY_MODEL_2dd31ef3d05046339c5bb1c62a0e4605",
            "_model_module": "@jupyter-widgets/controls",
            "children": [
              "IPY_MODEL_2491099576c2430d8bf865f7f39ceecd",
              "IPY_MODEL_045a27262b6c48fea54039fd20a7b074",
              "IPY_MODEL_fd7025499fc54ade9c70b248610d562c",
              "IPY_MODEL_bee96d17471f4850a30cd57d8f40effb",
              "IPY_MODEL_aea8322cac5c44c68d9bc1f5516a3d9a",
              "IPY_MODEL_e1744ba31dfa4999b969e675418043ff",
              "IPY_MODEL_046096490c954aa0ab0be92e8276b790",
              "IPY_MODEL_99ff149de6a748898e7845ea67f5d392",
              "IPY_MODEL_5d6990dfbbdd48cfb8a844c2176f5f3d"
            ]
          }
        },
        "2dd31ef3d05046339c5bb1c62a0e4605": {
          "model_module": "@jupyter-widgets/base",
          "model_name": "LayoutModel",
          "state": {
            "_view_name": "LayoutView",
            "grid_template_rows": null,
            "right": null,
            "justify_content": null,
            "_view_module": "@jupyter-widgets/base",
            "overflow": null,
            "_model_module_version": "1.2.0",
            "_view_count": null,
            "flex_flow": null,
            "width": null,
            "min_width": null,
            "border": null,
            "align_items": null,
            "bottom": null,
            "_model_module": "@jupyter-widgets/base",
            "top": null,
            "grid_column": null,
            "overflow_y": null,
            "overflow_x": null,
            "grid_auto_flow": null,
            "grid_area": null,
            "grid_template_columns": null,
            "flex": null,
            "_model_name": "LayoutModel",
            "justify_items": null,
            "grid_row": null,
            "max_height": null,
            "align_content": null,
            "visibility": null,
            "align_self": null,
            "height": null,
            "min_height": null,
            "padding": null,
            "grid_auto_rows": null,
            "grid_gap": null,
            "max_width": null,
            "order": null,
            "_view_module_version": "1.2.0",
            "grid_template_areas": null,
            "object_position": null,
            "object_fit": null,
            "grid_auto_columns": null,
            "margin": null,
            "display": null,
            "left": null
          }
        },
        "2491099576c2430d8bf865f7f39ceecd": {
          "model_module": "@jupyter-widgets/controls",
          "model_name": "LabelModel",
          "state": {
            "_view_name": "LabelView",
            "style": "IPY_MODEL_c1d75c6e1b3641a0a5b227145aee903d",
            "_dom_classes": [],
            "description": "",
            "_model_name": "LabelModel",
            "placeholder": "​",
            "_view_module": "@jupyter-widgets/controls",
            "_model_module_version": "1.5.0",
            "value": "Tweet Monitor",
            "_view_count": null,
            "_view_module_version": "1.5.0",
            "description_tooltip": null,
            "_model_module": "@jupyter-widgets/controls",
            "layout": "IPY_MODEL_ae98d0cc26fc4ebf9b720d0f85a7bf66"
          }
        },
        "045a27262b6c48fea54039fd20a7b074": {
          "model_module": "@jupyter-widgets/controls",
          "model_name": "TextModel",
          "state": {
            "_view_name": "TextView",
            "style": "IPY_MODEL_3e908e8b6fa84046abf03c1e4de14003",
            "_dom_classes": [],
            "description": "Username:",
            "_model_name": "TextModel",
            "placeholder": "Type something",
            "_view_module": "@jupyter-widgets/controls",
            "_model_module_version": "1.5.0",
            "value": "@metpoliceuk",
            "_view_count": null,
            "disabled": false,
            "_view_module_version": "1.5.0",
            "continuous_update": true,
            "description_tooltip": null,
            "_model_module": "@jupyter-widgets/controls",
            "layout": "IPY_MODEL_3ecdd57271c94fe5b46936a85344338b"
          }
        },
        "fd7025499fc54ade9c70b248610d562c": {
          "model_module": "@jupyter-widgets/controls",
          "model_name": "TextModel",
          "state": {
            "_view_name": "TextView",
            "style": "IPY_MODEL_ef87006421a444dfbfaa013d29672e74",
            "_dom_classes": [],
            "description": "Date From:",
            "_model_name": "TextModel",
            "placeholder": "Type something",
            "_view_module": "@jupyter-widgets/controls",
            "_model_module_version": "1.5.0",
            "value": "2020-08-27",
            "_view_count": null,
            "disabled": false,
            "_view_module_version": "1.5.0",
            "continuous_update": true,
            "description_tooltip": null,
            "_model_module": "@jupyter-widgets/controls",
            "layout": "IPY_MODEL_c85de8e03fab41dca3795454bb37936a"
          }
        },
        "bee96d17471f4850a30cd57d8f40effb": {
          "model_module": "@jupyter-widgets/controls",
          "model_name": "TextModel",
          "state": {
            "_view_name": "TextView",
            "style": "IPY_MODEL_dc84c8d5fc3548e1aed30f43b030eecf",
            "_dom_classes": [],
            "description": "Date To:",
            "_model_name": "TextModel",
            "placeholder": "Type something",
            "_view_module": "@jupyter-widgets/controls",
            "_model_module_version": "1.5.0",
            "value": "2020-08-28",
            "_view_count": null,
            "disabled": false,
            "_view_module_version": "1.5.0",
            "continuous_update": true,
            "description_tooltip": null,
            "_model_module": "@jupyter-widgets/controls",
            "layout": "IPY_MODEL_1c54026dc56a4e49a50dd2efd4352ee1"
          }
        },
        "aea8322cac5c44c68d9bc1f5516a3d9a": {
          "model_module": "@jupyter-widgets/controls",
          "model_name": "ButtonModel",
          "state": {
            "_view_name": "ButtonView",
            "style": "IPY_MODEL_d2dbad14059b483a820678090755e400",
            "_dom_classes": [],
            "description": "Analyse",
            "_model_name": "ButtonModel",
            "button_style": "",
            "_view_module": "@jupyter-widgets/controls",
            "_model_module_version": "1.5.0",
            "tooltip": "",
            "_view_count": null,
            "disabled": false,
            "_view_module_version": "1.5.0",
            "layout": "IPY_MODEL_63581073f97f491db1e223d4d0a98232",
            "_model_module": "@jupyter-widgets/controls",
            "icon": ""
          }
        },
        "e1744ba31dfa4999b969e675418043ff": {
          "model_module": "@jupyter-widgets/output",
          "model_name": "OutputModel",
          "state": {
            "_view_name": "OutputView",
            "msg_id": "",
            "_dom_classes": [],
            "_model_name": "OutputModel",
            "outputs": [
              {
                "output_type": "stream",
                "metadata": {
                  "tags": []
                },
                "text": "14.7% RW interactions\n",
                "stream": "stdout"
              }
            ],
            "_view_module": "@jupyter-widgets/output",
            "_model_module_version": "1.0.0",
            "_view_count": null,
            "_view_module_version": "1.0.0",
            "layout": "IPY_MODEL_542ea8d102ef41f29449be9749646db6",
            "_model_module": "@jupyter-widgets/output"
          }
        },
        "046096490c954aa0ab0be92e8276b790": {
          "model_module": "@jupyter-widgets/output",
          "model_name": "OutputModel",
          "state": {
            "_view_name": "OutputView",
            "msg_id": "",
            "_dom_classes": [],
            "_model_name": "OutputModel",
            "outputs": [
              {
                "output_type": "stream",
                "metadata": {
                  "tags": []
                },
                "text": "               count  Subjectivity  Polarity\nRW_prediction                               \nFalse            270      0.334618  0.063985\nTrue              31      0.244220  0.020608\n",
                "stream": "stdout"
              }
            ],
            "_view_module": "@jupyter-widgets/output",
            "_model_module_version": "1.0.0",
            "_view_count": null,
            "_view_module_version": "1.0.0",
            "layout": "IPY_MODEL_954644a9aee945d3bd1df219665381ab",
            "_model_module": "@jupyter-widgets/output"
          }
        },
        "99ff149de6a748898e7845ea67f5d392": {
          "model_module": "@jupyter-widgets/output",
          "model_name": "OutputModel",
          "state": {
            "_view_name": "OutputView",
            "msg_id": "",
            "_dom_classes": [],
            "_model_name": "OutputModel",
            "outputs": [
              {
                "output_type": "display_data",
                "metadata": {
                  "tags": []
                },
                "text/html": "<html>\n<head><meta charset=\"utf-8\" /></head>\n<body>\n    <div>\n            <script src=\"https://cdnjs.cloudflare.com/ajax/libs/mathjax/2.7.5/MathJax.js?config=TeX-AMS-MML_SVG\"></script><script type=\"text/javascript\">if (window.MathJax) {MathJax.Hub.Config({SVG: {font: \"STIX-Web\"}});}</script>\n                <script type=\"text/javascript\">window.PlotlyConfig = {MathJaxConfig: 'local'};</script>\n        <script src=\"https://cdn.plot.ly/plotly-latest.min.js\"></script>    \n            <div id=\"4c44cba8-9b2c-4ee5-ab69-1b33e714a48e\" class=\"plotly-graph-div\" style=\"height:525px; width:100%;\"></div>\n            <script type=\"text/javascript\">\n                \n                    window.PLOTLYENV=window.PLOTLYENV || {};\n                    \n                if (document.getElementById(\"4c44cba8-9b2c-4ee5-ab69-1b33e714a48e\")) {\n                    Plotly.newPlot(\n                        '4c44cba8-9b2c-4ee5-ab69-1b33e714a48e',\n                        [{\"alignmentgroup\": \"True\", \"hoverlabel\": {\"namelength\": 0}, \"hovertemplate\": \"color=False<br>count=%{y}\", \"legendgroup\": \"color=False\", \"marker\": {\"color\": \"#636efa\"}, \"name\": \"color=False\", \"offsetgroup\": \"color=False\", \"orientation\": \"v\", \"showlegend\": true, \"textposition\": \"auto\", \"type\": \"bar\", \"xaxis\": \"x\", \"y\": [270], \"yaxis\": \"y\"}, {\"alignmentgroup\": \"True\", \"hoverlabel\": {\"namelength\": 0}, \"hovertemplate\": \"color=True<br>count=%{y}\", \"legendgroup\": \"color=True\", \"marker\": {\"color\": \"#EF553B\"}, \"name\": \"color=True\", \"offsetgroup\": \"color=True\", \"orientation\": \"v\", \"showlegend\": true, \"textposition\": \"auto\", \"type\": \"bar\", \"xaxis\": \"x\", \"y\": [31], \"yaxis\": \"y\"}],\n                        {\"barmode\": \"relative\", \"legend\": {\"tracegroupgap\": 0}, \"margin\": {\"t\": 60}, \"template\": {\"data\": {\"bar\": [{\"error_x\": {\"color\": \"#2a3f5f\"}, \"error_y\": {\"color\": \"#2a3f5f\"}, \"marker\": {\"line\": {\"color\": \"#E5ECF6\", \"width\": 0.5}}, \"type\": \"bar\"}], \"barpolar\": [{\"marker\": {\"line\": {\"color\": \"#E5ECF6\", \"width\": 0.5}}, \"type\": \"barpolar\"}], \"carpet\": [{\"aaxis\": {\"endlinecolor\": \"#2a3f5f\", \"gridcolor\": \"white\", \"linecolor\": \"white\", \"minorgridcolor\": \"white\", \"startlinecolor\": \"#2a3f5f\"}, \"baxis\": {\"endlinecolor\": \"#2a3f5f\", \"gridcolor\": \"white\", \"linecolor\": \"white\", \"minorgridcolor\": \"white\", \"startlinecolor\": \"#2a3f5f\"}, \"type\": \"carpet\"}], \"choropleth\": [{\"colorbar\": {\"outlinewidth\": 0, \"ticks\": \"\"}, \"type\": \"choropleth\"}], \"contour\": [{\"colorbar\": {\"outlinewidth\": 0, \"ticks\": \"\"}, \"colorscale\": [[0.0, \"#0d0887\"], [0.1111111111111111, \"#46039f\"], [0.2222222222222222, \"#7201a8\"], [0.3333333333333333, \"#9c179e\"], [0.4444444444444444, \"#bd3786\"], [0.5555555555555556, \"#d8576b\"], [0.6666666666666666, \"#ed7953\"], [0.7777777777777778, \"#fb9f3a\"], [0.8888888888888888, \"#fdca26\"], [1.0, \"#f0f921\"]], \"type\": \"contour\"}], \"contourcarpet\": [{\"colorbar\": {\"outlinewidth\": 0, \"ticks\": \"\"}, \"type\": \"contourcarpet\"}], \"heatmap\": [{\"colorbar\": {\"outlinewidth\": 0, \"ticks\": \"\"}, \"colorscale\": [[0.0, \"#0d0887\"], [0.1111111111111111, \"#46039f\"], [0.2222222222222222, \"#7201a8\"], [0.3333333333333333, \"#9c179e\"], [0.4444444444444444, \"#bd3786\"], [0.5555555555555556, \"#d8576b\"], [0.6666666666666666, \"#ed7953\"], [0.7777777777777778, \"#fb9f3a\"], [0.8888888888888888, \"#fdca26\"], [1.0, \"#f0f921\"]], \"type\": \"heatmap\"}], \"heatmapgl\": [{\"colorbar\": {\"outlinewidth\": 0, \"ticks\": \"\"}, \"colorscale\": [[0.0, \"#0d0887\"], [0.1111111111111111, \"#46039f\"], [0.2222222222222222, \"#7201a8\"], [0.3333333333333333, \"#9c179e\"], [0.4444444444444444, \"#bd3786\"], [0.5555555555555556, \"#d8576b\"], [0.6666666666666666, \"#ed7953\"], [0.7777777777777778, \"#fb9f3a\"], [0.8888888888888888, \"#fdca26\"], [1.0, \"#f0f921\"]], \"type\": \"heatmapgl\"}], \"histogram\": [{\"marker\": {\"colorbar\": {\"outlinewidth\": 0, \"ticks\": \"\"}}, \"type\": \"histogram\"}], \"histogram2d\": [{\"colorbar\": {\"outlinewidth\": 0, \"ticks\": \"\"}, \"colorscale\": [[0.0, \"#0d0887\"], [0.1111111111111111, \"#46039f\"], [0.2222222222222222, \"#7201a8\"], [0.3333333333333333, \"#9c179e\"], [0.4444444444444444, \"#bd3786\"], [0.5555555555555556, \"#d8576b\"], [0.6666666666666666, \"#ed7953\"], [0.7777777777777778, \"#fb9f3a\"], [0.8888888888888888, \"#fdca26\"], [1.0, \"#f0f921\"]], \"type\": \"histogram2d\"}], \"histogram2dcontour\": [{\"colorbar\": {\"outlinewidth\": 0, \"ticks\": \"\"}, \"colorscale\": [[0.0, \"#0d0887\"], [0.1111111111111111, \"#46039f\"], [0.2222222222222222, \"#7201a8\"], [0.3333333333333333, \"#9c179e\"], [0.4444444444444444, \"#bd3786\"], [0.5555555555555556, \"#d8576b\"], [0.6666666666666666, \"#ed7953\"], [0.7777777777777778, \"#fb9f3a\"], [0.8888888888888888, \"#fdca26\"], [1.0, \"#f0f921\"]], \"type\": \"histogram2dcontour\"}], \"mesh3d\": [{\"colorbar\": {\"outlinewidth\": 0, \"ticks\": \"\"}, \"type\": \"mesh3d\"}], \"parcoords\": [{\"line\": {\"colorbar\": {\"outlinewidth\": 0, \"ticks\": \"\"}}, \"type\": \"parcoords\"}], \"pie\": [{\"automargin\": true, \"type\": \"pie\"}], \"scatter\": [{\"marker\": {\"colorbar\": {\"outlinewidth\": 0, \"ticks\": \"\"}}, \"type\": \"scatter\"}], \"scatter3d\": [{\"line\": {\"colorbar\": {\"outlinewidth\": 0, \"ticks\": \"\"}}, \"marker\": {\"colorbar\": {\"outlinewidth\": 0, \"ticks\": \"\"}}, \"type\": \"scatter3d\"}], \"scattercarpet\": [{\"marker\": {\"colorbar\": {\"outlinewidth\": 0, \"ticks\": \"\"}}, \"type\": \"scattercarpet\"}], \"scattergeo\": [{\"marker\": {\"colorbar\": {\"outlinewidth\": 0, \"ticks\": \"\"}}, \"type\": \"scattergeo\"}], \"scattergl\": [{\"marker\": {\"colorbar\": {\"outlinewidth\": 0, \"ticks\": \"\"}}, \"type\": \"scattergl\"}], \"scattermapbox\": [{\"marker\": {\"colorbar\": {\"outlinewidth\": 0, \"ticks\": \"\"}}, \"type\": \"scattermapbox\"}], \"scatterpolar\": [{\"marker\": {\"colorbar\": {\"outlinewidth\": 0, \"ticks\": \"\"}}, \"type\": \"scatterpolar\"}], \"scatterpolargl\": [{\"marker\": {\"colorbar\": {\"outlinewidth\": 0, \"ticks\": \"\"}}, \"type\": \"scatterpolargl\"}], \"scatterternary\": [{\"marker\": {\"colorbar\": {\"outlinewidth\": 0, \"ticks\": \"\"}}, \"type\": \"scatterternary\"}], \"surface\": [{\"colorbar\": {\"outlinewidth\": 0, \"ticks\": \"\"}, \"colorscale\": [[0.0, \"#0d0887\"], [0.1111111111111111, \"#46039f\"], [0.2222222222222222, \"#7201a8\"], [0.3333333333333333, \"#9c179e\"], [0.4444444444444444, \"#bd3786\"], [0.5555555555555556, \"#d8576b\"], [0.6666666666666666, \"#ed7953\"], [0.7777777777777778, \"#fb9f3a\"], [0.8888888888888888, \"#fdca26\"], [1.0, \"#f0f921\"]], \"type\": \"surface\"}], \"table\": [{\"cells\": {\"fill\": {\"color\": \"#EBF0F8\"}, \"line\": {\"color\": \"white\"}}, \"header\": {\"fill\": {\"color\": \"#C8D4E3\"}, \"line\": {\"color\": \"white\"}}, \"type\": \"table\"}]}, \"layout\": {\"annotationdefaults\": {\"arrowcolor\": \"#2a3f5f\", \"arrowhead\": 0, \"arrowwidth\": 1}, \"coloraxis\": {\"colorbar\": {\"outlinewidth\": 0, \"ticks\": \"\"}}, \"colorscale\": {\"diverging\": [[0, \"#8e0152\"], [0.1, \"#c51b7d\"], [0.2, \"#de77ae\"], [0.3, \"#f1b6da\"], [0.4, \"#fde0ef\"], [0.5, \"#f7f7f7\"], [0.6, \"#e6f5d0\"], [0.7, \"#b8e186\"], [0.8, \"#7fbc41\"], [0.9, \"#4d9221\"], [1, \"#276419\"]], \"sequential\": [[0.0, \"#0d0887\"], [0.1111111111111111, \"#46039f\"], [0.2222222222222222, \"#7201a8\"], [0.3333333333333333, \"#9c179e\"], [0.4444444444444444, \"#bd3786\"], [0.5555555555555556, \"#d8576b\"], [0.6666666666666666, \"#ed7953\"], [0.7777777777777778, \"#fb9f3a\"], [0.8888888888888888, \"#fdca26\"], [1.0, \"#f0f921\"]], \"sequentialminus\": [[0.0, \"#0d0887\"], [0.1111111111111111, \"#46039f\"], [0.2222222222222222, \"#7201a8\"], [0.3333333333333333, \"#9c179e\"], [0.4444444444444444, \"#bd3786\"], [0.5555555555555556, \"#d8576b\"], [0.6666666666666666, \"#ed7953\"], [0.7777777777777778, \"#fb9f3a\"], [0.8888888888888888, \"#fdca26\"], [1.0, \"#f0f921\"]]}, \"colorway\": [\"#636efa\", \"#EF553B\", \"#00cc96\", \"#ab63fa\", \"#FFA15A\", \"#19d3f3\", \"#FF6692\", \"#B6E880\", \"#FF97FF\", \"#FECB52\"], \"font\": {\"color\": \"#2a3f5f\"}, \"geo\": {\"bgcolor\": \"white\", \"lakecolor\": \"white\", \"landcolor\": \"#E5ECF6\", \"showlakes\": true, \"showland\": true, \"subunitcolor\": \"white\"}, \"hoverlabel\": {\"align\": \"left\"}, \"hovermode\": \"closest\", \"mapbox\": {\"style\": \"light\"}, \"paper_bgcolor\": \"white\", \"plot_bgcolor\": \"#E5ECF6\", \"polar\": {\"angularaxis\": {\"gridcolor\": \"white\", \"linecolor\": \"white\", \"ticks\": \"\"}, \"bgcolor\": \"#E5ECF6\", \"radialaxis\": {\"gridcolor\": \"white\", \"linecolor\": \"white\", \"ticks\": \"\"}}, \"scene\": {\"xaxis\": {\"backgroundcolor\": \"#E5ECF6\", \"gridcolor\": \"white\", \"gridwidth\": 2, \"linecolor\": \"white\", \"showbackground\": true, \"ticks\": \"\", \"zerolinecolor\": \"white\"}, \"yaxis\": {\"backgroundcolor\": \"#E5ECF6\", \"gridcolor\": \"white\", \"gridwidth\": 2, \"linecolor\": \"white\", \"showbackground\": true, \"ticks\": \"\", \"zerolinecolor\": \"white\"}, \"zaxis\": {\"backgroundcolor\": \"#E5ECF6\", \"gridcolor\": \"white\", \"gridwidth\": 2, \"linecolor\": \"white\", \"showbackground\": true, \"ticks\": \"\", \"zerolinecolor\": \"white\"}}, \"shapedefaults\": {\"line\": {\"color\": \"#2a3f5f\"}}, \"ternary\": {\"aaxis\": {\"gridcolor\": \"white\", \"linecolor\": \"white\", \"ticks\": \"\"}, \"baxis\": {\"gridcolor\": \"white\", \"linecolor\": \"white\", \"ticks\": \"\"}, \"bgcolor\": \"#E5ECF6\", \"caxis\": {\"gridcolor\": \"white\", \"linecolor\": \"white\", \"ticks\": \"\"}}, \"title\": {\"x\": 0.05}, \"xaxis\": {\"automargin\": true, \"gridcolor\": \"white\", \"linecolor\": \"white\", \"ticks\": \"\", \"title\": {\"standoff\": 15}, \"zerolinecolor\": \"white\", \"zerolinewidth\": 2}, \"yaxis\": {\"automargin\": true, \"gridcolor\": \"white\", \"linecolor\": \"white\", \"ticks\": \"\", \"title\": {\"standoff\": 15}, \"zerolinecolor\": \"white\", \"zerolinewidth\": 2}}}, \"xaxis\": {\"anchor\": \"y\", \"domain\": [0.0, 1.0]}, \"yaxis\": {\"anchor\": \"x\", \"domain\": [0.0, 1.0], \"title\": {\"text\": \"count\"}}},\n                        {\"responsive\": true}\n                    ).then(function(){\n                            \nvar gd = document.getElementById('4c44cba8-9b2c-4ee5-ab69-1b33e714a48e');\nvar x = new MutationObserver(function (mutations, observer) {{\n        var display = window.getComputedStyle(gd).display;\n        if (!display || display === 'none') {{\n            console.log([gd, 'removed!']);\n            Plotly.purge(gd);\n            observer.disconnect();\n        }}\n}});\n\n// Listen for the removal of the full notebook cells\nvar notebookContainer = gd.closest('#notebook-container');\nif (notebookContainer) {{\n    x.observe(notebookContainer, {childList: true});\n}}\n\n// Listen for the clearing of the current output cell\nvar outputEl = gd.closest('.output');\nif (outputEl) {{\n    x.observe(outputEl, {childList: true});\n}}\n\n                        })\n                };\n                \n            </script>\n        </div>\n</body>\n</html>"
              }
            ],
            "_view_module": "@jupyter-widgets/output",
            "_model_module_version": "1.0.0",
            "_view_count": null,
            "_view_module_version": "1.0.0",
            "layout": "IPY_MODEL_3653455e7e074cbc9cd59c4ca5bc4beb",
            "_model_module": "@jupyter-widgets/output"
          }
        },
        "5d6990dfbbdd48cfb8a844c2176f5f3d": {
          "model_module": "@jupyter-widgets/output",
          "model_name": "OutputModel",
          "state": {
            "_view_name": "OutputView",
            "msg_id": "",
            "_dom_classes": [],
            "_model_name": "OutputModel",
            "outputs": [
              {
                "output_type": "display_data",
                "metadata": {
                  "tags": []
                },
                "text/html": "<html>\n<head><meta charset=\"utf-8\" /></head>\n<body>\n    <div>\n            <script src=\"https://cdnjs.cloudflare.com/ajax/libs/mathjax/2.7.5/MathJax.js?config=TeX-AMS-MML_SVG\"></script><script type=\"text/javascript\">if (window.MathJax) {MathJax.Hub.Config({SVG: {font: \"STIX-Web\"}});}</script>\n                <script type=\"text/javascript\">window.PlotlyConfig = {MathJaxConfig: 'local'};</script>\n        <script src=\"https://cdn.plot.ly/plotly-latest.min.js\"></script>    \n            <div id=\"7d494679-d026-4933-b8d5-a970a07ddf40\" class=\"plotly-graph-div\" style=\"height:525px; width:100%;\"></div>\n            <script type=\"text/javascript\">\n                \n                    window.PLOTLYENV=window.PLOTLYENV || {};\n                    \n                if (document.getElementById(\"7d494679-d026-4933-b8d5-a970a07ddf40\")) {\n                    Plotly.newPlot(\n                        '7d494679-d026-4933-b8d5-a970a07ddf40',\n                        [{\"customdata\": [[\"79 badge.............\"], [\"I am a UK modder who does GTA V videos real life videos on the met police front line\"], [\"I am a UK modder who does GTA V videos real life videos on the met police front line\"], [\"Illuminati are cowards Governments bow down to the illuminati Cowards\"], [\"\"], [\"\"], [\"Entrepreneur, Hacker, Photographic Memory, Speaks Russian, Hebrew, English, Arabic and Mandarin - Self Taught.\"], [\"\"], [\"\\ud83c\\udf36G20 YEA UK DELEGATE \\ud83c\\udf36ACTUARY \\ud83c\\udf36 CORPORATE FINANCE \\ud83c\\udf36KPMG Veteran \\ud83c\\udf36REAL ESTATE \\ud83c\\udf36BRAND AMBASSADOR \\ud83c\\udf36NED \\ud83c\\udf36PENSION TRUSTEE \\ud83c\\udf36CHEF \\ud83c\\udf36LFC YNWA\"], [\"I\\u2019m in this for my single parent sister who also has M. E. which the courts, cafcass/guardian and the solicitor all choose to violate the Equalities Act for her\"], [\"I\\u2019m in this for my single parent sister who also has M. E. which the courts, cafcass/guardian and the solicitor all choose to violate the Equalities Act for her\"], [\"Business owner, I won't sugar coat political BS for you. Previous exp in Sports commentary, radio and MOD views are my own. WTO Brexit\"], [\"PECAN OUT NOW https://t.co/NSFYQu8CLi send me beats: Juvi.artist@gmail.com \\ud83c\\uddef\\ud83c\\uddf2\\ud83c\\uddec\\ud83c\\uddfe\"], [\"\"], [\"\"], [\"#BlackLivesMatter|Backup:@bickenwhore\"], [\"Wants U.K. to be free again .\"], [\"Joined Twitter to support @ChrisMaloney77\\ud83c\\uddfa\\ud83c\\uddf8Ambassador 4 @CMTAacademy\\ud83d\\udd7a\\ud83c\\udffc\\ud83d\\udc83\\ud83c\\udffc@alanefc71_alan My \\u201cScouse Fambo\\u201d have all enriched my life tremendously. \\ud83d\\ude18@jbmt1\"], [\"https://t.co/uca36aL6ph\\n\\n-any God damn fool knows this -\\n{how ignorant were we}\\n(thank God for that)\"], [\"I\\u2019m back,\\ud83c\\uddec\\ud83c\\udde7enjoy beer, darts,fishing,punk,UK patriotic,love family and animals, why does the truth hurt so many eh\"], [\"Non PC #Brexit #LFC\"], [\"The man is dead, Mr. Faulkner. Now only the spirit remains.\"], [\"\"], [\"life is for living. One big adventure that includes special genuine trusted friends and family that I truly deeply love very dearly. keep smiling, Gilly x\"], [\"love science and reason,\\nstudying Sports Exercise & nutrition\\nBSc (Hons) \\natheist, \\npowerlifter\"], [\"\"], [\"\"], [\"\"], [\"\"], [\"\"], [\"\"], [\"\"], [\"\"], [\"\"], [\"\"], [\"\"], [\"\"], [\"\"], [\"\"], [\"\"], [\"Ex RAF Air Traffic Control officer. Love banter, wine, gin, sport, travel & plants. Researches aviation stuff. Interested in History. RAFBF volunteer.\"], [\"#goodreads @goodreads #freesoul #traveldiaries #foodie \\\"We do not inherit the earth from ancestors, we borrow it from our children\\\"\"], [\"Therapist| Tea Loving Londoner\"], [\"\"], [\"This is the official Twitter Page for the Neighbourhood Watch Network of the Royal Borough of Greenwich, London. A warm welcome to all our followers\"], [\"In good kompany. worked at mcfc for 12 seasons, north stand 10 and west stand lvl 2 for 2 years.\"], [\"\"], [\"Ticking boxes. Trans-racial Black-trans-women (Still Not Racist \\ud83d\\ude09) \\ud83c\\uddec\\ud83c\\udded\"], [\"\\u26ab\\ufe0f\\u26aa\\ufe0f\"], [\"\"], [\"\\\"The path of the morally righteous is lonely, there are very few and far between who walk it\\\"\\n\\n\\\"Be an enemy to the oppressors and a helper to the oppressed.\\\"\"], [\"\"], [\"\"], [\"\"], [\"\"], [\"\"], [\"Love a hard Brexit, Dom  and Boris. BLM makes my piss boil. Atheist. I deliver heavy loads. Burn the coal, pay the toll.\"], [\"Munro compleatist  Avid cyclist with Dundee Thistle and sometimes engineering. Ex-REME.\"], [\"\"], [\"\"], [\"\"], [\"Male.\\nAnti snowflake. Tory.\\nSTRONGLY believe in a HAND UP rather than a HAND OUT.\\nGladly kneel to our War Heros but NO ONE else!! \\nPro animal rights!!\"], [\"\"], [\"\\u2764\\ufe0fMusic,MUFC,Animals, U.K.Hate #BiasedBBC,#LoathsomeLefties,#CorruptEU.#FollowbackBrexiteersAndPatriots\\ud83c\\uddec\\ud83c\\udde7\\ud83c\\udff4\\udb40\\udc67\\udb40\\udc62\\udb40\\udc73\\udb40\\udc63\\udb40\\udc74\\udb40\\udc7f\\ud83c\\udff4\\udb40\\udc67\\udb40\\udc62\\udb40\\udc77\\udb40\\udc6c\\udb40\\udc73\\udb40\\udc7f\\ud83c\\udff4\\udb40\\udc67\\udb40\\udc62\\udb40\\udc65\\udb40\\udc6e\\udb40\\udc67\\udb40\\udc7f\\ud83c\\uddfa\\ud83c\\uddf8\\ud83c\\uddee\\ud83c\\uddf1\"], [\"\\ud83e\\udd17\\ud83e\\udd17\\ud83e\\udd17\\ud83e\\udd17\\ud83e\\udd17\\ud83e\\udd17\\ud83e\\udd17\\ud83e\\udd17\\ud83e\\udd17\\ud83e\\udd17\\ud83e\\udd17\\ud83e\\udd17\\ud83e\\udd17\"], [\"\"], [\"Socialism = From each according to ability, to each according to need. It should fight injustice, prejudice, inequality and climate change.\"], [\"\\ud83c\\uddec\\ud83c\\udde7\\ud83c\\uddee\\ud83c\\uddea\\ud83c\\uddf3\\ud83c\\uddee\\ud83c\\udde6\\ud83c\\uddfa\\ud83c\\uddfa\\ud83c\\uddf8\\ud83c\\udde9\\ud83c\\uddea\\ud83c\\uddeb\\ud83c\\uddf7\\ud83c\\uddf3\\ud83c\\uddf1\\ud83c\\uddf5\\ud83c\\uddf1\\ud83c\\udde8\\ud83c\\udde6We must leave the EU at all costs! Love trump patriots unite \\ud83c\\uddec\\ud83c\\udde7\\ud83c\\uddee\\ud83c\\uddea\\ud83c\\uddf3\\ud83c\\uddee\\ud83c\\udde6\\ud83c\\uddfa\\ud83c\\uddfa\\ud83c\\uddf8\\ud83c\\udde9\\ud83c\\uddea\\ud83c\\uddeb\\ud83c\\uddf7\\ud83c\\uddf3\\ud83c\\uddf1\\ud83c\\uddf5\\ud83c\\uddf1\\ud83c\\udde8\\ud83c\\udde6\"], [\"Klaatu Barrada Nikto\\n\\n#MBGA \\ud83c\\uddec\\ud83c\\udde7\\ud83c\\uddfa\\ud83c\\uddf8 #MAGA #Brexiteer Leave Means Leave  #WTO is the way to go.\"], [\"Klaatu Barrada Nikto\\n\\n#MBGA \\ud83c\\uddec\\ud83c\\udde7\\ud83c\\uddfa\\ud83c\\uddf8 #MAGA #Brexiteer Leave Means Leave  #WTO is the way to go.\"], [\"Klaatu Barrada Nikto\\n\\n#MBGA \\ud83c\\uddec\\ud83c\\udde7\\ud83c\\uddfa\\ud83c\\uddf8 #MAGA #Brexiteer Leave Means Leave  #WTO is the way to go.\"], [\"Klaatu Barrada Nikto\\n\\n#MBGA \\ud83c\\uddec\\ud83c\\udde7\\ud83c\\uddfa\\ud83c\\uddf8 #MAGA #Brexiteer Leave Means Leave  #WTO is the way to go.\"], [\"\"], [\"Former Scotland Yard Det Supt 30 yrs, Undercover Cop, Major Crime Investigations, Operational Frontline, Pioneered Change, Coach, Mentor & Inspirational Speaker\"], [\"\"], [\"ABSOLUTELY NO FOLLOWERS. THIS IS A TEMPORARY ACCOUNT FOR THE PURPOSE OF MOVEMENT ONLY. I AM GLAD I HAVE EVERYONES ATTENTION. NO FOLLOWERS. ALL EYES ON ME\\ud83d\\udc6e\\ud83c\\udffc\\u200d\\u2642\\ufe0f\"], [\"News,Politics,Sports, Realist. Views on all things sensible. Inquisitive. Say what I see.\"], [\"Happily Retired. Ex SYP. Member of the Referees' Association. S&H County FA Council Member. Enjoy travelling, cruising & cycling\"], [\"no DM's please they won't get answered\"], [\"Professional driver, sports fan, lover of comedy and music and an all round jolly nice fellow.\"], [\"Wife to my wonderful husband.  Crypto enthusiast. Owned by a mad cat. Pronoun: That bitch.\"], [\"\"], [\"Grey haired old Granny.proud of my Queen. Brexiteer.Bring back Britishness.Seems now I\\u2019m a Far Right Thug\\u2019 No.just a Patriot\\ud83c\\udff4\\udb40\\udc67\\udb40\\udc62\\udb40\\udc65\\udb40\\udc6e\\udb40\\udc67\\udb40\\udc7f\\ud83c\\uddec\\ud83c\\udde7\\ud83c\\uddec\\ud83c\\udde7\\ud83c\\udff4\\udb40\\udc67\\udb40\\udc62\\udb40\\udc65\\udb40\\udc6e\\udb40\\udc67\\udb40\\udc7f\"], [\"Proud Uncle, Director @IofPHC @nhsbartshealth @PHMBSc @PHMBSc_alumni A bit of distance swimming @laainthechannel . @NightingaleLDN\"], [\"Former Police Armed Response Sgt. \\nAuthor of 'Firearms and Fatals', Police Consultant,  Public Speaker and former D&C, VIP,  ARV and Traffic Cop.\"], [\"I am a retired NHS nurse. I have Alz/PCA, had a stroke. Have anxiety. Independent lady. Live with 2 Cats. Dementia Envoy for KMPT. Likes Walking, Gardening.\"], [\"Free spirit , Free thinker , Aviator\"], [\"GIVING IS LIVING\"], [\"I am a nice gentleman, kind Hearted, but please don\\u2019t push me buttons.\"], [\"\"], [\"Someone who wants to find out more about everything.\"], [\"\"], [\"london based coffee drinking wine loving beer swiging burger eating golf playing marathon running 30 something  ...liverpool.f.c Y.N.W.A\"], [\"I'm a man who has made mistakes and now I want to help other's so they can have a better life without violence .\"], [\"Like my wine red, my chocolate dark and my music loud. Avid reader and gin lover. #AllLivesMatter. #BritishHistoryMatters #nomasks #scamdemic #coronaphobia\"], [\"Not all Veterans are well off - Campaigning for: HOUSING REFORM #HomeOwnershipForVets\\n#ExemptDepositForVetsToPurchase\\n\\nNOT A CHARITY FOR VETERANS\"], [\"If you see someone without a smile give them one of yours! We all have times when the sun goes behind a cloud, but remember the sun WILL shine again! Be HAPPY!\"], [\"grumpy retired professional scapegoat\"], [\"\"], [\"londoner living in scotland.. F1 fan & bit of a history geek as well as Jedi Knight & protector of the force..\"], [\"\"], [\"FFC\"], [\"DA Survivor. patriot, Brexit. Freedom of speach. No to wokeness, character not skin. The irony of the lefties spouting hate but accusing hate is bizzare..\"], [\"spurs man for more than 50yrs fighting cancer for the second time thank, you Royal Marsden and the NHS, 2019 new start pest control Auditor\\ud83c\\uddec\\ud83c\\udde7\\ud83c\\uddec\\ud83c\\udde7\\ud83c\\uddec\\ud83c\\udde7\\ud83c\\uddec\\ud83c\\udde7\\ud83c\\uddec\\ud83c\\udde7\"], [\"\\u2018Every man thinks meanly of himself for not having been a soldier, or not having been at sea\\u2019. Love rugby, motorbikes & travel. If only I could combine all 3!\"], [\"The truth is not for the faint-hearted, neither are my tweets. All opinions my own. Twitter junkie.\\n\\n#Twitterati #ReapWhatYouSowed #COVID19 #justsaying\"], [\"Dad, family man, riding my motorcycles, running, fitness and the countryside. Grumpy in the mornings but mostly happy \\ud83e\\udd13 CAKE \\u2764\\ufe0f\"], [\"Most comments are deleted at the end of business day.....\"], [\"Driving round the Hat Shop\"], [\"celtic fan\"], [\"tired of being over ruled by a foreign parliament,  I'm very straight forward.. everyone gets a fair chance.. fbpe.. be gone\"], [\"Bachelor of Laws LLB (Hons) & Diploma in Criminology  \\u2728\\u2666\\ufe0f\\u2665\\ufe0f\\u2660\\ufe0f\\u2663\\ufe0f - Finally blocked by Michael Barrymore - POUND SHOP DETECTIVE BASED IN TWITTER POLICE STATION\"], [\"like marmite love me or hate me\"], [\"\"], [\"\"], [\"\"], [\"Medio British, Venezolana y media con olor a coco, indieholic, inked & Engineer. Woman in Tech-UI/UX Designer. En mi vida pasada fui DJ ahora odio los DJs\"], [\"If you do not watch BBC \\\"live\\\" or BBC iplayer, or any other channels \\\"LIVE\\\" to air, then you do not legally need a TV Licence.  We show you how to cancel.\"], [\"British, white lives matter, as do all lives, definitely not woke, can't stand lefties or anyone who hates this country, all for free Speech & not gimmigrants\"], [\"massive bowie fan..wolves till I die..against this massive illegal invasion.grooming gangs & associates must see justice . and luv my music..\"], [\"just me ,I'll be friendly as long as you are ,if turn nasty ,so will I ,suffer from FM ,here to interact with my real friends ,life is too short ,#bekind \\ud83e\\udd1e\"], [\"OU law student interested in criminal law, nocturnal retail security guard and chocolate addict\"], [\"\"], [\"\"], [\"\"], [\"\"], [\"a puffin loving MUM Thin blue line supporter. Sepsis survivor and a bit of a @JDonOfficial fan..\"], [\"23/m. Everything in moderation including moderation. cybersec, gin, @5sos, and crypto-\\u00a3$\\u20ac. buy Innocence Waning on Amazon. #chezroadtrip2020 \\ud83d\\ude00\"], [\"Cyclist, guitarist ex-IBMer after 30 years. Grumpy and bitter.\"], [\"Cyclist, guitarist ex-IBMer after 30 years. Grumpy and bitter.\"], [\"Ethno Nat\\nNO taxation without REPRESENTATION \\nAnti: BLM/ANTIFA, Mayor Khan, Mask Nazi's, and butter beans. \\nParler @Ostentwhistle\"], [\"Mother, educator, lover of theatre and American Football.\"], [\"green badge since 2008 dad of two great lads\"], [\"Enough is enough. When and where will it all end. Armageddon is coming. Don\\u2019t start crying when the \\ud83d\\udca9hits the fan because you ignored the signs. #Arsenal \\ud83d\\udc4a\\ud83c\\udffb\"], [\"\"], [\"Adored by millions once, under another hoofwanking spangletwat name,now just here for the laughs with a select few.\"], [\"T/A: 58ALL - System Architect. Behind bar: The Broken Drum. Religion: Jesus Freak. Owner: https://t.co/zSoKIeb502 Interest: Offshore Wind Farms. Habit: infovore\"], [\"Delivering \\u00a3150m support to the Foundation Industries to promote innovation. Interest in ED&I. Love gardening, dog walking and wine!! Opinions my own...\"], [\"Mum, Radio DJ, Media Grad, CIPD Assoc & lover of techie stuff. I'm a multitasker, rise to a challenge - hate time wasters. Love to laugh & loathe rudeness.\"], [\"32.\\nnew account.\\nMusic lover.\\nGamer.\\nEx mechanic.\\nTrainee Electrician.\\nRunner\\n\\ud83c\\udff9\"], [\"Corrie fan, hates litter & fly tipping, grumpiness made worse by #RLS #MS\"], [\"To pee or no to pee That is the Question.\"], [\"\"], [\"\"], [\"\"], [\"Living my life... my way... at last!!\\n#nevergoback\"], [\"\"], [\"\"], [\"The truth? You can't handle the truth. No, but you're going to need to handle the truth.\"], [\"\"], [\"''The substance of my life is a private conversation with myself which to turn into a dialogue would be equivalent to self destruction''. Iris Murdoch\"], [\"\"], [\"Media and communications consultant\"], [\"Mummy, teacher, friend and cat-lover\"], [\"Revival\"], [\"Miles Cholmondley-Warner, 1930's upholder of the values of the British Empire #BritishIndependence\"], [\"Miles Cholmondley-Warner, 1930's upholder of the values of the British Empire #BritishIndependence\"], [\"Clumsy mum of teens. Part time preeto, full time tweeto. I regret nothing u see on my TL. Once blocked, ur blocked for life. You got lost in my notifications.\"], [\"\"], [\"Hello\\u2026...i am the ghost of troubled Joe, hung by his pretty white neck, some eighteen months ago...\\u2026..\"], [\"Wife; mother of 2; Granna of 4; Trustee for Knitted Knockers UK; retired from teaching and busier than ever. #50sWomen  #BackTo60 No DMs unless invited, thanks\"], [\"\"], [\"Indigenous Whitey, working class and by your definition, thick as \\ud83d\\udca9 and don't know what's good for me,country or kin.\"], [\"keep your head and bide your time, don\\u2019t let the bastards grind you down and remember it\\u2019s still them and us, and I\\u2019m still on us.\"], [\"\"], [\"\"], [\"\"], [\"\"], [\"\"], [\"\"], [\"Scotsman & COVID-19 Volunteer helping to get us get through this madness. Oh, and fighting crazy left wing whining nonsense; dismissing the hypocrisy around us.\"], [\"\\ud83c\\uddec\\ud83c\\udde7 Brexiteer\"], [\"Asthmatic Leeds  fan, who suffers mega breathing problems everytime lufc  play!\"], [\"Mum of a daughter in care #CSE.  Wanting change in the Care & Child Protection System , Mental Health System Survivor.\"], [\"A Danish, Scandinavian, European, Londoner, lover of animals, flowers, nature and positivity with an eye on US politics, Bitcoin and other interesting topics.\"], [\"Toerag with a heart, brain & a bucket full of passion\"], [\"\"], [\"Psychology student at the moment. Loving the simple things in life.\"], [\"\\u2764\\ufe0f\\ud83d\\udc99\\ud83e\\udd85\"], [\"Not left or right both have good and bad points of view.\\nHate Brexit.\"], [\"Response officer with Police Scotland\\ud83c\\udff4\\udb40\\udc67\\udb40\\udc62\\udb40\\udc73\\udb40\\udc63\\udb40\\udc74\\udb40\\udc7f\\ud83c\\udf08\"], [\"Life can get better. You can achieve good things. DMs welcome.  I enjoy tweeting about life, football & politics\"], [\"I tweet therefore I am\"], [\"I tweet therefore I am\"], [\"I tweet therefore I am\"], [\"I tweet therefore I am\"], [\"Nothing is an absolute reality, all is permitted.\"], [\"Former Mil Nurse. Continually pursuing excellence. Advocate 4 Veteran Care. RT not an endorsement. No DM. My views R my own.\"], [\"Actor/Dir/Writer. FX/Hulu/BBC2 DEVS, C4 CHIMERICA, NetflixTOKYO TRIAL, LIFE OF PI, PARADISE WAR, EXIT, DCI BANKS, SPOOKS, EASTENDERS. https://t.co/BnRBa9UWse\"], [\"I'm special.\"], [\"\"], [\"Hate lies\"], [\"Love documentaries, sport and life...\"], [\"cops are people too............now you tell me a joke\"], [\"Rangers fan, enjoys betting horses mainly, loves a day out at the races.\"], [\"Blah, blah, blah. Avoiding mention of my own brilliance.\"], [\"Blah, blah, blah. Avoiding mention of my own brilliance.\"], [\"Blah, blah, blah. Avoiding mention of my own brilliance.\"], [\"Blah, blah, blah. Avoiding mention of my own brilliance.\"], [\"Wrongthink\"], [\"\"], [\"\"], [\"Primary School Teacher - I talk a lot - Snapchat: blacklolly \\ud83c\\udf0d\"], [\"\"], [\"Described as mildly cynical and sarcastic. Policing does that to you.\\ud83d\\udc6e\\n\\n\\u2764\\ufe0f The Jam/Style Council/Weller Mod stuff Golf \\u26f3 Rugby. Union & League. Cardiff City\"], [\"I run https://t.co/xo2xF8savY I'm a personal trainer in London zones 1-3. Try my online nutrition coaching.\"], [\"love my family xx proud mum, Salford reds fan\\ud83d\\udc79\\ud83d\\udc79\\ud83d\\udc79Masketeer \\ud83d\\ude37 Labour voting Manc.3.5% #FBPE Hate Tories and Brexit\"], [\"love my family xx proud mum, Salford reds fan\\ud83d\\udc79\\ud83d\\udc79\\ud83d\\udc79Masketeer \\ud83d\\ude37 Labour voting Manc.3.5% #FBPE Hate Tories and Brexit\"], [\"Ale drinker, Brummie, BCFC, Pork Eater, English 1st British 2nd. Like Europe hate the EU, despise the PC left wing, if you don't like, Do one!!\"], [\"If you owe the bank \\u00a3100 you have a problem, but if you owe \\u00a31Million the bank has a problem... The state of any place is a direct reflection of its inhabitants\"], [\"\"], [\"40 something inked & bearded, Londoner. dog crazy. all views my own etc\"], [\"Pro everything  except celebrities, normality the EU and greengages\"], [\"Couch potato; telly addict; reader; history enthusiast; music lover; atheist; humanist; Blackburn Rovers FC supporter; red wine imbiber; dog fan.\"], [\"\\ud83c\\uddf5\\ud83c\\uddf0| what does one put in a twitter bio?\"], [\"WEST HAM forever \\u2692\"], [\"Royal Navy FAA LA(AH) 16yrs. Disabled War Veteran. Monarchist. All views expressed are my own. RT do not count as endorsement. #expelme \\ud83d\\ude01\"], [\"old fashioned where women are concerned. supportive and honest.\"], [\"Reads books. Thinker/Worrrier. Wants the PD to be EEA/EFTA. Thoughts my own. Admits errors and mistakes. Likes old films. #HarrogateAgenda\"], [\"Political Economy and formerly History student at KCL; social mobility advocate; Spurs and Gers fan; cultural conservative and economic leftist; Unionist \\ud83c\\uddec\\ud83c\\udde7\"], [\"Welcome to my Twitter \\ue415 if you dont like Movies,Wolverhampton Wanderers American TV Shows, food, Literature or WWE then this page isnt for you!! No offence lol\\ue409\"], [\"Gooooner\"], [\"\\u201cFools multiply when wise men are silent.\\u201d\"], [\"ex-bartender, vegan, atheist... that\\u2019ll get right-wing, psychopath gammons blood boiling. \\ud83d\\ude01\"], [\"\"], [\"\"], [\"I love reading. Hate ignorance. Love sweets.  Hate shopping.  Love my dog and my kids.  Tolerate most other people. Love singing badly. Hate being late.\"], [\"\"], [\"football coach, doesn\\u2019t read MSM, doesn\\u2019t suffer fools.\"], [\"Time is short, DON'T let close-minded Conservatives destroy the potential with their mealy minded, scared, greedy, herd-like ugly fear.\"], [\"'Courage doesn't always roar. Sometimes courage is the little voice at the end of the day that says, 'I'll try again tomorrow.\\u2019 (Mary Anne Radmacher)\"], [\"Thot Breaker Jr\"], [\"\"], [\"Guyanese and proud. Leo. living in London. Proud Brexiteer.\"], [\"Done a bit of borstal 2 years In the scrubs now working as a debt collector for a bit of cash in the hand , Mixed Race, Mum from the Punjab father from Peckham\"], [\"Misanthrope with Complex PTSD. \\nMulti Award winning photographer using only mobile.\"], [\"co-founder & director @thegeminiproj \\u2022 adv cmte @lewishamlawcen\\u2696\\ufe0f \\u2022 intolerant to gluten, lactose, tories & injustice \\u2728\"], [\"Chairman: The Gold Association \\ud83c\\uddec\\ud83c\\udde7\\ud83c\\uddec\\ud83c\\uddee\\ud83c\\uddfa\\ud83c\\udde6\"], [\"Scottish, but ashamed of what Scotland has become.\"], [\"Love Jules & my boys & Miss Emilia x\"], [\"I am passionate about animal welfare. The more I learn about people the more I love my dogs. Not on here after a date and I don't suffer fools. #KBF\"], [\"I am passionate about animal welfare. The more I learn about people the more I love my dogs. Not on here after a date and I don't suffer fools. #KBF\"], [\"#Arts, #Crafts, #Cyclist, \\ud83d\\udeb4\\u200d\\u2640 #Nature, #Athlete, #Community, \\ud83c\\udfb6 Soul #Music, JOE, J. Gill, S.K.W., Leyton Benta + more. Mental Health Matters. God-fearing.\"], [\"Your local policing team for #HighStreet in @MPSWForest Do not report crime here, call 101, tweet @MetCC or visit our website. In an emergency call 999\"], [\"Life is not a fairy tale with happy endings. Never trust anyone!\"], [\"Love politics, finance, business...BA(Hon)1st, MBA ... Free speech is nothing if you can\\u2019t offend, but block crude smuttiness - no ff-ing or Lists please \\ud83d\\ude4b\\u200d\\u2640\\ufe0f\"], [\"Nothing makes me special. If you are in the USA, please don't follow - I have no interest in the vast majority of things that interest you.\"], [\"\"], [\"no dms please. get Brexit done. Trump supporter. #greatawakening\"], [\"Former #IRGC hostage & survivor of death penalty (UK-Iran \\u00a3400m case)\\u2022Commentator on Religion & Identity\\u2022Film & Media Studies @KingsCollegeLon + @ucsantabarbara\"], [\"proud all London cab driver since 2002, season tkt holder whufc & luv any music that rocks but mainly Queen, acdc & the boss. RT r not an endorsement\"], [\"2nd Generation Cop | North To South | County Cop To Big City Cop | Like A Bit Of Fitness | Love A Debate | Current Role - AFO \\ud83d\\udc99\\ud83d\\ude93 \\ud83c\\uddec\\ud83c\\udde7#ThinBlueLine #999Family\"], [\"\\u0641\\u064a \\u0645\\u0643\\u0627\\u0646 \\u0645\\u0627 \\u0628\\u064a\\u0646 \\u0627\\u0644\\u0631\\u062d\\u0645 \\u0648\\u0627\\u0644\\u0642\\u0628\\u0631.\"], [\"#WestEnd. #Movies. #SaveTheArtsUK     #DefundTheBBC \\n\\ud83c\\uddec\\ud83c\\udde7 #LandOfHopeAndGlory\\n\\ud83c\\uddec\\ud83c\\udde7 #RuleBritannia\\n\\ud83c\\uddfa\\ud83c\\uddf2 #TRUMP2020 \\n\\ud83c\\uddfa\\ud83c\\uddf2 #MAGA\"], [\"Proud to be British!! couldn\\u2019t give a damn about colour of skin!! can\\u2019t stand ppl abusing Police, or gangs attacking individuals!! BBC SKY  ITV C4 news=SHIT\"], [\"What'd I miss?\"], [\"\"], [\"Average Joe, proud dad and Sunderland fan.\\n\\n#MAGA #Brexiteer #AllLivesMatter #DefundTheBBC #ScumMedia \\ud83c\\udff4\\udb40\\udc67\\udb40\\udc62\\udb40\\udc65\\udb40\\udc6e\\udb40\\udc67\\udb40\\udc7f\\ud83c\\uddfa\\ud83c\\uddf8\\ud83c\\uddee\\ud83c\\uddf1\"], [\"\"], [\"hi am new to Twitter\"], [\"Mufc| Watches |+25 (please No U21s follow me )| Sou\\u0155th Side of that London| Food Lover\\ud83c\\udf7d\\ud83c\\udf57| Infinity War!| Pro Black\\ud83d\\udc4a\\ud83c\\udfff isn't Anti White \\ud83c\\uddef\\ud83c\\uddf2\\ud83c\\uddef\\ud83c\\uddf2\\ud83c\\uddef\\ud83c\\uddf2\\ud83c\\uddef\\ud83c\\uddf2\\ud83c\\uddef\\ud83c\\uddf2\"], [\"London based Scot living the dream. 30+years on the Front Line, loved every minute, nearly.\"], [\"Racialists expect a response\"], [\"\"], [\"All lives matter\"], [\"\"], [\"17\"], [\"https://t.co/ntFHEHoVmN\"], [\"karma is a bitch!! I always follow back \\ud83d\\udc4d \\ud83c\\uddec\\ud83c\\udde7\\ud83c\\uddfa\\ud83c\\uddf2 for those that ask yes i joined in 2014 but account lay dormant until April 2020 \\ud83d\\udc4c\"], [\"\"]], \"hoverlabel\": {\"namelength\": 0}, \"hovertemplate\": \"RW_prediction=False<br>Subjectivity=%{x}<br>Polarity=%{y}<br>Bios=%{customdata[0]}\", \"legendgroup\": \"RW_prediction=False\", \"marker\": {\"color\": \"#636efa\", \"symbol\": \"circle\"}, \"mode\": \"markers\", \"name\": \"RW_prediction=False\", \"showlegend\": true, \"type\": \"scatter\", \"x\": [0.0, 0.0, 0.0, 0.0, 0.0, 0.5, 0.36250000000000004, 1.0, 1.0, 0.7250000000000001, 0.6611111111111112, 0.0, 0.0, 0.0, 0.0, 0.0, 0.5, 0.9, 0.3973639455782313, 0.30000000000000004, 0.125, 0.9, 0.0, 0.6638888888888889, 0.0, 0.9, 0.9, 0.9, 0.8, 0.8, 0.8, 0.9, 0.9, 0.9, 0.9, 0.9, 0.9, 0.0, 0.0, 0.0, 0.5444444444444444, 0.0, 1.0, 0.0, 0.65, 0.0, 0.0, 0.0, 0.0, 0.0, 0.0, 0.5, 0.0, 0.0, 1.0, 1.0, 0.0, 0.35333333333333333, 0.3, 0.9, 1.0, 0.0, 0.5, 0.9, 0.375, 0.0, 0.0, 0.0, 0.0, 0.0, 0.5, 0.5, 0.0, 0.0, 0.0, 0.0, 0.1, 0.3, 0.9, 0.48333333333333334, 0.7, 0.5, 0.3666666666666667, 0.7, 0.3, 0.5333333333333333, 0.0, 0.6, 0.9, 0.5888888888888889, 0.0, 0.5416666666666666, 0.0, 0.665530303030303, 0.2222222222222222, 0.0, 0.0, 0.7951428571428572, 0.5, 0.75, 0.0, 0.0, 0.0, 0.35555555555555557, 0.6642857142857143, 0.0, 0.64375, 0.6, 0.6000000000000001, 0.3055555555555555, 0.0, 0.49017857142857146, 1.0, 0.6000000000000001, 0.75, 0.7055555555555556, 0.5, 0.45000000000000007, 0.0, 0.6666666666666666, 0.5, 0.5714285714285714, 0.2, 0.7, 0.0, 0.3, 0.0, 0.0, 0.7633333333333334, 0.49444444444444446, 0.0, 0.8333333333333334, 0.4375, 0.0, 0.5, 0.0, 0.0, 0.278, 0.0, 0.0, 0.6, 0.0, 0.0, 0.0, 0.4, 0.39999999999999997, 0.55, 0.65, 0.0, 0.125, 0.0, 0.6, 0.0, 0.4, 0.0, 0.0, 0.6319444444444444, 0.0, 0.0, 0.7666666666666666, 0.5333333333333333, 0.45, 0.0, 0.9, 0.0, 0.0, 0.37333333333333335, 0.37333333333333335, 0.5178571428571428, 0.5178571428571428, 0.0, 0.5, 0.0, 0.0, 0.5, 0.0, 0.49999999999999994, 0.0, 0.6222222222222222, 0.35555555555555557, 0.825, 0.0, 0.0, 0.0, 0.7666666666666667, 0.7666666666666667, 0.7166666666666667, 0.0, 0.025, 0.0, 1.0, 0.45454545454545453, 1.0, 0.0, 0.7875, 1.0, 1.0, 0.0, 0.0, 0.2, 0.0, 0.8555555555555555, 0.0, 0.06666666666666667, 0.0, 0.725, 0.0, 0.0, 0.0, 0.5, 0.0, 0.43333333333333335, 0.0, 0.0, 0.0, 0.0, 0.25, 1.0, 0.0, 0.175, 0.1, 0.47777777777777775, 0.9, 0.0, 0.3, 0.6333333333333333, 0.0, 0.0, 0.0, 0.18888888888888888, 0.6000000000000001, 0.6027777777777779, 0.0, 0.0, 0.9, 0.0, 0.0, 0.0, 0.0, 0.0, 0.0, 0.16666666666666666, 0.6000000000000001, 0.2903703703703704, 0.0, 0.0, 0.25, 0.2833333333333333, 0.0, 0.25, 0.4333333333333333, 0.35, 0.0, 0.0, 0.9, 1.0, 0.0, 0.0, 0.5666666666666668, 0.75, 0.0, 0.6000000000000001, 0.0, 0.06666666666666667, 0.75, 0.5, 0.0, 0.0, 0.35833333333333334, 0.8], \"xaxis\": \"x\", \"y\": [0.0, 0.0, 0.0, 0.0, 0.0, 0.075, 0.35, 0.0, 0.0, -0.5125, 0.24444444444444444, 0.0, 0.0, 0.0, 0.0, 0.0, 0.5, 0.7, 0.21105442176870745, 0.2, 0.0, -0.625, 0.0, 0.513888888888889, 0.0, 0.4, 0.4, 0.4, -0.8, -0.8, -0.8, 0.4, 0.4, 0.4, 0.4, 0.4, 0.4, 0.0, 0.0, 0.0, 0.35, 0.0, -0.6, 0.0, 0.5, 0.0, 0.0, 0.0, 0.0, 0.0, 0.0, 0.5, 0.0, 0.0, 0.1, 0.1, 0.0, -0.041666666666666664, 0.25, 0.2, -1.0, 0.0, 0.5, -0.8, -0.125, 0.0, 0.0, 0.0, 0.0, 0.0, 0.0, 0.0, 0.0, 0.0, 0.0, 0.0, -0.1, 0.2, 0.4, 0.35, 0.45, 0.5, 0.024999999999999994, 0.7, 0.6, 0.25, 0.0, 0.5, 0.25, -0.10000000000000002, -0.05, 0.0, 0.0, 0.22765151515151513, -0.013888888888888895, 0.0, 0.0, 0.2624761904761905, 0.5, 0.04999999999999999, 0.0, 0.0, 0.0, 0.17777777777777778, 0.1, 0.0, 0.575, -0.5, 0.7, 0.21111111111111114, 0.0, 0.09642857142857143, 0.0, 0.875, 1.0, 0.03750000000000002, 0.13636363636363635, 0.44999999999999996, 0.0, 0.16666666666666666, 0.5, 0.21428571428571427, -0.3, -0.4, 0.0, 0.2, 0.0, 0.0, -0.38666666666666666, 0.12222222222222222, 0.0, -0.2333333333333333, 0.25, 0.0, 0.5, 0.0, 0.0, 0.54, 0.0, 0.0, -0.3, 0.0, 0.0, 0.0, -0.15, 0.30000000000000004, 0.35, 0.12083333333333333, 0.0, 0.125, -0.05, -0.09999999999999999, 0.0, 0.0062500000000000056, 0.0, 0.0, 0.1875, 0.0, 0.0, 0.27499999999999997, 0.25, 0.0125, 0.0, 0.04999999999999999, 0.0, 0.0, -0.15999999999999998, -0.15999999999999998, 0.35119047619047616, 0.35119047619047616, 0.0, 0.5, 0.0, 0.0, 0.0, 0.0, -0.45, 0.0, -0.16666666666666666, 0.0, 0.175, 0.0, 0.0, 0.0, -0.48333333333333334, -0.48333333333333334, 0.3333333333333333, 0.0, 0.0, 0.0, -1.0, 0.13636363636363635, -1.0, 0.0, 0.15000000000000002, 0.125, 0.125, 0.0, 0.0, 0.25, 0.0, -0.7111111111111111, 0.0, 0.0, 0.0, 0.375, 0.0, 0.0, 0.0, 0.5, 0.0, 0.016666666666666666, 0.0, 0.0, -0.1, 0.0, 0.05, 0.9, 0.0, 0.0125, 0.0, 0.25, -1.0, 0.0, 0.15, 0.19999999999999998, 0.0, 0.0, 0.0, -0.16666666666666666, 0.875, 0.32708333333333334, 0.0, 0.0, -0.35, 0.0, 0.0, 0.0, 0.0, 0.0, 0.0, 0.15, 0.875, 0.10962962962962963, 0.0, 0.0, -0.25, -0.08333333333333333, 0.0, 0.0, -0.35, -0.15000000000000002, 0.0, 0.0, -1.0, 1.0, 0.0, 0.0, 0.26666666666666666, 0.8, 0.0, 0.7, 0.0, 0.0, 0.8, 0.5, 0.0, -0.05, -0.2651041666666667, 0.4], \"yaxis\": \"y\"}, {\"customdata\": [[\"Immigrant proud to be only British.\"], [\"English. Proud Patriot. White. Council house kid. Husband. Father. Leaver. Love Europe. Dislike EU.  Was Labour. Lakes fan. Trump fan. Swamp drainer.\"], [\"Love Boris Johnson. You may not all agree with me but I dont care. That's Democracy and Free Speech in action.\"], [\"Retired. Supports Brexit. Loves Animals esp Cats.\\nLoves 60s 70s Music.  Supports All emergency services, Hates what is happening to this country.\"], [\"Politics, Property and Society\"], [\"Backing Boris & Brexit \\ud83c\\uddec\\ud83c\\udde7\\ud83c\\uddec\\ud83c\\udde7\\ud83c\\uddee\\ud83c\\uddea\\ud83c\\uddee\\ud83c\\uddea\\n Supporter of Trump \\ud83c\\uddfa\\ud83c\\uddf8\\ud83c\\uddfa\\ud83c\\uddf8\\ud83c\\uddfa\\ud83c\\uddf8\\ud83c\\uddfa\\ud83c\\uddf8\\n Hate Labour Liberals Snowflakes Blm\"], [\"Twitter is used for my entertainment. Tweets and Retweets do not imply its true or agreement. DO NO HARM.\"], [\"More support needed for our emergency service personnel \\ud83d\\ude92\\ud83d\\ude91\\ud83d\\ude93\"], [\"\\ud83c\\udde6\\ud83c\\uddfa\\ud83c\\uddec\\ud83c\\udde7\\ud83c\\uddfa\\ud83c\\uddf8\\ud83c\\uddee\\ud83c\\uddf1British patriot, MBGA, MAGA loves TRUMP anti EU, against the Islamification of our great nation put the great back in Britain \\ud83c\\uddec\\ud83c\\udde7\"], [\"Love my country \\nThe truth will set you free. mcfc the only team to come from Manchester. Lived in Oldham but got out.\"], [\"Right of centre. #BexitBritain Love Europe hate #EU. Standing up to threat of EU, Islam & leftwaffe.#AllLivesMatter, 3 twatter bans for wrongthink. Ex job, MPS.\"], [\"#Brexit #Trump2020 \\n\\n#Dyslexia\"], [\"Determined to see my birthright of British Citizenship restored, following disenfranchisement by a racist & hostile State. \\nMore Black's\\nMore Dogs\\nMore Irish\"], [\"Fire Sprinkler Engineer, Fire Sprinkler Designer, Pro Gym, Proud British\"], [\"Hate double standards. Free speech. Hate #EU. Pro Democracy. Despise animal cruelty. Supports Armed Forces and Police. Rule Britannia. God Save the Queen. FB.\"], [\"Dislikes the EU & The Sun Newspaper  suffers from deyslexia Ex British army warrant officer\"], [\"A Trump supporter disgusted with my republican party. Robert E. Lee Great Man. Screw with one Trump supporter you have to deal with us all.\"], [\"#codeofvets \\ud83c\\uddfa\\ud83c\\uddf8Pro Military, Pro LEO \\ud83d\\udc6e\\u200d\\u2640\\ufe0f#BlueFamily #Veteran #FinnsLaw #OnWisconsin #IRideBianchi #ThinBlueLine\"], [\"brexit,hate lockdown,no inboxes\"], [\"LFC, animal \\ud83d\\ude0d, grumpy old git , Carpenter , born \\ud83c\\udff4\\udb40\\udc67\\udb40\\udc62\\udb40\\udc65\\udb40\\udc6e\\udb40\\udc67\\udb40\\udc7f live \\ud83c\\uddea\\ud83c\\uddf8 Socialists want everything you have, except your job. Orwell was a visionary !\"], [\"LFC, animal \\ud83d\\ude0d, grumpy old git , Carpenter , born \\ud83c\\udff4\\udb40\\udc67\\udb40\\udc62\\udb40\\udc65\\udb40\\udc6e\\udb40\\udc67\\udb40\\udc7f live \\ud83c\\uddea\\ud83c\\uddf8 Socialists want everything you have, except your job. Orwell was a visionary !\"], [\"Ex Military, Ex Engineer, now doing some gardening when I feel like it.\"], [\"My mouth is bigger than my shoes. I eat Snowflakes for my dinner. I have no patience with Covidiots.\"], [\"My mouth is bigger than my shoes. I eat Snowflakes for my dinner. I have no patience with Covidiots.\"], [\"#ArsenalFC #ArsenalFamily #Audi #StilliRise Love Peace and Harmony \\ud83c\\udff3\\ufe0f\\u200d\\ud83c\\udf08 @AFC_Legend1 is my Husband \\ud83c\\udff3\\ufe0f\\u200d\\ud83c\\udf08\"], [\"Londoner. Smarter than the average Twitter user. I don't read comments. Block Happy. Allergic to anyone with FBPE in their profile. Not here for your opinion.\"], [\"Loves London Wasps, Green Day and Life\"], [\"Transfers to all London Airports\"], [\"Scot/Brit \\ud83c\\uddec\\ud83c\\udde7 Conservative \\ud83c\\uddec\\ud83c\\udde7 Boris \\ud83c\\uddec\\ud83c\\udde7\"], [\"Dagenham & Redbridge fan - Brexiteer - love travel but hate EU\"], [\"Conservative, gay (most of the time), pro #Brexit.\"]], \"hoverlabel\": {\"namelength\": 0}, \"hovertemplate\": \"RW_prediction=True<br>Subjectivity=%{x}<br>Polarity=%{y}<br>Bios=%{customdata[0]}\", \"legendgroup\": \"RW_prediction=True\", \"marker\": {\"color\": \"#EF553B\", \"symbol\": \"circle\"}, \"mode\": \"markers\", \"name\": \"RW_prediction=True\", \"showlegend\": true, \"type\": \"scatter\", \"x\": [0.0, 0.55, 0.0, 0.0, 0.35, 0.1625, 0.0, 0.0, 0.2, 0.3333333333333333, 0.0, 0.375, 0.0, 0.0, 0.0, 0.06666666666666667, 0.7, 0.0, 0.0, 1.0, 0.1, 1.0, 0.0, 0.0, 0.375, 0.0, 0.575, 0.0, 0.8333333333333334, 0.9, 0.05], \"xaxis\": \"x\", \"y\": [0.0, -0.4, 0.0, 0.0, 0.4125, 0.05, 0.0, 0.0, 0.2, 0.0, 0.0, -0.125, 0.0, 0.0, 0.0, 0.0, -0.15, 0.0, 0.0, 0.5633333333333334, -0.1, 0.0, 0.0, 0.0, -0.1, 0.0, -0.4453125, 0.0, 0.43333333333333335, 0.4, -0.1], \"yaxis\": \"y\"}],\n                        {\"legend\": {\"tracegroupgap\": 0}, \"margin\": {\"t\": 60}, \"template\": {\"data\": {\"bar\": [{\"error_x\": {\"color\": \"#2a3f5f\"}, \"error_y\": {\"color\": \"#2a3f5f\"}, \"marker\": {\"line\": {\"color\": \"#E5ECF6\", \"width\": 0.5}}, \"type\": \"bar\"}], \"barpolar\": [{\"marker\": {\"line\": {\"color\": \"#E5ECF6\", \"width\": 0.5}}, \"type\": \"barpolar\"}], \"carpet\": [{\"aaxis\": {\"endlinecolor\": \"#2a3f5f\", \"gridcolor\": \"white\", \"linecolor\": \"white\", \"minorgridcolor\": \"white\", \"startlinecolor\": \"#2a3f5f\"}, \"baxis\": {\"endlinecolor\": \"#2a3f5f\", \"gridcolor\": \"white\", \"linecolor\": \"white\", \"minorgridcolor\": \"white\", \"startlinecolor\": \"#2a3f5f\"}, \"type\": \"carpet\"}], \"choropleth\": [{\"colorbar\": {\"outlinewidth\": 0, \"ticks\": \"\"}, \"type\": \"choropleth\"}], \"contour\": [{\"colorbar\": {\"outlinewidth\": 0, \"ticks\": \"\"}, \"colorscale\": [[0.0, \"#0d0887\"], [0.1111111111111111, \"#46039f\"], [0.2222222222222222, \"#7201a8\"], [0.3333333333333333, \"#9c179e\"], [0.4444444444444444, \"#bd3786\"], [0.5555555555555556, \"#d8576b\"], [0.6666666666666666, \"#ed7953\"], [0.7777777777777778, \"#fb9f3a\"], [0.8888888888888888, \"#fdca26\"], [1.0, \"#f0f921\"]], \"type\": \"contour\"}], \"contourcarpet\": [{\"colorbar\": {\"outlinewidth\": 0, \"ticks\": \"\"}, \"type\": \"contourcarpet\"}], \"heatmap\": [{\"colorbar\": {\"outlinewidth\": 0, \"ticks\": \"\"}, \"colorscale\": [[0.0, \"#0d0887\"], [0.1111111111111111, \"#46039f\"], [0.2222222222222222, \"#7201a8\"], [0.3333333333333333, \"#9c179e\"], [0.4444444444444444, \"#bd3786\"], [0.5555555555555556, \"#d8576b\"], [0.6666666666666666, \"#ed7953\"], [0.7777777777777778, \"#fb9f3a\"], [0.8888888888888888, \"#fdca26\"], [1.0, \"#f0f921\"]], \"type\": \"heatmap\"}], \"heatmapgl\": [{\"colorbar\": {\"outlinewidth\": 0, \"ticks\": \"\"}, \"colorscale\": [[0.0, \"#0d0887\"], [0.1111111111111111, \"#46039f\"], [0.2222222222222222, \"#7201a8\"], [0.3333333333333333, \"#9c179e\"], [0.4444444444444444, \"#bd3786\"], [0.5555555555555556, \"#d8576b\"], [0.6666666666666666, \"#ed7953\"], [0.7777777777777778, \"#fb9f3a\"], [0.8888888888888888, \"#fdca26\"], [1.0, \"#f0f921\"]], \"type\": \"heatmapgl\"}], \"histogram\": [{\"marker\": {\"colorbar\": {\"outlinewidth\": 0, \"ticks\": \"\"}}, \"type\": \"histogram\"}], \"histogram2d\": [{\"colorbar\": {\"outlinewidth\": 0, \"ticks\": \"\"}, \"colorscale\": [[0.0, \"#0d0887\"], [0.1111111111111111, \"#46039f\"], [0.2222222222222222, \"#7201a8\"], [0.3333333333333333, \"#9c179e\"], [0.4444444444444444, \"#bd3786\"], [0.5555555555555556, \"#d8576b\"], [0.6666666666666666, \"#ed7953\"], [0.7777777777777778, \"#fb9f3a\"], [0.8888888888888888, \"#fdca26\"], [1.0, \"#f0f921\"]], \"type\": \"histogram2d\"}], \"histogram2dcontour\": [{\"colorbar\": {\"outlinewidth\": 0, \"ticks\": \"\"}, \"colorscale\": [[0.0, \"#0d0887\"], [0.1111111111111111, \"#46039f\"], [0.2222222222222222, \"#7201a8\"], [0.3333333333333333, \"#9c179e\"], [0.4444444444444444, \"#bd3786\"], [0.5555555555555556, \"#d8576b\"], [0.6666666666666666, \"#ed7953\"], [0.7777777777777778, \"#fb9f3a\"], [0.8888888888888888, \"#fdca26\"], [1.0, \"#f0f921\"]], \"type\": \"histogram2dcontour\"}], \"mesh3d\": [{\"colorbar\": {\"outlinewidth\": 0, \"ticks\": \"\"}, \"type\": \"mesh3d\"}], \"parcoords\": [{\"line\": {\"colorbar\": {\"outlinewidth\": 0, \"ticks\": \"\"}}, \"type\": \"parcoords\"}], \"pie\": [{\"automargin\": true, \"type\": \"pie\"}], \"scatter\": [{\"marker\": {\"colorbar\": {\"outlinewidth\": 0, \"ticks\": \"\"}}, \"type\": \"scatter\"}], \"scatter3d\": [{\"line\": {\"colorbar\": {\"outlinewidth\": 0, \"ticks\": \"\"}}, \"marker\": {\"colorbar\": {\"outlinewidth\": 0, \"ticks\": \"\"}}, \"type\": \"scatter3d\"}], \"scattercarpet\": [{\"marker\": {\"colorbar\": {\"outlinewidth\": 0, \"ticks\": \"\"}}, \"type\": \"scattercarpet\"}], \"scattergeo\": [{\"marker\": {\"colorbar\": {\"outlinewidth\": 0, \"ticks\": \"\"}}, \"type\": \"scattergeo\"}], \"scattergl\": [{\"marker\": {\"colorbar\": {\"outlinewidth\": 0, \"ticks\": \"\"}}, \"type\": \"scattergl\"}], \"scattermapbox\": [{\"marker\": {\"colorbar\": {\"outlinewidth\": 0, \"ticks\": \"\"}}, \"type\": \"scattermapbox\"}], \"scatterpolar\": [{\"marker\": {\"colorbar\": {\"outlinewidth\": 0, \"ticks\": \"\"}}, \"type\": \"scatterpolar\"}], \"scatterpolargl\": [{\"marker\": {\"colorbar\": {\"outlinewidth\": 0, \"ticks\": \"\"}}, \"type\": \"scatterpolargl\"}], \"scatterternary\": [{\"marker\": {\"colorbar\": {\"outlinewidth\": 0, \"ticks\": \"\"}}, \"type\": \"scatterternary\"}], \"surface\": [{\"colorbar\": {\"outlinewidth\": 0, \"ticks\": \"\"}, \"colorscale\": [[0.0, \"#0d0887\"], [0.1111111111111111, \"#46039f\"], [0.2222222222222222, \"#7201a8\"], [0.3333333333333333, \"#9c179e\"], [0.4444444444444444, \"#bd3786\"], [0.5555555555555556, \"#d8576b\"], [0.6666666666666666, \"#ed7953\"], [0.7777777777777778, \"#fb9f3a\"], [0.8888888888888888, \"#fdca26\"], [1.0, \"#f0f921\"]], \"type\": \"surface\"}], \"table\": [{\"cells\": {\"fill\": {\"color\": \"#EBF0F8\"}, \"line\": {\"color\": \"white\"}}, \"header\": {\"fill\": {\"color\": \"#C8D4E3\"}, \"line\": {\"color\": \"white\"}}, \"type\": \"table\"}]}, \"layout\": {\"annotationdefaults\": {\"arrowcolor\": \"#2a3f5f\", \"arrowhead\": 0, \"arrowwidth\": 1}, \"coloraxis\": {\"colorbar\": {\"outlinewidth\": 0, \"ticks\": \"\"}}, \"colorscale\": {\"diverging\": [[0, \"#8e0152\"], [0.1, \"#c51b7d\"], [0.2, \"#de77ae\"], [0.3, \"#f1b6da\"], [0.4, \"#fde0ef\"], [0.5, \"#f7f7f7\"], [0.6, \"#e6f5d0\"], [0.7, \"#b8e186\"], [0.8, \"#7fbc41\"], [0.9, \"#4d9221\"], [1, \"#276419\"]], \"sequential\": [[0.0, \"#0d0887\"], [0.1111111111111111, \"#46039f\"], [0.2222222222222222, \"#7201a8\"], [0.3333333333333333, \"#9c179e\"], [0.4444444444444444, \"#bd3786\"], [0.5555555555555556, \"#d8576b\"], [0.6666666666666666, \"#ed7953\"], [0.7777777777777778, \"#fb9f3a\"], [0.8888888888888888, \"#fdca26\"], [1.0, \"#f0f921\"]], \"sequentialminus\": [[0.0, \"#0d0887\"], [0.1111111111111111, \"#46039f\"], [0.2222222222222222, \"#7201a8\"], [0.3333333333333333, \"#9c179e\"], [0.4444444444444444, \"#bd3786\"], [0.5555555555555556, \"#d8576b\"], [0.6666666666666666, \"#ed7953\"], [0.7777777777777778, \"#fb9f3a\"], [0.8888888888888888, \"#fdca26\"], [1.0, \"#f0f921\"]]}, \"colorway\": [\"#636efa\", \"#EF553B\", \"#00cc96\", \"#ab63fa\", \"#FFA15A\", \"#19d3f3\", \"#FF6692\", \"#B6E880\", \"#FF97FF\", \"#FECB52\"], \"font\": {\"color\": \"#2a3f5f\"}, \"geo\": {\"bgcolor\": \"white\", \"lakecolor\": \"white\", \"landcolor\": \"#E5ECF6\", \"showlakes\": true, \"showland\": true, \"subunitcolor\": \"white\"}, \"hoverlabel\": {\"align\": \"left\"}, \"hovermode\": \"closest\", \"mapbox\": {\"style\": \"light\"}, \"paper_bgcolor\": \"white\", \"plot_bgcolor\": \"#E5ECF6\", \"polar\": {\"angularaxis\": {\"gridcolor\": \"white\", \"linecolor\": \"white\", \"ticks\": \"\"}, \"bgcolor\": \"#E5ECF6\", \"radialaxis\": {\"gridcolor\": \"white\", \"linecolor\": \"white\", \"ticks\": \"\"}}, \"scene\": {\"xaxis\": {\"backgroundcolor\": \"#E5ECF6\", \"gridcolor\": \"white\", \"gridwidth\": 2, \"linecolor\": \"white\", \"showbackground\": true, \"ticks\": \"\", \"zerolinecolor\": \"white\"}, \"yaxis\": {\"backgroundcolor\": \"#E5ECF6\", \"gridcolor\": \"white\", \"gridwidth\": 2, \"linecolor\": \"white\", \"showbackground\": true, \"ticks\": \"\", \"zerolinecolor\": \"white\"}, \"zaxis\": {\"backgroundcolor\": \"#E5ECF6\", \"gridcolor\": \"white\", \"gridwidth\": 2, \"linecolor\": \"white\", \"showbackground\": true, \"ticks\": \"\", \"zerolinecolor\": \"white\"}}, \"shapedefaults\": {\"line\": {\"color\": \"#2a3f5f\"}}, \"ternary\": {\"aaxis\": {\"gridcolor\": \"white\", \"linecolor\": \"white\", \"ticks\": \"\"}, \"baxis\": {\"gridcolor\": \"white\", \"linecolor\": \"white\", \"ticks\": \"\"}, \"bgcolor\": \"#E5ECF6\", \"caxis\": {\"gridcolor\": \"white\", \"linecolor\": \"white\", \"ticks\": \"\"}}, \"title\": {\"x\": 0.05}, \"xaxis\": {\"automargin\": true, \"gridcolor\": \"white\", \"linecolor\": \"white\", \"ticks\": \"\", \"title\": {\"standoff\": 15}, \"zerolinecolor\": \"white\", \"zerolinewidth\": 2}, \"yaxis\": {\"automargin\": true, \"gridcolor\": \"white\", \"linecolor\": \"white\", \"ticks\": \"\", \"title\": {\"standoff\": 15}, \"zerolinecolor\": \"white\", \"zerolinewidth\": 2}}}, \"xaxis\": {\"anchor\": \"y\", \"domain\": [0.0, 1.0], \"range\": [-0.1, 1.1], \"title\": {\"text\": \"Subjectivity\"}}, \"yaxis\": {\"anchor\": \"x\", \"domain\": [0.0, 1.0], \"range\": [-1.1, 1.1], \"title\": {\"text\": \"Polarity\"}}},\n                        {\"responsive\": true}\n                    ).then(function(){\n                            \nvar gd = document.getElementById('7d494679-d026-4933-b8d5-a970a07ddf40');\nvar x = new MutationObserver(function (mutations, observer) {{\n        var display = window.getComputedStyle(gd).display;\n        if (!display || display === 'none') {{\n            console.log([gd, 'removed!']);\n            Plotly.purge(gd);\n            observer.disconnect();\n        }}\n}});\n\n// Listen for the removal of the full notebook cells\nvar notebookContainer = gd.closest('#notebook-container');\nif (notebookContainer) {{\n    x.observe(notebookContainer, {childList: true});\n}}\n\n// Listen for the clearing of the current output cell\nvar outputEl = gd.closest('.output');\nif (outputEl) {{\n    x.observe(outputEl, {childList: true});\n}}\n\n                        })\n                };\n                \n            </script>\n        </div>\n</body>\n</html>"
              }
            ],
            "_view_module": "@jupyter-widgets/output",
            "_model_module_version": "1.0.0",
            "_view_count": null,
            "_view_module_version": "1.0.0",
            "layout": "IPY_MODEL_f598a2c667ef46ed9b49e06ea2a9153f",
            "_model_module": "@jupyter-widgets/output"
          }
        },
        "c1d75c6e1b3641a0a5b227145aee903d": {
          "model_module": "@jupyter-widgets/controls",
          "model_name": "DescriptionStyleModel",
          "state": {
            "_view_name": "StyleView",
            "_model_name": "DescriptionStyleModel",
            "description_width": "",
            "_view_module": "@jupyter-widgets/base",
            "_model_module_version": "1.5.0",
            "_view_count": null,
            "_view_module_version": "1.2.0",
            "_model_module": "@jupyter-widgets/controls"
          }
        },
        "ae98d0cc26fc4ebf9b720d0f85a7bf66": {
          "model_module": "@jupyter-widgets/base",
          "model_name": "LayoutModel",
          "state": {
            "_view_name": "LayoutView",
            "grid_template_rows": null,
            "right": null,
            "justify_content": null,
            "_view_module": "@jupyter-widgets/base",
            "overflow": null,
            "_model_module_version": "1.2.0",
            "_view_count": null,
            "flex_flow": null,
            "width": null,
            "min_width": null,
            "border": null,
            "align_items": null,
            "bottom": null,
            "_model_module": "@jupyter-widgets/base",
            "top": null,
            "grid_column": null,
            "overflow_y": null,
            "overflow_x": null,
            "grid_auto_flow": null,
            "grid_area": null,
            "grid_template_columns": null,
            "flex": null,
            "_model_name": "LayoutModel",
            "justify_items": null,
            "grid_row": null,
            "max_height": null,
            "align_content": null,
            "visibility": null,
            "align_self": null,
            "height": null,
            "min_height": null,
            "padding": null,
            "grid_auto_rows": null,
            "grid_gap": null,
            "max_width": null,
            "order": null,
            "_view_module_version": "1.2.0",
            "grid_template_areas": null,
            "object_position": null,
            "object_fit": null,
            "grid_auto_columns": null,
            "margin": null,
            "display": null,
            "left": null
          }
        },
        "3e908e8b6fa84046abf03c1e4de14003": {
          "model_module": "@jupyter-widgets/controls",
          "model_name": "DescriptionStyleModel",
          "state": {
            "_view_name": "StyleView",
            "_model_name": "DescriptionStyleModel",
            "description_width": "",
            "_view_module": "@jupyter-widgets/base",
            "_model_module_version": "1.5.0",
            "_view_count": null,
            "_view_module_version": "1.2.0",
            "_model_module": "@jupyter-widgets/controls"
          }
        },
        "3ecdd57271c94fe5b46936a85344338b": {
          "model_module": "@jupyter-widgets/base",
          "model_name": "LayoutModel",
          "state": {
            "_view_name": "LayoutView",
            "grid_template_rows": null,
            "right": null,
            "justify_content": null,
            "_view_module": "@jupyter-widgets/base",
            "overflow": null,
            "_model_module_version": "1.2.0",
            "_view_count": null,
            "flex_flow": null,
            "width": null,
            "min_width": null,
            "border": null,
            "align_items": null,
            "bottom": null,
            "_model_module": "@jupyter-widgets/base",
            "top": null,
            "grid_column": null,
            "overflow_y": null,
            "overflow_x": null,
            "grid_auto_flow": null,
            "grid_area": null,
            "grid_template_columns": null,
            "flex": null,
            "_model_name": "LayoutModel",
            "justify_items": null,
            "grid_row": null,
            "max_height": null,
            "align_content": null,
            "visibility": null,
            "align_self": null,
            "height": null,
            "min_height": null,
            "padding": null,
            "grid_auto_rows": null,
            "grid_gap": null,
            "max_width": null,
            "order": null,
            "_view_module_version": "1.2.0",
            "grid_template_areas": null,
            "object_position": null,
            "object_fit": null,
            "grid_auto_columns": null,
            "margin": null,
            "display": null,
            "left": null
          }
        },
        "ef87006421a444dfbfaa013d29672e74": {
          "model_module": "@jupyter-widgets/controls",
          "model_name": "DescriptionStyleModel",
          "state": {
            "_view_name": "StyleView",
            "_model_name": "DescriptionStyleModel",
            "description_width": "",
            "_view_module": "@jupyter-widgets/base",
            "_model_module_version": "1.5.0",
            "_view_count": null,
            "_view_module_version": "1.2.0",
            "_model_module": "@jupyter-widgets/controls"
          }
        },
        "c85de8e03fab41dca3795454bb37936a": {
          "model_module": "@jupyter-widgets/base",
          "model_name": "LayoutModel",
          "state": {
            "_view_name": "LayoutView",
            "grid_template_rows": null,
            "right": null,
            "justify_content": null,
            "_view_module": "@jupyter-widgets/base",
            "overflow": null,
            "_model_module_version": "1.2.0",
            "_view_count": null,
            "flex_flow": null,
            "width": null,
            "min_width": null,
            "border": null,
            "align_items": null,
            "bottom": null,
            "_model_module": "@jupyter-widgets/base",
            "top": null,
            "grid_column": null,
            "overflow_y": null,
            "overflow_x": null,
            "grid_auto_flow": null,
            "grid_area": null,
            "grid_template_columns": null,
            "flex": null,
            "_model_name": "LayoutModel",
            "justify_items": null,
            "grid_row": null,
            "max_height": null,
            "align_content": null,
            "visibility": null,
            "align_self": null,
            "height": null,
            "min_height": null,
            "padding": null,
            "grid_auto_rows": null,
            "grid_gap": null,
            "max_width": null,
            "order": null,
            "_view_module_version": "1.2.0",
            "grid_template_areas": null,
            "object_position": null,
            "object_fit": null,
            "grid_auto_columns": null,
            "margin": null,
            "display": null,
            "left": null
          }
        },
        "dc84c8d5fc3548e1aed30f43b030eecf": {
          "model_module": "@jupyter-widgets/controls",
          "model_name": "DescriptionStyleModel",
          "state": {
            "_view_name": "StyleView",
            "_model_name": "DescriptionStyleModel",
            "description_width": "",
            "_view_module": "@jupyter-widgets/base",
            "_model_module_version": "1.5.0",
            "_view_count": null,
            "_view_module_version": "1.2.0",
            "_model_module": "@jupyter-widgets/controls"
          }
        },
        "1c54026dc56a4e49a50dd2efd4352ee1": {
          "model_module": "@jupyter-widgets/base",
          "model_name": "LayoutModel",
          "state": {
            "_view_name": "LayoutView",
            "grid_template_rows": null,
            "right": null,
            "justify_content": null,
            "_view_module": "@jupyter-widgets/base",
            "overflow": null,
            "_model_module_version": "1.2.0",
            "_view_count": null,
            "flex_flow": null,
            "width": null,
            "min_width": null,
            "border": null,
            "align_items": null,
            "bottom": null,
            "_model_module": "@jupyter-widgets/base",
            "top": null,
            "grid_column": null,
            "overflow_y": null,
            "overflow_x": null,
            "grid_auto_flow": null,
            "grid_area": null,
            "grid_template_columns": null,
            "flex": null,
            "_model_name": "LayoutModel",
            "justify_items": null,
            "grid_row": null,
            "max_height": null,
            "align_content": null,
            "visibility": null,
            "align_self": null,
            "height": null,
            "min_height": null,
            "padding": null,
            "grid_auto_rows": null,
            "grid_gap": null,
            "max_width": null,
            "order": null,
            "_view_module_version": "1.2.0",
            "grid_template_areas": null,
            "object_position": null,
            "object_fit": null,
            "grid_auto_columns": null,
            "margin": null,
            "display": null,
            "left": null
          }
        },
        "d2dbad14059b483a820678090755e400": {
          "model_module": "@jupyter-widgets/controls",
          "model_name": "ButtonStyleModel",
          "state": {
            "_view_name": "StyleView",
            "_model_name": "ButtonStyleModel",
            "_view_module": "@jupyter-widgets/base",
            "_model_module_version": "1.5.0",
            "_view_count": null,
            "button_color": null,
            "font_weight": "",
            "_view_module_version": "1.2.0",
            "_model_module": "@jupyter-widgets/controls"
          }
        },
        "63581073f97f491db1e223d4d0a98232": {
          "model_module": "@jupyter-widgets/base",
          "model_name": "LayoutModel",
          "state": {
            "_view_name": "LayoutView",
            "grid_template_rows": null,
            "right": null,
            "justify_content": null,
            "_view_module": "@jupyter-widgets/base",
            "overflow": null,
            "_model_module_version": "1.2.0",
            "_view_count": null,
            "flex_flow": null,
            "width": null,
            "min_width": null,
            "border": null,
            "align_items": null,
            "bottom": null,
            "_model_module": "@jupyter-widgets/base",
            "top": null,
            "grid_column": null,
            "overflow_y": null,
            "overflow_x": null,
            "grid_auto_flow": null,
            "grid_area": null,
            "grid_template_columns": null,
            "flex": null,
            "_model_name": "LayoutModel",
            "justify_items": null,
            "grid_row": null,
            "max_height": null,
            "align_content": null,
            "visibility": null,
            "align_self": null,
            "height": null,
            "min_height": null,
            "padding": null,
            "grid_auto_rows": null,
            "grid_gap": null,
            "max_width": null,
            "order": null,
            "_view_module_version": "1.2.0",
            "grid_template_areas": null,
            "object_position": null,
            "object_fit": null,
            "grid_auto_columns": null,
            "margin": null,
            "display": null,
            "left": null
          }
        },
        "542ea8d102ef41f29449be9749646db6": {
          "model_module": "@jupyter-widgets/base",
          "model_name": "LayoutModel",
          "state": {
            "_view_name": "LayoutView",
            "grid_template_rows": null,
            "right": null,
            "justify_content": null,
            "_view_module": "@jupyter-widgets/base",
            "overflow": null,
            "_model_module_version": "1.2.0",
            "_view_count": null,
            "flex_flow": null,
            "width": null,
            "min_width": null,
            "border": "1px solid black",
            "align_items": null,
            "bottom": null,
            "_model_module": "@jupyter-widgets/base",
            "top": null,
            "grid_column": null,
            "overflow_y": null,
            "overflow_x": null,
            "grid_auto_flow": null,
            "grid_area": null,
            "grid_template_columns": null,
            "flex": null,
            "_model_name": "LayoutModel",
            "justify_items": null,
            "grid_row": null,
            "max_height": null,
            "align_content": null,
            "visibility": null,
            "align_self": null,
            "height": null,
            "min_height": null,
            "padding": null,
            "grid_auto_rows": null,
            "grid_gap": null,
            "max_width": null,
            "order": null,
            "_view_module_version": "1.2.0",
            "grid_template_areas": null,
            "object_position": null,
            "object_fit": null,
            "grid_auto_columns": null,
            "margin": null,
            "display": null,
            "left": null
          }
        },
        "954644a9aee945d3bd1df219665381ab": {
          "model_module": "@jupyter-widgets/base",
          "model_name": "LayoutModel",
          "state": {
            "_view_name": "LayoutView",
            "grid_template_rows": null,
            "right": null,
            "justify_content": null,
            "_view_module": "@jupyter-widgets/base",
            "overflow": null,
            "_model_module_version": "1.2.0",
            "_view_count": null,
            "flex_flow": null,
            "width": null,
            "min_width": null,
            "border": "1px solid black",
            "align_items": null,
            "bottom": null,
            "_model_module": "@jupyter-widgets/base",
            "top": null,
            "grid_column": null,
            "overflow_y": null,
            "overflow_x": null,
            "grid_auto_flow": null,
            "grid_area": null,
            "grid_template_columns": null,
            "flex": null,
            "_model_name": "LayoutModel",
            "justify_items": null,
            "grid_row": null,
            "max_height": null,
            "align_content": null,
            "visibility": null,
            "align_self": null,
            "height": null,
            "min_height": null,
            "padding": null,
            "grid_auto_rows": null,
            "grid_gap": null,
            "max_width": null,
            "order": null,
            "_view_module_version": "1.2.0",
            "grid_template_areas": null,
            "object_position": null,
            "object_fit": null,
            "grid_auto_columns": null,
            "margin": null,
            "display": null,
            "left": null
          }
        },
        "3653455e7e074cbc9cd59c4ca5bc4beb": {
          "model_module": "@jupyter-widgets/base",
          "model_name": "LayoutModel",
          "state": {
            "_view_name": "LayoutView",
            "grid_template_rows": null,
            "right": null,
            "justify_content": null,
            "_view_module": "@jupyter-widgets/base",
            "overflow": null,
            "_model_module_version": "1.2.0",
            "_view_count": null,
            "flex_flow": null,
            "width": null,
            "min_width": null,
            "border": "1px solid black",
            "align_items": null,
            "bottom": null,
            "_model_module": "@jupyter-widgets/base",
            "top": null,
            "grid_column": null,
            "overflow_y": null,
            "overflow_x": null,
            "grid_auto_flow": null,
            "grid_area": null,
            "grid_template_columns": null,
            "flex": null,
            "_model_name": "LayoutModel",
            "justify_items": null,
            "grid_row": null,
            "max_height": null,
            "align_content": null,
            "visibility": null,
            "align_self": null,
            "height": null,
            "min_height": null,
            "padding": null,
            "grid_auto_rows": null,
            "grid_gap": null,
            "max_width": null,
            "order": null,
            "_view_module_version": "1.2.0",
            "grid_template_areas": null,
            "object_position": null,
            "object_fit": null,
            "grid_auto_columns": null,
            "margin": null,
            "display": null,
            "left": null
          }
        },
        "f598a2c667ef46ed9b49e06ea2a9153f": {
          "model_module": "@jupyter-widgets/base",
          "model_name": "LayoutModel",
          "state": {
            "_view_name": "LayoutView",
            "grid_template_rows": null,
            "right": null,
            "justify_content": null,
            "_view_module": "@jupyter-widgets/base",
            "overflow": null,
            "_model_module_version": "1.2.0",
            "_view_count": null,
            "flex_flow": null,
            "width": null,
            "min_width": null,
            "border": "1px solid black",
            "align_items": null,
            "bottom": null,
            "_model_module": "@jupyter-widgets/base",
            "top": null,
            "grid_column": null,
            "overflow_y": null,
            "overflow_x": null,
            "grid_auto_flow": null,
            "grid_area": null,
            "grid_template_columns": null,
            "flex": null,
            "_model_name": "LayoutModel",
            "justify_items": null,
            "grid_row": null,
            "max_height": null,
            "align_content": null,
            "visibility": null,
            "align_self": null,
            "height": null,
            "min_height": null,
            "padding": null,
            "grid_auto_rows": null,
            "grid_gap": null,
            "max_width": null,
            "order": null,
            "_view_module_version": "1.2.0",
            "grid_template_areas": null,
            "object_position": null,
            "object_fit": null,
            "grid_auto_columns": null,
            "margin": null,
            "display": null,
            "left": null
          }
        },
        "3c6b8b838beb4e87a602c525bb122afd": {
          "model_module": "@jupyter-widgets/controls",
          "model_name": "VBoxModel",
          "state": {
            "_view_name": "VBoxView",
            "_dom_classes": [],
            "_model_name": "VBoxModel",
            "_view_module": "@jupyter-widgets/controls",
            "_model_module_version": "1.5.0",
            "_view_count": null,
            "_view_module_version": "1.5.0",
            "box_style": "",
            "layout": "IPY_MODEL_3a95f420d0d2496cb440d239289e5074",
            "_model_module": "@jupyter-widgets/controls",
            "children": [
              "IPY_MODEL_242704431dac4c0780d75f596041f7fc",
              "IPY_MODEL_b76c9b7027764ad18cb489c55976f52d",
              "IPY_MODEL_9e4383b103584c9bb848fa8ab6abe2f4",
              "IPY_MODEL_818d319a942443318ac484e3a9236c3a"
            ]
          }
        },
        "3a95f420d0d2496cb440d239289e5074": {
          "model_module": "@jupyter-widgets/base",
          "model_name": "LayoutModel",
          "state": {
            "_view_name": "LayoutView",
            "grid_template_rows": null,
            "right": null,
            "justify_content": null,
            "_view_module": "@jupyter-widgets/base",
            "overflow": null,
            "_model_module_version": "1.2.0",
            "_view_count": null,
            "flex_flow": null,
            "width": null,
            "min_width": null,
            "border": null,
            "align_items": null,
            "bottom": null,
            "_model_module": "@jupyter-widgets/base",
            "top": null,
            "grid_column": null,
            "overflow_y": null,
            "overflow_x": null,
            "grid_auto_flow": null,
            "grid_area": null,
            "grid_template_columns": null,
            "flex": null,
            "_model_name": "LayoutModel",
            "justify_items": null,
            "grid_row": null,
            "max_height": null,
            "align_content": null,
            "visibility": null,
            "align_self": null,
            "height": null,
            "min_height": null,
            "padding": null,
            "grid_auto_rows": null,
            "grid_gap": null,
            "max_width": null,
            "order": null,
            "_view_module_version": "1.2.0",
            "grid_template_areas": null,
            "object_position": null,
            "object_fit": null,
            "grid_auto_columns": null,
            "margin": null,
            "display": null,
            "left": null
          }
        },
        "242704431dac4c0780d75f596041f7fc": {
          "model_module": "@jupyter-widgets/controls",
          "model_name": "LabelModel",
          "state": {
            "_view_name": "LabelView",
            "style": "IPY_MODEL_87125ace641240078e7db90b5b2fea5c",
            "_dom_classes": [],
            "description": "",
            "_model_name": "LabelModel",
            "placeholder": "​",
            "_view_module": "@jupyter-widgets/controls",
            "_model_module_version": "1.5.0",
            "value": "Output Test",
            "_view_count": null,
            "_view_module_version": "1.5.0",
            "description_tooltip": null,
            "_model_module": "@jupyter-widgets/controls",
            "layout": "IPY_MODEL_001a5f3e380942c798b21dd3a822acf6"
          }
        },
        "b76c9b7027764ad18cb489c55976f52d": {
          "model_module": "@jupyter-widgets/controls",
          "model_name": "TextModel",
          "state": {
            "_view_name": "TextView",
            "style": "IPY_MODEL_1385ae4e18fc44649f64628c8534089c",
            "_dom_classes": [],
            "description": "String:",
            "_model_name": "TextModel",
            "placeholder": "Type something",
            "_view_module": "@jupyter-widgets/controls",
            "_model_module_version": "1.5.0",
            "value": "Support our troops",
            "_view_count": null,
            "disabled": false,
            "_view_module_version": "1.5.0",
            "continuous_update": true,
            "description_tooltip": null,
            "_model_module": "@jupyter-widgets/controls",
            "layout": "IPY_MODEL_fe1080f9e893447199f245caffd94441"
          }
        },
        "9e4383b103584c9bb848fa8ab6abe2f4": {
          "model_module": "@jupyter-widgets/controls",
          "model_name": "ButtonModel",
          "state": {
            "_view_name": "ButtonView",
            "style": "IPY_MODEL_2e8de7edeaa54617880f7adace0ffff9",
            "_dom_classes": [],
            "description": "Test",
            "_model_name": "ButtonModel",
            "button_style": "",
            "_view_module": "@jupyter-widgets/controls",
            "_model_module_version": "1.5.0",
            "tooltip": "",
            "_view_count": null,
            "disabled": false,
            "_view_module_version": "1.5.0",
            "layout": "IPY_MODEL_7fef4cecff6e4798b806b3b21ad288b5",
            "_model_module": "@jupyter-widgets/controls",
            "icon": ""
          }
        },
        "818d319a942443318ac484e3a9236c3a": {
          "model_module": "@jupyter-widgets/output",
          "model_name": "OutputModel",
          "state": {
            "_view_name": "OutputView",
            "msg_id": "",
            "_dom_classes": [],
            "_model_name": "OutputModel",
            "outputs": [
              {
                "output_type": "stream",
                "metadata": {
                  "tags": []
                },
                "text": "Prediction for Support our troops is... True\n",
                "stream": "stdout"
              }
            ],
            "_view_module": "@jupyter-widgets/output",
            "_model_module_version": "1.0.0",
            "_view_count": null,
            "_view_module_version": "1.0.0",
            "layout": "IPY_MODEL_4228f5b2473b49b5af2bf8431775960a",
            "_model_module": "@jupyter-widgets/output"
          }
        },
        "87125ace641240078e7db90b5b2fea5c": {
          "model_module": "@jupyter-widgets/controls",
          "model_name": "DescriptionStyleModel",
          "state": {
            "_view_name": "StyleView",
            "_model_name": "DescriptionStyleModel",
            "description_width": "",
            "_view_module": "@jupyter-widgets/base",
            "_model_module_version": "1.5.0",
            "_view_count": null,
            "_view_module_version": "1.2.0",
            "_model_module": "@jupyter-widgets/controls"
          }
        },
        "001a5f3e380942c798b21dd3a822acf6": {
          "model_module": "@jupyter-widgets/base",
          "model_name": "LayoutModel",
          "state": {
            "_view_name": "LayoutView",
            "grid_template_rows": null,
            "right": null,
            "justify_content": null,
            "_view_module": "@jupyter-widgets/base",
            "overflow": null,
            "_model_module_version": "1.2.0",
            "_view_count": null,
            "flex_flow": null,
            "width": null,
            "min_width": null,
            "border": null,
            "align_items": null,
            "bottom": null,
            "_model_module": "@jupyter-widgets/base",
            "top": null,
            "grid_column": null,
            "overflow_y": null,
            "overflow_x": null,
            "grid_auto_flow": null,
            "grid_area": null,
            "grid_template_columns": null,
            "flex": null,
            "_model_name": "LayoutModel",
            "justify_items": null,
            "grid_row": null,
            "max_height": null,
            "align_content": null,
            "visibility": null,
            "align_self": null,
            "height": null,
            "min_height": null,
            "padding": null,
            "grid_auto_rows": null,
            "grid_gap": null,
            "max_width": null,
            "order": null,
            "_view_module_version": "1.2.0",
            "grid_template_areas": null,
            "object_position": null,
            "object_fit": null,
            "grid_auto_columns": null,
            "margin": null,
            "display": null,
            "left": null
          }
        },
        "1385ae4e18fc44649f64628c8534089c": {
          "model_module": "@jupyter-widgets/controls",
          "model_name": "DescriptionStyleModel",
          "state": {
            "_view_name": "StyleView",
            "_model_name": "DescriptionStyleModel",
            "description_width": "",
            "_view_module": "@jupyter-widgets/base",
            "_model_module_version": "1.5.0",
            "_view_count": null,
            "_view_module_version": "1.2.0",
            "_model_module": "@jupyter-widgets/controls"
          }
        },
        "fe1080f9e893447199f245caffd94441": {
          "model_module": "@jupyter-widgets/base",
          "model_name": "LayoutModel",
          "state": {
            "_view_name": "LayoutView",
            "grid_template_rows": null,
            "right": null,
            "justify_content": null,
            "_view_module": "@jupyter-widgets/base",
            "overflow": null,
            "_model_module_version": "1.2.0",
            "_view_count": null,
            "flex_flow": null,
            "width": null,
            "min_width": null,
            "border": null,
            "align_items": null,
            "bottom": null,
            "_model_module": "@jupyter-widgets/base",
            "top": null,
            "grid_column": null,
            "overflow_y": null,
            "overflow_x": null,
            "grid_auto_flow": null,
            "grid_area": null,
            "grid_template_columns": null,
            "flex": null,
            "_model_name": "LayoutModel",
            "justify_items": null,
            "grid_row": null,
            "max_height": null,
            "align_content": null,
            "visibility": null,
            "align_self": null,
            "height": null,
            "min_height": null,
            "padding": null,
            "grid_auto_rows": null,
            "grid_gap": null,
            "max_width": null,
            "order": null,
            "_view_module_version": "1.2.0",
            "grid_template_areas": null,
            "object_position": null,
            "object_fit": null,
            "grid_auto_columns": null,
            "margin": null,
            "display": null,
            "left": null
          }
        },
        "2e8de7edeaa54617880f7adace0ffff9": {
          "model_module": "@jupyter-widgets/controls",
          "model_name": "ButtonStyleModel",
          "state": {
            "_view_name": "StyleView",
            "_model_name": "ButtonStyleModel",
            "_view_module": "@jupyter-widgets/base",
            "_model_module_version": "1.5.0",
            "_view_count": null,
            "button_color": null,
            "font_weight": "",
            "_view_module_version": "1.2.0",
            "_model_module": "@jupyter-widgets/controls"
          }
        },
        "7fef4cecff6e4798b806b3b21ad288b5": {
          "model_module": "@jupyter-widgets/base",
          "model_name": "LayoutModel",
          "state": {
            "_view_name": "LayoutView",
            "grid_template_rows": null,
            "right": null,
            "justify_content": null,
            "_view_module": "@jupyter-widgets/base",
            "overflow": null,
            "_model_module_version": "1.2.0",
            "_view_count": null,
            "flex_flow": null,
            "width": null,
            "min_width": null,
            "border": null,
            "align_items": null,
            "bottom": null,
            "_model_module": "@jupyter-widgets/base",
            "top": null,
            "grid_column": null,
            "overflow_y": null,
            "overflow_x": null,
            "grid_auto_flow": null,
            "grid_area": null,
            "grid_template_columns": null,
            "flex": null,
            "_model_name": "LayoutModel",
            "justify_items": null,
            "grid_row": null,
            "max_height": null,
            "align_content": null,
            "visibility": null,
            "align_self": null,
            "height": null,
            "min_height": null,
            "padding": null,
            "grid_auto_rows": null,
            "grid_gap": null,
            "max_width": null,
            "order": null,
            "_view_module_version": "1.2.0",
            "grid_template_areas": null,
            "object_position": null,
            "object_fit": null,
            "grid_auto_columns": null,
            "margin": null,
            "display": null,
            "left": null
          }
        },
        "4228f5b2473b49b5af2bf8431775960a": {
          "model_module": "@jupyter-widgets/base",
          "model_name": "LayoutModel",
          "state": {
            "_view_name": "LayoutView",
            "grid_template_rows": null,
            "right": null,
            "justify_content": null,
            "_view_module": "@jupyter-widgets/base",
            "overflow": null,
            "_model_module_version": "1.2.0",
            "_view_count": null,
            "flex_flow": null,
            "width": null,
            "min_width": null,
            "border": "1px solid black",
            "align_items": null,
            "bottom": null,
            "_model_module": "@jupyter-widgets/base",
            "top": null,
            "grid_column": null,
            "overflow_y": null,
            "overflow_x": null,
            "grid_auto_flow": null,
            "grid_area": null,
            "grid_template_columns": null,
            "flex": null,
            "_model_name": "LayoutModel",
            "justify_items": null,
            "grid_row": null,
            "max_height": null,
            "align_content": null,
            "visibility": null,
            "align_self": null,
            "height": null,
            "min_height": null,
            "padding": null,
            "grid_auto_rows": null,
            "grid_gap": null,
            "max_width": null,
            "order": null,
            "_view_module_version": "1.2.0",
            "grid_template_areas": null,
            "object_position": null,
            "object_fit": null,
            "grid_auto_columns": null,
            "margin": null,
            "display": null,
            "left": null
          }
        }
      }
    }
  },
  "cells": [
    {
      "cell_type": "code",
      "metadata": {
        "id": "8z9yVsbxb0jR",
        "colab_type": "code",
        "colab": {
          "base_uri": "https://localhost:8080/",
          "height": 170
        },
        "outputId": "2727d34a-d0fb-4100-e6e2-76b367148591"
      },
      "source": [
        "pip install GetOldTweets3"
      ],
      "execution_count": 7,
      "outputs": [
        {
          "output_type": "stream",
          "text": [
            "Collecting GetOldTweets3\n",
            "  Downloading https://files.pythonhosted.org/packages/ed/f4/a00c2a7c90801abc875325bb5416ce9090ac86d06a00cc887131bd73ba45/GetOldTweets3-0.0.11-py3-none-any.whl\n",
            "Requirement already satisfied: lxml>=3.5.0 in /usr/local/lib/python3.6/dist-packages (from GetOldTweets3) (4.2.6)\n",
            "Collecting pyquery>=1.2.10\n",
            "  Downloading https://files.pythonhosted.org/packages/78/43/95d42e386c61cb639d1a0b94f0c0b9f0b7d6b981ad3c043a836c8b5bc68b/pyquery-1.4.1-py2.py3-none-any.whl\n",
            "Collecting cssselect>0.7.9\n",
            "  Downloading https://files.pythonhosted.org/packages/3b/d4/3b5c17f00cce85b9a1e6f91096e1cc8e8ede2e1be8e96b87ce1ed09e92c5/cssselect-1.1.0-py2.py3-none-any.whl\n",
            "Installing collected packages: cssselect, pyquery, GetOldTweets3\n",
            "Successfully installed GetOldTweets3-0.0.11 cssselect-1.1.0 pyquery-1.4.1\n"
          ],
          "name": "stdout"
        }
      ]
    },
    {
      "cell_type": "code",
      "metadata": {
        "id": "_JU6KTbzaqS3",
        "colab_type": "code",
        "colab": {
          "base_uri": "https://localhost:8080/",
          "height": 1000
        },
        "outputId": "5f1b15f8-75bf-4a03-d5ad-d313160bd988"
      },
      "source": [
        "pip install fastai --upgrade"
      ],
      "execution_count": 1,
      "outputs": [
        {
          "output_type": "stream",
          "text": [
            "Collecting fastai\n",
            "\u001b[?25l  Downloading https://files.pythonhosted.org/packages/0d/01/128c6c295975cf313fe214421602c73806b5ff6f7a050901b9e802c573f2/fastai-2.0.6-py3-none-any.whl (353kB)\n",
            "\u001b[K     |████████████████████████████████| 358kB 2.8MB/s \n",
            "\u001b[?25hRequirement already satisfied, skipping upgrade: packaging in /usr/local/lib/python3.6/dist-packages (from fastai) (20.4)\n",
            "Requirement already satisfied, skipping upgrade: torchvision>=0.7 in /usr/local/lib/python3.6/dist-packages (from fastai) (0.7.0+cu101)\n",
            "Collecting pandas>=1.1.0\n",
            "\u001b[?25l  Downloading https://files.pythonhosted.org/packages/a1/c6/9ac4ae44c24c787a1738e5fb34dd987ada6533de5905a041aa6d5bea4553/pandas-1.1.1-cp36-cp36m-manylinux1_x86_64.whl (10.5MB)\n",
            "\u001b[K     |████████████████████████████████| 10.5MB 12.4MB/s \n",
            "\u001b[?25hRequirement already satisfied, skipping upgrade: pip in /usr/local/lib/python3.6/dist-packages (from fastai) (19.3.1)\n",
            "Requirement already satisfied, skipping upgrade: scikit-learn in /usr/local/lib/python3.6/dist-packages (from fastai) (0.22.2.post1)\n",
            "Requirement already satisfied, skipping upgrade: torch>=1.6.0 in /usr/local/lib/python3.6/dist-packages (from fastai) (1.6.0+cu101)\n",
            "Requirement already satisfied, skipping upgrade: pyyaml in /usr/local/lib/python3.6/dist-packages (from fastai) (3.13)\n",
            "Requirement already satisfied, skipping upgrade: pillow in /usr/local/lib/python3.6/dist-packages (from fastai) (7.0.0)\n",
            "Collecting fastcore>=1.0.0\n",
            "  Downloading https://files.pythonhosted.org/packages/cc/92/233661d730b5613b4daf473cd28005bf2294fb1a858ce0bac57fbb7fa5ec/fastcore-1.0.0-py3-none-any.whl\n",
            "Requirement already satisfied, skipping upgrade: requests in /usr/local/lib/python3.6/dist-packages (from fastai) (2.23.0)\n",
            "Requirement already satisfied, skipping upgrade: spacy in /usr/local/lib/python3.6/dist-packages (from fastai) (2.2.4)\n",
            "Requirement already satisfied, skipping upgrade: fastprogress>=0.2.4 in /usr/local/lib/python3.6/dist-packages (from fastai) (1.0.0)\n",
            "Requirement already satisfied, skipping upgrade: matplotlib in /usr/local/lib/python3.6/dist-packages (from fastai) (3.2.2)\n",
            "Requirement already satisfied, skipping upgrade: scipy in /usr/local/lib/python3.6/dist-packages (from fastai) (1.4.1)\n",
            "Requirement already satisfied, skipping upgrade: pyparsing>=2.0.2 in /usr/local/lib/python3.6/dist-packages (from packaging->fastai) (2.4.7)\n",
            "Requirement already satisfied, skipping upgrade: six in /usr/local/lib/python3.6/dist-packages (from packaging->fastai) (1.15.0)\n",
            "Requirement already satisfied, skipping upgrade: numpy in /usr/local/lib/python3.6/dist-packages (from torchvision>=0.7->fastai) (1.18.5)\n",
            "Requirement already satisfied, skipping upgrade: pytz>=2017.2 in /usr/local/lib/python3.6/dist-packages (from pandas>=1.1.0->fastai) (2018.9)\n",
            "Requirement already satisfied, skipping upgrade: python-dateutil>=2.7.3 in /usr/local/lib/python3.6/dist-packages (from pandas>=1.1.0->fastai) (2.8.1)\n",
            "Requirement already satisfied, skipping upgrade: joblib>=0.11 in /usr/local/lib/python3.6/dist-packages (from scikit-learn->fastai) (0.16.0)\n",
            "Requirement already satisfied, skipping upgrade: future in /usr/local/lib/python3.6/dist-packages (from torch>=1.6.0->fastai) (0.16.0)\n",
            "Requirement already satisfied, skipping upgrade: dataclasses in /usr/local/lib/python3.6/dist-packages (from fastcore>=1.0.0->fastai) (0.7)\n",
            "Requirement already satisfied, skipping upgrade: wheel in /usr/local/lib/python3.6/dist-packages (from fastcore>=1.0.0->fastai) (0.35.1)\n",
            "Requirement already satisfied, skipping upgrade: idna<3,>=2.5 in /usr/local/lib/python3.6/dist-packages (from requests->fastai) (2.10)\n",
            "Requirement already satisfied, skipping upgrade: urllib3!=1.25.0,!=1.25.1,<1.26,>=1.21.1 in /usr/local/lib/python3.6/dist-packages (from requests->fastai) (1.24.3)\n",
            "Requirement already satisfied, skipping upgrade: chardet<4,>=3.0.2 in /usr/local/lib/python3.6/dist-packages (from requests->fastai) (3.0.4)\n",
            "Requirement already satisfied, skipping upgrade: certifi>=2017.4.17 in /usr/local/lib/python3.6/dist-packages (from requests->fastai) (2020.6.20)\n",
            "Requirement already satisfied, skipping upgrade: wasabi<1.1.0,>=0.4.0 in /usr/local/lib/python3.6/dist-packages (from spacy->fastai) (0.7.1)\n",
            "Requirement already satisfied, skipping upgrade: setuptools in /usr/local/lib/python3.6/dist-packages (from spacy->fastai) (49.6.0)\n",
            "Requirement already satisfied, skipping upgrade: murmurhash<1.1.0,>=0.28.0 in /usr/local/lib/python3.6/dist-packages (from spacy->fastai) (1.0.2)\n",
            "Requirement already satisfied, skipping upgrade: cymem<2.1.0,>=2.0.2 in /usr/local/lib/python3.6/dist-packages (from spacy->fastai) (2.0.3)\n",
            "Requirement already satisfied, skipping upgrade: thinc==7.4.0 in /usr/local/lib/python3.6/dist-packages (from spacy->fastai) (7.4.0)\n",
            "Requirement already satisfied, skipping upgrade: catalogue<1.1.0,>=0.0.7 in /usr/local/lib/python3.6/dist-packages (from spacy->fastai) (1.0.0)\n",
            "Requirement already satisfied, skipping upgrade: tqdm<5.0.0,>=4.38.0 in /usr/local/lib/python3.6/dist-packages (from spacy->fastai) (4.41.1)\n",
            "Requirement already satisfied, skipping upgrade: plac<1.2.0,>=0.9.6 in /usr/local/lib/python3.6/dist-packages (from spacy->fastai) (1.1.3)\n",
            "Requirement already satisfied, skipping upgrade: blis<0.5.0,>=0.4.0 in /usr/local/lib/python3.6/dist-packages (from spacy->fastai) (0.4.1)\n",
            "Requirement already satisfied, skipping upgrade: preshed<3.1.0,>=3.0.2 in /usr/local/lib/python3.6/dist-packages (from spacy->fastai) (3.0.2)\n",
            "Requirement already satisfied, skipping upgrade: srsly<1.1.0,>=1.0.2 in /usr/local/lib/python3.6/dist-packages (from spacy->fastai) (1.0.2)\n",
            "Requirement already satisfied, skipping upgrade: kiwisolver>=1.0.1 in /usr/local/lib/python3.6/dist-packages (from matplotlib->fastai) (1.2.0)\n",
            "Requirement already satisfied, skipping upgrade: cycler>=0.10 in /usr/local/lib/python3.6/dist-packages (from matplotlib->fastai) (0.10.0)\n",
            "Requirement already satisfied, skipping upgrade: importlib-metadata>=0.20; python_version < \"3.8\" in /usr/local/lib/python3.6/dist-packages (from catalogue<1.1.0,>=0.0.7->spacy->fastai) (1.7.0)\n",
            "Requirement already satisfied, skipping upgrade: zipp>=0.5 in /usr/local/lib/python3.6/dist-packages (from importlib-metadata>=0.20; python_version < \"3.8\"->catalogue<1.1.0,>=0.0.7->spacy->fastai) (3.1.0)\n",
            "\u001b[31mERROR: google-colab 1.0.0 has requirement pandas~=1.0.0; python_version >= \"3.0\", but you'll have pandas 1.1.1 which is incompatible.\u001b[0m\n",
            "Installing collected packages: pandas, fastcore, fastai\n",
            "  Found existing installation: pandas 1.0.5\n",
            "    Uninstalling pandas-1.0.5:\n",
            "      Successfully uninstalled pandas-1.0.5\n",
            "  Found existing installation: fastai 1.0.61\n",
            "    Uninstalling fastai-1.0.61:\n",
            "      Successfully uninstalled fastai-1.0.61\n",
            "Successfully installed fastai-2.0.6 fastcore-1.0.0 pandas-1.1.1\n"
          ],
          "name": "stdout"
        },
        {
          "output_type": "display_data",
          "data": {
            "application/vnd.colab-display-data+json": {
              "pip_warning": {
                "packages": [
                  "pandas"
                ]
              }
            }
          },
          "metadata": {
            "tags": []
          }
        }
      ]
    },
    {
      "cell_type": "code",
      "metadata": {
        "id": "UxnVOA3KahPk",
        "colab_type": "code",
        "colab": {}
      },
      "source": [
        "from fastai.text.all import *\n",
        "import pandas as pd"
      ],
      "execution_count": 2,
      "outputs": []
    },
    {
      "cell_type": "code",
      "metadata": {
        "id": "nqu-BO6Pa9n0",
        "colab_type": "code",
        "colab": {}
      },
      "source": [
        "learn_inf = load_learner(\"/content/drive/My Drive/data/sentiment analysis/export (1).pkl\")"
      ],
      "execution_count": 3,
      "outputs": []
    },
    {
      "cell_type": "code",
      "metadata": {
        "id": "iCAVmh0xa-wd",
        "colab_type": "code",
        "colab": {}
      },
      "source": [
        "import GetOldTweets3 as got\n",
        "import pandas as pd\n",
        "\n",
        "\n",
        "user_name = \"@metpoliceuk\"\n",
        "q='to:{}'.format(user_name)"
      ],
      "execution_count": 298,
      "outputs": []
    },
    {
      "cell_type": "code",
      "metadata": {
        "id": "KPu03Tolbxh-",
        "colab_type": "code",
        "colab": {}
      },
      "source": [
        "tweetCriteria = got.manager.TweetCriteria().setQuerySearch(q)\\\n",
        "                                           .setSince(\"2020-08-25\")\\\n",
        "                                           .setUntil(\"2020-08-26\")\n",
        "tweets = got.manager.TweetManager.getTweets(tweetCriteria)\n",
        "\n",
        "df = pd.DataFrame(tweets)\n",
        "\n",
        "def get_text(tweet):\n",
        "  return tweet.text\n",
        "\n",
        "def get_username(tweet):\n",
        "  return tweet.username\n",
        "\n",
        "df[\"username\"] = df[0].apply(get_username)\n",
        "df[\"text\"] = df[0].apply(get_text)"
      ],
      "execution_count": 299,
      "outputs": []
    },
    {
      "cell_type": "code",
      "metadata": {
        "id": "f1C_s2d4cF2b",
        "colab_type": "code",
        "colab": {}
      },
      "source": [
        "bios_df = df.copy()\n",
        "bios = bios_df.dropna(axis=0, subset=[\"username\"])\n",
        "bios = bios.drop_duplicates(subset=[\"username\"])"
      ],
      "execution_count": 17,
      "outputs": []
    },
    {
      "cell_type": "code",
      "metadata": {
        "id": "1LRN9XALcjWY",
        "colab_type": "code",
        "colab": {}
      },
      "source": [
        "import tweepy\n",
        "import logging\n",
        "from tweepy import API\n",
        "\n",
        "API_KEY =\"F8lbqndOEfJd7DVGLeA5pwjCC\"\n",
        "API_SECRET = \"vjV2BLvNTevGJsEoGdbYSGViSo5Lf0EI6THb6PjlzLE3aoZ9PL\"\n",
        "ACCESS_TOKEN = \"14881209-XaIA7azTPUgnGW6TcbXIUTe2UwLX3LwMjDn9RlE6K\"\n",
        "ACCESS_TOKEN_SECRET =\"dI029wmfy1DTWLejXhfHgAe1fuZmk46vKYTk7Zi5ofSzn\"\n",
        "\n",
        "auth = tweepy.OAuthHandler(API_KEY, API_SECRET)\n",
        "auth.set_access_token(ACCESS_TOKEN, ACCESS_TOKEN_SECRET)\n",
        "\n",
        "api = tweepy.API(auth)\n",
        "\n",
        "\n",
        "\n",
        "def get_bio(user):\n",
        "  list_of_bios = pd.DataFrame(columns=[\"Users\",\"Bios\"])\n",
        "  i = 100\n",
        "  while i < len(user):\n",
        "    users = user[i-100:i]\n",
        "    test = api.lookup_users(screen_names =users)\n",
        "    for person in test:\n",
        "      list_of_bios = list_of_bios.append({'Users' : person.screen_name , 'Bios' : person.description}, ignore_index=True)\n",
        "    i = i + 100\n",
        "  users = user[i-100:len(user)]\n",
        "  test = api.lookup_users(screen_names =users)\n",
        "  for person in test:\n",
        "      list_of_bios = list_of_bios.append({'Users' : person.screen_name , 'Bios' : person.description}, ignore_index=True)\n",
        "  return list_of_bios\n",
        " \n",
        "\n",
        "\n",
        "list_of_new_bios = get_bio(df[\"username\"].tolist())"
      ],
      "execution_count": 18,
      "outputs": []
    },
    {
      "cell_type": "code",
      "metadata": {
        "id": "j_Dt3o3Dc0Cq",
        "colab_type": "code",
        "colab": {
          "base_uri": "https://localhost:8080/",
          "height": 17
        },
        "outputId": "1550009b-2f05-4948-fd83-37502aa80e99"
      },
      "source": [
        "def get_label(row):\n",
        "  return row[0]\n",
        "\n",
        "list_of_new_bios[\"RW_prediction\"] = list_of_new_bios[\"Bios\"].apply(learn_inf.predict)\n",
        "\n",
        "list_of_new_bios[\"RW_prediction\"] = list_of_new_bios[\"RW_prediction\"].apply(get_label)"
      ],
      "execution_count": 20,
      "outputs": [
        {
          "output_type": "display_data",
          "data": {
            "text/html": [
              ""
            ],
            "text/plain": [
              "<IPython.core.display.HTML object>"
            ]
          },
          "metadata": {
            "tags": []
          }
        },
        {
          "output_type": "display_data",
          "data": {
            "text/html": [
              ""
            ],
            "text/plain": [
              "<IPython.core.display.HTML object>"
            ]
          },
          "metadata": {
            "tags": []
          }
        },
        {
          "output_type": "display_data",
          "data": {
            "text/html": [
              ""
            ],
            "text/plain": [
              "<IPython.core.display.HTML object>"
            ]
          },
          "metadata": {
            "tags": []
          }
        },
        {
          "output_type": "display_data",
          "data": {
            "text/html": [
              ""
            ],
            "text/plain": [
              "<IPython.core.display.HTML object>"
            ]
          },
          "metadata": {
            "tags": []
          }
        },
        {
          "output_type": "display_data",
          "data": {
            "text/html": [
              ""
            ],
            "text/plain": [
              "<IPython.core.display.HTML object>"
            ]
          },
          "metadata": {
            "tags": []
          }
        },
        {
          "output_type": "display_data",
          "data": {
            "text/html": [
              ""
            ],
            "text/plain": [
              "<IPython.core.display.HTML object>"
            ]
          },
          "metadata": {
            "tags": []
          }
        },
        {
          "output_type": "display_data",
          "data": {
            "text/html": [
              ""
            ],
            "text/plain": [
              "<IPython.core.display.HTML object>"
            ]
          },
          "metadata": {
            "tags": []
          }
        },
        {
          "output_type": "display_data",
          "data": {
            "text/html": [
              ""
            ],
            "text/plain": [
              "<IPython.core.display.HTML object>"
            ]
          },
          "metadata": {
            "tags": []
          }
        },
        {
          "output_type": "display_data",
          "data": {
            "text/html": [
              ""
            ],
            "text/plain": [
              "<IPython.core.display.HTML object>"
            ]
          },
          "metadata": {
            "tags": []
          }
        },
        {
          "output_type": "display_data",
          "data": {
            "text/html": [
              ""
            ],
            "text/plain": [
              "<IPython.core.display.HTML object>"
            ]
          },
          "metadata": {
            "tags": []
          }
        },
        {
          "output_type": "display_data",
          "data": {
            "text/html": [
              ""
            ],
            "text/plain": [
              "<IPython.core.display.HTML object>"
            ]
          },
          "metadata": {
            "tags": []
          }
        },
        {
          "output_type": "display_data",
          "data": {
            "text/html": [
              ""
            ],
            "text/plain": [
              "<IPython.core.display.HTML object>"
            ]
          },
          "metadata": {
            "tags": []
          }
        },
        {
          "output_type": "display_data",
          "data": {
            "text/html": [
              ""
            ],
            "text/plain": [
              "<IPython.core.display.HTML object>"
            ]
          },
          "metadata": {
            "tags": []
          }
        },
        {
          "output_type": "display_data",
          "data": {
            "text/html": [
              ""
            ],
            "text/plain": [
              "<IPython.core.display.HTML object>"
            ]
          },
          "metadata": {
            "tags": []
          }
        },
        {
          "output_type": "display_data",
          "data": {
            "text/html": [
              ""
            ],
            "text/plain": [
              "<IPython.core.display.HTML object>"
            ]
          },
          "metadata": {
            "tags": []
          }
        },
        {
          "output_type": "display_data",
          "data": {
            "text/html": [
              ""
            ],
            "text/plain": [
              "<IPython.core.display.HTML object>"
            ]
          },
          "metadata": {
            "tags": []
          }
        },
        {
          "output_type": "display_data",
          "data": {
            "text/html": [
              ""
            ],
            "text/plain": [
              "<IPython.core.display.HTML object>"
            ]
          },
          "metadata": {
            "tags": []
          }
        },
        {
          "output_type": "display_data",
          "data": {
            "text/html": [
              ""
            ],
            "text/plain": [
              "<IPython.core.display.HTML object>"
            ]
          },
          "metadata": {
            "tags": []
          }
        },
        {
          "output_type": "display_data",
          "data": {
            "text/html": [
              ""
            ],
            "text/plain": [
              "<IPython.core.display.HTML object>"
            ]
          },
          "metadata": {
            "tags": []
          }
        },
        {
          "output_type": "display_data",
          "data": {
            "text/html": [
              ""
            ],
            "text/plain": [
              "<IPython.core.display.HTML object>"
            ]
          },
          "metadata": {
            "tags": []
          }
        },
        {
          "output_type": "display_data",
          "data": {
            "text/html": [
              ""
            ],
            "text/plain": [
              "<IPython.core.display.HTML object>"
            ]
          },
          "metadata": {
            "tags": []
          }
        },
        {
          "output_type": "display_data",
          "data": {
            "text/html": [
              ""
            ],
            "text/plain": [
              "<IPython.core.display.HTML object>"
            ]
          },
          "metadata": {
            "tags": []
          }
        },
        {
          "output_type": "display_data",
          "data": {
            "text/html": [
              ""
            ],
            "text/plain": [
              "<IPython.core.display.HTML object>"
            ]
          },
          "metadata": {
            "tags": []
          }
        },
        {
          "output_type": "display_data",
          "data": {
            "text/html": [
              ""
            ],
            "text/plain": [
              "<IPython.core.display.HTML object>"
            ]
          },
          "metadata": {
            "tags": []
          }
        },
        {
          "output_type": "display_data",
          "data": {
            "text/html": [
              ""
            ],
            "text/plain": [
              "<IPython.core.display.HTML object>"
            ]
          },
          "metadata": {
            "tags": []
          }
        },
        {
          "output_type": "display_data",
          "data": {
            "text/html": [
              ""
            ],
            "text/plain": [
              "<IPython.core.display.HTML object>"
            ]
          },
          "metadata": {
            "tags": []
          }
        },
        {
          "output_type": "display_data",
          "data": {
            "text/html": [
              ""
            ],
            "text/plain": [
              "<IPython.core.display.HTML object>"
            ]
          },
          "metadata": {
            "tags": []
          }
        },
        {
          "output_type": "display_data",
          "data": {
            "text/html": [
              ""
            ],
            "text/plain": [
              "<IPython.core.display.HTML object>"
            ]
          },
          "metadata": {
            "tags": []
          }
        },
        {
          "output_type": "display_data",
          "data": {
            "text/html": [
              ""
            ],
            "text/plain": [
              "<IPython.core.display.HTML object>"
            ]
          },
          "metadata": {
            "tags": []
          }
        },
        {
          "output_type": "display_data",
          "data": {
            "text/html": [
              ""
            ],
            "text/plain": [
              "<IPython.core.display.HTML object>"
            ]
          },
          "metadata": {
            "tags": []
          }
        },
        {
          "output_type": "display_data",
          "data": {
            "text/html": [
              ""
            ],
            "text/plain": [
              "<IPython.core.display.HTML object>"
            ]
          },
          "metadata": {
            "tags": []
          }
        },
        {
          "output_type": "display_data",
          "data": {
            "text/html": [
              ""
            ],
            "text/plain": [
              "<IPython.core.display.HTML object>"
            ]
          },
          "metadata": {
            "tags": []
          }
        },
        {
          "output_type": "display_data",
          "data": {
            "text/html": [
              ""
            ],
            "text/plain": [
              "<IPython.core.display.HTML object>"
            ]
          },
          "metadata": {
            "tags": []
          }
        },
        {
          "output_type": "display_data",
          "data": {
            "text/html": [
              ""
            ],
            "text/plain": [
              "<IPython.core.display.HTML object>"
            ]
          },
          "metadata": {
            "tags": []
          }
        },
        {
          "output_type": "display_data",
          "data": {
            "text/html": [
              ""
            ],
            "text/plain": [
              "<IPython.core.display.HTML object>"
            ]
          },
          "metadata": {
            "tags": []
          }
        },
        {
          "output_type": "display_data",
          "data": {
            "text/html": [
              ""
            ],
            "text/plain": [
              "<IPython.core.display.HTML object>"
            ]
          },
          "metadata": {
            "tags": []
          }
        },
        {
          "output_type": "display_data",
          "data": {
            "text/html": [
              ""
            ],
            "text/plain": [
              "<IPython.core.display.HTML object>"
            ]
          },
          "metadata": {
            "tags": []
          }
        },
        {
          "output_type": "display_data",
          "data": {
            "text/html": [
              ""
            ],
            "text/plain": [
              "<IPython.core.display.HTML object>"
            ]
          },
          "metadata": {
            "tags": []
          }
        },
        {
          "output_type": "display_data",
          "data": {
            "text/html": [
              ""
            ],
            "text/plain": [
              "<IPython.core.display.HTML object>"
            ]
          },
          "metadata": {
            "tags": []
          }
        },
        {
          "output_type": "display_data",
          "data": {
            "text/html": [
              ""
            ],
            "text/plain": [
              "<IPython.core.display.HTML object>"
            ]
          },
          "metadata": {
            "tags": []
          }
        },
        {
          "output_type": "display_data",
          "data": {
            "text/html": [
              ""
            ],
            "text/plain": [
              "<IPython.core.display.HTML object>"
            ]
          },
          "metadata": {
            "tags": []
          }
        },
        {
          "output_type": "display_data",
          "data": {
            "text/html": [
              ""
            ],
            "text/plain": [
              "<IPython.core.display.HTML object>"
            ]
          },
          "metadata": {
            "tags": []
          }
        },
        {
          "output_type": "display_data",
          "data": {
            "text/html": [
              ""
            ],
            "text/plain": [
              "<IPython.core.display.HTML object>"
            ]
          },
          "metadata": {
            "tags": []
          }
        },
        {
          "output_type": "display_data",
          "data": {
            "text/html": [
              ""
            ],
            "text/plain": [
              "<IPython.core.display.HTML object>"
            ]
          },
          "metadata": {
            "tags": []
          }
        },
        {
          "output_type": "display_data",
          "data": {
            "text/html": [
              ""
            ],
            "text/plain": [
              "<IPython.core.display.HTML object>"
            ]
          },
          "metadata": {
            "tags": []
          }
        },
        {
          "output_type": "display_data",
          "data": {
            "text/html": [
              ""
            ],
            "text/plain": [
              "<IPython.core.display.HTML object>"
            ]
          },
          "metadata": {
            "tags": []
          }
        },
        {
          "output_type": "display_data",
          "data": {
            "text/html": [
              ""
            ],
            "text/plain": [
              "<IPython.core.display.HTML object>"
            ]
          },
          "metadata": {
            "tags": []
          }
        },
        {
          "output_type": "display_data",
          "data": {
            "text/html": [
              ""
            ],
            "text/plain": [
              "<IPython.core.display.HTML object>"
            ]
          },
          "metadata": {
            "tags": []
          }
        },
        {
          "output_type": "display_data",
          "data": {
            "text/html": [
              ""
            ],
            "text/plain": [
              "<IPython.core.display.HTML object>"
            ]
          },
          "metadata": {
            "tags": []
          }
        },
        {
          "output_type": "display_data",
          "data": {
            "text/html": [
              ""
            ],
            "text/plain": [
              "<IPython.core.display.HTML object>"
            ]
          },
          "metadata": {
            "tags": []
          }
        },
        {
          "output_type": "display_data",
          "data": {
            "text/html": [
              ""
            ],
            "text/plain": [
              "<IPython.core.display.HTML object>"
            ]
          },
          "metadata": {
            "tags": []
          }
        },
        {
          "output_type": "display_data",
          "data": {
            "text/html": [
              ""
            ],
            "text/plain": [
              "<IPython.core.display.HTML object>"
            ]
          },
          "metadata": {
            "tags": []
          }
        },
        {
          "output_type": "display_data",
          "data": {
            "text/html": [
              ""
            ],
            "text/plain": [
              "<IPython.core.display.HTML object>"
            ]
          },
          "metadata": {
            "tags": []
          }
        },
        {
          "output_type": "display_data",
          "data": {
            "text/html": [
              ""
            ],
            "text/plain": [
              "<IPython.core.display.HTML object>"
            ]
          },
          "metadata": {
            "tags": []
          }
        },
        {
          "output_type": "display_data",
          "data": {
            "text/html": [
              ""
            ],
            "text/plain": [
              "<IPython.core.display.HTML object>"
            ]
          },
          "metadata": {
            "tags": []
          }
        },
        {
          "output_type": "display_data",
          "data": {
            "text/html": [
              ""
            ],
            "text/plain": [
              "<IPython.core.display.HTML object>"
            ]
          },
          "metadata": {
            "tags": []
          }
        },
        {
          "output_type": "display_data",
          "data": {
            "text/html": [
              ""
            ],
            "text/plain": [
              "<IPython.core.display.HTML object>"
            ]
          },
          "metadata": {
            "tags": []
          }
        },
        {
          "output_type": "display_data",
          "data": {
            "text/html": [
              ""
            ],
            "text/plain": [
              "<IPython.core.display.HTML object>"
            ]
          },
          "metadata": {
            "tags": []
          }
        },
        {
          "output_type": "display_data",
          "data": {
            "text/html": [
              ""
            ],
            "text/plain": [
              "<IPython.core.display.HTML object>"
            ]
          },
          "metadata": {
            "tags": []
          }
        },
        {
          "output_type": "display_data",
          "data": {
            "text/html": [
              ""
            ],
            "text/plain": [
              "<IPython.core.display.HTML object>"
            ]
          },
          "metadata": {
            "tags": []
          }
        },
        {
          "output_type": "display_data",
          "data": {
            "text/html": [
              ""
            ],
            "text/plain": [
              "<IPython.core.display.HTML object>"
            ]
          },
          "metadata": {
            "tags": []
          }
        },
        {
          "output_type": "display_data",
          "data": {
            "text/html": [
              ""
            ],
            "text/plain": [
              "<IPython.core.display.HTML object>"
            ]
          },
          "metadata": {
            "tags": []
          }
        },
        {
          "output_type": "display_data",
          "data": {
            "text/html": [
              ""
            ],
            "text/plain": [
              "<IPython.core.display.HTML object>"
            ]
          },
          "metadata": {
            "tags": []
          }
        },
        {
          "output_type": "display_data",
          "data": {
            "text/html": [
              ""
            ],
            "text/plain": [
              "<IPython.core.display.HTML object>"
            ]
          },
          "metadata": {
            "tags": []
          }
        },
        {
          "output_type": "display_data",
          "data": {
            "text/html": [
              ""
            ],
            "text/plain": [
              "<IPython.core.display.HTML object>"
            ]
          },
          "metadata": {
            "tags": []
          }
        },
        {
          "output_type": "display_data",
          "data": {
            "text/html": [
              ""
            ],
            "text/plain": [
              "<IPython.core.display.HTML object>"
            ]
          },
          "metadata": {
            "tags": []
          }
        },
        {
          "output_type": "display_data",
          "data": {
            "text/html": [
              ""
            ],
            "text/plain": [
              "<IPython.core.display.HTML object>"
            ]
          },
          "metadata": {
            "tags": []
          }
        },
        {
          "output_type": "display_data",
          "data": {
            "text/html": [
              ""
            ],
            "text/plain": [
              "<IPython.core.display.HTML object>"
            ]
          },
          "metadata": {
            "tags": []
          }
        },
        {
          "output_type": "display_data",
          "data": {
            "text/html": [
              ""
            ],
            "text/plain": [
              "<IPython.core.display.HTML object>"
            ]
          },
          "metadata": {
            "tags": []
          }
        },
        {
          "output_type": "display_data",
          "data": {
            "text/html": [
              ""
            ],
            "text/plain": [
              "<IPython.core.display.HTML object>"
            ]
          },
          "metadata": {
            "tags": []
          }
        },
        {
          "output_type": "display_data",
          "data": {
            "text/html": [
              ""
            ],
            "text/plain": [
              "<IPython.core.display.HTML object>"
            ]
          },
          "metadata": {
            "tags": []
          }
        },
        {
          "output_type": "display_data",
          "data": {
            "text/html": [
              ""
            ],
            "text/plain": [
              "<IPython.core.display.HTML object>"
            ]
          },
          "metadata": {
            "tags": []
          }
        },
        {
          "output_type": "display_data",
          "data": {
            "text/html": [
              ""
            ],
            "text/plain": [
              "<IPython.core.display.HTML object>"
            ]
          },
          "metadata": {
            "tags": []
          }
        },
        {
          "output_type": "display_data",
          "data": {
            "text/html": [
              ""
            ],
            "text/plain": [
              "<IPython.core.display.HTML object>"
            ]
          },
          "metadata": {
            "tags": []
          }
        },
        {
          "output_type": "display_data",
          "data": {
            "text/html": [
              ""
            ],
            "text/plain": [
              "<IPython.core.display.HTML object>"
            ]
          },
          "metadata": {
            "tags": []
          }
        },
        {
          "output_type": "display_data",
          "data": {
            "text/html": [
              ""
            ],
            "text/plain": [
              "<IPython.core.display.HTML object>"
            ]
          },
          "metadata": {
            "tags": []
          }
        },
        {
          "output_type": "display_data",
          "data": {
            "text/html": [
              ""
            ],
            "text/plain": [
              "<IPython.core.display.HTML object>"
            ]
          },
          "metadata": {
            "tags": []
          }
        },
        {
          "output_type": "display_data",
          "data": {
            "text/html": [
              ""
            ],
            "text/plain": [
              "<IPython.core.display.HTML object>"
            ]
          },
          "metadata": {
            "tags": []
          }
        },
        {
          "output_type": "display_data",
          "data": {
            "text/html": [
              ""
            ],
            "text/plain": [
              "<IPython.core.display.HTML object>"
            ]
          },
          "metadata": {
            "tags": []
          }
        },
        {
          "output_type": "display_data",
          "data": {
            "text/html": [
              ""
            ],
            "text/plain": [
              "<IPython.core.display.HTML object>"
            ]
          },
          "metadata": {
            "tags": []
          }
        },
        {
          "output_type": "display_data",
          "data": {
            "text/html": [
              ""
            ],
            "text/plain": [
              "<IPython.core.display.HTML object>"
            ]
          },
          "metadata": {
            "tags": []
          }
        },
        {
          "output_type": "display_data",
          "data": {
            "text/html": [
              ""
            ],
            "text/plain": [
              "<IPython.core.display.HTML object>"
            ]
          },
          "metadata": {
            "tags": []
          }
        },
        {
          "output_type": "display_data",
          "data": {
            "text/html": [
              ""
            ],
            "text/plain": [
              "<IPython.core.display.HTML object>"
            ]
          },
          "metadata": {
            "tags": []
          }
        },
        {
          "output_type": "display_data",
          "data": {
            "text/html": [
              ""
            ],
            "text/plain": [
              "<IPython.core.display.HTML object>"
            ]
          },
          "metadata": {
            "tags": []
          }
        },
        {
          "output_type": "display_data",
          "data": {
            "text/html": [
              ""
            ],
            "text/plain": [
              "<IPython.core.display.HTML object>"
            ]
          },
          "metadata": {
            "tags": []
          }
        },
        {
          "output_type": "display_data",
          "data": {
            "text/html": [
              ""
            ],
            "text/plain": [
              "<IPython.core.display.HTML object>"
            ]
          },
          "metadata": {
            "tags": []
          }
        },
        {
          "output_type": "display_data",
          "data": {
            "text/html": [
              ""
            ],
            "text/plain": [
              "<IPython.core.display.HTML object>"
            ]
          },
          "metadata": {
            "tags": []
          }
        },
        {
          "output_type": "display_data",
          "data": {
            "text/html": [
              ""
            ],
            "text/plain": [
              "<IPython.core.display.HTML object>"
            ]
          },
          "metadata": {
            "tags": []
          }
        },
        {
          "output_type": "display_data",
          "data": {
            "text/html": [
              ""
            ],
            "text/plain": [
              "<IPython.core.display.HTML object>"
            ]
          },
          "metadata": {
            "tags": []
          }
        },
        {
          "output_type": "display_data",
          "data": {
            "text/html": [
              ""
            ],
            "text/plain": [
              "<IPython.core.display.HTML object>"
            ]
          },
          "metadata": {
            "tags": []
          }
        },
        {
          "output_type": "display_data",
          "data": {
            "text/html": [
              ""
            ],
            "text/plain": [
              "<IPython.core.display.HTML object>"
            ]
          },
          "metadata": {
            "tags": []
          }
        },
        {
          "output_type": "display_data",
          "data": {
            "text/html": [
              ""
            ],
            "text/plain": [
              "<IPython.core.display.HTML object>"
            ]
          },
          "metadata": {
            "tags": []
          }
        },
        {
          "output_type": "display_data",
          "data": {
            "text/html": [
              ""
            ],
            "text/plain": [
              "<IPython.core.display.HTML object>"
            ]
          },
          "metadata": {
            "tags": []
          }
        },
        {
          "output_type": "display_data",
          "data": {
            "text/html": [
              ""
            ],
            "text/plain": [
              "<IPython.core.display.HTML object>"
            ]
          },
          "metadata": {
            "tags": []
          }
        },
        {
          "output_type": "display_data",
          "data": {
            "text/html": [
              ""
            ],
            "text/plain": [
              "<IPython.core.display.HTML object>"
            ]
          },
          "metadata": {
            "tags": []
          }
        },
        {
          "output_type": "display_data",
          "data": {
            "text/html": [
              ""
            ],
            "text/plain": [
              "<IPython.core.display.HTML object>"
            ]
          },
          "metadata": {
            "tags": []
          }
        },
        {
          "output_type": "display_data",
          "data": {
            "text/html": [
              ""
            ],
            "text/plain": [
              "<IPython.core.display.HTML object>"
            ]
          },
          "metadata": {
            "tags": []
          }
        },
        {
          "output_type": "display_data",
          "data": {
            "text/html": [
              ""
            ],
            "text/plain": [
              "<IPython.core.display.HTML object>"
            ]
          },
          "metadata": {
            "tags": []
          }
        },
        {
          "output_type": "display_data",
          "data": {
            "text/html": [
              ""
            ],
            "text/plain": [
              "<IPython.core.display.HTML object>"
            ]
          },
          "metadata": {
            "tags": []
          }
        },
        {
          "output_type": "display_data",
          "data": {
            "text/html": [
              ""
            ],
            "text/plain": [
              "<IPython.core.display.HTML object>"
            ]
          },
          "metadata": {
            "tags": []
          }
        },
        {
          "output_type": "display_data",
          "data": {
            "text/html": [
              ""
            ],
            "text/plain": [
              "<IPython.core.display.HTML object>"
            ]
          },
          "metadata": {
            "tags": []
          }
        },
        {
          "output_type": "display_data",
          "data": {
            "text/html": [
              ""
            ],
            "text/plain": [
              "<IPython.core.display.HTML object>"
            ]
          },
          "metadata": {
            "tags": []
          }
        },
        {
          "output_type": "display_data",
          "data": {
            "text/html": [
              ""
            ],
            "text/plain": [
              "<IPython.core.display.HTML object>"
            ]
          },
          "metadata": {
            "tags": []
          }
        },
        {
          "output_type": "display_data",
          "data": {
            "text/html": [
              ""
            ],
            "text/plain": [
              "<IPython.core.display.HTML object>"
            ]
          },
          "metadata": {
            "tags": []
          }
        },
        {
          "output_type": "display_data",
          "data": {
            "text/html": [
              ""
            ],
            "text/plain": [
              "<IPython.core.display.HTML object>"
            ]
          },
          "metadata": {
            "tags": []
          }
        },
        {
          "output_type": "display_data",
          "data": {
            "text/html": [
              ""
            ],
            "text/plain": [
              "<IPython.core.display.HTML object>"
            ]
          },
          "metadata": {
            "tags": []
          }
        },
        {
          "output_type": "display_data",
          "data": {
            "text/html": [
              ""
            ],
            "text/plain": [
              "<IPython.core.display.HTML object>"
            ]
          },
          "metadata": {
            "tags": []
          }
        },
        {
          "output_type": "display_data",
          "data": {
            "text/html": [
              ""
            ],
            "text/plain": [
              "<IPython.core.display.HTML object>"
            ]
          },
          "metadata": {
            "tags": []
          }
        },
        {
          "output_type": "display_data",
          "data": {
            "text/html": [
              ""
            ],
            "text/plain": [
              "<IPython.core.display.HTML object>"
            ]
          },
          "metadata": {
            "tags": []
          }
        },
        {
          "output_type": "display_data",
          "data": {
            "text/html": [
              ""
            ],
            "text/plain": [
              "<IPython.core.display.HTML object>"
            ]
          },
          "metadata": {
            "tags": []
          }
        }
      ]
    },
    {
      "cell_type": "code",
      "metadata": {
        "id": "ssgCPAWxednK",
        "colab_type": "code",
        "colab": {
          "base_uri": "https://localhost:8080/",
          "height": 419
        },
        "outputId": "15c8e331-0e13-4323-f5c0-213cd919d591"
      },
      "source": [
        "list_of_new_bios"
      ],
      "execution_count": 24,
      "outputs": [
        {
          "output_type": "execute_result",
          "data": {
            "text/html": [
              "<div>\n",
              "<style scoped>\n",
              "    .dataframe tbody tr th:only-of-type {\n",
              "        vertical-align: middle;\n",
              "    }\n",
              "\n",
              "    .dataframe tbody tr th {\n",
              "        vertical-align: top;\n",
              "    }\n",
              "\n",
              "    .dataframe thead th {\n",
              "        text-align: right;\n",
              "    }\n",
              "</style>\n",
              "<table border=\"1\" class=\"dataframe\">\n",
              "  <thead>\n",
              "    <tr style=\"text-align: right;\">\n",
              "      <th></th>\n",
              "      <th>Users</th>\n",
              "      <th>Bios</th>\n",
              "      <th>RW_prediction</th>\n",
              "    </tr>\n",
              "  </thead>\n",
              "  <tbody>\n",
              "    <tr>\n",
              "      <th>0</th>\n",
              "      <td>Humza_Khann</td>\n",
              "      <td>London 📍| Instagram: HumzaKhan_</td>\n",
              "      <td>False</td>\n",
              "    </tr>\n",
              "    <tr>\n",
              "      <th>1</th>\n",
              "      <td>PDF53</td>\n",
              "      <td>Retired Logistics Contractor;\\nIroning my own shirts since '69;\\nUnashamed to Back Britain; Back on here April 20. #AllLivesMatter\\n#DefundTheBBC #mufc #brexit</td>\n",
              "      <td>False</td>\n",
              "    </tr>\n",
              "    <tr>\n",
              "      <th>2</th>\n",
              "      <td>katunar07</td>\n",
              "      <td>🇦🇱🇽🇰</td>\n",
              "      <td>False</td>\n",
              "    </tr>\n",
              "    <tr>\n",
              "      <th>3</th>\n",
              "      <td>claire_bates</td>\n",
              "      <td>Journo, mummy, carer, Army wife and star of Sesame Street. In differing orders of importance. British but squatting in the States for a bit</td>\n",
              "      <td>False</td>\n",
              "    </tr>\n",
              "    <tr>\n",
              "      <th>4</th>\n",
              "      <td>ChrisWinker</td>\n",
              "      <td></td>\n",
              "      <td>False</td>\n",
              "    </tr>\n",
              "    <tr>\n",
              "      <th>...</th>\n",
              "      <td>...</td>\n",
              "      <td>...</td>\n",
              "      <td>...</td>\n",
              "    </tr>\n",
              "    <tr>\n",
              "      <th>105</th>\n",
              "      <td>DJBURNS_was</td>\n",
              "      <td>Follow me, I’ll follow back 🇬🇧 stop illegal migrants 💪 very right wing 👉 love 🇺🇸 used to be DJBURNS. All comments are my own.</td>\n",
              "      <td>True</td>\n",
              "    </tr>\n",
              "    <tr>\n",
              "      <th>106</th>\n",
              "      <td>SP92328669</td>\n",
              "      <td>London hairdresser, voted Brexit. Don’t fund BBC, buy British. Daughter of immigrant, Britalian. Follow F1, love yoga and meditation. love sarcasm</td>\n",
              "      <td>True</td>\n",
              "    </tr>\n",
              "    <tr>\n",
              "      <th>107</th>\n",
              "      <td>ashishchakrabor</td>\n",
              "      <td>A licensed commercial manger with over 20 years’ experience in the licensed and hospitality industry. Love rum and coke.</td>\n",
              "      <td>False</td>\n",
              "    </tr>\n",
              "    <tr>\n",
              "      <th>108</th>\n",
              "      <td>Budgey_95</td>\n",
              "      <td>🇾🇪</td>\n",
              "      <td>False</td>\n",
              "    </tr>\n",
              "    <tr>\n",
              "      <th>109</th>\n",
              "      <td>SomePrickIKnow</td>\n",
              "      <td>just doing my bit......</td>\n",
              "      <td>False</td>\n",
              "    </tr>\n",
              "  </tbody>\n",
              "</table>\n",
              "<p>110 rows × 3 columns</p>\n",
              "</div>"
            ],
            "text/plain": [
              "               Users  ... RW_prediction\n",
              "0        Humza_Khann  ...         False\n",
              "1              PDF53  ...         False\n",
              "2          katunar07  ...         False\n",
              "3       claire_bates  ...         False\n",
              "4        ChrisWinker  ...         False\n",
              "..               ...  ...           ...\n",
              "105      DJBURNS_was  ...          True\n",
              "106       SP92328669  ...          True\n",
              "107  ashishchakrabor  ...         False\n",
              "108        Budgey_95  ...         False\n",
              "109   SomePrickIKnow  ...         False\n",
              "\n",
              "[110 rows x 3 columns]"
            ]
          },
          "metadata": {
            "tags": []
          },
          "execution_count": 24
        }
      ]
    },
    {
      "cell_type": "code",
      "metadata": {
        "id": "4EX2vEbtdjVo",
        "colab_type": "code",
        "colab": {}
      },
      "source": [
        "list_of_new_bios = list_of_new_bios.rename({\"Users\":\"username\"}, axis=1)"
      ],
      "execution_count": 27,
      "outputs": []
    },
    {
      "cell_type": "code",
      "metadata": {
        "id": "IvdZJbl1e1sf",
        "colab_type": "code",
        "colab": {
          "base_uri": "https://localhost:8080/",
          "height": 589
        },
        "outputId": "ccd50ee7-ee92-4293-8720-d8e65e302b5c"
      },
      "source": [
        "df"
      ],
      "execution_count": 29,
      "outputs": [
        {
          "output_type": "execute_result",
          "data": {
            "text/html": [
              "<div>\n",
              "<style scoped>\n",
              "    .dataframe tbody tr th:only-of-type {\n",
              "        vertical-align: middle;\n",
              "    }\n",
              "\n",
              "    .dataframe tbody tr th {\n",
              "        vertical-align: top;\n",
              "    }\n",
              "\n",
              "    .dataframe thead th {\n",
              "        text-align: right;\n",
              "    }\n",
              "</style>\n",
              "<table border=\"1\" class=\"dataframe\">\n",
              "  <thead>\n",
              "    <tr style=\"text-align: right;\">\n",
              "      <th></th>\n",
              "      <th>0</th>\n",
              "      <th>username</th>\n",
              "      <th>text</th>\n",
              "    </tr>\n",
              "  </thead>\n",
              "  <tbody>\n",
              "    <tr>\n",
              "      <th>0</th>\n",
              "      <td>&lt;GetOldTweets3.models.Tweet.Tweet object at 0x7f8ad768aa20&gt;</td>\n",
              "      <td>Humza_Khann</td>\n",
              "      <td>@metpoliceuk</td>\n",
              "    </tr>\n",
              "    <tr>\n",
              "      <th>1</th>\n",
              "      <td>&lt;GetOldTweets3.models.Tweet.Tweet object at 0x7f8ad768a908&gt;</td>\n",
              "      <td>PDF53</td>\n",
              "      <td>@metpoliceuk @MPFed @MetCC The film ..now..! @DawnButlerBrent @Keir_Starmer</td>\n",
              "    </tr>\n",
              "    <tr>\n",
              "      <th>2</th>\n",
              "      <td>&lt;GetOldTweets3.models.Tweet.Tweet object at 0x7f8ad768af28&gt;</td>\n",
              "      <td>PDF53</td>\n",
              "      <td>@metpoliceuk @MetCC Show the film. Now !</td>\n",
              "    </tr>\n",
              "    <tr>\n",
              "      <th>3</th>\n",
              "      <td>&lt;GetOldTweets3.models.Tweet.Tweet object at 0x7f8ad768a8d0&gt;</td>\n",
              "      <td>katunar07</td>\n",
              "      <td>@metpoliceuk you’re needed</td>\n",
              "    </tr>\n",
              "    <tr>\n",
              "      <th>4</th>\n",
              "      <td>&lt;GetOldTweets3.models.Tweet.Tweet object at 0x7f8ad768a2b0&gt;</td>\n",
              "      <td>claire_bates</td>\n",
              "      <td>@metpoliceuk got away extraordinarily lightly in this @BBCDocs investigation. Disappointingly lightweight.</td>\n",
              "    </tr>\n",
              "    <tr>\n",
              "      <th>...</th>\n",
              "      <td>...</td>\n",
              "      <td>...</td>\n",
              "      <td>...</td>\n",
              "    </tr>\n",
              "    <tr>\n",
              "      <th>115</th>\n",
              "      <td>&lt;GetOldTweets3.models.Tweet.Tweet object at 0x7f8ad7636c18&gt;</td>\n",
              "      <td>DJBURNS_was</td>\n",
              "      <td>Does the driving ban marry up with the sentence? Depending how long he serves, will he be able to drive when he gets out? The mind boggles</td>\n",
              "    </tr>\n",
              "    <tr>\n",
              "      <th>116</th>\n",
              "      <td>&lt;GetOldTweets3.models.Tweet.Tweet object at 0x7f8ad7621978&gt;</td>\n",
              "      <td>SP92328669</td>\n",
              "      <td>I hope the disqualification is starting after his sentence or it’s pointless.</td>\n",
              "    </tr>\n",
              "    <tr>\n",
              "      <th>117</th>\n",
              "      <td>&lt;GetOldTweets3.models.Tweet.Tweet object at 0x7f8ad7621ef0&gt;</td>\n",
              "      <td>ashishchakrabor</td>\n",
              "      <td>After watching all the police shows like interceptors and traffic cops, I feel the law lets the police down with the sentencing .the hard work and length they go to fight crimes. Must be frustrating. Stay safe</td>\n",
              "    </tr>\n",
              "    <tr>\n",
              "      <th>118</th>\n",
              "      <td>&lt;GetOldTweets3.models.Tweet.Tweet object at 0x7f8ad7636eb8&gt;</td>\n",
              "      <td>Budgey_95</td>\n",
              "      <td>@metpoliceuk fuck you all dirty racist basteds</td>\n",
              "    </tr>\n",
              "    <tr>\n",
              "      <th>119</th>\n",
              "      <td>&lt;GetOldTweets3.models.Tweet.Tweet object at 0x7f8ad76364e0&gt;</td>\n",
              "      <td>SomePrickIKnow</td>\n",
              "      <td>No driving around the prison grounds for him then. That’ll show him.</td>\n",
              "    </tr>\n",
              "  </tbody>\n",
              "</table>\n",
              "<p>120 rows × 3 columns</p>\n",
              "</div>"
            ],
            "text/plain": [
              "                                                               0  ...                                                                                                                                                                                                               text\n",
              "0    <GetOldTweets3.models.Tweet.Tweet object at 0x7f8ad768aa20>  ...                                                                                                                                                                                                       @metpoliceuk\n",
              "1    <GetOldTweets3.models.Tweet.Tweet object at 0x7f8ad768a908>  ...                                                                                                                                        @metpoliceuk @MPFed @MetCC The film ..now..! @DawnButlerBrent @Keir_Starmer\n",
              "2    <GetOldTweets3.models.Tweet.Tweet object at 0x7f8ad768af28>  ...                                                                                                                                                                           @metpoliceuk @MetCC Show the film. Now !\n",
              "3    <GetOldTweets3.models.Tweet.Tweet object at 0x7f8ad768a8d0>  ...                                                                                                                                                                                         @metpoliceuk you’re needed\n",
              "4    <GetOldTweets3.models.Tweet.Tweet object at 0x7f8ad768a2b0>  ...                                                                                                         @metpoliceuk got away extraordinarily lightly in this @BBCDocs investigation. Disappointingly lightweight.\n",
              "..                                                           ...  ...                                                                                                                                                                                                                ...\n",
              "115  <GetOldTweets3.models.Tweet.Tweet object at 0x7f8ad7636c18>  ...                                                                        Does the driving ban marry up with the sentence? Depending how long he serves, will he be able to drive when he gets out? The mind boggles \n",
              "116  <GetOldTweets3.models.Tweet.Tweet object at 0x7f8ad7621978>  ...                                                                                                                                      I hope the disqualification is starting after his sentence or it’s pointless.\n",
              "117  <GetOldTweets3.models.Tweet.Tweet object at 0x7f8ad7621ef0>  ...  After watching all the police shows like interceptors and traffic cops, I feel the law lets the police down with the sentencing .the hard work and length they go to fight crimes. Must be frustrating. Stay safe\n",
              "118  <GetOldTweets3.models.Tweet.Tweet object at 0x7f8ad7636eb8>  ...                                                                                                                                                                     @metpoliceuk fuck you all dirty racist basteds\n",
              "119  <GetOldTweets3.models.Tweet.Tweet object at 0x7f8ad76364e0>  ...                                                                                                                                               No driving around the prison grounds for him then. That’ll show him.\n",
              "\n",
              "[120 rows x 3 columns]"
            ]
          },
          "metadata": {
            "tags": []
          },
          "execution_count": 29
        }
      ]
    },
    {
      "cell_type": "code",
      "metadata": {
        "id": "AtUUdoFweQSk",
        "colab_type": "code",
        "colab": {}
      },
      "source": [
        "new_df = df.merge(list_of_new_bios, on=[\"username\"])"
      ],
      "execution_count": 35,
      "outputs": []
    },
    {
      "cell_type": "code",
      "metadata": {
        "id": "94qk07u9f9Bq",
        "colab_type": "code",
        "colab": {
          "base_uri": "https://localhost:8080/",
          "height": 674
        },
        "outputId": "71ef4616-9605-4d18-888d-be47d505f1f6"
      },
      "source": [
        "new_df"
      ],
      "execution_count": 36,
      "outputs": [
        {
          "output_type": "execute_result",
          "data": {
            "text/html": [
              "<div>\n",
              "<style scoped>\n",
              "    .dataframe tbody tr th:only-of-type {\n",
              "        vertical-align: middle;\n",
              "    }\n",
              "\n",
              "    .dataframe tbody tr th {\n",
              "        vertical-align: top;\n",
              "    }\n",
              "\n",
              "    .dataframe thead th {\n",
              "        text-align: right;\n",
              "    }\n",
              "</style>\n",
              "<table border=\"1\" class=\"dataframe\">\n",
              "  <thead>\n",
              "    <tr style=\"text-align: right;\">\n",
              "      <th></th>\n",
              "      <th>0</th>\n",
              "      <th>username</th>\n",
              "      <th>text</th>\n",
              "      <th>Bios</th>\n",
              "      <th>RW_prediction</th>\n",
              "    </tr>\n",
              "  </thead>\n",
              "  <tbody>\n",
              "    <tr>\n",
              "      <th>0</th>\n",
              "      <td>&lt;GetOldTweets3.models.Tweet.Tweet object at 0x7f8ad768aa20&gt;</td>\n",
              "      <td>Humza_Khann</td>\n",
              "      <td>@metpoliceuk</td>\n",
              "      <td>London 📍| Instagram: HumzaKhan_</td>\n",
              "      <td>False</td>\n",
              "    </tr>\n",
              "    <tr>\n",
              "      <th>1</th>\n",
              "      <td>&lt;GetOldTweets3.models.Tweet.Tweet object at 0x7f8ad768a908&gt;</td>\n",
              "      <td>PDF53</td>\n",
              "      <td>@metpoliceuk @MPFed @MetCC The film ..now..! @DawnButlerBrent @Keir_Starmer</td>\n",
              "      <td>Retired Logistics Contractor;\\nIroning my own shirts since '69;\\nUnashamed to Back Britain; Back on here April 20. #AllLivesMatter\\n#DefundTheBBC #mufc #brexit</td>\n",
              "      <td>False</td>\n",
              "    </tr>\n",
              "    <tr>\n",
              "      <th>2</th>\n",
              "      <td>&lt;GetOldTweets3.models.Tweet.Tweet object at 0x7f8ad768af28&gt;</td>\n",
              "      <td>PDF53</td>\n",
              "      <td>@metpoliceuk @MetCC Show the film. Now !</td>\n",
              "      <td>Retired Logistics Contractor;\\nIroning my own shirts since '69;\\nUnashamed to Back Britain; Back on here April 20. #AllLivesMatter\\n#DefundTheBBC #mufc #brexit</td>\n",
              "      <td>False</td>\n",
              "    </tr>\n",
              "    <tr>\n",
              "      <th>3</th>\n",
              "      <td>&lt;GetOldTweets3.models.Tweet.Tweet object at 0x7f8ad768a8d0&gt;</td>\n",
              "      <td>katunar07</td>\n",
              "      <td>@metpoliceuk you’re needed</td>\n",
              "      <td>🇦🇱🇽🇰</td>\n",
              "      <td>False</td>\n",
              "    </tr>\n",
              "    <tr>\n",
              "      <th>4</th>\n",
              "      <td>&lt;GetOldTweets3.models.Tweet.Tweet object at 0x7f8ad768a2b0&gt;</td>\n",
              "      <td>claire_bates</td>\n",
              "      <td>@metpoliceuk got away extraordinarily lightly in this @BBCDocs investigation. Disappointingly lightweight.</td>\n",
              "      <td>Journo, mummy, carer, Army wife and star of Sesame Street. In differing orders of importance. British but squatting in the States for a bit</td>\n",
              "      <td>False</td>\n",
              "    </tr>\n",
              "    <tr>\n",
              "      <th>...</th>\n",
              "      <td>...</td>\n",
              "      <td>...</td>\n",
              "      <td>...</td>\n",
              "      <td>...</td>\n",
              "      <td>...</td>\n",
              "    </tr>\n",
              "    <tr>\n",
              "      <th>119</th>\n",
              "      <td>&lt;GetOldTweets3.models.Tweet.Tweet object at 0x7f8ad7636c18&gt;</td>\n",
              "      <td>DJBURNS_was</td>\n",
              "      <td>Does the driving ban marry up with the sentence? Depending how long he serves, will he be able to drive when he gets out? The mind boggles</td>\n",
              "      <td>Follow me, I’ll follow back 🇬🇧 stop illegal migrants 💪 very right wing 👉 love 🇺🇸 used to be DJBURNS. All comments are my own.</td>\n",
              "      <td>True</td>\n",
              "    </tr>\n",
              "    <tr>\n",
              "      <th>120</th>\n",
              "      <td>&lt;GetOldTweets3.models.Tweet.Tweet object at 0x7f8ad7621978&gt;</td>\n",
              "      <td>SP92328669</td>\n",
              "      <td>I hope the disqualification is starting after his sentence or it’s pointless.</td>\n",
              "      <td>London hairdresser, voted Brexit. Don’t fund BBC, buy British. Daughter of immigrant, Britalian. Follow F1, love yoga and meditation. love sarcasm</td>\n",
              "      <td>True</td>\n",
              "    </tr>\n",
              "    <tr>\n",
              "      <th>121</th>\n",
              "      <td>&lt;GetOldTweets3.models.Tweet.Tweet object at 0x7f8ad7621ef0&gt;</td>\n",
              "      <td>ashishchakrabor</td>\n",
              "      <td>After watching all the police shows like interceptors and traffic cops, I feel the law lets the police down with the sentencing .the hard work and length they go to fight crimes. Must be frustrating. Stay safe</td>\n",
              "      <td>A licensed commercial manger with over 20 years’ experience in the licensed and hospitality industry. Love rum and coke.</td>\n",
              "      <td>False</td>\n",
              "    </tr>\n",
              "    <tr>\n",
              "      <th>122</th>\n",
              "      <td>&lt;GetOldTweets3.models.Tweet.Tweet object at 0x7f8ad7636eb8&gt;</td>\n",
              "      <td>Budgey_95</td>\n",
              "      <td>@metpoliceuk fuck you all dirty racist basteds</td>\n",
              "      <td>🇾🇪</td>\n",
              "      <td>False</td>\n",
              "    </tr>\n",
              "    <tr>\n",
              "      <th>123</th>\n",
              "      <td>&lt;GetOldTweets3.models.Tweet.Tweet object at 0x7f8ad76364e0&gt;</td>\n",
              "      <td>SomePrickIKnow</td>\n",
              "      <td>No driving around the prison grounds for him then. That’ll show him.</td>\n",
              "      <td>just doing my bit......</td>\n",
              "      <td>False</td>\n",
              "    </tr>\n",
              "  </tbody>\n",
              "</table>\n",
              "<p>124 rows × 5 columns</p>\n",
              "</div>"
            ],
            "text/plain": [
              "                                                               0  ... RW_prediction\n",
              "0    <GetOldTweets3.models.Tweet.Tweet object at 0x7f8ad768aa20>  ...         False\n",
              "1    <GetOldTweets3.models.Tweet.Tweet object at 0x7f8ad768a908>  ...         False\n",
              "2    <GetOldTweets3.models.Tweet.Tweet object at 0x7f8ad768af28>  ...         False\n",
              "3    <GetOldTweets3.models.Tweet.Tweet object at 0x7f8ad768a8d0>  ...         False\n",
              "4    <GetOldTweets3.models.Tweet.Tweet object at 0x7f8ad768a2b0>  ...         False\n",
              "..                                                           ...  ...           ...\n",
              "119  <GetOldTweets3.models.Tweet.Tweet object at 0x7f8ad7636c18>  ...          True\n",
              "120  <GetOldTweets3.models.Tweet.Tweet object at 0x7f8ad7621978>  ...          True\n",
              "121  <GetOldTweets3.models.Tweet.Tweet object at 0x7f8ad7621ef0>  ...         False\n",
              "122  <GetOldTweets3.models.Tweet.Tweet object at 0x7f8ad7636eb8>  ...         False\n",
              "123  <GetOldTweets3.models.Tweet.Tweet object at 0x7f8ad76364e0>  ...         False\n",
              "\n",
              "[124 rows x 5 columns]"
            ]
          },
          "metadata": {
            "tags": []
          },
          "execution_count": 36
        }
      ]
    },
    {
      "cell_type": "code",
      "metadata": {
        "id": "LHXk2izfhRcc",
        "colab_type": "code",
        "colab": {}
      },
      "source": [
        "from textblob import TextBlob\n",
        "from wordcloud import WordCloud"
      ],
      "execution_count": 39,
      "outputs": []
    },
    {
      "cell_type": "code",
      "metadata": {
        "id": "YLtaGrEqg54R",
        "colab_type": "code",
        "colab": {
          "base_uri": "https://localhost:8080/",
          "height": 844
        },
        "outputId": "64c58422-f931-48c1-c87f-1e9ba08dbf40"
      },
      "source": [
        "# Create a function to clean the tweets\n",
        "def cleanTxt(text):\n",
        " text = re.sub('@[A-Za-z0–9]+', '', text) #Removing @mentions\n",
        " text = re.sub('#', '', text) # Removing '#' hash tag\n",
        " text = re.sub('RT[\\s]+', '', text) # Removing RT\n",
        " text = re.sub('https?:\\/\\/\\S+', '', text) # Removing hyperlink\n",
        " \n",
        " return text\n",
        "\n",
        "\n",
        "# Clean the tweets\n",
        "new_df['clean_text'] = new_df['text'].apply(cleanTxt)\n",
        "\n",
        "# Show the cleaned tweets\n",
        "new_df"
      ],
      "execution_count": 38,
      "outputs": [
        {
          "output_type": "execute_result",
          "data": {
            "text/html": [
              "<div>\n",
              "<style scoped>\n",
              "    .dataframe tbody tr th:only-of-type {\n",
              "        vertical-align: middle;\n",
              "    }\n",
              "\n",
              "    .dataframe tbody tr th {\n",
              "        vertical-align: top;\n",
              "    }\n",
              "\n",
              "    .dataframe thead th {\n",
              "        text-align: right;\n",
              "    }\n",
              "</style>\n",
              "<table border=\"1\" class=\"dataframe\">\n",
              "  <thead>\n",
              "    <tr style=\"text-align: right;\">\n",
              "      <th></th>\n",
              "      <th>0</th>\n",
              "      <th>username</th>\n",
              "      <th>text</th>\n",
              "      <th>Bios</th>\n",
              "      <th>RW_prediction</th>\n",
              "      <th>clean_text</th>\n",
              "    </tr>\n",
              "  </thead>\n",
              "  <tbody>\n",
              "    <tr>\n",
              "      <th>0</th>\n",
              "      <td>&lt;GetOldTweets3.models.Tweet.Tweet object at 0x7f8ad768aa20&gt;</td>\n",
              "      <td>Humza_Khann</td>\n",
              "      <td>@metpoliceuk</td>\n",
              "      <td>London 📍| Instagram: HumzaKhan_</td>\n",
              "      <td>False</td>\n",
              "      <td></td>\n",
              "    </tr>\n",
              "    <tr>\n",
              "      <th>1</th>\n",
              "      <td>&lt;GetOldTweets3.models.Tweet.Tweet object at 0x7f8ad768a908&gt;</td>\n",
              "      <td>PDF53</td>\n",
              "      <td>@metpoliceuk @MPFed @MetCC The film ..now..! @DawnButlerBrent @Keir_Starmer</td>\n",
              "      <td>Retired Logistics Contractor;\\nIroning my own shirts since '69;\\nUnashamed to Back Britain; Back on here April 20. #AllLivesMatter\\n#DefundTheBBC #mufc #brexit</td>\n",
              "      <td>False</td>\n",
              "      <td>The film ..now..!  _Starmer</td>\n",
              "    </tr>\n",
              "    <tr>\n",
              "      <th>2</th>\n",
              "      <td>&lt;GetOldTweets3.models.Tweet.Tweet object at 0x7f8ad768af28&gt;</td>\n",
              "      <td>PDF53</td>\n",
              "      <td>@metpoliceuk @MetCC Show the film. Now !</td>\n",
              "      <td>Retired Logistics Contractor;\\nIroning my own shirts since '69;\\nUnashamed to Back Britain; Back on here April 20. #AllLivesMatter\\n#DefundTheBBC #mufc #brexit</td>\n",
              "      <td>False</td>\n",
              "      <td>Show the film. Now !</td>\n",
              "    </tr>\n",
              "    <tr>\n",
              "      <th>3</th>\n",
              "      <td>&lt;GetOldTweets3.models.Tweet.Tweet object at 0x7f8ad768a8d0&gt;</td>\n",
              "      <td>katunar07</td>\n",
              "      <td>@metpoliceuk you’re needed</td>\n",
              "      <td>🇦🇱🇽🇰</td>\n",
              "      <td>False</td>\n",
              "      <td>you’re needed</td>\n",
              "    </tr>\n",
              "    <tr>\n",
              "      <th>4</th>\n",
              "      <td>&lt;GetOldTweets3.models.Tweet.Tweet object at 0x7f8ad768a2b0&gt;</td>\n",
              "      <td>claire_bates</td>\n",
              "      <td>@metpoliceuk got away extraordinarily lightly in this @BBCDocs investigation. Disappointingly lightweight.</td>\n",
              "      <td>Journo, mummy, carer, Army wife and star of Sesame Street. In differing orders of importance. British but squatting in the States for a bit</td>\n",
              "      <td>False</td>\n",
              "      <td>got away extraordinarily lightly in this  investigation. Disappointingly lightweight.</td>\n",
              "    </tr>\n",
              "    <tr>\n",
              "      <th>...</th>\n",
              "      <td>...</td>\n",
              "      <td>...</td>\n",
              "      <td>...</td>\n",
              "      <td>...</td>\n",
              "      <td>...</td>\n",
              "      <td>...</td>\n",
              "    </tr>\n",
              "    <tr>\n",
              "      <th>119</th>\n",
              "      <td>&lt;GetOldTweets3.models.Tweet.Tweet object at 0x7f8ad7636c18&gt;</td>\n",
              "      <td>DJBURNS_was</td>\n",
              "      <td>Does the driving ban marry up with the sentence? Depending how long he serves, will he be able to drive when he gets out? The mind boggles</td>\n",
              "      <td>Follow me, I’ll follow back 🇬🇧 stop illegal migrants 💪 very right wing 👉 love 🇺🇸 used to be DJBURNS. All comments are my own.</td>\n",
              "      <td>True</td>\n",
              "      <td>Does the driving ban marry up with the sentence? Depending how long he serves, will he be able to drive when he gets out? The mind boggles</td>\n",
              "    </tr>\n",
              "    <tr>\n",
              "      <th>120</th>\n",
              "      <td>&lt;GetOldTweets3.models.Tweet.Tweet object at 0x7f8ad7621978&gt;</td>\n",
              "      <td>SP92328669</td>\n",
              "      <td>I hope the disqualification is starting after his sentence or it’s pointless.</td>\n",
              "      <td>London hairdresser, voted Brexit. Don’t fund BBC, buy British. Daughter of immigrant, Britalian. Follow F1, love yoga and meditation. love sarcasm</td>\n",
              "      <td>True</td>\n",
              "      <td>I hope the disqualification is starting after his sentence or it’s pointless.</td>\n",
              "    </tr>\n",
              "    <tr>\n",
              "      <th>121</th>\n",
              "      <td>&lt;GetOldTweets3.models.Tweet.Tweet object at 0x7f8ad7621ef0&gt;</td>\n",
              "      <td>ashishchakrabor</td>\n",
              "      <td>After watching all the police shows like interceptors and traffic cops, I feel the law lets the police down with the sentencing .the hard work and length they go to fight crimes. Must be frustrating. Stay safe</td>\n",
              "      <td>A licensed commercial manger with over 20 years’ experience in the licensed and hospitality industry. Love rum and coke.</td>\n",
              "      <td>False</td>\n",
              "      <td>After watching all the police shows like interceptors and traffic cops, I feel the law lets the police down with the sentencing .the hard work and length they go to fight crimes. Must be frustrating. Stay safe</td>\n",
              "    </tr>\n",
              "    <tr>\n",
              "      <th>122</th>\n",
              "      <td>&lt;GetOldTweets3.models.Tweet.Tweet object at 0x7f8ad7636eb8&gt;</td>\n",
              "      <td>Budgey_95</td>\n",
              "      <td>@metpoliceuk fuck you all dirty racist basteds</td>\n",
              "      <td>🇾🇪</td>\n",
              "      <td>False</td>\n",
              "      <td>fuck you all dirty racist basteds</td>\n",
              "    </tr>\n",
              "    <tr>\n",
              "      <th>123</th>\n",
              "      <td>&lt;GetOldTweets3.models.Tweet.Tweet object at 0x7f8ad76364e0&gt;</td>\n",
              "      <td>SomePrickIKnow</td>\n",
              "      <td>No driving around the prison grounds for him then. That’ll show him.</td>\n",
              "      <td>just doing my bit......</td>\n",
              "      <td>False</td>\n",
              "      <td>No driving around the prison grounds for him then. That’ll show him.</td>\n",
              "    </tr>\n",
              "  </tbody>\n",
              "</table>\n",
              "<p>124 rows × 6 columns</p>\n",
              "</div>"
            ],
            "text/plain": [
              "                                                               0  ...                                                                                                                                                                                                         clean_text\n",
              "0    <GetOldTweets3.models.Tweet.Tweet object at 0x7f8ad768aa20>  ...                                                                                                                                                                                                                   \n",
              "1    <GetOldTweets3.models.Tweet.Tweet object at 0x7f8ad768a908>  ...                                                                                                                                                                                        The film ..now..!  _Starmer\n",
              "2    <GetOldTweets3.models.Tweet.Tweet object at 0x7f8ad768af28>  ...                                                                                                                                                                                               Show the film. Now !\n",
              "3    <GetOldTweets3.models.Tweet.Tweet object at 0x7f8ad768a8d0>  ...                                                                                                                                                                                                      you’re needed\n",
              "4    <GetOldTweets3.models.Tweet.Tweet object at 0x7f8ad768a2b0>  ...                                                                                                                              got away extraordinarily lightly in this  investigation. Disappointingly lightweight.\n",
              "..                                                           ...  ...                                                                                                                                                                                                                ...\n",
              "119  <GetOldTweets3.models.Tweet.Tweet object at 0x7f8ad7636c18>  ...                                                                        Does the driving ban marry up with the sentence? Depending how long he serves, will he be able to drive when he gets out? The mind boggles \n",
              "120  <GetOldTweets3.models.Tweet.Tweet object at 0x7f8ad7621978>  ...                                                                                                                                      I hope the disqualification is starting after his sentence or it’s pointless.\n",
              "121  <GetOldTweets3.models.Tweet.Tweet object at 0x7f8ad7621ef0>  ...  After watching all the police shows like interceptors and traffic cops, I feel the law lets the police down with the sentencing .the hard work and length they go to fight crimes. Must be frustrating. Stay safe\n",
              "122  <GetOldTweets3.models.Tweet.Tweet object at 0x7f8ad7636eb8>  ...                                                                                                                                                                                  fuck you all dirty racist basteds\n",
              "123  <GetOldTweets3.models.Tweet.Tweet object at 0x7f8ad76364e0>  ...                                                                                                                                               No driving around the prison grounds for him then. That’ll show him.\n",
              "\n",
              "[124 rows x 6 columns]"
            ]
          },
          "metadata": {
            "tags": []
          },
          "execution_count": 38
        }
      ]
    },
    {
      "cell_type": "code",
      "metadata": {
        "id": "rLo-M5hqg59X",
        "colab_type": "code",
        "colab": {
          "base_uri": "https://localhost:8080/",
          "height": 895
        },
        "outputId": "3c0891a9-b4e0-47c5-9af1-0ee6e3e536a0"
      },
      "source": [
        "# Create a function to get the subjectivity\n",
        "def getSubjectivity(text):\n",
        "   return TextBlob(text).sentiment.subjectivity\n",
        "\n",
        "# Create a function to get the polarity\n",
        "def getPolarity(text):\n",
        "   return  TextBlob(text).sentiment.polarity\n",
        "\n",
        "\n",
        "# Create two new columns 'Subjectivity' & 'Polarity'\n",
        "new_df['Subjectivity'] = new_df['clean_text'].apply(getSubjectivity)\n",
        "new_df['Polarity'] = new_df['clean_text'].apply(getPolarity)\n",
        "\n",
        "# Show the new dataframe with columns 'Subjectivity' & 'Polarity'\n",
        "new_df"
      ],
      "execution_count": 41,
      "outputs": [
        {
          "output_type": "execute_result",
          "data": {
            "text/html": [
              "<div>\n",
              "<style scoped>\n",
              "    .dataframe tbody tr th:only-of-type {\n",
              "        vertical-align: middle;\n",
              "    }\n",
              "\n",
              "    .dataframe tbody tr th {\n",
              "        vertical-align: top;\n",
              "    }\n",
              "\n",
              "    .dataframe thead th {\n",
              "        text-align: right;\n",
              "    }\n",
              "</style>\n",
              "<table border=\"1\" class=\"dataframe\">\n",
              "  <thead>\n",
              "    <tr style=\"text-align: right;\">\n",
              "      <th></th>\n",
              "      <th>0</th>\n",
              "      <th>username</th>\n",
              "      <th>text</th>\n",
              "      <th>Bios</th>\n",
              "      <th>RW_prediction</th>\n",
              "      <th>clean_text</th>\n",
              "      <th>Subjectivity</th>\n",
              "      <th>Polarity</th>\n",
              "    </tr>\n",
              "  </thead>\n",
              "  <tbody>\n",
              "    <tr>\n",
              "      <th>0</th>\n",
              "      <td>&lt;GetOldTweets3.models.Tweet.Tweet object at 0x7f8ad768aa20&gt;</td>\n",
              "      <td>Humza_Khann</td>\n",
              "      <td>@metpoliceuk</td>\n",
              "      <td>London 📍| Instagram: HumzaKhan_</td>\n",
              "      <td>False</td>\n",
              "      <td></td>\n",
              "      <td>0.000000</td>\n",
              "      <td>0.000000</td>\n",
              "    </tr>\n",
              "    <tr>\n",
              "      <th>1</th>\n",
              "      <td>&lt;GetOldTweets3.models.Tweet.Tweet object at 0x7f8ad768a908&gt;</td>\n",
              "      <td>PDF53</td>\n",
              "      <td>@metpoliceuk @MPFed @MetCC The film ..now..! @DawnButlerBrent @Keir_Starmer</td>\n",
              "      <td>Retired Logistics Contractor;\\nIroning my own shirts since '69;\\nUnashamed to Back Britain; Back on here April 20. #AllLivesMatter\\n#DefundTheBBC #mufc #brexit</td>\n",
              "      <td>False</td>\n",
              "      <td>The film ..now..!  _Starmer</td>\n",
              "      <td>0.000000</td>\n",
              "      <td>0.000000</td>\n",
              "    </tr>\n",
              "    <tr>\n",
              "      <th>2</th>\n",
              "      <td>&lt;GetOldTweets3.models.Tweet.Tweet object at 0x7f8ad768af28&gt;</td>\n",
              "      <td>PDF53</td>\n",
              "      <td>@metpoliceuk @MetCC Show the film. Now !</td>\n",
              "      <td>Retired Logistics Contractor;\\nIroning my own shirts since '69;\\nUnashamed to Back Britain; Back on here April 20. #AllLivesMatter\\n#DefundTheBBC #mufc #brexit</td>\n",
              "      <td>False</td>\n",
              "      <td>Show the film. Now !</td>\n",
              "      <td>0.000000</td>\n",
              "      <td>0.000000</td>\n",
              "    </tr>\n",
              "    <tr>\n",
              "      <th>3</th>\n",
              "      <td>&lt;GetOldTweets3.models.Tweet.Tweet object at 0x7f8ad768a8d0&gt;</td>\n",
              "      <td>katunar07</td>\n",
              "      <td>@metpoliceuk you’re needed</td>\n",
              "      <td>🇦🇱🇽🇰</td>\n",
              "      <td>False</td>\n",
              "      <td>you’re needed</td>\n",
              "      <td>0.000000</td>\n",
              "      <td>0.000000</td>\n",
              "    </tr>\n",
              "    <tr>\n",
              "      <th>4</th>\n",
              "      <td>&lt;GetOldTweets3.models.Tweet.Tweet object at 0x7f8ad768a2b0&gt;</td>\n",
              "      <td>claire_bates</td>\n",
              "      <td>@metpoliceuk got away extraordinarily lightly in this @BBCDocs investigation. Disappointingly lightweight.</td>\n",
              "      <td>Journo, mummy, carer, Army wife and star of Sesame Street. In differing orders of importance. British but squatting in the States for a bit</td>\n",
              "      <td>False</td>\n",
              "      <td>got away extraordinarily lightly in this  investigation. Disappointingly lightweight.</td>\n",
              "      <td>0.700000</td>\n",
              "      <td>-0.100000</td>\n",
              "    </tr>\n",
              "    <tr>\n",
              "      <th>...</th>\n",
              "      <td>...</td>\n",
              "      <td>...</td>\n",
              "      <td>...</td>\n",
              "      <td>...</td>\n",
              "      <td>...</td>\n",
              "      <td>...</td>\n",
              "      <td>...</td>\n",
              "      <td>...</td>\n",
              "    </tr>\n",
              "    <tr>\n",
              "      <th>119</th>\n",
              "      <td>&lt;GetOldTweets3.models.Tweet.Tweet object at 0x7f8ad7636c18&gt;</td>\n",
              "      <td>DJBURNS_was</td>\n",
              "      <td>Does the driving ban marry up with the sentence? Depending how long he serves, will he be able to drive when he gets out? The mind boggles</td>\n",
              "      <td>Follow me, I’ll follow back 🇬🇧 stop illegal migrants 💪 very right wing 👉 love 🇺🇸 used to be DJBURNS. All comments are my own.</td>\n",
              "      <td>True</td>\n",
              "      <td>Does the driving ban marry up with the sentence? Depending how long he serves, will he be able to drive when he gets out? The mind boggles</td>\n",
              "      <td>0.512500</td>\n",
              "      <td>0.225000</td>\n",
              "    </tr>\n",
              "    <tr>\n",
              "      <th>120</th>\n",
              "      <td>&lt;GetOldTweets3.models.Tweet.Tweet object at 0x7f8ad7621978&gt;</td>\n",
              "      <td>SP92328669</td>\n",
              "      <td>I hope the disqualification is starting after his sentence or it’s pointless.</td>\n",
              "      <td>London hairdresser, voted Brexit. Don’t fund BBC, buy British. Daughter of immigrant, Britalian. Follow F1, love yoga and meditation. love sarcasm</td>\n",
              "      <td>True</td>\n",
              "      <td>I hope the disqualification is starting after his sentence or it’s pointless.</td>\n",
              "      <td>0.300000</td>\n",
              "      <td>-0.125000</td>\n",
              "    </tr>\n",
              "    <tr>\n",
              "      <th>121</th>\n",
              "      <td>&lt;GetOldTweets3.models.Tweet.Tweet object at 0x7f8ad7621ef0&gt;</td>\n",
              "      <td>ashishchakrabor</td>\n",
              "      <td>After watching all the police shows like interceptors and traffic cops, I feel the law lets the police down with the sentencing .the hard work and length they go to fight crimes. Must be frustrating. Stay safe</td>\n",
              "      <td>A licensed commercial manger with over 20 years’ experience in the licensed and hospitality industry. Love rum and coke.</td>\n",
              "      <td>False</td>\n",
              "      <td>After watching all the police shows like interceptors and traffic cops, I feel the law lets the police down with the sentencing .the hard work and length they go to fight crimes. Must be frustrating. Stay safe</td>\n",
              "      <td>0.557639</td>\n",
              "      <td>-0.086806</td>\n",
              "    </tr>\n",
              "    <tr>\n",
              "      <th>122</th>\n",
              "      <td>&lt;GetOldTweets3.models.Tweet.Tweet object at 0x7f8ad7636eb8&gt;</td>\n",
              "      <td>Budgey_95</td>\n",
              "      <td>@metpoliceuk fuck you all dirty racist basteds</td>\n",
              "      <td>🇾🇪</td>\n",
              "      <td>False</td>\n",
              "      <td>fuck you all dirty racist basteds</td>\n",
              "      <td>0.700000</td>\n",
              "      <td>-0.500000</td>\n",
              "    </tr>\n",
              "    <tr>\n",
              "      <th>123</th>\n",
              "      <td>&lt;GetOldTweets3.models.Tweet.Tweet object at 0x7f8ad76364e0&gt;</td>\n",
              "      <td>SomePrickIKnow</td>\n",
              "      <td>No driving around the prison grounds for him then. That’ll show him.</td>\n",
              "      <td>just doing my bit......</td>\n",
              "      <td>False</td>\n",
              "      <td>No driving around the prison grounds for him then. That’ll show him.</td>\n",
              "      <td>0.000000</td>\n",
              "      <td>0.000000</td>\n",
              "    </tr>\n",
              "  </tbody>\n",
              "</table>\n",
              "<p>124 rows × 8 columns</p>\n",
              "</div>"
            ],
            "text/plain": [
              "                                                               0  ...  Polarity\n",
              "0    <GetOldTweets3.models.Tweet.Tweet object at 0x7f8ad768aa20>  ...  0.000000\n",
              "1    <GetOldTweets3.models.Tweet.Tweet object at 0x7f8ad768a908>  ...  0.000000\n",
              "2    <GetOldTweets3.models.Tweet.Tweet object at 0x7f8ad768af28>  ...  0.000000\n",
              "3    <GetOldTweets3.models.Tweet.Tweet object at 0x7f8ad768a8d0>  ...  0.000000\n",
              "4    <GetOldTweets3.models.Tweet.Tweet object at 0x7f8ad768a2b0>  ... -0.100000\n",
              "..                                                           ...  ...       ...\n",
              "119  <GetOldTweets3.models.Tweet.Tweet object at 0x7f8ad7636c18>  ...  0.225000\n",
              "120  <GetOldTweets3.models.Tweet.Tweet object at 0x7f8ad7621978>  ... -0.125000\n",
              "121  <GetOldTweets3.models.Tweet.Tweet object at 0x7f8ad7621ef0>  ... -0.086806\n",
              "122  <GetOldTweets3.models.Tweet.Tweet object at 0x7f8ad7636eb8>  ... -0.500000\n",
              "123  <GetOldTweets3.models.Tweet.Tweet object at 0x7f8ad76364e0>  ...  0.000000\n",
              "\n",
              "[124 rows x 8 columns]"
            ]
          },
          "metadata": {
            "tags": []
          },
          "execution_count": 41
        }
      ]
    },
    {
      "cell_type": "code",
      "metadata": {
        "id": "LelyvliXhz0r",
        "colab_type": "code",
        "colab": {}
      },
      "source": [
        "right_wing_mask = new_df[\"RW_prediction\"] == \"True\"\n",
        "right_wing = new_df[right_wing_mask]\n",
        "\n",
        "not_right_wing_mask = new_df[\"RW_prediction\"] == \"False\"\n",
        "not_right_wing = new_df[not_right_wing_mask]"
      ],
      "execution_count": 67,
      "outputs": []
    },
    {
      "cell_type": "code",
      "metadata": {
        "id": "xRtPzLyUh-9F",
        "colab_type": "code",
        "colab": {
          "base_uri": "https://localhost:8080/",
          "height": 542
        },
        "outputId": "3b6fa025-1355-4b5c-c211-d2e8a74c54c3"
      },
      "source": [
        "import plotly.express as px\n",
        "fig2 = px.scatter(new_df, x=\"Subjectivity\", y=\"Polarity\", color=\"RW_prediction\", hover_data=[\"Bios\"])\n",
        "fig2.update_xaxes(range=[0,1])\n",
        "fig2.update_yaxes(range=[-1, 1])\n",
        "fig2.show()"
      ],
      "execution_count": 316,
      "outputs": [
        {
          "output_type": "display_data",
          "data": {
            "text/html": [
              "<html>\n",
              "<head><meta charset=\"utf-8\" /></head>\n",
              "<body>\n",
              "    <div>\n",
              "            <script src=\"https://cdnjs.cloudflare.com/ajax/libs/mathjax/2.7.5/MathJax.js?config=TeX-AMS-MML_SVG\"></script><script type=\"text/javascript\">if (window.MathJax) {MathJax.Hub.Config({SVG: {font: \"STIX-Web\"}});}</script>\n",
              "                <script type=\"text/javascript\">window.PlotlyConfig = {MathJaxConfig: 'local'};</script>\n",
              "        <script src=\"https://cdn.plot.ly/plotly-latest.min.js\"></script>    \n",
              "            <div id=\"f79bd029-881c-42a0-87dd-0d6a47c75c7c\" class=\"plotly-graph-div\" style=\"height:525px; width:100%;\"></div>\n",
              "            <script type=\"text/javascript\">\n",
              "                \n",
              "                    window.PLOTLYENV=window.PLOTLYENV || {};\n",
              "                    \n",
              "                if (document.getElementById(\"f79bd029-881c-42a0-87dd-0d6a47c75c7c\")) {\n",
              "                    Plotly.newPlot(\n",
              "                        'f79bd029-881c-42a0-87dd-0d6a47c75c7c',\n",
              "                        [{\"customdata\": [[\"London \\ud83d\\udccd| Instagram: HumzaKhan_\"], [\"Retired Logistics Contractor;\\nIroning my own shirts since '69;\\nUnashamed to Back Britain; Back on here April 20. #AllLivesMatter\\n#DefundTheBBC #mufc #brexit\"], [\"Retired Logistics Contractor;\\nIroning my own shirts since '69;\\nUnashamed to Back Britain; Back on here April 20. #AllLivesMatter\\n#DefundTheBBC #mufc #brexit\"], [\"\\ud83c\\udde6\\ud83c\\uddf1\\ud83c\\uddfd\\ud83c\\uddf0\"], [\"Journo, mummy, carer, Army wife and star of Sesame Street. In differing orders of importance. British but squatting in the States for a bit\"], [\"\"], [\"@tobypriv_ 16.\"], [\"\\u12a0\\u1263\\u1275 \\u12a0\\u1308\\u122d \\u12a0\\u121b\\u122b\\u1295 \\u12a5\\u1295\\u1218\\u1230\\u122d\\u1273\\u1208\\u1295 #Patriot #KeepAmericaGreat. Defund antifa, blm, lgbtq.., islamist, cancel-culture, etc Y'all crossed z line when u burned churches\"], [\"\\u201cIf children can\\u2019t learn the way we teach, then we have to teach the way they learn\\u201d - Robert Buck\"], [\"Single Looking for the mysterious one \\ud83d\\ude1c\"], [\"no bio just vibes\"], [\"@MPFed - Police Sergeant, Federation Representative, serving the public since 2002 & now Protecting the Protectors @MetPoliceUK Sharing my views to colleagues\"], [\"\"], [\"love my family xx proud mum, Salford reds fan\\ud83d\\udc79\\ud83d\\udc79\\ud83d\\udc79Masketeer \\ud83d\\ude37 Labour voting Manc.3.5% #FBPE Hate Tories and Brexit\"], [\"love my family xx proud mum, Salford reds fan\\ud83d\\udc79\\ud83d\\udc79\\ud83d\\udc79Masketeer \\ud83d\\ude37 Labour voting Manc.3.5% #FBPE Hate Tories and Brexit\"], [\"Ex Job. Very blunt so apologies if I upset. Follow 80\\u2019s synth pop, Erasure , Fawlty Towers and Lauren Southern . #TJF \\ud83d\\udc6e\\u200d\\u2642\\ufe0f\"], [\"Not a lot\"], [\"pro black women | fundamental reformist #JusticeForBibaaandNicole #BellyMujinga #TrevorBelle\"], [\"Photographer /Music /Photojournalist, Fashion/Graphic artist/Photoshop 20 and Lightroom.... Unemployed\"], [\"Photographer /Music /Photojournalist, Fashion/Graphic artist/Photoshop 20 and Lightroom.... Unemployed\"], [\"Photographer /Music /Photojournalist, Fashion/Graphic artist/Photoshop 20 and Lightroom.... Unemployed\"], [\"Photographer /Music /Photojournalist, Fashion/Graphic artist/Photoshop 20 and Lightroom.... Unemployed\"], [\"Photographer /Music /Photojournalist, Fashion/Graphic artist/Photoshop 20 and Lightroom.... Unemployed\"], [\"Photographer /Music /Photojournalist, Fashion/Graphic artist/Photoshop 20 and Lightroom.... Unemployed\"], [\"\"], [\"\"], [\"\"], [\"I want to know what you think but insults will be blocked.   Been here before!\"], [\"When the persimmons are green, even the crows don't come pecking: by spite & by fury are people revealed.\"], [\"\\u270a\\ud83c\\udffd\\u270a\\ud83c\\udffe\\u270a\\ud83c\\udfff| 21...\\u26ab\\ufe0f\\u26aa\\ufe0f\"], [\"Born in 2008 & been paying ever since\"], [\"I love politics\"], [\"\"], [\"Fifty-ish, flabby-ish, fun-ish, fiction scribbler...\"], [\"\"], [\"Gentleman ; engineer; naval officer; detective, author. James Rockley : Fire and Lies a gripping murder mystery @Amazon.com\"], [\"So Little time ,so many to offend.\\nMove along nothing to see here\"], [\"\"], [\"\"], [\"\"], [\"\"], [\"\"], [\"Love everything about Manchester and it\\u2019s people. Songwriter and sport lover. Chartered Engineer.\"], [\"\\ud83c\\uddec\\ud83c\\udde7 \\ud83c\\uddfa\\ud83c\\uddf8 \\ud83c\\udde6\\ud83c\\uddfa \\ud83c\\uddea\\ud83c\\uddf8 \\ud83c\\uddec\\ud83c\\uddf7 \\ud83c\\uddee\\ud83c\\uddf1 \\ud83c\\uddf0\\ud83c\\uddf7\"], [\"A fun-loving work in progress...\"], [\"\\u201c.....a cesspit of racism and sexism....\\u201d.\"], [\"Here with my old Irish two pence worth. \\ud83c\\uddee\\ud83c\\uddea (Living in London since the sixties).\"], [\"Here with my old Irish two pence worth. \\ud83c\\uddee\\ud83c\\uddea (Living in London since the sixties).\"], [\"supporter of all our armed forces but not the money grabbing legal scum dragging serving & ex servicemen thru the courts. Time to get behind our boys & girls.\"], [\"Most comments are deleted at the end of business day.....\"], [\"@LUFC\"], [\"Mummy, Girlfriend, Softball Player, Reader.  Please follow my brother\\u2019s new business Kinnaird Krafts.  https://t.co/npNQ24qwDb\"], [\"Looking for the wood through all these trees...\\nPronouns Wibble/Wobble\"], [\"It's ten talons clawing at twenty-six letters - Philip Roth\"], [\"Man\"], [\"Reggae Starz Radio - Dancehall Starz Radio - Lovers Rock Starz Radio - Soca Starz Radio. My Wife & My Queen \\ud83d\\udc51@OfficialJoyous\"], [\"21, ORIENT, Conservative, IR Student.\"], [\"\"], [\"Travel, cocktails and keen to help\"], [\"Arsenal Fan, IT Consultant (OCP),  APEX, PropTech CTO, AvGeek, SpaceGeek, TechGeek  #KBF, Anti-Woke \\ud83c\\uddec\\ud83c\\udde7\\ud83c\\uddf2\\ud83c\\uddfe\\ud83c\\uddf3\\ud83c\\uddf1\\ud83c\\uddf5\\ud83c\\uddf9\\ud83c\\udff4\\udb40\\udc67\\udb40\\udc62\\udb40\\udc73\\udb40\\udc63\\udb40\\udc74\\udb40\\udc7f\"], [\"If you know you know the Arsenal. don\\u2019t judge a book by a cover read it you never know what\\u2019s inside\"], [\"\"], [\"Social Butterfly \\ud83e\\udd8b, Friendly \\u2764\\ufe0f, Sarcastic \\ud83d\\ude09.  Love Animals \\ud83d\\udc0c\\ud83d\\udc1b\\ud83d\\udc2c\\ud83e\\udd81\\ud83d\\udc15\\ud83d\\udc35 sexist feminist peace lovin War monger!!\"], [\"\"], [\"Supporting N.I.Veterans from History being rewritten by terrorists. If you have FBPE in your title-GO AWAY!\"], [\"I am passionate about animal welfare. The more I learn about people the more I love my dogs. Not on here after a date and I don't suffer fools. #KBF\"], [\"\"], [\"Leyton Orient & Northern Ireland fan. Music lover and vinyl collector. Got opinions like everyone else but strangely seem to have lost my right to free speech.\"], [\"\"], [\"I'm in the common sense camp. Hate the dumbing down of society and all things reality show based.....\"], [\"The long & winding road eventually leads to a bridge over troubled waters.....My God if life was simple we\\u2019d all.....but that\\u2019s another story!\\u2764\\ufe0f \\ud83d\\ude37\"], [\"Non-woke English woman. Put your pronouns or FBPE in your bio and I\\u2019ll block you. A grand-daughter describes me as \\u201cFierce\\u201d.\"], [\"I don't care if you are on the right or the left, just stop spurting bias crap, please!\"], [\"\"], [\"I promote the best of SorryBro and the best of the Ben Phillips Prank YouTube channel. #Bae #Brofo #SorryBro\"], [\"Zero tolerance for whinging, whining Leftie shitfers. Still playing the game I love. Bye bye EU, it's (not) been nice knowing you. Hate #pisspoorjournalism\"], [\"Work Flow Management Consultant.\"], [\"2D / 3D Flight Tracking app on the Google Android Playstore\"], [\"International Law. Feminism. \\nTweeting in personal capacity.\\n'The body is and is and is' (Wis\\u0142awa Szymborska)\"], [\"9 9 9| Up the Blyth | \\ud83c\\udfce |\"], [\"9 9 9| Up the Blyth | \\ud83c\\udfce |\"], [\"WXTLewis@gmail.com Instagram: @WXTLewis @WaveyXTimes Snap: wxtlewis\"], [\"Seer / / Bono Vince Malum / / \\nNo followers please (add me to a list instead)\"], [\"Keep up to date with all events happening in parks & open spaces throughout #Lambeth #Brixton #Clapham #Streatham #Norwood #NorthLambeth events@lambeth.gov.uk\"], [\"Tormented by Multiple Sclerosis.\\n PPMS diagnosed 2013 .\\nJust a shadow of my former self.\\nEvolutionist and tea drinker.\"], [\"love & knowledge are what humans strive for, an Italian worked this out in the 1st century, use this app wisely or you'll sink into a hell with your followers.\"], [\"I'm told, by many i am a nice bloke, hence the user name, although i do have a evil streak in me (some times)\\nBeing a Gooner, doesn't make me a bad person.\"], [\"I'm told, by many i am a nice bloke, hence the user name, although i do have a evil streak in me (some times)\\nBeing a Gooner, doesn't make me a bad person.\"], [\"I'm told, by many i am a nice bloke, hence the user name, although i do have a evil streak in me (some times)\\nBeing a Gooner, doesn't make me a bad person.\"], [\"I'm told, by many i am a nice bloke, hence the user name, although i do have a evil streak in me (some times)\\nBeing a Gooner, doesn't make me a bad person.\"], [\"blissfully happily married,  norwich city fan\"], [\"\"], [\"\"], [\"All views are my own...and probably yours too\"], [\"The Big Cheese\"], [\"THE CENTRE OF UNIONISM THE UNITED KINGDOM OF GREAT BRITAIN THE POWERHOUSE UNION AND GLOBAL BRITAIN A INDEPENDENT UNION AND G8 COUNTRY\"], [\"COYS\"], [\"\"], [\"Klaatu Barrada Nikto\\n\\n#MBGA \\ud83c\\uddec\\ud83c\\udde7\\ud83c\\uddfa\\ud83c\\uddf8 #MAGA #Brexiteer Leave Means Leave  #WTO is the way to go.\"], [\"\\ud83c\\udff4\\udb40\\udc67\\udb40\\udc62\\udb40\\udc65\\udb40\\udc6e\\udb40\\udc67\\udb40\\udc7f@Arsenal fan. Red member. I used to do a bit of amateur boxing. \\ud83c\\udff4\\udb40\\udc67\\udb40\\udc62\\udb40\\udc65\\udb40\\udc6e\\udb40\\udc67\\udb40\\udc7f\"], [\"\"], [\"Snapchat: HelloImToasty\"], [\"Food and music lover who has worked in many different fields.\"], [\"FRONT @riots_rebecca GUITAR @findingaurorauk\"], [\"A great believer in teamwork. Proud father and grandad.\"], [\"\\u201cIt\\u2019s a multi-year squad evolution analysis\\u201d Ed Woodward Future Chairman of Altrincham FC\"], [\"When painting comes naturally. There's nothing like deep breaths after laughing that hard. Nothing in the world like a sore stomach for the right reasons.\"], [\"cricket enthusiast, Hampstead cricket coach, former President North Sydney Cricket, calling it how it is (views are my personal views)\"], [\"\"], [\"A licensed commercial manger with over 20 years\\u2019 experience in the licensed and hospitality industry. Love rum and coke.\"], [\"\\ud83c\\uddfe\\ud83c\\uddea\"], [\"just doing my bit......\"]], \"hoverlabel\": {\"namelength\": 0}, \"hovertemplate\": \"RW_prediction=False<br>Subjectivity=%{x}<br>Polarity=%{y}<br>Bios=%{customdata[0]}\", \"legendgroup\": \"RW_prediction=False\", \"marker\": {\"color\": \"#636efa\", \"symbol\": \"circle\"}, \"mode\": \"markers\", \"name\": \"RW_prediction=False\", \"showlegend\": true, \"type\": \"scatter\", \"x\": [0.0, 0.0, 0.0, 0.0, 0.7, 0.5785714285714285, 0.0, 0.0, 0.0, 0.4666666666666666, 0.2888888888888889, 0.6, 0.0, 0.0, 0.0, 0.0, 0.0, 0.0, 0.4666666666666666, 1.0, 1.0, 0.2857142857142857, 0.4738095238095238, 0.0, 0.0, 0.0, 0.0, 0.0, 0.5587962962962963, 0.0, 0.0, 0.2, 0.575, 0.6339285714285714, 0.75, 0.0, 0.0, 0.8500000000000001, 0.8500000000000001, 0.8500000000000001, 0.8500000000000001, 0.5583333333333333, 0.0, 0.0, 0.0, 0.6, 0.5357142857142857, 0.5777777777777778, 0.49000000000000005, 0.0, 0.25, 0.27708333333333335, 0.0, 0.51, 0.0, 0.6, 0.5416666666666666, 0.525, 0.25, 0.0, 0.30980725623582767, 0.1, 0.0, 0.25614285714285717, 0.7999999999999999, 0.0, 0.1, 0.2, 0.5642857142857143, 0.6000000000000001, 0.58, 0.0, 0.5, 1.0, 0.45, 0.825, 0.625, 0.0, 0.5, 0.2, 0.0, 0.0, 0.5416666666666666, 0.0, 0.2833333333333333, 0.5186507936507937, 1.0, 1.0, 0.0, 0.0, 0.7, 0.4, 0.0, 0.4966666666666667, 0.9, 0.13333333333333333, 0.0, 0.0, 0.0, 0.7875, 0.3125, 0.6333333333333333, 0.65, 0.0, 0.0, 0.0, 0.575, 0.0, 0.25, 0.5576388888888889, 0.7, 0.0], \"xaxis\": \"x\", \"y\": [0.0, 0.0, 0.0, 0.0, -0.09999999999999998, -0.421875, 0.0, 0.0, 0.0, 0.06666666666666665, -0.15555555555555559, 0.7000000000000001, 0.0, 0.0, 0.0, 0.0, 0.0, 0.0, 0.2583333333333333, 1.0, 1.0, -0.17857142857142858, 0.10357142857142862, 0.0, 0.0, 0.0, 0.0, 0.0, 0.1625, 0.0, 0.0, -0.1, 0.25, 0.12142857142857143, 0.30000000000000004, 0.0, 0.0, -0.8, -0.8, -0.8, -0.8, -0.21666666666666665, 0.0, 0.0, 0.0, -0.2, 0.2857142857142857, -0.5555555555555556, -0.38, 0.0, 0.25, 0.010416666666666678, 0.0, 0.165, 0.0, -0.4, -0.36458333333333337, -0.45, 0.16666666666666666, 0.0, -0.012443310657596383, 0.0, 0.0, 0.004142857142857137, -0.625, 0.0, 0.1, -0.1, 0.24285714285714283, 0.6, 0.11166666666666666, 0.0, 0.25, 0.5, -0.4, -0.4, 0.25833333333333336, 0.0, 0.5, 0.2, 0.0, 0.0, 0.05000000000000001, 0.0, 0.2916666666666667, -0.07817460317460319, 0.6, 0.6, 0.0, 0.0, -0.2, -0.3, 0.0, 0.03166666666666669, 0.25, 0.03333333333333333, 0.0, 0.0, 0.0, -0.09375, 0.2, -0.4666666666666666, 0.35, 0.0, 0.0, 0.0, 0.35, 0.0, -0.05, -0.08680555555555558, -0.5, 0.0], \"yaxis\": \"y\"}, {\"customdata\": [[\"Patriot, Brexiteer. Anti Communism and Anti Islam. Pro democracy and Free Speech\"], [\"Conservative, Trump, Brexit, Defund the BBC, Road Transport, Costa fiend, sometimes rides a bike, Yorkshire. \\n\\n#alllivesmatter\"], [\"Londoner. Smarter than the average Twitter user. I don't read comments. Block Happy. Allergic to anyone with FBPE in their profile. Not here for your opinion.\"], [\"Brexiteer\\nRickroo\\nEngage with all Parler account @rickwoohan as well\\nMasters level acc/fin\\n#Britishlivesmatter\\n#NeverFlySAA\\n#boycotttheproms\\n#voetsekANC\"], [\"Particularly fond of my own country. Looking forward to it being independent again, rather than ruled by self-important bureaucrats.\"], [\"Pronouns: Fuck/Off\"], [\"Peace, I am Mo,\\nInfinite Dimensional Ascended Master\\nBlue Ray Omniscient Angelic Gridworker\\nFollow Me For Follow Back\\nRetweet Me For Follow Back\\nInfinite Love\"], [\"Centre Ground in politics, Brexiteer, BWFC,  Leverhulme, George the Martyr. \\n\\n\\nNo fbpe types please.\\nI don't reply to Direct Messages\"], [\"brexiteer, cons, truth sayer & seeker, love my family, friends, animals, countryside, passionate music lover\"], [\"100% leave EU. English Rugby fan. Guitar player, 6 strings 1 dream,natural conservative not a Tory supporter.Huge animal lover, hates animal cruelty of any kind\"], [\"Follow me, I\\u2019ll follow back \\ud83c\\uddec\\ud83c\\udde7 stop illegal migrants \\ud83d\\udcaa very right wing \\ud83d\\udc49 love \\ud83c\\uddfa\\ud83c\\uddf8 used to be DJBURNS. All comments are my own.\"], [\"London hairdresser, voted Brexit. Don\\u2019t fund BBC, buy British. Daughter of immigrant, Britalian. Follow F1, love yoga and meditation. love sarcasm\"]], \"hoverlabel\": {\"namelength\": 0}, \"hovertemplate\": \"RW_prediction=True<br>Subjectivity=%{x}<br>Polarity=%{y}<br>Bios=%{customdata[0]}\", \"legendgroup\": \"RW_prediction=True\", \"marker\": {\"color\": \"#EF553B\", \"symbol\": \"circle\"}, \"mode\": \"markers\", \"name\": \"RW_prediction=True\", \"showlegend\": true, \"type\": \"scatter\", \"x\": [0.0, 0.2888888888888889, 0.4083333333333334, 0.5666666666666668, 0.3, 0.2875, 0.0, 0.0, 0.4, 0.0, 0.5125, 0.3], \"xaxis\": \"x\", \"y\": [0.0, -0.15555555555555559, 0.10833333333333332, 0.10000000000000002, -0.025, 0.025, 0.0, 0.0, -0.375, 0.0, 0.225, -0.125], \"yaxis\": \"y\"}],\n",
              "                        {\"legend\": {\"tracegroupgap\": 0}, \"margin\": {\"t\": 60}, \"template\": {\"data\": {\"bar\": [{\"error_x\": {\"color\": \"#2a3f5f\"}, \"error_y\": {\"color\": \"#2a3f5f\"}, \"marker\": {\"line\": {\"color\": \"#E5ECF6\", \"width\": 0.5}}, \"type\": \"bar\"}], \"barpolar\": [{\"marker\": {\"line\": {\"color\": \"#E5ECF6\", \"width\": 0.5}}, \"type\": \"barpolar\"}], \"carpet\": [{\"aaxis\": {\"endlinecolor\": \"#2a3f5f\", \"gridcolor\": \"white\", \"linecolor\": \"white\", \"minorgridcolor\": \"white\", \"startlinecolor\": \"#2a3f5f\"}, \"baxis\": {\"endlinecolor\": \"#2a3f5f\", \"gridcolor\": \"white\", \"linecolor\": \"white\", \"minorgridcolor\": \"white\", \"startlinecolor\": \"#2a3f5f\"}, \"type\": \"carpet\"}], \"choropleth\": [{\"colorbar\": {\"outlinewidth\": 0, \"ticks\": \"\"}, \"type\": \"choropleth\"}], \"contour\": [{\"colorbar\": {\"outlinewidth\": 0, \"ticks\": \"\"}, \"colorscale\": [[0.0, \"#0d0887\"], [0.1111111111111111, \"#46039f\"], [0.2222222222222222, \"#7201a8\"], [0.3333333333333333, \"#9c179e\"], [0.4444444444444444, \"#bd3786\"], [0.5555555555555556, \"#d8576b\"], [0.6666666666666666, \"#ed7953\"], [0.7777777777777778, \"#fb9f3a\"], [0.8888888888888888, \"#fdca26\"], [1.0, \"#f0f921\"]], \"type\": \"contour\"}], \"contourcarpet\": [{\"colorbar\": {\"outlinewidth\": 0, \"ticks\": \"\"}, \"type\": \"contourcarpet\"}], \"heatmap\": [{\"colorbar\": {\"outlinewidth\": 0, \"ticks\": \"\"}, \"colorscale\": [[0.0, \"#0d0887\"], [0.1111111111111111, \"#46039f\"], [0.2222222222222222, \"#7201a8\"], [0.3333333333333333, \"#9c179e\"], [0.4444444444444444, \"#bd3786\"], [0.5555555555555556, \"#d8576b\"], [0.6666666666666666, \"#ed7953\"], [0.7777777777777778, \"#fb9f3a\"], [0.8888888888888888, \"#fdca26\"], [1.0, \"#f0f921\"]], \"type\": \"heatmap\"}], \"heatmapgl\": [{\"colorbar\": {\"outlinewidth\": 0, \"ticks\": \"\"}, \"colorscale\": [[0.0, \"#0d0887\"], [0.1111111111111111, \"#46039f\"], [0.2222222222222222, \"#7201a8\"], [0.3333333333333333, \"#9c179e\"], [0.4444444444444444, \"#bd3786\"], [0.5555555555555556, \"#d8576b\"], [0.6666666666666666, \"#ed7953\"], [0.7777777777777778, \"#fb9f3a\"], [0.8888888888888888, \"#fdca26\"], [1.0, \"#f0f921\"]], \"type\": \"heatmapgl\"}], \"histogram\": [{\"marker\": {\"colorbar\": {\"outlinewidth\": 0, \"ticks\": \"\"}}, \"type\": \"histogram\"}], \"histogram2d\": [{\"colorbar\": {\"outlinewidth\": 0, \"ticks\": \"\"}, \"colorscale\": [[0.0, \"#0d0887\"], [0.1111111111111111, \"#46039f\"], [0.2222222222222222, \"#7201a8\"], [0.3333333333333333, \"#9c179e\"], [0.4444444444444444, \"#bd3786\"], [0.5555555555555556, \"#d8576b\"], [0.6666666666666666, \"#ed7953\"], [0.7777777777777778, \"#fb9f3a\"], [0.8888888888888888, \"#fdca26\"], [1.0, \"#f0f921\"]], \"type\": \"histogram2d\"}], \"histogram2dcontour\": [{\"colorbar\": {\"outlinewidth\": 0, \"ticks\": \"\"}, \"colorscale\": [[0.0, \"#0d0887\"], [0.1111111111111111, \"#46039f\"], [0.2222222222222222, \"#7201a8\"], [0.3333333333333333, \"#9c179e\"], [0.4444444444444444, \"#bd3786\"], [0.5555555555555556, \"#d8576b\"], [0.6666666666666666, \"#ed7953\"], [0.7777777777777778, \"#fb9f3a\"], [0.8888888888888888, \"#fdca26\"], [1.0, \"#f0f921\"]], \"type\": \"histogram2dcontour\"}], \"mesh3d\": [{\"colorbar\": {\"outlinewidth\": 0, \"ticks\": \"\"}, \"type\": \"mesh3d\"}], \"parcoords\": [{\"line\": {\"colorbar\": {\"outlinewidth\": 0, \"ticks\": \"\"}}, \"type\": \"parcoords\"}], \"pie\": [{\"automargin\": true, \"type\": \"pie\"}], \"scatter\": [{\"marker\": {\"colorbar\": {\"outlinewidth\": 0, \"ticks\": \"\"}}, \"type\": \"scatter\"}], \"scatter3d\": [{\"line\": {\"colorbar\": {\"outlinewidth\": 0, \"ticks\": \"\"}}, \"marker\": {\"colorbar\": {\"outlinewidth\": 0, \"ticks\": \"\"}}, \"type\": \"scatter3d\"}], \"scattercarpet\": [{\"marker\": {\"colorbar\": {\"outlinewidth\": 0, \"ticks\": \"\"}}, \"type\": \"scattercarpet\"}], \"scattergeo\": [{\"marker\": {\"colorbar\": {\"outlinewidth\": 0, \"ticks\": \"\"}}, \"type\": \"scattergeo\"}], \"scattergl\": [{\"marker\": {\"colorbar\": {\"outlinewidth\": 0, \"ticks\": \"\"}}, \"type\": \"scattergl\"}], \"scattermapbox\": [{\"marker\": {\"colorbar\": {\"outlinewidth\": 0, \"ticks\": \"\"}}, \"type\": \"scattermapbox\"}], \"scatterpolar\": [{\"marker\": {\"colorbar\": {\"outlinewidth\": 0, \"ticks\": \"\"}}, \"type\": \"scatterpolar\"}], \"scatterpolargl\": [{\"marker\": {\"colorbar\": {\"outlinewidth\": 0, \"ticks\": \"\"}}, \"type\": \"scatterpolargl\"}], \"scatterternary\": [{\"marker\": {\"colorbar\": {\"outlinewidth\": 0, \"ticks\": \"\"}}, \"type\": \"scatterternary\"}], \"surface\": [{\"colorbar\": {\"outlinewidth\": 0, \"ticks\": \"\"}, \"colorscale\": [[0.0, \"#0d0887\"], [0.1111111111111111, \"#46039f\"], [0.2222222222222222, \"#7201a8\"], [0.3333333333333333, \"#9c179e\"], [0.4444444444444444, \"#bd3786\"], [0.5555555555555556, \"#d8576b\"], [0.6666666666666666, \"#ed7953\"], [0.7777777777777778, \"#fb9f3a\"], [0.8888888888888888, \"#fdca26\"], [1.0, \"#f0f921\"]], \"type\": \"surface\"}], \"table\": [{\"cells\": {\"fill\": {\"color\": \"#EBF0F8\"}, \"line\": {\"color\": \"white\"}}, \"header\": {\"fill\": {\"color\": \"#C8D4E3\"}, \"line\": {\"color\": \"white\"}}, \"type\": \"table\"}]}, \"layout\": {\"annotationdefaults\": {\"arrowcolor\": \"#2a3f5f\", \"arrowhead\": 0, \"arrowwidth\": 1}, \"coloraxis\": {\"colorbar\": {\"outlinewidth\": 0, \"ticks\": \"\"}}, \"colorscale\": {\"diverging\": [[0, \"#8e0152\"], [0.1, \"#c51b7d\"], [0.2, \"#de77ae\"], [0.3, \"#f1b6da\"], [0.4, \"#fde0ef\"], [0.5, \"#f7f7f7\"], [0.6, \"#e6f5d0\"], [0.7, \"#b8e186\"], [0.8, \"#7fbc41\"], [0.9, \"#4d9221\"], [1, \"#276419\"]], \"sequential\": [[0.0, \"#0d0887\"], [0.1111111111111111, \"#46039f\"], [0.2222222222222222, \"#7201a8\"], [0.3333333333333333, \"#9c179e\"], [0.4444444444444444, \"#bd3786\"], [0.5555555555555556, \"#d8576b\"], [0.6666666666666666, \"#ed7953\"], [0.7777777777777778, \"#fb9f3a\"], [0.8888888888888888, \"#fdca26\"], [1.0, \"#f0f921\"]], \"sequentialminus\": [[0.0, \"#0d0887\"], [0.1111111111111111, \"#46039f\"], [0.2222222222222222, \"#7201a8\"], [0.3333333333333333, \"#9c179e\"], [0.4444444444444444, \"#bd3786\"], [0.5555555555555556, \"#d8576b\"], [0.6666666666666666, \"#ed7953\"], [0.7777777777777778, \"#fb9f3a\"], [0.8888888888888888, \"#fdca26\"], [1.0, \"#f0f921\"]]}, \"colorway\": [\"#636efa\", \"#EF553B\", \"#00cc96\", \"#ab63fa\", \"#FFA15A\", \"#19d3f3\", \"#FF6692\", \"#B6E880\", \"#FF97FF\", \"#FECB52\"], \"font\": {\"color\": \"#2a3f5f\"}, \"geo\": {\"bgcolor\": \"white\", \"lakecolor\": \"white\", \"landcolor\": \"#E5ECF6\", \"showlakes\": true, \"showland\": true, \"subunitcolor\": \"white\"}, \"hoverlabel\": {\"align\": \"left\"}, \"hovermode\": \"closest\", \"mapbox\": {\"style\": \"light\"}, \"paper_bgcolor\": \"white\", \"plot_bgcolor\": \"#E5ECF6\", \"polar\": {\"angularaxis\": {\"gridcolor\": \"white\", \"linecolor\": \"white\", \"ticks\": \"\"}, \"bgcolor\": \"#E5ECF6\", \"radialaxis\": {\"gridcolor\": \"white\", \"linecolor\": \"white\", \"ticks\": \"\"}}, \"scene\": {\"xaxis\": {\"backgroundcolor\": \"#E5ECF6\", \"gridcolor\": \"white\", \"gridwidth\": 2, \"linecolor\": \"white\", \"showbackground\": true, \"ticks\": \"\", \"zerolinecolor\": \"white\"}, \"yaxis\": {\"backgroundcolor\": \"#E5ECF6\", \"gridcolor\": \"white\", \"gridwidth\": 2, \"linecolor\": \"white\", \"showbackground\": true, \"ticks\": \"\", \"zerolinecolor\": \"white\"}, \"zaxis\": {\"backgroundcolor\": \"#E5ECF6\", \"gridcolor\": \"white\", \"gridwidth\": 2, \"linecolor\": \"white\", \"showbackground\": true, \"ticks\": \"\", \"zerolinecolor\": \"white\"}}, \"shapedefaults\": {\"line\": {\"color\": \"#2a3f5f\"}}, \"ternary\": {\"aaxis\": {\"gridcolor\": \"white\", \"linecolor\": \"white\", \"ticks\": \"\"}, \"baxis\": {\"gridcolor\": \"white\", \"linecolor\": \"white\", \"ticks\": \"\"}, \"bgcolor\": \"#E5ECF6\", \"caxis\": {\"gridcolor\": \"white\", \"linecolor\": \"white\", \"ticks\": \"\"}}, \"title\": {\"x\": 0.05}, \"xaxis\": {\"automargin\": true, \"gridcolor\": \"white\", \"linecolor\": \"white\", \"ticks\": \"\", \"title\": {\"standoff\": 15}, \"zerolinecolor\": \"white\", \"zerolinewidth\": 2}, \"yaxis\": {\"automargin\": true, \"gridcolor\": \"white\", \"linecolor\": \"white\", \"ticks\": \"\", \"title\": {\"standoff\": 15}, \"zerolinecolor\": \"white\", \"zerolinewidth\": 2}}}, \"xaxis\": {\"anchor\": \"y\", \"domain\": [0.0, 1.0], \"range\": [0, 1], \"title\": {\"text\": \"Subjectivity\"}}, \"yaxis\": {\"anchor\": \"x\", \"domain\": [0.0, 1.0], \"range\": [-1, 1], \"title\": {\"text\": \"Polarity\"}}},\n",
              "                        {\"responsive\": true}\n",
              "                    ).then(function(){\n",
              "                            \n",
              "var gd = document.getElementById('f79bd029-881c-42a0-87dd-0d6a47c75c7c');\n",
              "var x = new MutationObserver(function (mutations, observer) {{\n",
              "        var display = window.getComputedStyle(gd).display;\n",
              "        if (!display || display === 'none') {{\n",
              "            console.log([gd, 'removed!']);\n",
              "            Plotly.purge(gd);\n",
              "            observer.disconnect();\n",
              "        }}\n",
              "}});\n",
              "\n",
              "// Listen for the removal of the full notebook cells\n",
              "var notebookContainer = gd.closest('#notebook-container');\n",
              "if (notebookContainer) {{\n",
              "    x.observe(notebookContainer, {childList: true});\n",
              "}}\n",
              "\n",
              "// Listen for the clearing of the current output cell\n",
              "var outputEl = gd.closest('.output');\n",
              "if (outputEl) {{\n",
              "    x.observe(outputEl, {childList: true});\n",
              "}}\n",
              "\n",
              "                        })\n",
              "                };\n",
              "                \n",
              "            </script>\n",
              "        </div>\n",
              "</body>\n",
              "</html>"
            ]
          },
          "metadata": {
            "tags": []
          }
        }
      ]
    },
    {
      "cell_type": "code",
      "metadata": {
        "id": "157quwrgmq03",
        "colab_type": "code",
        "colab": {}
      },
      "source": [
        "grouped_by_RW = new_df.groupby(\"RW_prediction\").agg(\n",
        "    count= (\"text\", len),\n",
        "    Subjectivity = (\"Subjectivity\", np.mean),\n",
        "    Polarity = (\"Polarity\", np.mean)\n",
        ")"
      ],
      "execution_count": 69,
      "outputs": []
    },
    {
      "cell_type": "code",
      "metadata": {
        "id": "ktXTxtGpoZDC",
        "colab_type": "code",
        "colab": {
          "base_uri": "https://localhost:8080/",
          "height": 142
        },
        "outputId": "3198d9b1-6d7f-406e-c348-e09aca531c8f"
      },
      "source": [
        "grouped_by_RW"
      ],
      "execution_count": 212,
      "outputs": [
        {
          "output_type": "execute_result",
          "data": {
            "text/html": [
              "<div>\n",
              "<style scoped>\n",
              "    .dataframe tbody tr th:only-of-type {\n",
              "        vertical-align: middle;\n",
              "    }\n",
              "\n",
              "    .dataframe tbody tr th {\n",
              "        vertical-align: top;\n",
              "    }\n",
              "\n",
              "    .dataframe thead th {\n",
              "        text-align: right;\n",
              "    }\n",
              "</style>\n",
              "<table border=\"1\" class=\"dataframe\">\n",
              "  <thead>\n",
              "    <tr style=\"text-align: right;\">\n",
              "      <th></th>\n",
              "      <th>count</th>\n",
              "      <th>Subjectivity</th>\n",
              "      <th>Polarity</th>\n",
              "    </tr>\n",
              "    <tr>\n",
              "      <th>RW_prediction</th>\n",
              "      <th></th>\n",
              "      <th></th>\n",
              "      <th></th>\n",
              "    </tr>\n",
              "  </thead>\n",
              "  <tbody>\n",
              "    <tr>\n",
              "      <th>False</th>\n",
              "      <td>112</td>\n",
              "      <td>0.319138</td>\n",
              "      <td>0.002931</td>\n",
              "    </tr>\n",
              "    <tr>\n",
              "      <th>True</th>\n",
              "      <td>12</td>\n",
              "      <td>0.255324</td>\n",
              "      <td>-0.018519</td>\n",
              "    </tr>\n",
              "  </tbody>\n",
              "</table>\n",
              "</div>"
            ],
            "text/plain": [
              "               count  Subjectivity  Polarity\n",
              "RW_prediction                               \n",
              "False            112      0.319138  0.002931\n",
              "True              12      0.255324 -0.018519"
            ]
          },
          "metadata": {
            "tags": []
          },
          "execution_count": 212
        }
      ]
    },
    {
      "cell_type": "code",
      "metadata": {
        "id": "DoY0-LWaoONE",
        "colab_type": "code",
        "colab": {
          "base_uri": "https://localhost:8080/",
          "height": 542
        },
        "outputId": "597a23da-28cc-47b3-be1a-bccb175da480"
      },
      "source": [
        "import plotly.express as px\n",
        "fig1 = px.bar(grouped_by_RW, y=\"count\", color=grouped_by_RW.index)\n",
        "fig1.show()"
      ],
      "execution_count": 160,
      "outputs": [
        {
          "output_type": "display_data",
          "data": {
            "text/html": [
              "<html>\n",
              "<head><meta charset=\"utf-8\" /></head>\n",
              "<body>\n",
              "    <div>\n",
              "            <script src=\"https://cdnjs.cloudflare.com/ajax/libs/mathjax/2.7.5/MathJax.js?config=TeX-AMS-MML_SVG\"></script><script type=\"text/javascript\">if (window.MathJax) {MathJax.Hub.Config({SVG: {font: \"STIX-Web\"}});}</script>\n",
              "                <script type=\"text/javascript\">window.PlotlyConfig = {MathJaxConfig: 'local'};</script>\n",
              "        <script src=\"https://cdn.plot.ly/plotly-latest.min.js\"></script>    \n",
              "            <div id=\"b0ccf4e8-3591-4061-9626-2b7c43b1408a\" class=\"plotly-graph-div\" style=\"height:525px; width:100%;\"></div>\n",
              "            <script type=\"text/javascript\">\n",
              "                \n",
              "                    window.PLOTLYENV=window.PLOTLYENV || {};\n",
              "                    \n",
              "                if (document.getElementById(\"b0ccf4e8-3591-4061-9626-2b7c43b1408a\")) {\n",
              "                    Plotly.newPlot(\n",
              "                        'b0ccf4e8-3591-4061-9626-2b7c43b1408a',\n",
              "                        [{\"alignmentgroup\": \"True\", \"hoverlabel\": {\"namelength\": 0}, \"hovertemplate\": \"color=False<br>count=%{y}\", \"legendgroup\": \"color=False\", \"marker\": {\"color\": \"#636efa\"}, \"name\": \"color=False\", \"offsetgroup\": \"color=False\", \"orientation\": \"v\", \"showlegend\": true, \"textposition\": \"auto\", \"type\": \"bar\", \"xaxis\": \"x\", \"y\": [112], \"yaxis\": \"y\"}, {\"alignmentgroup\": \"True\", \"hoverlabel\": {\"namelength\": 0}, \"hovertemplate\": \"color=True<br>count=%{y}\", \"legendgroup\": \"color=True\", \"marker\": {\"color\": \"#EF553B\"}, \"name\": \"color=True\", \"offsetgroup\": \"color=True\", \"orientation\": \"v\", \"showlegend\": true, \"textposition\": \"auto\", \"type\": \"bar\", \"xaxis\": \"x\", \"y\": [12], \"yaxis\": \"y\"}],\n",
              "                        {\"barmode\": \"relative\", \"legend\": {\"tracegroupgap\": 0}, \"margin\": {\"t\": 60}, \"template\": {\"data\": {\"bar\": [{\"error_x\": {\"color\": \"#2a3f5f\"}, \"error_y\": {\"color\": \"#2a3f5f\"}, \"marker\": {\"line\": {\"color\": \"#E5ECF6\", \"width\": 0.5}}, \"type\": \"bar\"}], \"barpolar\": [{\"marker\": {\"line\": {\"color\": \"#E5ECF6\", \"width\": 0.5}}, \"type\": \"barpolar\"}], \"carpet\": [{\"aaxis\": {\"endlinecolor\": \"#2a3f5f\", \"gridcolor\": \"white\", \"linecolor\": \"white\", \"minorgridcolor\": \"white\", \"startlinecolor\": \"#2a3f5f\"}, \"baxis\": {\"endlinecolor\": \"#2a3f5f\", \"gridcolor\": \"white\", \"linecolor\": \"white\", \"minorgridcolor\": \"white\", \"startlinecolor\": \"#2a3f5f\"}, \"type\": \"carpet\"}], \"choropleth\": [{\"colorbar\": {\"outlinewidth\": 0, \"ticks\": \"\"}, \"type\": \"choropleth\"}], \"contour\": [{\"colorbar\": {\"outlinewidth\": 0, \"ticks\": \"\"}, \"colorscale\": [[0.0, \"#0d0887\"], [0.1111111111111111, \"#46039f\"], [0.2222222222222222, \"#7201a8\"], [0.3333333333333333, \"#9c179e\"], [0.4444444444444444, \"#bd3786\"], [0.5555555555555556, \"#d8576b\"], [0.6666666666666666, \"#ed7953\"], [0.7777777777777778, \"#fb9f3a\"], [0.8888888888888888, \"#fdca26\"], [1.0, \"#f0f921\"]], \"type\": \"contour\"}], \"contourcarpet\": [{\"colorbar\": {\"outlinewidth\": 0, \"ticks\": \"\"}, \"type\": \"contourcarpet\"}], \"heatmap\": [{\"colorbar\": {\"outlinewidth\": 0, \"ticks\": \"\"}, \"colorscale\": [[0.0, \"#0d0887\"], [0.1111111111111111, \"#46039f\"], [0.2222222222222222, \"#7201a8\"], [0.3333333333333333, \"#9c179e\"], [0.4444444444444444, \"#bd3786\"], [0.5555555555555556, \"#d8576b\"], [0.6666666666666666, \"#ed7953\"], [0.7777777777777778, \"#fb9f3a\"], [0.8888888888888888, \"#fdca26\"], [1.0, \"#f0f921\"]], \"type\": \"heatmap\"}], \"heatmapgl\": [{\"colorbar\": {\"outlinewidth\": 0, \"ticks\": \"\"}, \"colorscale\": [[0.0, \"#0d0887\"], [0.1111111111111111, \"#46039f\"], [0.2222222222222222, \"#7201a8\"], [0.3333333333333333, \"#9c179e\"], [0.4444444444444444, \"#bd3786\"], [0.5555555555555556, \"#d8576b\"], [0.6666666666666666, \"#ed7953\"], [0.7777777777777778, \"#fb9f3a\"], [0.8888888888888888, \"#fdca26\"], [1.0, \"#f0f921\"]], \"type\": \"heatmapgl\"}], \"histogram\": [{\"marker\": {\"colorbar\": {\"outlinewidth\": 0, \"ticks\": \"\"}}, \"type\": \"histogram\"}], \"histogram2d\": [{\"colorbar\": {\"outlinewidth\": 0, \"ticks\": \"\"}, \"colorscale\": [[0.0, \"#0d0887\"], [0.1111111111111111, \"#46039f\"], [0.2222222222222222, \"#7201a8\"], [0.3333333333333333, \"#9c179e\"], [0.4444444444444444, \"#bd3786\"], [0.5555555555555556, \"#d8576b\"], [0.6666666666666666, \"#ed7953\"], [0.7777777777777778, \"#fb9f3a\"], [0.8888888888888888, \"#fdca26\"], [1.0, \"#f0f921\"]], \"type\": \"histogram2d\"}], \"histogram2dcontour\": [{\"colorbar\": {\"outlinewidth\": 0, \"ticks\": \"\"}, \"colorscale\": [[0.0, \"#0d0887\"], [0.1111111111111111, \"#46039f\"], [0.2222222222222222, \"#7201a8\"], [0.3333333333333333, \"#9c179e\"], [0.4444444444444444, \"#bd3786\"], [0.5555555555555556, \"#d8576b\"], [0.6666666666666666, \"#ed7953\"], [0.7777777777777778, \"#fb9f3a\"], [0.8888888888888888, \"#fdca26\"], [1.0, \"#f0f921\"]], \"type\": \"histogram2dcontour\"}], \"mesh3d\": [{\"colorbar\": {\"outlinewidth\": 0, \"ticks\": \"\"}, \"type\": \"mesh3d\"}], \"parcoords\": [{\"line\": {\"colorbar\": {\"outlinewidth\": 0, \"ticks\": \"\"}}, \"type\": \"parcoords\"}], \"pie\": [{\"automargin\": true, \"type\": \"pie\"}], \"scatter\": [{\"marker\": {\"colorbar\": {\"outlinewidth\": 0, \"ticks\": \"\"}}, \"type\": \"scatter\"}], \"scatter3d\": [{\"line\": {\"colorbar\": {\"outlinewidth\": 0, \"ticks\": \"\"}}, \"marker\": {\"colorbar\": {\"outlinewidth\": 0, \"ticks\": \"\"}}, \"type\": \"scatter3d\"}], \"scattercarpet\": [{\"marker\": {\"colorbar\": {\"outlinewidth\": 0, \"ticks\": \"\"}}, \"type\": \"scattercarpet\"}], \"scattergeo\": [{\"marker\": {\"colorbar\": {\"outlinewidth\": 0, \"ticks\": \"\"}}, \"type\": \"scattergeo\"}], \"scattergl\": [{\"marker\": {\"colorbar\": {\"outlinewidth\": 0, \"ticks\": \"\"}}, \"type\": \"scattergl\"}], \"scattermapbox\": [{\"marker\": {\"colorbar\": {\"outlinewidth\": 0, \"ticks\": \"\"}}, \"type\": \"scattermapbox\"}], \"scatterpolar\": [{\"marker\": {\"colorbar\": {\"outlinewidth\": 0, \"ticks\": \"\"}}, \"type\": \"scatterpolar\"}], \"scatterpolargl\": [{\"marker\": {\"colorbar\": {\"outlinewidth\": 0, \"ticks\": \"\"}}, \"type\": \"scatterpolargl\"}], \"scatterternary\": [{\"marker\": {\"colorbar\": {\"outlinewidth\": 0, \"ticks\": \"\"}}, \"type\": \"scatterternary\"}], \"surface\": [{\"colorbar\": {\"outlinewidth\": 0, \"ticks\": \"\"}, \"colorscale\": [[0.0, \"#0d0887\"], [0.1111111111111111, \"#46039f\"], [0.2222222222222222, \"#7201a8\"], [0.3333333333333333, \"#9c179e\"], [0.4444444444444444, \"#bd3786\"], [0.5555555555555556, \"#d8576b\"], [0.6666666666666666, \"#ed7953\"], [0.7777777777777778, \"#fb9f3a\"], [0.8888888888888888, \"#fdca26\"], [1.0, \"#f0f921\"]], \"type\": \"surface\"}], \"table\": [{\"cells\": {\"fill\": {\"color\": \"#EBF0F8\"}, \"line\": {\"color\": \"white\"}}, \"header\": {\"fill\": {\"color\": \"#C8D4E3\"}, \"line\": {\"color\": \"white\"}}, \"type\": \"table\"}]}, \"layout\": {\"annotationdefaults\": {\"arrowcolor\": \"#2a3f5f\", \"arrowhead\": 0, \"arrowwidth\": 1}, \"coloraxis\": {\"colorbar\": {\"outlinewidth\": 0, \"ticks\": \"\"}}, \"colorscale\": {\"diverging\": [[0, \"#8e0152\"], [0.1, \"#c51b7d\"], [0.2, \"#de77ae\"], [0.3, \"#f1b6da\"], [0.4, \"#fde0ef\"], [0.5, \"#f7f7f7\"], [0.6, \"#e6f5d0\"], [0.7, \"#b8e186\"], [0.8, \"#7fbc41\"], [0.9, \"#4d9221\"], [1, \"#276419\"]], \"sequential\": [[0.0, \"#0d0887\"], [0.1111111111111111, \"#46039f\"], [0.2222222222222222, \"#7201a8\"], [0.3333333333333333, \"#9c179e\"], [0.4444444444444444, \"#bd3786\"], [0.5555555555555556, \"#d8576b\"], [0.6666666666666666, \"#ed7953\"], [0.7777777777777778, \"#fb9f3a\"], [0.8888888888888888, \"#fdca26\"], [1.0, \"#f0f921\"]], \"sequentialminus\": [[0.0, \"#0d0887\"], [0.1111111111111111, \"#46039f\"], [0.2222222222222222, \"#7201a8\"], [0.3333333333333333, \"#9c179e\"], [0.4444444444444444, \"#bd3786\"], [0.5555555555555556, \"#d8576b\"], [0.6666666666666666, \"#ed7953\"], [0.7777777777777778, \"#fb9f3a\"], [0.8888888888888888, \"#fdca26\"], [1.0, \"#f0f921\"]]}, \"colorway\": [\"#636efa\", \"#EF553B\", \"#00cc96\", \"#ab63fa\", \"#FFA15A\", \"#19d3f3\", \"#FF6692\", \"#B6E880\", \"#FF97FF\", \"#FECB52\"], \"font\": {\"color\": \"#2a3f5f\"}, \"geo\": {\"bgcolor\": \"white\", \"lakecolor\": \"white\", \"landcolor\": \"#E5ECF6\", \"showlakes\": true, \"showland\": true, \"subunitcolor\": \"white\"}, \"hoverlabel\": {\"align\": \"left\"}, \"hovermode\": \"closest\", \"mapbox\": {\"style\": \"light\"}, \"paper_bgcolor\": \"white\", \"plot_bgcolor\": \"#E5ECF6\", \"polar\": {\"angularaxis\": {\"gridcolor\": \"white\", \"linecolor\": \"white\", \"ticks\": \"\"}, \"bgcolor\": \"#E5ECF6\", \"radialaxis\": {\"gridcolor\": \"white\", \"linecolor\": \"white\", \"ticks\": \"\"}}, \"scene\": {\"xaxis\": {\"backgroundcolor\": \"#E5ECF6\", \"gridcolor\": \"white\", \"gridwidth\": 2, \"linecolor\": \"white\", \"showbackground\": true, \"ticks\": \"\", \"zerolinecolor\": \"white\"}, \"yaxis\": {\"backgroundcolor\": \"#E5ECF6\", \"gridcolor\": \"white\", \"gridwidth\": 2, \"linecolor\": \"white\", \"showbackground\": true, \"ticks\": \"\", \"zerolinecolor\": \"white\"}, \"zaxis\": {\"backgroundcolor\": \"#E5ECF6\", \"gridcolor\": \"white\", \"gridwidth\": 2, \"linecolor\": \"white\", \"showbackground\": true, \"ticks\": \"\", \"zerolinecolor\": \"white\"}}, \"shapedefaults\": {\"line\": {\"color\": \"#2a3f5f\"}}, \"ternary\": {\"aaxis\": {\"gridcolor\": \"white\", \"linecolor\": \"white\", \"ticks\": \"\"}, \"baxis\": {\"gridcolor\": \"white\", \"linecolor\": \"white\", \"ticks\": \"\"}, \"bgcolor\": \"#E5ECF6\", \"caxis\": {\"gridcolor\": \"white\", \"linecolor\": \"white\", \"ticks\": \"\"}}, \"title\": {\"x\": 0.05}, \"xaxis\": {\"automargin\": true, \"gridcolor\": \"white\", \"linecolor\": \"white\", \"ticks\": \"\", \"title\": {\"standoff\": 15}, \"zerolinecolor\": \"white\", \"zerolinewidth\": 2}, \"yaxis\": {\"automargin\": true, \"gridcolor\": \"white\", \"linecolor\": \"white\", \"ticks\": \"\", \"title\": {\"standoff\": 15}, \"zerolinecolor\": \"white\", \"zerolinewidth\": 2}}}, \"xaxis\": {\"anchor\": \"y\", \"domain\": [0.0, 1.0]}, \"yaxis\": {\"anchor\": \"x\", \"domain\": [0.0, 1.0], \"title\": {\"text\": \"count\"}}},\n",
              "                        {\"responsive\": true}\n",
              "                    ).then(function(){\n",
              "                            \n",
              "var gd = document.getElementById('b0ccf4e8-3591-4061-9626-2b7c43b1408a');\n",
              "var x = new MutationObserver(function (mutations, observer) {{\n",
              "        var display = window.getComputedStyle(gd).display;\n",
              "        if (!display || display === 'none') {{\n",
              "            console.log([gd, 'removed!']);\n",
              "            Plotly.purge(gd);\n",
              "            observer.disconnect();\n",
              "        }}\n",
              "}});\n",
              "\n",
              "// Listen for the removal of the full notebook cells\n",
              "var notebookContainer = gd.closest('#notebook-container');\n",
              "if (notebookContainer) {{\n",
              "    x.observe(notebookContainer, {childList: true});\n",
              "}}\n",
              "\n",
              "// Listen for the clearing of the current output cell\n",
              "var outputEl = gd.closest('.output');\n",
              "if (outputEl) {{\n",
              "    x.observe(outputEl, {childList: true});\n",
              "}}\n",
              "\n",
              "                        })\n",
              "                };\n",
              "                \n",
              "            </script>\n",
              "        </div>\n",
              "</body>\n",
              "</html>"
            ]
          },
          "metadata": {
            "tags": []
          }
        }
      ]
    },
    {
      "cell_type": "code",
      "metadata": {
        "id": "rDkA97-55vDs",
        "colab_type": "code",
        "colab": {}
      },
      "source": [
        "def run_process(user_name, date_from, date_to):\n",
        "\n",
        "  q='to:{}'.format(user_name)\n",
        "\n",
        "  tweetCriteria = got.manager.TweetCriteria().setQuerySearch(q)\\\n",
        "                                            .setSince(date_from)\\\n",
        "                                            .setUntil(date_to)\n",
        "  tweets = got.manager.TweetManager.getTweets(tweetCriteria)\n",
        "\n",
        "  df = pd.DataFrame(tweets)\n",
        "\n",
        "  def get_text(tweet):\n",
        "    return tweet.text\n",
        "\n",
        "  def get_username(tweet):\n",
        "    return tweet.username\n",
        "\n",
        "  df[\"username\"] = df[0].apply(get_username)\n",
        "  df[\"text\"] = df[0].apply(get_text)\n",
        "\n",
        "  bios_df = df.copy()\n",
        "  bios = bios_df.dropna(axis=0, subset=[\"username\"])\n",
        "  bios = bios.drop_duplicates(subset=[\"username\"])\n",
        "\n",
        "  auth = tweepy.OAuthHandler(API_KEY, API_SECRET)\n",
        "  auth.set_access_token(ACCESS_TOKEN, ACCESS_TOKEN_SECRET)\n",
        "\n",
        "  api = tweepy.API(auth)\n",
        "\n",
        "  list_of_new_bios = get_bio(df[\"username\"].tolist())\n",
        "\n",
        "  list_of_new_bios[\"RW_prediction\"] = list_of_new_bios[\"Bios\"].apply(learn_inf.predict)\n",
        "\n",
        "  list_of_new_bios[\"RW_prediction\"] = list_of_new_bios[\"RW_prediction\"].apply(get_label)\n",
        "\n",
        "  list_of_new_bios = list_of_new_bios.rename({\"Users\":\"username\"}, axis=1)\n",
        "\n",
        "  new_df = df.merge(list_of_new_bios, on=[\"username\"])\n",
        "\n",
        "\n",
        "\n",
        "  # Clean the tweets\n",
        "  new_df['clean_text'] = new_df['text'].apply(cleanTxt)\n",
        "\n",
        "    # Create two new columns 'Subjectivity' & 'Polarity'\n",
        "  new_df['Subjectivity'] = new_df['clean_text'].apply(getSubjectivity)\n",
        "  new_df['Polarity'] = new_df['clean_text'].apply(getPolarity)\n",
        "\n",
        "  right_wing_mask = new_df[\"RW_prediction\"] == \"True\"\n",
        "  right_wing = new_df[right_wing_mask]\n",
        "\n",
        "  not_right_wing_mask = new_df[\"RW_prediction\"] == \"False\"\n",
        "  not_right_wing = new_df[not_right_wing_mask]\n",
        "\n",
        "  fig2 = px.scatter(new_df, x=\"Subjectivity\", y=\"Polarity\", color=\"RW_prediction\", hover_data=[\"Bios\"])\n",
        "  fig2.update_xaxes(range=[-0.1,1.1])\n",
        "  fig2.update_yaxes(range=[-1.1, 1.1])\n",
        "\n",
        "  grouped_by_RW = new_df.groupby(\"RW_prediction\").agg(\n",
        "    count= (\"text\", len),\n",
        "    Subjectivity = (\"Subjectivity\", np.mean),\n",
        "    Polarity = (\"Polarity\", np.mean))\n",
        "  \n",
        "  fig1 = px.bar(grouped_by_RW, y=\"count\", color=grouped_by_RW.index)\n",
        "\n",
        "  final = round(results[0][\"count\"].iloc[1] / results[0][\"count\"].iloc[0],3) * 100\n",
        "\n",
        "  return grouped_by_RW, fig1, fig2, final\n",
        "  "
      ],
      "execution_count": 487,
      "outputs": []
    },
    {
      "cell_type": "markdown",
      "metadata": {
        "id": "cjTdso49MVcr",
        "colab_type": "text"
      },
      "source": [
        "# Right Wing Follower Test\n",
        "\n",
        "This tool is designed to check how many explicitly right wing users interact with a twitter account on a certain day, and how they differ to the rest of the interactions."
      ]
    },
    {
      "cell_type": "code",
      "metadata": {
        "id": "2fUmOo34ppyb",
        "colab_type": "code",
        "colab": {}
      },
      "source": [
        "import ipywidgets as widgets\n",
        "from ipywidgets import interact, interact_manual\n",
        "from ipywidgets import *"
      ],
      "execution_count": 504,
      "outputs": []
    },
    {
      "cell_type": "code",
      "metadata": {
        "id": "ca3LouCjpDe2",
        "colab_type": "code",
        "colab": {}
      },
      "source": [
        "username_select =widgets.Text(\n",
        "    value='@metpoliceuk',\n",
        "    placeholder='Type something',\n",
        "    description='Username:',\n",
        "    disabled=False\n",
        ")"
      ],
      "execution_count": 505,
      "outputs": []
    },
    {
      "cell_type": "code",
      "metadata": {
        "id": "c4U0YGlM6Uh1",
        "colab_type": "code",
        "colab": {}
      },
      "source": [
        "date_from_widget =widgets.Text(\n",
        "    value='2020-08-27',\n",
        "    placeholder='Type something',\n",
        "    description='Date From:',\n",
        "    disabled=False\n",
        ")"
      ],
      "execution_count": 506,
      "outputs": []
    },
    {
      "cell_type": "code",
      "metadata": {
        "id": "tOG0wGVQ6UtI",
        "colab_type": "code",
        "colab": {}
      },
      "source": [
        "date_to_widget =widgets.Text(\n",
        "    value='2020-08-28',\n",
        "    placeholder='Type something',\n",
        "    description='Date To:',\n",
        "    disabled=False\n",
        ")"
      ],
      "execution_count": 507,
      "outputs": []
    },
    {
      "cell_type": "code",
      "metadata": {
        "id": "KAvOlKpGx2Zu",
        "colab_type": "code",
        "colab": {}
      },
      "source": [
        "def show_graph2(change):\n",
        "  with out_df:\n",
        "    print(\"analysing..\")\n",
        "  results = run_process(username_select.value, date_from_widget.value, date_to_widget.value)\n",
        "  out_df.clear_output()\n",
        "  out_analysis.clear_output()\n",
        "  out_graph1.clear_output()\n",
        "  out_graph2.clear_output()\n",
        "  with out_df:\n",
        "    print(str(results[3]) + \"% RW interactions\")\n",
        "  with out_analysis:\n",
        "    print(results[0])\n",
        "  with out_graph1:\n",
        "    results[1].show()\n",
        "  with out_graph2:\n",
        "    results[2].show()\n",
        "  \n"
      ],
      "execution_count": 508,
      "outputs": []
    },
    {
      "cell_type": "code",
      "metadata": {
        "id": "uSdcGMZr2zsS",
        "colab_type": "code",
        "colab": {}
      },
      "source": [
        "analyse_button = widgets.Button(description='Analyse')\n",
        "\n",
        "analyse_button.on_click(show_graph2)"
      ],
      "execution_count": 509,
      "outputs": []
    },
    {
      "cell_type": "code",
      "metadata": {
        "id": "Zm_keIcbs9uM",
        "colab_type": "code",
        "colab": {}
      },
      "source": [
        "out_df = widgets.Output(layout={'border': '1px solid black'})\n",
        "out_analysis = widgets.Output(layout={'border': '1px solid black'})\n",
        "out_graph1 = widgets.Output(layout={'border': '1px solid black'})\n",
        "out_graph2 = widgets.Output(layout={'border': '1px solid black'})"
      ],
      "execution_count": 510,
      "outputs": []
    },
    {
      "cell_type": "code",
      "metadata": {
        "id": "lTm0AX3w65J6",
        "colab_type": "code",
        "colab": {
          "base_uri": "https://localhost:8080/",
          "height": 1000,
          "referenced_widgets": [
            "ef2b80bbfbdc444e94a015ed8cb77a7b",
            "2dd31ef3d05046339c5bb1c62a0e4605",
            "2491099576c2430d8bf865f7f39ceecd",
            "045a27262b6c48fea54039fd20a7b074",
            "fd7025499fc54ade9c70b248610d562c",
            "bee96d17471f4850a30cd57d8f40effb",
            "aea8322cac5c44c68d9bc1f5516a3d9a",
            "e1744ba31dfa4999b969e675418043ff",
            "046096490c954aa0ab0be92e8276b790",
            "99ff149de6a748898e7845ea67f5d392",
            "5d6990dfbbdd48cfb8a844c2176f5f3d",
            "c1d75c6e1b3641a0a5b227145aee903d",
            "ae98d0cc26fc4ebf9b720d0f85a7bf66",
            "3e908e8b6fa84046abf03c1e4de14003",
            "3ecdd57271c94fe5b46936a85344338b",
            "ef87006421a444dfbfaa013d29672e74",
            "c85de8e03fab41dca3795454bb37936a",
            "dc84c8d5fc3548e1aed30f43b030eecf",
            "1c54026dc56a4e49a50dd2efd4352ee1",
            "d2dbad14059b483a820678090755e400",
            "63581073f97f491db1e223d4d0a98232",
            "542ea8d102ef41f29449be9749646db6",
            "954644a9aee945d3bd1df219665381ab",
            "3653455e7e074cbc9cd59c4ca5bc4beb",
            "f598a2c667ef46ed9b49e06ea2a9153f"
          ]
        },
        "outputId": "8d10dab1-9728-471f-81c4-2952c0d052e8"
      },
      "source": [
        "VBox([widgets.Label('Tweet Monitor'),\n",
        "      username_select, date_from_widget, date_to_widget, analyse_button, out_df, out_analysis, out_graph1, out_graph2])"
      ],
      "execution_count": 511,
      "outputs": [
        {
          "output_type": "display_data",
          "data": {
            "application/vnd.jupyter.widget-view+json": {
              "model_id": "ef2b80bbfbdc444e94a015ed8cb77a7b",
              "version_minor": 0,
              "version_major": 2
            },
            "text/plain": [
              "VBox(children=(Label(value='Tweet Monitor'), Text(value='@metpoliceuk', description='Username:', placeholder='…"
            ]
          },
          "metadata": {
            "tags": []
          }
        },
        {
          "output_type": "display_data",
          "data": {
            "text/html": [
              ""
            ],
            "text/plain": [
              "<IPython.core.display.HTML object>"
            ]
          },
          "metadata": {
            "tags": []
          }
        },
        {
          "output_type": "display_data",
          "data": {
            "text/html": [
              ""
            ],
            "text/plain": [
              "<IPython.core.display.HTML object>"
            ]
          },
          "metadata": {
            "tags": []
          }
        },
        {
          "output_type": "display_data",
          "data": {
            "text/html": [
              ""
            ],
            "text/plain": [
              "<IPython.core.display.HTML object>"
            ]
          },
          "metadata": {
            "tags": []
          }
        },
        {
          "output_type": "display_data",
          "data": {
            "text/html": [
              ""
            ],
            "text/plain": [
              "<IPython.core.display.HTML object>"
            ]
          },
          "metadata": {
            "tags": []
          }
        },
        {
          "output_type": "display_data",
          "data": {
            "text/html": [
              ""
            ],
            "text/plain": [
              "<IPython.core.display.HTML object>"
            ]
          },
          "metadata": {
            "tags": []
          }
        },
        {
          "output_type": "display_data",
          "data": {
            "text/html": [
              ""
            ],
            "text/plain": [
              "<IPython.core.display.HTML object>"
            ]
          },
          "metadata": {
            "tags": []
          }
        },
        {
          "output_type": "display_data",
          "data": {
            "text/html": [
              ""
            ],
            "text/plain": [
              "<IPython.core.display.HTML object>"
            ]
          },
          "metadata": {
            "tags": []
          }
        },
        {
          "output_type": "display_data",
          "data": {
            "text/html": [
              ""
            ],
            "text/plain": [
              "<IPython.core.display.HTML object>"
            ]
          },
          "metadata": {
            "tags": []
          }
        },
        {
          "output_type": "display_data",
          "data": {
            "text/html": [
              ""
            ],
            "text/plain": [
              "<IPython.core.display.HTML object>"
            ]
          },
          "metadata": {
            "tags": []
          }
        },
        {
          "output_type": "display_data",
          "data": {
            "text/html": [
              ""
            ],
            "text/plain": [
              "<IPython.core.display.HTML object>"
            ]
          },
          "metadata": {
            "tags": []
          }
        },
        {
          "output_type": "display_data",
          "data": {
            "text/html": [
              ""
            ],
            "text/plain": [
              "<IPython.core.display.HTML object>"
            ]
          },
          "metadata": {
            "tags": []
          }
        },
        {
          "output_type": "display_data",
          "data": {
            "text/html": [
              ""
            ],
            "text/plain": [
              "<IPython.core.display.HTML object>"
            ]
          },
          "metadata": {
            "tags": []
          }
        },
        {
          "output_type": "display_data",
          "data": {
            "text/html": [
              ""
            ],
            "text/plain": [
              "<IPython.core.display.HTML object>"
            ]
          },
          "metadata": {
            "tags": []
          }
        },
        {
          "output_type": "display_data",
          "data": {
            "text/html": [
              ""
            ],
            "text/plain": [
              "<IPython.core.display.HTML object>"
            ]
          },
          "metadata": {
            "tags": []
          }
        },
        {
          "output_type": "display_data",
          "data": {
            "text/html": [
              ""
            ],
            "text/plain": [
              "<IPython.core.display.HTML object>"
            ]
          },
          "metadata": {
            "tags": []
          }
        },
        {
          "output_type": "display_data",
          "data": {
            "text/html": [
              ""
            ],
            "text/plain": [
              "<IPython.core.display.HTML object>"
            ]
          },
          "metadata": {
            "tags": []
          }
        },
        {
          "output_type": "display_data",
          "data": {
            "text/html": [
              ""
            ],
            "text/plain": [
              "<IPython.core.display.HTML object>"
            ]
          },
          "metadata": {
            "tags": []
          }
        },
        {
          "output_type": "display_data",
          "data": {
            "text/html": [
              ""
            ],
            "text/plain": [
              "<IPython.core.display.HTML object>"
            ]
          },
          "metadata": {
            "tags": []
          }
        },
        {
          "output_type": "display_data",
          "data": {
            "text/html": [
              ""
            ],
            "text/plain": [
              "<IPython.core.display.HTML object>"
            ]
          },
          "metadata": {
            "tags": []
          }
        },
        {
          "output_type": "display_data",
          "data": {
            "text/html": [
              ""
            ],
            "text/plain": [
              "<IPython.core.display.HTML object>"
            ]
          },
          "metadata": {
            "tags": []
          }
        },
        {
          "output_type": "display_data",
          "data": {
            "text/html": [
              ""
            ],
            "text/plain": [
              "<IPython.core.display.HTML object>"
            ]
          },
          "metadata": {
            "tags": []
          }
        },
        {
          "output_type": "display_data",
          "data": {
            "text/html": [
              ""
            ],
            "text/plain": [
              "<IPython.core.display.HTML object>"
            ]
          },
          "metadata": {
            "tags": []
          }
        },
        {
          "output_type": "display_data",
          "data": {
            "text/html": [
              ""
            ],
            "text/plain": [
              "<IPython.core.display.HTML object>"
            ]
          },
          "metadata": {
            "tags": []
          }
        },
        {
          "output_type": "display_data",
          "data": {
            "text/html": [
              ""
            ],
            "text/plain": [
              "<IPython.core.display.HTML object>"
            ]
          },
          "metadata": {
            "tags": []
          }
        },
        {
          "output_type": "display_data",
          "data": {
            "text/html": [
              ""
            ],
            "text/plain": [
              "<IPython.core.display.HTML object>"
            ]
          },
          "metadata": {
            "tags": []
          }
        },
        {
          "output_type": "display_data",
          "data": {
            "text/html": [
              ""
            ],
            "text/plain": [
              "<IPython.core.display.HTML object>"
            ]
          },
          "metadata": {
            "tags": []
          }
        },
        {
          "output_type": "display_data",
          "data": {
            "text/html": [
              ""
            ],
            "text/plain": [
              "<IPython.core.display.HTML object>"
            ]
          },
          "metadata": {
            "tags": []
          }
        },
        {
          "output_type": "display_data",
          "data": {
            "text/html": [
              ""
            ],
            "text/plain": [
              "<IPython.core.display.HTML object>"
            ]
          },
          "metadata": {
            "tags": []
          }
        },
        {
          "output_type": "display_data",
          "data": {
            "text/html": [
              ""
            ],
            "text/plain": [
              "<IPython.core.display.HTML object>"
            ]
          },
          "metadata": {
            "tags": []
          }
        },
        {
          "output_type": "display_data",
          "data": {
            "text/html": [
              ""
            ],
            "text/plain": [
              "<IPython.core.display.HTML object>"
            ]
          },
          "metadata": {
            "tags": []
          }
        },
        {
          "output_type": "display_data",
          "data": {
            "text/html": [
              ""
            ],
            "text/plain": [
              "<IPython.core.display.HTML object>"
            ]
          },
          "metadata": {
            "tags": []
          }
        },
        {
          "output_type": "display_data",
          "data": {
            "text/html": [
              ""
            ],
            "text/plain": [
              "<IPython.core.display.HTML object>"
            ]
          },
          "metadata": {
            "tags": []
          }
        },
        {
          "output_type": "display_data",
          "data": {
            "text/html": [
              ""
            ],
            "text/plain": [
              "<IPython.core.display.HTML object>"
            ]
          },
          "metadata": {
            "tags": []
          }
        },
        {
          "output_type": "display_data",
          "data": {
            "text/html": [
              ""
            ],
            "text/plain": [
              "<IPython.core.display.HTML object>"
            ]
          },
          "metadata": {
            "tags": []
          }
        },
        {
          "output_type": "display_data",
          "data": {
            "text/html": [
              ""
            ],
            "text/plain": [
              "<IPython.core.display.HTML object>"
            ]
          },
          "metadata": {
            "tags": []
          }
        },
        {
          "output_type": "display_data",
          "data": {
            "text/html": [
              ""
            ],
            "text/plain": [
              "<IPython.core.display.HTML object>"
            ]
          },
          "metadata": {
            "tags": []
          }
        },
        {
          "output_type": "display_data",
          "data": {
            "text/html": [
              ""
            ],
            "text/plain": [
              "<IPython.core.display.HTML object>"
            ]
          },
          "metadata": {
            "tags": []
          }
        },
        {
          "output_type": "display_data",
          "data": {
            "text/html": [
              ""
            ],
            "text/plain": [
              "<IPython.core.display.HTML object>"
            ]
          },
          "metadata": {
            "tags": []
          }
        },
        {
          "output_type": "display_data",
          "data": {
            "text/html": [
              ""
            ],
            "text/plain": [
              "<IPython.core.display.HTML object>"
            ]
          },
          "metadata": {
            "tags": []
          }
        },
        {
          "output_type": "display_data",
          "data": {
            "text/html": [
              ""
            ],
            "text/plain": [
              "<IPython.core.display.HTML object>"
            ]
          },
          "metadata": {
            "tags": []
          }
        },
        {
          "output_type": "display_data",
          "data": {
            "text/html": [
              ""
            ],
            "text/plain": [
              "<IPython.core.display.HTML object>"
            ]
          },
          "metadata": {
            "tags": []
          }
        },
        {
          "output_type": "display_data",
          "data": {
            "text/html": [
              ""
            ],
            "text/plain": [
              "<IPython.core.display.HTML object>"
            ]
          },
          "metadata": {
            "tags": []
          }
        },
        {
          "output_type": "display_data",
          "data": {
            "text/html": [
              ""
            ],
            "text/plain": [
              "<IPython.core.display.HTML object>"
            ]
          },
          "metadata": {
            "tags": []
          }
        },
        {
          "output_type": "display_data",
          "data": {
            "text/html": [
              ""
            ],
            "text/plain": [
              "<IPython.core.display.HTML object>"
            ]
          },
          "metadata": {
            "tags": []
          }
        },
        {
          "output_type": "display_data",
          "data": {
            "text/html": [
              ""
            ],
            "text/plain": [
              "<IPython.core.display.HTML object>"
            ]
          },
          "metadata": {
            "tags": []
          }
        },
        {
          "output_type": "display_data",
          "data": {
            "text/html": [
              ""
            ],
            "text/plain": [
              "<IPython.core.display.HTML object>"
            ]
          },
          "metadata": {
            "tags": []
          }
        },
        {
          "output_type": "display_data",
          "data": {
            "text/html": [
              ""
            ],
            "text/plain": [
              "<IPython.core.display.HTML object>"
            ]
          },
          "metadata": {
            "tags": []
          }
        },
        {
          "output_type": "display_data",
          "data": {
            "text/html": [
              ""
            ],
            "text/plain": [
              "<IPython.core.display.HTML object>"
            ]
          },
          "metadata": {
            "tags": []
          }
        },
        {
          "output_type": "display_data",
          "data": {
            "text/html": [
              ""
            ],
            "text/plain": [
              "<IPython.core.display.HTML object>"
            ]
          },
          "metadata": {
            "tags": []
          }
        },
        {
          "output_type": "display_data",
          "data": {
            "text/html": [
              ""
            ],
            "text/plain": [
              "<IPython.core.display.HTML object>"
            ]
          },
          "metadata": {
            "tags": []
          }
        },
        {
          "output_type": "display_data",
          "data": {
            "text/html": [
              ""
            ],
            "text/plain": [
              "<IPython.core.display.HTML object>"
            ]
          },
          "metadata": {
            "tags": []
          }
        },
        {
          "output_type": "display_data",
          "data": {
            "text/html": [
              ""
            ],
            "text/plain": [
              "<IPython.core.display.HTML object>"
            ]
          },
          "metadata": {
            "tags": []
          }
        },
        {
          "output_type": "display_data",
          "data": {
            "text/html": [
              ""
            ],
            "text/plain": [
              "<IPython.core.display.HTML object>"
            ]
          },
          "metadata": {
            "tags": []
          }
        },
        {
          "output_type": "display_data",
          "data": {
            "text/html": [
              ""
            ],
            "text/plain": [
              "<IPython.core.display.HTML object>"
            ]
          },
          "metadata": {
            "tags": []
          }
        },
        {
          "output_type": "display_data",
          "data": {
            "text/html": [
              ""
            ],
            "text/plain": [
              "<IPython.core.display.HTML object>"
            ]
          },
          "metadata": {
            "tags": []
          }
        },
        {
          "output_type": "display_data",
          "data": {
            "text/html": [
              ""
            ],
            "text/plain": [
              "<IPython.core.display.HTML object>"
            ]
          },
          "metadata": {
            "tags": []
          }
        },
        {
          "output_type": "display_data",
          "data": {
            "text/html": [
              ""
            ],
            "text/plain": [
              "<IPython.core.display.HTML object>"
            ]
          },
          "metadata": {
            "tags": []
          }
        },
        {
          "output_type": "display_data",
          "data": {
            "text/html": [
              ""
            ],
            "text/plain": [
              "<IPython.core.display.HTML object>"
            ]
          },
          "metadata": {
            "tags": []
          }
        },
        {
          "output_type": "display_data",
          "data": {
            "text/html": [
              ""
            ],
            "text/plain": [
              "<IPython.core.display.HTML object>"
            ]
          },
          "metadata": {
            "tags": []
          }
        },
        {
          "output_type": "display_data",
          "data": {
            "text/html": [
              ""
            ],
            "text/plain": [
              "<IPython.core.display.HTML object>"
            ]
          },
          "metadata": {
            "tags": []
          }
        },
        {
          "output_type": "display_data",
          "data": {
            "text/html": [
              ""
            ],
            "text/plain": [
              "<IPython.core.display.HTML object>"
            ]
          },
          "metadata": {
            "tags": []
          }
        },
        {
          "output_type": "display_data",
          "data": {
            "text/html": [
              ""
            ],
            "text/plain": [
              "<IPython.core.display.HTML object>"
            ]
          },
          "metadata": {
            "tags": []
          }
        },
        {
          "output_type": "display_data",
          "data": {
            "text/html": [
              ""
            ],
            "text/plain": [
              "<IPython.core.display.HTML object>"
            ]
          },
          "metadata": {
            "tags": []
          }
        },
        {
          "output_type": "display_data",
          "data": {
            "text/html": [
              ""
            ],
            "text/plain": [
              "<IPython.core.display.HTML object>"
            ]
          },
          "metadata": {
            "tags": []
          }
        },
        {
          "output_type": "display_data",
          "data": {
            "text/html": [
              ""
            ],
            "text/plain": [
              "<IPython.core.display.HTML object>"
            ]
          },
          "metadata": {
            "tags": []
          }
        },
        {
          "output_type": "display_data",
          "data": {
            "text/html": [
              ""
            ],
            "text/plain": [
              "<IPython.core.display.HTML object>"
            ]
          },
          "metadata": {
            "tags": []
          }
        },
        {
          "output_type": "display_data",
          "data": {
            "text/html": [
              ""
            ],
            "text/plain": [
              "<IPython.core.display.HTML object>"
            ]
          },
          "metadata": {
            "tags": []
          }
        },
        {
          "output_type": "display_data",
          "data": {
            "text/html": [
              ""
            ],
            "text/plain": [
              "<IPython.core.display.HTML object>"
            ]
          },
          "metadata": {
            "tags": []
          }
        },
        {
          "output_type": "display_data",
          "data": {
            "text/html": [
              ""
            ],
            "text/plain": [
              "<IPython.core.display.HTML object>"
            ]
          },
          "metadata": {
            "tags": []
          }
        },
        {
          "output_type": "display_data",
          "data": {
            "text/html": [
              ""
            ],
            "text/plain": [
              "<IPython.core.display.HTML object>"
            ]
          },
          "metadata": {
            "tags": []
          }
        },
        {
          "output_type": "display_data",
          "data": {
            "text/html": [
              ""
            ],
            "text/plain": [
              "<IPython.core.display.HTML object>"
            ]
          },
          "metadata": {
            "tags": []
          }
        },
        {
          "output_type": "display_data",
          "data": {
            "text/html": [
              ""
            ],
            "text/plain": [
              "<IPython.core.display.HTML object>"
            ]
          },
          "metadata": {
            "tags": []
          }
        },
        {
          "output_type": "display_data",
          "data": {
            "text/html": [
              ""
            ],
            "text/plain": [
              "<IPython.core.display.HTML object>"
            ]
          },
          "metadata": {
            "tags": []
          }
        },
        {
          "output_type": "display_data",
          "data": {
            "text/html": [
              ""
            ],
            "text/plain": [
              "<IPython.core.display.HTML object>"
            ]
          },
          "metadata": {
            "tags": []
          }
        },
        {
          "output_type": "display_data",
          "data": {
            "text/html": [
              ""
            ],
            "text/plain": [
              "<IPython.core.display.HTML object>"
            ]
          },
          "metadata": {
            "tags": []
          }
        },
        {
          "output_type": "display_data",
          "data": {
            "text/html": [
              ""
            ],
            "text/plain": [
              "<IPython.core.display.HTML object>"
            ]
          },
          "metadata": {
            "tags": []
          }
        },
        {
          "output_type": "display_data",
          "data": {
            "text/html": [
              ""
            ],
            "text/plain": [
              "<IPython.core.display.HTML object>"
            ]
          },
          "metadata": {
            "tags": []
          }
        },
        {
          "output_type": "display_data",
          "data": {
            "text/html": [
              ""
            ],
            "text/plain": [
              "<IPython.core.display.HTML object>"
            ]
          },
          "metadata": {
            "tags": []
          }
        },
        {
          "output_type": "display_data",
          "data": {
            "text/html": [
              ""
            ],
            "text/plain": [
              "<IPython.core.display.HTML object>"
            ]
          },
          "metadata": {
            "tags": []
          }
        },
        {
          "output_type": "display_data",
          "data": {
            "text/html": [
              ""
            ],
            "text/plain": [
              "<IPython.core.display.HTML object>"
            ]
          },
          "metadata": {
            "tags": []
          }
        },
        {
          "output_type": "display_data",
          "data": {
            "text/html": [
              ""
            ],
            "text/plain": [
              "<IPython.core.display.HTML object>"
            ]
          },
          "metadata": {
            "tags": []
          }
        },
        {
          "output_type": "display_data",
          "data": {
            "text/html": [
              ""
            ],
            "text/plain": [
              "<IPython.core.display.HTML object>"
            ]
          },
          "metadata": {
            "tags": []
          }
        },
        {
          "output_type": "display_data",
          "data": {
            "text/html": [
              ""
            ],
            "text/plain": [
              "<IPython.core.display.HTML object>"
            ]
          },
          "metadata": {
            "tags": []
          }
        },
        {
          "output_type": "display_data",
          "data": {
            "text/html": [
              ""
            ],
            "text/plain": [
              "<IPython.core.display.HTML object>"
            ]
          },
          "metadata": {
            "tags": []
          }
        },
        {
          "output_type": "display_data",
          "data": {
            "text/html": [
              ""
            ],
            "text/plain": [
              "<IPython.core.display.HTML object>"
            ]
          },
          "metadata": {
            "tags": []
          }
        },
        {
          "output_type": "display_data",
          "data": {
            "text/html": [
              ""
            ],
            "text/plain": [
              "<IPython.core.display.HTML object>"
            ]
          },
          "metadata": {
            "tags": []
          }
        },
        {
          "output_type": "display_data",
          "data": {
            "text/html": [
              ""
            ],
            "text/plain": [
              "<IPython.core.display.HTML object>"
            ]
          },
          "metadata": {
            "tags": []
          }
        },
        {
          "output_type": "display_data",
          "data": {
            "text/html": [
              ""
            ],
            "text/plain": [
              "<IPython.core.display.HTML object>"
            ]
          },
          "metadata": {
            "tags": []
          }
        },
        {
          "output_type": "display_data",
          "data": {
            "text/html": [
              ""
            ],
            "text/plain": [
              "<IPython.core.display.HTML object>"
            ]
          },
          "metadata": {
            "tags": []
          }
        },
        {
          "output_type": "display_data",
          "data": {
            "text/html": [
              ""
            ],
            "text/plain": [
              "<IPython.core.display.HTML object>"
            ]
          },
          "metadata": {
            "tags": []
          }
        },
        {
          "output_type": "display_data",
          "data": {
            "text/html": [
              ""
            ],
            "text/plain": [
              "<IPython.core.display.HTML object>"
            ]
          },
          "metadata": {
            "tags": []
          }
        },
        {
          "output_type": "display_data",
          "data": {
            "text/html": [
              ""
            ],
            "text/plain": [
              "<IPython.core.display.HTML object>"
            ]
          },
          "metadata": {
            "tags": []
          }
        },
        {
          "output_type": "display_data",
          "data": {
            "text/html": [
              ""
            ],
            "text/plain": [
              "<IPython.core.display.HTML object>"
            ]
          },
          "metadata": {
            "tags": []
          }
        },
        {
          "output_type": "display_data",
          "data": {
            "text/html": [
              ""
            ],
            "text/plain": [
              "<IPython.core.display.HTML object>"
            ]
          },
          "metadata": {
            "tags": []
          }
        },
        {
          "output_type": "display_data",
          "data": {
            "text/html": [
              ""
            ],
            "text/plain": [
              "<IPython.core.display.HTML object>"
            ]
          },
          "metadata": {
            "tags": []
          }
        },
        {
          "output_type": "display_data",
          "data": {
            "text/html": [
              ""
            ],
            "text/plain": [
              "<IPython.core.display.HTML object>"
            ]
          },
          "metadata": {
            "tags": []
          }
        },
        {
          "output_type": "display_data",
          "data": {
            "text/html": [
              ""
            ],
            "text/plain": [
              "<IPython.core.display.HTML object>"
            ]
          },
          "metadata": {
            "tags": []
          }
        },
        {
          "output_type": "display_data",
          "data": {
            "text/html": [
              ""
            ],
            "text/plain": [
              "<IPython.core.display.HTML object>"
            ]
          },
          "metadata": {
            "tags": []
          }
        },
        {
          "output_type": "display_data",
          "data": {
            "text/html": [
              ""
            ],
            "text/plain": [
              "<IPython.core.display.HTML object>"
            ]
          },
          "metadata": {
            "tags": []
          }
        },
        {
          "output_type": "display_data",
          "data": {
            "text/html": [
              ""
            ],
            "text/plain": [
              "<IPython.core.display.HTML object>"
            ]
          },
          "metadata": {
            "tags": []
          }
        },
        {
          "output_type": "display_data",
          "data": {
            "text/html": [
              ""
            ],
            "text/plain": [
              "<IPython.core.display.HTML object>"
            ]
          },
          "metadata": {
            "tags": []
          }
        },
        {
          "output_type": "display_data",
          "data": {
            "text/html": [
              ""
            ],
            "text/plain": [
              "<IPython.core.display.HTML object>"
            ]
          },
          "metadata": {
            "tags": []
          }
        },
        {
          "output_type": "display_data",
          "data": {
            "text/html": [
              ""
            ],
            "text/plain": [
              "<IPython.core.display.HTML object>"
            ]
          },
          "metadata": {
            "tags": []
          }
        },
        {
          "output_type": "display_data",
          "data": {
            "text/html": [
              ""
            ],
            "text/plain": [
              "<IPython.core.display.HTML object>"
            ]
          },
          "metadata": {
            "tags": []
          }
        },
        {
          "output_type": "display_data",
          "data": {
            "text/html": [
              ""
            ],
            "text/plain": [
              "<IPython.core.display.HTML object>"
            ]
          },
          "metadata": {
            "tags": []
          }
        },
        {
          "output_type": "display_data",
          "data": {
            "text/html": [
              ""
            ],
            "text/plain": [
              "<IPython.core.display.HTML object>"
            ]
          },
          "metadata": {
            "tags": []
          }
        },
        {
          "output_type": "display_data",
          "data": {
            "text/html": [
              ""
            ],
            "text/plain": [
              "<IPython.core.display.HTML object>"
            ]
          },
          "metadata": {
            "tags": []
          }
        },
        {
          "output_type": "display_data",
          "data": {
            "text/html": [
              ""
            ],
            "text/plain": [
              "<IPython.core.display.HTML object>"
            ]
          },
          "metadata": {
            "tags": []
          }
        },
        {
          "output_type": "display_data",
          "data": {
            "text/html": [
              ""
            ],
            "text/plain": [
              "<IPython.core.display.HTML object>"
            ]
          },
          "metadata": {
            "tags": []
          }
        },
        {
          "output_type": "display_data",
          "data": {
            "text/html": [
              ""
            ],
            "text/plain": [
              "<IPython.core.display.HTML object>"
            ]
          },
          "metadata": {
            "tags": []
          }
        },
        {
          "output_type": "display_data",
          "data": {
            "text/html": [
              ""
            ],
            "text/plain": [
              "<IPython.core.display.HTML object>"
            ]
          },
          "metadata": {
            "tags": []
          }
        },
        {
          "output_type": "display_data",
          "data": {
            "text/html": [
              ""
            ],
            "text/plain": [
              "<IPython.core.display.HTML object>"
            ]
          },
          "metadata": {
            "tags": []
          }
        },
        {
          "output_type": "display_data",
          "data": {
            "text/html": [
              ""
            ],
            "text/plain": [
              "<IPython.core.display.HTML object>"
            ]
          },
          "metadata": {
            "tags": []
          }
        },
        {
          "output_type": "display_data",
          "data": {
            "text/html": [
              ""
            ],
            "text/plain": [
              "<IPython.core.display.HTML object>"
            ]
          },
          "metadata": {
            "tags": []
          }
        },
        {
          "output_type": "display_data",
          "data": {
            "text/html": [
              ""
            ],
            "text/plain": [
              "<IPython.core.display.HTML object>"
            ]
          },
          "metadata": {
            "tags": []
          }
        },
        {
          "output_type": "display_data",
          "data": {
            "text/html": [
              ""
            ],
            "text/plain": [
              "<IPython.core.display.HTML object>"
            ]
          },
          "metadata": {
            "tags": []
          }
        },
        {
          "output_type": "display_data",
          "data": {
            "text/html": [
              ""
            ],
            "text/plain": [
              "<IPython.core.display.HTML object>"
            ]
          },
          "metadata": {
            "tags": []
          }
        },
        {
          "output_type": "display_data",
          "data": {
            "text/html": [
              ""
            ],
            "text/plain": [
              "<IPython.core.display.HTML object>"
            ]
          },
          "metadata": {
            "tags": []
          }
        },
        {
          "output_type": "display_data",
          "data": {
            "text/html": [
              ""
            ],
            "text/plain": [
              "<IPython.core.display.HTML object>"
            ]
          },
          "metadata": {
            "tags": []
          }
        },
        {
          "output_type": "display_data",
          "data": {
            "text/html": [
              ""
            ],
            "text/plain": [
              "<IPython.core.display.HTML object>"
            ]
          },
          "metadata": {
            "tags": []
          }
        },
        {
          "output_type": "display_data",
          "data": {
            "text/html": [
              ""
            ],
            "text/plain": [
              "<IPython.core.display.HTML object>"
            ]
          },
          "metadata": {
            "tags": []
          }
        },
        {
          "output_type": "display_data",
          "data": {
            "text/html": [
              ""
            ],
            "text/plain": [
              "<IPython.core.display.HTML object>"
            ]
          },
          "metadata": {
            "tags": []
          }
        },
        {
          "output_type": "display_data",
          "data": {
            "text/html": [
              ""
            ],
            "text/plain": [
              "<IPython.core.display.HTML object>"
            ]
          },
          "metadata": {
            "tags": []
          }
        },
        {
          "output_type": "display_data",
          "data": {
            "text/html": [
              ""
            ],
            "text/plain": [
              "<IPython.core.display.HTML object>"
            ]
          },
          "metadata": {
            "tags": []
          }
        },
        {
          "output_type": "display_data",
          "data": {
            "text/html": [
              ""
            ],
            "text/plain": [
              "<IPython.core.display.HTML object>"
            ]
          },
          "metadata": {
            "tags": []
          }
        },
        {
          "output_type": "display_data",
          "data": {
            "text/html": [
              ""
            ],
            "text/plain": [
              "<IPython.core.display.HTML object>"
            ]
          },
          "metadata": {
            "tags": []
          }
        },
        {
          "output_type": "display_data",
          "data": {
            "text/html": [
              ""
            ],
            "text/plain": [
              "<IPython.core.display.HTML object>"
            ]
          },
          "metadata": {
            "tags": []
          }
        },
        {
          "output_type": "display_data",
          "data": {
            "text/html": [
              ""
            ],
            "text/plain": [
              "<IPython.core.display.HTML object>"
            ]
          },
          "metadata": {
            "tags": []
          }
        },
        {
          "output_type": "display_data",
          "data": {
            "text/html": [
              ""
            ],
            "text/plain": [
              "<IPython.core.display.HTML object>"
            ]
          },
          "metadata": {
            "tags": []
          }
        },
        {
          "output_type": "display_data",
          "data": {
            "text/html": [
              ""
            ],
            "text/plain": [
              "<IPython.core.display.HTML object>"
            ]
          },
          "metadata": {
            "tags": []
          }
        },
        {
          "output_type": "display_data",
          "data": {
            "text/html": [
              ""
            ],
            "text/plain": [
              "<IPython.core.display.HTML object>"
            ]
          },
          "metadata": {
            "tags": []
          }
        },
        {
          "output_type": "display_data",
          "data": {
            "text/html": [
              ""
            ],
            "text/plain": [
              "<IPython.core.display.HTML object>"
            ]
          },
          "metadata": {
            "tags": []
          }
        },
        {
          "output_type": "display_data",
          "data": {
            "text/html": [
              ""
            ],
            "text/plain": [
              "<IPython.core.display.HTML object>"
            ]
          },
          "metadata": {
            "tags": []
          }
        },
        {
          "output_type": "display_data",
          "data": {
            "text/html": [
              ""
            ],
            "text/plain": [
              "<IPython.core.display.HTML object>"
            ]
          },
          "metadata": {
            "tags": []
          }
        },
        {
          "output_type": "display_data",
          "data": {
            "text/html": [
              ""
            ],
            "text/plain": [
              "<IPython.core.display.HTML object>"
            ]
          },
          "metadata": {
            "tags": []
          }
        },
        {
          "output_type": "display_data",
          "data": {
            "text/html": [
              ""
            ],
            "text/plain": [
              "<IPython.core.display.HTML object>"
            ]
          },
          "metadata": {
            "tags": []
          }
        },
        {
          "output_type": "display_data",
          "data": {
            "text/html": [
              ""
            ],
            "text/plain": [
              "<IPython.core.display.HTML object>"
            ]
          },
          "metadata": {
            "tags": []
          }
        },
        {
          "output_type": "display_data",
          "data": {
            "text/html": [
              ""
            ],
            "text/plain": [
              "<IPython.core.display.HTML object>"
            ]
          },
          "metadata": {
            "tags": []
          }
        },
        {
          "output_type": "display_data",
          "data": {
            "text/html": [
              ""
            ],
            "text/plain": [
              "<IPython.core.display.HTML object>"
            ]
          },
          "metadata": {
            "tags": []
          }
        },
        {
          "output_type": "display_data",
          "data": {
            "text/html": [
              ""
            ],
            "text/plain": [
              "<IPython.core.display.HTML object>"
            ]
          },
          "metadata": {
            "tags": []
          }
        },
        {
          "output_type": "display_data",
          "data": {
            "text/html": [
              ""
            ],
            "text/plain": [
              "<IPython.core.display.HTML object>"
            ]
          },
          "metadata": {
            "tags": []
          }
        },
        {
          "output_type": "display_data",
          "data": {
            "text/html": [
              ""
            ],
            "text/plain": [
              "<IPython.core.display.HTML object>"
            ]
          },
          "metadata": {
            "tags": []
          }
        },
        {
          "output_type": "display_data",
          "data": {
            "text/html": [
              ""
            ],
            "text/plain": [
              "<IPython.core.display.HTML object>"
            ]
          },
          "metadata": {
            "tags": []
          }
        },
        {
          "output_type": "display_data",
          "data": {
            "text/html": [
              ""
            ],
            "text/plain": [
              "<IPython.core.display.HTML object>"
            ]
          },
          "metadata": {
            "tags": []
          }
        },
        {
          "output_type": "display_data",
          "data": {
            "text/html": [
              ""
            ],
            "text/plain": [
              "<IPython.core.display.HTML object>"
            ]
          },
          "metadata": {
            "tags": []
          }
        },
        {
          "output_type": "display_data",
          "data": {
            "text/html": [
              ""
            ],
            "text/plain": [
              "<IPython.core.display.HTML object>"
            ]
          },
          "metadata": {
            "tags": []
          }
        },
        {
          "output_type": "display_data",
          "data": {
            "text/html": [
              ""
            ],
            "text/plain": [
              "<IPython.core.display.HTML object>"
            ]
          },
          "metadata": {
            "tags": []
          }
        },
        {
          "output_type": "display_data",
          "data": {
            "text/html": [
              ""
            ],
            "text/plain": [
              "<IPython.core.display.HTML object>"
            ]
          },
          "metadata": {
            "tags": []
          }
        },
        {
          "output_type": "display_data",
          "data": {
            "text/html": [
              ""
            ],
            "text/plain": [
              "<IPython.core.display.HTML object>"
            ]
          },
          "metadata": {
            "tags": []
          }
        },
        {
          "output_type": "display_data",
          "data": {
            "text/html": [
              ""
            ],
            "text/plain": [
              "<IPython.core.display.HTML object>"
            ]
          },
          "metadata": {
            "tags": []
          }
        },
        {
          "output_type": "display_data",
          "data": {
            "text/html": [
              ""
            ],
            "text/plain": [
              "<IPython.core.display.HTML object>"
            ]
          },
          "metadata": {
            "tags": []
          }
        },
        {
          "output_type": "display_data",
          "data": {
            "text/html": [
              ""
            ],
            "text/plain": [
              "<IPython.core.display.HTML object>"
            ]
          },
          "metadata": {
            "tags": []
          }
        },
        {
          "output_type": "display_data",
          "data": {
            "text/html": [
              ""
            ],
            "text/plain": [
              "<IPython.core.display.HTML object>"
            ]
          },
          "metadata": {
            "tags": []
          }
        },
        {
          "output_type": "display_data",
          "data": {
            "text/html": [
              ""
            ],
            "text/plain": [
              "<IPython.core.display.HTML object>"
            ]
          },
          "metadata": {
            "tags": []
          }
        },
        {
          "output_type": "display_data",
          "data": {
            "text/html": [
              ""
            ],
            "text/plain": [
              "<IPython.core.display.HTML object>"
            ]
          },
          "metadata": {
            "tags": []
          }
        },
        {
          "output_type": "display_data",
          "data": {
            "text/html": [
              ""
            ],
            "text/plain": [
              "<IPython.core.display.HTML object>"
            ]
          },
          "metadata": {
            "tags": []
          }
        },
        {
          "output_type": "display_data",
          "data": {
            "text/html": [
              ""
            ],
            "text/plain": [
              "<IPython.core.display.HTML object>"
            ]
          },
          "metadata": {
            "tags": []
          }
        },
        {
          "output_type": "display_data",
          "data": {
            "text/html": [
              ""
            ],
            "text/plain": [
              "<IPython.core.display.HTML object>"
            ]
          },
          "metadata": {
            "tags": []
          }
        },
        {
          "output_type": "display_data",
          "data": {
            "text/html": [
              ""
            ],
            "text/plain": [
              "<IPython.core.display.HTML object>"
            ]
          },
          "metadata": {
            "tags": []
          }
        },
        {
          "output_type": "display_data",
          "data": {
            "text/html": [
              ""
            ],
            "text/plain": [
              "<IPython.core.display.HTML object>"
            ]
          },
          "metadata": {
            "tags": []
          }
        },
        {
          "output_type": "display_data",
          "data": {
            "text/html": [
              ""
            ],
            "text/plain": [
              "<IPython.core.display.HTML object>"
            ]
          },
          "metadata": {
            "tags": []
          }
        },
        {
          "output_type": "display_data",
          "data": {
            "text/html": [
              ""
            ],
            "text/plain": [
              "<IPython.core.display.HTML object>"
            ]
          },
          "metadata": {
            "tags": []
          }
        },
        {
          "output_type": "display_data",
          "data": {
            "text/html": [
              ""
            ],
            "text/plain": [
              "<IPython.core.display.HTML object>"
            ]
          },
          "metadata": {
            "tags": []
          }
        },
        {
          "output_type": "display_data",
          "data": {
            "text/html": [
              ""
            ],
            "text/plain": [
              "<IPython.core.display.HTML object>"
            ]
          },
          "metadata": {
            "tags": []
          }
        },
        {
          "output_type": "display_data",
          "data": {
            "text/html": [
              ""
            ],
            "text/plain": [
              "<IPython.core.display.HTML object>"
            ]
          },
          "metadata": {
            "tags": []
          }
        },
        {
          "output_type": "display_data",
          "data": {
            "text/html": [
              ""
            ],
            "text/plain": [
              "<IPython.core.display.HTML object>"
            ]
          },
          "metadata": {
            "tags": []
          }
        },
        {
          "output_type": "display_data",
          "data": {
            "text/html": [
              ""
            ],
            "text/plain": [
              "<IPython.core.display.HTML object>"
            ]
          },
          "metadata": {
            "tags": []
          }
        },
        {
          "output_type": "display_data",
          "data": {
            "text/html": [
              ""
            ],
            "text/plain": [
              "<IPython.core.display.HTML object>"
            ]
          },
          "metadata": {
            "tags": []
          }
        },
        {
          "output_type": "display_data",
          "data": {
            "text/html": [
              ""
            ],
            "text/plain": [
              "<IPython.core.display.HTML object>"
            ]
          },
          "metadata": {
            "tags": []
          }
        },
        {
          "output_type": "display_data",
          "data": {
            "text/html": [
              ""
            ],
            "text/plain": [
              "<IPython.core.display.HTML object>"
            ]
          },
          "metadata": {
            "tags": []
          }
        },
        {
          "output_type": "display_data",
          "data": {
            "text/html": [
              ""
            ],
            "text/plain": [
              "<IPython.core.display.HTML object>"
            ]
          },
          "metadata": {
            "tags": []
          }
        },
        {
          "output_type": "display_data",
          "data": {
            "text/html": [
              ""
            ],
            "text/plain": [
              "<IPython.core.display.HTML object>"
            ]
          },
          "metadata": {
            "tags": []
          }
        },
        {
          "output_type": "display_data",
          "data": {
            "text/html": [
              ""
            ],
            "text/plain": [
              "<IPython.core.display.HTML object>"
            ]
          },
          "metadata": {
            "tags": []
          }
        },
        {
          "output_type": "display_data",
          "data": {
            "text/html": [
              ""
            ],
            "text/plain": [
              "<IPython.core.display.HTML object>"
            ]
          },
          "metadata": {
            "tags": []
          }
        },
        {
          "output_type": "display_data",
          "data": {
            "text/html": [
              ""
            ],
            "text/plain": [
              "<IPython.core.display.HTML object>"
            ]
          },
          "metadata": {
            "tags": []
          }
        },
        {
          "output_type": "display_data",
          "data": {
            "text/html": [
              ""
            ],
            "text/plain": [
              "<IPython.core.display.HTML object>"
            ]
          },
          "metadata": {
            "tags": []
          }
        },
        {
          "output_type": "display_data",
          "data": {
            "text/html": [
              ""
            ],
            "text/plain": [
              "<IPython.core.display.HTML object>"
            ]
          },
          "metadata": {
            "tags": []
          }
        },
        {
          "output_type": "display_data",
          "data": {
            "text/html": [
              ""
            ],
            "text/plain": [
              "<IPython.core.display.HTML object>"
            ]
          },
          "metadata": {
            "tags": []
          }
        },
        {
          "output_type": "display_data",
          "data": {
            "text/html": [
              ""
            ],
            "text/plain": [
              "<IPython.core.display.HTML object>"
            ]
          },
          "metadata": {
            "tags": []
          }
        },
        {
          "output_type": "display_data",
          "data": {
            "text/html": [
              ""
            ],
            "text/plain": [
              "<IPython.core.display.HTML object>"
            ]
          },
          "metadata": {
            "tags": []
          }
        },
        {
          "output_type": "display_data",
          "data": {
            "text/html": [
              ""
            ],
            "text/plain": [
              "<IPython.core.display.HTML object>"
            ]
          },
          "metadata": {
            "tags": []
          }
        },
        {
          "output_type": "display_data",
          "data": {
            "text/html": [
              ""
            ],
            "text/plain": [
              "<IPython.core.display.HTML object>"
            ]
          },
          "metadata": {
            "tags": []
          }
        },
        {
          "output_type": "display_data",
          "data": {
            "text/html": [
              ""
            ],
            "text/plain": [
              "<IPython.core.display.HTML object>"
            ]
          },
          "metadata": {
            "tags": []
          }
        },
        {
          "output_type": "display_data",
          "data": {
            "text/html": [
              ""
            ],
            "text/plain": [
              "<IPython.core.display.HTML object>"
            ]
          },
          "metadata": {
            "tags": []
          }
        },
        {
          "output_type": "display_data",
          "data": {
            "text/html": [
              ""
            ],
            "text/plain": [
              "<IPython.core.display.HTML object>"
            ]
          },
          "metadata": {
            "tags": []
          }
        },
        {
          "output_type": "display_data",
          "data": {
            "text/html": [
              ""
            ],
            "text/plain": [
              "<IPython.core.display.HTML object>"
            ]
          },
          "metadata": {
            "tags": []
          }
        },
        {
          "output_type": "display_data",
          "data": {
            "text/html": [
              ""
            ],
            "text/plain": [
              "<IPython.core.display.HTML object>"
            ]
          },
          "metadata": {
            "tags": []
          }
        },
        {
          "output_type": "display_data",
          "data": {
            "text/html": [
              ""
            ],
            "text/plain": [
              "<IPython.core.display.HTML object>"
            ]
          },
          "metadata": {
            "tags": []
          }
        },
        {
          "output_type": "display_data",
          "data": {
            "text/html": [
              ""
            ],
            "text/plain": [
              "<IPython.core.display.HTML object>"
            ]
          },
          "metadata": {
            "tags": []
          }
        },
        {
          "output_type": "display_data",
          "data": {
            "text/html": [
              ""
            ],
            "text/plain": [
              "<IPython.core.display.HTML object>"
            ]
          },
          "metadata": {
            "tags": []
          }
        },
        {
          "output_type": "display_data",
          "data": {
            "text/html": [
              ""
            ],
            "text/plain": [
              "<IPython.core.display.HTML object>"
            ]
          },
          "metadata": {
            "tags": []
          }
        },
        {
          "output_type": "display_data",
          "data": {
            "text/html": [
              ""
            ],
            "text/plain": [
              "<IPython.core.display.HTML object>"
            ]
          },
          "metadata": {
            "tags": []
          }
        },
        {
          "output_type": "display_data",
          "data": {
            "text/html": [
              ""
            ],
            "text/plain": [
              "<IPython.core.display.HTML object>"
            ]
          },
          "metadata": {
            "tags": []
          }
        },
        {
          "output_type": "display_data",
          "data": {
            "text/html": [
              ""
            ],
            "text/plain": [
              "<IPython.core.display.HTML object>"
            ]
          },
          "metadata": {
            "tags": []
          }
        },
        {
          "output_type": "display_data",
          "data": {
            "text/html": [
              ""
            ],
            "text/plain": [
              "<IPython.core.display.HTML object>"
            ]
          },
          "metadata": {
            "tags": []
          }
        },
        {
          "output_type": "display_data",
          "data": {
            "text/html": [
              ""
            ],
            "text/plain": [
              "<IPython.core.display.HTML object>"
            ]
          },
          "metadata": {
            "tags": []
          }
        },
        {
          "output_type": "display_data",
          "data": {
            "text/html": [
              ""
            ],
            "text/plain": [
              "<IPython.core.display.HTML object>"
            ]
          },
          "metadata": {
            "tags": []
          }
        },
        {
          "output_type": "display_data",
          "data": {
            "text/html": [
              ""
            ],
            "text/plain": [
              "<IPython.core.display.HTML object>"
            ]
          },
          "metadata": {
            "tags": []
          }
        },
        {
          "output_type": "display_data",
          "data": {
            "text/html": [
              ""
            ],
            "text/plain": [
              "<IPython.core.display.HTML object>"
            ]
          },
          "metadata": {
            "tags": []
          }
        },
        {
          "output_type": "display_data",
          "data": {
            "text/html": [
              ""
            ],
            "text/plain": [
              "<IPython.core.display.HTML object>"
            ]
          },
          "metadata": {
            "tags": []
          }
        },
        {
          "output_type": "display_data",
          "data": {
            "text/html": [
              ""
            ],
            "text/plain": [
              "<IPython.core.display.HTML object>"
            ]
          },
          "metadata": {
            "tags": []
          }
        },
        {
          "output_type": "display_data",
          "data": {
            "text/html": [
              ""
            ],
            "text/plain": [
              "<IPython.core.display.HTML object>"
            ]
          },
          "metadata": {
            "tags": []
          }
        },
        {
          "output_type": "display_data",
          "data": {
            "text/html": [
              ""
            ],
            "text/plain": [
              "<IPython.core.display.HTML object>"
            ]
          },
          "metadata": {
            "tags": []
          }
        },
        {
          "output_type": "display_data",
          "data": {
            "text/html": [
              ""
            ],
            "text/plain": [
              "<IPython.core.display.HTML object>"
            ]
          },
          "metadata": {
            "tags": []
          }
        },
        {
          "output_type": "display_data",
          "data": {
            "text/html": [
              ""
            ],
            "text/plain": [
              "<IPython.core.display.HTML object>"
            ]
          },
          "metadata": {
            "tags": []
          }
        },
        {
          "output_type": "display_data",
          "data": {
            "text/html": [
              ""
            ],
            "text/plain": [
              "<IPython.core.display.HTML object>"
            ]
          },
          "metadata": {
            "tags": []
          }
        },
        {
          "output_type": "display_data",
          "data": {
            "text/html": [
              ""
            ],
            "text/plain": [
              "<IPython.core.display.HTML object>"
            ]
          },
          "metadata": {
            "tags": []
          }
        },
        {
          "output_type": "display_data",
          "data": {
            "text/html": [
              ""
            ],
            "text/plain": [
              "<IPython.core.display.HTML object>"
            ]
          },
          "metadata": {
            "tags": []
          }
        },
        {
          "output_type": "display_data",
          "data": {
            "text/html": [
              ""
            ],
            "text/plain": [
              "<IPython.core.display.HTML object>"
            ]
          },
          "metadata": {
            "tags": []
          }
        },
        {
          "output_type": "display_data",
          "data": {
            "text/html": [
              ""
            ],
            "text/plain": [
              "<IPython.core.display.HTML object>"
            ]
          },
          "metadata": {
            "tags": []
          }
        },
        {
          "output_type": "display_data",
          "data": {
            "text/html": [
              ""
            ],
            "text/plain": [
              "<IPython.core.display.HTML object>"
            ]
          },
          "metadata": {
            "tags": []
          }
        },
        {
          "output_type": "display_data",
          "data": {
            "text/html": [
              ""
            ],
            "text/plain": [
              "<IPython.core.display.HTML object>"
            ]
          },
          "metadata": {
            "tags": []
          }
        },
        {
          "output_type": "display_data",
          "data": {
            "text/html": [
              ""
            ],
            "text/plain": [
              "<IPython.core.display.HTML object>"
            ]
          },
          "metadata": {
            "tags": []
          }
        },
        {
          "output_type": "display_data",
          "data": {
            "text/html": [
              ""
            ],
            "text/plain": [
              "<IPython.core.display.HTML object>"
            ]
          },
          "metadata": {
            "tags": []
          }
        },
        {
          "output_type": "display_data",
          "data": {
            "text/html": [
              ""
            ],
            "text/plain": [
              "<IPython.core.display.HTML object>"
            ]
          },
          "metadata": {
            "tags": []
          }
        },
        {
          "output_type": "display_data",
          "data": {
            "text/html": [
              ""
            ],
            "text/plain": [
              "<IPython.core.display.HTML object>"
            ]
          },
          "metadata": {
            "tags": []
          }
        },
        {
          "output_type": "display_data",
          "data": {
            "text/html": [
              ""
            ],
            "text/plain": [
              "<IPython.core.display.HTML object>"
            ]
          },
          "metadata": {
            "tags": []
          }
        },
        {
          "output_type": "display_data",
          "data": {
            "text/html": [
              ""
            ],
            "text/plain": [
              "<IPython.core.display.HTML object>"
            ]
          },
          "metadata": {
            "tags": []
          }
        },
        {
          "output_type": "display_data",
          "data": {
            "text/html": [
              ""
            ],
            "text/plain": [
              "<IPython.core.display.HTML object>"
            ]
          },
          "metadata": {
            "tags": []
          }
        },
        {
          "output_type": "display_data",
          "data": {
            "text/html": [
              ""
            ],
            "text/plain": [
              "<IPython.core.display.HTML object>"
            ]
          },
          "metadata": {
            "tags": []
          }
        },
        {
          "output_type": "display_data",
          "data": {
            "text/html": [
              ""
            ],
            "text/plain": [
              "<IPython.core.display.HTML object>"
            ]
          },
          "metadata": {
            "tags": []
          }
        },
        {
          "output_type": "display_data",
          "data": {
            "text/html": [
              ""
            ],
            "text/plain": [
              "<IPython.core.display.HTML object>"
            ]
          },
          "metadata": {
            "tags": []
          }
        },
        {
          "output_type": "display_data",
          "data": {
            "text/html": [
              ""
            ],
            "text/plain": [
              "<IPython.core.display.HTML object>"
            ]
          },
          "metadata": {
            "tags": []
          }
        },
        {
          "output_type": "display_data",
          "data": {
            "text/html": [
              ""
            ],
            "text/plain": [
              "<IPython.core.display.HTML object>"
            ]
          },
          "metadata": {
            "tags": []
          }
        },
        {
          "output_type": "display_data",
          "data": {
            "text/html": [
              ""
            ],
            "text/plain": [
              "<IPython.core.display.HTML object>"
            ]
          },
          "metadata": {
            "tags": []
          }
        },
        {
          "output_type": "display_data",
          "data": {
            "text/html": [
              ""
            ],
            "text/plain": [
              "<IPython.core.display.HTML object>"
            ]
          },
          "metadata": {
            "tags": []
          }
        },
        {
          "output_type": "display_data",
          "data": {
            "text/html": [
              ""
            ],
            "text/plain": [
              "<IPython.core.display.HTML object>"
            ]
          },
          "metadata": {
            "tags": []
          }
        },
        {
          "output_type": "display_data",
          "data": {
            "text/html": [
              ""
            ],
            "text/plain": [
              "<IPython.core.display.HTML object>"
            ]
          },
          "metadata": {
            "tags": []
          }
        },
        {
          "output_type": "display_data",
          "data": {
            "text/html": [
              ""
            ],
            "text/plain": [
              "<IPython.core.display.HTML object>"
            ]
          },
          "metadata": {
            "tags": []
          }
        },
        {
          "output_type": "display_data",
          "data": {
            "text/html": [
              ""
            ],
            "text/plain": [
              "<IPython.core.display.HTML object>"
            ]
          },
          "metadata": {
            "tags": []
          }
        },
        {
          "output_type": "display_data",
          "data": {
            "text/html": [
              ""
            ],
            "text/plain": [
              "<IPython.core.display.HTML object>"
            ]
          },
          "metadata": {
            "tags": []
          }
        },
        {
          "output_type": "display_data",
          "data": {
            "text/html": [
              ""
            ],
            "text/plain": [
              "<IPython.core.display.HTML object>"
            ]
          },
          "metadata": {
            "tags": []
          }
        },
        {
          "output_type": "display_data",
          "data": {
            "text/html": [
              ""
            ],
            "text/plain": [
              "<IPython.core.display.HTML object>"
            ]
          },
          "metadata": {
            "tags": []
          }
        },
        {
          "output_type": "display_data",
          "data": {
            "text/html": [
              ""
            ],
            "text/plain": [
              "<IPython.core.display.HTML object>"
            ]
          },
          "metadata": {
            "tags": []
          }
        },
        {
          "output_type": "display_data",
          "data": {
            "text/html": [
              ""
            ],
            "text/plain": [
              "<IPython.core.display.HTML object>"
            ]
          },
          "metadata": {
            "tags": []
          }
        },
        {
          "output_type": "display_data",
          "data": {
            "text/html": [
              ""
            ],
            "text/plain": [
              "<IPython.core.display.HTML object>"
            ]
          },
          "metadata": {
            "tags": []
          }
        },
        {
          "output_type": "display_data",
          "data": {
            "text/html": [
              ""
            ],
            "text/plain": [
              "<IPython.core.display.HTML object>"
            ]
          },
          "metadata": {
            "tags": []
          }
        },
        {
          "output_type": "display_data",
          "data": {
            "text/html": [
              ""
            ],
            "text/plain": [
              "<IPython.core.display.HTML object>"
            ]
          },
          "metadata": {
            "tags": []
          }
        },
        {
          "output_type": "display_data",
          "data": {
            "text/html": [
              ""
            ],
            "text/plain": [
              "<IPython.core.display.HTML object>"
            ]
          },
          "metadata": {
            "tags": []
          }
        },
        {
          "output_type": "display_data",
          "data": {
            "text/html": [
              ""
            ],
            "text/plain": [
              "<IPython.core.display.HTML object>"
            ]
          },
          "metadata": {
            "tags": []
          }
        },
        {
          "output_type": "display_data",
          "data": {
            "text/html": [
              ""
            ],
            "text/plain": [
              "<IPython.core.display.HTML object>"
            ]
          },
          "metadata": {
            "tags": []
          }
        },
        {
          "output_type": "display_data",
          "data": {
            "text/html": [
              ""
            ],
            "text/plain": [
              "<IPython.core.display.HTML object>"
            ]
          },
          "metadata": {
            "tags": []
          }
        },
        {
          "output_type": "display_data",
          "data": {
            "text/html": [
              ""
            ],
            "text/plain": [
              "<IPython.core.display.HTML object>"
            ]
          },
          "metadata": {
            "tags": []
          }
        },
        {
          "output_type": "display_data",
          "data": {
            "text/html": [
              ""
            ],
            "text/plain": [
              "<IPython.core.display.HTML object>"
            ]
          },
          "metadata": {
            "tags": []
          }
        },
        {
          "output_type": "display_data",
          "data": {
            "text/html": [
              ""
            ],
            "text/plain": [
              "<IPython.core.display.HTML object>"
            ]
          },
          "metadata": {
            "tags": []
          }
        },
        {
          "output_type": "display_data",
          "data": {
            "text/html": [
              ""
            ],
            "text/plain": [
              "<IPython.core.display.HTML object>"
            ]
          },
          "metadata": {
            "tags": []
          }
        },
        {
          "output_type": "display_data",
          "data": {
            "text/html": [
              ""
            ],
            "text/plain": [
              "<IPython.core.display.HTML object>"
            ]
          },
          "metadata": {
            "tags": []
          }
        },
        {
          "output_type": "display_data",
          "data": {
            "text/html": [
              ""
            ],
            "text/plain": [
              "<IPython.core.display.HTML object>"
            ]
          },
          "metadata": {
            "tags": []
          }
        },
        {
          "output_type": "display_data",
          "data": {
            "text/html": [
              ""
            ],
            "text/plain": [
              "<IPython.core.display.HTML object>"
            ]
          },
          "metadata": {
            "tags": []
          }
        },
        {
          "output_type": "display_data",
          "data": {
            "text/html": [
              ""
            ],
            "text/plain": [
              "<IPython.core.display.HTML object>"
            ]
          },
          "metadata": {
            "tags": []
          }
        },
        {
          "output_type": "display_data",
          "data": {
            "text/html": [
              ""
            ],
            "text/plain": [
              "<IPython.core.display.HTML object>"
            ]
          },
          "metadata": {
            "tags": []
          }
        },
        {
          "output_type": "display_data",
          "data": {
            "text/html": [
              ""
            ],
            "text/plain": [
              "<IPython.core.display.HTML object>"
            ]
          },
          "metadata": {
            "tags": []
          }
        },
        {
          "output_type": "display_data",
          "data": {
            "text/html": [
              ""
            ],
            "text/plain": [
              "<IPython.core.display.HTML object>"
            ]
          },
          "metadata": {
            "tags": []
          }
        },
        {
          "output_type": "display_data",
          "data": {
            "text/html": [
              ""
            ],
            "text/plain": [
              "<IPython.core.display.HTML object>"
            ]
          },
          "metadata": {
            "tags": []
          }
        },
        {
          "output_type": "display_data",
          "data": {
            "text/html": [
              ""
            ],
            "text/plain": [
              "<IPython.core.display.HTML object>"
            ]
          },
          "metadata": {
            "tags": []
          }
        },
        {
          "output_type": "display_data",
          "data": {
            "text/html": [
              ""
            ],
            "text/plain": [
              "<IPython.core.display.HTML object>"
            ]
          },
          "metadata": {
            "tags": []
          }
        },
        {
          "output_type": "display_data",
          "data": {
            "text/html": [
              ""
            ],
            "text/plain": [
              "<IPython.core.display.HTML object>"
            ]
          },
          "metadata": {
            "tags": []
          }
        },
        {
          "output_type": "display_data",
          "data": {
            "text/html": [
              ""
            ],
            "text/plain": [
              "<IPython.core.display.HTML object>"
            ]
          },
          "metadata": {
            "tags": []
          }
        },
        {
          "output_type": "display_data",
          "data": {
            "text/html": [
              ""
            ],
            "text/plain": [
              "<IPython.core.display.HTML object>"
            ]
          },
          "metadata": {
            "tags": []
          }
        },
        {
          "output_type": "display_data",
          "data": {
            "text/html": [
              ""
            ],
            "text/plain": [
              "<IPython.core.display.HTML object>"
            ]
          },
          "metadata": {
            "tags": []
          }
        },
        {
          "output_type": "display_data",
          "data": {
            "text/html": [
              ""
            ],
            "text/plain": [
              "<IPython.core.display.HTML object>"
            ]
          },
          "metadata": {
            "tags": []
          }
        },
        {
          "output_type": "display_data",
          "data": {
            "text/html": [
              ""
            ],
            "text/plain": [
              "<IPython.core.display.HTML object>"
            ]
          },
          "metadata": {
            "tags": []
          }
        },
        {
          "output_type": "display_data",
          "data": {
            "text/html": [
              ""
            ],
            "text/plain": [
              "<IPython.core.display.HTML object>"
            ]
          },
          "metadata": {
            "tags": []
          }
        },
        {
          "output_type": "display_data",
          "data": {
            "text/html": [
              ""
            ],
            "text/plain": [
              "<IPython.core.display.HTML object>"
            ]
          },
          "metadata": {
            "tags": []
          }
        },
        {
          "output_type": "display_data",
          "data": {
            "text/html": [
              ""
            ],
            "text/plain": [
              "<IPython.core.display.HTML object>"
            ]
          },
          "metadata": {
            "tags": []
          }
        },
        {
          "output_type": "display_data",
          "data": {
            "text/html": [
              ""
            ],
            "text/plain": [
              "<IPython.core.display.HTML object>"
            ]
          },
          "metadata": {
            "tags": []
          }
        }
      ]
    },
    {
      "cell_type": "code",
      "metadata": {
        "id": "PsJPSm0BIMui",
        "colab_type": "code",
        "colab": {}
      },
      "source": [
        ""
      ],
      "execution_count": 503,
      "outputs": []
    },
    {
      "cell_type": "code",
      "metadata": {
        "id": "knMWfAyjC5OI",
        "colab_type": "code",
        "colab": {}
      },
      "source": [
        "\n",
        "def run_test(change):\n",
        "  input = str(test_box.value)\n",
        "  results = learn_inf.predict(input)\n",
        "  test_out.clear_output()\n",
        "  with test_out:\n",
        "    print(\"Prediction for \" + input + \" is... \"+results[0])\n",
        "\n",
        "test_button = widgets.Button(description='Test')\n",
        "\n",
        "test_button.on_click(run_test)\n"
      ],
      "execution_count": 373,
      "outputs": []
    },
    {
      "cell_type": "code",
      "metadata": {
        "id": "a0bQg8R4CuIB",
        "colab_type": "code",
        "colab": {}
      },
      "source": [
        "test_out = widgets.Output(layout={'border': '1px solid black'})\n",
        "\n",
        "\n",
        "test_box =widgets.Text(\n",
        "    value='Enter text test here',\n",
        "    placeholder='Type something',\n",
        "    description='String:',\n",
        "    disabled=False\n",
        ")"
      ],
      "execution_count": 374,
      "outputs": []
    },
    {
      "cell_type": "code",
      "metadata": {
        "id": "dq_Bb1jRHAAV",
        "colab_type": "code",
        "colab": {
          "base_uri": "https://localhost:8080/",
          "height": 34
        },
        "outputId": "d42a3c9c-6cc7-4475-fe0c-da992c4f02c4"
      },
      "source": [
        "learn_inf.predict(\"not woke\")"
      ],
      "execution_count": 380,
      "outputs": [
        {
          "output_type": "display_data",
          "data": {
            "text/html": [
              ""
            ],
            "text/plain": [
              "<IPython.core.display.HTML object>"
            ]
          },
          "metadata": {
            "tags": []
          }
        },
        {
          "output_type": "execute_result",
          "data": {
            "text/plain": [
              "('False', tensor(0), tensor([0.8779, 0.1221]))"
            ]
          },
          "metadata": {
            "tags": []
          },
          "execution_count": 380
        }
      ]
    },
    {
      "cell_type": "code",
      "metadata": {
        "id": "UfBQr28MCmfT",
        "colab_type": "code",
        "colab": {
          "base_uri": "https://localhost:8080/",
          "height": 132,
          "referenced_widgets": [
            "3c6b8b838beb4e87a602c525bb122afd",
            "3a95f420d0d2496cb440d239289e5074",
            "242704431dac4c0780d75f596041f7fc",
            "b76c9b7027764ad18cb489c55976f52d",
            "9e4383b103584c9bb848fa8ab6abe2f4",
            "818d319a942443318ac484e3a9236c3a",
            "87125ace641240078e7db90b5b2fea5c",
            "001a5f3e380942c798b21dd3a822acf6",
            "1385ae4e18fc44649f64628c8534089c",
            "fe1080f9e893447199f245caffd94441",
            "2e8de7edeaa54617880f7adace0ffff9",
            "7fef4cecff6e4798b806b3b21ad288b5",
            "4228f5b2473b49b5af2bf8431775960a"
          ]
        },
        "outputId": "89686967-5a95-4408-e900-8141c1113469"
      },
      "source": [
        "VBox([widgets.Label('Output Test'),\n",
        "      test_box, test_button, test_out])"
      ],
      "execution_count": 375,
      "outputs": [
        {
          "output_type": "display_data",
          "data": {
            "application/vnd.jupyter.widget-view+json": {
              "model_id": "3c6b8b838beb4e87a602c525bb122afd",
              "version_minor": 0,
              "version_major": 2
            },
            "text/plain": [
              "VBox(children=(Label(value='Output Test'), Text(value='Enter text test here', description='String:', placehold…"
            ]
          },
          "metadata": {
            "tags": []
          }
        },
        {
          "output_type": "display_data",
          "data": {
            "text/html": [
              ""
            ],
            "text/plain": [
              "<IPython.core.display.HTML object>"
            ]
          },
          "metadata": {
            "tags": []
          }
        },
        {
          "output_type": "display_data",
          "data": {
            "text/html": [
              ""
            ],
            "text/plain": [
              "<IPython.core.display.HTML object>"
            ]
          },
          "metadata": {
            "tags": []
          }
        },
        {
          "output_type": "display_data",
          "data": {
            "text/html": [
              ""
            ],
            "text/plain": [
              "<IPython.core.display.HTML object>"
            ]
          },
          "metadata": {
            "tags": []
          }
        },
        {
          "output_type": "display_data",
          "data": {
            "text/html": [
              ""
            ],
            "text/plain": [
              "<IPython.core.display.HTML object>"
            ]
          },
          "metadata": {
            "tags": []
          }
        },
        {
          "output_type": "display_data",
          "data": {
            "text/html": [
              ""
            ],
            "text/plain": [
              "<IPython.core.display.HTML object>"
            ]
          },
          "metadata": {
            "tags": []
          }
        },
        {
          "output_type": "display_data",
          "data": {
            "text/html": [
              ""
            ],
            "text/plain": [
              "<IPython.core.display.HTML object>"
            ]
          },
          "metadata": {
            "tags": []
          }
        },
        {
          "output_type": "display_data",
          "data": {
            "text/html": [
              ""
            ],
            "text/plain": [
              "<IPython.core.display.HTML object>"
            ]
          },
          "metadata": {
            "tags": []
          }
        }
      ]
    },
    {
      "cell_type": "code",
      "metadata": {
        "id": "lL47Jj711eDc",
        "colab_type": "code",
        "colab": {
          "base_uri": "https://localhost:8080/",
          "height": 17
        },
        "outputId": "415478d2-931d-49a4-8bdc-f5850750770e"
      },
      "source": [
        "\n",
        "results = run_process(\"@metpoliceuk\",\"2020-08-26\", \"2020-08-27\")"
      ],
      "execution_count": 303,
      "outputs": [
        {
          "output_type": "display_data",
          "data": {
            "text/html": [
              ""
            ],
            "text/plain": [
              "<IPython.core.display.HTML object>"
            ]
          },
          "metadata": {
            "tags": []
          }
        },
        {
          "output_type": "display_data",
          "data": {
            "text/html": [
              ""
            ],
            "text/plain": [
              "<IPython.core.display.HTML object>"
            ]
          },
          "metadata": {
            "tags": []
          }
        },
        {
          "output_type": "display_data",
          "data": {
            "text/html": [
              ""
            ],
            "text/plain": [
              "<IPython.core.display.HTML object>"
            ]
          },
          "metadata": {
            "tags": []
          }
        },
        {
          "output_type": "display_data",
          "data": {
            "text/html": [
              ""
            ],
            "text/plain": [
              "<IPython.core.display.HTML object>"
            ]
          },
          "metadata": {
            "tags": []
          }
        },
        {
          "output_type": "display_data",
          "data": {
            "text/html": [
              ""
            ],
            "text/plain": [
              "<IPython.core.display.HTML object>"
            ]
          },
          "metadata": {
            "tags": []
          }
        },
        {
          "output_type": "display_data",
          "data": {
            "text/html": [
              ""
            ],
            "text/plain": [
              "<IPython.core.display.HTML object>"
            ]
          },
          "metadata": {
            "tags": []
          }
        },
        {
          "output_type": "display_data",
          "data": {
            "text/html": [
              ""
            ],
            "text/plain": [
              "<IPython.core.display.HTML object>"
            ]
          },
          "metadata": {
            "tags": []
          }
        },
        {
          "output_type": "display_data",
          "data": {
            "text/html": [
              ""
            ],
            "text/plain": [
              "<IPython.core.display.HTML object>"
            ]
          },
          "metadata": {
            "tags": []
          }
        },
        {
          "output_type": "display_data",
          "data": {
            "text/html": [
              ""
            ],
            "text/plain": [
              "<IPython.core.display.HTML object>"
            ]
          },
          "metadata": {
            "tags": []
          }
        },
        {
          "output_type": "display_data",
          "data": {
            "text/html": [
              ""
            ],
            "text/plain": [
              "<IPython.core.display.HTML object>"
            ]
          },
          "metadata": {
            "tags": []
          }
        },
        {
          "output_type": "display_data",
          "data": {
            "text/html": [
              ""
            ],
            "text/plain": [
              "<IPython.core.display.HTML object>"
            ]
          },
          "metadata": {
            "tags": []
          }
        },
        {
          "output_type": "display_data",
          "data": {
            "text/html": [
              ""
            ],
            "text/plain": [
              "<IPython.core.display.HTML object>"
            ]
          },
          "metadata": {
            "tags": []
          }
        },
        {
          "output_type": "display_data",
          "data": {
            "text/html": [
              ""
            ],
            "text/plain": [
              "<IPython.core.display.HTML object>"
            ]
          },
          "metadata": {
            "tags": []
          }
        },
        {
          "output_type": "display_data",
          "data": {
            "text/html": [
              ""
            ],
            "text/plain": [
              "<IPython.core.display.HTML object>"
            ]
          },
          "metadata": {
            "tags": []
          }
        },
        {
          "output_type": "display_data",
          "data": {
            "text/html": [
              ""
            ],
            "text/plain": [
              "<IPython.core.display.HTML object>"
            ]
          },
          "metadata": {
            "tags": []
          }
        },
        {
          "output_type": "display_data",
          "data": {
            "text/html": [
              ""
            ],
            "text/plain": [
              "<IPython.core.display.HTML object>"
            ]
          },
          "metadata": {
            "tags": []
          }
        },
        {
          "output_type": "display_data",
          "data": {
            "text/html": [
              ""
            ],
            "text/plain": [
              "<IPython.core.display.HTML object>"
            ]
          },
          "metadata": {
            "tags": []
          }
        },
        {
          "output_type": "display_data",
          "data": {
            "text/html": [
              ""
            ],
            "text/plain": [
              "<IPython.core.display.HTML object>"
            ]
          },
          "metadata": {
            "tags": []
          }
        },
        {
          "output_type": "display_data",
          "data": {
            "text/html": [
              ""
            ],
            "text/plain": [
              "<IPython.core.display.HTML object>"
            ]
          },
          "metadata": {
            "tags": []
          }
        },
        {
          "output_type": "display_data",
          "data": {
            "text/html": [
              ""
            ],
            "text/plain": [
              "<IPython.core.display.HTML object>"
            ]
          },
          "metadata": {
            "tags": []
          }
        },
        {
          "output_type": "display_data",
          "data": {
            "text/html": [
              ""
            ],
            "text/plain": [
              "<IPython.core.display.HTML object>"
            ]
          },
          "metadata": {
            "tags": []
          }
        },
        {
          "output_type": "display_data",
          "data": {
            "text/html": [
              ""
            ],
            "text/plain": [
              "<IPython.core.display.HTML object>"
            ]
          },
          "metadata": {
            "tags": []
          }
        },
        {
          "output_type": "display_data",
          "data": {
            "text/html": [
              ""
            ],
            "text/plain": [
              "<IPython.core.display.HTML object>"
            ]
          },
          "metadata": {
            "tags": []
          }
        },
        {
          "output_type": "display_data",
          "data": {
            "text/html": [
              ""
            ],
            "text/plain": [
              "<IPython.core.display.HTML object>"
            ]
          },
          "metadata": {
            "tags": []
          }
        },
        {
          "output_type": "display_data",
          "data": {
            "text/html": [
              ""
            ],
            "text/plain": [
              "<IPython.core.display.HTML object>"
            ]
          },
          "metadata": {
            "tags": []
          }
        },
        {
          "output_type": "display_data",
          "data": {
            "text/html": [
              ""
            ],
            "text/plain": [
              "<IPython.core.display.HTML object>"
            ]
          },
          "metadata": {
            "tags": []
          }
        },
        {
          "output_type": "display_data",
          "data": {
            "text/html": [
              ""
            ],
            "text/plain": [
              "<IPython.core.display.HTML object>"
            ]
          },
          "metadata": {
            "tags": []
          }
        },
        {
          "output_type": "display_data",
          "data": {
            "text/html": [
              ""
            ],
            "text/plain": [
              "<IPython.core.display.HTML object>"
            ]
          },
          "metadata": {
            "tags": []
          }
        },
        {
          "output_type": "display_data",
          "data": {
            "text/html": [
              ""
            ],
            "text/plain": [
              "<IPython.core.display.HTML object>"
            ]
          },
          "metadata": {
            "tags": []
          }
        },
        {
          "output_type": "display_data",
          "data": {
            "text/html": [
              ""
            ],
            "text/plain": [
              "<IPython.core.display.HTML object>"
            ]
          },
          "metadata": {
            "tags": []
          }
        },
        {
          "output_type": "display_data",
          "data": {
            "text/html": [
              ""
            ],
            "text/plain": [
              "<IPython.core.display.HTML object>"
            ]
          },
          "metadata": {
            "tags": []
          }
        },
        {
          "output_type": "display_data",
          "data": {
            "text/html": [
              ""
            ],
            "text/plain": [
              "<IPython.core.display.HTML object>"
            ]
          },
          "metadata": {
            "tags": []
          }
        },
        {
          "output_type": "display_data",
          "data": {
            "text/html": [
              ""
            ],
            "text/plain": [
              "<IPython.core.display.HTML object>"
            ]
          },
          "metadata": {
            "tags": []
          }
        },
        {
          "output_type": "display_data",
          "data": {
            "text/html": [
              ""
            ],
            "text/plain": [
              "<IPython.core.display.HTML object>"
            ]
          },
          "metadata": {
            "tags": []
          }
        },
        {
          "output_type": "display_data",
          "data": {
            "text/html": [
              ""
            ],
            "text/plain": [
              "<IPython.core.display.HTML object>"
            ]
          },
          "metadata": {
            "tags": []
          }
        },
        {
          "output_type": "display_data",
          "data": {
            "text/html": [
              ""
            ],
            "text/plain": [
              "<IPython.core.display.HTML object>"
            ]
          },
          "metadata": {
            "tags": []
          }
        },
        {
          "output_type": "display_data",
          "data": {
            "text/html": [
              ""
            ],
            "text/plain": [
              "<IPython.core.display.HTML object>"
            ]
          },
          "metadata": {
            "tags": []
          }
        },
        {
          "output_type": "display_data",
          "data": {
            "text/html": [
              ""
            ],
            "text/plain": [
              "<IPython.core.display.HTML object>"
            ]
          },
          "metadata": {
            "tags": []
          }
        },
        {
          "output_type": "display_data",
          "data": {
            "text/html": [
              ""
            ],
            "text/plain": [
              "<IPython.core.display.HTML object>"
            ]
          },
          "metadata": {
            "tags": []
          }
        },
        {
          "output_type": "display_data",
          "data": {
            "text/html": [
              ""
            ],
            "text/plain": [
              "<IPython.core.display.HTML object>"
            ]
          },
          "metadata": {
            "tags": []
          }
        },
        {
          "output_type": "display_data",
          "data": {
            "text/html": [
              ""
            ],
            "text/plain": [
              "<IPython.core.display.HTML object>"
            ]
          },
          "metadata": {
            "tags": []
          }
        },
        {
          "output_type": "display_data",
          "data": {
            "text/html": [
              ""
            ],
            "text/plain": [
              "<IPython.core.display.HTML object>"
            ]
          },
          "metadata": {
            "tags": []
          }
        },
        {
          "output_type": "display_data",
          "data": {
            "text/html": [
              ""
            ],
            "text/plain": [
              "<IPython.core.display.HTML object>"
            ]
          },
          "metadata": {
            "tags": []
          }
        },
        {
          "output_type": "display_data",
          "data": {
            "text/html": [
              ""
            ],
            "text/plain": [
              "<IPython.core.display.HTML object>"
            ]
          },
          "metadata": {
            "tags": []
          }
        },
        {
          "output_type": "display_data",
          "data": {
            "text/html": [
              ""
            ],
            "text/plain": [
              "<IPython.core.display.HTML object>"
            ]
          },
          "metadata": {
            "tags": []
          }
        },
        {
          "output_type": "display_data",
          "data": {
            "text/html": [
              ""
            ],
            "text/plain": [
              "<IPython.core.display.HTML object>"
            ]
          },
          "metadata": {
            "tags": []
          }
        },
        {
          "output_type": "display_data",
          "data": {
            "text/html": [
              ""
            ],
            "text/plain": [
              "<IPython.core.display.HTML object>"
            ]
          },
          "metadata": {
            "tags": []
          }
        },
        {
          "output_type": "display_data",
          "data": {
            "text/html": [
              ""
            ],
            "text/plain": [
              "<IPython.core.display.HTML object>"
            ]
          },
          "metadata": {
            "tags": []
          }
        },
        {
          "output_type": "display_data",
          "data": {
            "text/html": [
              ""
            ],
            "text/plain": [
              "<IPython.core.display.HTML object>"
            ]
          },
          "metadata": {
            "tags": []
          }
        },
        {
          "output_type": "display_data",
          "data": {
            "text/html": [
              ""
            ],
            "text/plain": [
              "<IPython.core.display.HTML object>"
            ]
          },
          "metadata": {
            "tags": []
          }
        },
        {
          "output_type": "display_data",
          "data": {
            "text/html": [
              ""
            ],
            "text/plain": [
              "<IPython.core.display.HTML object>"
            ]
          },
          "metadata": {
            "tags": []
          }
        },
        {
          "output_type": "display_data",
          "data": {
            "text/html": [
              ""
            ],
            "text/plain": [
              "<IPython.core.display.HTML object>"
            ]
          },
          "metadata": {
            "tags": []
          }
        },
        {
          "output_type": "display_data",
          "data": {
            "text/html": [
              ""
            ],
            "text/plain": [
              "<IPython.core.display.HTML object>"
            ]
          },
          "metadata": {
            "tags": []
          }
        },
        {
          "output_type": "display_data",
          "data": {
            "text/html": [
              ""
            ],
            "text/plain": [
              "<IPython.core.display.HTML object>"
            ]
          },
          "metadata": {
            "tags": []
          }
        },
        {
          "output_type": "display_data",
          "data": {
            "text/html": [
              ""
            ],
            "text/plain": [
              "<IPython.core.display.HTML object>"
            ]
          },
          "metadata": {
            "tags": []
          }
        },
        {
          "output_type": "display_data",
          "data": {
            "text/html": [
              ""
            ],
            "text/plain": [
              "<IPython.core.display.HTML object>"
            ]
          },
          "metadata": {
            "tags": []
          }
        },
        {
          "output_type": "display_data",
          "data": {
            "text/html": [
              ""
            ],
            "text/plain": [
              "<IPython.core.display.HTML object>"
            ]
          },
          "metadata": {
            "tags": []
          }
        },
        {
          "output_type": "display_data",
          "data": {
            "text/html": [
              ""
            ],
            "text/plain": [
              "<IPython.core.display.HTML object>"
            ]
          },
          "metadata": {
            "tags": []
          }
        },
        {
          "output_type": "display_data",
          "data": {
            "text/html": [
              ""
            ],
            "text/plain": [
              "<IPython.core.display.HTML object>"
            ]
          },
          "metadata": {
            "tags": []
          }
        },
        {
          "output_type": "display_data",
          "data": {
            "text/html": [
              ""
            ],
            "text/plain": [
              "<IPython.core.display.HTML object>"
            ]
          },
          "metadata": {
            "tags": []
          }
        },
        {
          "output_type": "display_data",
          "data": {
            "text/html": [
              ""
            ],
            "text/plain": [
              "<IPython.core.display.HTML object>"
            ]
          },
          "metadata": {
            "tags": []
          }
        },
        {
          "output_type": "display_data",
          "data": {
            "text/html": [
              ""
            ],
            "text/plain": [
              "<IPython.core.display.HTML object>"
            ]
          },
          "metadata": {
            "tags": []
          }
        },
        {
          "output_type": "display_data",
          "data": {
            "text/html": [
              ""
            ],
            "text/plain": [
              "<IPython.core.display.HTML object>"
            ]
          },
          "metadata": {
            "tags": []
          }
        },
        {
          "output_type": "display_data",
          "data": {
            "text/html": [
              ""
            ],
            "text/plain": [
              "<IPython.core.display.HTML object>"
            ]
          },
          "metadata": {
            "tags": []
          }
        },
        {
          "output_type": "display_data",
          "data": {
            "text/html": [
              ""
            ],
            "text/plain": [
              "<IPython.core.display.HTML object>"
            ]
          },
          "metadata": {
            "tags": []
          }
        },
        {
          "output_type": "display_data",
          "data": {
            "text/html": [
              ""
            ],
            "text/plain": [
              "<IPython.core.display.HTML object>"
            ]
          },
          "metadata": {
            "tags": []
          }
        },
        {
          "output_type": "display_data",
          "data": {
            "text/html": [
              ""
            ],
            "text/plain": [
              "<IPython.core.display.HTML object>"
            ]
          },
          "metadata": {
            "tags": []
          }
        },
        {
          "output_type": "display_data",
          "data": {
            "text/html": [
              ""
            ],
            "text/plain": [
              "<IPython.core.display.HTML object>"
            ]
          },
          "metadata": {
            "tags": []
          }
        },
        {
          "output_type": "display_data",
          "data": {
            "text/html": [
              ""
            ],
            "text/plain": [
              "<IPython.core.display.HTML object>"
            ]
          },
          "metadata": {
            "tags": []
          }
        },
        {
          "output_type": "display_data",
          "data": {
            "text/html": [
              ""
            ],
            "text/plain": [
              "<IPython.core.display.HTML object>"
            ]
          },
          "metadata": {
            "tags": []
          }
        },
        {
          "output_type": "display_data",
          "data": {
            "text/html": [
              ""
            ],
            "text/plain": [
              "<IPython.core.display.HTML object>"
            ]
          },
          "metadata": {
            "tags": []
          }
        },
        {
          "output_type": "display_data",
          "data": {
            "text/html": [
              ""
            ],
            "text/plain": [
              "<IPython.core.display.HTML object>"
            ]
          },
          "metadata": {
            "tags": []
          }
        },
        {
          "output_type": "display_data",
          "data": {
            "text/html": [
              ""
            ],
            "text/plain": [
              "<IPython.core.display.HTML object>"
            ]
          },
          "metadata": {
            "tags": []
          }
        },
        {
          "output_type": "display_data",
          "data": {
            "text/html": [
              ""
            ],
            "text/plain": [
              "<IPython.core.display.HTML object>"
            ]
          },
          "metadata": {
            "tags": []
          }
        },
        {
          "output_type": "display_data",
          "data": {
            "text/html": [
              ""
            ],
            "text/plain": [
              "<IPython.core.display.HTML object>"
            ]
          },
          "metadata": {
            "tags": []
          }
        },
        {
          "output_type": "display_data",
          "data": {
            "text/html": [
              ""
            ],
            "text/plain": [
              "<IPython.core.display.HTML object>"
            ]
          },
          "metadata": {
            "tags": []
          }
        },
        {
          "output_type": "display_data",
          "data": {
            "text/html": [
              ""
            ],
            "text/plain": [
              "<IPython.core.display.HTML object>"
            ]
          },
          "metadata": {
            "tags": []
          }
        },
        {
          "output_type": "display_data",
          "data": {
            "text/html": [
              ""
            ],
            "text/plain": [
              "<IPython.core.display.HTML object>"
            ]
          },
          "metadata": {
            "tags": []
          }
        },
        {
          "output_type": "display_data",
          "data": {
            "text/html": [
              ""
            ],
            "text/plain": [
              "<IPython.core.display.HTML object>"
            ]
          },
          "metadata": {
            "tags": []
          }
        },
        {
          "output_type": "display_data",
          "data": {
            "text/html": [
              ""
            ],
            "text/plain": [
              "<IPython.core.display.HTML object>"
            ]
          },
          "metadata": {
            "tags": []
          }
        },
        {
          "output_type": "display_data",
          "data": {
            "text/html": [
              ""
            ],
            "text/plain": [
              "<IPython.core.display.HTML object>"
            ]
          },
          "metadata": {
            "tags": []
          }
        },
        {
          "output_type": "display_data",
          "data": {
            "text/html": [
              ""
            ],
            "text/plain": [
              "<IPython.core.display.HTML object>"
            ]
          },
          "metadata": {
            "tags": []
          }
        },
        {
          "output_type": "display_data",
          "data": {
            "text/html": [
              ""
            ],
            "text/plain": [
              "<IPython.core.display.HTML object>"
            ]
          },
          "metadata": {
            "tags": []
          }
        },
        {
          "output_type": "display_data",
          "data": {
            "text/html": [
              ""
            ],
            "text/plain": [
              "<IPython.core.display.HTML object>"
            ]
          },
          "metadata": {
            "tags": []
          }
        },
        {
          "output_type": "display_data",
          "data": {
            "text/html": [
              ""
            ],
            "text/plain": [
              "<IPython.core.display.HTML object>"
            ]
          },
          "metadata": {
            "tags": []
          }
        },
        {
          "output_type": "display_data",
          "data": {
            "text/html": [
              ""
            ],
            "text/plain": [
              "<IPython.core.display.HTML object>"
            ]
          },
          "metadata": {
            "tags": []
          }
        },
        {
          "output_type": "display_data",
          "data": {
            "text/html": [
              ""
            ],
            "text/plain": [
              "<IPython.core.display.HTML object>"
            ]
          },
          "metadata": {
            "tags": []
          }
        },
        {
          "output_type": "display_data",
          "data": {
            "text/html": [
              ""
            ],
            "text/plain": [
              "<IPython.core.display.HTML object>"
            ]
          },
          "metadata": {
            "tags": []
          }
        },
        {
          "output_type": "display_data",
          "data": {
            "text/html": [
              ""
            ],
            "text/plain": [
              "<IPython.core.display.HTML object>"
            ]
          },
          "metadata": {
            "tags": []
          }
        },
        {
          "output_type": "display_data",
          "data": {
            "text/html": [
              ""
            ],
            "text/plain": [
              "<IPython.core.display.HTML object>"
            ]
          },
          "metadata": {
            "tags": []
          }
        },
        {
          "output_type": "display_data",
          "data": {
            "text/html": [
              ""
            ],
            "text/plain": [
              "<IPython.core.display.HTML object>"
            ]
          },
          "metadata": {
            "tags": []
          }
        },
        {
          "output_type": "display_data",
          "data": {
            "text/html": [
              ""
            ],
            "text/plain": [
              "<IPython.core.display.HTML object>"
            ]
          },
          "metadata": {
            "tags": []
          }
        },
        {
          "output_type": "display_data",
          "data": {
            "text/html": [
              ""
            ],
            "text/plain": [
              "<IPython.core.display.HTML object>"
            ]
          },
          "metadata": {
            "tags": []
          }
        },
        {
          "output_type": "display_data",
          "data": {
            "text/html": [
              ""
            ],
            "text/plain": [
              "<IPython.core.display.HTML object>"
            ]
          },
          "metadata": {
            "tags": []
          }
        },
        {
          "output_type": "display_data",
          "data": {
            "text/html": [
              ""
            ],
            "text/plain": [
              "<IPython.core.display.HTML object>"
            ]
          },
          "metadata": {
            "tags": []
          }
        },
        {
          "output_type": "display_data",
          "data": {
            "text/html": [
              ""
            ],
            "text/plain": [
              "<IPython.core.display.HTML object>"
            ]
          },
          "metadata": {
            "tags": []
          }
        },
        {
          "output_type": "display_data",
          "data": {
            "text/html": [
              ""
            ],
            "text/plain": [
              "<IPython.core.display.HTML object>"
            ]
          },
          "metadata": {
            "tags": []
          }
        },
        {
          "output_type": "display_data",
          "data": {
            "text/html": [
              ""
            ],
            "text/plain": [
              "<IPython.core.display.HTML object>"
            ]
          },
          "metadata": {
            "tags": []
          }
        },
        {
          "output_type": "display_data",
          "data": {
            "text/html": [
              ""
            ],
            "text/plain": [
              "<IPython.core.display.HTML object>"
            ]
          },
          "metadata": {
            "tags": []
          }
        },
        {
          "output_type": "display_data",
          "data": {
            "text/html": [
              ""
            ],
            "text/plain": [
              "<IPython.core.display.HTML object>"
            ]
          },
          "metadata": {
            "tags": []
          }
        },
        {
          "output_type": "display_data",
          "data": {
            "text/html": [
              ""
            ],
            "text/plain": [
              "<IPython.core.display.HTML object>"
            ]
          },
          "metadata": {
            "tags": []
          }
        },
        {
          "output_type": "display_data",
          "data": {
            "text/html": [
              ""
            ],
            "text/plain": [
              "<IPython.core.display.HTML object>"
            ]
          },
          "metadata": {
            "tags": []
          }
        },
        {
          "output_type": "display_data",
          "data": {
            "text/html": [
              ""
            ],
            "text/plain": [
              "<IPython.core.display.HTML object>"
            ]
          },
          "metadata": {
            "tags": []
          }
        },
        {
          "output_type": "display_data",
          "data": {
            "text/html": [
              ""
            ],
            "text/plain": [
              "<IPython.core.display.HTML object>"
            ]
          },
          "metadata": {
            "tags": []
          }
        },
        {
          "output_type": "display_data",
          "data": {
            "text/html": [
              ""
            ],
            "text/plain": [
              "<IPython.core.display.HTML object>"
            ]
          },
          "metadata": {
            "tags": []
          }
        },
        {
          "output_type": "display_data",
          "data": {
            "text/html": [
              ""
            ],
            "text/plain": [
              "<IPython.core.display.HTML object>"
            ]
          },
          "metadata": {
            "tags": []
          }
        },
        {
          "output_type": "display_data",
          "data": {
            "text/html": [
              ""
            ],
            "text/plain": [
              "<IPython.core.display.HTML object>"
            ]
          },
          "metadata": {
            "tags": []
          }
        },
        {
          "output_type": "display_data",
          "data": {
            "text/html": [
              ""
            ],
            "text/plain": [
              "<IPython.core.display.HTML object>"
            ]
          },
          "metadata": {
            "tags": []
          }
        },
        {
          "output_type": "display_data",
          "data": {
            "text/html": [
              ""
            ],
            "text/plain": [
              "<IPython.core.display.HTML object>"
            ]
          },
          "metadata": {
            "tags": []
          }
        },
        {
          "output_type": "display_data",
          "data": {
            "text/html": [
              ""
            ],
            "text/plain": [
              "<IPython.core.display.HTML object>"
            ]
          },
          "metadata": {
            "tags": []
          }
        },
        {
          "output_type": "display_data",
          "data": {
            "text/html": [
              ""
            ],
            "text/plain": [
              "<IPython.core.display.HTML object>"
            ]
          },
          "metadata": {
            "tags": []
          }
        },
        {
          "output_type": "display_data",
          "data": {
            "text/html": [
              ""
            ],
            "text/plain": [
              "<IPython.core.display.HTML object>"
            ]
          },
          "metadata": {
            "tags": []
          }
        },
        {
          "output_type": "display_data",
          "data": {
            "text/html": [
              ""
            ],
            "text/plain": [
              "<IPython.core.display.HTML object>"
            ]
          },
          "metadata": {
            "tags": []
          }
        },
        {
          "output_type": "display_data",
          "data": {
            "text/html": [
              ""
            ],
            "text/plain": [
              "<IPython.core.display.HTML object>"
            ]
          },
          "metadata": {
            "tags": []
          }
        },
        {
          "output_type": "display_data",
          "data": {
            "text/html": [
              ""
            ],
            "text/plain": [
              "<IPython.core.display.HTML object>"
            ]
          },
          "metadata": {
            "tags": []
          }
        },
        {
          "output_type": "display_data",
          "data": {
            "text/html": [
              ""
            ],
            "text/plain": [
              "<IPython.core.display.HTML object>"
            ]
          },
          "metadata": {
            "tags": []
          }
        },
        {
          "output_type": "display_data",
          "data": {
            "text/html": [
              ""
            ],
            "text/plain": [
              "<IPython.core.display.HTML object>"
            ]
          },
          "metadata": {
            "tags": []
          }
        },
        {
          "output_type": "display_data",
          "data": {
            "text/html": [
              ""
            ],
            "text/plain": [
              "<IPython.core.display.HTML object>"
            ]
          },
          "metadata": {
            "tags": []
          }
        },
        {
          "output_type": "display_data",
          "data": {
            "text/html": [
              ""
            ],
            "text/plain": [
              "<IPython.core.display.HTML object>"
            ]
          },
          "metadata": {
            "tags": []
          }
        },
        {
          "output_type": "display_data",
          "data": {
            "text/html": [
              ""
            ],
            "text/plain": [
              "<IPython.core.display.HTML object>"
            ]
          },
          "metadata": {
            "tags": []
          }
        },
        {
          "output_type": "display_data",
          "data": {
            "text/html": [
              ""
            ],
            "text/plain": [
              "<IPython.core.display.HTML object>"
            ]
          },
          "metadata": {
            "tags": []
          }
        },
        {
          "output_type": "display_data",
          "data": {
            "text/html": [
              ""
            ],
            "text/plain": [
              "<IPython.core.display.HTML object>"
            ]
          },
          "metadata": {
            "tags": []
          }
        },
        {
          "output_type": "display_data",
          "data": {
            "text/html": [
              ""
            ],
            "text/plain": [
              "<IPython.core.display.HTML object>"
            ]
          },
          "metadata": {
            "tags": []
          }
        },
        {
          "output_type": "display_data",
          "data": {
            "text/html": [
              ""
            ],
            "text/plain": [
              "<IPython.core.display.HTML object>"
            ]
          },
          "metadata": {
            "tags": []
          }
        },
        {
          "output_type": "display_data",
          "data": {
            "text/html": [
              ""
            ],
            "text/plain": [
              "<IPython.core.display.HTML object>"
            ]
          },
          "metadata": {
            "tags": []
          }
        },
        {
          "output_type": "display_data",
          "data": {
            "text/html": [
              ""
            ],
            "text/plain": [
              "<IPython.core.display.HTML object>"
            ]
          },
          "metadata": {
            "tags": []
          }
        },
        {
          "output_type": "display_data",
          "data": {
            "text/html": [
              ""
            ],
            "text/plain": [
              "<IPython.core.display.HTML object>"
            ]
          },
          "metadata": {
            "tags": []
          }
        },
        {
          "output_type": "display_data",
          "data": {
            "text/html": [
              ""
            ],
            "text/plain": [
              "<IPython.core.display.HTML object>"
            ]
          },
          "metadata": {
            "tags": []
          }
        },
        {
          "output_type": "display_data",
          "data": {
            "text/html": [
              ""
            ],
            "text/plain": [
              "<IPython.core.display.HTML object>"
            ]
          },
          "metadata": {
            "tags": []
          }
        },
        {
          "output_type": "display_data",
          "data": {
            "text/html": [
              ""
            ],
            "text/plain": [
              "<IPython.core.display.HTML object>"
            ]
          },
          "metadata": {
            "tags": []
          }
        },
        {
          "output_type": "display_data",
          "data": {
            "text/html": [
              ""
            ],
            "text/plain": [
              "<IPython.core.display.HTML object>"
            ]
          },
          "metadata": {
            "tags": []
          }
        },
        {
          "output_type": "display_data",
          "data": {
            "text/html": [
              ""
            ],
            "text/plain": [
              "<IPython.core.display.HTML object>"
            ]
          },
          "metadata": {
            "tags": []
          }
        },
        {
          "output_type": "display_data",
          "data": {
            "text/html": [
              ""
            ],
            "text/plain": [
              "<IPython.core.display.HTML object>"
            ]
          },
          "metadata": {
            "tags": []
          }
        },
        {
          "output_type": "display_data",
          "data": {
            "text/html": [
              ""
            ],
            "text/plain": [
              "<IPython.core.display.HTML object>"
            ]
          },
          "metadata": {
            "tags": []
          }
        },
        {
          "output_type": "display_data",
          "data": {
            "text/html": [
              ""
            ],
            "text/plain": [
              "<IPython.core.display.HTML object>"
            ]
          },
          "metadata": {
            "tags": []
          }
        },
        {
          "output_type": "display_data",
          "data": {
            "text/html": [
              ""
            ],
            "text/plain": [
              "<IPython.core.display.HTML object>"
            ]
          },
          "metadata": {
            "tags": []
          }
        },
        {
          "output_type": "display_data",
          "data": {
            "text/html": [
              ""
            ],
            "text/plain": [
              "<IPython.core.display.HTML object>"
            ]
          },
          "metadata": {
            "tags": []
          }
        },
        {
          "output_type": "display_data",
          "data": {
            "text/html": [
              ""
            ],
            "text/plain": [
              "<IPython.core.display.HTML object>"
            ]
          },
          "metadata": {
            "tags": []
          }
        }
      ]
    },
    {
      "cell_type": "code",
      "metadata": {
        "id": "z1b9YZru_j0O",
        "colab_type": "code",
        "colab": {
          "base_uri": "https://localhost:8080/",
          "height": 34
        },
        "outputId": "3e72807b-534a-4347-fb67-c3fea5190d96"
      },
      "source": [
        "round(results[0][\"count\"].iloc[1] / results[0][\"count\"].iloc[0],3) * 100"
      ],
      "execution_count": 486,
      "outputs": [
        {
          "output_type": "execute_result",
          "data": {
            "text/plain": [
              "14.7"
            ]
          },
          "metadata": {
            "tags": []
          },
          "execution_count": 486
        }
      ]
    },
    {
      "cell_type": "code",
      "metadata": {
        "id": "0V6z-X5v9fAN",
        "colab_type": "code",
        "colab": {}
      },
      "source": [
        "date_from = \"2020-08-27\"\n",
        "date_to = \"2020-08-28\"\n",
        "user_name=\"@metpoliceuk\"\n",
        "q='to:{}'.format(user_name)\n",
        "\n",
        "tweetCriteria = got.manager.TweetCriteria().setQuerySearch(q)\\\n",
        "                                          .setSince(date_from)\\\n",
        "                                          .setUntil(date_to)\n",
        "tweets = got.manager.TweetManager.getTweets(tweetCriteria)"
      ],
      "execution_count": 301,
      "outputs": []
    },
    {
      "cell_type": "code",
      "metadata": {
        "id": "fbJXd-YX-niv",
        "colab_type": "code",
        "colab": {
          "base_uri": "https://localhost:8080/",
          "height": 1000
        },
        "outputId": "764f544b-902c-4eb8-f9a1-ce0e8c55ae55"
      },
      "source": [
        "tweets"
      ],
      "execution_count": 302,
      "outputs": [
        {
          "output_type": "execute_result",
          "data": {
            "text/plain": [
              "[<GetOldTweets3.models.Tweet.Tweet at 0x7f8acb226eb8>,\n",
              " <GetOldTweets3.models.Tweet.Tweet at 0x7f8acb226f98>,\n",
              " <GetOldTweets3.models.Tweet.Tweet at 0x7f8acb226748>,\n",
              " <GetOldTweets3.models.Tweet.Tweet at 0x7f8acbb0fe80>,\n",
              " <GetOldTweets3.models.Tweet.Tweet at 0x7f8acdc7ed30>,\n",
              " <GetOldTweets3.models.Tweet.Tweet at 0x7f8acbb0fc50>,\n",
              " <GetOldTweets3.models.Tweet.Tweet at 0x7f8acdc7eef0>,\n",
              " <GetOldTweets3.models.Tweet.Tweet at 0x7f8acbb0fc88>,\n",
              " <GetOldTweets3.models.Tweet.Tweet at 0x7f8acb22fc50>,\n",
              " <GetOldTweets3.models.Tweet.Tweet at 0x7f8acb22f780>,\n",
              " <GetOldTweets3.models.Tweet.Tweet at 0x7f8acbb102e8>,\n",
              " <GetOldTweets3.models.Tweet.Tweet at 0x7f8acbb10eb8>,\n",
              " <GetOldTweets3.models.Tweet.Tweet at 0x7f8acb22f7f0>,\n",
              " <GetOldTweets3.models.Tweet.Tweet at 0x7f8acdc87cf8>,\n",
              " <GetOldTweets3.models.Tweet.Tweet at 0x7f8acbb0fcc0>,\n",
              " <GetOldTweets3.models.Tweet.Tweet at 0x7f8acbb0ffd0>,\n",
              " <GetOldTweets3.models.Tweet.Tweet at 0x7f8ad7d20860>,\n",
              " <GetOldTweets3.models.Tweet.Tweet at 0x7f8acbb0fbe0>,\n",
              " <GetOldTweets3.models.Tweet.Tweet at 0x7f8acb22f828>,\n",
              " <GetOldTweets3.models.Tweet.Tweet at 0x7f8acb2267f0>,\n",
              " <GetOldTweets3.models.Tweet.Tweet at 0x7f8acb226438>,\n",
              " <GetOldTweets3.models.Tweet.Tweet at 0x7f8acb2269b0>,\n",
              " <GetOldTweets3.models.Tweet.Tweet at 0x7f8acb226f60>,\n",
              " <GetOldTweets3.models.Tweet.Tweet at 0x7f8acdc87518>,\n",
              " <GetOldTweets3.models.Tweet.Tweet at 0x7f8acb22fb70>,\n",
              " <GetOldTweets3.models.Tweet.Tweet at 0x7f8acb22fb38>,\n",
              " <GetOldTweets3.models.Tweet.Tweet at 0x7f8acb226cc0>,\n",
              " <GetOldTweets3.models.Tweet.Tweet at 0x7f8acb226c50>,\n",
              " <GetOldTweets3.models.Tweet.Tweet at 0x7f8acb2260b8>,\n",
              " <GetOldTweets3.models.Tweet.Tweet at 0x7f8acb226898>,\n",
              " <GetOldTweets3.models.Tweet.Tweet at 0x7f8acb226390>,\n",
              " <GetOldTweets3.models.Tweet.Tweet at 0x7f8acbb0fda0>,\n",
              " <GetOldTweets3.models.Tweet.Tweet at 0x7f8acdc7e940>,\n",
              " <GetOldTweets3.models.Tweet.Tweet at 0x7f8acb226a20>,\n",
              " <GetOldTweets3.models.Tweet.Tweet at 0x7f8acb226fd0>,\n",
              " <GetOldTweets3.models.Tweet.Tweet at 0x7f8acb226b70>,\n",
              " <GetOldTweets3.models.Tweet.Tweet at 0x7f8acb226c88>,\n",
              " <GetOldTweets3.models.Tweet.Tweet at 0x7f8acb226278>,\n",
              " <GetOldTweets3.models.Tweet.Tweet at 0x7f8acb2260f0>,\n",
              " <GetOldTweets3.models.Tweet.Tweet at 0x7f8ad765ef98>,\n",
              " <GetOldTweets3.models.Tweet.Tweet at 0x7f8acb226710>,\n",
              " <GetOldTweets3.models.Tweet.Tweet at 0x7f8ad4ecd748>,\n",
              " <GetOldTweets3.models.Tweet.Tweet at 0x7f8ad4ecd7f0>,\n",
              " <GetOldTweets3.models.Tweet.Tweet at 0x7f8ad4ecd0f0>,\n",
              " <GetOldTweets3.models.Tweet.Tweet at 0x7f8ad4ecd3c8>,\n",
              " <GetOldTweets3.models.Tweet.Tweet at 0x7f8ad4ecd4a8>,\n",
              " <GetOldTweets3.models.Tweet.Tweet at 0x7f8ad4ecd4e0>,\n",
              " <GetOldTweets3.models.Tweet.Tweet at 0x7f8acbb0fe10>,\n",
              " <GetOldTweets3.models.Tweet.Tweet at 0x7f8acb226a58>,\n",
              " <GetOldTweets3.models.Tweet.Tweet at 0x7f8acb226550>,\n",
              " <GetOldTweets3.models.Tweet.Tweet at 0x7f8acb2264e0>,\n",
              " <GetOldTweets3.models.Tweet.Tweet at 0x7f8acb226588>,\n",
              " <GetOldTweets3.models.Tweet.Tweet at 0x7f8acb226940>,\n",
              " <GetOldTweets3.models.Tweet.Tweet at 0x7f8acb226e10>,\n",
              " <GetOldTweets3.models.Tweet.Tweet at 0x7f8acb2268d0>,\n",
              " <GetOldTweets3.models.Tweet.Tweet at 0x7f8acb226ac8>,\n",
              " <GetOldTweets3.models.Tweet.Tweet at 0x7f8acb226f28>,\n",
              " <GetOldTweets3.models.Tweet.Tweet at 0x7f8acb226470>,\n",
              " <GetOldTweets3.models.Tweet.Tweet at 0x7f8acb226208>,\n",
              " <GetOldTweets3.models.Tweet.Tweet at 0x7f8acb2262b0>,\n",
              " <GetOldTweets3.models.Tweet.Tweet at 0x7f8acb226630>,\n",
              " <GetOldTweets3.models.Tweet.Tweet at 0x7f8acb2266a0>,\n",
              " <GetOldTweets3.models.Tweet.Tweet at 0x7f8acb226dd8>,\n",
              " <GetOldTweets3.models.Tweet.Tweet at 0x7f8acb2265f8>,\n",
              " <GetOldTweets3.models.Tweet.Tweet at 0x7f8ad4ecd7b8>,\n",
              " <GetOldTweets3.models.Tweet.Tweet at 0x7f8ad4ecd6a0>,\n",
              " <GetOldTweets3.models.Tweet.Tweet at 0x7f8ad4ecd470>,\n",
              " <GetOldTweets3.models.Tweet.Tweet at 0x7f8ad4ecdcc0>,\n",
              " <GetOldTweets3.models.Tweet.Tweet at 0x7f8acb2265c0>,\n",
              " <GetOldTweets3.models.Tweet.Tweet at 0x7f8acb226e48>,\n",
              " <GetOldTweets3.models.Tweet.Tweet at 0x7f8acb2267b8>,\n",
              " <GetOldTweets3.models.Tweet.Tweet at 0x7f8acb226048>,\n",
              " <GetOldTweets3.models.Tweet.Tweet at 0x7f8ad4ecd400>,\n",
              " <GetOldTweets3.models.Tweet.Tweet at 0x7f8ad4ecd5c0>,\n",
              " <GetOldTweets3.models.Tweet.Tweet at 0x7f8ad4ecda90>,\n",
              " <GetOldTweets3.models.Tweet.Tweet at 0x7f8ad4ecd828>,\n",
              " <GetOldTweets3.models.Tweet.Tweet at 0x7f8acb2264a8>,\n",
              " <GetOldTweets3.models.Tweet.Tweet at 0x7f8acb226e80>,\n",
              " <GetOldTweets3.models.Tweet.Tweet at 0x7f8ad4ecd320>,\n",
              " <GetOldTweets3.models.Tweet.Tweet at 0x7f8ad4ecdac8>,\n",
              " <GetOldTweets3.models.Tweet.Tweet at 0x7f8ad4ecd9b0>,\n",
              " <GetOldTweets3.models.Tweet.Tweet at 0x7f8ad4ecd208>,\n",
              " <GetOldTweets3.models.Tweet.Tweet at 0x7f8ad4ecdf28>,\n",
              " <GetOldTweets3.models.Tweet.Tweet at 0x7f8ad4ecdb38>,\n",
              " <GetOldTweets3.models.Tweet.Tweet at 0x7f8ad4ecd710>,\n",
              " <GetOldTweets3.models.Tweet.Tweet at 0x7f8ad4ecddd8>,\n",
              " <GetOldTweets3.models.Tweet.Tweet at 0x7f8ad4ecdf98>,\n",
              " <GetOldTweets3.models.Tweet.Tweet at 0x7f8ad4ecde80>,\n",
              " <GetOldTweets3.models.Tweet.Tweet at 0x7f8ad4ecd550>,\n",
              " <GetOldTweets3.models.Tweet.Tweet at 0x7f8ad4ecd2e8>,\n",
              " <GetOldTweets3.models.Tweet.Tweet at 0x7f8ad4ecdbe0>,\n",
              " <GetOldTweets3.models.Tweet.Tweet at 0x7f8ad4ecd908>,\n",
              " <GetOldTweets3.models.Tweet.Tweet at 0x7f8ad4ecd278>,\n",
              " <GetOldTweets3.models.Tweet.Tweet at 0x7f8ad4ecdb70>,\n",
              " <GetOldTweets3.models.Tweet.Tweet at 0x7f8ad4ecdda0>,\n",
              " <GetOldTweets3.models.Tweet.Tweet at 0x7f8acb226780>,\n",
              " <GetOldTweets3.models.Tweet.Tweet at 0x7f8ad4ecd668>,\n",
              " <GetOldTweets3.models.Tweet.Tweet at 0x7f8acb2263c8>,\n",
              " <GetOldTweets3.models.Tweet.Tweet at 0x7f8ad4ecd588>,\n",
              " <GetOldTweets3.models.Tweet.Tweet at 0x7f8ad4ecd1d0>,\n",
              " <GetOldTweets3.models.Tweet.Tweet at 0x7f8acaf49940>,\n",
              " <GetOldTweets3.models.Tweet.Tweet at 0x7f8acaf494e0>,\n",
              " <GetOldTweets3.models.Tweet.Tweet at 0x7f8acaf49588>,\n",
              " <GetOldTweets3.models.Tweet.Tweet at 0x7f8acaf499e8>,\n",
              " <GetOldTweets3.models.Tweet.Tweet at 0x7f8acaf49550>,\n",
              " <GetOldTweets3.models.Tweet.Tweet at 0x7f8acbb0f400>,\n",
              " <GetOldTweets3.models.Tweet.Tweet at 0x7f8ad4ecdeb8>,\n",
              " <GetOldTweets3.models.Tweet.Tweet at 0x7f8ad4ecd048>,\n",
              " <GetOldTweets3.models.Tweet.Tweet at 0x7f8ad4ecd518>,\n",
              " <GetOldTweets3.models.Tweet.Tweet at 0x7f8ad4ecd390>,\n",
              " <GetOldTweets3.models.Tweet.Tweet at 0x7f8ad4ecd240>,\n",
              " <GetOldTweets3.models.Tweet.Tweet at 0x7f8ad4ecdef0>,\n",
              " <GetOldTweets3.models.Tweet.Tweet at 0x7f8ad4ecdf60>,\n",
              " <GetOldTweets3.models.Tweet.Tweet at 0x7f8ad4ecdb00>,\n",
              " <GetOldTweets3.models.Tweet.Tweet at 0x7f8ad4ecd0b8>,\n",
              " <GetOldTweets3.models.Tweet.Tweet at 0x7f8ad4ecdc88>,\n",
              " <GetOldTweets3.models.Tweet.Tweet at 0x7f8ad4ecdfd0>,\n",
              " <GetOldTweets3.models.Tweet.Tweet at 0x7f8acaf49320>,\n",
              " <GetOldTweets3.models.Tweet.Tweet at 0x7f8acaf49898>,\n",
              " <GetOldTweets3.models.Tweet.Tweet at 0x7f8acaf49518>,\n",
              " <GetOldTweets3.models.Tweet.Tweet at 0x7f8acaf49780>,\n",
              " <GetOldTweets3.models.Tweet.Tweet at 0x7f8acaf49cc0>,\n",
              " <GetOldTweets3.models.Tweet.Tweet at 0x7f8acaf499b0>,\n",
              " <GetOldTweets3.models.Tweet.Tweet at 0x7f8acaf49e10>,\n",
              " <GetOldTweets3.models.Tweet.Tweet at 0x7f8acaf49d30>,\n",
              " <GetOldTweets3.models.Tweet.Tweet at 0x7f8acaf49d68>,\n",
              " <GetOldTweets3.models.Tweet.Tweet at 0x7f8acaf496d8>,\n",
              " <GetOldTweets3.models.Tweet.Tweet at 0x7f8acb22f2e8>,\n",
              " <GetOldTweets3.models.Tweet.Tweet at 0x7f8ad4ecde48>,\n",
              " <GetOldTweets3.models.Tweet.Tweet at 0x7f8ad4ecd160>,\n",
              " <GetOldTweets3.models.Tweet.Tweet at 0x7f8acaf492e8>,\n",
              " <GetOldTweets3.models.Tweet.Tweet at 0x7f8acaf496a0>,\n",
              " <GetOldTweets3.models.Tweet.Tweet at 0x7f8acaf49748>,\n",
              " <GetOldTweets3.models.Tweet.Tweet at 0x7f8acaf49eb8>,\n",
              " <GetOldTweets3.models.Tweet.Tweet at 0x7f8ad4ecd860>,\n",
              " <GetOldTweets3.models.Tweet.Tweet at 0x7f8ad4ecd358>,\n",
              " <GetOldTweets3.models.Tweet.Tweet at 0x7f8acaf49470>,\n",
              " <GetOldTweets3.models.Tweet.Tweet at 0x7f8acaf49da0>,\n",
              " <GetOldTweets3.models.Tweet.Tweet at 0x7f8acaf49b00>,\n",
              " <GetOldTweets3.models.Tweet.Tweet at 0x7f8acaf49668>,\n",
              " <GetOldTweets3.models.Tweet.Tweet at 0x7f8acaf49208>,\n",
              " <GetOldTweets3.models.Tweet.Tweet at 0x7f8acaf49630>,\n",
              " <GetOldTweets3.models.Tweet.Tweet at 0x7f8acaf49dd8>,\n",
              " <GetOldTweets3.models.Tweet.Tweet at 0x7f8acaf494a8>,\n",
              " <GetOldTweets3.models.Tweet.Tweet at 0x7f8acaf497f0>,\n",
              " <GetOldTweets3.models.Tweet.Tweet at 0x7f8acaf493c8>,\n",
              " <GetOldTweets3.models.Tweet.Tweet at 0x7f8acaf49cf8>,\n",
              " <GetOldTweets3.models.Tweet.Tweet at 0x7f8acaf49c50>,\n",
              " <GetOldTweets3.models.Tweet.Tweet at 0x7f8acaf49048>,\n",
              " <GetOldTweets3.models.Tweet.Tweet at 0x7f8acaf491d0>,\n",
              " <GetOldTweets3.models.Tweet.Tweet at 0x7f8acaf49f60>,\n",
              " <GetOldTweets3.models.Tweet.Tweet at 0x7f8acaf49fd0>,\n",
              " <GetOldTweets3.models.Tweet.Tweet at 0x7f8acaf49358>,\n",
              " <GetOldTweets3.models.Tweet.Tweet at 0x7f8acaf490b8>,\n",
              " <GetOldTweets3.models.Tweet.Tweet at 0x7f8acaf49b38>,\n",
              " <GetOldTweets3.models.Tweet.Tweet at 0x7f8acb226198>,\n",
              " <GetOldTweets3.models.Tweet.Tweet at 0x7f8acaf492b0>,\n",
              " <GetOldTweets3.models.Tweet.Tweet at 0x7f8acaf49f98>,\n",
              " <GetOldTweets3.models.Tweet.Tweet at 0x7f8acaf49a58>,\n",
              " <GetOldTweets3.models.Tweet.Tweet at 0x7f8acaf49ef0>,\n",
              " <GetOldTweets3.models.Tweet.Tweet at 0x7f8acaf70978>,\n",
              " <GetOldTweets3.models.Tweet.Tweet at 0x7f8acaf70a90>,\n",
              " <GetOldTweets3.models.Tweet.Tweet at 0x7f8acaf70a20>,\n",
              " <GetOldTweets3.models.Tweet.Tweet at 0x7f8acaf497b8>,\n",
              " <GetOldTweets3.models.Tweet.Tweet at 0x7f8acaf495c0>,\n",
              " <GetOldTweets3.models.Tweet.Tweet at 0x7f8acaf49e48>,\n",
              " <GetOldTweets3.models.Tweet.Tweet at 0x7f8acaf49438>,\n",
              " <GetOldTweets3.models.Tweet.Tweet at 0x7f8ad4ecd6d8>,\n",
              " <GetOldTweets3.models.Tweet.Tweet at 0x7f8acaf49160>,\n",
              " <GetOldTweets3.models.Tweet.Tweet at 0x7f8acaf49240>,\n",
              " <GetOldTweets3.models.Tweet.Tweet at 0x7f8acaf49978>,\n",
              " <GetOldTweets3.models.Tweet.Tweet at 0x7f8acaf49400>,\n",
              " <GetOldTweets3.models.Tweet.Tweet at 0x7f8acaf490f0>,\n",
              " <GetOldTweets3.models.Tweet.Tweet at 0x7f8acaf49ac8>,\n",
              " <GetOldTweets3.models.Tweet.Tweet at 0x7f8acaf49390>,\n",
              " <GetOldTweets3.models.Tweet.Tweet at 0x7f8acaf709e8>,\n",
              " <GetOldTweets3.models.Tweet.Tweet at 0x7f8acaf70b00>,\n",
              " <GetOldTweets3.models.Tweet.Tweet at 0x7f8acaf70198>,\n",
              " <GetOldTweets3.models.Tweet.Tweet at 0x7f8ad4ecdba8>,\n",
              " <GetOldTweets3.models.Tweet.Tweet at 0x7f8acaf498d0>,\n",
              " <GetOldTweets3.models.Tweet.Tweet at 0x7f8acaf70400>,\n",
              " <GetOldTweets3.models.Tweet.Tweet at 0x7f8acaf70eb8>,\n",
              " <GetOldTweets3.models.Tweet.Tweet at 0x7f8acaf70e10>,\n",
              " <GetOldTweets3.models.Tweet.Tweet at 0x7f8acaf707f0>,\n",
              " <GetOldTweets3.models.Tweet.Tweet at 0x7f8acaf49860>,\n",
              " <GetOldTweets3.models.Tweet.Tweet at 0x7f8acaf49be0>,\n",
              " <GetOldTweets3.models.Tweet.Tweet at 0x7f8acaf49ba8>,\n",
              " <GetOldTweets3.models.Tweet.Tweet at 0x7f8acaf70f60>,\n",
              " <GetOldTweets3.models.Tweet.Tweet at 0x7f8acaf70588>,\n",
              " <GetOldTweets3.models.Tweet.Tweet at 0x7f8acaf70208>,\n",
              " <GetOldTweets3.models.Tweet.Tweet at 0x7f8acaf49080>,\n",
              " <GetOldTweets3.models.Tweet.Tweet at 0x7f8acaf49b70>,\n",
              " <GetOldTweets3.models.Tweet.Tweet at 0x7f8acaf49710>,\n",
              " <GetOldTweets3.models.Tweet.Tweet at 0x7f8acaf70240>,\n",
              " <GetOldTweets3.models.Tweet.Tweet at 0x7f8acaf70320>,\n",
              " <GetOldTweets3.models.Tweet.Tweet at 0x7f8acaf70358>,\n",
              " <GetOldTweets3.models.Tweet.Tweet at 0x7f8acaf70048>,\n",
              " <GetOldTweets3.models.Tweet.Tweet at 0x7f8acaf70ba8>,\n",
              " <GetOldTweets3.models.Tweet.Tweet at 0x7f8acaf49c88>,\n",
              " <GetOldTweets3.models.Tweet.Tweet at 0x7f8acaf70438>,\n",
              " <GetOldTweets3.models.Tweet.Tweet at 0x7f8acaf70d68>,\n",
              " <GetOldTweets3.models.Tweet.Tweet at 0x7f8acaf706a0>,\n",
              " <GetOldTweets3.models.Tweet.Tweet at 0x7f8acaf70d30>,\n",
              " <GetOldTweets3.models.Tweet.Tweet at 0x7f8acaf70c18>,\n",
              " <GetOldTweets3.models.Tweet.Tweet at 0x7f8acaf70710>,\n",
              " <GetOldTweets3.models.Tweet.Tweet at 0x7f8acaf70cc0>,\n",
              " <GetOldTweets3.models.Tweet.Tweet at 0x7f8acaf495f8>,\n",
              " <GetOldTweets3.models.Tweet.Tweet at 0x7f8acaf70c88>,\n",
              " <GetOldTweets3.models.Tweet.Tweet at 0x7f8acaf70470>,\n",
              " <GetOldTweets3.models.Tweet.Tweet at 0x7f8acaf70518>,\n",
              " <GetOldTweets3.models.Tweet.Tweet at 0x7f8acaf709b0>,\n",
              " <GetOldTweets3.models.Tweet.Tweet at 0x7f8acaf70f28>,\n",
              " <GetOldTweets3.models.Tweet.Tweet at 0x7f8acaf705f8>,\n",
              " <GetOldTweets3.models.Tweet.Tweet at 0x7f8acaf703c8>,\n",
              " <GetOldTweets3.models.Tweet.Tweet at 0x7f8acaf702b0>,\n",
              " <GetOldTweets3.models.Tweet.Tweet at 0x7f8acaf70780>,\n",
              " <GetOldTweets3.models.Tweet.Tweet at 0x7f8acaf70278>,\n",
              " <GetOldTweets3.models.Tweet.Tweet at 0x7f8acaf70128>,\n",
              " <GetOldTweets3.models.Tweet.Tweet at 0x7f8acaf708d0>,\n",
              " <GetOldTweets3.models.Tweet.Tweet at 0x7f8acaf70fd0>,\n",
              " <GetOldTweets3.models.Tweet.Tweet at 0x7f8acaf629e8>,\n",
              " <GetOldTweets3.models.Tweet.Tweet at 0x7f8acaf62b70>,\n",
              " <GetOldTweets3.models.Tweet.Tweet at 0x7f8acaf62b00>,\n",
              " <GetOldTweets3.models.Tweet.Tweet at 0x7f8acaf62b38>,\n",
              " <GetOldTweets3.models.Tweet.Tweet at 0x7f8acaf702e8>,\n",
              " <GetOldTweets3.models.Tweet.Tweet at 0x7f8acaf705c0>,\n",
              " <GetOldTweets3.models.Tweet.Tweet at 0x7f8acaf70e80>,\n",
              " <GetOldTweets3.models.Tweet.Tweet at 0x7f8acaf70748>,\n",
              " <GetOldTweets3.models.Tweet.Tweet at 0x7f8acaf706d8>,\n",
              " <GetOldTweets3.models.Tweet.Tweet at 0x7f8acaf70160>,\n",
              " <GetOldTweets3.models.Tweet.Tweet at 0x7f8acaf70c50>,\n",
              " <GetOldTweets3.models.Tweet.Tweet at 0x7f8acaf70e48>,\n",
              " <GetOldTweets3.models.Tweet.Tweet at 0x7f8acaf70940>,\n",
              " <GetOldTweets3.models.Tweet.Tweet at 0x7f8acaf70ef0>,\n",
              " <GetOldTweets3.models.Tweet.Tweet at 0x7f8acaf70b38>,\n",
              " <GetOldTweets3.models.Tweet.Tweet at 0x7f8acaf704e0>,\n",
              " <GetOldTweets3.models.Tweet.Tweet at 0x7f8acaf62a58>,\n",
              " <GetOldTweets3.models.Tweet.Tweet at 0x7f8acaf623c8>,\n",
              " <GetOldTweets3.models.Tweet.Tweet at 0x7f8acaf62780>,\n",
              " <GetOldTweets3.models.Tweet.Tweet at 0x7f8acaf62c18>,\n",
              " <GetOldTweets3.models.Tweet.Tweet at 0x7f8acaf627b8>,\n",
              " <GetOldTweets3.models.Tweet.Tweet at 0x7f8acaf62710>,\n",
              " <GetOldTweets3.models.Tweet.Tweet at 0x7f8acaf62f60>,\n",
              " <GetOldTweets3.models.Tweet.Tweet at 0x7f8acaf62f28>,\n",
              " <GetOldTweets3.models.Tweet.Tweet at 0x7f8acaf62eb8>,\n",
              " <GetOldTweets3.models.Tweet.Tweet at 0x7f8acaf62dd8>,\n",
              " <GetOldTweets3.models.Tweet.Tweet at 0x7f8acaf62da0>,\n",
              " <GetOldTweets3.models.Tweet.Tweet at 0x7f8acaf70ac8>,\n",
              " <GetOldTweets3.models.Tweet.Tweet at 0x7f8acaf70b70>,\n",
              " <GetOldTweets3.models.Tweet.Tweet at 0x7f8acaf62d30>,\n",
              " <GetOldTweets3.models.Tweet.Tweet at 0x7f8acaf62e10>,\n",
              " <GetOldTweets3.models.Tweet.Tweet at 0x7f8acaf62128>,\n",
              " <GetOldTweets3.models.Tweet.Tweet at 0x7f8acaf62278>,\n",
              " <GetOldTweets3.models.Tweet.Tweet at 0x7f8acaf62e48>,\n",
              " <GetOldTweets3.models.Tweet.Tweet at 0x7f8acaf62630>,\n",
              " <GetOldTweets3.models.Tweet.Tweet at 0x7f8acaf70be0>,\n",
              " <GetOldTweets3.models.Tweet.Tweet at 0x7f8acaf62320>,\n",
              " <GetOldTweets3.models.Tweet.Tweet at 0x7f8acaf624a8>,\n",
              " <GetOldTweets3.models.Tweet.Tweet at 0x7f8acaf62208>,\n",
              " <GetOldTweets3.models.Tweet.Tweet at 0x7f8acaf62048>,\n",
              " <GetOldTweets3.models.Tweet.Tweet at 0x7f8acaf622b0>,\n",
              " <GetOldTweets3.models.Tweet.Tweet at 0x7f8acaf62358>,\n",
              " <GetOldTweets3.models.Tweet.Tweet at 0x7f8acaf626d8>,\n",
              " <GetOldTweets3.models.Tweet.Tweet at 0x7f8acbb5f5f8>,\n",
              " <GetOldTweets3.models.Tweet.Tweet at 0x7f8acbb5f400>,\n",
              " <GetOldTweets3.models.Tweet.Tweet at 0x7f8acbb5f3c8>,\n",
              " <GetOldTweets3.models.Tweet.Tweet at 0x7f8acbb5f668>,\n",
              " <GetOldTweets3.models.Tweet.Tweet at 0x7f8acaf622e8>,\n",
              " <GetOldTweets3.models.Tweet.Tweet at 0x7f8acaf62e80>,\n",
              " <GetOldTweets3.models.Tweet.Tweet at 0x7f8acaf62588>,\n",
              " <GetOldTweets3.models.Tweet.Tweet at 0x7f8acbb5f5c0>,\n",
              " <GetOldTweets3.models.Tweet.Tweet at 0x7f8acbb5f160>,\n",
              " <GetOldTweets3.models.Tweet.Tweet at 0x7f8acbb5f518>,\n",
              " <GetOldTweets3.models.Tweet.Tweet at 0x7f8acaf62748>,\n",
              " <GetOldTweets3.models.Tweet.Tweet at 0x7f8acaf620f0>,\n",
              " <GetOldTweets3.models.Tweet.Tweet at 0x7f8acaf62940>,\n",
              " <GetOldTweets3.models.Tweet.Tweet at 0x7f8acaf625f8>,\n",
              " <GetOldTweets3.models.Tweet.Tweet at 0x7f8acaf62a90>,\n",
              " <GetOldTweets3.models.Tweet.Tweet at 0x7f8acaf624e0>,\n",
              " <GetOldTweets3.models.Tweet.Tweet at 0x7f8acaf62c50>]"
            ]
          },
          "metadata": {
            "tags": []
          },
          "execution_count": 302
        }
      ]
    },
    {
      "cell_type": "code",
      "metadata": {
        "id": "kejbUt1-9_5x",
        "colab_type": "code",
        "colab": {}
      },
      "source": [
        "\n",
        "df = pd.DataFrame(tweets)\n",
        "\n",
        "def get_text(tweet):\n",
        "  return tweet.text\n",
        "\n",
        "def get_username(tweet):\n",
        "  return tweet.username\n",
        "\n",
        "df[\"username\"] = df[0].apply(get_username)\n",
        "df[\"text\"] = df[0].apply(get_text)"
      ],
      "execution_count": 296,
      "outputs": []
    },
    {
      "cell_type": "code",
      "metadata": {
        "id": "zfPFMdxq-WBc",
        "colab_type": "code",
        "colab": {
          "base_uri": "https://localhost:8080/",
          "height": 204
        },
        "outputId": "e421e291-bdfa-489f-88dd-9570556721db"
      },
      "source": [
        "df"
      ],
      "execution_count": 297,
      "outputs": [
        {
          "output_type": "execute_result",
          "data": {
            "text/html": [
              "<div>\n",
              "<style scoped>\n",
              "    .dataframe tbody tr th:only-of-type {\n",
              "        vertical-align: middle;\n",
              "    }\n",
              "\n",
              "    .dataframe tbody tr th {\n",
              "        vertical-align: top;\n",
              "    }\n",
              "\n",
              "    .dataframe thead th {\n",
              "        text-align: right;\n",
              "    }\n",
              "</style>\n",
              "<table border=\"1\" class=\"dataframe\">\n",
              "  <thead>\n",
              "    <tr style=\"text-align: right;\">\n",
              "      <th></th>\n",
              "      <th>0</th>\n",
              "      <th>username</th>\n",
              "      <th>text</th>\n",
              "    </tr>\n",
              "  </thead>\n",
              "  <tbody>\n",
              "    <tr>\n",
              "      <th>0</th>\n",
              "      <td>&lt;GetOldTweets3.models.Tweet.Tweet object at 0x7f8acb22f9b0&gt;</td>\n",
              "      <td>Samsson31363375</td>\n",
              "      <td>@metpolice</td>\n",
              "    </tr>\n",
              "    <tr>\n",
              "      <th>1</th>\n",
              "      <td>&lt;GetOldTweets3.models.Tweet.Tweet object at 0x7f8acb22fa90&gt;</td>\n",
              "      <td>KarmaKarlz</td>\n",
              "      <td>@metpolice UK #Police What stops you looking like this #stopandsearch</td>\n",
              "    </tr>\n",
              "    <tr>\n",
              "      <th>2</th>\n",
              "      <td>&lt;GetOldTweets3.models.Tweet.Tweet object at 0x7f8acb22f978&gt;</td>\n",
              "      <td>ATOMONOUS1</td>\n",
              "      <td>@MetPolice @MetPolice @MotabilityOps @RSAMotability @dwppressoffice #WW3#Totalitarianism</td>\n",
              "    </tr>\n",
              "    <tr>\n",
              "      <th>3</th>\n",
              "      <td>&lt;GetOldTweets3.models.Tweet.Tweet object at 0x7f8acdc87e48&gt;</td>\n",
              "      <td>Samsson31363375</td>\n",
              "      <td>@metpolice @pritipatel @BorisJohnson</td>\n",
              "    </tr>\n",
              "    <tr>\n",
              "      <th>4</th>\n",
              "      <td>&lt;GetOldTweets3.models.Tweet.Tweet object at 0x7f8acdc87940&gt;</td>\n",
              "      <td>_jannatahmed</td>\n",
              "      <td>@metpolice he’s got their photo in his camera roll</td>\n",
              "    </tr>\n",
              "  </tbody>\n",
              "</table>\n",
              "</div>"
            ],
            "text/plain": [
              "                                                             0  ...                                                                                      text\n",
              "0  <GetOldTweets3.models.Tweet.Tweet object at 0x7f8acb22f9b0>  ...                                                                                @metpolice\n",
              "1  <GetOldTweets3.models.Tweet.Tweet object at 0x7f8acb22fa90>  ...                    @metpolice UK #Police What stops you looking like this #stopandsearch \n",
              "2  <GetOldTweets3.models.Tweet.Tweet object at 0x7f8acb22f978>  ...  @MetPolice @MetPolice @MotabilityOps @RSAMotability @dwppressoffice #WW3#Totalitarianism\n",
              "3  <GetOldTweets3.models.Tweet.Tweet object at 0x7f8acdc87e48>  ...                                                      @metpolice @pritipatel @BorisJohnson\n",
              "4  <GetOldTweets3.models.Tweet.Tweet object at 0x7f8acdc87940>  ...                                        @metpolice he’s got their photo in his camera roll\n",
              "\n",
              "[5 rows x 3 columns]"
            ]
          },
          "metadata": {
            "tags": []
          },
          "execution_count": 297
        }
      ]
    },
    {
      "cell_type": "code",
      "metadata": {
        "id": "CxN0NfKM_DsN",
        "colab_type": "code",
        "colab": {}
      },
      "source": [
        ""
      ],
      "execution_count": null,
      "outputs": []
    }
  ]
}