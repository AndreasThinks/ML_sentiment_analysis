{
  "nbformat": 4,
  "nbformat_minor": 0,
  "metadata": {
    "colab": {
      "name": "Sentiment Analysis Prototype",
      "provenance": []
    },
    "kernelspec": {
      "name": "python3",
      "display_name": "Python 3"
    },
    "widgets": {
      "application/vnd.jupyter.widget-state+json": {
        "9a8b8c47e6fb4736a7700f42260017cf": {
          "model_module": "@jupyter-widgets/controls",
          "model_name": "VBoxModel",
          "state": {
            "_view_name": "VBoxView",
            "_dom_classes": [],
            "_model_name": "VBoxModel",
            "_view_module": "@jupyter-widgets/controls",
            "_model_module_version": "1.5.0",
            "_view_count": null,
            "_view_module_version": "1.5.0",
            "box_style": "",
            "layout": "IPY_MODEL_9ca3c03397354f009d7378f37a2bf88e",
            "_model_module": "@jupyter-widgets/controls",
            "children": [
              "IPY_MODEL_679ffd1190cb499497c6c0e18c0a21b6",
              "IPY_MODEL_bd4d127247d846b893d8c6b8799ccdab",
              "IPY_MODEL_7f7d6cbb421c4400b3ed0bf4db39ee06",
              "IPY_MODEL_afbc100d497c46fa8f3d1b10544bf8b5",
              "IPY_MODEL_80095bafa6064366af53281cfcdfc0e7",
              "IPY_MODEL_5e5f7d7eaa554175a4280e177fbdb78d",
              "IPY_MODEL_93a975e490714016ae2d0d21d464dcc8",
              "IPY_MODEL_cb0f8a1a8ac44e378dbf4b3038dd174c",
              "IPY_MODEL_a79f41d809ed41d9aa128334dba8c6d0"
            ]
          }
        },
        "9ca3c03397354f009d7378f37a2bf88e": {
          "model_module": "@jupyter-widgets/base",
          "model_name": "LayoutModel",
          "state": {
            "_view_name": "LayoutView",
            "grid_template_rows": null,
            "right": null,
            "justify_content": null,
            "_view_module": "@jupyter-widgets/base",
            "overflow": null,
            "_model_module_version": "1.2.0",
            "_view_count": null,
            "flex_flow": null,
            "width": null,
            "min_width": null,
            "border": null,
            "align_items": null,
            "bottom": null,
            "_model_module": "@jupyter-widgets/base",
            "top": null,
            "grid_column": null,
            "overflow_y": null,
            "overflow_x": null,
            "grid_auto_flow": null,
            "grid_area": null,
            "grid_template_columns": null,
            "flex": null,
            "_model_name": "LayoutModel",
            "justify_items": null,
            "grid_row": null,
            "max_height": null,
            "align_content": null,
            "visibility": null,
            "align_self": null,
            "height": null,
            "min_height": null,
            "padding": null,
            "grid_auto_rows": null,
            "grid_gap": null,
            "max_width": null,
            "order": null,
            "_view_module_version": "1.2.0",
            "grid_template_areas": null,
            "object_position": null,
            "object_fit": null,
            "grid_auto_columns": null,
            "margin": null,
            "display": null,
            "left": null
          }
        },
        "679ffd1190cb499497c6c0e18c0a21b6": {
          "model_module": "@jupyter-widgets/controls",
          "model_name": "LabelModel",
          "state": {
            "_view_name": "LabelView",
            "style": "IPY_MODEL_665942253ccd4c17a9c71cc31c03a3aa",
            "_dom_classes": [],
            "description": "",
            "_model_name": "LabelModel",
            "placeholder": "​",
            "_view_module": "@jupyter-widgets/controls",
            "_model_module_version": "1.5.0",
            "value": "Tweet Monitor",
            "_view_count": null,
            "_view_module_version": "1.5.0",
            "description_tooltip": null,
            "_model_module": "@jupyter-widgets/controls",
            "layout": "IPY_MODEL_729d74c0e05643419c6bd55b4690a63b"
          }
        },
        "bd4d127247d846b893d8c6b8799ccdab": {
          "model_module": "@jupyter-widgets/controls",
          "model_name": "TextModel",
          "state": {
            "_view_name": "TextView",
            "style": "IPY_MODEL_1fbd702ead53449ba9f7c0997edee573",
            "_dom_classes": [],
            "description": "Username:",
            "_model_name": "TextModel",
            "placeholder": "Type something",
            "_view_module": "@jupyter-widgets/controls",
            "_model_module_version": "1.5.0",
            "value": "@metpoliceuk",
            "_view_count": null,
            "disabled": false,
            "_view_module_version": "1.5.0",
            "continuous_update": true,
            "description_tooltip": null,
            "_model_module": "@jupyter-widgets/controls",
            "layout": "IPY_MODEL_aa13d6492e034319a3b9b3781944f2af"
          }
        },
        "7f7d6cbb421c4400b3ed0bf4db39ee06": {
          "model_module": "@jupyter-widgets/controls",
          "model_name": "TextModel",
          "state": {
            "_view_name": "TextView",
            "style": "IPY_MODEL_e6e7dde566334637a1a2e03d3a6018eb",
            "_dom_classes": [],
            "description": "Date From:",
            "_model_name": "TextModel",
            "placeholder": "Type something",
            "_view_module": "@jupyter-widgets/controls",
            "_model_module_version": "1.5.0",
            "value": "2020-08-15",
            "_view_count": null,
            "disabled": false,
            "_view_module_version": "1.5.0",
            "continuous_update": true,
            "description_tooltip": null,
            "_model_module": "@jupyter-widgets/controls",
            "layout": "IPY_MODEL_b6d83463367a49b48d823bf99c2027b3"
          }
        },
        "afbc100d497c46fa8f3d1b10544bf8b5": {
          "model_module": "@jupyter-widgets/controls",
          "model_name": "TextModel",
          "state": {
            "_view_name": "TextView",
            "style": "IPY_MODEL_87413d605c394d76be3ec74a1bc20860",
            "_dom_classes": [],
            "description": "Date To:",
            "_model_name": "TextModel",
            "placeholder": "Type something",
            "_view_module": "@jupyter-widgets/controls",
            "_model_module_version": "1.5.0",
            "value": "2020-08-16",
            "_view_count": null,
            "disabled": false,
            "_view_module_version": "1.5.0",
            "continuous_update": true,
            "description_tooltip": null,
            "_model_module": "@jupyter-widgets/controls",
            "layout": "IPY_MODEL_9e4e27417b2e428fb94e84094252dfe9"
          }
        },
        "80095bafa6064366af53281cfcdfc0e7": {
          "model_module": "@jupyter-widgets/controls",
          "model_name": "ButtonModel",
          "state": {
            "_view_name": "ButtonView",
            "style": "IPY_MODEL_fe074177cdd64e3b8a36328faa33ddae",
            "_dom_classes": [],
            "description": "Analyse",
            "_model_name": "ButtonModel",
            "button_style": "",
            "_view_module": "@jupyter-widgets/controls",
            "_model_module_version": "1.5.0",
            "tooltip": "",
            "_view_count": null,
            "disabled": false,
            "_view_module_version": "1.5.0",
            "layout": "IPY_MODEL_7090ee53ae5648149cea46307cea8a78",
            "_model_module": "@jupyter-widgets/controls",
            "icon": ""
          }
        },
        "5e5f7d7eaa554175a4280e177fbdb78d": {
          "model_module": "@jupyter-widgets/output",
          "model_name": "OutputModel",
          "state": {
            "_view_name": "OutputView",
            "msg_id": "",
            "_dom_classes": [],
            "_model_name": "OutputModel",
            "outputs": [
              {
                "output_type": "stream",
                "metadata": {
                  "tags": []
                },
                "text": "10.0% RW interactions\n",
                "stream": "stdout"
              },
              {
                "output_type": "stream",
                "metadata": {
                  "tags": []
                },
                "text": "analysing..\n",
                "stream": "stdout"
              }
            ],
            "_view_module": "@jupyter-widgets/output",
            "_model_module_version": "1.0.0",
            "_view_count": null,
            "_view_module_version": "1.0.0",
            "layout": "IPY_MODEL_1b6a6f7055ab43a3a0ed9bd605ae0bf6",
            "_model_module": "@jupyter-widgets/output"
          }
        },
        "93a975e490714016ae2d0d21d464dcc8": {
          "model_module": "@jupyter-widgets/output",
          "model_name": "OutputModel",
          "state": {
            "_view_name": "OutputView",
            "msg_id": "",
            "_dom_classes": [],
            "_model_name": "OutputModel",
            "outputs": [
              {
                "output_type": "stream",
                "metadata": {
                  "tags": []
                },
                "text": "               count  Subjectivity  Polarity\nRW_prediction                               \nFalse            960      0.295434  0.033198\nTrue              96      0.289306  0.031858\n",
                "stream": "stdout"
              }
            ],
            "_view_module": "@jupyter-widgets/output",
            "_model_module_version": "1.0.0",
            "_view_count": null,
            "_view_module_version": "1.0.0",
            "layout": "IPY_MODEL_219d9e5a9972497d886db7043d541857",
            "_model_module": "@jupyter-widgets/output"
          }
        },
        "cb0f8a1a8ac44e378dbf4b3038dd174c": {
          "model_module": "@jupyter-widgets/output",
          "model_name": "OutputModel",
          "state": {
            "_view_name": "OutputView",
            "msg_id": "",
            "_dom_classes": [],
            "_model_name": "OutputModel",
            "outputs": [
              {
                "output_type": "display_data",
                "metadata": {
                  "tags": []
                },
                "text/html": "<html>\n<head><meta charset=\"utf-8\" /></head>\n<body>\n    <div>\n            <script src=\"https://cdnjs.cloudflare.com/ajax/libs/mathjax/2.7.5/MathJax.js?config=TeX-AMS-MML_SVG\"></script><script type=\"text/javascript\">if (window.MathJax) {MathJax.Hub.Config({SVG: {font: \"STIX-Web\"}});}</script>\n                <script type=\"text/javascript\">window.PlotlyConfig = {MathJaxConfig: 'local'};</script>\n        <script src=\"https://cdn.plot.ly/plotly-latest.min.js\"></script>    \n            <div id=\"66e3a9f8-f116-486b-ad3c-ec858b9af569\" class=\"plotly-graph-div\" style=\"height:525px; width:100%;\"></div>\n            <script type=\"text/javascript\">\n                \n                    window.PLOTLYENV=window.PLOTLYENV || {};\n                    \n                if (document.getElementById(\"66e3a9f8-f116-486b-ad3c-ec858b9af569\")) {\n                    Plotly.newPlot(\n                        '66e3a9f8-f116-486b-ad3c-ec858b9af569',\n                        [{\"alignmentgroup\": \"True\", \"hoverlabel\": {\"namelength\": 0}, \"hovertemplate\": \"color=False<br>count=%{y}\", \"legendgroup\": \"color=False\", \"marker\": {\"color\": \"#636efa\"}, \"name\": \"color=False\", \"offsetgroup\": \"color=False\", \"orientation\": \"v\", \"showlegend\": true, \"textposition\": \"auto\", \"type\": \"bar\", \"xaxis\": \"x\", \"y\": [960], \"yaxis\": \"y\"}, {\"alignmentgroup\": \"True\", \"hoverlabel\": {\"namelength\": 0}, \"hovertemplate\": \"color=True<br>count=%{y}\", \"legendgroup\": \"color=True\", \"marker\": {\"color\": \"#EF553B\"}, \"name\": \"color=True\", \"offsetgroup\": \"color=True\", \"orientation\": \"v\", \"showlegend\": true, \"textposition\": \"auto\", \"type\": \"bar\", \"xaxis\": \"x\", \"y\": [96], \"yaxis\": \"y\"}],\n                        {\"barmode\": \"relative\", \"legend\": {\"tracegroupgap\": 0}, \"margin\": {\"t\": 60}, \"template\": {\"data\": {\"bar\": [{\"error_x\": {\"color\": \"#2a3f5f\"}, \"error_y\": {\"color\": \"#2a3f5f\"}, \"marker\": {\"line\": {\"color\": \"#E5ECF6\", \"width\": 0.5}}, \"type\": \"bar\"}], \"barpolar\": [{\"marker\": {\"line\": {\"color\": \"#E5ECF6\", \"width\": 0.5}}, \"type\": \"barpolar\"}], \"carpet\": [{\"aaxis\": {\"endlinecolor\": \"#2a3f5f\", \"gridcolor\": \"white\", \"linecolor\": \"white\", \"minorgridcolor\": \"white\", \"startlinecolor\": \"#2a3f5f\"}, \"baxis\": {\"endlinecolor\": \"#2a3f5f\", \"gridcolor\": \"white\", \"linecolor\": \"white\", \"minorgridcolor\": \"white\", \"startlinecolor\": \"#2a3f5f\"}, \"type\": \"carpet\"}], \"choropleth\": [{\"colorbar\": {\"outlinewidth\": 0, \"ticks\": \"\"}, \"type\": \"choropleth\"}], \"contour\": [{\"colorbar\": {\"outlinewidth\": 0, \"ticks\": \"\"}, \"colorscale\": [[0.0, \"#0d0887\"], [0.1111111111111111, \"#46039f\"], [0.2222222222222222, \"#7201a8\"], [0.3333333333333333, \"#9c179e\"], [0.4444444444444444, \"#bd3786\"], [0.5555555555555556, \"#d8576b\"], [0.6666666666666666, \"#ed7953\"], [0.7777777777777778, \"#fb9f3a\"], [0.8888888888888888, \"#fdca26\"], [1.0, \"#f0f921\"]], \"type\": \"contour\"}], \"contourcarpet\": [{\"colorbar\": {\"outlinewidth\": 0, \"ticks\": \"\"}, \"type\": \"contourcarpet\"}], \"heatmap\": [{\"colorbar\": {\"outlinewidth\": 0, \"ticks\": \"\"}, \"colorscale\": [[0.0, \"#0d0887\"], [0.1111111111111111, \"#46039f\"], [0.2222222222222222, \"#7201a8\"], [0.3333333333333333, \"#9c179e\"], [0.4444444444444444, \"#bd3786\"], [0.5555555555555556, \"#d8576b\"], [0.6666666666666666, \"#ed7953\"], [0.7777777777777778, \"#fb9f3a\"], [0.8888888888888888, \"#fdca26\"], [1.0, \"#f0f921\"]], \"type\": \"heatmap\"}], \"heatmapgl\": [{\"colorbar\": {\"outlinewidth\": 0, \"ticks\": \"\"}, \"colorscale\": [[0.0, \"#0d0887\"], [0.1111111111111111, \"#46039f\"], [0.2222222222222222, \"#7201a8\"], [0.3333333333333333, \"#9c179e\"], [0.4444444444444444, \"#bd3786\"], [0.5555555555555556, \"#d8576b\"], [0.6666666666666666, \"#ed7953\"], [0.7777777777777778, \"#fb9f3a\"], [0.8888888888888888, \"#fdca26\"], [1.0, \"#f0f921\"]], \"type\": \"heatmapgl\"}], \"histogram\": [{\"marker\": {\"colorbar\": {\"outlinewidth\": 0, \"ticks\": \"\"}}, \"type\": \"histogram\"}], \"histogram2d\": [{\"colorbar\": {\"outlinewidth\": 0, \"ticks\": \"\"}, \"colorscale\": [[0.0, \"#0d0887\"], [0.1111111111111111, \"#46039f\"], [0.2222222222222222, \"#7201a8\"], [0.3333333333333333, \"#9c179e\"], [0.4444444444444444, \"#bd3786\"], [0.5555555555555556, \"#d8576b\"], [0.6666666666666666, \"#ed7953\"], [0.7777777777777778, \"#fb9f3a\"], [0.8888888888888888, \"#fdca26\"], [1.0, \"#f0f921\"]], \"type\": \"histogram2d\"}], \"histogram2dcontour\": [{\"colorbar\": {\"outlinewidth\": 0, \"ticks\": \"\"}, \"colorscale\": [[0.0, \"#0d0887\"], [0.1111111111111111, \"#46039f\"], [0.2222222222222222, \"#7201a8\"], [0.3333333333333333, \"#9c179e\"], [0.4444444444444444, \"#bd3786\"], [0.5555555555555556, \"#d8576b\"], [0.6666666666666666, \"#ed7953\"], [0.7777777777777778, \"#fb9f3a\"], [0.8888888888888888, \"#fdca26\"], [1.0, \"#f0f921\"]], \"type\": \"histogram2dcontour\"}], \"mesh3d\": [{\"colorbar\": {\"outlinewidth\": 0, \"ticks\": \"\"}, \"type\": \"mesh3d\"}], \"parcoords\": [{\"line\": {\"colorbar\": {\"outlinewidth\": 0, \"ticks\": \"\"}}, \"type\": \"parcoords\"}], \"pie\": [{\"automargin\": true, \"type\": \"pie\"}], \"scatter\": [{\"marker\": {\"colorbar\": {\"outlinewidth\": 0, \"ticks\": \"\"}}, \"type\": \"scatter\"}], \"scatter3d\": [{\"line\": {\"colorbar\": {\"outlinewidth\": 0, \"ticks\": \"\"}}, \"marker\": {\"colorbar\": {\"outlinewidth\": 0, \"ticks\": \"\"}}, \"type\": \"scatter3d\"}], \"scattercarpet\": [{\"marker\": {\"colorbar\": {\"outlinewidth\": 0, \"ticks\": \"\"}}, \"type\": \"scattercarpet\"}], \"scattergeo\": [{\"marker\": {\"colorbar\": {\"outlinewidth\": 0, \"ticks\": \"\"}}, \"type\": \"scattergeo\"}], \"scattergl\": [{\"marker\": {\"colorbar\": {\"outlinewidth\": 0, \"ticks\": \"\"}}, \"type\": \"scattergl\"}], \"scattermapbox\": [{\"marker\": {\"colorbar\": {\"outlinewidth\": 0, \"ticks\": \"\"}}, \"type\": \"scattermapbox\"}], \"scatterpolar\": [{\"marker\": {\"colorbar\": {\"outlinewidth\": 0, \"ticks\": \"\"}}, \"type\": \"scatterpolar\"}], \"scatterpolargl\": [{\"marker\": {\"colorbar\": {\"outlinewidth\": 0, \"ticks\": \"\"}}, \"type\": \"scatterpolargl\"}], \"scatterternary\": [{\"marker\": {\"colorbar\": {\"outlinewidth\": 0, \"ticks\": \"\"}}, \"type\": \"scatterternary\"}], \"surface\": [{\"colorbar\": {\"outlinewidth\": 0, \"ticks\": \"\"}, \"colorscale\": [[0.0, \"#0d0887\"], [0.1111111111111111, \"#46039f\"], [0.2222222222222222, \"#7201a8\"], [0.3333333333333333, \"#9c179e\"], [0.4444444444444444, \"#bd3786\"], [0.5555555555555556, \"#d8576b\"], [0.6666666666666666, \"#ed7953\"], [0.7777777777777778, \"#fb9f3a\"], [0.8888888888888888, \"#fdca26\"], [1.0, \"#f0f921\"]], \"type\": \"surface\"}], \"table\": [{\"cells\": {\"fill\": {\"color\": \"#EBF0F8\"}, \"line\": {\"color\": \"white\"}}, \"header\": {\"fill\": {\"color\": \"#C8D4E3\"}, \"line\": {\"color\": \"white\"}}, \"type\": \"table\"}]}, \"layout\": {\"annotationdefaults\": {\"arrowcolor\": \"#2a3f5f\", \"arrowhead\": 0, \"arrowwidth\": 1}, \"coloraxis\": {\"colorbar\": {\"outlinewidth\": 0, \"ticks\": \"\"}}, \"colorscale\": {\"diverging\": [[0, \"#8e0152\"], [0.1, \"#c51b7d\"], [0.2, \"#de77ae\"], [0.3, \"#f1b6da\"], [0.4, \"#fde0ef\"], [0.5, \"#f7f7f7\"], [0.6, \"#e6f5d0\"], [0.7, \"#b8e186\"], [0.8, \"#7fbc41\"], [0.9, \"#4d9221\"], [1, \"#276419\"]], \"sequential\": [[0.0, \"#0d0887\"], [0.1111111111111111, \"#46039f\"], [0.2222222222222222, \"#7201a8\"], [0.3333333333333333, \"#9c179e\"], [0.4444444444444444, \"#bd3786\"], [0.5555555555555556, \"#d8576b\"], [0.6666666666666666, \"#ed7953\"], [0.7777777777777778, \"#fb9f3a\"], [0.8888888888888888, \"#fdca26\"], [1.0, \"#f0f921\"]], \"sequentialminus\": [[0.0, \"#0d0887\"], [0.1111111111111111, \"#46039f\"], [0.2222222222222222, \"#7201a8\"], [0.3333333333333333, \"#9c179e\"], [0.4444444444444444, \"#bd3786\"], [0.5555555555555556, \"#d8576b\"], [0.6666666666666666, \"#ed7953\"], [0.7777777777777778, \"#fb9f3a\"], [0.8888888888888888, \"#fdca26\"], [1.0, \"#f0f921\"]]}, \"colorway\": [\"#636efa\", \"#EF553B\", \"#00cc96\", \"#ab63fa\", \"#FFA15A\", \"#19d3f3\", \"#FF6692\", \"#B6E880\", \"#FF97FF\", \"#FECB52\"], \"font\": {\"color\": \"#2a3f5f\"}, \"geo\": {\"bgcolor\": \"white\", \"lakecolor\": \"white\", \"landcolor\": \"#E5ECF6\", \"showlakes\": true, \"showland\": true, \"subunitcolor\": \"white\"}, \"hoverlabel\": {\"align\": \"left\"}, \"hovermode\": \"closest\", \"mapbox\": {\"style\": \"light\"}, \"paper_bgcolor\": \"white\", \"plot_bgcolor\": \"#E5ECF6\", \"polar\": {\"angularaxis\": {\"gridcolor\": \"white\", \"linecolor\": \"white\", \"ticks\": \"\"}, \"bgcolor\": \"#E5ECF6\", \"radialaxis\": {\"gridcolor\": \"white\", \"linecolor\": \"white\", \"ticks\": \"\"}}, \"scene\": {\"xaxis\": {\"backgroundcolor\": \"#E5ECF6\", \"gridcolor\": \"white\", \"gridwidth\": 2, \"linecolor\": \"white\", \"showbackground\": true, \"ticks\": \"\", \"zerolinecolor\": \"white\"}, \"yaxis\": {\"backgroundcolor\": \"#E5ECF6\", \"gridcolor\": \"white\", \"gridwidth\": 2, \"linecolor\": \"white\", \"showbackground\": true, \"ticks\": \"\", \"zerolinecolor\": \"white\"}, \"zaxis\": {\"backgroundcolor\": \"#E5ECF6\", \"gridcolor\": \"white\", \"gridwidth\": 2, \"linecolor\": \"white\", \"showbackground\": true, \"ticks\": \"\", \"zerolinecolor\": \"white\"}}, \"shapedefaults\": {\"line\": {\"color\": \"#2a3f5f\"}}, \"ternary\": {\"aaxis\": {\"gridcolor\": \"white\", \"linecolor\": \"white\", \"ticks\": \"\"}, \"baxis\": {\"gridcolor\": \"white\", \"linecolor\": \"white\", \"ticks\": \"\"}, \"bgcolor\": \"#E5ECF6\", \"caxis\": {\"gridcolor\": \"white\", \"linecolor\": \"white\", \"ticks\": \"\"}}, \"title\": {\"x\": 0.05}, \"xaxis\": {\"automargin\": true, \"gridcolor\": \"white\", \"linecolor\": \"white\", \"ticks\": \"\", \"title\": {\"standoff\": 15}, \"zerolinecolor\": \"white\", \"zerolinewidth\": 2}, \"yaxis\": {\"automargin\": true, \"gridcolor\": \"white\", \"linecolor\": \"white\", \"ticks\": \"\", \"title\": {\"standoff\": 15}, \"zerolinecolor\": \"white\", \"zerolinewidth\": 2}}}, \"xaxis\": {\"anchor\": \"y\", \"domain\": [0.0, 1.0]}, \"yaxis\": {\"anchor\": \"x\", \"domain\": [0.0, 1.0], \"title\": {\"text\": \"count\"}}},\n                        {\"responsive\": true}\n                    ).then(function(){\n                            \nvar gd = document.getElementById('66e3a9f8-f116-486b-ad3c-ec858b9af569');\nvar x = new MutationObserver(function (mutations, observer) {{\n        var display = window.getComputedStyle(gd).display;\n        if (!display || display === 'none') {{\n            console.log([gd, 'removed!']);\n            Plotly.purge(gd);\n            observer.disconnect();\n        }}\n}});\n\n// Listen for the removal of the full notebook cells\nvar notebookContainer = gd.closest('#notebook-container');\nif (notebookContainer) {{\n    x.observe(notebookContainer, {childList: true});\n}}\n\n// Listen for the clearing of the current output cell\nvar outputEl = gd.closest('.output');\nif (outputEl) {{\n    x.observe(outputEl, {childList: true});\n}}\n\n                        })\n                };\n                \n            </script>\n        </div>\n</body>\n</html>"
              }
            ],
            "_view_module": "@jupyter-widgets/output",
            "_model_module_version": "1.0.0",
            "_view_count": null,
            "_view_module_version": "1.0.0",
            "layout": "IPY_MODEL_93e3f84322fd483ebb9f3fde565e60cd",
            "_model_module": "@jupyter-widgets/output"
          }
        },
        "a79f41d809ed41d9aa128334dba8c6d0": {
          "model_module": "@jupyter-widgets/output",
          "model_name": "OutputModel",
          "state": {
            "_view_name": "OutputView",
            "msg_id": "",
            "_dom_classes": [],
            "_model_name": "OutputModel",
            "outputs": [
              {
                "output_type": "display_data",
                "metadata": {
                  "tags": []
                },
                "text/html": "<html>\n<head><meta charset=\"utf-8\" /></head>\n<body>\n    <div>\n            <script src=\"https://cdnjs.cloudflare.com/ajax/libs/mathjax/2.7.5/MathJax.js?config=TeX-AMS-MML_SVG\"></script><script type=\"text/javascript\">if (window.MathJax) {MathJax.Hub.Config({SVG: {font: \"STIX-Web\"}});}</script>\n                <script type=\"text/javascript\">window.PlotlyConfig = {MathJaxConfig: 'local'};</script>\n        <script src=\"https://cdn.plot.ly/plotly-latest.min.js\"></script>    \n            <div id=\"a725fe3a-eeff-48ef-8080-caca0aa48493\" class=\"plotly-graph-div\" style=\"height:525px; width:100%;\"></div>\n            <script type=\"text/javascript\">\n                \n                    window.PLOTLYENV=window.PLOTLYENV || {};\n                    \n                if (document.getElementById(\"a725fe3a-eeff-48ef-8080-caca0aa48493\")) {\n                    Plotly.newPlot(\n                        'a725fe3a-eeff-48ef-8080-caca0aa48493',\n                        [{\"customdata\": [[\"Love - travelling (worldwide); animals (all); cricket (Middlesex & England); and football (Fulham FC). Support 999 services.\"], [\"\"], [\"Blue Labour born & bred - now ashamed to say so. Sick & tired of being told I can't be proud of my country. Retweet/Follow Back isn't an endorsement.\"], [\"I'm. ...........lots of things - but not bad.\"], [\"Dalai Lama\\u2019s got nothing on me\"], [\"Enjoys Music Politics Travel Cycling Fashion Public Transport & Fairness\"], [\"64 year old ex Cop. personal trainer , Spin, hiit and Swimming instructor now lost over 5 stone! Working in East Sussex. qualified in GP referrals\"], [\"64 year old ex Cop. personal trainer , Spin, hiit and Swimming instructor now lost over 5 stone! Working in East Sussex. qualified in GP referrals\"], [\"64 year old ex Cop. personal trainer , Spin, hiit and Swimming instructor now lost over 5 stone! Working in East Sussex. qualified in GP referrals\"], [\"64 year old ex Cop. personal trainer , Spin, hiit and Swimming instructor now lost over 5 stone! Working in East Sussex. qualified in GP referrals\"], [\"\"], [\"\"], [\"Radicalized by Twitter. Long live The Union, Brexiteer, Welsh.\"], [\"Firefighter,Boxing Trainer at South Oxhey ABC Arsenal FC\"], [\"just another one stealing the youths of today oldies of tomorrows future\"], [\"\"], [\"\"], [\"Rovers fan of many years, trust Tony Mowbray a proper football man will put up with Venkys while he's in charge. Proud Briton ,Love my family and my country.\\ud83c\\uddec\\ud83c\\udde7\"], [\"\"], [\"Sometimes in a pickle - usually drink related \\ud83d\\ude0b\\nLeft of Blair right of Corbyn.\\nStaunch Remainer\\nLTFC.\\nLove good food\"], [\"\"], [\"No to entitled millennials, Remoaners, Leftie Loonies, The Markles, Illegal Immigrants & conspiracy believers.  Yes to BRF, Brexit & humour\"], [\"No to entitled millennials, Remoaners, Leftie Loonies, The Markles, Illegal Immigrants & conspiracy believers.  Yes to BRF, Brexit & humour\"], [\"No to entitled millennials, Remoaners, Leftie Loonies, The Markles, Illegal Immigrants & conspiracy believers.  Yes to BRF, Brexit & humour\"], [\"No to entitled millennials, Remoaners, Leftie Loonies, The Markles, Illegal Immigrants & conspiracy believers.  Yes to BRF, Brexit & humour\"], [\"English geographer who is a staunch monarchist, atheist and coffeeholic. Lover of the natural world, architecture, healthy living, politics, humour and travel.\"], [\"I love smoking weed \\ud83d\\ude02Gordysouthampton on instagram find me on meetme too as the piano man go find me ex piano salesman for RHP pianos UK \\ud83c\\uddec\\ud83c\\udde7\"], [\"I love smoking weed \\ud83d\\ude02Gordysouthampton on instagram find me on meetme too as the piano man go find me ex piano salesman for RHP pianos UK \\ud83c\\uddec\\ud83c\\udde7\"], [\"Now on @Parler. Black Marxists invented \\u2018White Privilege\\u2019 to divide us. \\u2018Islamophobia\\u2019 is a word made up by the left to close down debate on immigration.\"], [\"Single Looking for the mysterious one \\ud83d\\ude1c\"], [\"\\u201cWhen seagulls follow the trawler, it is because they think sardines will be thrown into the sea\\u201d  North West UK\"], [\"\\u00a3midn85wami\"], [\"honest & searching for justice\"], [\"Old School Class of 67 - The Windmill Man. Wembley Rescuer. Old Trafford Provider #CancelCulture is the same as #WifeBeaters #ControlFreaks just the same!\"], [\"Just working my way through life.............Can\\u2019t stand SNP or fake people.\"], [\"Just working my way through life.............Can\\u2019t stand SNP or fake people.\"], [\"Just working my way through life.............Can\\u2019t stand SNP or fake people.\"], [\"Just working my way through life.............Can\\u2019t stand SNP or fake people.\"], [\"Views are own. Retweets are not necessarily endorsements & all that jazz.\"], [\"LFC YNWA\\u26bdauntie & cat mum to cinders 5/11/14 otrb snowy cats\"], [\"\\ud83c\\udff4\\udb40\\udc67\\udb40\\udc62\\udb40\\udc65\\udb40\\udc6e\\udb40\\udc67\\udb40\\udc7f\\ud83c\\udfc9\\ud83c\\udfcf\\ud83c\\udfcc\\ufe0f\\ud83c\\udfcb\\ufe0f\\u200d\\u2642\\ufe0fCEng FIChemE. Not a socialist. Tired of \\u2744. Comfort zones only exist to perpetuate mediocrity and anonymity.\"], [\"\"], [\"Fine Art Photographer working with medium format digital.Hedgehog \\u2764\\ufe0f Socialist. https://t.co/M9UStPxkdB #hasselblad #X1D\"], [\"\\u201cSuccess is not final, failure is not fatal. It is the courage to continue that counts.\\u201d -Winston Churchill.\"], [\"A fundamental part of democracy is that there will always be losers. To fail to accept that is to reject democracy itself.\"], [\"I'm a socialite I have a great sense of humour and naughty I have fun with Beanbag who loves food more than anything in the world. We have great adventures.\"], [\"\\ud83d\\udcabKnowledge seeker, #humanity #freedom #justice \\u2696\\ufe0f #psychology #criminology\\ud83e\\uddd0 #security #yot #youth #offenders.                        [My opinions are my own]\"], [\"gardener\\ud83c\\udf34 pubquizsetter\\ud83c\\udf7a mostlylefty\\ud83c\\udf39 straight talking, life's too short to waste it on woke \\ud83d\\udd1e  All views welcomed  #freejulianassange\"], [\"49++...... professional. Well educated sapiophile, inventive and passionate about lots of things. Hate negativity, defeatism and prejudices.\"], [\"I'm funny, thoughtful and kind and I prefer positive people...it seems that upsets many Grumps....  Tough titty\"], [\"Warmhearted realist \\ud83d\\ude0a\"], [\"Ex Met. Ex city. Pensioner ( bus pass etc) World & Political Observer\"], [\"I design and make gold and silver jewellery,  gemstone buyer.\"], [\"\"], [\"\\ud83c\\uddec\\ud83c\\udde7 Brexiteer\"], [\"Married to the love of my life ,very lucky Mum and Nan. Brexiteer. Boris my PM.\"], [\"Love everything about Manchester and it\\u2019s people. Songwriter and sport lover. Chartered Engineer.\"], [\"Love everything about Manchester and it\\u2019s people. Songwriter and sport lover. Chartered Engineer.\"], [\"Love everything about Manchester and it\\u2019s people. Songwriter and sport lover. Chartered Engineer.\"], [\"Love everything about Manchester and it\\u2019s people. Songwriter and sport lover. Chartered Engineer.\"], [\"An ordinary guy in a crazy arse world.\\n\\nNow blocking FBPE loons\"], [\"Born and lived in Upper Clapton Supports THFC ST holder, loves animals and my fellow Spurs fans. Now live in Essex. the country\\u2019s fkd. Ex Job Met ARV\"], [\"wife, mother, https://t.co/2UUFvB0JQx Police, NHS, Fire service, RNLI, Army, RAF, Navy.also enjoy a giggle & joke.  No DMs.will not answer.\"], [\"Tottenham Hotspur, Block 323, We\\u2019re the Park Lane.\"], [\"Financial Planner, Gooner, loves Rugby, Boxing, Golf & Rock Music...\"], [\"The ultimate ignorance is the rejection of something you know nothing about!!!! Yet refuse to investigate.....\\ud83c\\udff4\\udb40\\udc67\\udb40\\udc62\\udb40\\udc65\\udb40\\udc6e\\udb40\\udc67\\udb40\\udc7f\"], [\"Beware : There\\u2019s No money in Good  Health - 1886-UTA.All views are my own,don\\u2019t like it,Block me. No time for BS, snowflakes & apologists.COYG14 \\ud83c\\uddec\\ud83c\\udde7\\u26bd\\ufe0f\\ud83c\\udde8\\ud83c\\uddfe\"], [\"30 years service, proud Grandad, used to play some decent rugby, tweet and happy to debate... The truth is out there ?\"], [\"Optimistic, but realistic. Opinions forthright, compliments welcome.The Earl of Essex, in other circles.\"], [\"\"], [\"\"], [\"Love: Good wine, French lifestyle, Npton Saints, F1 , AVFC, wife & family, style of LFC & FCB Long live Israel, Lefties are uncaring W\\u2693\\ufe0fs #NoSafeSpaceForJewHate\"], [\"Network Engineer passionate about everything Bitcoin (BTC) and Blockchain\"], [\"Don't confuse my personality with my attitude.... My personality is who I am, my attitude depends on who you are....\"], [\"Psoriatic Arthritis Sufferer and partially sighted. I am retired but not old. I hate those with no common sense who demand rights without responsibility\"], [\"80s Baby, laughs, Life in progress, capitalist Intolerant,I like cold beer&hot bacon, Spontaneous thinker/Speaker mildly obscene,Music Lover,BiPola\"], [\"\"], [\"\"], [\"The Southampton FC and Orlando Magic supporting Polack \\u26bd\\ufe0f\\ud83c\\udfc0\"], [\"because of sabri i was never happy...\"], [\"Circus Juggler!\"], [\"Dementia Friends Champion. Exiled Yorkshire lass. Working class. Wobbly RC. Politics ranter. Free speech. Women\\u2019s rights matter. Block abuse. No DM\"], [\"\"], [\"Of the young retired set, father, grandfather, husband. Lifelong CFC, S/T Holder MH/upper 9, lacks patience and could contribute greatly to grumpy old men....\"], [\"Love life.  Why are the more liberal the ones who seem the most draconian? oh ex navy. seen the world better here !\"], [\"A sassy fembot. Trans. Not radical. Love \\ud83c\\uddec\\ud83c\\udde7\\ud83c\\uddfa\\ud83c\\uddf8 Pro Brexit. Oxford grad which just shows how messed up universities really are \\ud83c\\udf08\"], [\"I \\u2764\\ufe0f animals, the sun, tea, art, candles, anthropology, home design, languages (French, Italian, poquito Spanish & trying to learn Arabic)\"], [\"\"], [\"Sandwell Commander. Do not use Twitter to report crime. Call 999 in\\nemergency or else get in touch via Live Chat on our website 8am-midnight, or call 101\"], [\"\"], [\"I\\u2019m here for all the civility and mutual respect. Brexit. Former Libertarian candidate . NUFC. Anti-Marxist. 2A. Israel. Milton Friedman. Anti-UN. AGW mocker.\"], [\"\"], [\"\\u274c \\ud83c\\uddec\\ud83c\\udde7\\ud83c\\uddfa\\ud83c\\uddf8\"], [\"MUFC! NW3427\\n\\u2026\\nMusic lover... Free thinker.. Don't believe msm.. No conspiracy only information.. \\ud83c\\udff4\\udb40\\udc67\\udb40\\udc62\\udb40\\udc65\\udb40\\udc6e\\udb40\\udc67\\udb40\\udc7f\\ud83c\\uddec\\ud83c\\udde7\\ud83c\\udff4\\udb40\\udc67\\udb40\\udc62\\udb40\\udc65\\udb40\\udc6e\\udb40\\udc67\\udb40\\udc7f\\ud83c\\uddec\\ud83c\\udde7\"], [\"Mam, Married, conservative member, C.H survivor ,Bowie fan, DEFINITELY NOT WOKE.\"], [\"\"], [\"\\ud83c\\udf39Huge Take That nut!! Music is my escape, The Script, The Vamps, Robbie, New Rules & Olly Murs #TT30  \\ud83c\\udf08\\ud83d\\udc99\\ud83c\\udf08\\ud83d\\udc99\"], [\"brexit enthusiast. FBPE types can do one. Kier Starmer is a smarmy git. Boris is king\"], [\"Rugby and golf. Bored of wokeness, virtue signalling and pronouns in bio. retweet \\u2018sometimes\\u2019 an endorsement.\"], [\"Experienced Detective Sergeant in the South East trying to make sense of the madness\"], [\"Football and Moaning! that\\u2019s it \\ud83d\\ude02\"], [\"I ignore media spin & transparent agendas. After 2 yrs research I decided to #VoteLeave the undemocratic EU to save our kids & their kids democracy #WTOBrexit\"], [\"Bathing in White Privilege. Supports the \\ud83c\\uddee\\ud83c\\uddf1Zionist Entity. Family motto: \\u2018The Only Good Socialist Is A Rich One\\u2019.\"], [\"Bathing in White Privilege. Supports the \\ud83c\\uddee\\ud83c\\uddf1Zionist Entity. Family motto: \\u2018The Only Good Socialist Is A Rich One\\u2019.\"], [\"Bathing in White Privilege. Supports the \\ud83c\\uddee\\ud83c\\uddf1Zionist Entity. Family motto: \\u2018The Only Good Socialist Is A Rich One\\u2019.\"], [\"Bathing in White Privilege. Supports the \\ud83c\\uddee\\ud83c\\uddf1Zionist Entity. Family motto: \\u2018The Only Good Socialist Is A Rich One\\u2019.\"], [\"Time is illmatic\"], [\"\"], [\"Come on in...\"], [\"yadayadayada who cares \\nCan\\u2019t stand James O\\u2019Brien\\nAll views are not mine - they are my alter ego!\"], [\"Christian, Conservative, Married, Mother.  Brexit, MAGA.  The only person you should ever kneel for is GOD! Beat HATE with LOVE\"], [\"nothing says it all\"], [\"\\u26bd\\ufe0f\\u26bd\\ufe0f\\u26bd\\ufe0f\\u26bd\\ufe0f\\u26bd\\ufe0f\\u26bd\\ufe0f\\u26bd\\ufe0f\\u26bd\\ufe0f\\u26bd\\ufe0f\\u26bd\\ufe0f\\u26bd\\ufe0f\\u26bd\\ufe0f\\u26bd\\ufe0f\\u26bd\\ufe0f\\u26bd\\ufe0f\\u26bd\\ufe0f\\u26bd\\ufe0f\\u26bd\\ufe0f\\u26bd\\ufe0f\\u26bd\\ufe0f\\u26bd\\ufe0f\\u26bd\\ufe0f\\u26bd\\ufe0f\\u26bd\\ufe0f Enjoy life today, because yesterday is gone, and tomorrow is never promised. \\ud83d\\udd34\\u26aa\\ufe0f\"], [\"\"], [\"Here to support my heartbroken scruff\"], [\"Never hate your enemies. It affects your judgement\"], [\"He who makes a beast of himself gets rid of the pain of being a man\"], [\"Man\\nChristian\\nBritish\\nAnimal Lover\"], [\"Love the truth. No time for lies.\"], [\"Right wing, conservative, patriotic. \\u201cfacts don\\u2019t care about you\\u2019re feelings\\u201d.    #AllLivesMatter\"], [\"History will repeat itself #ItsOkayToBeWhite\"], [\"I write about current affairs, children rights and mental health, sometimes irreverently for your entertainment. Centrist, father, lawyer, dyslexic. DM open.\"], [\"london born,bred,and leavened...\\ndaily admirer and caterer to one stray cat.his rules, my sachets\"], [\"Son/Husband/Uncle & trusted friend to those I love & a HUGE fan of the Toronto Blue Jays. \\u2764\\ufe0f\\ud83c\\udde8\\ud83c\\udde6\\u26be\\ufe0f\"], [\"I\\u2019d like a World where the good guys always win.\"], [\"\"], [\"The important thing is to not stop questioning. Curiosity has its own reason for existing. \\ud83c\\uddec\\ud83c\\udde7\\ud83c\\udff4\\udb40\\udc67\\udb40\\udc62\\udb40\\udc65\\udb40\\udc6e\\udb40\\udc67\\udb40\\udc7f\\ud83c\\udff4\\udb40\\udc67\\udb40\\udc62\\udb40\\udc73\\udb40\\udc63\\udb40\\udc74\\udb40\\udc7f\\ud83c\\udff4\\udb40\\udc67\\udb40\\udc62\\udb40\\udc77\\udb40\\udc6c\\udb40\\udc73\\udb40\\udc7f\"], [\"If you ever see me Virtue Signalling pack me off to Dignitas\\n\\n#defundtwats  #individualwithaprostate\"], [\"Mother, Nana, dog lover, HKR till I die. Hull born and proud.\"], [\"Chips, cheese, gravy and large splash of LUFC...its a religion!\"], [\"New account as it seems I upset some snowflake on the last one \\ud83e\\udd23 All views are my own so if you disagree tough. That\\u2019s why we have a block option.\"], [\"Electrical & building FM Contractor & part time pedigree Gloucestershire Old Spot pork producer.\"], [\"I European Progressive I Coffee addict I Politics I History\"], [\"UK has a spent \\u00a38.2 billion Syria, Lebanon, Jordan, Turkey, Iraq, Egypt, regional! pub 20th April 2020.\"], [\"The Grey Man. An average working man trying to get through life the best I can.\"], [\"Ooooh hello cheeky,what do you want\\ud83d\\ude18\"], [\"Army Veteran -Brexit, center-right, Posts about Israel, USA, Vets, Fake News defund the BBC . https://t.co/voCAZFOOiN anti-SJW https://t.co/z9CIXZ25Lq.\"], [\"love & knowledge are what humans strive for, an Italian worked this out in the 1st century, use this app wisely or you'll sink into a hell with your followers.\"], [\"\"], [\"#DefundTheBBC\"], [\"#Brexit\\n\\n#BritishIndependence\\n\\n\\ud83c\\uddec\\ud83c\\udde7\\ud83c\\udff4\\udb40\\udc67\\udb40\\udc62\\udb40\\udc65\\udb40\\udc6e\\udb40\\udc67\\udb40\\udc7f\\ud83e\\udd1d\\ud83c\\uddfa\\ud83c\\uddf8\"], [\"Made in Scotland\"], [\"Blah blah blah\"], [\"Love life, love my family - very proud dad. Believe in living life to the full. no regrets!\"], [\"Doctor Who & Hammers fan Re-tweet does not = endorsement. If you aren\\u2019t against racism, leave now! I Stand with Israel \\ud83c\\uddee\\ud83c\\uddf1\"], [\"Dont let potential be written on your gravestone\"], [\"Greenwich, footy, cricket, food, centre-right politics.\"], [\"\"], [\"\"], [\"Economist, golfer, fly fisher and Wolves supporter-so currently on a high. How long can it last? Scribble nonsense you're blocked.\"], [\"Arsenal season ticket holder love football \\u26bd\\ufe0f\"], [\"\"], [\"Truth hunter. Hates liars. Hydrogen is the future.\"], [\"Optical network engineer . Love f1 . Motorsport petrol head. Fav country italy.\"], [\"Optical network engineer . Love f1 . Motorsport petrol head. Fav country italy.\"], [\"Optical network engineer . Love f1 . Motorsport petrol head. Fav country italy.\"], [\"Optical network engineer . Love f1 . Motorsport petrol head. Fav country italy.\"], [\"A mum who runs. Knees permitting.\"], [\"Black Lives Do Matter.\\n\\nBut BlackLivesMatter does not.\"], [\"Market economies make free people. Never be a spectator of unfairness or stupidity, the grave will supply plenty of time for silence. Consectatio Excellentiae.\"], [\"Try hard all the time! Have a sense of humour \\ud83e\\udd29 Good Manners and Respect \\ud83d\\ude4fALAW\\u26bd\\ufe0f \\ud83c\\udfcc\\ud83c\\udffc\\u200d\\u2640\\ufe0f\\ud83c\\udfbe. Yorkshire \\ud83c\\udfde Gods County\"], [\"Newshound\"], [\"When I lived in New York I was a \\u201cNew Yorker\\u201d, in London I was a \\u201cLondoner\\u201d. Now they call me a \\u201cWhite Working Class Male\\u201d. Where\\u2019s the humanity in that?\"], [\"Still fighting for Mansfield and justice!\"], [\"I love the UK+Europe, not the EU. Our freedom is built on British democracy. Don't give it away to EU where your vote means nothing\"], [\"ca$h from ch@os,buy,sell,buy,buy,bye bye\\ud83d\\udc4b\"], [\"\\\"It is no measure of health to be well adjusted to a profoundly sick society.\\\" Jiddu Krishnamurti\"], [\"Ardent Brexiteer, staunch Tory, love Boris,Priti, Rishi,Dom and the mighty Spurs! Hate biased BBC and ScumMedia. Dick Out !\"], [\"absolute c@nt according to some \\ud83d\\udc4d Loves LUFC and German football \\u26bd\\ufe0f\"], [\"\"], [\"Im someone who is sick and tired of these lefty loon idiots.  im proud to be english.\"], [\"Artist formerly known as Jamie Reed MP. Still Red Leader. No longer Crown Steward & Bailiff of the Manor of Northstead. Total rube. Not the female bodybuilder.\"], [\"Artist formerly known as Jamie Reed MP. Still Red Leader. No longer Crown Steward & Bailiff of the Manor of Northstead. Total rube. Not the female bodybuilder.\"], [\"\"], [\"\"], [\"West Ham, Formula 1, I WILL NEVER KNEEL. On PARLER @controllervirus\"], [\"Making amends for my past misdeeds. Propagandists beware whoever you are. This is my specialist subject!\"], [\"\"], [\"Bluenose remainer who accepts the result. F1 fan and Strictly addict lol\"], [\"Going loopy \\ud83e\\udd2a stuck inside. It\\u2019s not far right to care for your country & all it\\u2019s citizens! \\u201cTomorrow hopes we have learned something from yesterday\\u201d.\"], [\"\"], [\"My channel https://t.co/fV4MpijJLL\\u2026\\nMy instagram https://t.co/iufV7hAYvp\\nBusiness Email m0bzinfo123@gmail.com\\nDMs are open \\nif you want a editor DM me.\"], [\"A-Kev 47 to friends, getting ready for the zombie apocalypse. Militaria collector. Suffer from CDO, it\\u2019s like OCD but in alphabetical order. NOT WOKE\"], [\"And I don't care if I upset you!   If I follow you like what you say or post. or do I?\"], [\"I walked the streets of West Belfast for 10 very bloody years as a cop late 80s - 90s. Fired a few shots  along the way! Feb 1996, fired first live shots!\"], [\"Just me and my thoughts...#Family #DoggyMum #CoffeeMug #WineLover #THFC\"], [\"Keep it moving......\"], [\"Full-time worker, full-time mummy, music lover, and furniture painter\"], [\"Gatekeeper of Englishness with a hint of Bavarian Beauty\"], [\"\"], [\"Hello , #CureDuchenne and HAIL ice hockey! Go Canucks Go. Peace to All, except some\\ud83e\\udd23\\ud83e\\udd23 #\\u2764\\ufe0fVancouver, BC. Silly Southener #FinnForChange humour #NonPC in \\ud83c\\uddec\\ud83c\\udde7\"], [\"\"], [\"\"], [\"Truth seeker & comedienne. Give me the liberty to know, to utter, and to argue freely according to conscience, above all liberties John Milton \\ud83d\\udc3b\"], [\"love my allotment, used to be able to roller skate to a really good level, love my vodka nights and sunshine holidays.......oh & I don\\u2019t do DM\\u2019s\"], [\"Sikh. Brexiteer. Leeds United & Bradford City. To #FBPE loons; yes I didn\\u2019t know what I was voting for in an advisory referendum and I\\u2019m really a Russian bot!\"], [\"\"], [\"Poetical dissident.\"], [\"Hi guys! \\ud83d\\udc4d  I'm Carolyn!\\u2698  \\u263a\\nI'm secretary to the owner of Ukrainian Gold \\ud83d\\udc99\\ud83d\\udc9b\\nHe's a great guy and a fantastic boss! \\ud83d\\ude0e\\nLet me know if I can help you! \\u2764\"], [\"\"], [\"the heavy metal surfing cabbie\"], [\"Former Police Officer now a Trainer in Security Sector Reform. Wife to Dave \\ud83d\\udc95\"], [\"Not afraid to speak my mind about any subject of interests. However I am careful not to knowingly offend anyone in the process.  Mindful of the power of words.\"], [\"Not afraid to speak my mind about any subject of interests. However I am careful not to knowingly offend anyone in the process.  Mindful of the power of words.\"], [\"Not afraid to speak my mind about any subject of interests. However I am careful not to knowingly offend anyone in the process.  Mindful of the power of words.\"], [\"Not afraid to speak my mind about any subject of interests. However I am careful not to knowingly offend anyone in the process.  Mindful of the power of words.\"], [\"Not afraid to speak my mind about any subject of interests. However I am careful not to knowingly offend anyone in the process.  Mindful of the power of words.\"], [\"Not afraid to speak my mind about any subject of interests. However I am careful not to knowingly offend anyone in the process.  Mindful of the power of words.\"], [\"Not afraid to speak my mind about any subject of interests. However I am careful not to knowingly offend anyone in the process.  Mindful of the power of words.\"], [\"Not afraid to speak my mind about any subject of interests. However I am careful not to knowingly offend anyone in the process.  Mindful of the power of words.\"], [\"Not afraid to speak my mind about any subject of interests. However I am careful not to knowingly offend anyone in the process.  Mindful of the power of words.\"], [\"Ex this and that, Now head of networks and security stuff.\\n#UTFR #Boxing #Cricket\"], [\"\"], [\"\"], [\"Father and son fishing account. love fishing and anything funny. hate guns, hunting and people who like killing animals. #carp #Carpy #carpfishing\"], [\"Grasp the substance not the shadow; a life lived in fear is a life half lived; don't let the bar stools get you down (and all that).\"], [\"\\ud83c\\udff3\\ufe0f\\u200d\\ud83c\\udf08\\ud83c\\uddec\\ud83c\\udde7 Birder with a past massive carbon footprint now trying to reduce it. Local patch Leasowe.\"], [\"Southern based with Northern roots.\"], [\"\\ud83c\\udff4\\udb40\\udc67\\udb40\\udc62\\udb40\\udc65\\udb40\\udc6e\\udb40\\udc67\\udb40\\udc7f  \\ud83c\\udff4\\udb40\\udc67\\udb40\\udc62\\udb40\\udc65\\udb40\\udc6e\\udb40\\udc67\\udb40\\udc7f  \\ud83c\\udff4\\udb40\\udc67\\udb40\\udc62\\udb40\\udc65\\udb40\\udc6e\\udb40\\udc67\\udb40\\udc7f\"], [\"Hate politicians,Nair do well's parasites that I have to pay for Worked for 48 years never been unemployed,only have two children as that is all we could afford\"], [\"Singer, Gardener, and Proud Dad of Two wonderful Kids\"], [\"Old fart, growing more like Victor Meldrew each day. Evertonian-hurts lately. If you don't like my politics, talk, don't trade insults. Politically homeless\"], [\"need a new hobby that comes to you ? then collecting and identifying leafs this autumn is for you ,start your own \\u201cgo fund me page\\u201dand watch the\\ud83d\\udcb0roll in\"], [\"British Army Veteran. \\u201cEvery normal man must be tempted, at times, to spit on his hands, hoist the black flag, and begin slitting throats.\\u201d\"], [\"all lives matter\"], [\"Wife, mother, grandmother that is now happily retired living life on our own terms. Royalist.\"], [\"Zgz in my heart and London is home. The Godfather is the movie. Always lefty. Republican. Anti-fascist. RAP porque s\\u00ed.\"], [\"Farewell Twatters, enough is enough. Our work here is done.\\ud83c\\uddec\\ud83c\\udde7\"], [\"English Surveyor, Guitar playing, Music writing Brexiteer. \\nBritish Produce is best..\\nWill always do all i can to help X Army..\\n\\n\\n\\n\\n\\n\\nKent Coast\"], [\"\"], [\"18 years CI/CSy Snowdrop FS instructor then industry IT security then car crash which means I am an amputee in a wheelchair.\"], [\"\"], [\"We won't always agree on everything. But just maybe we can learn from each other.\\nBut I will defend my country and culture to my last breath.\"], [\"Often found roaming the streets in a blue uniform when I should have been in the pub. (Ex MSC)\"], [\"\"], [\"ReTweets? You'll be lucky!\"], [\"\"], [\"Quod bonum guys semper vincere in finem\"], [\"Retired married no children ,Brexit supporter ,retweet doesn't mean I like it ,usually follow back. No DMs accepted unless I DM you \\ud83d\\udc4d Trump 2020 ,\"], [\"Gay. Married. Two Labs. love the UK, but fear it\\u2019s future.\"], [\"Power Gay \\ud83c\\udf08 X-Pro Sandcastle Champ 2019. Friend of Rylan. Represented by @sainoutalent\"], [\"a former twitter cop turned Anonymous UK cop redeploying in the world of Twitter.\"], [\"Retired. Love gardening. Free movement MUST be stopped! Proudly blocked by James O'Brien and have strong political views. Support Boris. \\ud83c\\uddec\\ud83c\\udde7\\ud83c\\udde8\\ud83c\\udde6\"], [\"Retired. Love gardening. Free movement MUST be stopped! Proudly blocked by James O'Brien and have strong political views. Support Boris. \\ud83c\\uddec\\ud83c\\udde7\\ud83c\\udde8\\ud83c\\udde6\"], [\"\\u201cThe only thing we have to fear is fear itself\\u201d FDR. Wine lover - go large!\\ud83c\\udf7e\\ud83e\\udd42 7 my lucky number \\u2660\\ufe0f Brexit +++\"], [\"\"], [\"Realising the importance of buying British for our future. Against crime, Cover ups and Tax avoidance. Keep Britain better!\"], [\"\\ud83c\\udff4\\udb40\\udc67\\udb40\\udc62\\udb40\\udc65\\udb40\\udc6e\\udb40\\udc67\\udb40\\udc7f\\ud83c\\udff4\\udb40\\udc67\\udb40\\udc62\\udb40\\udc73\\udb40\\udc63\\udb40\\udc74\\udb40\\udc7f\\ud83c\\udff4\\udb40\\udc67\\udb40\\udc62\\udb40\\udc77\\udb40\\udc6c\\udb40\\udc73\\udb40\\udc7f\\ud83c\\uddec\\ud83c\\udde7 \\ud83c\\uddfa\\ud83c\\uddf8 #TTID\"], [\"World traveller, dog lover semi retired. Work hard , make sacrifices and Reap the rewards.\"], [\"World traveller, dog lover semi retired. Work hard , make sacrifices and Reap the rewards.\"], [\"World traveller, dog lover semi retired. Work hard , make sacrifices and Reap the rewards.\"], [\"World traveller, dog lover semi retired. Work hard , make sacrifices and Reap the rewards.\"], [\"They dont like it up em....\"], [\"Retired Inspector, Fed Rep and former PSD \\ud83d\\ude31. Might have unknowingly met Gadget..\"], [\"identify as: grenade without a pin.\\ndisfunktional child.\\n80's Cannon fodder.\\nDeep sea skiver.\\nHusband & father.\\naware this life is precious.\\nroger so far over,\"], [\"I don\\u2019t do cheap talk......YNWA\\ud83c\\uddfa\\ud83c\\uddec\\ud83c\\uddec\\ud83c\\udde7\"], [\"Anti left always right. Heavy drinker. Fully unwoke. Top Tory. Very...very drunk \\ud83e\\udd43\"], [\"Family man, Patriotic England supporting West Ham fan, hard working, honest, all views are from me and me only. Business owner.\"], [\"Family man, Patriotic England supporting West Ham fan, hard working, honest, all views are from me and me only. Business owner.\"], [\"Family man, Patriotic England supporting West Ham fan, hard working, honest, all views are from me and me only. Business owner.\"], [\"Family man, Patriotic England supporting West Ham fan, hard working, honest, all views are from me and me only. Business owner.\"], [\"\"], [\"\"], [\"Opinions my own! writer, thinker, do-er, culture and tech geek, health, yoga, education, engagement, engineering, impact, research, change, life, human...\"], [\"26/illustrator/footballer #brexit \\ud83c\\uddec\\ud83c\\udde7 #British \\ud83d\\udc9a #mediascum \\nI once was silent, Until I found my voice!\"], [\"ALL LIVES MATTER\\ud83c\\uddec\\ud83c\\udde7\\ud83c\\uddfa\\ud83c\\uddf8\\ud83c\\uddee\\ud83c\\uddf1\\ud83c\\uddec\\ud83c\\udde7\\ud83c\\uddfa\\ud83c\\uddf8\\ud83c\\uddee\\ud83c\\uddf1\\ud83c\\uddec\\ud83c\\udde7\\ud83c\\uddfa\\ud83c\\uddf8\\ud83c\\uddee\\ud83c\\uddf1\\ud83c\\uddec\\ud83c\\udde7\\ud83c\\uddfa\\ud83c\\uddf8\\ud83c\\uddee\\ud83c\\uddf1\\u2764\\ufe0f\"], [\"Ralph Fiennes James Purefoy and Tom Hardy fan Team = Man Utd. Owned by a deaf bull terrier called Luna. Passionate out spoken,blunt, animal lover\"], [\"here and there\"], [\"Proud to be \\ud83c\\uddec\\ud83c\\udde7 - Am I allowed to express that?\\nPer Mare Per Terram...\\nThankfully, the Leftwaffe on Twatter does not represent the UK.\"], [\"Left wing nominated slave-trade enabler, fascist & destroyer of futures.\\nWrong-think champion. Tongue in cheek. Foot in arse. Faithless carbon-based life form\"], [\"Can't abide hypocrisy\"], [\"Seen first Cardiff City game v Mjoendalen 1st October 1969 and been a Bluebird ever since, proud to be Welsh \\ud83c\\udff4\\udb40\\udc67\\udb40\\udc62\\udb40\\udc77\\udb40\\udc6c\\udb40\\udc73\\udb40\\udc7f       \\n\\nBrexit Done \\ud83d\\udc4f\\ud83d\\udc4f\"], [\"Frontline RPU @wmpolice for 30 years, biker/door slammer. Got a first dan in Karate,now retired.\\nhttps://t.co/fBkonUHEQb\\n\\nwolves ay we....\"], [\"\"], [\"\"], [\"it...wit...twit\"], [\"GSOH\"], [\"GSOH\"], [\"GSOH\"], [\"GSOH\"], [\"GSOH\"], [\"GSOH\"], [\"\"], [\"Anyone seen Bolly knickers?\"], [\"Time to abolish the BBC #BritishLivesMatter\"], [\"Musician. Writer. \\nA whisper thundering through the void of silence. \\nProud Brexiteer. \\nOh! and don't believe a word I say.\"], [\"\"], [\"Contributing author to \\\"The Next Wave\\\" https://t.co/jDM6waIpSP and \\\"Black and Gay In The UK - An Anthology\\\" https://t.co/79LBudaOYb https://t.co/o2hurkyO18 #LGBT #BLM\"], [\"Hopefully all the wrongs will now be righted by our new PM  \\ud83e\\udd73 \\ud83d\\ude4f  \\n#BREXIT #NODEALisIDEAL \\ud83d\\udc4d\\nI'm also a Donald Trump, TW & CO fan and ... BAME\"], [\"\"], [\"Live and let live or I'll kill you said the socialist.\"], [\"somehow earning a living printing things\"], [\"Like to see the funny side of most things if possible. Sarcastic and says shit for effect.  #YNWA\\n\\nRT and follows do not constitute agreement necessarily.\"], [\"Loves all sport and playing hard but fair.\"], [\"\"], [\"\\u2018mask4mask\\u2019. NHS Community Responder. \\ud83d\\udeb4\\u200d\\u2642\\ufe0f . Tory. \\ud83e\\uddd4 . MD. \\ud83c\\udfd7 comms. G, not LGBT. Expressing views of my own. Feel free to unfollow\"], [\"Leave voter. One nation Conservative.\"], [\"Las Vegas & Boxing and Stoke City.\"], [\"#NUFC #FBPE will be blocked #ConservativeVoter but always open to debate and always listen to other people\\u2019s points and take them on board\"], [\"\"], [\"#mcfc, dad, husband, dog owner and a drunk (weekends) !! south stand 120, coaching under 16 football #HTTR #undefeated\"], [\"Outraged and offended by absolutely everything.\"], [\"Serial replier, I seriously have nothing original to say. \\ud83c\\uddec\\ud83c\\udde7\\ud83c\\uddee\\ud83c\\uddf1\"], [\"I grew up in an age of innocence ,no television, wireless and Listen with Mother ,I was an Ovaltiny , does anyone remember that?\"], [\"\\u201cThe past was erased, the erasure was forgotten, the lie became truth.\\u201d - George Orwell, 1984.\"], [\"I use Twitter like a diary, and I think it's pretty rude to look at someone's diary\"], [\"\"], [\"\\u2692things I love West Ham my wife and 3 Boys and 3 Grandchildren \\ud83d\\udd7aSka\\ud83d\\udd7aI might like something there again I might not \\u2692\\ud83c\\uddec\\ud83c\\udde7\\u2692\"], [\"Grumpy faced but generally optimistic middle aged Plumber happily shackled to @julieegriffiths.\\nInstagram @lyndongriffiths70\"], [\"\"], [\"\\u2018Every man thinks meanly of himself for not having been a soldier, or not having been at sea\\u2019. Love rugby, motorbikes & travel. If only I could combine all 3!\"], [\"\"], [\"FEMALE - Retweets not necessarily an endorsement.\"], [\"Guy from the U.K. politically leaning right.\"], [\"Loathe EUSSR, P.C. ANTIFA, MSM, EMILY MAITLIS, ALIBHAI-BROWN, CORBYN, OWEN JONES, BUNTER BOULTON, RIGSBY, \\nBLAIR, CAMPBELL, STARMER, SOROS, BLM, MORGAN, BRUCE,\"], [\"Libertarian. Leave me alone and keep your hands off my stuff.\"], [\"i take it you're snooping because I've tweeted something you disagree with and you are furiously floundering about for some ammuntion...you sad bastard\"], [\"Irishman. I would like to be as sure about anything as so many appear to be about everything. Retweets not necessarily endorsement. \\u2618\\ud83c\\udf7a\"], [\"\"], [\"Love scfc and my family, oh and the bikes.Make UK great again.\\ud83c\\uddec\\ud83c\\udde7 Boris looks like nothing that we voted for 2019.\"], [\"\"], [\"Still serving,Tweets/RT not endorsement. Views spoken here rather in uniform. Dry direct-Sarcastic. #GBmfg #UKmfg #supportUKmfg #BackTheBlue #thinblueline\"], [\"Mr nice guy\"], [\"World Peace is my Dream-One World,One Family,one Religion-Humanity.\"], [\"Director of financial affairs\"], [\"Right wing, Pink Floyd loving, motorcycling ironic analogue ghost, living mostly outside of tech, ex councillor, Stoke City fan \\u26bd #madeinGBorCommonwealth\"], [\"Singer,Model,TweetingGoddess,\\nDoctor,HumanRights,Justice,Loves beauty& being adored \\nKerry GAA &Cork GAA violate Human Rights of Listowel /Hampshire  Doctor\"], [\"Singer,Model,TweetingGoddess,\\nDoctor,HumanRights,Justice,Loves beauty& being adored \\nKerry GAA &Cork GAA violate Human Rights of Listowel /Hampshire  Doctor\"], [\"Singer,Model,TweetingGoddess,\\nDoctor,HumanRights,Justice,Loves beauty& being adored \\nKerry GAA &Cork GAA violate Human Rights of Listowel /Hampshire  Doctor\"], [\"Singer,Model,TweetingGoddess,\\nDoctor,HumanRights,Justice,Loves beauty& being adored \\nKerry GAA &Cork GAA violate Human Rights of Listowel /Hampshire  Doctor\"], [\"\"], [\"Make the UK great https://t.co/V9KhWFtq2j Brexit and no Lefties tolerated \\ud83c\\uddec\\ud83c\\udde7\\ud83c\\uddee\\ud83c\\uddf1\\ud83c\\uddfa\\ud83c\\uddf8\\ud83c\\uddeb\\ud83c\\uddf7.Moving over to Parler @markdcolyer\"], [\"#Brexit\"], [\"#Brexit\"], [\"#Brexit\"], [\"#Brexit\"], [\"#Brexit\"], [\"#Brexit\"], [\"The unexamined life is not worth living. I will have the last word ! \\ud83e\\udd2a No DMs you will be blocked ! . #humbug\"], [\"offended? well that\\u2019s awful.\"], [\"\"], [\"Keys/electro/arpeggios/scales/MCFC/Blackpoolfc.\"], [\"Soudor a Gernow yn Pow Sows\"], [\"Sales Director within the print & Document Management industry. Work hard, play hard and enjoy life\"], [\"\"], [\"\"], [\"\\ud83c\\uddec\\ud83c\\udde7\\ud83c\\uddec\\ud83c\\udde7\\ud83c\\uddec\\ud83c\\udde7UO7.2 virus not identified. \\ud83c\\uddec\\ud83c\\udde7\\ud83c\\uddec\\ud83c\\udde7\\ud83c\\uddec\\ud83c\\udde7\\ud83c\\uddec\\ud83c\\udde7 \\ud83c\\udff4\\udb40\\udc67\\udb40\\udc62\\udb40\\udc77\\udb40\\udc6c\\udb40\\udc73\\udb40\\udc7f\\ud83c\\udff4\\udb40\\udc67\\udb40\\udc62\\udb40\\udc77\\udb40\\udc6c\\udb40\\udc73\\udb40\\udc7f \\ud83c\\udff4\\udb40\\udc67\\udb40\\udc62\\udb40\\udc73\\udb40\\udc63\\udb40\\udc74\\udb40\\udc7f \\ud83c\\udff4\\udb40\\udc67\\udb40\\udc62\\udb40\\udc73\\udb40\\udc63\\udb40\\udc74\\udb40\\udc7f \\ud83c\\uddec\\ud83c\\udde7white lives matter\"], [\"\"], [\"Cannot sit back anymore! Must stand up and fight the new wave of hatred, xenophobia, Islamophobia, and discrimination. #ResistingHate member. #HopeNotHate.\"], [\"Cannot sit back anymore! Must stand up and fight the new wave of hatred, xenophobia, Islamophobia, and discrimination. #ResistingHate member. #HopeNotHate.\"], [\"Cannot sit back anymore! Must stand up and fight the new wave of hatred, xenophobia, Islamophobia, and discrimination. #ResistingHate member. #HopeNotHate.\"], [\"Cannot sit back anymore! Must stand up and fight the new wave of hatred, xenophobia, Islamophobia, and discrimination. #ResistingHate member. #HopeNotHate.\"], [\"Thames Valley Violence Reduction Unit for early intervention & prevention. @TV_VRU\"], [\"\\ud83d\\udc3e\\ud83d\\udc36\\ud83d\\ude93\\ud83d\\ude94\\ud83d\\udc60\\ud83c\\udde8\\ud83c\\udde6\"], [\"Absolutely no idea\"], [\"Twitter does not want me but have to keep coming back. Dislike lefties. Brexit WTO.  ALM. QC. No DMs...\"], [\"https://t.co/5bl5xc9WNg\"], [\"Very opinionated, a bit grumpy but want the world to be a better place. Falling out of love with Football\"], [\"Mostly peaceful\"], [\"Housewife Superstar and Witch.\"], [\"Driving round the Hat Shop\"], [\"1215 English parliament established.  \\n     \\u00c6thelstan first King of England.  \\n                          Feel free to follow the chair! The chair has spoken.\"], [\"ShirleyCommunityCentreAssociation Trustee, Croydon S&S CMG Chair, inquisitive mind, RC, EU national but \\ud83c\\udf0d. I do what I preach & take no xxxx from anybody. #BLM\"], [\"\"], [\"Glentoran, Chelsea, Rangers. Cyclist, Scooterist, Biker. Anti left, anti liberal, cynic. Recovering addict from ashers muffins.\"], [\"Former JBB Secretary, Speaker on JFK assassination and why it still matters.Loves, wife, family, dogs n Guitars.\"], [\"Software Engineer. Conservative. Be proud of your country \\ud83c\\uddec\\ud83c\\udde7\"], [\"Followed profiles + retweets are out of intellectual interest, not political support. \\nEquality does not exist. Nature is not equal.(Sorry).\"], [\"spurs fan, supporter since 1966\"], [\"Views are my own, retweets not to be taken as endorsements\"], [\"\"], [\"\"], [\"Plenty to say and not afraid to say it - if you don't like what I say ignore it and move on - no need to get aggressive ok?\"], [\"Likes tea, fags and naps\"], [\"HD riding, wine drinking, cigar smoking, Royal Navy Veteran, Techie Geek kinda guy \\ud83d\\ude0e\"], [\"\"], [\"Bucket list: The Clipper Race: \\nCircumnavigate the Globe.\\n\\nTREXIT : 31st December 2020\\n\\nTrue blue in my \\ud83d\\udc99.\\n\\n#FBPB - Follow Back Pro Britain\\n\\n#WeAllBleedRed\"], [\"I swear I have Tourettes.....\\n\\n'You don't like it...so what...I don't care'\"], [\"Amateur landscape and aviation photographer. \\nEnjoy being on two wheels, sometimes with an engine sometimes without. #avgeek\"], [\"we need the first amendment now and the second for what lies ahead. I\\u2019ll never vote for globalists again. Now on Parler @redial999.\"], [\"\"], [\"When in Rome. Democracy is king. Overrun with whippets. Boxing silver medalist. Race horse owner. Love of my country\"], [\"From Barrow, not there now. Proud Brit. love Bikes, used to be F1 fan \\ud83d\\ude21\\ud83d\\ude21 no more. Hate BBC n Sky.  Brexit fan, easy going realist. No DM's. I won't answer.\"], [\"Not all Veterans are well off - Campaigning for: HOUSING REFORM #HomeOwnershipForVets\\n#ExemptDepositForVetsToPurchase\\n\\nNOT A CHARITY FOR VETERANS\"], [\"\"], [\"Photographer /Music /Photojournalist, Fashion/Graphic artist/Photoshop 20 and Lightroom.... Unemployed\"], [\"Photographer /Music /Photojournalist, Fashion/Graphic artist/Photoshop 20 and Lightroom.... Unemployed\"], [\"Photographer /Music /Photojournalist, Fashion/Graphic artist/Photoshop 20 and Lightroom.... Unemployed\"], [\"Photographer /Music /Photojournalist, Fashion/Graphic artist/Photoshop 20 and Lightroom.... Unemployed\"], [\"Photographer /Music /Photojournalist, Fashion/Graphic artist/Photoshop 20 and Lightroom.... Unemployed\"], [\"Photographer /Music /Photojournalist, Fashion/Graphic artist/Photoshop 20 and Lightroom.... Unemployed\"], [\"Photographer /Music /Photojournalist, Fashion/Graphic artist/Photoshop 20 and Lightroom.... Unemployed\"], [\"Photographer /Music /Photojournalist, Fashion/Graphic artist/Photoshop 20 and Lightroom.... Unemployed\"], [\"Photographer /Music /Photojournalist, Fashion/Graphic artist/Photoshop 20 and Lightroom.... Unemployed\"], [\"Photographer /Music /Photojournalist, Fashion/Graphic artist/Photoshop 20 and Lightroom.... Unemployed\"], [\"Photographer /Music /Photojournalist, Fashion/Graphic artist/Photoshop 20 and Lightroom.... Unemployed\"], [\"Photographer /Music /Photojournalist, Fashion/Graphic artist/Photoshop 20 and Lightroom.... Unemployed\"], [\"Photographer /Music /Photojournalist, Fashion/Graphic artist/Photoshop 20 and Lightroom.... Unemployed\"], [\"Photographer /Music /Photojournalist, Fashion/Graphic artist/Photoshop 20 and Lightroom.... Unemployed\"], [\"Photographer /Music /Photojournalist, Fashion/Graphic artist/Photoshop 20 and Lightroom.... Unemployed\"], [\"Photographer /Music /Photojournalist, Fashion/Graphic artist/Photoshop 20 and Lightroom.... Unemployed\"], [\"Photographer /Music /Photojournalist, Fashion/Graphic artist/Photoshop 20 and Lightroom.... Unemployed\"], [\"Photographer /Music /Photojournalist, Fashion/Graphic artist/Photoshop 20 and Lightroom.... Unemployed\"], [\"Photographer /Music /Photojournalist, Fashion/Graphic artist/Photoshop 20 and Lightroom.... Unemployed\"], [\"Photographer /Music /Photojournalist, Fashion/Graphic artist/Photoshop 20 and Lightroom.... Unemployed\"], [\"Photographer /Music /Photojournalist, Fashion/Graphic artist/Photoshop 20 and Lightroom.... Unemployed\"], [\"Photographer /Music /Photojournalist, Fashion/Graphic artist/Photoshop 20 and Lightroom.... Unemployed\"], [\"Photographer /Music /Photojournalist, Fashion/Graphic artist/Photoshop 20 and Lightroom.... Unemployed\"], [\"Photographer /Music /Photojournalist, Fashion/Graphic artist/Photoshop 20 and Lightroom.... Unemployed\"], [\"Photographer /Music /Photojournalist, Fashion/Graphic artist/Photoshop 20 and Lightroom.... Unemployed\"], [\"Photographer /Music /Photojournalist, Fashion/Graphic artist/Photoshop 20 and Lightroom.... Unemployed\"], [\"Photographer /Music /Photojournalist, Fashion/Graphic artist/Photoshop 20 and Lightroom.... Unemployed\"], [\"Photographer /Music /Photojournalist, Fashion/Graphic artist/Photoshop 20 and Lightroom.... Unemployed\"], [\"Photographer /Music /Photojournalist, Fashion/Graphic artist/Photoshop 20 and Lightroom.... Unemployed\"], [\"Photographer /Music /Photojournalist, Fashion/Graphic artist/Photoshop 20 and Lightroom.... Unemployed\"], [\"Photographer /Music /Photojournalist, Fashion/Graphic artist/Photoshop 20 and Lightroom.... Unemployed\"], [\"Photographer /Music /Photojournalist, Fashion/Graphic artist/Photoshop 20 and Lightroom.... Unemployed\"], [\"Photographer /Music /Photojournalist, Fashion/Graphic artist/Photoshop 20 and Lightroom.... Unemployed\"], [\"Photographer /Music /Photojournalist, Fashion/Graphic artist/Photoshop 20 and Lightroom.... Unemployed\"], [\"Photographer /Music /Photojournalist, Fashion/Graphic artist/Photoshop 20 and Lightroom.... Unemployed\"], [\"Photographer /Music /Photojournalist, Fashion/Graphic artist/Photoshop 20 and Lightroom.... Unemployed\"], [\"Photographer /Music /Photojournalist, Fashion/Graphic artist/Photoshop 20 and Lightroom.... Unemployed\"], [\"Photographer /Music /Photojournalist, Fashion/Graphic artist/Photoshop 20 and Lightroom.... Unemployed\"], [\"Photographer /Music /Photojournalist, Fashion/Graphic artist/Photoshop 20 and Lightroom.... Unemployed\"], [\"Photographer /Music /Photojournalist, Fashion/Graphic artist/Photoshop 20 and Lightroom.... Unemployed\"], [\"Photographer /Music /Photojournalist, Fashion/Graphic artist/Photoshop 20 and Lightroom.... Unemployed\"], [\"Photographer /Music /Photojournalist, Fashion/Graphic artist/Photoshop 20 and Lightroom.... Unemployed\"], [\"Photographer /Music /Photojournalist, Fashion/Graphic artist/Photoshop 20 and Lightroom.... Unemployed\"], [\"Photographer /Music /Photojournalist, Fashion/Graphic artist/Photoshop 20 and Lightroom.... Unemployed\"], [\"Photographer /Music /Photojournalist, Fashion/Graphic artist/Photoshop 20 and Lightroom.... Unemployed\"], [\"Photographer /Music /Photojournalist, Fashion/Graphic artist/Photoshop 20 and Lightroom.... Unemployed\"], [\"Photographer /Music /Photojournalist, Fashion/Graphic artist/Photoshop 20 and Lightroom.... Unemployed\"], [\"Photographer /Music /Photojournalist, Fashion/Graphic artist/Photoshop 20 and Lightroom.... Unemployed\"], [\"Photographer /Music /Photojournalist, Fashion/Graphic artist/Photoshop 20 and Lightroom.... Unemployed\"], [\"Photographer /Music /Photojournalist, Fashion/Graphic artist/Photoshop 20 and Lightroom.... Unemployed\"], [\"Photographer /Music /Photojournalist, Fashion/Graphic artist/Photoshop 20 and Lightroom.... Unemployed\"], [\"Photographer /Music /Photojournalist, Fashion/Graphic artist/Photoshop 20 and Lightroom.... Unemployed\"], [\"Photographer /Music /Photojournalist, Fashion/Graphic artist/Photoshop 20 and Lightroom.... Unemployed\"], [\"Photographer /Music /Photojournalist, Fashion/Graphic artist/Photoshop 20 and Lightroom.... Unemployed\"], [\"Photographer /Music /Photojournalist, Fashion/Graphic artist/Photoshop 20 and Lightroom.... Unemployed\"], [\"\"], [\"\"], [\"QC is for Quite Chuffed. Believe we will be stronger, richer and better country outside the EU. Welcome debate and followers from opposing views.\"], [\"\"], [\"\"], [\"\"], [\"You don't have to be mad to know me. But it helps\"], [\"Self-identifying person of interest. Politics with everything, always. Lover of animals, coffee and Greggs vegan s/r. Has a hyphen.\"], [\"I don't respond to DM's....\\ud83d\\ude0a Retweets & likes are not necessarily endorsements.\"], [\"North Yorkshire. #Takingbackcontrol\"], [\"This is my Twitter page. There are many like it, but this one is mine.\"], [\"#BlueLivesMatter\"], [\"hard working man loved my army career with 32 GW Regt RA 12 minden Bty and 49 FD Regt RA 55 Bty and last of all 101 Regt RA 205 Bty TA. Don\\u2019t smoke keep fit.\"], [\"brexit dogs politics friends everest K2 reading\"], [\"All lives matter.\"], [\"I am \\ud83c\\udff4\\udb40\\udc67\\udb40\\udc62\\udb40\\udc73\\udb40\\udc63\\udb40\\udc74\\udb40\\udc7f born and bred \\nlive in Stoke-on-Trent  I'm a 47 year old woman married and yeah I'm a nutjob but someone has to see sence in it all \\nHATE EU\"], [\"\"], [\"\"], [\"\"], [\"Ex-Socialist. Temp Cleaner/Janitor. Pidgeon fancier. Home brewer. P/T Aerial & wedding photography. Nature Lover. Not related to Johnathan Meads.\"], [\"sceptical realist and mainstream media non believer\"], [\"\"], [\"\\ud83c\\uddec\\ud83c\\udde7 Not blocked by Owen Jones but should be. Conservative and proud. All views are my wife's.\"], [\"\"], [\"Behavioural specialist, Supporting people to achieve their goals within all levels of sport, family, work, within the home & with addiction\"], [\"TTIOT - The Truth is Out There\"], [\"General News,Football Television,Movies, Premier League,FA Cup Weather ChampionsLeague, Bees\"], [\"General News,Football Television,Movies, Premier League,FA Cup Weather ChampionsLeague, Bees\"], [\"General News,Football Television,Movies, Premier League,FA Cup Weather ChampionsLeague, Bees\"], [\"General News,Football Television,Movies, Premier League,FA Cup Weather ChampionsLeague, Bees\"], [\"Ex coal Miner.. Keep fit, Floating voter..boomer, Anti EU, say what you think.. Return common sense. All my views are my wife's... parler same as here\"], [\"\"], [\"\"], [\"\"], [\"\"], [\"WHU, Boxing!\\nLife is not measured by the amount of breathes we take, but the moments that take our breath away!\"], [\"#DeFundtheBBC\"], [\"F1 fan, Bath City FC Supporter, JB #22 All my views are correct! Schumacher, was, is and always will be my sporting hero. #keepfightingmichael\"], [\"\"], [\"\"], [\"\"], [\"\"], [\"European with European family\"], [\"0.3K\\n#NicolaIsShambolic\\n#YearOfTheBatFlu\\n#BatFluHell\\n#CBF\"], [\"Like cycling, books, sport, writing and cute animals. Hate injustice. Work as a librarian.\"], [\"@LFC fan. Husband, father and blocked by @joetracini... for some reason. He/Him #LFC #YNWA #JFT96\"], [\"Tweeting - Rock \\u2018n\\u2019 Roll years & matters of life trivial & consequential.\\n\\u2018Numbers\\u2019, no interest.\\nA whiff of Smartassishness = \\u2018Twitter cosh\\u2019/Immediate Block!\"], [\"Asthmatic Leeds  fan, who suffers mega breathing problems everytime lufc  play!\"], [\"Righty Ho \\u270a\\u270a\"], [\"Enough is enough. When and where will it all end. Armageddon is coming. Don\\u2019t start crying when the \\ud83d\\udca9hits the fan because you ignored the signs. #Arsenal \\ud83d\\udc4a\\ud83c\\udffb\"], [\"Doctorate in Trade and Environment, MA in Environment and Policy. Love family, friends, food, politics and cats\"], [\"Fuck it !\"], [\"\"], [\"I'm Nisa. Nisa Landy - liebour MP for Wigan. Up the pie eaters. parody. \\ud83d\\udc94\\n\\nPamela Landy is my mom so watch out!\"], [\"Watch out, there's a Humphrey about.\\nI am actually a woman.\"], [\"TAP IN \\ud83d\\udcf2\\ud83d\\udcb0\"], [\"every word is like a stain on silence and nothingness\"], [\"every word is like a stain on silence and nothingness\"], [\"Democracy, freedom of speech, \\u2764UK, NHS and human nature. Support our Veterans and our Elderly. Educate our children to question. Be happy life's to short. \\ud83d\\ude42\"], [\"I have the right to offend you.\\n\\nCommon sense only.\\n\\nIf I have offended you just block me and stop crying\\ud83d\\ude25\"], [\"Non-league Football, Transport Wildlife & nature\\nPhotographer / videographer from Essex.\"], [\"I have Alzheimer\\u2019s bulimia \\u2013 first I eat everything in sight and then I forget to puke!\"], [\"Last name ever, first name greatest\"], [\"\\ud83c\\udff4\\udb40\\udc67\\udb40\\udc62\\udb40\\udc65\\udb40\\udc6e\\udb40\\udc67\\udb40\\udc7f\\ud83c\\udff4\\udb40\\udc67\\udb40\\udc62\\udb40\\udc73\\udb40\\udc63\\udb40\\udc74\\udb40\\udc7f\\ud83c\\uddec\\ud83c\\udde7. Unfortunately a straight white male, I\\u2019m really sorry I know.\"], [\"Right wing realist.  Despise socialism  racists and limp dims.  Believe nothing, challenge everything.\\n\\nPro exposer and ridiculer of leftie libtards\"], [\"\"], [\"\"], [\"\"], [\"\"], [\"\"], [\"\"], [\"Considering Procrastinating.... King Chuka is not for me Thanks... YNWA with Love... Red Tory, Yellow Tory, Blue Tory\"], [\"Love to Travel.\\nWear The Rose\"], [\"\"], [\"\"], [\"F. rejoining twitter but not seeking followers\\ud83d\\ude0e\\n   born 15th may\\ud83c\\udf38\\ud83c\\udf3c\"], [\"Always searchin for the story, always baffled by it.\\n\\nTwitter rules - Everyone who disagrees with me is a bot.\\n\\nPolitical Commentator.\\n\\n#ScumMedia #mediascum\"], [\"I am on top of the Bell Curve - which means I am average.\"], [\"when you find yourself moving through hell, keep going . \\nUK and proud 52 %\"], [\"Father to a much much beloved many souls, Seeking Truth & Freedom for them and all Humanity.\\n\\nPeace & much love to them and you.\"], [\"Retired national hunt racehorse syndicate manager.  Life is not a rehearsal so have plenty of fun.\"], [\"\"], [\"Farmer\\u2019s daughter and wife. British\"], [\"\"], [\"The truth can be hard to take, but I will tell it anyway\"], [\"Bus Driver\"], [\"These views are probably not mine or anyone else\\u2019s. I wrote in a language which may look like one you know but, apart from this disclaimer, it isn't.\"], [\"Imperfect #Christian. Grace through faith in JESUS CHRIST. Married. #alllivesmatter #ProLife #FreeSpeech #Brexit. No DMs No LISTS thnx \\ud83c\\uddec\\ud83c\\udde7 \\ud83c\\udff4\\udb40\\udc67\\udb40\\udc62\\udb40\\udc65\\udb40\\udc6e\\udb40\\udc67\\udb40\\udc7f\\u271d\\ufe0f\"], [\"Average bloke with too keen an interest in politics for my own good.\"], [\"Retired. Volunteer South Worcestershire CAB. Real Madrid fc Madridista. Real Oviedo fc shareholder, PenaAzulMadrid member, JamaicanBobSled,Garbine Muguruza fan.\"], [\"Honest Man, no political allegiances. Just the truth no BS please\"], [\"hate haters\"], [\"westhamtillidie.. roll on the day we get our independent country from the chains of EU god save our queen \\ud83c\\uddec\\ud83c\\udde7 https://t.co/LXCjLi1lz5\"], [\"Swimming through life. Friend to all dogs. Ex Met.\"], [\"coys....uk pls let's stand together\"], [\"We aim to help kids channel their energy into something positive. We aim to help all students both kids & Adults develop life skills & be able 2 defend themself\"], [\"My tweets are my own opinions. you may like some and you may disagree with others, both are absolutely fine. Have a great day \\ud83d\\udc4d\"], [\"Activist account ran into... issues. So now this one is a mix of personal/activism.\\ud83d\\udca9posting to be expected cos it upsets conservatives. Join a union (IWW ofc)\"], [\"Cultural Marxism is a Virus \\ud83e\\udda0. UK is turning into woke \\ud83e\\udd21\\ud83c\\udf0e. Got Brexit Done \\ud83c\\uddec\\ud83c\\udde7. Blocked by @OwenJones84, @HackneyAbbott & @adamboultonSKY \\ud83c\\udfc5\\ud83c\\udfc5\\ud83c\\udfc5\"], [\"\"], [\"An appeaser is one who feeds a crocodile, hoping it will eat him last.'\"], [\"london\"], [\"NTO. deICEing the UK\"], [\"\"], [\"\"], [\"Played some Footy. Raced some Bikes. Played some Drums. Written some Stuff. Own some Cats. #WatfordFc #Sidecarcross #Rockmusic.\"], [\"My opinions might not always be right but I\\u2019m entitled to them. I detest people who hurt kids or animals. I lost me when I had kids but I \\u2764\\ufe0f them more than life\"], [\"i identify as a cartoon lady identifying as a cartoon rabbit.\"], [\"\\ud83c\\uddec\\ud83c\\udde7 \\ud83e\\udd84\\ud83d\\udc8b Mum to 2 teenagers, 1 of which has ASD\"], [\"Been here before, giving it another go \\ud83d\\ude0a #thinblueline supporter \\ud83d\\udc6e\\ud83c\\udffb\\u200d\\u2640\\ufe0f\\ud83d\\udc6e\\ud83c\\udffb\\u200d\\u2642\\ufe0f #ProtectTheProtectors Scotland Rugby fan \\ud83c\\udff4\\udb40\\udc67\\udb40\\udc62\\udb40\\udc73\\udb40\\udc63\\udb40\\udc74\\udb40\\udc7f\\ud83c\\udfc9\\ud83c\\udff4\\udb40\\udc67\\udb40\\udc62\\udb40\\udc73\\udb40\\udc63\\udb40\\udc74\\udb40\\udc7f #AsOne\"], [\"Old and crinkly, left leaning, dislike all manor of inequality. Uncompromising defender of our emergency services so please feel free to block me\"], [\"Lifelong Spurs supporter OAP Past President/secretary of Hendon Rotary Club Retired. Member of Cockfosters FC Big Cricket fan of Middlesex Southgate CC\"], [\"A German on the large island in the North Sea just wondering what the world has come to...Frage nicht, klage nicht handle. S\\u00e4ume nicht, tr\\u00e4ume nicht, wandle!!!\"], [\"\"], [\"\"], [\"\"], [\"I speak my mind.Dont like it,well u know what you can do\"], [\"\"], [\"Tell me what we gonna do,\\nIf everything I say is true.\\nThis ain't no way it ought to be,\\nIf only all the mass could see!! \\ud83d\\udc40\\ud83d\\udc40\\ud83d\\ude4f\\ud83d\\ude4f\\ud83d\\ude4f\"], [\"Tell me what we gonna do,\\nIf everything I say is true.\\nThis ain't no way it ought to be,\\nIf only all the mass could see!! \\ud83d\\udc40\\ud83d\\udc40\\ud83d\\ude4f\\ud83d\\ude4f\\ud83d\\ude4f\"], [\"HufflePuff\"], [\"HufflePuff\"], [\"HufflePuff\"], [\"HufflePuff\"], [\"\"], [\"\"], [\"\"], [\"\"], [\"ONE OF THE 17.4 MILLION\\nLEAVE MEANS LEAVE\"], [\"ONE OF THE 17.4 MILLION\\nLEAVE MEANS LEAVE\"], [\"ONE OF THE 17.4 MILLION\\nLEAVE MEANS LEAVE\"], [\"ONE OF THE 17.4 MILLION\\nLEAVE MEANS LEAVE\"], [\"East London\"], [\"ACAB | internship to be queen of england\"], [\"Our Brexit that shalt be heaven, Remoaners have no shame, Control of borders will come, World trade will be done, All over the globe, as it is with Europe. Amen\"], [\"Passionate about sport, comics, gym, video games & whisky. Many tweets are me getting angry about politics \\ud83e\\udd37\\u200d\\u2642\\ufe0f\"], [\"\"], [\"Plasterer #LancasterWestEstateResident #failedbythestate watch our film  part 1 is \\ud83d\\udc47\\ud83d\\udc47\"], [\"Plasterer #LancasterWestEstateResident #failedbythestate watch our film  part 1 is \\ud83d\\udc47\\ud83d\\udc47\"], [\"Plasterer #LancasterWestEstateResident #failedbythestate watch our film  part 1 is \\ud83d\\udc47\\ud83d\\udc47\"], [\"Justice-Respect-Truth-no excuses-no fake news-have met Aliens & Ghosts-so know there is more than this crazed MESS we all face-thanks 2 corrupt greedy LEADERS.\"], [\"Justice-Respect-Truth-no excuses-no fake news-have met Aliens & Ghosts-so know there is more than this crazed MESS we all face-thanks 2 corrupt greedy LEADERS.\"], [\"Justice-Respect-Truth-no excuses-no fake news-have met Aliens & Ghosts-so know there is more than this crazed MESS we all face-thanks 2 corrupt greedy LEADERS.\"], [\"Justice-Respect-Truth-no excuses-no fake news-have met Aliens & Ghosts-so know there is more than this crazed MESS we all face-thanks 2 corrupt greedy LEADERS.\"], [\"Justice-Respect-Truth-no excuses-no fake news-have met Aliens & Ghosts-so know there is more than this crazed MESS we all face-thanks 2 corrupt greedy LEADERS.\"], [\"Justice-Respect-Truth-no excuses-no fake news-have met Aliens & Ghosts-so know there is more than this crazed MESS we all face-thanks 2 corrupt greedy LEADERS.\"], [\"Justice-Respect-Truth-no excuses-no fake news-have met Aliens & Ghosts-so know there is more than this crazed MESS we all face-thanks 2 corrupt greedy LEADERS.\"], [\"Justice-Respect-Truth-no excuses-no fake news-have met Aliens & Ghosts-so know there is more than this crazed MESS we all face-thanks 2 corrupt greedy LEADERS.\"], [\"Justice-Respect-Truth-no excuses-no fake news-have met Aliens & Ghosts-so know there is more than this crazed MESS we all face-thanks 2 corrupt greedy LEADERS.\"], [\"Justice-Respect-Truth-no excuses-no fake news-have met Aliens & Ghosts-so know there is more than this crazed MESS we all face-thanks 2 corrupt greedy LEADERS.\"], [\"Justice-Respect-Truth-no excuses-no fake news-have met Aliens & Ghosts-so know there is more than this crazed MESS we all face-thanks 2 corrupt greedy LEADERS.\"], [\"Justice-Respect-Truth-no excuses-no fake news-have met Aliens & Ghosts-so know there is more than this crazed MESS we all face-thanks 2 corrupt greedy LEADERS.\"], [\"The only thing that ever united capitalists, communists, socialists and anarchists was hanging nazis. Let's focus on what we have in common :)\"], [\"Don't be a dick.  It's uncouth.\"], [\"#StillNotOverIt\"], [\"Nothing is ever impossible, Make it possible, If you refuse to believe in limits, you will be limitless, Trust, but don't be deceived \\u263a #blacklivesmatter\"], [\"NSFW 18+ ~ Caring Disciplinarian, 60's. Discipline for deserving Girls & slave to my own sub desires. Recipient of cathartic, monthly beatings!\"], [\"Life-long Trade Unionist, Chair of GMB Race & CWU Policy Advisor . Anti-AFTV, Presenter. Views are my own, RT's are not endorsements :)\"], [\"Artist, writer, cartoonist, animator. No time to check DMs. RTs & likes don't mean I endorse. #tshirts #cheerfulmadness #kawaii #cartoon #gifts #animals #design\"], [\"Opinions are all my own...\\nRandom tweets from Islington\\nhttps://t.co/KVUOAjDgB7\\ud83d\\udc9c\"], [\"\"], [\"\\ud835\\ude24\\ud835\\ude39\\ud835\\ude26\\ud835\\ude34\\ud835\\ude39\\ud835\\ude33 \\u26a1\\ufe0e \\ud835\\ude22\\ud835\\ude33\\ud835\\ude35\"], [\"\"], [\"chup kar jao\"], [\"\"], [\"Dedicated @trishstratuscom #Stratuspherian\\u261d\\ufe0f 1/2 Irish \\ud83c\\uddee\\ud83c\\uddea\\ud83c\\uddea\\ud83c\\uddfa, Honorary Canadian \\ud83c\\udde8\\ud83c\\udde6. EPL Champions @LFC \\u26bd\\ufe0f @MapleLeafs \\ud83c\\udfd2 @BlueJays \\u26be\\ufe0f @Raptors \\ud83c\\udfc0 #BLM \\ud83d\\udda4\"], [\"Investment Banker. Keen follower of  corporates and global matters. Former CEO of a global Investment Bank. Opinions are purely personal.\"], [\"\"], [\"37\"], [\"INTP-T. Ex-Labour voter, currently party-less. Be truthful no matter the consequences. Toxic people blocked along with all FBPE cult members and snowflakes.\"], [\"\"], [\"\"], [\"\"], [\"\"], [\"\"], [\"Director of WeAreiDyll Records\\n@weareidyll\\nBookings: info@weareidyll.com\\nSoulful Show Thurs 20:00 - 22:00 GMT\\nhttps://t.co/5M7u2LMo5F\"], [\"Work hard and if you fail get the fuck up stop bitching and crack the fuck on\"], [\"Sound designer, composer, games industry veteran, audio jack of all trades. I designed https://t.co/qUklT2IB6o & tinker with filmmaking. Truth seeker\"], [\"Asquithian Liberal, Old Wykehamist, Balliolian, Lockean, Wilsonian and Anglo-Catholic. A Francophile, Germanophile & Austrophile.\"], [\"We fight for what we cannot take with us\\nIts our nature\"], [\"love my family xx proud mum, Salford reds fan\\ud83d\\udc79\\ud83d\\udc79\\ud83d\\udc79Masketeer \\ud83d\\ude37 Labour voting Manc.3.5% #FBPE Hate Tories and Brexit\"], [\"love my family xx proud mum, Salford reds fan\\ud83d\\udc79\\ud83d\\udc79\\ud83d\\udc79Masketeer \\ud83d\\ude37 Labour voting Manc.3.5% #FBPE Hate Tories and Brexit\"], [\"love my family xx proud mum, Salford reds fan\\ud83d\\udc79\\ud83d\\udc79\\ud83d\\udc79Masketeer \\ud83d\\ude37 Labour voting Manc.3.5% #FBPE Hate Tories and Brexit\"], [\"love my family xx proud mum, Salford reds fan\\ud83d\\udc79\\ud83d\\udc79\\ud83d\\udc79Masketeer \\ud83d\\ude37 Labour voting Manc.3.5% #FBPE Hate Tories and Brexit\"], [\"love my family xx proud mum, Salford reds fan\\ud83d\\udc79\\ud83d\\udc79\\ud83d\\udc79Masketeer \\ud83d\\ude37 Labour voting Manc.3.5% #FBPE Hate Tories and Brexit\"], [\"love my family xx proud mum, Salford reds fan\\ud83d\\udc79\\ud83d\\udc79\\ud83d\\udc79Masketeer \\ud83d\\ude37 Labour voting Manc.3.5% #FBPE Hate Tories and Brexit\"], [\"love my family xx proud mum, Salford reds fan\\ud83d\\udc79\\ud83d\\udc79\\ud83d\\udc79Masketeer \\ud83d\\ude37 Labour voting Manc.3.5% #FBPE Hate Tories and Brexit\"], [\"love my family xx proud mum, Salford reds fan\\ud83d\\udc79\\ud83d\\udc79\\ud83d\\udc79Masketeer \\ud83d\\ude37 Labour voting Manc.3.5% #FBPE Hate Tories and Brexit\"], [\"love my family xx proud mum, Salford reds fan\\ud83d\\udc79\\ud83d\\udc79\\ud83d\\udc79Masketeer \\ud83d\\ude37 Labour voting Manc.3.5% #FBPE Hate Tories and Brexit\"], [\"love my family xx proud mum, Salford reds fan\\ud83d\\udc79\\ud83d\\udc79\\ud83d\\udc79Masketeer \\ud83d\\ude37 Labour voting Manc.3.5% #FBPE Hate Tories and Brexit\"], [\"love my family xx proud mum, Salford reds fan\\ud83d\\udc79\\ud83d\\udc79\\ud83d\\udc79Masketeer \\ud83d\\ude37 Labour voting Manc.3.5% #FBPE Hate Tories and Brexit\"], [\"love my family xx proud mum, Salford reds fan\\ud83d\\udc79\\ud83d\\udc79\\ud83d\\udc79Masketeer \\ud83d\\ude37 Labour voting Manc.3.5% #FBPE Hate Tories and Brexit\"], [\"love my family xx proud mum, Salford reds fan\\ud83d\\udc79\\ud83d\\udc79\\ud83d\\udc79Masketeer \\ud83d\\ude37 Labour voting Manc.3.5% #FBPE Hate Tories and Brexit\"], [\"love my family xx proud mum, Salford reds fan\\ud83d\\udc79\\ud83d\\udc79\\ud83d\\udc79Masketeer \\ud83d\\ude37 Labour voting Manc.3.5% #FBPE Hate Tories and Brexit\"], [\"love my family xx proud mum, Salford reds fan\\ud83d\\udc79\\ud83d\\udc79\\ud83d\\udc79Masketeer \\ud83d\\ude37 Labour voting Manc.3.5% #FBPE Hate Tories and Brexit\"], [\"love my family xx proud mum, Salford reds fan\\ud83d\\udc79\\ud83d\\udc79\\ud83d\\udc79Masketeer \\ud83d\\ude37 Labour voting Manc.3.5% #FBPE Hate Tories and Brexit\"], [\"love my family xx proud mum, Salford reds fan\\ud83d\\udc79\\ud83d\\udc79\\ud83d\\udc79Masketeer \\ud83d\\ude37 Labour voting Manc.3.5% #FBPE Hate Tories and Brexit\"], [\"love my family xx proud mum, Salford reds fan\\ud83d\\udc79\\ud83d\\udc79\\ud83d\\udc79Masketeer \\ud83d\\ude37 Labour voting Manc.3.5% #FBPE Hate Tories and Brexit\"], [\"love my family xx proud mum, Salford reds fan\\ud83d\\udc79\\ud83d\\udc79\\ud83d\\udc79Masketeer \\ud83d\\ude37 Labour voting Manc.3.5% #FBPE Hate Tories and Brexit\"], [\"love my family xx proud mum, Salford reds fan\\ud83d\\udc79\\ud83d\\udc79\\ud83d\\udc79Masketeer \\ud83d\\ude37 Labour voting Manc.3.5% #FBPE Hate Tories and Brexit\"], [\"love my family xx proud mum, Salford reds fan\\ud83d\\udc79\\ud83d\\udc79\\ud83d\\udc79Masketeer \\ud83d\\ude37 Labour voting Manc.3.5% #FBPE Hate Tories and Brexit\"], [\"love my family xx proud mum, Salford reds fan\\ud83d\\udc79\\ud83d\\udc79\\ud83d\\udc79Masketeer \\ud83d\\ude37 Labour voting Manc.3.5% #FBPE Hate Tories and Brexit\"], [\"love my family xx proud mum, Salford reds fan\\ud83d\\udc79\\ud83d\\udc79\\ud83d\\udc79Masketeer \\ud83d\\ude37 Labour voting Manc.3.5% #FBPE Hate Tories and Brexit\"], [\"love my family xx proud mum, Salford reds fan\\ud83d\\udc79\\ud83d\\udc79\\ud83d\\udc79Masketeer \\ud83d\\ude37 Labour voting Manc.3.5% #FBPE Hate Tories and Brexit\"], [\"love my family xx proud mum, Salford reds fan\\ud83d\\udc79\\ud83d\\udc79\\ud83d\\udc79Masketeer \\ud83d\\ude37 Labour voting Manc.3.5% #FBPE Hate Tories and Brexit\"], [\"love my family xx proud mum, Salford reds fan\\ud83d\\udc79\\ud83d\\udc79\\ud83d\\udc79Masketeer \\ud83d\\ude37 Labour voting Manc.3.5% #FBPE Hate Tories and Brexit\"], [\"love my family xx proud mum, Salford reds fan\\ud83d\\udc79\\ud83d\\udc79\\ud83d\\udc79Masketeer \\ud83d\\ude37 Labour voting Manc.3.5% #FBPE Hate Tories and Brexit\"], [\"love my family xx proud mum, Salford reds fan\\ud83d\\udc79\\ud83d\\udc79\\ud83d\\udc79Masketeer \\ud83d\\ude37 Labour voting Manc.3.5% #FBPE Hate Tories and Brexit\"], [\"love my family xx proud mum, Salford reds fan\\ud83d\\udc79\\ud83d\\udc79\\ud83d\\udc79Masketeer \\ud83d\\ude37 Labour voting Manc.3.5% #FBPE Hate Tories and Brexit\"], [\"love my family xx proud mum, Salford reds fan\\ud83d\\udc79\\ud83d\\udc79\\ud83d\\udc79Masketeer \\ud83d\\ude37 Labour voting Manc.3.5% #FBPE Hate Tories and Brexit\"], [\"love my family xx proud mum, Salford reds fan\\ud83d\\udc79\\ud83d\\udc79\\ud83d\\udc79Masketeer \\ud83d\\ude37 Labour voting Manc.3.5% #FBPE Hate Tories and Brexit\"], [\"love my family xx proud mum, Salford reds fan\\ud83d\\udc79\\ud83d\\udc79\\ud83d\\udc79Masketeer \\ud83d\\ude37 Labour voting Manc.3.5% #FBPE Hate Tories and Brexit\"], [\"love my family xx proud mum, Salford reds fan\\ud83d\\udc79\\ud83d\\udc79\\ud83d\\udc79Masketeer \\ud83d\\ude37 Labour voting Manc.3.5% #FBPE Hate Tories and Brexit\"], [\"love my family xx proud mum, Salford reds fan\\ud83d\\udc79\\ud83d\\udc79\\ud83d\\udc79Masketeer \\ud83d\\ude37 Labour voting Manc.3.5% #FBPE Hate Tories and Brexit\"], [\"love my family xx proud mum, Salford reds fan\\ud83d\\udc79\\ud83d\\udc79\\ud83d\\udc79Masketeer \\ud83d\\ude37 Labour voting Manc.3.5% #FBPE Hate Tories and Brexit\"], [\"love my family xx proud mum, Salford reds fan\\ud83d\\udc79\\ud83d\\udc79\\ud83d\\udc79Masketeer \\ud83d\\ude37 Labour voting Manc.3.5% #FBPE Hate Tories and Brexit\"], [\"love my family xx proud mum, Salford reds fan\\ud83d\\udc79\\ud83d\\udc79\\ud83d\\udc79Masketeer \\ud83d\\ude37 Labour voting Manc.3.5% #FBPE Hate Tories and Brexit\"], [\"love my family xx proud mum, Salford reds fan\\ud83d\\udc79\\ud83d\\udc79\\ud83d\\udc79Masketeer \\ud83d\\ude37 Labour voting Manc.3.5% #FBPE Hate Tories and Brexit\"], [\"love my family xx proud mum, Salford reds fan\\ud83d\\udc79\\ud83d\\udc79\\ud83d\\udc79Masketeer \\ud83d\\ude37 Labour voting Manc.3.5% #FBPE Hate Tories and Brexit\"], [\"love my family xx proud mum, Salford reds fan\\ud83d\\udc79\\ud83d\\udc79\\ud83d\\udc79Masketeer \\ud83d\\ude37 Labour voting Manc.3.5% #FBPE Hate Tories and Brexit\"], [\"love my family xx proud mum, Salford reds fan\\ud83d\\udc79\\ud83d\\udc79\\ud83d\\udc79Masketeer \\ud83d\\ude37 Labour voting Manc.3.5% #FBPE Hate Tories and Brexit\"], [\"love my family xx proud mum, Salford reds fan\\ud83d\\udc79\\ud83d\\udc79\\ud83d\\udc79Masketeer \\ud83d\\ude37 Labour voting Manc.3.5% #FBPE Hate Tories and Brexit\"], [\"love my family xx proud mum, Salford reds fan\\ud83d\\udc79\\ud83d\\udc79\\ud83d\\udc79Masketeer \\ud83d\\ude37 Labour voting Manc.3.5% #FBPE Hate Tories and Brexit\"], [\"love my family xx proud mum, Salford reds fan\\ud83d\\udc79\\ud83d\\udc79\\ud83d\\udc79Masketeer \\ud83d\\ude37 Labour voting Manc.3.5% #FBPE Hate Tories and Brexit\"], [\"#PostTransTransgender Happy redhead Mac lover, haters beware, MFSB Love IS THE Message \\u2764\\ufe0fEU Remainer & not a fan of politics & republican(Not the American sort)\"], [\".\"], [\"tha dunt know what tha dunt know cocka made in Scotland brought up in Yorkshire \\ud83d\\udcaa\\ud83c\\udffc don\\u2019t @ me if you\\u2019re a Tory\\ud83d\\udc00#StayHomeSaveLives\"], [\"40y a steelworker now retired,#British 100% \\ud83d\\udc99#travel \\ud83d\\udc99#Europe especially\\ud83c\\uddee\\ud83c\\uddf9 we out of EU \\ud83d\\udc99golf, fishing, cycling, animals + wife no woke,no dm\\u2019s FOLLOW BACK\"], [\"I'm here and there. everywhere.\"], [\"Big hairy gorilla, retired gas rig engineer. proud husband and grandad. one granddaughter living with us to provide stress in retirement.\"], [\"just be different\"], [\"Journalist, inquisitor\"], [\"Journalist, inquisitor\"], [\"Journalist, inquisitor\"], [\"Journalist, inquisitor\"], [\"Journalist, inquisitor\"], [\"Journalist, inquisitor\"], [\"Journalist, inquisitor\"], [\"I was born to create and grow businesses \\ud83c\\uddec\\ud83c\\udde7. Founder of @Teensexcellence \\ud83c\\uddf0\\ud83c\\uddea.I sell luxurious properties in Cyprus \\ud83c\\udde8\\ud83c\\uddfe. Founder of Marketing Giants\"], [\"\"], [\"Oil stocks and shares investor, value identifier.\"], [\"\"], [\"Covert Harassment UK closed. We operated on a voluntary basis to advise about sonic attacks against civilians in the UK and Ireland. Yad Vashem\"], [\"\"], [\"Offence is free, take all you like.\\nCruelty to animals is despicable.\\n#BLACKOLIVESMATTER. RT not endorsement obvs.\"], [\"Offence is free, take all you like.\\nCruelty to animals is despicable.\\n#BLACKOLIVESMATTER. RT not endorsement obvs.\"], [\"Offence is free, take all you like.\\nCruelty to animals is despicable.\\n#BLACKOLIVESMATTER. RT not endorsement obvs.\"], [\"Offence is free, take all you like.\\nCruelty to animals is despicable.\\n#BLACKOLIVESMATTER. RT not endorsement obvs.\"], [\"Dad to 2 amazing kids.\\nFounder member of @thebrasspack.\"], [\"\"], [\"Talking Sense with Charlie Pontoon\"], [\"South African, in London.\\nAnti-racism as a love language.\"], [\"Vancouverite \\ud83c\\udde8\\ud83c\\udde6 living in \\ud83c\\uddec\\ud83c\\udde7 Grandmother to 4, incl one with autism. UBI, universal healthcare, open borders, end tax havens. Also career advisor.\"], [\"Nope i didn\\u2019t miss a thing wink wink .\\ud83d\\ude09\\ud83d\\ude09\"], [\"#runner \\ud83c\\udfc3\\u200d\\u2640\\ufe0f #tennis \\ud83c\\udfbe wife, mum, publisher, mini orchard grower, #Hefeweizen obsessive \\ud83c\\udf7a #foodie who loves chicken and steak (not usually at the same time \\ud83d\\ude00)\"], [\"Retweets not always endorsements\"], [\"Professional beach cleaner, part-time bon viveur, pot head. Don\\u2019t follow me, follow @ntfc\"], [\"Hey You Got Drugs? by Tove Lo threw the first brick at Stonewall. He/him\"], [\"\"], [\"Christian Brothers educated son of Liverpool and currently on missionary work in deepest Devon. I block White Lives Matter racists.\"], [\"\"], [\"Male | Patriot | Gen X | All Lives Matter \\n_______________________________________\\nShadowbanned & Replies De-boosted...so I'm definitely on the correct side!\"], [\"Writer/Journalist type still occasionally styling by (coughs) popular demand.\"], [\"\"], [\"\"], [\"\"], [\"\"], [\"I love Goats\"], [\"Retired Senior Psychiatric Nurse. Press Officer, Club Historian,Life  Member @ Maesteg RFC #7777\"], [\"I\\u2019ll do anything for any one except for you, you\\u2019re a Cunt...\"], [\"Blue Moon Maniac Ironman\"], [\"old fashioned where women are concerned. supportive and honest.\"], [\"Enough of the corruption! Where is the humanity? It\\u2019s definitely OK \\ud83d\\udc4c to be WHITE.\"], [\"\"], [\"Screaming into the void. Sometimes it screams back. Sometimes it even looks back.\"], [\"\\ud83c\\udff3\\ufe0f\\u200d\\ud83c\\udf08\\ud83c\\uddea\\ud83c\\uddfaAlways punch a Nazi \\ud83c\\uddea\\ud83c\\uddfa\\ud83c\\udff3\\ufe0f\\u200d\\ud83c\\udf08\"], [\"Mummy & Gwendles - trying to live our best life here in the Cotswolds - no matter what life throws at us!\"], [\"I am me\"], [\"It's curved, but only very slightly, it stops it dragging on the ground.\"], [\"Old and grumpy.\\nDont follow and dont want followed!\"], [\"Running skincare company with #plainclaire. Focus is on products for those with dry &  sensitive skin. Check our site for more details!\"], [\"A disabled journalist & specialist driver also wannabe travel writer & food critic. And a walking pile of contradictions :) and now I'm looking for work again!\"], [\"Full time Biochemist. Part time trader whilst walking the dog. Non-practicing solicitor. Studying further degree in criminology. \\ud83d\\udcda\"], [\"I believe in the kindness of humans and that this will lead to a fairer world\"], [\"Cricket lover, I'm a Scot living in The North. Celtic & Liverpool fan. I detest greed & inequality\"], [\"coast to coast doing the most, you can\\u2019t stop me unless you\\u2019re a ghost \\ud83c\\udf19 24, she/her, pisces, pokemon master \\u2728 I work in children\\u2019s books \\ud83d\\udcda\"], [\"Originally Joined Twitter 2010. Former journalist, artist, views are my own. All my tweets have typos\\ud83d\\ude02\\ud83d\\ude48\"], [\"Blocked by @AngelaRayner.\\ud83e\\udd71 \\nRTNE\\nOn Parler @Avocet\"], [\"News, Debate, Challenge. We are not scared to challenge greed, far left, race baiters, anti white views and bullies \\u270a\\ud83c\\udffb\"], [\"\"], [\"Life is not a fairy tale with happy endings. Never trust anyone!\"], [\"Hater of Ideologies - Cockney Scotsman - #MyLifeMatters - I aint even #kneeling for Zod - And I will have my vengeance, in this life or the next - #nonPTBO\"], [\"It wasnae me who grassed\"], [\"#RussiaBoughtBrexit \\ud83c\\uddf7\\ud83c\\uddfa EqualityForAll \\ud83d\\ude4f #BLM #FkFascism #JoinEU \\ud83c\\uddea\\ud83c\\uddfa\\ud83e\\udd81 \\u0410\\u0434\\u0432\\u043e\\u043a\\u0430\\u0442-\\u0430\\u043a\\u0442\\u0438\\u0432\\u0438\\u0441\\u0442 #PushOffPutin \\ud83d\\ude08RTs are not an adoption of content \\ud83d\\ude07\"], [\"save the turtles | MUFC Stretford End \\ud83c\\uddfe\\ud83c\\uddea\"], [\"Author, Publisher, Chef, Project Manager, Director, Antiques Dealer, Met Pele, Darts vs Bristow, Bluebird ST Holder, 92Club, Dad 2Boys, Been on TV loads, Hubby\"], [\"\"], [\"Professional Photographer, Automotive photography, Fashion photography, Photojournalist, Photoshop Specialist, Digital Artist, Eco Cyclist, Saxophone player\"], [\"\"], [\"UK Tax Payer\"], [\"\\u00a360k debt per household, the Tories have run up during this government. Please be less gullible.\\nOne Y chromosome.\"], [\"Love Nottingham Forest since 1967. Best supporters in the world. Mod forever.\"], [\"meme (pronounced https://t.co/xchYHT0JyR)\"], [\"Neurodiverse! trying to navigate adult life with ASD,ADHD, Support worker/student bit of a history (ptsd) flawed but continually developing!\"], [\"Be kind to animals or just kill yourself.\\n\\ud83c\\udde8\\ud83c\\uddff \\ud83c\\uddeb\\ud83c\\uddf7 \\ud83c\\udde7\\ud83c\\uddea \\ud83c\\uddf3\\ud83c\\uddf1 \\ud83c\\udde9\\ud83c\\uddf0 \\ud83c\\udde9\\ud83c\\uddea \\ud83c\\uddf5\\ud83c\\uddf1 \\ud83c\\udde6\\ud83c\\uddf9 \\ud83c\\udde8\\ud83c\\udded \\ud83c\\uddec\\ud83c\\uddf7 \\ud83c\\uddea\\ud83c\\uddf8 \\ud83c\\uddf5\\ud83c\\uddf9 \\ud83c\\uddfa\\ud83c\\uddf8 \\ud83c\\uddef\\ud83c\\uddf5 \\ud83c\\uddee\\ud83c\\uddf9 \\ud83c\\uddfb\\ud83c\\udde6\"], [\"Award winning, BBC Featured brand \\ud83c\\uddf3\\ud83c\\uddec\\ud83c\\uddec\\ud83c\\udded Created by two Nigerian sisters \\ud83d\\udc6f\\u200d\\u2640\\ufe0f Hand made for you \\ud83d\\udc83\\ud83c\\udffd Doing it for the culture \\u270a\\ud83c\\udffe\"], [\"Veteran Royal Marine honoured to have served Queen & country. Glass positively half full. Not PC. #FreedomIsNotFree #ArmedForcesCovenant #Brexit\"], [\"Completion  9/11/20\"], [\"Patton and Powell were right. \\n\\n21\"], [\"\\ud83d\\udd4b#blacklivesmatter keep c\\u00f4t\\u00e9 d\\u2019ivoire out your mouth xx\"], [\"Citizenship/RE teacher and Life Coach | Supporting people to define and develop their purpose and legacy | ACT Early Career Teaching Ambassador\\ud83c\\udf99#LYLPodcast\"], [\"Free media don't be slave to politics. Passion with Compassion across all borders, more in common than divides NO 2 Palm Oil. Cut plastic Cut sugar. B Kind\"], [\"Free media don't be slave to politics. Passion with Compassion across all borders, more in common than divides NO 2 Palm Oil. Cut plastic Cut sugar. B Kind\"], [\"winging life. opinionated. don\\u2019t get to stressed with life.\"], [\"\"], [\"General News Royal Family Weather Politics Music R&B UK Top 40 Dance and Electronica History Health\"], [\"Autistic lone Mum of 2, with MS. Hoomum to @Billythe_kat @HrcGeorge\\ud83d\\udc69\\ud83c\\udffc\\u200d\\ud83e\\uddbc#spoonie #MSer #Ace *She/her\\u270b#GTTO #DemocraticSocialist *RTs not an endorsement*\"], [\"Make it make sense.....Based in the UK/Sicily/Malta.\"], [\"Make it make sense.....Based in the UK/Sicily/Malta.\"], [\"\\ud83c\\uddec\\ud83c\\udde7\"], [\"Bringing You All The News From The Roads Reporting What Reporters Wont\"], [\"Friendly, fun loving, VERY loving, caring, So blessed and grateful to be here alive and healthy. I got common sense. I give a damn. LOVE MUSIC! Enjoy movies :-)\"], [\"#MORPHYVA: a piss ark?!                  Certified genius and model! hi ! \\ud83d\\ude04\\u270c\\ud83c\\udffb pfp art; @sarasapens\"], [\"ExRugby&good golfer.In2my own Classic Cars. Crisis management&Sop firm&big Comms. MSc acii Gent but vehemently anti greed&pro EU&Scotland\"], [\"Outdated attitudes. Treats objects like women.  Gender: 61152674\"], [\"Season ticket holder in the Sir Bobby Robson, for my sins. Emergency services supporter. All things football , trying to better my 28k OR finish #FPL #ITFC.OSRS\"], [\"G2HO manufacturer of History and Hobby clothing and gifts, perfect quirky products for all types of retail outlets. Metal signs, mugs, t-shirts, magnets etc\"], [\"\"], [\"I'm a good person\"], [\"Posts are my own and not for screen shots and sharing with employer.\"], [\"Business owner. I say it how it is. Truth doesn't care about your feelings. Oh, I love spam too!\"], [\"https://t.co/ntFHEHoVmN\"], [\"\"], [\"Scientist (physiologist), Dad, runner.\"], [\"\"], [\"\"], [\"Blocked by Al Murray. Who? you may ask and rightly so, a waste of a privileged Bedford School education? Or, one chosen, to distract while they rule/dismantle?\"], [\"Adored by millions once, under another hoofwanking spangletwat name,now just here for the laughs with a select few.\"], [\"Stand for what is right and True... even if it means standing alone. Mum of 1...my \\u2764\\ufe0f\"], [\"The 'Right' Time Is Now!\"], [\"Hospitality, Bars, Venue, Music, Cabaret & Entertainment Management. Lafayette, Goods Way, Bloomsbury, Alphabet Bars, Ronnie Scott\\u2019s, Boisdale, The Hippodrome\"], [\"Opinions my own and probably different to your own, doesn't make them any less valid though. Always a realist.  Yes, I'm bald, well spotted. Gen X\"], [\"Languages, Anime and Roller skating take priority. \\n\\u2661\\none makes money, one keeps me creative and one keeps me fit.\"], [\"Don\\u2019t believe everything you read...\"], [\"Don\\u2019t believe everything you read...\"], [\"Don\\u2019t believe everything you read...\"], [\"Don\\u2019t believe everything you read...\"], [\"Innocent instigator! From Essex but currently having a much better time enjoying London. I'm the f in fun\"], [\"\"], [\"A good life for everyone.\"], [\"Freelance Commercial Writer - Articles, Blogs, Web Content and eBooks. Love animals & interesting people.  RTs not necessarily endorsed but for debate. No DMs.\"], [\"Geordie, biker, vegan. Proud to have served for 31 years; Northumbria Police, Metropolitan Police and Greater Manchester Police. Animal sanctuary co owner. NUFC\"], [\"\"], [\"\"], [\"Disgusted! #FBPE Retweets not endorsements\"], [\"\"], [\"Bios with : #FBPE #LFC #SOCIALIST #BEKIND tend to indicate nasty,unhinged morons exc a few welcome exceptions of course. PS if you insult me,make it funny !\"], [\"\"], [\"Muso\"], [\"Wear a face mask!\"], [\"Leftist, don't even bother. FOIYDLTUK\\n  #alllivesmater\"], [\"Vacation Reassurance- securing your home whilst you're away. Ex Police officer (CRB checked) experienced in guardianship. Competitive rates (inc HD CCTV).\"], [\"Voter. When Labour wins we usually all win, unless there is a Labour Report Whitewash. Fighting back to preserve fairness for all, which typifies the true UK.\"], [\"Christian .. loves animals, nice people and our wonderful land. Brexiteer through and through ... #humbug to the surrender deal..\"], [\"Agbalagba in the making! You should call your mum often \\ud83d\\udcde \\ud83d\\udcde\"], [\"An incessant user of the F word. if easily offended please f--k off & follow someone else! :)\"], [\"The 3rd account of Johnnyboy cause i keep being a cunt upsetting cunts, but im also still anti cunts!\"], [\"Worldwide Breaking News Live via Twitter\"], [\"Streatham resident sharing the Streatham Love around\"], [\"Labour, republican, socialist. I'm retired due to Ehlers Danlos Syndrome. #EDS, Hypermobility. Register to vote.\"], [\"Cpfc fan & music lover\"], [\"17 \\ud83e\\uddd4\\ud83c\\udffd@ManUtd#GGMU \\ud83c\\uddfe\\ud83c\\uddea @lakers MUSLIM \\ud83d\\udd4b\\ud83d\\udd4c \\ud83c\\uddec\\ud83c\\udde7 #BLM\\u270a\\ud83c\\udfffGUJU\\ud83c\\uddee\\ud83c\\uddf3 redbulls \\ud83d\\udc02#freepalestine\\ud83c\\uddf5\\ud83c\\uddf8 #saveyemen All hail Jhon @fxiyxz 6\\u20191 #MartialFC\"], [\"Retired police officer. Love my family, martial arts, keeping fit, shooting and 50's and early 60's music, films and TV. Split my time between the U.S. and U.K.\"], [\"logistics specialist\"], [\"\"], [\"Everything we hear is an opinion, not a fact. \\nEverything we see is a perspective, not the truth.\\n\\u2015 Marcus Aurelius\"], [\"\"], [\"Professional IT Technician. Cyber Janitor.\\nInfoSEC, OpSec, History, Physics and SciFi.\\nOne is glad to be of service \\ud83d\\ude42 \\ud83d\\udd96\"], [\"Retired Leeds fan who loves history, politics and rock music\"], [\"ARSENAL FC \\u26bd\\ufe0f, On the Square \\ud83d\\udd32 :Irish blood \\u2618\\ud83c\\uddee\\ud83c\\uddea, English heart \\u2764\\ud83c\\udf39, this I\\u2019m made of There is no one on earth I\\u2019m afraid of And no regime can buy or sell me.\"], [\"\\u2764the NHS\\ud83d\\udc4fOn that, face facts. We know who and what the problem is Here's a clue, it's not\\ud83d\\udd1dNot the sausage!\\ud83d\\ude02That's a reward because I'm a hero, bon appetit!\"], [\"\"], [\"aging goff type, but don't let that put you off. I know tomorrow's gonna taste like cake\"], [\"Just want to have a relaxed fun life!\"], [\"\"], [\"Fight 4 Animals & Brexit.  My eternal wish is 4 NO more animal cruelty, halal/koshe, hunting, captivity, racing, working. Let them be free. BOYCOT MADE IN CHINA\"], [\"\\u201cIgnorance more frequently begets confidence than does knowledge.\\u201d -Charles Darwin\"], [\"\"], [\"Going where the evidence takes me ... \\ud83d\\udd0e\"], [\"Producer / Engineer / Levlz@live.co.uk https://t.co/b6sasSDI9b Stream Certi https://t.co/jCftpTodtQ\"], [\"Always Watching\"], [\"Maxfac Surgeon & Medical Director(Retd) Chair NCEPOD. Past President: BAOMS, EACMFS, FSSA, BAHNO, NEMLS. Ex RAF CCA. Hobby Flying (CPL/IR/FE/FI) Wife Diane.\"], [\"#ASD child social care DM's open\\n#Survivor #CSA #CSE #IBD #Crohns #nystagmus #dcfc\"], [\"Nigger\"], [\"Cornish born and bred, loves honesty,people who have an opinion and a good sense of humour, no time for bigots\"], [\"#Poverty Stories\"], [\"Pipe organ builder, organist, choir director, lover of good food and wine, socialist, Francophile, interested in peace, justice, fairness and tolerance.\"], [\"...non celebrity cook,unprofessional dancer, veteran golfer, Tottenham supporter, current cribbage champion \\ud83c\\uddf0\\ud83c\\uddfe..... sees the funny side!!\"], [\"Animal and plant lover.\"], [\"800m Athlete \\ud83c\\udfc3\\ud83c\\udfff\\u200d\\u2642\\ufe0f\"], [\"Vegan for the animals\\nVegan for the planet\\nVegan for kind people\"], [\"\"], [\"#Brexit\"], [\"Father,Son,Brother,Uncle.    QPR\"], [\"DFK and DFC. #HTTR  #Redskins\"], [\"Richmond London\"], [\"Lighting events films T.V, I breath arsenal #goonerfamily.\"], [\"In search of beauty & the truth #Forthemany #ALLHumanRights #toriesout #boycottfarrightmedia #BDS  #StopIsraelApartheid #GOPevil #fuckBrexit \\u270a\"], [\"One of the 18%. Retired from work not life. Leftie. Enjoy reading, politics, swimming against the tide, unions, credit unions, Shih Tzus, theatre & walking.\"], [\"I'm not proud of my tweets. Its like a form of tourettes and I can't help it.  I delete most of them, and you only see the sanitized ones. Be glad...  #NonVegan\"], [\"A Yorkshire lass originally!\"], [\"\"], [\"I think I lost my mind round the same time I lost my six pack.\"], [\"Not a lot\"], [\"Described by Wings as a traitor first class. Blocked also by Mr Wishart, my MP, who is paid to represent me and also by Bunter. Currently politically homeless.\"], [\"x x x x x x x x x x x x\"], [\"\"], [\"When walking just walk, When sitting just sit, When being just be....Above all, don't stray from your chosen path..\"], [\"Psychotherapist. Person. Woman. Man. Camera. TV\"], [\"\\ud83c\\uddec\\ud83c\\udde7\\ud83c\\udde7\\ud83c\\udde9\"], [\"{Youth Independent Advisory Board}  Advisor To the Young Mayor of Lewisham Chair of Young Advisors PROUD CAMPAIGNER\"], [\"8 june 1970\"], [\"im not a bot please dont ban me\"], [\"\\u262e\\ud83d\\udc9a\\ud83d\\udc99\\u270a\\ud83c\\udfff #Marxist #EcoSocialist #MMT #NHSNotForSale #Palestine #BDS  #Yemen #Vegan #AntiRacist  #ScrapUniversalCredit  \\ud83c\\udf08\\n#VivaEvo  https://t.co/yMMMvGra5s\"], [\"\"], [\"I might block myself, even I\\u2019m fed up with my shit \\ud83d\\udc4d\\ud83d\\ude02\"], [\"WARNING - may use humour to expose or criticise other people's stupidity or vices, especially in the world of contemporary politics.\"], [\"\"], [\"Electrical Engineer................................... If you don't like me, then hit DEL\"], [\"British, ProBrexit, Right leaning \\ud83c\\uddec\\ud83c\\udde7\\ud83c\\udff4\\udb40\\udc67\\udb40\\udc62\\udb40\\udc65\\udb40\\udc6e\\udb40\\udc67\\udb40\\udc7f\"], [\"British, ProBrexit, Right leaning \\ud83c\\uddec\\ud83c\\udde7\\ud83c\\udff4\\udb40\\udc67\\udb40\\udc62\\udb40\\udc65\\udb40\\udc6e\\udb40\\udc67\\udb40\\udc7f\"], [\"British, ProBrexit, Right leaning \\ud83c\\uddec\\ud83c\\udde7\\ud83c\\udff4\\udb40\\udc67\\udb40\\udc62\\udb40\\udc65\\udb40\\udc6e\\udb40\\udc67\\udb40\\udc7f\"], [\"British, ProBrexit, Right leaning \\ud83c\\uddec\\ud83c\\udde7\\ud83c\\udff4\\udb40\\udc67\\udb40\\udc62\\udb40\\udc65\\udb40\\udc6e\\udb40\\udc67\\udb40\\udc7f\"], [\"This is all we have...\"], [\"\"], [\"\"], [\"A better world for future generations. Love Animals,family life,travel. Christian. Support Army, RAF, Police,Navy & Fire Service. Brexit MAGA AllLivesMatter\"], [\"Collector of funky, house & disco music forever...vinyl junkie! Just Julie DJ \\u2764 Football crazy Yidette, lifelong Tottenham Hotspur fan. xxx TTID xxx\"], [\"Metro Hetro Retro. I used to vote Labour but since they went crazy not any more. I don\\u2019t have many followers but I like to keep a tight knit group.\"], [\"Done a bit of borstal 2 years In the scrubs now working as a debt collector for a bit of cash in the hand , Mixed Race, Mum from the Punjab father from Peckham\"], [\"\"], [\"Guitar player. Lover of Tattooed ladies, rock, metal and Sci-fi to. Unattached.  Say hello or follow me if you're bored. DM me if you're insane! NHS & proud\"], [\"Don\\u2019t @ me if you don\\u2019t have a clue what you\\u2019re talking about.\"], [\"So glad we finally left the EU, love katie, OFAH, Politics, England, regular on various Radio stations. im ON here FB & VK\"], [\"\"], [\"Welsh, living in England\"], [\"Legal adviser to @wateruk . Bike enthusiast. Marylebone resident and cat lover.\"], [\"Headmaster at St Moribund\\u2019s College for the Rehabilitation of the Perpetually Offended. All tweets my opinion. Army Veteran. Does not play nice with idiots.\"], [\"Looking forward to 2021 !!\"], [\"\"], [\"male. over 60. These are my opinions and if you don\\u2019t like them, well, I have others.\"], [\"Enjoying life in London\"], [\"Retweets are not an endorsement ! XBOX gamer Assassins Creed Fan ! #PowerTV Hard Rock Hotel Regular #DC comics collector #AssassinsCreed #EndTheLockdown #KBF\"], [\"\"], [\"Hull City, Cricket. Despairing at lack of integrity, honesty and humanity of those that 'lead' for the few .\\ud83c\\uddea\\ud83c\\uddfa\\ud83c\\uddec\\ud83c\\udde7\\ud83c\\udfcf\\u26bd\\ufe0f\"], [\"EVIL EMPIRE\\nFALLING \\nTHIS IS A WAR\"], [\"Currently in the Gulf - Saudi Arabia\"], [\"\"], [\"Former senior civil servant. Former Labour Leader, Bath City Council. Exec Member @SME4LABOUR. Chair @VauxhallLabour. Tweets represent personal views.\"], [\"why hello there\"], [\"\"], [\"\"], [\"\"], [\"If you know you know the Arsenal. don\\u2019t judge a book by a cover read it you never know what\\u2019s inside\"], [\"\"], [\"\"], [\"Analogue by birth, digital by design !\"], [\"\\u2b50\\ufe0f\\ud83c\\udfc6\\u2b50\\ufe0f\\ud83c\\udfc6\\u2b50\\ufe0f\\ud83c\\udfc6\\u2b50\\ufe0f\\ud83c\\udfc6\\u2b50\\ufe0f\\ud83c\\udfc6\\u2b50\\ufe0f\\ud83c\\udfc6 I\\u2019m right handed but identity as left handed.                      #backtheblue.                                    #policelivesmatter\"], [\"\"], [\"#FBPE\"], [\"\"], [\"sanitised, medicated and staying away from idiots.\"], [\"20yrs supporting vulnerable peeps x C-PTSD survivor. In my free time I feebly attempt to find an agent for my inane ramblings & swear quite a lot on Twitter.\"], [\"CSA Survivor. Exposing the truth about Child Abuse, Holding authorities accountable and the Government to task! \\ud83d\\ude4f\"], [\"#WHUFC #80s nut #WoW PC Gamer & PSN - BSMako YouTube channel https://t.co/DOuaPWQNgI https://t.co/Skz56XTHHh #GoT\"], [\"Punk Rocking Leeds Fan who ought to know better\\ud83e\\udd37\\ud83c\\udffc\\u200d\\u2642\\ufe0f\"], [\"shitposting across the globe\\n~Do it because it\\u2019s funny. It\\u2019s funny to do bad things~\"], [\"London\"], [\"19. Producer. London.\"], [\"YouTube channel: C\\u2019est Chancy. Life with autoimmune Liver Disease, transplant & mental health. Retweets do not = endorsements/agreements\"], [\"Just waiting for a BBC adaptation of my books with Richard Armitage. One will continue to think of alternative words for spanked in the meantime.\"], [\"Immigrant. Not 'ex-pat'. \\ud83c\\uddeb\\ud83c\\uddf7\\nRedesign everything.\"], [\"The best MC you ever heard with no chain\"], [\"Cave Dweller, Saboteur, Traitor. Learning Guitar...slowly.\"], [\"\"], [\"\"], [\"Various jobs, Telegram Boy, Electrician, Police Officer & Black Cab Driver (Green Badge) Now retired\\ud83d\\ude01THFC season ticket holder.\"], [\"I am a cat without conviction\"], [\"Nerdy geek, writer, SciFi/Horror lover, big ball of fluffy fun, LLB Law Graduate.\"], [\"dragons\"], [\"Lifelong gamer on console & PC. Enjoy reading, board games, miniature painting & motorbikes.  cat & rat fan. early 80s Milennial. Forever single.\"], [\"Londoner  ,member of the Arnhem fellowship , love The jam, From the Jam and Northern soul\"], [\"As a person with epilepsy I introduced my Epilepsy Blog and Videos The Unwelcome Visitor (TUV) in an easy to understand way. These are my own personal views.\"], [\"Gooooner\"], [\"Addicted to cycling. Fabian Cancellara LEGEND.  Cycling changed my life.  Retired TPS-Toronto not Timmins  follower of Law enforcement, the Military & cycling\"], [\"\"], [\"\"], [\"\"], [\"Musings of a single dad, part owner of a 5 year old beautiful little girl. Share trader, transport boffin and high IQ geek...sometimes \\ud83d\\udc68\\u200d\\ud83d\\udc67\"], [\"Me, me, meeeellennial \\nEver-so-slightly Right-of-centre\\nEnglish, from the toe of my Tricker\\u2019s booties to the laces of my Westwood corseted dress\"], [\"Economist, Zionist, campaigner against antisemitism, Remainer, #COYS #EveryLifeMatters\"], [\"\"], [\"\\\"He may look like an idiot and talk like an idiot but don't let that fool you. He really is an idiot.\\u201d\\nGroucho Marx\"], [\"No bullshit here .Will not tolerate Government #covid19 & #lockdown lies .Truthseeker for Madeleine #McCann & children with no voice..truth is all in the #\"], [\"#NEVER BEND THE KNEE\"], [\"Linguistics and Languages Academic. Comedy. Writer. Musician. Family, Disabilities and Housing Law Consultant. Economics. No hobbies.\"], [\"Laugh a lot, love with all your might, make a difference! we only get one go at it. life isn\\u2019t a rehearsal!\"], [\"Life long Yiddo\"], [\"Journalist, Digital Consultant and Producer working with Brands and Content Creators. https://t.co/zK0r4I0MjP\"], [\"British veteran. Patriot.  Bored of left negativity and press lies.\"], [\"\"], [\"London boy\"], [\"\"], [\"feminist, left wing, lawyer learning welsh\"], [\"\"], [\"\"], [\"\"], [\"\"], [\"Science - maybe. Films and TV - probably. Food - definitely. Memes ranging from hilarious to doom, according to my mood. Chicken manages this account.\"], [\"ex-honorary-Glasgow gal; now full time financial services word nerd. opinions abound\"]], \"hoverlabel\": {\"namelength\": 0}, \"hovertemplate\": \"RW_prediction=False<br>Subjectivity=%{x}<br>Polarity=%{y}<br>Bios=%{customdata[0]}\", \"legendgroup\": \"RW_prediction=False\", \"marker\": {\"color\": \"#636efa\", \"symbol\": \"circle\"}, \"mode\": \"markers\", \"name\": \"RW_prediction=False\", \"showlegend\": true, \"type\": \"scattergl\", \"x\": [0.5, 0.55, 0.0, 0.3796296296296296, 0.6333333333333333, 0.8178571428571428, 0.0, 0.0, 0.4166666666666667, 0.4166666666666667, 1.0, 0.0, 0.0, 0.0, 0.3942857142857143, 0.525, 0.35151515151515156, 0.8500000000000001, 0.3944444444444445, 0.5816666666666667, 0.0, 0.0, 0.0, 0.0, 0.0, 0.4033333333333333, 0.55, 0.6, 0.5916666666666667, 0.3, 0.0, 0.75, 0.0, 0.5, 0.0, 0.0, 0.0, 0.0, 0.75, 0.8888888888888888, 0.4, 0.6, 0.05, 1.0, 0.0, 0.0, 0.0, 0.65, 0.625, 0.3, 0.0, 0.0, 0.725, 0.0, 0.21666666666666667, 0.5, 0.0, 0.0, 0.0, 0.0, 0.625, 0.8666666666666667, 0.0, 0.4, 0.48333333333333334, 0.0, 0.4, 0.375, 0.6, 0.75, 0.7178571428571429, 0.0, 0.0, 0.33333333333333337, 0.3, 0.0, 0.5, 0.0, 0.5, 1.0, 0.0, 0.2851851851851852, 0.0, 0.45, 0.0, 1.0, 0.6666666666666666, 0.65, 0.9, 0.0, 0.29583333333333334, 0.12777777777777777, 0.55, 0.43333333333333335, 0.0, 0.0, 0.6399999999999999, 0.28863636363636364, 0.0, 0.95, 0.0, 0.5626262626262627, 0.0, 0.0, 0.0, 0.0, 0.0, 0.3392857142857143, 0.5125, 0.0, 0.4, 0.0, 0.36250000000000004, 0.43333333333333335, 0.5333333333333333, 0.5277777777777778, 0.9, 0.0, 1.0, 0.0, 0.0, 0.0, 0.5, 0.5222222222222223, 0.0, 0.7857142857142857, 0.0, 0.0, 0.3222222222222222, 0.375, 0.64, 0.0, 0.2, 0.0, 0.0, 0.0, 0.2888888888888889, 0.26666666666666666, 0.33999999999999997, 0.0, 1.0, 0.5357142857142857, 0.7035714285714286, 0.7166666666666667, 0.0, 0.0, 0.06666666666666667, 0.3333333333333333, 0.0, 0.9, 0.44166666666666665, 0.125, 0.5, 0.0, 0.0, 0.0, 0.0, 0.5, 0.4777777777777777, 0.5, 0.2, 0.0, 0.3333333333333333, 0.0, 0.4777777777777778, 0.5, 0.4, 0.43333333333333335, 0.43333333333333335, 0.0, 0.45, 0.0, 0.0, 0.33571428571428574, 0.0, 0.0, 0.0, 0.0, 0.0, 0.0, 0.0, 0.6, 0.7, 0.5777777777777778, 0.75, 0.0, 0.0, 0.0, 0.0, 0.6333333333333333, 0.0, 0.0, 0.0, 0.0, 0.0, 0.0, 0.4375, 0.325, 0.0, 0.0, 0.3833333333333333, 0.0, 0.0, 0.0, 0.0, 0.0, 0.0, 0.0, 0.0, 0.0, 0.0, 0.5225, 0.2, 0.0, 0.0, 0.0, 0.2, 0.35, 0.0, 0.8, 0.5, 0.43333333333333335, 0.10000000000000002, 0.0, 0.5462962962962963, 0.5, 0.1, 0.55, 0.6000000000000001, 0.1, 0.0, 1.0, 0.0, 0.9, 0.6000000000000001, 0.3611111111111111, 0.5166666666666667, 0.75, 1.0, 0.43333333333333335, 0.0, 0.0, 0.75, 0.0, 0.0, 0.7666666666666666, 0.30000000000000004, 0.0, 0.0, 0.0, 0.0, 0.0, 1.0, 1.0, 0.0, 0.6, 0.5, 0.39166666666666666, 0.39166666666666666, 0.43333333333333335, 0.43333333333333335, 0.8833333333333333, 0.4, 0.45, 0.5308333333333333, 1.0, 0.0, 0.1, 0.6791666666666667, 0.0, 0.0, 0.43333333333333335, 0.2722222222222222, 0.0, 0.5, 0.0, 0.5854166666666667, 0.5854166666666667, 0.6000000000000001, 0.6000000000000001, 0.6000000000000001, 0.6000000000000001, 0.0, 0.3416666666666666, 1.0, 0.0, 0.0, 0.14444444444444446, 0.4444444444444445, 0.6666666666666666, 0.43333333333333335, 0.0, 1.0, 0.45, 0.9, 0.0, 0.9, 0.0, 0.0, 0.0, 0.3, 0.41150793650793654, 0.1, 0.0, 0.7, 0.5, 1.0, 0.0, 0.4, 1.0, 0.46875, 0.5, 0.0, 0.6, 0.4666666666666667, 0.43333333333333335, 0.675, 0.4666666666666667, 1.0, 0.2888888888888889, 0.0, 0.0, 0.6000000000000001, 0.0, 0.0, 0.0, 0.1, 0.1, 0.3, 0.3, 0.0, 0.0, 0.0, 0.0, 0.7, 0.7, 0.625, 0.625, 0.0, 0.0, 0.6, 0.4, 0.0, 0.0, 0.1, 0.5, 0.8888888888888888, 0.425, 0.75, 0.75, 0.75, 0.75, 0.21428571428571427, 0.0, 0.33333333333333337, 0.0, 0.4, 0.5, 0.45, 0.875, 0.0, 0.175, 0.6416666666666667, 0.0, 0.5, 1.0, 0.0, 0.7, 0.75, 0.9, 0.0, 0.6285714285714286, 0.4366666666666667, 0.0, 0.475, 0.0, 0.3, 0.0, 1.0, 0.6, 0.5, 0.0, 0.3273809523809524, 0.9, 0.43333333333333335, 0.05, 0.05, 0.05, 0.05, 0.05, 0.0, 0.0, 0.0, 0.0, 0.0, 0.0, 0.0, 0.0, 0.0, 0.0, 0.6333333333333333, 0.6333333333333333, 0.6333333333333333, 0.6333333333333333, 0.6333333333333333, 0.0, 0.0, 0.0, 0.0, 0.0, 0.5, 0.5, 0.5, 0.5, 0.5, 0.0, 0.0, 0.0, 0.0, 0.0, 0.08333333333333334, 0.08333333333333334, 0.08333333333333334, 0.08333333333333334, 0.08333333333333334, 0.375, 0.375, 0.375, 0.375, 0.375, 0.5305555555555556, 0.5305555555555556, 0.5305555555555556, 0.5305555555555556, 0.5305555555555556, 0.0, 0.0, 0.0, 0.0, 0.0, 0.45238095238095233, 0.7597222222222222, 0.2, 0.5, 0.5380952380952381, 0.5, 0.6944444444444444, 1.0, 0.0, 0.75, 0.44000000000000006, 0.6, 0.0, 1.0, 0.15000000000000002, 0.0, 0.0, 0.0, 0.525, 0.0, 0.8, 0.0, 0.0, 0.0, 0.19999999999999998, 0.75, 0.0, 0.0, 0.0, 0.0, 0.0, 0.1, 0.1, 0.3833333333333333, 0.3833333333333333, 0.75, 0.0, 0.0, 0.0, 0.0, 0.0, 0.0, 0.0, 0.44523809523809527, 0.7, 0.2875, 0.0, 0.26785714285714285, 0.8, 0.43333333333333335, 0.65, 0.0, 0.625, 0.41666666666666663, 0.6571428571428571, 0.75, 0.2833333333333333, 0.21666666666666667, 0.30000000000000004, 0.0, 1.0, 0.0, 0.10000000000000002, 0.6666666666666666, 0.0, 0.6599999999999999, 0.6599999999999999, 0.41904761904761906, 0.41904761904761906, 0.0, 0.0, 0.0, 0.875, 0.7777777777777778, 0.0, 0.6977777777777777, 0.0, 0.0, 0.5, 0.5, 0.2577380952380952, 0.7962962962962963, 0.6875, 0.6222222222222222, 0.575, 0.0, 0.5777777777777777, 0.9166666666666667, 0.0, 0.4107142857142857, 0.25, 0.75, 0.0, 0.0, 0.0, 0.5, 0.45416666666666666, 1.0, 0.4845238095238095, 0.5, 1.0, 0.0, 0.75, 0.0, 0.0, 0.41111111111111104, 0.4238095238095238, 0.0, 0.0, 0.0, 0.0, 0.0, 0.0, 0.5, 0.6000000000000001, 0.5, 0.0, 0.5178571428571428, 1.0, 1.0, 0.0, 0.0, 0.2888888888888889, 0.2888888888888889, 0.0, 0.0, 0.0, 0.0, 0.0, 0.0, 0.0, 0.0, 0.3013888888888889, 0.5, 0.5, 0.0, 0.45208333333333334, 0.07500000000000001, 0.45, 0.8500000000000001, 0.47500000000000003, 0.47500000000000003, 0.47500000000000003, 0.1, 0.1, 0.1, 0.1, 0.1, 0.1, 0.1, 0.1, 0.1, 0.75, 0.0, 0.0, 0.75, 0.0, 0.75, 0.0, 0.43333333333333335, 0.7, 0.0, 0.5, 0.6, 0.0, 0.75, 0.0, 0.3625, 0.39166666666666666, 0.5208333333333334, 0.0, 0.625, 0.625, 0.8, 0.8, 0.48333333333333334, 0.95, 0.0, 0.0, 0.0, 0.0, 0.0, 0.0, 0.0, 0.0, 0.0, 0.0, 0.0, 0.0, 0.0, 0.0, 0.0, 0.0, 0.0, 0.0, 0.0, 0.0, 0.0, 0.0, 0.0, 0.0, 0.0, 0.0, 0.0, 0.0, 0.0, 0.0, 0.0, 0.0, 0.0, 0.0, 0.0, 0.0, 0.0, 0.0, 0.0, 0.0, 0.0, 0.0, 0.0, 0.0, 0.0, 0.0, 0.0, 0.2833333333333333, 0.0, 0.35, 0.575, 0.5, 0.5666666666666668, 0.0, 0.0, 0.0, 0.9, 0.0, 0.75, 0.0, 0.0, 0.5, 1.0, 0.0, 0.43333333333333335, 0.0, 0.0, 0.0, 0.0, 0.0, 0.0, 0.3633333333333334, 0.44848484848484843, 0.6444444444444445, 0.8, 0.0, 0.5597222222222222, 0.0, 0.4611111111111112, 0.0, 0.0, 0.26666666666666666, 0.0, 0.0, 0.28174603174603174, 0.4208333333333333, 0.5, 0.6666666666666666, 0.6888888888888888, 0.5357142857142857, 0.7, 0.75, 0.44166666666666665, 0.0, 0.22499999999999998, 0.0, 0.0, 1.0, 0.7166666666666667, 0.41785714285714287, 0.06666666666666667, 1.0, 0.6, 0.16666666666666666, 0.5166666666666666, 0.3111111111111111, 0.0, 0.5, 0.2, 0.55, 0.0, 0.4708333333333333, 0.29423076923076924, 0.525, 0.15, 0.3833333333333333, 0.33035714285714285, 0.0, 0.9, 0.52, 0.0, 0.55, 0.21333333333333332, 0.2833333333333333, 0.375, 1.0, 0.225, 0.0, 0.39999999999999997, 0.3125, 0.0, 0.0, 0.5604166666666667, 0.31666666666666665, 0.0, 0.0, 0.7, 0.0, 0.4777777777777778, 0.0, 0.0, 0.65, 0.0, 0.0, 0.43333333333333335, 0.0, 0.4722222222222222, 0.0, 0.17666666666666667, 0.45, 0.39999999999999997, 0.8452380952380952, 1.0, 0.3904761904761904, 0.125, 0.6666666666666666, 0.0, 0.3666666666666667, 0.525, 0.0, 0.0, 0.0, 0.4666666666666666, 0.3875, 0.0, 0.5416666666666666, 0.85, 0.85, 0.0, 0.0, 0.16666666666666666, 0.5, 0.3444444444444445, 0.0, 0.3452380952380952, 0.26666666666666666, 0.0, 0.0, 0.0, 0.05, 0.0, 0.4777777777777778, 0.5396825396825397, 0.0, 0.0, 0.0, 0.0, 0.525, 0.3, 0.5, 0.503125, 0.3666666666666667, 0.39499999999999996, 0.0, 0.0, 0.95, 0.0, 0.0, 0.5, 0.8, 0.0, 0.0, 0.35555555555555557, 0.7666666666666667, 0.6, 0.1, 0.6, 0.06666666666666667, 0.6805555555555555, 0.0, 0.0, 0.0, 0.44000000000000006, 0.0, 0.5, 0.48, 0.6, 0.18333333333333335, 0.2803571428571428, 0.6083333333333334, 0.47777777777777775, 1.0, 0.225, 0.0, 0.65, 0.0, 0.43333333333333335, 0.0, 0.6000000000000001, 0.6666666666666666, 0.22727272727272727, 0.5, 0.625, 0.0, 0.846875, 0.0, 0.0, 0.4888888888888889, 0.85, 0.0, 0.1, 0.0, 0.5750000000000001, 0.7166666666666667, 0.0, 0.0, 0.0, 0.7083333333333334, 0.2888888888888889, 0.7666666666666666, 0.0, 0.06666666666666667, 0.09999999999999999, 0.09999999999999999, 0.5083333333333333, 0.5083333333333333, 0.53, 0.0, 0.05, 0.4, 0.39999999999999997, 0.29999999999999993, 0.0, 0.4, 0.0, 0.4916666666666667, 0.21666666666666667, 0.55, 0.0, 0.7589285714285714, 0.375, 0.0, 0.55, 0.0, 0.0, 0.0, 0.0, 0.24047619047619048, 0.0, 0.0, 0.11666666666666667, 0.55, 0.06666666666666667, 0.24166666666666664, 0.25, 0.78, 0.478125, 0.0, 0.0, 0.19999999999999998, 0.21666666666666665, 0.0, 0.21428571428571427, 0.35000000000000003, 0.0, 0.0, 0.6375, 0.0, 0.2833333333333333, 0.0, 0.7296296296296297, 0.15833333333333333, 0.0, 0.7, 0.0, 0.0, 0.4833333333333333, 1.0, 0.0, 0.0, 0.0, 0.0, 0.9, 0.30000000000000004, 0.75, 0.0, 0.3522222222222222, 0.0, 0.5, 0.75, 0.0, 0.5791666666666666, 0.43333333333333335, 0.5, 0.0, 0.30000000000000004, 0.6875, 0.4666666666666666, 0.2, 1.0, 0.4666666666666666, 0.0, 0.7166666666666667, 0.6583333333333333, 0.975, 1.0, 0.0, 0.9, 0.0, 0.0, 0.5619047619047618, 0.32857142857142857, 0.7250000000000001], \"xaxis\": \"x\", \"y\": [0.5, 0.5, 0.0, -0.018518518518518528, 5.551115123125783e-17, 0.4035714285714286, 0.0, 0.0, 0.03333333333333334, 0.03333333333333334, 0.0, 0.0, 0.0, 0.0, -0.07714285714285714, 0.5249999999999999, 0.22045454545454546, 0.45, 0.17222222222222222, 0.33916666666666667, 0.0, 0.0, 0.0, 0.0, 0.0, -0.15, 0.04999999999999999, -0.15, 0.04166666666666667, -0.3, 0.0, -0.2, 0.0, 0.5, 0.0, 0.0, 0.0, 0.0, 0.3, -0.25, -0.5, 0.1, 0.0, -0.5, 0.0, 0.0, 0.0, 0.14999999999999997, -0.35000000000000003, 0.0, 0.0, 0.0, 0.2, 0.0, -0.10416666666666666, 0.15, 0.0, 0.0, 0.0, 0.0, 0.12499999999999999, 0.5666666666666667, 0.0, 0.35, 0.375, 0.0, -0.4, -0.125, 0.06666666666666665, 0.8, 0.34285714285714286, 0.0, 0.0, -0.17604166666666665, -0.09375, 0.0, 0.1333333333333333, 0.0, 0.5, 1.0, 0.0, 0.11481481481481481, 0.0, 0.0, 0.0, 0.8, -0.6999999999999998, -0.36875, 0.4, 0.0, -0.13749999999999998, 0.0, -0.15625, -0.16666666666666666, 0.0, 0.0, 0.33, 0.16742424242424242, 0.0, 0.42500000000000004, 0.0, 0.18989898989898987, 0.0, 0.0, 0.0, 0.0, 0.0, 0.23214285714285715, -0.3625, 0.0, 0.1, 0.0, 0.41875, -0.16666666666666666, 0.39999999999999997, 0.2777777777777778, 0.4, 0.0, 0.8, 0.0, 0.0, 0.0, 0.15, 0.05555555555555556, 0.0, 0.29464285714285715, 0.0, 0.0, 0.15833333333333333, 0.175, -0.18, 0.0, 0.2, 0.0, 0.0, 0.0, -0.15555555555555559, 0.3, 0.45999999999999996, -0.2, -0.75, 0.2857142857142857, -0.14285714285714285, -0.3333333333333333, 0.0, 0.0, 0.0, 0.2333333333333333, 0.0, 0.25, 0.05, 0.0, 0.5, 0.0, 0.0, 0.0, 0.0, 0.5, 0.011111111111111127, -0.25, -0.3, 0.0, 0.3, 0.0, 0.11111111111111112, 0.5, 0.2, -0.16666666666666666, -0.16666666666666666, 0.0, -0.125, 0.0, 0.0, 0.05119047619047622, 0.0, 0.0, 0.0, 0.0, 0.0, 0.0, 0.0, -0.4, -0.3333333333333333, -0.15555555555555556, -0.425, 0.0, 0.0, 0.0, 0.0, 0.08333333333333333, 0.0, 0.0, 0.0, 0.0, 0.0, 0.0, 0.4, 0.13333333333333333, 0.0, 0.0, 0.10000000000000002, 0.0, 0.0, 0.0, 0.0, 0.0, 0.0, 0.0, 0.0, 0.0, 0.0, 0.2725, -0.1, 0.0, 0.0, 0.0, 0.2, -0.15, 0.0, 0.75, 0.13636363636363635, -0.16666666666666666, 0.06666666666666667, 0.0, 0.43333333333333335, 0.5, -0.15, 0.35, 0.7, 0.2, 0.0, 0.5, 0.0, -0.30000000000000004, 0.7, 0.08333333333333333, 0.1285714285714286, 0.75, 0.0, -0.16666666666666666, 0.0, 0.0, 0.815625, 0.0, 0.0, 0.11666666666666665, -0.04999999999999999, 0.0, 0.0, 0.0, 0.0, 0.0, 0.5, -1.0, 0.0, -0.4, 0.5, 0.15, 0.15, -0.16666666666666666, -0.16666666666666666, 0.4166666666666667, 0.8125, 0.07500000000000001, -0.12406249999999999, 0.6, 0.0, 0.2, -0.016666666666666663, 0.0, 0.0, -0.16666666666666666, -0.03888888888888888, 0.0, 0.39999999999999997, 0.0, 0.20208333333333334, 0.20208333333333334, 0.7, 0.7, 0.7, 0.7, 0.0, 0.060416666666666674, 0.8, 0.0, 0.0, -0.07777777777777779, 0.062037037037037036, -0.16666666666666666, 0.08333333333333333, 0.0, 0.4, 0.34791666666666665, 0.4, 0.0, -0.5, 0.0, 0.0, 0.0, 1.0, 0.11984126984126985, 0.0, 0.0, -0.625, 0.0, 0.0, 0.0, -0.1, -1.0, 0.19375, 0.5, 0.0, -0.4, 0.16666666666666669, -0.16666666666666666, 0.225, 0.16666666666666669, -1.0, -0.15555555555555559, 0.0, 0.0, 0.7, 0.0, 0.0, 0.0, 0.0, 0.0, 1.0, 1.0, 0.0, 0.0, 0.0, 0.0, -0.4, -0.4, 0.125, 0.125, 0.0, 0.0, 0.5, 0.0, 0.0, 0.0, 0.2, 0.625, 0.5, 0.4, -0.25, -0.25, 0.0, 0.0, -0.07142857142857142, 0.0, 0.36666666666666664, -0.2, -0.1, -0.45, 0.225, 0.0, 0.0, -0.175, 0.20833333333333334, 0.0, 0.5, 1.0, 0.0, 0.4, -0.425, 0.25, 0.0, 0.2, -0.009523809523809509, 0.0, 0.016666666666666635, 0.0, -0.05555555555555555, 0.0, 1.0, -0.4000000000000001, -0.14666666666666667, 0.0, 0.09791666666666667, 0.7, 0.25364583333333335, -0.1, -0.1, -0.1, -0.1, -0.1, 0.0, 0.0, 0.0, 0.0, 0.0, 0.0, 0.0, 0.0, 0.0, 0.0, 0.06666666666666667, 0.06666666666666667, 0.06666666666666667, 0.06666666666666667, 0.06666666666666667, 0.0, 0.0, 0.0, 0.0, 0.0, -0.25, -0.25, -0.25, -0.25, -0.25, 0.0, 0.0, 0.0, 0.0, 0.0, -0.1, -0.1, -0.1, -0.1, -0.1, -0.125, -0.125, -0.125, -0.125, -0.125, -0.05555555555555556, -0.05555555555555556, -0.05555555555555556, -0.05555555555555556, -0.05555555555555556, 0.0, 0.0, 0.0, 0.0, 0.0, 0.23214285714285715, 0.2861111111111111, 0.2, -0.05, -0.3904761904761905, 0.625, 0.5, 0.8, 0.0, 0.45, 0.11999999999999997, 0.475, 0.0, -0.25, 0.2, 0.0, 0.0, 0.0, -0.30833333333333335, 0.0, -0.8, 0.0, 0.0, 0.0, 0.20000000000000004, 0.8, 0.0, 0.0, 0.0, 0.0, 0.0, 0.0, 0.0, -0.2833333333333333, -0.2833333333333333, -0.4, 0.0, 0.0, 0.0, 0.0, 0.0, 0.0, 0.0, -0.12142857142857143, -0.04999999999999999, -0.0875, 0.0, 0.14285714285714285, -0.2, -0.16666666666666666, 0.1, 0.0, 0.65, 0.375, 0.31428571428571433, 0.45, -0.08333333333333334, -0.08333333333333333, 0.24999999999999997, 0.0, -0.5, 0.0, -0.08333333333333333, -0.6999999999999998, 0.0, -0.39, -0.39, -0.2714285714285714, -0.2714285714285714, 0.0, 0.0, 0.0, 0.325, 0.0777777777777778, 0.0, 0.008888888888888908, 0.0, 0.0, 0.0, 0.5, 0.037500000000000006, 0.4666666666666666, 0.16249999999999998, 0.28888888888888886, 0.45, 0.0, -0.1111111111111111, -0.19444444444444445, 0.0, 0.23214285714285715, 0.25, -0.037500000000000006, 0.0, 0.0, 0.0, 0.5, -0.0625, -0.5625, 0.05952380952380952, 0.5, -0.5, 0.0, 0.0, 0.0, 0.0, 0.07222222222222223, 0.3464285714285715, 0.0, 0.0, 0.0, 0.0, 0.0, 0.0, 0.5, 0.7, 0.5, 0.0, 0.14285714285714285, 0.0, -1.0, 0.0, 0.0, -0.12777777777777777, -0.12777777777777777, 0.0, 0.0, 0.0, 0.0, 0.0, 0.0, 0.0, 0.0, 0.13333333333333333, 0.5, 0.3, 0.0, 0.09375, 0.11249999999999999, 0.3, 0.25, 0.22499999999999998, 0.22499999999999998, 0.22499999999999998, 0.1, 0.1, 0.1, 0.1, 0.1, 0.1, 0.1, 0.1, 0.1, 0.8, 0.0, 0.0, -0.25, 0.0, 0.4, 0.0, -0.16666666666666666, 0.0, 0.0, 0.5, -0.5, 0.0, 0.8, 0.0, 0.175, 0.2, -0.06250000000000003, 0.0, 0.5, 0.5, -0.6, -0.6, -0.25, -0.55, 0.0, 0.0, 0.0, 0.0, 0.0, 0.0, 0.0, 0.0, 0.0, 0.0, 0.0, 0.0, 0.0, 0.0, 0.0, 0.0, 0.0, 0.0, 0.0, 0.0, 0.0, 0.0, 0.0, 0.0, 0.0, 0.0, 0.0, 0.0, 0.0, 0.0, 0.0, 0.0, 0.0, 0.0, 0.0, 0.0, 0.0, 0.0, 0.0, 0.0, 0.0, 0.0, 0.0, 0.0, 0.0, 0.0, 0.0, -0.3125, 0.0, 0.35, 0.25, 0.625, 0.3666666666666667, 0.0, 0.0, 0.0, -0.35, 0.0, 0.0, 0.0, 0.0, 0.625, -1.0, 0.0, -0.16666666666666666, 0.0, 0.0, 0.0, 0.0, 0.0, 0.0, -0.11333333333333333, 0.2090909090909091, 0.11111111111111112, -0.6, 0.0, -0.011111111111111108, -0.05, -0.18888888888888888, 0.0, 0.0, -0.18333333333333335, 0.0, 0.0, 0.036904761904761905, 0.25, 0.5, -0.3333333333333333, -0.4666666666666666, 0.2857142857142857, 0.4, 0.0, 0.05000000000000001, 0.0, 0.05000000000000001, 0.0, 0.0, -0.7999999999999999, 0.21666666666666667, 0.10357142857142856, 0.0, 0.0, -0.4000000000000001, 0.04545454545454545, 0.18333333333333335, 0.19999999999999998, 0.0, 0.26785714285714285, 0.2, -0.0625, 0.0, 0.18333333333333332, 0.10416666666666667, 0.425, -0.016666666666666663, -0.07812500000000001, 0.11607142857142858, -0.05, -0.8, -0.41500000000000004, 0.0, -0.1, 0.08, 0.02083333333333333, -0.125, -0.5, -0.05, 0.0, -0.10000000000000002, 0.0625, 0.0, 0.0, -0.23958333333333331, 0.016666666666666677, 0.0, 0.0, -0.2, -0.2, 0.2777777777777778, 0.0, 0.0, 0.3625, 0.0, 0.0, -0.16666666666666666, 0.0, 0.15, 0.0, 0.16, 0.35, -0.30000000000000004, 0.2619047619047619, -1.0, 0.21428571428571427, -0.05833333333333333, 0.23750000000000002, 0.0, 0.13333333333333333, -0.07499999999999998, 0.0, 0.0, 0.0, -0.10694444444444444, 0.1125, 0.0, 0.3333333333333333, -0.7, -0.7, 0.0, 0.0, 0.08333333333333333, 0.17045454545454544, 0.17777777777777778, 0.0, 0.1952380952380952, 0.03333333333333333, 0.0, 0.0, 0.0, -0.1, 0.0, -0.3918402777777778, -0.011904761904761899, 0.0, 0.0, 0.0, 0.0, -0.125, -0.07500000000000001, 0.12, -0.11875, 0.16666666666666666, 0.20500000000000002, 0.0, 0.0, -0.5, 0.0, 0.0, -0.3166666666666666, 0.375, 0.0, 0.0, 0.3444444444444444, -0.10000000000000002, -0.10000000000000002, 0.0, 0.26666666666666666, 0.0, -0.1527777777777778, 0.0, 0.0, 0.0, -0.24000000000000005, 0.0, 0.5, 0.13666666666666666, -0.4, -0.15, 0.09226190476190477, 0.04583333333333334, -0.125, 0.013888888888888876, 0.17500000000000002, 0.0, -0.04999999999999999, 0.0, -0.16666666666666666, 0.0, -0.15000000000000002, -0.3333333333333333, 0.06818181818181818, 0.25, 0.0, 0.0, -0.278125, 0.0, 0.0, 0.19999999999999998, -0.35, 0.0, 0.1, 0.0, -0.08333333333333333, -0.08333333333333333, 0.0, 0.3, 0.0, -0.17708333333333334, -0.15555555555555559, -0.3333333333333333, 0.0, -0.016666666666666666, -0.10833333333333334, -0.10833333333333334, -0.13333333333333333, -0.13333333333333333, -0.16999999999999998, 0.0, -0.07500000000000001, 0.1, -0.6666666666666666, -0.5, 0.0, 0.1, 0.0, -0.3, 0.125, -0.4, -0.05, 0.08955357142857143, -0.35, 0.0, 0.55, 0.0, 0.0, -0.05, 0.0, 0.07976190476190476, 0.0, 0.0, -0.043333333333333335, 0.05, -0.08333333333333333, 6.938893903907228e-18, 0.0, -0.178125, -0.19791666666666669, 0.0, 0.0, -0.16666666666666666, 0.012500000000000004, 0.0, -0.07142857142857142, -0.1416666666666667, 0.0, 0.0, 0.125, 0.0, -0.08333333333333333, 0.0, -0.3351851851851852, 0.08138020833333333, 0.0, -0.9375, 0.0, 0.0, -0.16666666666666666, -0.5, 0.0, 0.0, 0.0, 0.0, 0.4, -0.04999999999999999, 0.5681818181818181, 0.0, 0.07888888888888887, 0.0, 0.5, 1.0, 0.0, 0.3416666666666666, -0.16666666666666666, 0.7333333333333334, 0.0, 0.25, 0.1875, 0.3666666666666667, 0.2, 1.0, 0.0, 0.0, 0.4833333333333334, 0.2916666666666667, -0.024999999999999994, -0.625, 0.0, 0.6, 0.0, 0.0, -0.10753066378066378, 0.05, -0.05000000000000001], \"yaxis\": \"y\"}, {\"customdata\": [[\"Grumpy Gorilla on\\nParler : @mccarthybren13\\n\\ud83d\\udc99\\ud83c\\uddec\\ud83c\\udde7\\ud83d\\udc99\\ud83c\\udff4\\udb40\\udc67\\udb40\\udc62\\udb40\\udc65\\udb40\\udc6e\\udb40\\udc67\\udb40\\udc7f\\ud83d\\udc99\\ud83c\\uddfa\\ud83c\\uddf2\\ud83d\\udc99. \\nPro Brexit \\ud83c\\uddec\\ud83c\\udde7, Anti EU \\ud83c\\uddea\\ud83c\\uddfa, Love \\ud83c\\udff4\\udb40\\udc67\\udb40\\udc62\\udb40\\udc65\\udb40\\udc6e\\udb40\\udc67\\udb40\\udc7f\\ud83c\\uddec\\ud83c\\udde7\\nNot PC\\u274e, Hate Snowflakes\\u274e\\u26cf\\ufe0f\\u26cf\\ufe0f\"], [\"Brexiteer conservative adore Boris Johnson luv all music luv the garage groove single intelligent luv ancient history astronomy an my two doggies#\"], [\"A life long entrepreneur in small business lives an honest atheist life believing wholly in good Karma. I love Europe but I hate the European Union\"], [\"Tory among other things | West Midlands | Eurosceptic | @Conservatives\"], [\"Dagenham & Redbridge fan - Brexiteer - love travel but hate EU\"], [\"Dagenham & Redbridge fan - Brexiteer - love travel but hate EU\"], [\"Dagenham & Redbridge fan - Brexiteer - love travel but hate EU\"], [\"Dagenham & Redbridge fan - Brexiteer - love travel but hate EU\"], [\"Justice For The 96\"], [\"retired pe teacher looking for new adventures/employment. married with 25yr old  married son. ginner and proud. trains at Spire Boxing Academy, chesterfield.\"], [\"retired pe teacher looking for new adventures/employment. married with 25yr old  married son. ginner and proud. trains at Spire Boxing Academy, chesterfield.\"], [\"Love Boris Johnson. You may not all agree with me but I dont care. That's Democracy and Free Speech in action.\"], [\"Former FireFighter. Involved with FSNBF/FireFighters Charity for 55yrs. Passionate about the Charity, Fire & Rescue Service, people's rights & rights of way.\"], [\"\\ud83c\\udff4\\udb40\\udc67\\udb40\\udc62\\udb40\\udc65\\udb40\\udc6e\\udb40\\udc67\\udb40\\udc7f\\ud83c\\uddec\\ud83c\\udde7 #FTEU #BritishIndependence\"], [\"My pronouns are He, Him, They, Them, It, Xe, Xer, Xerox.\"], [\"RT & Like \\u2260 endorsement.\"], [\"Brexiteer. Backs free speech. Love family and friends. Proud Yorkshire lass. I don\\u2019t reply to DMs I\\u2019m afraid.\"], [\"British, London now Dorset \\ud83c\\uddec\\ud83c\\udde7. Former M-freemason 14 years-742. 6 months Ukraine military \\ud83c\\uddfa\\ud83c\\udde6, Kiev. 20 years internationally. 16 years British security. \\ud83d\\udd1e\"], [\"\\ud83c\\uddec\\ud83c\\udde7 \\ud83c\\uddff\\ud83c\\udde6 \\ud83d\\udc99 Made illegal crossing to the Uk on a flamingo. Now have a degree in graphic design, every cloud.\"], [\"An outspoken Messianic Jew who is against anti-white racism and disgusting Globalism. Sicarii is culture.\"], [\"Ex REME soldier British Army \\ud83c\\uddec\\ud83c\\udde7 , engineer, #nffc if you don\\u2019t like my views tough shit.\"], [\"Ex REME soldier British Army \\ud83c\\uddec\\ud83c\\udde7 , engineer, #nffc if you don\\u2019t like my views tough shit.\"], [\"United follower home and away. Also follow England in cricket and rugby. I  have no time for snowflakes, extreme lefties or anarchistic political movements.\"], [\"United follower home and away. Also follow England in cricket and rugby. I  have no time for snowflakes, extreme lefties or anarchistic political movements.\"], [\"The future is to manufacture in the UK, buy British and sell to the world\\nRetweet just means it caught my eye, not that I agree. If I say it I\\nmean it.\"], [\"Family Man.  ProBrexit. Dislike Leftie luvvies and the Undemocratic parties.  Dislike Islam in the UK, religious Invaders and people that choose not to see.\"], [\"Straight talking common sense.\\nAnti Woke.\\nLove Europe, hate the EU. \\nDislikes bad people.\\n#Livesmatter\"], [\"Brexiteer , am new to this politics no matter what Brexit is our democracy. NO EDL,BNP,TR BF For Britain on my page or followers views I have but respect others\"], [\"#Brexiteer & #Democracy \\ud83c\\uddec\\ud83c\\udde7 \\ud83d\\udcaa\\ud83c\\udffb#NoEUDeal #Brexit \\ud83c\\uddec\\ud83c\\udde7 \\ud83d\\udc4b\\ud83c\\udffb @LFC #Liverpool fan \\ud83d\\udc53 \\ud83d\\udcaa\\ud83c\\udffb \\nNovice on @parler_app \\ud83d\\ude0f\\ud83d\\udc4d\\ud83c\\udffb \\nLove \\u26bd\\ud83c\\udfc9\\ud83c\\udfc8\\ud83c\\udfcc\\ufe0f\\u200d\\u2642\\ufe0f\\u26f3#Cynical & #Atheist \\ud83d\\ude12\"], [\"conservative, anti racist, hates antisemitism, anti EU establishment, anti socialism\"], [\"Proud Englishman - Queen & Country - #nffc -  #boris supporter -  #trump supporter - Voted #brexit - UKUSA Special Relationship - Hate the EU - Never trust #MSM\"], [\"British, Brexit,rugby league & heavy metal \\ud83d\\udd31\\ud83c\\udf7e\\ud83c\\udf36\\ud83c\\udfc9\\ud83c\\udfba\\ud83c\\udfb8\\ud83c\\uddec\\ud83c\\udde7\"], [\"\\ud83c\\uddec\\ud83c\\udde7 100% PROUD TO BE BRITISH \\ud83c\\uddec\\ud83c\\udde7   Be advised the following Tweets on this Account feature attitudes & language from a previous era which may Offend \\ud83d\\udc4a\"], [\"No Boris = No Majority = No Tory Government\"], [\"Watching closely to ensure Brexit is implemented in full. Love Britain & British values. Voted both Labour &Tory.\"], [\"Actor, writer, Proud to be Welsh, proud to be British.\"], [\"Brexit \\u00fcber alles.  It's a no from me to the European protectionist cartel #Brexit\"], [\"Retweets are not endorsements, opinions only. Out of remission. #defundBBC #ScumMedia #NoSafeSpaceForJewHate #AllLivesMatter\"], [\"Ret Police Sgt & British Army,  \\ud83c\\uddec\\ud83c\\udde7 \\ud83c\\uddfa\\ud83c\\uddf8 support normality, proud British, pro Europe and US under Trump,  very anti EU. No deal is only real option!\"], [\"PA in Finance | Conservative | Gym addict, love animals & nature \\ud83d\\udc94\\ud83c\\udf38\\ud83d\\udc36\\ud83e\\udd86\\ud83d\\udc3f\\ud83c\\udf3c Pro Brexit | Pro free speech\"], [\"Retired, got bored, unretired. Ex Military, law abiding but willing to question law makers\"], [\"Retired, got bored, unretired. Ex Military, law abiding but willing to question law makers\"], [\"Retired, got bored, unretired. Ex Military, law abiding but willing to question law makers\"], [\"Retired, got bored, unretired. Ex Military, law abiding but willing to question law makers\"], [\"a proud Yorkshire man from god's own country.\"], [\"Rugby, Vizslas, Brexit, Hops and Grapes.Centrist. Ex Cop. Thin Blue Line fan.\"], [\"Brexit\\ud83c\\uddec\\ud83c\\udde7\\nBoris\\ud83d\\udc99\\nLove Trump\\ud83c\\uddfa\\ud83c\\uddf2\\nFreedom of speech\\ud83d\\ude01\\nI Follow back\\ud83d\\udc4d\\nNo Dm's please\\ud83d\\udeab\\nChronic pain sufferer\\ud83d\\ude14\"], [\"Tories every time ! No sanctimonious lefties please,  you\\u2019re likely to get blocked. All Olives Matter\"], [\"#BREXIT\\n#MAGA2020\\n#THEBITCH\\n#NOEMPATHY\\n#TOMMYROBISON\\n\\n\\ud83c\\uddec\\ud83c\\udde7\\n\\n@WELSHCELT\"], [\"Wrote \\\"NHS Dirty Secrets\\\". Vegan, WTO Brexit, anti-socialism, anti-Liberal, pro-sport (not football), pro-education, pro-environment, love science.\\n.\\ud83c\\uddec\\ud83c\\udde7\\ud83c\\udf7a\"], [\"Political & Social History, Husband, Dad, Grandad\"], [\"Proud brexiteer and Tory voter who detests liberals, wokeists and SJWs. Looking forward to a right wing utopia free from lefty bell ends.\"], [\"Fire Sprinkler Engineer, Fire Sprinkler Designer, Pro Gym, Proud British\"], [\"More support needed for our emergency service personnel \\ud83d\\ude92\\ud83d\\ude91\\ud83d\\ude93\"], [\"ex forces, love Europe..  hates the e.u. \\nUnited kingdom finally free of unelected tyranny...\"], [\"ex forces, love Europe..  hates the e.u. \\nUnited kingdom finally free of unelected tyranny...\"], [\"ex forces, love Europe..  hates the e.u. \\nUnited kingdom finally free of unelected tyranny...\"], [\"ex forces, love Europe..  hates the e.u. \\nUnited kingdom finally free of unelected tyranny...\"], [\"British Patriot. 1 of the 17.4million.\\nNO\\u270b\\ud83c\\udffcto Lefty \\ud83d\\udc02\\ud83d\\udca9\"], [\"Eastend born n bred..Hate injustice, selfish people, and lazy authorities! Supporter of our Police\"], [\"Eastend born n bred..Hate injustice, selfish people, and lazy authorities! Supporter of our Police\"], [\"Eastend born n bred..Hate injustice, selfish people, and lazy authorities! Supporter of our Police\"], [\"Eastend born n bred..Hate injustice, selfish people, and lazy authorities! Supporter of our Police\"], [\"Spurs loving Londoner. Political heroes: Tony Benn, Winston Churchill, Alan Johnson and Margaret Thatcher.  Work that one out. No DMs\"], [\"Proud Brit, Ex HMF, Brexit Fan, Anti EU, Anti Woke, Pro free Thinker \\ud83c\\uddec\\ud83c\\udde7\\ud83c\\udff4\\udb40\\udc67\\udb40\\udc62\\udb40\\udc65\\udb40\\udc6e\\udb40\\udc67\\udb40\\udc7f\\ud83c\\udff4\\udb40\\udc67\\udb40\\udc62\\udb40\\udc73\\udb40\\udc63\\udb40\\udc74\\udb40\\udc7f\\ud83c\\udff4\\udb40\\udc67\\udb40\\udc62\\udb40\\udc77\\udb40\\udc6c\\udb40\\udc73\\udb40\\udc7f no DMs I just won\\u2019t answer, I say funny shit\"], [\"Forex trader, Sarries Supporter, Ex Rugby Player, Ex Boxer, Ex Golfer, Ex Martial Artist, MS Sufferer, All of my opinions are my own. Dislike NHS admin.\"], [\"God Save The Queen & Her Police Service\"], [\"God Save The Queen & Her Police Service\"], [\"God Save The Queen & Her Police Service\"], [\"God Save The Queen & Her Police Service\"], [\"Mairead, Irish blood but true British patriot, Junglist, tarantula breeder, catholic, Brexit.  Insta:MaireadEvvo\"], [\"Brexiteer in the South East of England.  Hater of the dangerous EU Federalist dream. Very concerned about the Anti-White Marxist agenda of Black Lives Matter.\"], [\"Brexiteer -Equality - Integration - PC is Anti Freedom of Speech - Free Trade - No R3 Heathrow or HS2 - British Ales and Food - Rugby - No PM's\"], [\"Green Badge ...Pro Europe ...Anti EU \\nput GREAT back into Britain\"], [\"Ex smoker, Ex RAF, Socialist, Retrogaming old school. Everybody needs a hobby.\"], [\"Transfers to all London Airports\"], [\"Atheist Gooner! Humanist, anti childhood indoctrination, anti anti Vax, anti theism, but the dumbest mother fuckers are the flat earthers!\"], [\"fuck antifa and BLM scum love Tottenham despise VAR if you're a child don't bother mouthin off I'll bang your mum make you my stepkid\"], [\"Team #proudtobeME, #Civilengr, #Manutd,#Mothermary\"], [\"Supporter of Black Lives Matter. Human Rights Campaigner.\"], [\"Re-Tweets not necessarily an endorsement.\\nWill follow back\\nParler: https://t.co/609iyKnJbF\\nGab: https://t.co/SMTpvBXLGo\"], [\"Don't trust the MSM #ScumMedia. Snowflakes will be blocked. Pro Brexit. Will follow back. Every life matters! Follow me on Parler.... same username.\"], [\"Mum, Teacher, Early Years enthusiast, SENCO, loves dogs and Democracy. Brown and white \\ud83c\\udf08 Children are citizens too. Mercy Beguma #sayhername\"], [\"Pro MMA (3-1) Amateur (5-3), WFS Amateur MW Champ, BCMMA LHW Title contender, IMMAF Team UK, Elite MMA Agency. Blerd\"], [\"Security Controller at Middlesex University. Future Police Officer! Amateur entomologist. Christian (C of E). Single. UK\"], [\"Writer-Activist-Educator-Mum \\nFolkestone/London/Ayrshire \\nAgent @gordonwise \\n@SpelkFiction\\n#workingclasswriters \\n#WriteNowLive  #ACEsupported\"], [\"On Parler as Adamboyer.\\nFacts not emotions if you can't argue without getting offensive then you have lost.\"], [\"Proud to be English. Proud to be British. #TeamNigelFarage. #IStandWithIsrael If you\\u2019re like minded you\\u2019re welcome to follow me. #BritishIndependence #Brexit\"], [\"Conservative, Patriot and Brexiteer - Please no DMs.\"], [\"Retired, Lover of Theatre, married to David been together 30 years. Dads to Harvey our Jack Russell . \\ud83c\\udff4\\udb40\\udc67\\udb40\\udc62\\udb40\\udc65\\udb40\\udc6e\\udb40\\udc67\\udb40\\udc7f\\ud83c\\udff4\\udb40\\udc67\\udb40\\udc62\\udb40\\udc77\\udb40\\udc6c\\udb40\\udc73\\udb40\\udc7f\"], [\"Pro Europe, but EU isn't the answer. Islam has no place in civilised countries.\"], [\"An educational leader.  anti #FBPE anti #scummedia\"], [\"Retweets are not necessarily endorsements.\\nDisagree with politeness and/or humour... please!\"], [\"Pro Brexit. Anti EU dictatorship. No time for political correctness. I speak as I find.\\nPronouns: get a grip / fuck off!\"], [\"Voted for Brexit - I'm not a typical social media person, I am just an average guy who cares deeply about the future of his family and for his country \\ud83c\\uddec\\ud83c\\udde7\"], [\"#3.5% #FBPE. Appalled by this corrupt and amoral Tory government and its prominent supporters. Love art, reading, the continent, cats. No racists or Brexiters\"]], \"hoverlabel\": {\"namelength\": 0}, \"hovertemplate\": \"RW_prediction=True<br>Subjectivity=%{x}<br>Polarity=%{y}<br>Bios=%{customdata[0]}\", \"legendgroup\": \"RW_prediction=True\", \"marker\": {\"color\": \"#EF553B\", \"symbol\": \"circle\"}, \"mode\": \"markers\", \"name\": \"RW_prediction=True\", \"showlegend\": true, \"type\": \"scattergl\", \"x\": [0.0, 0.0, 0.55, 0.0, 0.1, 0.1, 0.0, 0.0, 0.0, 1.0, 0.0, 0.8, 0.7, 0.0, 0.6611111111111111, 0.3333333333333333, 0.35, 0.2333333333333333, 0.0, 0.7577777777777778, 0.0, 0.5333333333333333, 0.6, 0.4444444444444445, 0.6333333333333333, 0.4, 0.0, 0.0, 0.275, 0.0, 0.7133333333333333, 0.0, 0.0, 0.0, 0.6962962962962963, 0.0, 1.0, 0.6000000000000001, 0.0, 0.5, 0.0, 0.0, 0.0, 0.0, 0.4, 0.6, 0.6, 0.3625, 0.8888888888888888, 0.3261904761904762, 0.0, 0.19166666666666665, 0.25, 0.0, 0.0, 0.0, 0.0, 0.0, 0.6875, 0.2, 0.2, 0.45357142857142857, 0.45357142857142857, 0.48333333333333334, 0.0, 0.7266666666666668, 0.6, 0.6, 0.2, 0.2, 0.5357142857142857, 0.0, 1.0, 0.0, 0.0, 0.9, 0.35, 0.0, 0.0, 0.5825, 0.0, 0.0, 0.0, 0.0, 0.7, 0.65, 0.5, 0.25, 0.55, 0.0, 0.3111111111111111, 0.4388888888888889, 0.0, 0.6, 0.0, 0.0], \"xaxis\": \"x\", \"y\": [0.0, 0.0, 0.6, 0.0, 0.0, 0.0, 0.0, 0.0, 0.0, -0.1, 0.0, -0.8, 0.45000000000000007, 0.0, 0.2916666666666667, 0.25, 0.35, 0.13333333333333333, 0.0, 0.1688888888888889, 0.0, -0.05, -0.2, 0.19444444444444445, 0.19999999999999998, -0.3, 0.0, 0.0, -0.2, 0.0, 0.13333333333333333, 0.0, 0.0, 0.0, 0.01481481481481479, 0.0, -1.0, 0.7, 0.0, 0.5, 0.0, 0.0, 0.0, 0.0, -0.3, 0.175, -0.15, 0.1, 0.5, 0.15238095238095237, 0.0, 0.05000000000000001, 0.25, 0.0, 0.0, 0.0, 0.0, 0.0, -0.3125, 0.2, 0.2, -0.43080357142857145, -0.43080357142857145, 0.5, 0.0, 0.25833333333333336, 0.6, 0.6, -0.3, -0.3, 0.2857142857142857, 0.0, -0.125, 0.0, 0.0, 0.4, -0.125, -0.05, 0.0, 0.08, 0.0, 0.0, 0.0, 0.0, -0.2, 0.2, -0.24431818181818182, -0.08333333333333333, -0.4, 0.0, 0.11111111111111112, -0.13888888888888887, 0.0, 0.65, 0.0, 0.0], \"yaxis\": \"y\"}],\n                        {\"legend\": {\"tracegroupgap\": 0}, \"margin\": {\"t\": 60}, \"template\": {\"data\": {\"bar\": [{\"error_x\": {\"color\": \"#2a3f5f\"}, \"error_y\": {\"color\": \"#2a3f5f\"}, \"marker\": {\"line\": {\"color\": \"#E5ECF6\", \"width\": 0.5}}, \"type\": \"bar\"}], \"barpolar\": [{\"marker\": {\"line\": {\"color\": \"#E5ECF6\", \"width\": 0.5}}, \"type\": \"barpolar\"}], \"carpet\": [{\"aaxis\": {\"endlinecolor\": \"#2a3f5f\", \"gridcolor\": \"white\", \"linecolor\": \"white\", \"minorgridcolor\": \"white\", \"startlinecolor\": \"#2a3f5f\"}, \"baxis\": {\"endlinecolor\": \"#2a3f5f\", \"gridcolor\": \"white\", \"linecolor\": \"white\", \"minorgridcolor\": \"white\", \"startlinecolor\": \"#2a3f5f\"}, \"type\": \"carpet\"}], \"choropleth\": [{\"colorbar\": {\"outlinewidth\": 0, \"ticks\": \"\"}, \"type\": \"choropleth\"}], \"contour\": [{\"colorbar\": {\"outlinewidth\": 0, \"ticks\": \"\"}, \"colorscale\": [[0.0, \"#0d0887\"], [0.1111111111111111, \"#46039f\"], [0.2222222222222222, \"#7201a8\"], [0.3333333333333333, \"#9c179e\"], [0.4444444444444444, \"#bd3786\"], [0.5555555555555556, \"#d8576b\"], [0.6666666666666666, \"#ed7953\"], [0.7777777777777778, \"#fb9f3a\"], [0.8888888888888888, \"#fdca26\"], [1.0, \"#f0f921\"]], \"type\": \"contour\"}], \"contourcarpet\": [{\"colorbar\": {\"outlinewidth\": 0, \"ticks\": \"\"}, \"type\": \"contourcarpet\"}], \"heatmap\": [{\"colorbar\": {\"outlinewidth\": 0, \"ticks\": \"\"}, \"colorscale\": [[0.0, \"#0d0887\"], [0.1111111111111111, \"#46039f\"], [0.2222222222222222, \"#7201a8\"], [0.3333333333333333, \"#9c179e\"], [0.4444444444444444, \"#bd3786\"], [0.5555555555555556, \"#d8576b\"], [0.6666666666666666, \"#ed7953\"], [0.7777777777777778, \"#fb9f3a\"], [0.8888888888888888, \"#fdca26\"], [1.0, \"#f0f921\"]], \"type\": \"heatmap\"}], \"heatmapgl\": [{\"colorbar\": {\"outlinewidth\": 0, \"ticks\": \"\"}, \"colorscale\": [[0.0, \"#0d0887\"], [0.1111111111111111, \"#46039f\"], [0.2222222222222222, \"#7201a8\"], [0.3333333333333333, \"#9c179e\"], [0.4444444444444444, \"#bd3786\"], [0.5555555555555556, \"#d8576b\"], [0.6666666666666666, \"#ed7953\"], [0.7777777777777778, \"#fb9f3a\"], [0.8888888888888888, \"#fdca26\"], [1.0, \"#f0f921\"]], \"type\": \"heatmapgl\"}], \"histogram\": [{\"marker\": {\"colorbar\": {\"outlinewidth\": 0, \"ticks\": \"\"}}, \"type\": \"histogram\"}], \"histogram2d\": [{\"colorbar\": {\"outlinewidth\": 0, \"ticks\": \"\"}, \"colorscale\": [[0.0, \"#0d0887\"], [0.1111111111111111, \"#46039f\"], [0.2222222222222222, \"#7201a8\"], [0.3333333333333333, \"#9c179e\"], [0.4444444444444444, \"#bd3786\"], [0.5555555555555556, \"#d8576b\"], [0.6666666666666666, \"#ed7953\"], [0.7777777777777778, \"#fb9f3a\"], [0.8888888888888888, \"#fdca26\"], [1.0, \"#f0f921\"]], \"type\": \"histogram2d\"}], \"histogram2dcontour\": [{\"colorbar\": {\"outlinewidth\": 0, \"ticks\": \"\"}, \"colorscale\": [[0.0, \"#0d0887\"], [0.1111111111111111, \"#46039f\"], [0.2222222222222222, \"#7201a8\"], [0.3333333333333333, \"#9c179e\"], [0.4444444444444444, \"#bd3786\"], [0.5555555555555556, \"#d8576b\"], [0.6666666666666666, \"#ed7953\"], [0.7777777777777778, \"#fb9f3a\"], [0.8888888888888888, \"#fdca26\"], [1.0, \"#f0f921\"]], \"type\": \"histogram2dcontour\"}], \"mesh3d\": [{\"colorbar\": {\"outlinewidth\": 0, \"ticks\": \"\"}, \"type\": \"mesh3d\"}], \"parcoords\": [{\"line\": {\"colorbar\": {\"outlinewidth\": 0, \"ticks\": \"\"}}, \"type\": \"parcoords\"}], \"pie\": [{\"automargin\": true, \"type\": \"pie\"}], \"scatter\": [{\"marker\": {\"colorbar\": {\"outlinewidth\": 0, \"ticks\": \"\"}}, \"type\": \"scatter\"}], \"scatter3d\": [{\"line\": {\"colorbar\": {\"outlinewidth\": 0, \"ticks\": \"\"}}, \"marker\": {\"colorbar\": {\"outlinewidth\": 0, \"ticks\": \"\"}}, \"type\": \"scatter3d\"}], \"scattercarpet\": [{\"marker\": {\"colorbar\": {\"outlinewidth\": 0, \"ticks\": \"\"}}, \"type\": \"scattercarpet\"}], \"scattergeo\": [{\"marker\": {\"colorbar\": {\"outlinewidth\": 0, \"ticks\": \"\"}}, \"type\": \"scattergeo\"}], \"scattergl\": [{\"marker\": {\"colorbar\": {\"outlinewidth\": 0, \"ticks\": \"\"}}, \"type\": \"scattergl\"}], \"scattermapbox\": [{\"marker\": {\"colorbar\": {\"outlinewidth\": 0, \"ticks\": \"\"}}, \"type\": \"scattermapbox\"}], \"scatterpolar\": [{\"marker\": {\"colorbar\": {\"outlinewidth\": 0, \"ticks\": \"\"}}, \"type\": \"scatterpolar\"}], \"scatterpolargl\": [{\"marker\": {\"colorbar\": {\"outlinewidth\": 0, \"ticks\": \"\"}}, \"type\": \"scatterpolargl\"}], \"scatterternary\": [{\"marker\": {\"colorbar\": {\"outlinewidth\": 0, \"ticks\": \"\"}}, \"type\": \"scatterternary\"}], \"surface\": [{\"colorbar\": {\"outlinewidth\": 0, \"ticks\": \"\"}, \"colorscale\": [[0.0, \"#0d0887\"], [0.1111111111111111, \"#46039f\"], [0.2222222222222222, \"#7201a8\"], [0.3333333333333333, \"#9c179e\"], [0.4444444444444444, \"#bd3786\"], [0.5555555555555556, \"#d8576b\"], [0.6666666666666666, \"#ed7953\"], [0.7777777777777778, \"#fb9f3a\"], [0.8888888888888888, \"#fdca26\"], [1.0, \"#f0f921\"]], \"type\": \"surface\"}], \"table\": [{\"cells\": {\"fill\": {\"color\": \"#EBF0F8\"}, \"line\": {\"color\": \"white\"}}, \"header\": {\"fill\": {\"color\": \"#C8D4E3\"}, \"line\": {\"color\": \"white\"}}, \"type\": \"table\"}]}, \"layout\": {\"annotationdefaults\": {\"arrowcolor\": \"#2a3f5f\", \"arrowhead\": 0, \"arrowwidth\": 1}, \"coloraxis\": {\"colorbar\": {\"outlinewidth\": 0, \"ticks\": \"\"}}, \"colorscale\": {\"diverging\": [[0, \"#8e0152\"], [0.1, \"#c51b7d\"], [0.2, \"#de77ae\"], [0.3, \"#f1b6da\"], [0.4, \"#fde0ef\"], [0.5, \"#f7f7f7\"], [0.6, \"#e6f5d0\"], [0.7, \"#b8e186\"], [0.8, \"#7fbc41\"], [0.9, \"#4d9221\"], [1, \"#276419\"]], \"sequential\": [[0.0, \"#0d0887\"], [0.1111111111111111, \"#46039f\"], [0.2222222222222222, \"#7201a8\"], [0.3333333333333333, \"#9c179e\"], [0.4444444444444444, \"#bd3786\"], [0.5555555555555556, \"#d8576b\"], [0.6666666666666666, \"#ed7953\"], [0.7777777777777778, \"#fb9f3a\"], [0.8888888888888888, \"#fdca26\"], [1.0, \"#f0f921\"]], \"sequentialminus\": [[0.0, \"#0d0887\"], [0.1111111111111111, \"#46039f\"], [0.2222222222222222, \"#7201a8\"], [0.3333333333333333, \"#9c179e\"], [0.4444444444444444, \"#bd3786\"], [0.5555555555555556, \"#d8576b\"], [0.6666666666666666, \"#ed7953\"], [0.7777777777777778, \"#fb9f3a\"], [0.8888888888888888, \"#fdca26\"], [1.0, \"#f0f921\"]]}, \"colorway\": [\"#636efa\", \"#EF553B\", \"#00cc96\", \"#ab63fa\", \"#FFA15A\", \"#19d3f3\", \"#FF6692\", \"#B6E880\", \"#FF97FF\", \"#FECB52\"], \"font\": {\"color\": \"#2a3f5f\"}, \"geo\": {\"bgcolor\": \"white\", \"lakecolor\": \"white\", \"landcolor\": \"#E5ECF6\", \"showlakes\": true, \"showland\": true, \"subunitcolor\": \"white\"}, \"hoverlabel\": {\"align\": \"left\"}, \"hovermode\": \"closest\", \"mapbox\": {\"style\": \"light\"}, \"paper_bgcolor\": \"white\", \"plot_bgcolor\": \"#E5ECF6\", \"polar\": {\"angularaxis\": {\"gridcolor\": \"white\", \"linecolor\": \"white\", \"ticks\": \"\"}, \"bgcolor\": \"#E5ECF6\", \"radialaxis\": {\"gridcolor\": \"white\", \"linecolor\": \"white\", \"ticks\": \"\"}}, \"scene\": {\"xaxis\": {\"backgroundcolor\": \"#E5ECF6\", \"gridcolor\": \"white\", \"gridwidth\": 2, \"linecolor\": \"white\", \"showbackground\": true, \"ticks\": \"\", \"zerolinecolor\": \"white\"}, \"yaxis\": {\"backgroundcolor\": \"#E5ECF6\", \"gridcolor\": \"white\", \"gridwidth\": 2, \"linecolor\": \"white\", \"showbackground\": true, \"ticks\": \"\", \"zerolinecolor\": \"white\"}, \"zaxis\": {\"backgroundcolor\": \"#E5ECF6\", \"gridcolor\": \"white\", \"gridwidth\": 2, \"linecolor\": \"white\", \"showbackground\": true, \"ticks\": \"\", \"zerolinecolor\": \"white\"}}, \"shapedefaults\": {\"line\": {\"color\": \"#2a3f5f\"}}, \"ternary\": {\"aaxis\": {\"gridcolor\": \"white\", \"linecolor\": \"white\", \"ticks\": \"\"}, \"baxis\": {\"gridcolor\": \"white\", \"linecolor\": \"white\", \"ticks\": \"\"}, \"bgcolor\": \"#E5ECF6\", \"caxis\": {\"gridcolor\": \"white\", \"linecolor\": \"white\", \"ticks\": \"\"}}, \"title\": {\"x\": 0.05}, \"xaxis\": {\"automargin\": true, \"gridcolor\": \"white\", \"linecolor\": \"white\", \"ticks\": \"\", \"title\": {\"standoff\": 15}, \"zerolinecolor\": \"white\", \"zerolinewidth\": 2}, \"yaxis\": {\"automargin\": true, \"gridcolor\": \"white\", \"linecolor\": \"white\", \"ticks\": \"\", \"title\": {\"standoff\": 15}, \"zerolinecolor\": \"white\", \"zerolinewidth\": 2}}}, \"xaxis\": {\"anchor\": \"y\", \"domain\": [0.0, 1.0], \"range\": [-0.1, 1.1], \"title\": {\"text\": \"Subjectivity\"}}, \"yaxis\": {\"anchor\": \"x\", \"domain\": [0.0, 1.0], \"range\": [-1.1, 1.1], \"title\": {\"text\": \"Polarity\"}}},\n                        {\"responsive\": true}\n                    ).then(function(){\n                            \nvar gd = document.getElementById('a725fe3a-eeff-48ef-8080-caca0aa48493');\nvar x = new MutationObserver(function (mutations, observer) {{\n        var display = window.getComputedStyle(gd).display;\n        if (!display || display === 'none') {{\n            console.log([gd, 'removed!']);\n            Plotly.purge(gd);\n            observer.disconnect();\n        }}\n}});\n\n// Listen for the removal of the full notebook cells\nvar notebookContainer = gd.closest('#notebook-container');\nif (notebookContainer) {{\n    x.observe(notebookContainer, {childList: true});\n}}\n\n// Listen for the clearing of the current output cell\nvar outputEl = gd.closest('.output');\nif (outputEl) {{\n    x.observe(outputEl, {childList: true});\n}}\n\n                        })\n                };\n                \n            </script>\n        </div>\n</body>\n</html>"
              }
            ],
            "_view_module": "@jupyter-widgets/output",
            "_model_module_version": "1.0.0",
            "_view_count": null,
            "_view_module_version": "1.0.0",
            "layout": "IPY_MODEL_5816df1fc3ef4e158acc405b2eae9166",
            "_model_module": "@jupyter-widgets/output"
          }
        },
        "665942253ccd4c17a9c71cc31c03a3aa": {
          "model_module": "@jupyter-widgets/controls",
          "model_name": "DescriptionStyleModel",
          "state": {
            "_view_name": "StyleView",
            "_model_name": "DescriptionStyleModel",
            "description_width": "",
            "_view_module": "@jupyter-widgets/base",
            "_model_module_version": "1.5.0",
            "_view_count": null,
            "_view_module_version": "1.2.0",
            "_model_module": "@jupyter-widgets/controls"
          }
        },
        "729d74c0e05643419c6bd55b4690a63b": {
          "model_module": "@jupyter-widgets/base",
          "model_name": "LayoutModel",
          "state": {
            "_view_name": "LayoutView",
            "grid_template_rows": null,
            "right": null,
            "justify_content": null,
            "_view_module": "@jupyter-widgets/base",
            "overflow": null,
            "_model_module_version": "1.2.0",
            "_view_count": null,
            "flex_flow": null,
            "width": null,
            "min_width": null,
            "border": null,
            "align_items": null,
            "bottom": null,
            "_model_module": "@jupyter-widgets/base",
            "top": null,
            "grid_column": null,
            "overflow_y": null,
            "overflow_x": null,
            "grid_auto_flow": null,
            "grid_area": null,
            "grid_template_columns": null,
            "flex": null,
            "_model_name": "LayoutModel",
            "justify_items": null,
            "grid_row": null,
            "max_height": null,
            "align_content": null,
            "visibility": null,
            "align_self": null,
            "height": null,
            "min_height": null,
            "padding": null,
            "grid_auto_rows": null,
            "grid_gap": null,
            "max_width": null,
            "order": null,
            "_view_module_version": "1.2.0",
            "grid_template_areas": null,
            "object_position": null,
            "object_fit": null,
            "grid_auto_columns": null,
            "margin": null,
            "display": null,
            "left": null
          }
        },
        "1fbd702ead53449ba9f7c0997edee573": {
          "model_module": "@jupyter-widgets/controls",
          "model_name": "DescriptionStyleModel",
          "state": {
            "_view_name": "StyleView",
            "_model_name": "DescriptionStyleModel",
            "description_width": "",
            "_view_module": "@jupyter-widgets/base",
            "_model_module_version": "1.5.0",
            "_view_count": null,
            "_view_module_version": "1.2.0",
            "_model_module": "@jupyter-widgets/controls"
          }
        },
        "aa13d6492e034319a3b9b3781944f2af": {
          "model_module": "@jupyter-widgets/base",
          "model_name": "LayoutModel",
          "state": {
            "_view_name": "LayoutView",
            "grid_template_rows": null,
            "right": null,
            "justify_content": null,
            "_view_module": "@jupyter-widgets/base",
            "overflow": null,
            "_model_module_version": "1.2.0",
            "_view_count": null,
            "flex_flow": null,
            "width": null,
            "min_width": null,
            "border": null,
            "align_items": null,
            "bottom": null,
            "_model_module": "@jupyter-widgets/base",
            "top": null,
            "grid_column": null,
            "overflow_y": null,
            "overflow_x": null,
            "grid_auto_flow": null,
            "grid_area": null,
            "grid_template_columns": null,
            "flex": null,
            "_model_name": "LayoutModel",
            "justify_items": null,
            "grid_row": null,
            "max_height": null,
            "align_content": null,
            "visibility": null,
            "align_self": null,
            "height": null,
            "min_height": null,
            "padding": null,
            "grid_auto_rows": null,
            "grid_gap": null,
            "max_width": null,
            "order": null,
            "_view_module_version": "1.2.0",
            "grid_template_areas": null,
            "object_position": null,
            "object_fit": null,
            "grid_auto_columns": null,
            "margin": null,
            "display": null,
            "left": null
          }
        },
        "e6e7dde566334637a1a2e03d3a6018eb": {
          "model_module": "@jupyter-widgets/controls",
          "model_name": "DescriptionStyleModel",
          "state": {
            "_view_name": "StyleView",
            "_model_name": "DescriptionStyleModel",
            "description_width": "",
            "_view_module": "@jupyter-widgets/base",
            "_model_module_version": "1.5.0",
            "_view_count": null,
            "_view_module_version": "1.2.0",
            "_model_module": "@jupyter-widgets/controls"
          }
        },
        "b6d83463367a49b48d823bf99c2027b3": {
          "model_module": "@jupyter-widgets/base",
          "model_name": "LayoutModel",
          "state": {
            "_view_name": "LayoutView",
            "grid_template_rows": null,
            "right": null,
            "justify_content": null,
            "_view_module": "@jupyter-widgets/base",
            "overflow": null,
            "_model_module_version": "1.2.0",
            "_view_count": null,
            "flex_flow": null,
            "width": null,
            "min_width": null,
            "border": null,
            "align_items": null,
            "bottom": null,
            "_model_module": "@jupyter-widgets/base",
            "top": null,
            "grid_column": null,
            "overflow_y": null,
            "overflow_x": null,
            "grid_auto_flow": null,
            "grid_area": null,
            "grid_template_columns": null,
            "flex": null,
            "_model_name": "LayoutModel",
            "justify_items": null,
            "grid_row": null,
            "max_height": null,
            "align_content": null,
            "visibility": null,
            "align_self": null,
            "height": null,
            "min_height": null,
            "padding": null,
            "grid_auto_rows": null,
            "grid_gap": null,
            "max_width": null,
            "order": null,
            "_view_module_version": "1.2.0",
            "grid_template_areas": null,
            "object_position": null,
            "object_fit": null,
            "grid_auto_columns": null,
            "margin": null,
            "display": null,
            "left": null
          }
        },
        "87413d605c394d76be3ec74a1bc20860": {
          "model_module": "@jupyter-widgets/controls",
          "model_name": "DescriptionStyleModel",
          "state": {
            "_view_name": "StyleView",
            "_model_name": "DescriptionStyleModel",
            "description_width": "",
            "_view_module": "@jupyter-widgets/base",
            "_model_module_version": "1.5.0",
            "_view_count": null,
            "_view_module_version": "1.2.0",
            "_model_module": "@jupyter-widgets/controls"
          }
        },
        "9e4e27417b2e428fb94e84094252dfe9": {
          "model_module": "@jupyter-widgets/base",
          "model_name": "LayoutModel",
          "state": {
            "_view_name": "LayoutView",
            "grid_template_rows": null,
            "right": null,
            "justify_content": null,
            "_view_module": "@jupyter-widgets/base",
            "overflow": null,
            "_model_module_version": "1.2.0",
            "_view_count": null,
            "flex_flow": null,
            "width": null,
            "min_width": null,
            "border": null,
            "align_items": null,
            "bottom": null,
            "_model_module": "@jupyter-widgets/base",
            "top": null,
            "grid_column": null,
            "overflow_y": null,
            "overflow_x": null,
            "grid_auto_flow": null,
            "grid_area": null,
            "grid_template_columns": null,
            "flex": null,
            "_model_name": "LayoutModel",
            "justify_items": null,
            "grid_row": null,
            "max_height": null,
            "align_content": null,
            "visibility": null,
            "align_self": null,
            "height": null,
            "min_height": null,
            "padding": null,
            "grid_auto_rows": null,
            "grid_gap": null,
            "max_width": null,
            "order": null,
            "_view_module_version": "1.2.0",
            "grid_template_areas": null,
            "object_position": null,
            "object_fit": null,
            "grid_auto_columns": null,
            "margin": null,
            "display": null,
            "left": null
          }
        },
        "fe074177cdd64e3b8a36328faa33ddae": {
          "model_module": "@jupyter-widgets/controls",
          "model_name": "ButtonStyleModel",
          "state": {
            "_view_name": "StyleView",
            "_model_name": "ButtonStyleModel",
            "_view_module": "@jupyter-widgets/base",
            "_model_module_version": "1.5.0",
            "_view_count": null,
            "button_color": null,
            "font_weight": "",
            "_view_module_version": "1.2.0",
            "_model_module": "@jupyter-widgets/controls"
          }
        },
        "7090ee53ae5648149cea46307cea8a78": {
          "model_module": "@jupyter-widgets/base",
          "model_name": "LayoutModel",
          "state": {
            "_view_name": "LayoutView",
            "grid_template_rows": null,
            "right": null,
            "justify_content": null,
            "_view_module": "@jupyter-widgets/base",
            "overflow": null,
            "_model_module_version": "1.2.0",
            "_view_count": null,
            "flex_flow": null,
            "width": null,
            "min_width": null,
            "border": null,
            "align_items": null,
            "bottom": null,
            "_model_module": "@jupyter-widgets/base",
            "top": null,
            "grid_column": null,
            "overflow_y": null,
            "overflow_x": null,
            "grid_auto_flow": null,
            "grid_area": null,
            "grid_template_columns": null,
            "flex": null,
            "_model_name": "LayoutModel",
            "justify_items": null,
            "grid_row": null,
            "max_height": null,
            "align_content": null,
            "visibility": null,
            "align_self": null,
            "height": null,
            "min_height": null,
            "padding": null,
            "grid_auto_rows": null,
            "grid_gap": null,
            "max_width": null,
            "order": null,
            "_view_module_version": "1.2.0",
            "grid_template_areas": null,
            "object_position": null,
            "object_fit": null,
            "grid_auto_columns": null,
            "margin": null,
            "display": null,
            "left": null
          }
        },
        "1b6a6f7055ab43a3a0ed9bd605ae0bf6": {
          "model_module": "@jupyter-widgets/base",
          "model_name": "LayoutModel",
          "state": {
            "_view_name": "LayoutView",
            "grid_template_rows": null,
            "right": null,
            "justify_content": null,
            "_view_module": "@jupyter-widgets/base",
            "overflow": null,
            "_model_module_version": "1.2.0",
            "_view_count": null,
            "flex_flow": null,
            "width": null,
            "min_width": null,
            "border": "1px solid black",
            "align_items": null,
            "bottom": null,
            "_model_module": "@jupyter-widgets/base",
            "top": null,
            "grid_column": null,
            "overflow_y": null,
            "overflow_x": null,
            "grid_auto_flow": null,
            "grid_area": null,
            "grid_template_columns": null,
            "flex": null,
            "_model_name": "LayoutModel",
            "justify_items": null,
            "grid_row": null,
            "max_height": null,
            "align_content": null,
            "visibility": null,
            "align_self": null,
            "height": null,
            "min_height": null,
            "padding": null,
            "grid_auto_rows": null,
            "grid_gap": null,
            "max_width": null,
            "order": null,
            "_view_module_version": "1.2.0",
            "grid_template_areas": null,
            "object_position": null,
            "object_fit": null,
            "grid_auto_columns": null,
            "margin": null,
            "display": null,
            "left": null
          }
        },
        "219d9e5a9972497d886db7043d541857": {
          "model_module": "@jupyter-widgets/base",
          "model_name": "LayoutModel",
          "state": {
            "_view_name": "LayoutView",
            "grid_template_rows": null,
            "right": null,
            "justify_content": null,
            "_view_module": "@jupyter-widgets/base",
            "overflow": null,
            "_model_module_version": "1.2.0",
            "_view_count": null,
            "flex_flow": null,
            "width": null,
            "min_width": null,
            "border": "1px solid black",
            "align_items": null,
            "bottom": null,
            "_model_module": "@jupyter-widgets/base",
            "top": null,
            "grid_column": null,
            "overflow_y": null,
            "overflow_x": null,
            "grid_auto_flow": null,
            "grid_area": null,
            "grid_template_columns": null,
            "flex": null,
            "_model_name": "LayoutModel",
            "justify_items": null,
            "grid_row": null,
            "max_height": null,
            "align_content": null,
            "visibility": null,
            "align_self": null,
            "height": null,
            "min_height": null,
            "padding": null,
            "grid_auto_rows": null,
            "grid_gap": null,
            "max_width": null,
            "order": null,
            "_view_module_version": "1.2.0",
            "grid_template_areas": null,
            "object_position": null,
            "object_fit": null,
            "grid_auto_columns": null,
            "margin": null,
            "display": null,
            "left": null
          }
        },
        "93e3f84322fd483ebb9f3fde565e60cd": {
          "model_module": "@jupyter-widgets/base",
          "model_name": "LayoutModel",
          "state": {
            "_view_name": "LayoutView",
            "grid_template_rows": null,
            "right": null,
            "justify_content": null,
            "_view_module": "@jupyter-widgets/base",
            "overflow": null,
            "_model_module_version": "1.2.0",
            "_view_count": null,
            "flex_flow": null,
            "width": null,
            "min_width": null,
            "border": "1px solid black",
            "align_items": null,
            "bottom": null,
            "_model_module": "@jupyter-widgets/base",
            "top": null,
            "grid_column": null,
            "overflow_y": null,
            "overflow_x": null,
            "grid_auto_flow": null,
            "grid_area": null,
            "grid_template_columns": null,
            "flex": null,
            "_model_name": "LayoutModel",
            "justify_items": null,
            "grid_row": null,
            "max_height": null,
            "align_content": null,
            "visibility": null,
            "align_self": null,
            "height": null,
            "min_height": null,
            "padding": null,
            "grid_auto_rows": null,
            "grid_gap": null,
            "max_width": null,
            "order": null,
            "_view_module_version": "1.2.0",
            "grid_template_areas": null,
            "object_position": null,
            "object_fit": null,
            "grid_auto_columns": null,
            "margin": null,
            "display": null,
            "left": null
          }
        },
        "5816df1fc3ef4e158acc405b2eae9166": {
          "model_module": "@jupyter-widgets/base",
          "model_name": "LayoutModel",
          "state": {
            "_view_name": "LayoutView",
            "grid_template_rows": null,
            "right": null,
            "justify_content": null,
            "_view_module": "@jupyter-widgets/base",
            "overflow": null,
            "_model_module_version": "1.2.0",
            "_view_count": null,
            "flex_flow": null,
            "width": null,
            "min_width": null,
            "border": "1px solid black",
            "align_items": null,
            "bottom": null,
            "_model_module": "@jupyter-widgets/base",
            "top": null,
            "grid_column": null,
            "overflow_y": null,
            "overflow_x": null,
            "grid_auto_flow": null,
            "grid_area": null,
            "grid_template_columns": null,
            "flex": null,
            "_model_name": "LayoutModel",
            "justify_items": null,
            "grid_row": null,
            "max_height": null,
            "align_content": null,
            "visibility": null,
            "align_self": null,
            "height": null,
            "min_height": null,
            "padding": null,
            "grid_auto_rows": null,
            "grid_gap": null,
            "max_width": null,
            "order": null,
            "_view_module_version": "1.2.0",
            "grid_template_areas": null,
            "object_position": null,
            "object_fit": null,
            "grid_auto_columns": null,
            "margin": null,
            "display": null,
            "left": null
          }
        },
        "3c6b8b838beb4e87a602c525bb122afd": {
          "model_module": "@jupyter-widgets/controls",
          "model_name": "VBoxModel",
          "state": {
            "_view_name": "VBoxView",
            "_dom_classes": [],
            "_model_name": "VBoxModel",
            "_view_module": "@jupyter-widgets/controls",
            "_model_module_version": "1.5.0",
            "_view_count": null,
            "_view_module_version": "1.5.0",
            "box_style": "",
            "layout": "IPY_MODEL_3a95f420d0d2496cb440d239289e5074",
            "_model_module": "@jupyter-widgets/controls",
            "children": [
              "IPY_MODEL_242704431dac4c0780d75f596041f7fc",
              "IPY_MODEL_b76c9b7027764ad18cb489c55976f52d",
              "IPY_MODEL_9e4383b103584c9bb848fa8ab6abe2f4",
              "IPY_MODEL_818d319a942443318ac484e3a9236c3a"
            ]
          }
        },
        "3a95f420d0d2496cb440d239289e5074": {
          "model_module": "@jupyter-widgets/base",
          "model_name": "LayoutModel",
          "state": {
            "_view_name": "LayoutView",
            "grid_template_rows": null,
            "right": null,
            "justify_content": null,
            "_view_module": "@jupyter-widgets/base",
            "overflow": null,
            "_model_module_version": "1.2.0",
            "_view_count": null,
            "flex_flow": null,
            "width": null,
            "min_width": null,
            "border": null,
            "align_items": null,
            "bottom": null,
            "_model_module": "@jupyter-widgets/base",
            "top": null,
            "grid_column": null,
            "overflow_y": null,
            "overflow_x": null,
            "grid_auto_flow": null,
            "grid_area": null,
            "grid_template_columns": null,
            "flex": null,
            "_model_name": "LayoutModel",
            "justify_items": null,
            "grid_row": null,
            "max_height": null,
            "align_content": null,
            "visibility": null,
            "align_self": null,
            "height": null,
            "min_height": null,
            "padding": null,
            "grid_auto_rows": null,
            "grid_gap": null,
            "max_width": null,
            "order": null,
            "_view_module_version": "1.2.0",
            "grid_template_areas": null,
            "object_position": null,
            "object_fit": null,
            "grid_auto_columns": null,
            "margin": null,
            "display": null,
            "left": null
          }
        },
        "242704431dac4c0780d75f596041f7fc": {
          "model_module": "@jupyter-widgets/controls",
          "model_name": "LabelModel",
          "state": {
            "_view_name": "LabelView",
            "style": "IPY_MODEL_87125ace641240078e7db90b5b2fea5c",
            "_dom_classes": [],
            "description": "",
            "_model_name": "LabelModel",
            "placeholder": "​",
            "_view_module": "@jupyter-widgets/controls",
            "_model_module_version": "1.5.0",
            "value": "Output Test",
            "_view_count": null,
            "_view_module_version": "1.5.0",
            "description_tooltip": null,
            "_model_module": "@jupyter-widgets/controls",
            "layout": "IPY_MODEL_001a5f3e380942c798b21dd3a822acf6"
          }
        },
        "b76c9b7027764ad18cb489c55976f52d": {
          "model_module": "@jupyter-widgets/controls",
          "model_name": "TextModel",
          "state": {
            "_view_name": "TextView",
            "style": "IPY_MODEL_1385ae4e18fc44649f64628c8534089c",
            "_dom_classes": [],
            "description": "String:",
            "_model_name": "TextModel",
            "placeholder": "Type something",
            "_view_module": "@jupyter-widgets/controls",
            "_model_module_version": "1.5.0",
            "value": "Support our troops",
            "_view_count": null,
            "disabled": false,
            "_view_module_version": "1.5.0",
            "continuous_update": true,
            "description_tooltip": null,
            "_model_module": "@jupyter-widgets/controls",
            "layout": "IPY_MODEL_fe1080f9e893447199f245caffd94441"
          }
        },
        "9e4383b103584c9bb848fa8ab6abe2f4": {
          "model_module": "@jupyter-widgets/controls",
          "model_name": "ButtonModel",
          "state": {
            "_view_name": "ButtonView",
            "style": "IPY_MODEL_2e8de7edeaa54617880f7adace0ffff9",
            "_dom_classes": [],
            "description": "Test",
            "_model_name": "ButtonModel",
            "button_style": "",
            "_view_module": "@jupyter-widgets/controls",
            "_model_module_version": "1.5.0",
            "tooltip": "",
            "_view_count": null,
            "disabled": false,
            "_view_module_version": "1.5.0",
            "layout": "IPY_MODEL_7fef4cecff6e4798b806b3b21ad288b5",
            "_model_module": "@jupyter-widgets/controls",
            "icon": ""
          }
        },
        "818d319a942443318ac484e3a9236c3a": {
          "model_module": "@jupyter-widgets/output",
          "model_name": "OutputModel",
          "state": {
            "_view_name": "OutputView",
            "msg_id": "",
            "_dom_classes": [],
            "_model_name": "OutputModel",
            "outputs": [
              {
                "output_type": "stream",
                "metadata": {
                  "tags": []
                },
                "text": "Prediction for Support our troops is... True\n",
                "stream": "stdout"
              }
            ],
            "_view_module": "@jupyter-widgets/output",
            "_model_module_version": "1.0.0",
            "_view_count": null,
            "_view_module_version": "1.0.0",
            "layout": "IPY_MODEL_4228f5b2473b49b5af2bf8431775960a",
            "_model_module": "@jupyter-widgets/output"
          }
        },
        "87125ace641240078e7db90b5b2fea5c": {
          "model_module": "@jupyter-widgets/controls",
          "model_name": "DescriptionStyleModel",
          "state": {
            "_view_name": "StyleView",
            "_model_name": "DescriptionStyleModel",
            "description_width": "",
            "_view_module": "@jupyter-widgets/base",
            "_model_module_version": "1.5.0",
            "_view_count": null,
            "_view_module_version": "1.2.0",
            "_model_module": "@jupyter-widgets/controls"
          }
        },
        "001a5f3e380942c798b21dd3a822acf6": {
          "model_module": "@jupyter-widgets/base",
          "model_name": "LayoutModel",
          "state": {
            "_view_name": "LayoutView",
            "grid_template_rows": null,
            "right": null,
            "justify_content": null,
            "_view_module": "@jupyter-widgets/base",
            "overflow": null,
            "_model_module_version": "1.2.0",
            "_view_count": null,
            "flex_flow": null,
            "width": null,
            "min_width": null,
            "border": null,
            "align_items": null,
            "bottom": null,
            "_model_module": "@jupyter-widgets/base",
            "top": null,
            "grid_column": null,
            "overflow_y": null,
            "overflow_x": null,
            "grid_auto_flow": null,
            "grid_area": null,
            "grid_template_columns": null,
            "flex": null,
            "_model_name": "LayoutModel",
            "justify_items": null,
            "grid_row": null,
            "max_height": null,
            "align_content": null,
            "visibility": null,
            "align_self": null,
            "height": null,
            "min_height": null,
            "padding": null,
            "grid_auto_rows": null,
            "grid_gap": null,
            "max_width": null,
            "order": null,
            "_view_module_version": "1.2.0",
            "grid_template_areas": null,
            "object_position": null,
            "object_fit": null,
            "grid_auto_columns": null,
            "margin": null,
            "display": null,
            "left": null
          }
        },
        "1385ae4e18fc44649f64628c8534089c": {
          "model_module": "@jupyter-widgets/controls",
          "model_name": "DescriptionStyleModel",
          "state": {
            "_view_name": "StyleView",
            "_model_name": "DescriptionStyleModel",
            "description_width": "",
            "_view_module": "@jupyter-widgets/base",
            "_model_module_version": "1.5.0",
            "_view_count": null,
            "_view_module_version": "1.2.0",
            "_model_module": "@jupyter-widgets/controls"
          }
        },
        "fe1080f9e893447199f245caffd94441": {
          "model_module": "@jupyter-widgets/base",
          "model_name": "LayoutModel",
          "state": {
            "_view_name": "LayoutView",
            "grid_template_rows": null,
            "right": null,
            "justify_content": null,
            "_view_module": "@jupyter-widgets/base",
            "overflow": null,
            "_model_module_version": "1.2.0",
            "_view_count": null,
            "flex_flow": null,
            "width": null,
            "min_width": null,
            "border": null,
            "align_items": null,
            "bottom": null,
            "_model_module": "@jupyter-widgets/base",
            "top": null,
            "grid_column": null,
            "overflow_y": null,
            "overflow_x": null,
            "grid_auto_flow": null,
            "grid_area": null,
            "grid_template_columns": null,
            "flex": null,
            "_model_name": "LayoutModel",
            "justify_items": null,
            "grid_row": null,
            "max_height": null,
            "align_content": null,
            "visibility": null,
            "align_self": null,
            "height": null,
            "min_height": null,
            "padding": null,
            "grid_auto_rows": null,
            "grid_gap": null,
            "max_width": null,
            "order": null,
            "_view_module_version": "1.2.0",
            "grid_template_areas": null,
            "object_position": null,
            "object_fit": null,
            "grid_auto_columns": null,
            "margin": null,
            "display": null,
            "left": null
          }
        },
        "2e8de7edeaa54617880f7adace0ffff9": {
          "model_module": "@jupyter-widgets/controls",
          "model_name": "ButtonStyleModel",
          "state": {
            "_view_name": "StyleView",
            "_model_name": "ButtonStyleModel",
            "_view_module": "@jupyter-widgets/base",
            "_model_module_version": "1.5.0",
            "_view_count": null,
            "button_color": null,
            "font_weight": "",
            "_view_module_version": "1.2.0",
            "_model_module": "@jupyter-widgets/controls"
          }
        },
        "7fef4cecff6e4798b806b3b21ad288b5": {
          "model_module": "@jupyter-widgets/base",
          "model_name": "LayoutModel",
          "state": {
            "_view_name": "LayoutView",
            "grid_template_rows": null,
            "right": null,
            "justify_content": null,
            "_view_module": "@jupyter-widgets/base",
            "overflow": null,
            "_model_module_version": "1.2.0",
            "_view_count": null,
            "flex_flow": null,
            "width": null,
            "min_width": null,
            "border": null,
            "align_items": null,
            "bottom": null,
            "_model_module": "@jupyter-widgets/base",
            "top": null,
            "grid_column": null,
            "overflow_y": null,
            "overflow_x": null,
            "grid_auto_flow": null,
            "grid_area": null,
            "grid_template_columns": null,
            "flex": null,
            "_model_name": "LayoutModel",
            "justify_items": null,
            "grid_row": null,
            "max_height": null,
            "align_content": null,
            "visibility": null,
            "align_self": null,
            "height": null,
            "min_height": null,
            "padding": null,
            "grid_auto_rows": null,
            "grid_gap": null,
            "max_width": null,
            "order": null,
            "_view_module_version": "1.2.0",
            "grid_template_areas": null,
            "object_position": null,
            "object_fit": null,
            "grid_auto_columns": null,
            "margin": null,
            "display": null,
            "left": null
          }
        },
        "4228f5b2473b49b5af2bf8431775960a": {
          "model_module": "@jupyter-widgets/base",
          "model_name": "LayoutModel",
          "state": {
            "_view_name": "LayoutView",
            "grid_template_rows": null,
            "right": null,
            "justify_content": null,
            "_view_module": "@jupyter-widgets/base",
            "overflow": null,
            "_model_module_version": "1.2.0",
            "_view_count": null,
            "flex_flow": null,
            "width": null,
            "min_width": null,
            "border": "1px solid black",
            "align_items": null,
            "bottom": null,
            "_model_module": "@jupyter-widgets/base",
            "top": null,
            "grid_column": null,
            "overflow_y": null,
            "overflow_x": null,
            "grid_auto_flow": null,
            "grid_area": null,
            "grid_template_columns": null,
            "flex": null,
            "_model_name": "LayoutModel",
            "justify_items": null,
            "grid_row": null,
            "max_height": null,
            "align_content": null,
            "visibility": null,
            "align_self": null,
            "height": null,
            "min_height": null,
            "padding": null,
            "grid_auto_rows": null,
            "grid_gap": null,
            "max_width": null,
            "order": null,
            "_view_module_version": "1.2.0",
            "grid_template_areas": null,
            "object_position": null,
            "object_fit": null,
            "grid_auto_columns": null,
            "margin": null,
            "display": null,
            "left": null
          }
        }
      }
    }
  },
  "cells": [
    {
      "cell_type": "code",
      "metadata": {
        "id": "8z9yVsbxb0jR",
        "colab_type": "code",
        "colab": {
          "base_uri": "https://localhost:8080/",
          "height": 170
        },
        "outputId": "2727d34a-d0fb-4100-e6e2-76b367148591"
      },
      "source": [
        "pip install GetOldTweets3"
      ],
      "execution_count": null,
      "outputs": [
        {
          "output_type": "stream",
          "text": [
            "Collecting GetOldTweets3\n",
            "  Downloading https://files.pythonhosted.org/packages/ed/f4/a00c2a7c90801abc875325bb5416ce9090ac86d06a00cc887131bd73ba45/GetOldTweets3-0.0.11-py3-none-any.whl\n",
            "Requirement already satisfied: lxml>=3.5.0 in /usr/local/lib/python3.6/dist-packages (from GetOldTweets3) (4.2.6)\n",
            "Collecting pyquery>=1.2.10\n",
            "  Downloading https://files.pythonhosted.org/packages/78/43/95d42e386c61cb639d1a0b94f0c0b9f0b7d6b981ad3c043a836c8b5bc68b/pyquery-1.4.1-py2.py3-none-any.whl\n",
            "Collecting cssselect>0.7.9\n",
            "  Downloading https://files.pythonhosted.org/packages/3b/d4/3b5c17f00cce85b9a1e6f91096e1cc8e8ede2e1be8e96b87ce1ed09e92c5/cssselect-1.1.0-py2.py3-none-any.whl\n",
            "Installing collected packages: cssselect, pyquery, GetOldTweets3\n",
            "Successfully installed GetOldTweets3-0.0.11 cssselect-1.1.0 pyquery-1.4.1\n"
          ],
          "name": "stdout"
        }
      ]
    },
    {
      "cell_type": "code",
      "metadata": {
        "id": "_JU6KTbzaqS3",
        "colab_type": "code",
        "colab": {
          "base_uri": "https://localhost:8080/",
          "height": 1000
        },
        "outputId": "5f1b15f8-75bf-4a03-d5ad-d313160bd988"
      },
      "source": [
        "pip install fastai --upgrade"
      ],
      "execution_count": null,
      "outputs": [
        {
          "output_type": "stream",
          "text": [
            "Collecting fastai\n",
            "\u001b[?25l  Downloading https://files.pythonhosted.org/packages/0d/01/128c6c295975cf313fe214421602c73806b5ff6f7a050901b9e802c573f2/fastai-2.0.6-py3-none-any.whl (353kB)\n",
            "\u001b[K     |████████████████████████████████| 358kB 2.8MB/s \n",
            "\u001b[?25hRequirement already satisfied, skipping upgrade: packaging in /usr/local/lib/python3.6/dist-packages (from fastai) (20.4)\n",
            "Requirement already satisfied, skipping upgrade: torchvision>=0.7 in /usr/local/lib/python3.6/dist-packages (from fastai) (0.7.0+cu101)\n",
            "Collecting pandas>=1.1.0\n",
            "\u001b[?25l  Downloading https://files.pythonhosted.org/packages/a1/c6/9ac4ae44c24c787a1738e5fb34dd987ada6533de5905a041aa6d5bea4553/pandas-1.1.1-cp36-cp36m-manylinux1_x86_64.whl (10.5MB)\n",
            "\u001b[K     |████████████████████████████████| 10.5MB 12.4MB/s \n",
            "\u001b[?25hRequirement already satisfied, skipping upgrade: pip in /usr/local/lib/python3.6/dist-packages (from fastai) (19.3.1)\n",
            "Requirement already satisfied, skipping upgrade: scikit-learn in /usr/local/lib/python3.6/dist-packages (from fastai) (0.22.2.post1)\n",
            "Requirement already satisfied, skipping upgrade: torch>=1.6.0 in /usr/local/lib/python3.6/dist-packages (from fastai) (1.6.0+cu101)\n",
            "Requirement already satisfied, skipping upgrade: pyyaml in /usr/local/lib/python3.6/dist-packages (from fastai) (3.13)\n",
            "Requirement already satisfied, skipping upgrade: pillow in /usr/local/lib/python3.6/dist-packages (from fastai) (7.0.0)\n",
            "Collecting fastcore>=1.0.0\n",
            "  Downloading https://files.pythonhosted.org/packages/cc/92/233661d730b5613b4daf473cd28005bf2294fb1a858ce0bac57fbb7fa5ec/fastcore-1.0.0-py3-none-any.whl\n",
            "Requirement already satisfied, skipping upgrade: requests in /usr/local/lib/python3.6/dist-packages (from fastai) (2.23.0)\n",
            "Requirement already satisfied, skipping upgrade: spacy in /usr/local/lib/python3.6/dist-packages (from fastai) (2.2.4)\n",
            "Requirement already satisfied, skipping upgrade: fastprogress>=0.2.4 in /usr/local/lib/python3.6/dist-packages (from fastai) (1.0.0)\n",
            "Requirement already satisfied, skipping upgrade: matplotlib in /usr/local/lib/python3.6/dist-packages (from fastai) (3.2.2)\n",
            "Requirement already satisfied, skipping upgrade: scipy in /usr/local/lib/python3.6/dist-packages (from fastai) (1.4.1)\n",
            "Requirement already satisfied, skipping upgrade: pyparsing>=2.0.2 in /usr/local/lib/python3.6/dist-packages (from packaging->fastai) (2.4.7)\n",
            "Requirement already satisfied, skipping upgrade: six in /usr/local/lib/python3.6/dist-packages (from packaging->fastai) (1.15.0)\n",
            "Requirement already satisfied, skipping upgrade: numpy in /usr/local/lib/python3.6/dist-packages (from torchvision>=0.7->fastai) (1.18.5)\n",
            "Requirement already satisfied, skipping upgrade: pytz>=2017.2 in /usr/local/lib/python3.6/dist-packages (from pandas>=1.1.0->fastai) (2018.9)\n",
            "Requirement already satisfied, skipping upgrade: python-dateutil>=2.7.3 in /usr/local/lib/python3.6/dist-packages (from pandas>=1.1.0->fastai) (2.8.1)\n",
            "Requirement already satisfied, skipping upgrade: joblib>=0.11 in /usr/local/lib/python3.6/dist-packages (from scikit-learn->fastai) (0.16.0)\n",
            "Requirement already satisfied, skipping upgrade: future in /usr/local/lib/python3.6/dist-packages (from torch>=1.6.0->fastai) (0.16.0)\n",
            "Requirement already satisfied, skipping upgrade: dataclasses in /usr/local/lib/python3.6/dist-packages (from fastcore>=1.0.0->fastai) (0.7)\n",
            "Requirement already satisfied, skipping upgrade: wheel in /usr/local/lib/python3.6/dist-packages (from fastcore>=1.0.0->fastai) (0.35.1)\n",
            "Requirement already satisfied, skipping upgrade: idna<3,>=2.5 in /usr/local/lib/python3.6/dist-packages (from requests->fastai) (2.10)\n",
            "Requirement already satisfied, skipping upgrade: urllib3!=1.25.0,!=1.25.1,<1.26,>=1.21.1 in /usr/local/lib/python3.6/dist-packages (from requests->fastai) (1.24.3)\n",
            "Requirement already satisfied, skipping upgrade: chardet<4,>=3.0.2 in /usr/local/lib/python3.6/dist-packages (from requests->fastai) (3.0.4)\n",
            "Requirement already satisfied, skipping upgrade: certifi>=2017.4.17 in /usr/local/lib/python3.6/dist-packages (from requests->fastai) (2020.6.20)\n",
            "Requirement already satisfied, skipping upgrade: wasabi<1.1.0,>=0.4.0 in /usr/local/lib/python3.6/dist-packages (from spacy->fastai) (0.7.1)\n",
            "Requirement already satisfied, skipping upgrade: setuptools in /usr/local/lib/python3.6/dist-packages (from spacy->fastai) (49.6.0)\n",
            "Requirement already satisfied, skipping upgrade: murmurhash<1.1.0,>=0.28.0 in /usr/local/lib/python3.6/dist-packages (from spacy->fastai) (1.0.2)\n",
            "Requirement already satisfied, skipping upgrade: cymem<2.1.0,>=2.0.2 in /usr/local/lib/python3.6/dist-packages (from spacy->fastai) (2.0.3)\n",
            "Requirement already satisfied, skipping upgrade: thinc==7.4.0 in /usr/local/lib/python3.6/dist-packages (from spacy->fastai) (7.4.0)\n",
            "Requirement already satisfied, skipping upgrade: catalogue<1.1.0,>=0.0.7 in /usr/local/lib/python3.6/dist-packages (from spacy->fastai) (1.0.0)\n",
            "Requirement already satisfied, skipping upgrade: tqdm<5.0.0,>=4.38.0 in /usr/local/lib/python3.6/dist-packages (from spacy->fastai) (4.41.1)\n",
            "Requirement already satisfied, skipping upgrade: plac<1.2.0,>=0.9.6 in /usr/local/lib/python3.6/dist-packages (from spacy->fastai) (1.1.3)\n",
            "Requirement already satisfied, skipping upgrade: blis<0.5.0,>=0.4.0 in /usr/local/lib/python3.6/dist-packages (from spacy->fastai) (0.4.1)\n",
            "Requirement already satisfied, skipping upgrade: preshed<3.1.0,>=3.0.2 in /usr/local/lib/python3.6/dist-packages (from spacy->fastai) (3.0.2)\n",
            "Requirement already satisfied, skipping upgrade: srsly<1.1.0,>=1.0.2 in /usr/local/lib/python3.6/dist-packages (from spacy->fastai) (1.0.2)\n",
            "Requirement already satisfied, skipping upgrade: kiwisolver>=1.0.1 in /usr/local/lib/python3.6/dist-packages (from matplotlib->fastai) (1.2.0)\n",
            "Requirement already satisfied, skipping upgrade: cycler>=0.10 in /usr/local/lib/python3.6/dist-packages (from matplotlib->fastai) (0.10.0)\n",
            "Requirement already satisfied, skipping upgrade: importlib-metadata>=0.20; python_version < \"3.8\" in /usr/local/lib/python3.6/dist-packages (from catalogue<1.1.0,>=0.0.7->spacy->fastai) (1.7.0)\n",
            "Requirement already satisfied, skipping upgrade: zipp>=0.5 in /usr/local/lib/python3.6/dist-packages (from importlib-metadata>=0.20; python_version < \"3.8\"->catalogue<1.1.0,>=0.0.7->spacy->fastai) (3.1.0)\n",
            "\u001b[31mERROR: google-colab 1.0.0 has requirement pandas~=1.0.0; python_version >= \"3.0\", but you'll have pandas 1.1.1 which is incompatible.\u001b[0m\n",
            "Installing collected packages: pandas, fastcore, fastai\n",
            "  Found existing installation: pandas 1.0.5\n",
            "    Uninstalling pandas-1.0.5:\n",
            "      Successfully uninstalled pandas-1.0.5\n",
            "  Found existing installation: fastai 1.0.61\n",
            "    Uninstalling fastai-1.0.61:\n",
            "      Successfully uninstalled fastai-1.0.61\n",
            "Successfully installed fastai-2.0.6 fastcore-1.0.0 pandas-1.1.1\n"
          ],
          "name": "stdout"
        },
        {
          "output_type": "display_data",
          "data": {
            "application/vnd.colab-display-data+json": {
              "pip_warning": {
                "packages": [
                  "pandas"
                ]
              }
            }
          },
          "metadata": {
            "tags": []
          }
        }
      ]
    },
    {
      "cell_type": "code",
      "metadata": {
        "id": "UxnVOA3KahPk",
        "colab_type": "code",
        "colab": {}
      },
      "source": [
        "from fastai.text.all import *\n",
        "import pandas as pd"
      ],
      "execution_count": null,
      "outputs": []
    },
    {
      "cell_type": "code",
      "metadata": {
        "id": "nqu-BO6Pa9n0",
        "colab_type": "code",
        "colab": {}
      },
      "source": [
        "learn_inf = load_learner(\"/content/drive/My Drive/data/sentiment analysis/export (1).pkl\")"
      ],
      "execution_count": null,
      "outputs": []
    },
    {
      "cell_type": "code",
      "metadata": {
        "id": "iCAVmh0xa-wd",
        "colab_type": "code",
        "colab": {}
      },
      "source": [
        "import GetOldTweets3 as got\n",
        "import pandas as pd\n",
        "\n",
        "\n",
        "user_name = \"@metpoliceuk\"\n",
        "q='to:{}'.format(user_name)"
      ],
      "execution_count": null,
      "outputs": []
    },
    {
      "cell_type": "code",
      "metadata": {
        "id": "KPu03Tolbxh-",
        "colab_type": "code",
        "colab": {}
      },
      "source": [
        "tweetCriteria = got.manager.TweetCriteria().setQuerySearch(q)\\\n",
        "                                           .setSince(\"2020-08-25\")\\\n",
        "                                           .setUntil(\"2020-08-26\")\n",
        "tweets = got.manager.TweetManager.getTweets(tweetCriteria)\n",
        "\n",
        "df = pd.DataFrame(tweets)\n",
        "\n",
        "def get_text(tweet):\n",
        "  return tweet.text\n",
        "\n",
        "def get_username(tweet):\n",
        "  return tweet.username\n",
        "\n",
        "df[\"username\"] = df[0].apply(get_username)\n",
        "df[\"text\"] = df[0].apply(get_text)"
      ],
      "execution_count": null,
      "outputs": []
    },
    {
      "cell_type": "code",
      "metadata": {
        "id": "f1C_s2d4cF2b",
        "colab_type": "code",
        "colab": {}
      },
      "source": [
        "bios_df = df.copy()\n",
        "bios = bios_df.dropna(axis=0, subset=[\"username\"])\n",
        "bios = bios.drop_duplicates(subset=[\"username\"])"
      ],
      "execution_count": null,
      "outputs": []
    },
    {
      "cell_type": "code",
      "metadata": {
        "id": "1LRN9XALcjWY",
        "colab_type": "code",
        "colab": {}
      },
      "source": [
        "import tweepy\n",
        "import logging\n",
        "from tweepy import API\n",
        "\n",
        "API_KEY\n",
        "API_SECRET\n",
        "ACCESS_TOKEN\n",
        "ACCESS_TOKEN_SECRET \n",
        "\n",
        "auth = tweepy.OAuthHandler(API_KEY, API_SECRET)\n",
        "auth.set_access_token(ACCESS_TOKEN, ACCESS_TOKEN_SECRET)\n",
        "\n",
        "api = tweepy.API(auth)\n",
        "\n",
        "\n",
        "\n",
        "def get_bio(user):\n",
        "  list_of_bios = pd.DataFrame(columns=[\"Users\",\"Bios\"])\n",
        "  i = 100\n",
        "  while i < len(user):\n",
        "    users = user[i-100:i]\n",
        "    test = api.lookup_users(screen_names =users)\n",
        "    for person in test:\n",
        "      list_of_bios = list_of_bios.append({'Users' : person.screen_name , 'Bios' : person.description}, ignore_index=True)\n",
        "    i = i + 100\n",
        "  users = user[i-100:len(user)]\n",
        "  test = api.lookup_users(screen_names =users)\n",
        "  for person in test:\n",
        "      list_of_bios = list_of_bios.append({'Users' : person.screen_name , 'Bios' : person.description}, ignore_index=True)\n",
        "  return list_of_bios\n",
        " \n",
        "\n",
        "\n",
        "list_of_new_bios = get_bio(df[\"username\"].tolist())"
      ],
      "execution_count": null,
      "outputs": []
    },
    {
      "cell_type": "code",
      "metadata": {
        "id": "j_Dt3o3Dc0Cq",
        "colab_type": "code",
        "colab": {
          "base_uri": "https://localhost:8080/",
          "height": 17
        },
        "outputId": "1550009b-2f05-4948-fd83-37502aa80e99"
      },
      "source": [
        "def get_label(row):\n",
        "  return row[0]\n",
        "\n",
        "list_of_new_bios[\"RW_prediction\"] = list_of_new_bios[\"Bios\"].apply(learn_inf.predict)\n",
        "\n",
        "list_of_new_bios[\"RW_prediction\"] = list_of_new_bios[\"RW_prediction\"].apply(get_label)"
      ],
      "execution_count": null,
      "outputs": [
        {
          "output_type": "display_data",
          "data": {
            "text/html": [
              ""
            ],
            "text/plain": [
              "<IPython.core.display.HTML object>"
            ]
          },
          "metadata": {
            "tags": []
          }
        },
        {
          "output_type": "display_data",
          "data": {
            "text/html": [
              ""
            ],
            "text/plain": [
              "<IPython.core.display.HTML object>"
            ]
          },
          "metadata": {
            "tags": []
          }
        },
        {
          "output_type": "display_data",
          "data": {
            "text/html": [
              ""
            ],
            "text/plain": [
              "<IPython.core.display.HTML object>"
            ]
          },
          "metadata": {
            "tags": []
          }
        },
        {
          "output_type": "display_data",
          "data": {
            "text/html": [
              ""
            ],
            "text/plain": [
              "<IPython.core.display.HTML object>"
            ]
          },
          "metadata": {
            "tags": []
          }
        },
        {
          "output_type": "display_data",
          "data": {
            "text/html": [
              ""
            ],
            "text/plain": [
              "<IPython.core.display.HTML object>"
            ]
          },
          "metadata": {
            "tags": []
          }
        },
        {
          "output_type": "display_data",
          "data": {
            "text/html": [
              ""
            ],
            "text/plain": [
              "<IPython.core.display.HTML object>"
            ]
          },
          "metadata": {
            "tags": []
          }
        },
        {
          "output_type": "display_data",
          "data": {
            "text/html": [
              ""
            ],
            "text/plain": [
              "<IPython.core.display.HTML object>"
            ]
          },
          "metadata": {
            "tags": []
          }
        },
        {
          "output_type": "display_data",
          "data": {
            "text/html": [
              ""
            ],
            "text/plain": [
              "<IPython.core.display.HTML object>"
            ]
          },
          "metadata": {
            "tags": []
          }
        },
        {
          "output_type": "display_data",
          "data": {
            "text/html": [
              ""
            ],
            "text/plain": [
              "<IPython.core.display.HTML object>"
            ]
          },
          "metadata": {
            "tags": []
          }
        },
        {
          "output_type": "display_data",
          "data": {
            "text/html": [
              ""
            ],
            "text/plain": [
              "<IPython.core.display.HTML object>"
            ]
          },
          "metadata": {
            "tags": []
          }
        },
        {
          "output_type": "display_data",
          "data": {
            "text/html": [
              ""
            ],
            "text/plain": [
              "<IPython.core.display.HTML object>"
            ]
          },
          "metadata": {
            "tags": []
          }
        },
        {
          "output_type": "display_data",
          "data": {
            "text/html": [
              ""
            ],
            "text/plain": [
              "<IPython.core.display.HTML object>"
            ]
          },
          "metadata": {
            "tags": []
          }
        },
        {
          "output_type": "display_data",
          "data": {
            "text/html": [
              ""
            ],
            "text/plain": [
              "<IPython.core.display.HTML object>"
            ]
          },
          "metadata": {
            "tags": []
          }
        },
        {
          "output_type": "display_data",
          "data": {
            "text/html": [
              ""
            ],
            "text/plain": [
              "<IPython.core.display.HTML object>"
            ]
          },
          "metadata": {
            "tags": []
          }
        },
        {
          "output_type": "display_data",
          "data": {
            "text/html": [
              ""
            ],
            "text/plain": [
              "<IPython.core.display.HTML object>"
            ]
          },
          "metadata": {
            "tags": []
          }
        },
        {
          "output_type": "display_data",
          "data": {
            "text/html": [
              ""
            ],
            "text/plain": [
              "<IPython.core.display.HTML object>"
            ]
          },
          "metadata": {
            "tags": []
          }
        },
        {
          "output_type": "display_data",
          "data": {
            "text/html": [
              ""
            ],
            "text/plain": [
              "<IPython.core.display.HTML object>"
            ]
          },
          "metadata": {
            "tags": []
          }
        },
        {
          "output_type": "display_data",
          "data": {
            "text/html": [
              ""
            ],
            "text/plain": [
              "<IPython.core.display.HTML object>"
            ]
          },
          "metadata": {
            "tags": []
          }
        },
        {
          "output_type": "display_data",
          "data": {
            "text/html": [
              ""
            ],
            "text/plain": [
              "<IPython.core.display.HTML object>"
            ]
          },
          "metadata": {
            "tags": []
          }
        },
        {
          "output_type": "display_data",
          "data": {
            "text/html": [
              ""
            ],
            "text/plain": [
              "<IPython.core.display.HTML object>"
            ]
          },
          "metadata": {
            "tags": []
          }
        },
        {
          "output_type": "display_data",
          "data": {
            "text/html": [
              ""
            ],
            "text/plain": [
              "<IPython.core.display.HTML object>"
            ]
          },
          "metadata": {
            "tags": []
          }
        },
        {
          "output_type": "display_data",
          "data": {
            "text/html": [
              ""
            ],
            "text/plain": [
              "<IPython.core.display.HTML object>"
            ]
          },
          "metadata": {
            "tags": []
          }
        },
        {
          "output_type": "display_data",
          "data": {
            "text/html": [
              ""
            ],
            "text/plain": [
              "<IPython.core.display.HTML object>"
            ]
          },
          "metadata": {
            "tags": []
          }
        },
        {
          "output_type": "display_data",
          "data": {
            "text/html": [
              ""
            ],
            "text/plain": [
              "<IPython.core.display.HTML object>"
            ]
          },
          "metadata": {
            "tags": []
          }
        },
        {
          "output_type": "display_data",
          "data": {
            "text/html": [
              ""
            ],
            "text/plain": [
              "<IPython.core.display.HTML object>"
            ]
          },
          "metadata": {
            "tags": []
          }
        },
        {
          "output_type": "display_data",
          "data": {
            "text/html": [
              ""
            ],
            "text/plain": [
              "<IPython.core.display.HTML object>"
            ]
          },
          "metadata": {
            "tags": []
          }
        },
        {
          "output_type": "display_data",
          "data": {
            "text/html": [
              ""
            ],
            "text/plain": [
              "<IPython.core.display.HTML object>"
            ]
          },
          "metadata": {
            "tags": []
          }
        },
        {
          "output_type": "display_data",
          "data": {
            "text/html": [
              ""
            ],
            "text/plain": [
              "<IPython.core.display.HTML object>"
            ]
          },
          "metadata": {
            "tags": []
          }
        },
        {
          "output_type": "display_data",
          "data": {
            "text/html": [
              ""
            ],
            "text/plain": [
              "<IPython.core.display.HTML object>"
            ]
          },
          "metadata": {
            "tags": []
          }
        },
        {
          "output_type": "display_data",
          "data": {
            "text/html": [
              ""
            ],
            "text/plain": [
              "<IPython.core.display.HTML object>"
            ]
          },
          "metadata": {
            "tags": []
          }
        },
        {
          "output_type": "display_data",
          "data": {
            "text/html": [
              ""
            ],
            "text/plain": [
              "<IPython.core.display.HTML object>"
            ]
          },
          "metadata": {
            "tags": []
          }
        },
        {
          "output_type": "display_data",
          "data": {
            "text/html": [
              ""
            ],
            "text/plain": [
              "<IPython.core.display.HTML object>"
            ]
          },
          "metadata": {
            "tags": []
          }
        },
        {
          "output_type": "display_data",
          "data": {
            "text/html": [
              ""
            ],
            "text/plain": [
              "<IPython.core.display.HTML object>"
            ]
          },
          "metadata": {
            "tags": []
          }
        },
        {
          "output_type": "display_data",
          "data": {
            "text/html": [
              ""
            ],
            "text/plain": [
              "<IPython.core.display.HTML object>"
            ]
          },
          "metadata": {
            "tags": []
          }
        },
        {
          "output_type": "display_data",
          "data": {
            "text/html": [
              ""
            ],
            "text/plain": [
              "<IPython.core.display.HTML object>"
            ]
          },
          "metadata": {
            "tags": []
          }
        },
        {
          "output_type": "display_data",
          "data": {
            "text/html": [
              ""
            ],
            "text/plain": [
              "<IPython.core.display.HTML object>"
            ]
          },
          "metadata": {
            "tags": []
          }
        },
        {
          "output_type": "display_data",
          "data": {
            "text/html": [
              ""
            ],
            "text/plain": [
              "<IPython.core.display.HTML object>"
            ]
          },
          "metadata": {
            "tags": []
          }
        },
        {
          "output_type": "display_data",
          "data": {
            "text/html": [
              ""
            ],
            "text/plain": [
              "<IPython.core.display.HTML object>"
            ]
          },
          "metadata": {
            "tags": []
          }
        },
        {
          "output_type": "display_data",
          "data": {
            "text/html": [
              ""
            ],
            "text/plain": [
              "<IPython.core.display.HTML object>"
            ]
          },
          "metadata": {
            "tags": []
          }
        },
        {
          "output_type": "display_data",
          "data": {
            "text/html": [
              ""
            ],
            "text/plain": [
              "<IPython.core.display.HTML object>"
            ]
          },
          "metadata": {
            "tags": []
          }
        },
        {
          "output_type": "display_data",
          "data": {
            "text/html": [
              ""
            ],
            "text/plain": [
              "<IPython.core.display.HTML object>"
            ]
          },
          "metadata": {
            "tags": []
          }
        },
        {
          "output_type": "display_data",
          "data": {
            "text/html": [
              ""
            ],
            "text/plain": [
              "<IPython.core.display.HTML object>"
            ]
          },
          "metadata": {
            "tags": []
          }
        },
        {
          "output_type": "display_data",
          "data": {
            "text/html": [
              ""
            ],
            "text/plain": [
              "<IPython.core.display.HTML object>"
            ]
          },
          "metadata": {
            "tags": []
          }
        },
        {
          "output_type": "display_data",
          "data": {
            "text/html": [
              ""
            ],
            "text/plain": [
              "<IPython.core.display.HTML object>"
            ]
          },
          "metadata": {
            "tags": []
          }
        },
        {
          "output_type": "display_data",
          "data": {
            "text/html": [
              ""
            ],
            "text/plain": [
              "<IPython.core.display.HTML object>"
            ]
          },
          "metadata": {
            "tags": []
          }
        },
        {
          "output_type": "display_data",
          "data": {
            "text/html": [
              ""
            ],
            "text/plain": [
              "<IPython.core.display.HTML object>"
            ]
          },
          "metadata": {
            "tags": []
          }
        },
        {
          "output_type": "display_data",
          "data": {
            "text/html": [
              ""
            ],
            "text/plain": [
              "<IPython.core.display.HTML object>"
            ]
          },
          "metadata": {
            "tags": []
          }
        },
        {
          "output_type": "display_data",
          "data": {
            "text/html": [
              ""
            ],
            "text/plain": [
              "<IPython.core.display.HTML object>"
            ]
          },
          "metadata": {
            "tags": []
          }
        },
        {
          "output_type": "display_data",
          "data": {
            "text/html": [
              ""
            ],
            "text/plain": [
              "<IPython.core.display.HTML object>"
            ]
          },
          "metadata": {
            "tags": []
          }
        },
        {
          "output_type": "display_data",
          "data": {
            "text/html": [
              ""
            ],
            "text/plain": [
              "<IPython.core.display.HTML object>"
            ]
          },
          "metadata": {
            "tags": []
          }
        },
        {
          "output_type": "display_data",
          "data": {
            "text/html": [
              ""
            ],
            "text/plain": [
              "<IPython.core.display.HTML object>"
            ]
          },
          "metadata": {
            "tags": []
          }
        },
        {
          "output_type": "display_data",
          "data": {
            "text/html": [
              ""
            ],
            "text/plain": [
              "<IPython.core.display.HTML object>"
            ]
          },
          "metadata": {
            "tags": []
          }
        },
        {
          "output_type": "display_data",
          "data": {
            "text/html": [
              ""
            ],
            "text/plain": [
              "<IPython.core.display.HTML object>"
            ]
          },
          "metadata": {
            "tags": []
          }
        },
        {
          "output_type": "display_data",
          "data": {
            "text/html": [
              ""
            ],
            "text/plain": [
              "<IPython.core.display.HTML object>"
            ]
          },
          "metadata": {
            "tags": []
          }
        },
        {
          "output_type": "display_data",
          "data": {
            "text/html": [
              ""
            ],
            "text/plain": [
              "<IPython.core.display.HTML object>"
            ]
          },
          "metadata": {
            "tags": []
          }
        },
        {
          "output_type": "display_data",
          "data": {
            "text/html": [
              ""
            ],
            "text/plain": [
              "<IPython.core.display.HTML object>"
            ]
          },
          "metadata": {
            "tags": []
          }
        },
        {
          "output_type": "display_data",
          "data": {
            "text/html": [
              ""
            ],
            "text/plain": [
              "<IPython.core.display.HTML object>"
            ]
          },
          "metadata": {
            "tags": []
          }
        },
        {
          "output_type": "display_data",
          "data": {
            "text/html": [
              ""
            ],
            "text/plain": [
              "<IPython.core.display.HTML object>"
            ]
          },
          "metadata": {
            "tags": []
          }
        },
        {
          "output_type": "display_data",
          "data": {
            "text/html": [
              ""
            ],
            "text/plain": [
              "<IPython.core.display.HTML object>"
            ]
          },
          "metadata": {
            "tags": []
          }
        },
        {
          "output_type": "display_data",
          "data": {
            "text/html": [
              ""
            ],
            "text/plain": [
              "<IPython.core.display.HTML object>"
            ]
          },
          "metadata": {
            "tags": []
          }
        },
        {
          "output_type": "display_data",
          "data": {
            "text/html": [
              ""
            ],
            "text/plain": [
              "<IPython.core.display.HTML object>"
            ]
          },
          "metadata": {
            "tags": []
          }
        },
        {
          "output_type": "display_data",
          "data": {
            "text/html": [
              ""
            ],
            "text/plain": [
              "<IPython.core.display.HTML object>"
            ]
          },
          "metadata": {
            "tags": []
          }
        },
        {
          "output_type": "display_data",
          "data": {
            "text/html": [
              ""
            ],
            "text/plain": [
              "<IPython.core.display.HTML object>"
            ]
          },
          "metadata": {
            "tags": []
          }
        },
        {
          "output_type": "display_data",
          "data": {
            "text/html": [
              ""
            ],
            "text/plain": [
              "<IPython.core.display.HTML object>"
            ]
          },
          "metadata": {
            "tags": []
          }
        },
        {
          "output_type": "display_data",
          "data": {
            "text/html": [
              ""
            ],
            "text/plain": [
              "<IPython.core.display.HTML object>"
            ]
          },
          "metadata": {
            "tags": []
          }
        },
        {
          "output_type": "display_data",
          "data": {
            "text/html": [
              ""
            ],
            "text/plain": [
              "<IPython.core.display.HTML object>"
            ]
          },
          "metadata": {
            "tags": []
          }
        },
        {
          "output_type": "display_data",
          "data": {
            "text/html": [
              ""
            ],
            "text/plain": [
              "<IPython.core.display.HTML object>"
            ]
          },
          "metadata": {
            "tags": []
          }
        },
        {
          "output_type": "display_data",
          "data": {
            "text/html": [
              ""
            ],
            "text/plain": [
              "<IPython.core.display.HTML object>"
            ]
          },
          "metadata": {
            "tags": []
          }
        },
        {
          "output_type": "display_data",
          "data": {
            "text/html": [
              ""
            ],
            "text/plain": [
              "<IPython.core.display.HTML object>"
            ]
          },
          "metadata": {
            "tags": []
          }
        },
        {
          "output_type": "display_data",
          "data": {
            "text/html": [
              ""
            ],
            "text/plain": [
              "<IPython.core.display.HTML object>"
            ]
          },
          "metadata": {
            "tags": []
          }
        },
        {
          "output_type": "display_data",
          "data": {
            "text/html": [
              ""
            ],
            "text/plain": [
              "<IPython.core.display.HTML object>"
            ]
          },
          "metadata": {
            "tags": []
          }
        },
        {
          "output_type": "display_data",
          "data": {
            "text/html": [
              ""
            ],
            "text/plain": [
              "<IPython.core.display.HTML object>"
            ]
          },
          "metadata": {
            "tags": []
          }
        },
        {
          "output_type": "display_data",
          "data": {
            "text/html": [
              ""
            ],
            "text/plain": [
              "<IPython.core.display.HTML object>"
            ]
          },
          "metadata": {
            "tags": []
          }
        },
        {
          "output_type": "display_data",
          "data": {
            "text/html": [
              ""
            ],
            "text/plain": [
              "<IPython.core.display.HTML object>"
            ]
          },
          "metadata": {
            "tags": []
          }
        },
        {
          "output_type": "display_data",
          "data": {
            "text/html": [
              ""
            ],
            "text/plain": [
              "<IPython.core.display.HTML object>"
            ]
          },
          "metadata": {
            "tags": []
          }
        },
        {
          "output_type": "display_data",
          "data": {
            "text/html": [
              ""
            ],
            "text/plain": [
              "<IPython.core.display.HTML object>"
            ]
          },
          "metadata": {
            "tags": []
          }
        },
        {
          "output_type": "display_data",
          "data": {
            "text/html": [
              ""
            ],
            "text/plain": [
              "<IPython.core.display.HTML object>"
            ]
          },
          "metadata": {
            "tags": []
          }
        },
        {
          "output_type": "display_data",
          "data": {
            "text/html": [
              ""
            ],
            "text/plain": [
              "<IPython.core.display.HTML object>"
            ]
          },
          "metadata": {
            "tags": []
          }
        },
        {
          "output_type": "display_data",
          "data": {
            "text/html": [
              ""
            ],
            "text/plain": [
              "<IPython.core.display.HTML object>"
            ]
          },
          "metadata": {
            "tags": []
          }
        },
        {
          "output_type": "display_data",
          "data": {
            "text/html": [
              ""
            ],
            "text/plain": [
              "<IPython.core.display.HTML object>"
            ]
          },
          "metadata": {
            "tags": []
          }
        },
        {
          "output_type": "display_data",
          "data": {
            "text/html": [
              ""
            ],
            "text/plain": [
              "<IPython.core.display.HTML object>"
            ]
          },
          "metadata": {
            "tags": []
          }
        },
        {
          "output_type": "display_data",
          "data": {
            "text/html": [
              ""
            ],
            "text/plain": [
              "<IPython.core.display.HTML object>"
            ]
          },
          "metadata": {
            "tags": []
          }
        },
        {
          "output_type": "display_data",
          "data": {
            "text/html": [
              ""
            ],
            "text/plain": [
              "<IPython.core.display.HTML object>"
            ]
          },
          "metadata": {
            "tags": []
          }
        },
        {
          "output_type": "display_data",
          "data": {
            "text/html": [
              ""
            ],
            "text/plain": [
              "<IPython.core.display.HTML object>"
            ]
          },
          "metadata": {
            "tags": []
          }
        },
        {
          "output_type": "display_data",
          "data": {
            "text/html": [
              ""
            ],
            "text/plain": [
              "<IPython.core.display.HTML object>"
            ]
          },
          "metadata": {
            "tags": []
          }
        },
        {
          "output_type": "display_data",
          "data": {
            "text/html": [
              ""
            ],
            "text/plain": [
              "<IPython.core.display.HTML object>"
            ]
          },
          "metadata": {
            "tags": []
          }
        },
        {
          "output_type": "display_data",
          "data": {
            "text/html": [
              ""
            ],
            "text/plain": [
              "<IPython.core.display.HTML object>"
            ]
          },
          "metadata": {
            "tags": []
          }
        },
        {
          "output_type": "display_data",
          "data": {
            "text/html": [
              ""
            ],
            "text/plain": [
              "<IPython.core.display.HTML object>"
            ]
          },
          "metadata": {
            "tags": []
          }
        },
        {
          "output_type": "display_data",
          "data": {
            "text/html": [
              ""
            ],
            "text/plain": [
              "<IPython.core.display.HTML object>"
            ]
          },
          "metadata": {
            "tags": []
          }
        },
        {
          "output_type": "display_data",
          "data": {
            "text/html": [
              ""
            ],
            "text/plain": [
              "<IPython.core.display.HTML object>"
            ]
          },
          "metadata": {
            "tags": []
          }
        },
        {
          "output_type": "display_data",
          "data": {
            "text/html": [
              ""
            ],
            "text/plain": [
              "<IPython.core.display.HTML object>"
            ]
          },
          "metadata": {
            "tags": []
          }
        },
        {
          "output_type": "display_data",
          "data": {
            "text/html": [
              ""
            ],
            "text/plain": [
              "<IPython.core.display.HTML object>"
            ]
          },
          "metadata": {
            "tags": []
          }
        },
        {
          "output_type": "display_data",
          "data": {
            "text/html": [
              ""
            ],
            "text/plain": [
              "<IPython.core.display.HTML object>"
            ]
          },
          "metadata": {
            "tags": []
          }
        },
        {
          "output_type": "display_data",
          "data": {
            "text/html": [
              ""
            ],
            "text/plain": [
              "<IPython.core.display.HTML object>"
            ]
          },
          "metadata": {
            "tags": []
          }
        },
        {
          "output_type": "display_data",
          "data": {
            "text/html": [
              ""
            ],
            "text/plain": [
              "<IPython.core.display.HTML object>"
            ]
          },
          "metadata": {
            "tags": []
          }
        },
        {
          "output_type": "display_data",
          "data": {
            "text/html": [
              ""
            ],
            "text/plain": [
              "<IPython.core.display.HTML object>"
            ]
          },
          "metadata": {
            "tags": []
          }
        },
        {
          "output_type": "display_data",
          "data": {
            "text/html": [
              ""
            ],
            "text/plain": [
              "<IPython.core.display.HTML object>"
            ]
          },
          "metadata": {
            "tags": []
          }
        },
        {
          "output_type": "display_data",
          "data": {
            "text/html": [
              ""
            ],
            "text/plain": [
              "<IPython.core.display.HTML object>"
            ]
          },
          "metadata": {
            "tags": []
          }
        },
        {
          "output_type": "display_data",
          "data": {
            "text/html": [
              ""
            ],
            "text/plain": [
              "<IPython.core.display.HTML object>"
            ]
          },
          "metadata": {
            "tags": []
          }
        },
        {
          "output_type": "display_data",
          "data": {
            "text/html": [
              ""
            ],
            "text/plain": [
              "<IPython.core.display.HTML object>"
            ]
          },
          "metadata": {
            "tags": []
          }
        },
        {
          "output_type": "display_data",
          "data": {
            "text/html": [
              ""
            ],
            "text/plain": [
              "<IPython.core.display.HTML object>"
            ]
          },
          "metadata": {
            "tags": []
          }
        },
        {
          "output_type": "display_data",
          "data": {
            "text/html": [
              ""
            ],
            "text/plain": [
              "<IPython.core.display.HTML object>"
            ]
          },
          "metadata": {
            "tags": []
          }
        },
        {
          "output_type": "display_data",
          "data": {
            "text/html": [
              ""
            ],
            "text/plain": [
              "<IPython.core.display.HTML object>"
            ]
          },
          "metadata": {
            "tags": []
          }
        },
        {
          "output_type": "display_data",
          "data": {
            "text/html": [
              ""
            ],
            "text/plain": [
              "<IPython.core.display.HTML object>"
            ]
          },
          "metadata": {
            "tags": []
          }
        },
        {
          "output_type": "display_data",
          "data": {
            "text/html": [
              ""
            ],
            "text/plain": [
              "<IPython.core.display.HTML object>"
            ]
          },
          "metadata": {
            "tags": []
          }
        },
        {
          "output_type": "display_data",
          "data": {
            "text/html": [
              ""
            ],
            "text/plain": [
              "<IPython.core.display.HTML object>"
            ]
          },
          "metadata": {
            "tags": []
          }
        },
        {
          "output_type": "display_data",
          "data": {
            "text/html": [
              ""
            ],
            "text/plain": [
              "<IPython.core.display.HTML object>"
            ]
          },
          "metadata": {
            "tags": []
          }
        },
        {
          "output_type": "display_data",
          "data": {
            "text/html": [
              ""
            ],
            "text/plain": [
              "<IPython.core.display.HTML object>"
            ]
          },
          "metadata": {
            "tags": []
          }
        },
        {
          "output_type": "display_data",
          "data": {
            "text/html": [
              ""
            ],
            "text/plain": [
              "<IPython.core.display.HTML object>"
            ]
          },
          "metadata": {
            "tags": []
          }
        },
        {
          "output_type": "display_data",
          "data": {
            "text/html": [
              ""
            ],
            "text/plain": [
              "<IPython.core.display.HTML object>"
            ]
          },
          "metadata": {
            "tags": []
          }
        }
      ]
    },
    {
      "cell_type": "code",
      "metadata": {
        "id": "ssgCPAWxednK",
        "colab_type": "code",
        "colab": {
          "base_uri": "https://localhost:8080/",
          "height": 419
        },
        "outputId": "15c8e331-0e13-4323-f5c0-213cd919d591"
      },
      "source": [
        "list_of_new_bios"
      ],
      "execution_count": null,
      "outputs": [
        {
          "output_type": "execute_result",
          "data": {
            "text/html": [
              "<div>\n",
              "<style scoped>\n",
              "    .dataframe tbody tr th:only-of-type {\n",
              "        vertical-align: middle;\n",
              "    }\n",
              "\n",
              "    .dataframe tbody tr th {\n",
              "        vertical-align: top;\n",
              "    }\n",
              "\n",
              "    .dataframe thead th {\n",
              "        text-align: right;\n",
              "    }\n",
              "</style>\n",
              "<table border=\"1\" class=\"dataframe\">\n",
              "  <thead>\n",
              "    <tr style=\"text-align: right;\">\n",
              "      <th></th>\n",
              "      <th>Users</th>\n",
              "      <th>Bios</th>\n",
              "      <th>RW_prediction</th>\n",
              "    </tr>\n",
              "  </thead>\n",
              "  <tbody>\n",
              "    <tr>\n",
              "      <th>0</th>\n",
              "      <td>Humza_Khann</td>\n",
              "      <td>London 📍| Instagram: HumzaKhan_</td>\n",
              "      <td>False</td>\n",
              "    </tr>\n",
              "    <tr>\n",
              "      <th>1</th>\n",
              "      <td>PDF53</td>\n",
              "      <td>Retired Logistics Contractor;\\nIroning my own shirts since '69;\\nUnashamed to Back Britain; Back on here April 20. #AllLivesMatter\\n#DefundTheBBC #mufc #brexit</td>\n",
              "      <td>False</td>\n",
              "    </tr>\n",
              "    <tr>\n",
              "      <th>2</th>\n",
              "      <td>katunar07</td>\n",
              "      <td>🇦🇱🇽🇰</td>\n",
              "      <td>False</td>\n",
              "    </tr>\n",
              "    <tr>\n",
              "      <th>3</th>\n",
              "      <td>claire_bates</td>\n",
              "      <td>Journo, mummy, carer, Army wife and star of Sesame Street. In differing orders of importance. British but squatting in the States for a bit</td>\n",
              "      <td>False</td>\n",
              "    </tr>\n",
              "    <tr>\n",
              "      <th>4</th>\n",
              "      <td>ChrisWinker</td>\n",
              "      <td></td>\n",
              "      <td>False</td>\n",
              "    </tr>\n",
              "    <tr>\n",
              "      <th>...</th>\n",
              "      <td>...</td>\n",
              "      <td>...</td>\n",
              "      <td>...</td>\n",
              "    </tr>\n",
              "    <tr>\n",
              "      <th>105</th>\n",
              "      <td>DJBURNS_was</td>\n",
              "      <td>Follow me, I’ll follow back 🇬🇧 stop illegal migrants 💪 very right wing 👉 love 🇺🇸 used to be DJBURNS. All comments are my own.</td>\n",
              "      <td>True</td>\n",
              "    </tr>\n",
              "    <tr>\n",
              "      <th>106</th>\n",
              "      <td>SP92328669</td>\n",
              "      <td>London hairdresser, voted Brexit. Don’t fund BBC, buy British. Daughter of immigrant, Britalian. Follow F1, love yoga and meditation. love sarcasm</td>\n",
              "      <td>True</td>\n",
              "    </tr>\n",
              "    <tr>\n",
              "      <th>107</th>\n",
              "      <td>ashishchakrabor</td>\n",
              "      <td>A licensed commercial manger with over 20 years’ experience in the licensed and hospitality industry. Love rum and coke.</td>\n",
              "      <td>False</td>\n",
              "    </tr>\n",
              "    <tr>\n",
              "      <th>108</th>\n",
              "      <td>Budgey_95</td>\n",
              "      <td>🇾🇪</td>\n",
              "      <td>False</td>\n",
              "    </tr>\n",
              "    <tr>\n",
              "      <th>109</th>\n",
              "      <td>SomePrickIKnow</td>\n",
              "      <td>just doing my bit......</td>\n",
              "      <td>False</td>\n",
              "    </tr>\n",
              "  </tbody>\n",
              "</table>\n",
              "<p>110 rows × 3 columns</p>\n",
              "</div>"
            ],
            "text/plain": [
              "               Users  ... RW_prediction\n",
              "0        Humza_Khann  ...         False\n",
              "1              PDF53  ...         False\n",
              "2          katunar07  ...         False\n",
              "3       claire_bates  ...         False\n",
              "4        ChrisWinker  ...         False\n",
              "..               ...  ...           ...\n",
              "105      DJBURNS_was  ...          True\n",
              "106       SP92328669  ...          True\n",
              "107  ashishchakrabor  ...         False\n",
              "108        Budgey_95  ...         False\n",
              "109   SomePrickIKnow  ...         False\n",
              "\n",
              "[110 rows x 3 columns]"
            ]
          },
          "metadata": {
            "tags": []
          },
          "execution_count": 24
        }
      ]
    },
    {
      "cell_type": "code",
      "metadata": {
        "id": "4EX2vEbtdjVo",
        "colab_type": "code",
        "colab": {}
      },
      "source": [
        "list_of_new_bios = list_of_new_bios.rename({\"Users\":\"username\"}, axis=1)"
      ],
      "execution_count": null,
      "outputs": []
    },
    {
      "cell_type": "code",
      "metadata": {
        "id": "IvdZJbl1e1sf",
        "colab_type": "code",
        "colab": {
          "base_uri": "https://localhost:8080/",
          "height": 589
        },
        "outputId": "ccd50ee7-ee92-4293-8720-d8e65e302b5c"
      },
      "source": [
        "df"
      ],
      "execution_count": null,
      "outputs": [
        {
          "output_type": "execute_result",
          "data": {
            "text/html": [
              "<div>\n",
              "<style scoped>\n",
              "    .dataframe tbody tr th:only-of-type {\n",
              "        vertical-align: middle;\n",
              "    }\n",
              "\n",
              "    .dataframe tbody tr th {\n",
              "        vertical-align: top;\n",
              "    }\n",
              "\n",
              "    .dataframe thead th {\n",
              "        text-align: right;\n",
              "    }\n",
              "</style>\n",
              "<table border=\"1\" class=\"dataframe\">\n",
              "  <thead>\n",
              "    <tr style=\"text-align: right;\">\n",
              "      <th></th>\n",
              "      <th>0</th>\n",
              "      <th>username</th>\n",
              "      <th>text</th>\n",
              "    </tr>\n",
              "  </thead>\n",
              "  <tbody>\n",
              "    <tr>\n",
              "      <th>0</th>\n",
              "      <td>&lt;GetOldTweets3.models.Tweet.Tweet object at 0x7f8ad768aa20&gt;</td>\n",
              "      <td>Humza_Khann</td>\n",
              "      <td>@metpoliceuk</td>\n",
              "    </tr>\n",
              "    <tr>\n",
              "      <th>1</th>\n",
              "      <td>&lt;GetOldTweets3.models.Tweet.Tweet object at 0x7f8ad768a908&gt;</td>\n",
              "      <td>PDF53</td>\n",
              "      <td>@metpoliceuk @MPFed @MetCC The film ..now..! @DawnButlerBrent @Keir_Starmer</td>\n",
              "    </tr>\n",
              "    <tr>\n",
              "      <th>2</th>\n",
              "      <td>&lt;GetOldTweets3.models.Tweet.Tweet object at 0x7f8ad768af28&gt;</td>\n",
              "      <td>PDF53</td>\n",
              "      <td>@metpoliceuk @MetCC Show the film. Now !</td>\n",
              "    </tr>\n",
              "    <tr>\n",
              "      <th>3</th>\n",
              "      <td>&lt;GetOldTweets3.models.Tweet.Tweet object at 0x7f8ad768a8d0&gt;</td>\n",
              "      <td>katunar07</td>\n",
              "      <td>@metpoliceuk you’re needed</td>\n",
              "    </tr>\n",
              "    <tr>\n",
              "      <th>4</th>\n",
              "      <td>&lt;GetOldTweets3.models.Tweet.Tweet object at 0x7f8ad768a2b0&gt;</td>\n",
              "      <td>claire_bates</td>\n",
              "      <td>@metpoliceuk got away extraordinarily lightly in this @BBCDocs investigation. Disappointingly lightweight.</td>\n",
              "    </tr>\n",
              "    <tr>\n",
              "      <th>...</th>\n",
              "      <td>...</td>\n",
              "      <td>...</td>\n",
              "      <td>...</td>\n",
              "    </tr>\n",
              "    <tr>\n",
              "      <th>115</th>\n",
              "      <td>&lt;GetOldTweets3.models.Tweet.Tweet object at 0x7f8ad7636c18&gt;</td>\n",
              "      <td>DJBURNS_was</td>\n",
              "      <td>Does the driving ban marry up with the sentence? Depending how long he serves, will he be able to drive when he gets out? The mind boggles</td>\n",
              "    </tr>\n",
              "    <tr>\n",
              "      <th>116</th>\n",
              "      <td>&lt;GetOldTweets3.models.Tweet.Tweet object at 0x7f8ad7621978&gt;</td>\n",
              "      <td>SP92328669</td>\n",
              "      <td>I hope the disqualification is starting after his sentence or it’s pointless.</td>\n",
              "    </tr>\n",
              "    <tr>\n",
              "      <th>117</th>\n",
              "      <td>&lt;GetOldTweets3.models.Tweet.Tweet object at 0x7f8ad7621ef0&gt;</td>\n",
              "      <td>ashishchakrabor</td>\n",
              "      <td>After watching all the police shows like interceptors and traffic cops, I feel the law lets the police down with the sentencing .the hard work and length they go to fight crimes. Must be frustrating. Stay safe</td>\n",
              "    </tr>\n",
              "    <tr>\n",
              "      <th>118</th>\n",
              "      <td>&lt;GetOldTweets3.models.Tweet.Tweet object at 0x7f8ad7636eb8&gt;</td>\n",
              "      <td>Budgey_95</td>\n",
              "      <td>@metpoliceuk fuck you all dirty racist basteds</td>\n",
              "    </tr>\n",
              "    <tr>\n",
              "      <th>119</th>\n",
              "      <td>&lt;GetOldTweets3.models.Tweet.Tweet object at 0x7f8ad76364e0&gt;</td>\n",
              "      <td>SomePrickIKnow</td>\n",
              "      <td>No driving around the prison grounds for him then. That’ll show him.</td>\n",
              "    </tr>\n",
              "  </tbody>\n",
              "</table>\n",
              "<p>120 rows × 3 columns</p>\n",
              "</div>"
            ],
            "text/plain": [
              "                                                               0  ...                                                                                                                                                                                                               text\n",
              "0    <GetOldTweets3.models.Tweet.Tweet object at 0x7f8ad768aa20>  ...                                                                                                                                                                                                       @metpoliceuk\n",
              "1    <GetOldTweets3.models.Tweet.Tweet object at 0x7f8ad768a908>  ...                                                                                                                                        @metpoliceuk @MPFed @MetCC The film ..now..! @DawnButlerBrent @Keir_Starmer\n",
              "2    <GetOldTweets3.models.Tweet.Tweet object at 0x7f8ad768af28>  ...                                                                                                                                                                           @metpoliceuk @MetCC Show the film. Now !\n",
              "3    <GetOldTweets3.models.Tweet.Tweet object at 0x7f8ad768a8d0>  ...                                                                                                                                                                                         @metpoliceuk you’re needed\n",
              "4    <GetOldTweets3.models.Tweet.Tweet object at 0x7f8ad768a2b0>  ...                                                                                                         @metpoliceuk got away extraordinarily lightly in this @BBCDocs investigation. Disappointingly lightweight.\n",
              "..                                                           ...  ...                                                                                                                                                                                                                ...\n",
              "115  <GetOldTweets3.models.Tweet.Tweet object at 0x7f8ad7636c18>  ...                                                                        Does the driving ban marry up with the sentence? Depending how long he serves, will he be able to drive when he gets out? The mind boggles \n",
              "116  <GetOldTweets3.models.Tweet.Tweet object at 0x7f8ad7621978>  ...                                                                                                                                      I hope the disqualification is starting after his sentence or it’s pointless.\n",
              "117  <GetOldTweets3.models.Tweet.Tweet object at 0x7f8ad7621ef0>  ...  After watching all the police shows like interceptors and traffic cops, I feel the law lets the police down with the sentencing .the hard work and length they go to fight crimes. Must be frustrating. Stay safe\n",
              "118  <GetOldTweets3.models.Tweet.Tweet object at 0x7f8ad7636eb8>  ...                                                                                                                                                                     @metpoliceuk fuck you all dirty racist basteds\n",
              "119  <GetOldTweets3.models.Tweet.Tweet object at 0x7f8ad76364e0>  ...                                                                                                                                               No driving around the prison grounds for him then. That’ll show him.\n",
              "\n",
              "[120 rows x 3 columns]"
            ]
          },
          "metadata": {
            "tags": []
          },
          "execution_count": 29
        }
      ]
    },
    {
      "cell_type": "code",
      "metadata": {
        "id": "AtUUdoFweQSk",
        "colab_type": "code",
        "colab": {}
      },
      "source": [
        "new_df = df.merge(list_of_new_bios, on=[\"username\"])"
      ],
      "execution_count": null,
      "outputs": []
    },
    {
      "cell_type": "code",
      "metadata": {
        "id": "94qk07u9f9Bq",
        "colab_type": "code",
        "colab": {
          "base_uri": "https://localhost:8080/",
          "height": 674
        },
        "outputId": "71ef4616-9605-4d18-888d-be47d505f1f6"
      },
      "source": [
        "new_df"
      ],
      "execution_count": null,
      "outputs": [
        {
          "output_type": "execute_result",
          "data": {
            "text/html": [
              "<div>\n",
              "<style scoped>\n",
              "    .dataframe tbody tr th:only-of-type {\n",
              "        vertical-align: middle;\n",
              "    }\n",
              "\n",
              "    .dataframe tbody tr th {\n",
              "        vertical-align: top;\n",
              "    }\n",
              "\n",
              "    .dataframe thead th {\n",
              "        text-align: right;\n",
              "    }\n",
              "</style>\n",
              "<table border=\"1\" class=\"dataframe\">\n",
              "  <thead>\n",
              "    <tr style=\"text-align: right;\">\n",
              "      <th></th>\n",
              "      <th>0</th>\n",
              "      <th>username</th>\n",
              "      <th>text</th>\n",
              "      <th>Bios</th>\n",
              "      <th>RW_prediction</th>\n",
              "    </tr>\n",
              "  </thead>\n",
              "  <tbody>\n",
              "    <tr>\n",
              "      <th>0</th>\n",
              "      <td>&lt;GetOldTweets3.models.Tweet.Tweet object at 0x7f8ad768aa20&gt;</td>\n",
              "      <td>Humza_Khann</td>\n",
              "      <td>@metpoliceuk</td>\n",
              "      <td>London 📍| Instagram: HumzaKhan_</td>\n",
              "      <td>False</td>\n",
              "    </tr>\n",
              "    <tr>\n",
              "      <th>1</th>\n",
              "      <td>&lt;GetOldTweets3.models.Tweet.Tweet object at 0x7f8ad768a908&gt;</td>\n",
              "      <td>PDF53</td>\n",
              "      <td>@metpoliceuk @MPFed @MetCC The film ..now..! @DawnButlerBrent @Keir_Starmer</td>\n",
              "      <td>Retired Logistics Contractor;\\nIroning my own shirts since '69;\\nUnashamed to Back Britain; Back on here April 20. #AllLivesMatter\\n#DefundTheBBC #mufc #brexit</td>\n",
              "      <td>False</td>\n",
              "    </tr>\n",
              "    <tr>\n",
              "      <th>2</th>\n",
              "      <td>&lt;GetOldTweets3.models.Tweet.Tweet object at 0x7f8ad768af28&gt;</td>\n",
              "      <td>PDF53</td>\n",
              "      <td>@metpoliceuk @MetCC Show the film. Now !</td>\n",
              "      <td>Retired Logistics Contractor;\\nIroning my own shirts since '69;\\nUnashamed to Back Britain; Back on here April 20. #AllLivesMatter\\n#DefundTheBBC #mufc #brexit</td>\n",
              "      <td>False</td>\n",
              "    </tr>\n",
              "    <tr>\n",
              "      <th>3</th>\n",
              "      <td>&lt;GetOldTweets3.models.Tweet.Tweet object at 0x7f8ad768a8d0&gt;</td>\n",
              "      <td>katunar07</td>\n",
              "      <td>@metpoliceuk you’re needed</td>\n",
              "      <td>🇦🇱🇽🇰</td>\n",
              "      <td>False</td>\n",
              "    </tr>\n",
              "    <tr>\n",
              "      <th>4</th>\n",
              "      <td>&lt;GetOldTweets3.models.Tweet.Tweet object at 0x7f8ad768a2b0&gt;</td>\n",
              "      <td>claire_bates</td>\n",
              "      <td>@metpoliceuk got away extraordinarily lightly in this @BBCDocs investigation. Disappointingly lightweight.</td>\n",
              "      <td>Journo, mummy, carer, Army wife and star of Sesame Street. In differing orders of importance. British but squatting in the States for a bit</td>\n",
              "      <td>False</td>\n",
              "    </tr>\n",
              "    <tr>\n",
              "      <th>...</th>\n",
              "      <td>...</td>\n",
              "      <td>...</td>\n",
              "      <td>...</td>\n",
              "      <td>...</td>\n",
              "      <td>...</td>\n",
              "    </tr>\n",
              "    <tr>\n",
              "      <th>119</th>\n",
              "      <td>&lt;GetOldTweets3.models.Tweet.Tweet object at 0x7f8ad7636c18&gt;</td>\n",
              "      <td>DJBURNS_was</td>\n",
              "      <td>Does the driving ban marry up with the sentence? Depending how long he serves, will he be able to drive when he gets out? The mind boggles</td>\n",
              "      <td>Follow me, I’ll follow back 🇬🇧 stop illegal migrants 💪 very right wing 👉 love 🇺🇸 used to be DJBURNS. All comments are my own.</td>\n",
              "      <td>True</td>\n",
              "    </tr>\n",
              "    <tr>\n",
              "      <th>120</th>\n",
              "      <td>&lt;GetOldTweets3.models.Tweet.Tweet object at 0x7f8ad7621978&gt;</td>\n",
              "      <td>SP92328669</td>\n",
              "      <td>I hope the disqualification is starting after his sentence or it’s pointless.</td>\n",
              "      <td>London hairdresser, voted Brexit. Don’t fund BBC, buy British. Daughter of immigrant, Britalian. Follow F1, love yoga and meditation. love sarcasm</td>\n",
              "      <td>True</td>\n",
              "    </tr>\n",
              "    <tr>\n",
              "      <th>121</th>\n",
              "      <td>&lt;GetOldTweets3.models.Tweet.Tweet object at 0x7f8ad7621ef0&gt;</td>\n",
              "      <td>ashishchakrabor</td>\n",
              "      <td>After watching all the police shows like interceptors and traffic cops, I feel the law lets the police down with the sentencing .the hard work and length they go to fight crimes. Must be frustrating. Stay safe</td>\n",
              "      <td>A licensed commercial manger with over 20 years’ experience in the licensed and hospitality industry. Love rum and coke.</td>\n",
              "      <td>False</td>\n",
              "    </tr>\n",
              "    <tr>\n",
              "      <th>122</th>\n",
              "      <td>&lt;GetOldTweets3.models.Tweet.Tweet object at 0x7f8ad7636eb8&gt;</td>\n",
              "      <td>Budgey_95</td>\n",
              "      <td>@metpoliceuk fuck you all dirty racist basteds</td>\n",
              "      <td>🇾🇪</td>\n",
              "      <td>False</td>\n",
              "    </tr>\n",
              "    <tr>\n",
              "      <th>123</th>\n",
              "      <td>&lt;GetOldTweets3.models.Tweet.Tweet object at 0x7f8ad76364e0&gt;</td>\n",
              "      <td>SomePrickIKnow</td>\n",
              "      <td>No driving around the prison grounds for him then. That’ll show him.</td>\n",
              "      <td>just doing my bit......</td>\n",
              "      <td>False</td>\n",
              "    </tr>\n",
              "  </tbody>\n",
              "</table>\n",
              "<p>124 rows × 5 columns</p>\n",
              "</div>"
            ],
            "text/plain": [
              "                                                               0  ... RW_prediction\n",
              "0    <GetOldTweets3.models.Tweet.Tweet object at 0x7f8ad768aa20>  ...         False\n",
              "1    <GetOldTweets3.models.Tweet.Tweet object at 0x7f8ad768a908>  ...         False\n",
              "2    <GetOldTweets3.models.Tweet.Tweet object at 0x7f8ad768af28>  ...         False\n",
              "3    <GetOldTweets3.models.Tweet.Tweet object at 0x7f8ad768a8d0>  ...         False\n",
              "4    <GetOldTweets3.models.Tweet.Tweet object at 0x7f8ad768a2b0>  ...         False\n",
              "..                                                           ...  ...           ...\n",
              "119  <GetOldTweets3.models.Tweet.Tweet object at 0x7f8ad7636c18>  ...          True\n",
              "120  <GetOldTweets3.models.Tweet.Tweet object at 0x7f8ad7621978>  ...          True\n",
              "121  <GetOldTweets3.models.Tweet.Tweet object at 0x7f8ad7621ef0>  ...         False\n",
              "122  <GetOldTweets3.models.Tweet.Tweet object at 0x7f8ad7636eb8>  ...         False\n",
              "123  <GetOldTweets3.models.Tweet.Tweet object at 0x7f8ad76364e0>  ...         False\n",
              "\n",
              "[124 rows x 5 columns]"
            ]
          },
          "metadata": {
            "tags": []
          },
          "execution_count": 36
        }
      ]
    },
    {
      "cell_type": "code",
      "metadata": {
        "id": "LHXk2izfhRcc",
        "colab_type": "code",
        "colab": {}
      },
      "source": [
        "from textblob import TextBlob\n",
        "from wordcloud import WordCloud"
      ],
      "execution_count": null,
      "outputs": []
    },
    {
      "cell_type": "code",
      "metadata": {
        "id": "YLtaGrEqg54R",
        "colab_type": "code",
        "colab": {
          "base_uri": "https://localhost:8080/",
          "height": 844
        },
        "outputId": "64c58422-f931-48c1-c87f-1e9ba08dbf40"
      },
      "source": [
        "# Create a function to clean the tweets\n",
        "def cleanTxt(text):\n",
        " text = re.sub('@[A-Za-z0–9]+', '', text) #Removing @mentions\n",
        " text = re.sub('#', '', text) # Removing '#' hash tag\n",
        " text = re.sub('RT[\\s]+', '', text) # Removing RT\n",
        " text = re.sub('https?:\\/\\/\\S+', '', text) # Removing hyperlink\n",
        " \n",
        " return text\n",
        "\n",
        "\n",
        "# Clean the tweets\n",
        "new_df['clean_text'] = new_df['text'].apply(cleanTxt)\n",
        "\n",
        "# Show the cleaned tweets\n",
        "new_df"
      ],
      "execution_count": null,
      "outputs": [
        {
          "output_type": "execute_result",
          "data": {
            "text/html": [
              "<div>\n",
              "<style scoped>\n",
              "    .dataframe tbody tr th:only-of-type {\n",
              "        vertical-align: middle;\n",
              "    }\n",
              "\n",
              "    .dataframe tbody tr th {\n",
              "        vertical-align: top;\n",
              "    }\n",
              "\n",
              "    .dataframe thead th {\n",
              "        text-align: right;\n",
              "    }\n",
              "</style>\n",
              "<table border=\"1\" class=\"dataframe\">\n",
              "  <thead>\n",
              "    <tr style=\"text-align: right;\">\n",
              "      <th></th>\n",
              "      <th>0</th>\n",
              "      <th>username</th>\n",
              "      <th>text</th>\n",
              "      <th>Bios</th>\n",
              "      <th>RW_prediction</th>\n",
              "      <th>clean_text</th>\n",
              "    </tr>\n",
              "  </thead>\n",
              "  <tbody>\n",
              "    <tr>\n",
              "      <th>0</th>\n",
              "      <td>&lt;GetOldTweets3.models.Tweet.Tweet object at 0x7f8ad768aa20&gt;</td>\n",
              "      <td>Humza_Khann</td>\n",
              "      <td>@metpoliceuk</td>\n",
              "      <td>London 📍| Instagram: HumzaKhan_</td>\n",
              "      <td>False</td>\n",
              "      <td></td>\n",
              "    </tr>\n",
              "    <tr>\n",
              "      <th>1</th>\n",
              "      <td>&lt;GetOldTweets3.models.Tweet.Tweet object at 0x7f8ad768a908&gt;</td>\n",
              "      <td>PDF53</td>\n",
              "      <td>@metpoliceuk @MPFed @MetCC The film ..now..! @DawnButlerBrent @Keir_Starmer</td>\n",
              "      <td>Retired Logistics Contractor;\\nIroning my own shirts since '69;\\nUnashamed to Back Britain; Back on here April 20. #AllLivesMatter\\n#DefundTheBBC #mufc #brexit</td>\n",
              "      <td>False</td>\n",
              "      <td>The film ..now..!  _Starmer</td>\n",
              "    </tr>\n",
              "    <tr>\n",
              "      <th>2</th>\n",
              "      <td>&lt;GetOldTweets3.models.Tweet.Tweet object at 0x7f8ad768af28&gt;</td>\n",
              "      <td>PDF53</td>\n",
              "      <td>@metpoliceuk @MetCC Show the film. Now !</td>\n",
              "      <td>Retired Logistics Contractor;\\nIroning my own shirts since '69;\\nUnashamed to Back Britain; Back on here April 20. #AllLivesMatter\\n#DefundTheBBC #mufc #brexit</td>\n",
              "      <td>False</td>\n",
              "      <td>Show the film. Now !</td>\n",
              "    </tr>\n",
              "    <tr>\n",
              "      <th>3</th>\n",
              "      <td>&lt;GetOldTweets3.models.Tweet.Tweet object at 0x7f8ad768a8d0&gt;</td>\n",
              "      <td>katunar07</td>\n",
              "      <td>@metpoliceuk you’re needed</td>\n",
              "      <td>🇦🇱🇽🇰</td>\n",
              "      <td>False</td>\n",
              "      <td>you’re needed</td>\n",
              "    </tr>\n",
              "    <tr>\n",
              "      <th>4</th>\n",
              "      <td>&lt;GetOldTweets3.models.Tweet.Tweet object at 0x7f8ad768a2b0&gt;</td>\n",
              "      <td>claire_bates</td>\n",
              "      <td>@metpoliceuk got away extraordinarily lightly in this @BBCDocs investigation. Disappointingly lightweight.</td>\n",
              "      <td>Journo, mummy, carer, Army wife and star of Sesame Street. In differing orders of importance. British but squatting in the States for a bit</td>\n",
              "      <td>False</td>\n",
              "      <td>got away extraordinarily lightly in this  investigation. Disappointingly lightweight.</td>\n",
              "    </tr>\n",
              "    <tr>\n",
              "      <th>...</th>\n",
              "      <td>...</td>\n",
              "      <td>...</td>\n",
              "      <td>...</td>\n",
              "      <td>...</td>\n",
              "      <td>...</td>\n",
              "      <td>...</td>\n",
              "    </tr>\n",
              "    <tr>\n",
              "      <th>119</th>\n",
              "      <td>&lt;GetOldTweets3.models.Tweet.Tweet object at 0x7f8ad7636c18&gt;</td>\n",
              "      <td>DJBURNS_was</td>\n",
              "      <td>Does the driving ban marry up with the sentence? Depending how long he serves, will he be able to drive when he gets out? The mind boggles</td>\n",
              "      <td>Follow me, I’ll follow back 🇬🇧 stop illegal migrants 💪 very right wing 👉 love 🇺🇸 used to be DJBURNS. All comments are my own.</td>\n",
              "      <td>True</td>\n",
              "      <td>Does the driving ban marry up with the sentence? Depending how long he serves, will he be able to drive when he gets out? The mind boggles</td>\n",
              "    </tr>\n",
              "    <tr>\n",
              "      <th>120</th>\n",
              "      <td>&lt;GetOldTweets3.models.Tweet.Tweet object at 0x7f8ad7621978&gt;</td>\n",
              "      <td>SP92328669</td>\n",
              "      <td>I hope the disqualification is starting after his sentence or it’s pointless.</td>\n",
              "      <td>London hairdresser, voted Brexit. Don’t fund BBC, buy British. Daughter of immigrant, Britalian. Follow F1, love yoga and meditation. love sarcasm</td>\n",
              "      <td>True</td>\n",
              "      <td>I hope the disqualification is starting after his sentence or it’s pointless.</td>\n",
              "    </tr>\n",
              "    <tr>\n",
              "      <th>121</th>\n",
              "      <td>&lt;GetOldTweets3.models.Tweet.Tweet object at 0x7f8ad7621ef0&gt;</td>\n",
              "      <td>ashishchakrabor</td>\n",
              "      <td>After watching all the police shows like interceptors and traffic cops, I feel the law lets the police down with the sentencing .the hard work and length they go to fight crimes. Must be frustrating. Stay safe</td>\n",
              "      <td>A licensed commercial manger with over 20 years’ experience in the licensed and hospitality industry. Love rum and coke.</td>\n",
              "      <td>False</td>\n",
              "      <td>After watching all the police shows like interceptors and traffic cops, I feel the law lets the police down with the sentencing .the hard work and length they go to fight crimes. Must be frustrating. Stay safe</td>\n",
              "    </tr>\n",
              "    <tr>\n",
              "      <th>122</th>\n",
              "      <td>&lt;GetOldTweets3.models.Tweet.Tweet object at 0x7f8ad7636eb8&gt;</td>\n",
              "      <td>Budgey_95</td>\n",
              "      <td>@metpoliceuk fuck you all dirty racist basteds</td>\n",
              "      <td>🇾🇪</td>\n",
              "      <td>False</td>\n",
              "      <td>fuck you all dirty racist basteds</td>\n",
              "    </tr>\n",
              "    <tr>\n",
              "      <th>123</th>\n",
              "      <td>&lt;GetOldTweets3.models.Tweet.Tweet object at 0x7f8ad76364e0&gt;</td>\n",
              "      <td>SomePrickIKnow</td>\n",
              "      <td>No driving around the prison grounds for him then. That’ll show him.</td>\n",
              "      <td>just doing my bit......</td>\n",
              "      <td>False</td>\n",
              "      <td>No driving around the prison grounds for him then. That’ll show him.</td>\n",
              "    </tr>\n",
              "  </tbody>\n",
              "</table>\n",
              "<p>124 rows × 6 columns</p>\n",
              "</div>"
            ],
            "text/plain": [
              "                                                               0  ...                                                                                                                                                                                                         clean_text\n",
              "0    <GetOldTweets3.models.Tweet.Tweet object at 0x7f8ad768aa20>  ...                                                                                                                                                                                                                   \n",
              "1    <GetOldTweets3.models.Tweet.Tweet object at 0x7f8ad768a908>  ...                                                                                                                                                                                        The film ..now..!  _Starmer\n",
              "2    <GetOldTweets3.models.Tweet.Tweet object at 0x7f8ad768af28>  ...                                                                                                                                                                                               Show the film. Now !\n",
              "3    <GetOldTweets3.models.Tweet.Tweet object at 0x7f8ad768a8d0>  ...                                                                                                                                                                                                      you’re needed\n",
              "4    <GetOldTweets3.models.Tweet.Tweet object at 0x7f8ad768a2b0>  ...                                                                                                                              got away extraordinarily lightly in this  investigation. Disappointingly lightweight.\n",
              "..                                                           ...  ...                                                                                                                                                                                                                ...\n",
              "119  <GetOldTweets3.models.Tweet.Tweet object at 0x7f8ad7636c18>  ...                                                                        Does the driving ban marry up with the sentence? Depending how long he serves, will he be able to drive when he gets out? The mind boggles \n",
              "120  <GetOldTweets3.models.Tweet.Tweet object at 0x7f8ad7621978>  ...                                                                                                                                      I hope the disqualification is starting after his sentence or it’s pointless.\n",
              "121  <GetOldTweets3.models.Tweet.Tweet object at 0x7f8ad7621ef0>  ...  After watching all the police shows like interceptors and traffic cops, I feel the law lets the police down with the sentencing .the hard work and length they go to fight crimes. Must be frustrating. Stay safe\n",
              "122  <GetOldTweets3.models.Tweet.Tweet object at 0x7f8ad7636eb8>  ...                                                                                                                                                                                  fuck you all dirty racist basteds\n",
              "123  <GetOldTweets3.models.Tweet.Tweet object at 0x7f8ad76364e0>  ...                                                                                                                                               No driving around the prison grounds for him then. That’ll show him.\n",
              "\n",
              "[124 rows x 6 columns]"
            ]
          },
          "metadata": {
            "tags": []
          },
          "execution_count": 38
        }
      ]
    },
    {
      "cell_type": "code",
      "metadata": {
        "id": "rLo-M5hqg59X",
        "colab_type": "code",
        "colab": {
          "base_uri": "https://localhost:8080/",
          "height": 895
        },
        "outputId": "3c0891a9-b4e0-47c5-9af1-0ee6e3e536a0"
      },
      "source": [
        "# Create a function to get the subjectivity\n",
        "def getSubjectivity(text):\n",
        "   return TextBlob(text).sentiment.subjectivity\n",
        "\n",
        "# Create a function to get the polarity\n",
        "def getPolarity(text):\n",
        "   return  TextBlob(text).sentiment.polarity\n",
        "\n",
        "\n",
        "# Create two new columns 'Subjectivity' & 'Polarity'\n",
        "new_df['Subjectivity'] = new_df['clean_text'].apply(getSubjectivity)\n",
        "new_df['Polarity'] = new_df['clean_text'].apply(getPolarity)\n",
        "\n",
        "# Show the new dataframe with columns 'Subjectivity' & 'Polarity'\n",
        "new_df"
      ],
      "execution_count": null,
      "outputs": [
        {
          "output_type": "execute_result",
          "data": {
            "text/html": [
              "<div>\n",
              "<style scoped>\n",
              "    .dataframe tbody tr th:only-of-type {\n",
              "        vertical-align: middle;\n",
              "    }\n",
              "\n",
              "    .dataframe tbody tr th {\n",
              "        vertical-align: top;\n",
              "    }\n",
              "\n",
              "    .dataframe thead th {\n",
              "        text-align: right;\n",
              "    }\n",
              "</style>\n",
              "<table border=\"1\" class=\"dataframe\">\n",
              "  <thead>\n",
              "    <tr style=\"text-align: right;\">\n",
              "      <th></th>\n",
              "      <th>0</th>\n",
              "      <th>username</th>\n",
              "      <th>text</th>\n",
              "      <th>Bios</th>\n",
              "      <th>RW_prediction</th>\n",
              "      <th>clean_text</th>\n",
              "      <th>Subjectivity</th>\n",
              "      <th>Polarity</th>\n",
              "    </tr>\n",
              "  </thead>\n",
              "  <tbody>\n",
              "    <tr>\n",
              "      <th>0</th>\n",
              "      <td>&lt;GetOldTweets3.models.Tweet.Tweet object at 0x7f8ad768aa20&gt;</td>\n",
              "      <td>Humza_Khann</td>\n",
              "      <td>@metpoliceuk</td>\n",
              "      <td>London 📍| Instagram: HumzaKhan_</td>\n",
              "      <td>False</td>\n",
              "      <td></td>\n",
              "      <td>0.000000</td>\n",
              "      <td>0.000000</td>\n",
              "    </tr>\n",
              "    <tr>\n",
              "      <th>1</th>\n",
              "      <td>&lt;GetOldTweets3.models.Tweet.Tweet object at 0x7f8ad768a908&gt;</td>\n",
              "      <td>PDF53</td>\n",
              "      <td>@metpoliceuk @MPFed @MetCC The film ..now..! @DawnButlerBrent @Keir_Starmer</td>\n",
              "      <td>Retired Logistics Contractor;\\nIroning my own shirts since '69;\\nUnashamed to Back Britain; Back on here April 20. #AllLivesMatter\\n#DefundTheBBC #mufc #brexit</td>\n",
              "      <td>False</td>\n",
              "      <td>The film ..now..!  _Starmer</td>\n",
              "      <td>0.000000</td>\n",
              "      <td>0.000000</td>\n",
              "    </tr>\n",
              "    <tr>\n",
              "      <th>2</th>\n",
              "      <td>&lt;GetOldTweets3.models.Tweet.Tweet object at 0x7f8ad768af28&gt;</td>\n",
              "      <td>PDF53</td>\n",
              "      <td>@metpoliceuk @MetCC Show the film. Now !</td>\n",
              "      <td>Retired Logistics Contractor;\\nIroning my own shirts since '69;\\nUnashamed to Back Britain; Back on here April 20. #AllLivesMatter\\n#DefundTheBBC #mufc #brexit</td>\n",
              "      <td>False</td>\n",
              "      <td>Show the film. Now !</td>\n",
              "      <td>0.000000</td>\n",
              "      <td>0.000000</td>\n",
              "    </tr>\n",
              "    <tr>\n",
              "      <th>3</th>\n",
              "      <td>&lt;GetOldTweets3.models.Tweet.Tweet object at 0x7f8ad768a8d0&gt;</td>\n",
              "      <td>katunar07</td>\n",
              "      <td>@metpoliceuk you’re needed</td>\n",
              "      <td>🇦🇱🇽🇰</td>\n",
              "      <td>False</td>\n",
              "      <td>you’re needed</td>\n",
              "      <td>0.000000</td>\n",
              "      <td>0.000000</td>\n",
              "    </tr>\n",
              "    <tr>\n",
              "      <th>4</th>\n",
              "      <td>&lt;GetOldTweets3.models.Tweet.Tweet object at 0x7f8ad768a2b0&gt;</td>\n",
              "      <td>claire_bates</td>\n",
              "      <td>@metpoliceuk got away extraordinarily lightly in this @BBCDocs investigation. Disappointingly lightweight.</td>\n",
              "      <td>Journo, mummy, carer, Army wife and star of Sesame Street. In differing orders of importance. British but squatting in the States for a bit</td>\n",
              "      <td>False</td>\n",
              "      <td>got away extraordinarily lightly in this  investigation. Disappointingly lightweight.</td>\n",
              "      <td>0.700000</td>\n",
              "      <td>-0.100000</td>\n",
              "    </tr>\n",
              "    <tr>\n",
              "      <th>...</th>\n",
              "      <td>...</td>\n",
              "      <td>...</td>\n",
              "      <td>...</td>\n",
              "      <td>...</td>\n",
              "      <td>...</td>\n",
              "      <td>...</td>\n",
              "      <td>...</td>\n",
              "      <td>...</td>\n",
              "    </tr>\n",
              "    <tr>\n",
              "      <th>119</th>\n",
              "      <td>&lt;GetOldTweets3.models.Tweet.Tweet object at 0x7f8ad7636c18&gt;</td>\n",
              "      <td>DJBURNS_was</td>\n",
              "      <td>Does the driving ban marry up with the sentence? Depending how long he serves, will he be able to drive when he gets out? The mind boggles</td>\n",
              "      <td>Follow me, I’ll follow back 🇬🇧 stop illegal migrants 💪 very right wing 👉 love 🇺🇸 used to be DJBURNS. All comments are my own.</td>\n",
              "      <td>True</td>\n",
              "      <td>Does the driving ban marry up with the sentence? Depending how long he serves, will he be able to drive when he gets out? The mind boggles</td>\n",
              "      <td>0.512500</td>\n",
              "      <td>0.225000</td>\n",
              "    </tr>\n",
              "    <tr>\n",
              "      <th>120</th>\n",
              "      <td>&lt;GetOldTweets3.models.Tweet.Tweet object at 0x7f8ad7621978&gt;</td>\n",
              "      <td>SP92328669</td>\n",
              "      <td>I hope the disqualification is starting after his sentence or it’s pointless.</td>\n",
              "      <td>London hairdresser, voted Brexit. Don’t fund BBC, buy British. Daughter of immigrant, Britalian. Follow F1, love yoga and meditation. love sarcasm</td>\n",
              "      <td>True</td>\n",
              "      <td>I hope the disqualification is starting after his sentence or it’s pointless.</td>\n",
              "      <td>0.300000</td>\n",
              "      <td>-0.125000</td>\n",
              "    </tr>\n",
              "    <tr>\n",
              "      <th>121</th>\n",
              "      <td>&lt;GetOldTweets3.models.Tweet.Tweet object at 0x7f8ad7621ef0&gt;</td>\n",
              "      <td>ashishchakrabor</td>\n",
              "      <td>After watching all the police shows like interceptors and traffic cops, I feel the law lets the police down with the sentencing .the hard work and length they go to fight crimes. Must be frustrating. Stay safe</td>\n",
              "      <td>A licensed commercial manger with over 20 years’ experience in the licensed and hospitality industry. Love rum and coke.</td>\n",
              "      <td>False</td>\n",
              "      <td>After watching all the police shows like interceptors and traffic cops, I feel the law lets the police down with the sentencing .the hard work and length they go to fight crimes. Must be frustrating. Stay safe</td>\n",
              "      <td>0.557639</td>\n",
              "      <td>-0.086806</td>\n",
              "    </tr>\n",
              "    <tr>\n",
              "      <th>122</th>\n",
              "      <td>&lt;GetOldTweets3.models.Tweet.Tweet object at 0x7f8ad7636eb8&gt;</td>\n",
              "      <td>Budgey_95</td>\n",
              "      <td>@metpoliceuk fuck you all dirty racist basteds</td>\n",
              "      <td>🇾🇪</td>\n",
              "      <td>False</td>\n",
              "      <td>fuck you all dirty racist basteds</td>\n",
              "      <td>0.700000</td>\n",
              "      <td>-0.500000</td>\n",
              "    </tr>\n",
              "    <tr>\n",
              "      <th>123</th>\n",
              "      <td>&lt;GetOldTweets3.models.Tweet.Tweet object at 0x7f8ad76364e0&gt;</td>\n",
              "      <td>SomePrickIKnow</td>\n",
              "      <td>No driving around the prison grounds for him then. That’ll show him.</td>\n",
              "      <td>just doing my bit......</td>\n",
              "      <td>False</td>\n",
              "      <td>No driving around the prison grounds for him then. That’ll show him.</td>\n",
              "      <td>0.000000</td>\n",
              "      <td>0.000000</td>\n",
              "    </tr>\n",
              "  </tbody>\n",
              "</table>\n",
              "<p>124 rows × 8 columns</p>\n",
              "</div>"
            ],
            "text/plain": [
              "                                                               0  ...  Polarity\n",
              "0    <GetOldTweets3.models.Tweet.Tweet object at 0x7f8ad768aa20>  ...  0.000000\n",
              "1    <GetOldTweets3.models.Tweet.Tweet object at 0x7f8ad768a908>  ...  0.000000\n",
              "2    <GetOldTweets3.models.Tweet.Tweet object at 0x7f8ad768af28>  ...  0.000000\n",
              "3    <GetOldTweets3.models.Tweet.Tweet object at 0x7f8ad768a8d0>  ...  0.000000\n",
              "4    <GetOldTweets3.models.Tweet.Tweet object at 0x7f8ad768a2b0>  ... -0.100000\n",
              "..                                                           ...  ...       ...\n",
              "119  <GetOldTweets3.models.Tweet.Tweet object at 0x7f8ad7636c18>  ...  0.225000\n",
              "120  <GetOldTweets3.models.Tweet.Tweet object at 0x7f8ad7621978>  ... -0.125000\n",
              "121  <GetOldTweets3.models.Tweet.Tweet object at 0x7f8ad7621ef0>  ... -0.086806\n",
              "122  <GetOldTweets3.models.Tweet.Tweet object at 0x7f8ad7636eb8>  ... -0.500000\n",
              "123  <GetOldTweets3.models.Tweet.Tweet object at 0x7f8ad76364e0>  ...  0.000000\n",
              "\n",
              "[124 rows x 8 columns]"
            ]
          },
          "metadata": {
            "tags": []
          },
          "execution_count": 41
        }
      ]
    },
    {
      "cell_type": "code",
      "metadata": {
        "id": "LelyvliXhz0r",
        "colab_type": "code",
        "colab": {}
      },
      "source": [
        "right_wing_mask = new_df[\"RW_prediction\"] == \"True\"\n",
        "right_wing = new_df[right_wing_mask]\n",
        "\n",
        "not_right_wing_mask = new_df[\"RW_prediction\"] == \"False\"\n",
        "not_right_wing = new_df[not_right_wing_mask]"
      ],
      "execution_count": null,
      "outputs": []
    },
    {
      "cell_type": "code",
      "metadata": {
        "id": "xRtPzLyUh-9F",
        "colab_type": "code",
        "colab": {
          "base_uri": "https://localhost:8080/",
          "height": 542
        },
        "outputId": "3b6fa025-1355-4b5c-c211-d2e8a74c54c3"
      },
      "source": [
        "import plotly.express as px\n",
        "fig2 = px.scatter(new_df, x=\"Subjectivity\", y=\"Polarity\", color=\"RW_prediction\", hover_data=[\"Bios\"])\n",
        "fig2.update_xaxes(range=[0,1])\n",
        "fig2.update_yaxes(range=[-1, 1])\n",
        "fig2.show()"
      ],
      "execution_count": null,
      "outputs": [
        {
          "output_type": "display_data",
          "data": {
            "text/html": [
              "<html>\n",
              "<head><meta charset=\"utf-8\" /></head>\n",
              "<body>\n",
              "    <div>\n",
              "            <script src=\"https://cdnjs.cloudflare.com/ajax/libs/mathjax/2.7.5/MathJax.js?config=TeX-AMS-MML_SVG\"></script><script type=\"text/javascript\">if (window.MathJax) {MathJax.Hub.Config({SVG: {font: \"STIX-Web\"}});}</script>\n",
              "                <script type=\"text/javascript\">window.PlotlyConfig = {MathJaxConfig: 'local'};</script>\n",
              "        <script src=\"https://cdn.plot.ly/plotly-latest.min.js\"></script>    \n",
              "            <div id=\"f79bd029-881c-42a0-87dd-0d6a47c75c7c\" class=\"plotly-graph-div\" style=\"height:525px; width:100%;\"></div>\n",
              "            <script type=\"text/javascript\">\n",
              "                \n",
              "                    window.PLOTLYENV=window.PLOTLYENV || {};\n",
              "                    \n",
              "                if (document.getElementById(\"f79bd029-881c-42a0-87dd-0d6a47c75c7c\")) {\n",
              "                    Plotly.newPlot(\n",
              "                        'f79bd029-881c-42a0-87dd-0d6a47c75c7c',\n",
              "                        [{\"customdata\": [[\"London \\ud83d\\udccd| Instagram: HumzaKhan_\"], [\"Retired Logistics Contractor;\\nIroning my own shirts since '69;\\nUnashamed to Back Britain; Back on here April 20. #AllLivesMatter\\n#DefundTheBBC #mufc #brexit\"], [\"Retired Logistics Contractor;\\nIroning my own shirts since '69;\\nUnashamed to Back Britain; Back on here April 20. #AllLivesMatter\\n#DefundTheBBC #mufc #brexit\"], [\"\\ud83c\\udde6\\ud83c\\uddf1\\ud83c\\uddfd\\ud83c\\uddf0\"], [\"Journo, mummy, carer, Army wife and star of Sesame Street. In differing orders of importance. British but squatting in the States for a bit\"], [\"\"], [\"@tobypriv_ 16.\"], [\"\\u12a0\\u1263\\u1275 \\u12a0\\u1308\\u122d \\u12a0\\u121b\\u122b\\u1295 \\u12a5\\u1295\\u1218\\u1230\\u122d\\u1273\\u1208\\u1295 #Patriot #KeepAmericaGreat. Defund antifa, blm, lgbtq.., islamist, cancel-culture, etc Y'all crossed z line when u burned churches\"], [\"\\u201cIf children can\\u2019t learn the way we teach, then we have to teach the way they learn\\u201d - Robert Buck\"], [\"Single Looking for the mysterious one \\ud83d\\ude1c\"], [\"no bio just vibes\"], [\"@MPFed - Police Sergeant, Federation Representative, serving the public since 2002 & now Protecting the Protectors @MetPoliceUK Sharing my views to colleagues\"], [\"\"], [\"love my family xx proud mum, Salford reds fan\\ud83d\\udc79\\ud83d\\udc79\\ud83d\\udc79Masketeer \\ud83d\\ude37 Labour voting Manc.3.5% #FBPE Hate Tories and Brexit\"], [\"love my family xx proud mum, Salford reds fan\\ud83d\\udc79\\ud83d\\udc79\\ud83d\\udc79Masketeer \\ud83d\\ude37 Labour voting Manc.3.5% #FBPE Hate Tories and Brexit\"], [\"Ex Job. Very blunt so apologies if I upset. Follow 80\\u2019s synth pop, Erasure , Fawlty Towers and Lauren Southern . #TJF \\ud83d\\udc6e\\u200d\\u2642\\ufe0f\"], [\"Not a lot\"], [\"pro black women | fundamental reformist #JusticeForBibaaandNicole #BellyMujinga #TrevorBelle\"], [\"Photographer /Music /Photojournalist, Fashion/Graphic artist/Photoshop 20 and Lightroom.... Unemployed\"], [\"Photographer /Music /Photojournalist, Fashion/Graphic artist/Photoshop 20 and Lightroom.... Unemployed\"], [\"Photographer /Music /Photojournalist, Fashion/Graphic artist/Photoshop 20 and Lightroom.... Unemployed\"], [\"Photographer /Music /Photojournalist, Fashion/Graphic artist/Photoshop 20 and Lightroom.... Unemployed\"], [\"Photographer /Music /Photojournalist, Fashion/Graphic artist/Photoshop 20 and Lightroom.... Unemployed\"], [\"Photographer /Music /Photojournalist, Fashion/Graphic artist/Photoshop 20 and Lightroom.... Unemployed\"], [\"\"], [\"\"], [\"\"], [\"I want to know what you think but insults will be blocked.   Been here before!\"], [\"When the persimmons are green, even the crows don't come pecking: by spite & by fury are people revealed.\"], [\"\\u270a\\ud83c\\udffd\\u270a\\ud83c\\udffe\\u270a\\ud83c\\udfff| 21...\\u26ab\\ufe0f\\u26aa\\ufe0f\"], [\"Born in 2008 & been paying ever since\"], [\"I love politics\"], [\"\"], [\"Fifty-ish, flabby-ish, fun-ish, fiction scribbler...\"], [\"\"], [\"Gentleman ; engineer; naval officer; detective, author. James Rockley : Fire and Lies a gripping murder mystery @Amazon.com\"], [\"So Little time ,so many to offend.\\nMove along nothing to see here\"], [\"\"], [\"\"], [\"\"], [\"\"], [\"\"], [\"Love everything about Manchester and it\\u2019s people. Songwriter and sport lover. Chartered Engineer.\"], [\"\\ud83c\\uddec\\ud83c\\udde7 \\ud83c\\uddfa\\ud83c\\uddf8 \\ud83c\\udde6\\ud83c\\uddfa \\ud83c\\uddea\\ud83c\\uddf8 \\ud83c\\uddec\\ud83c\\uddf7 \\ud83c\\uddee\\ud83c\\uddf1 \\ud83c\\uddf0\\ud83c\\uddf7\"], [\"A fun-loving work in progress...\"], [\"\\u201c.....a cesspit of racism and sexism....\\u201d.\"], [\"Here with my old Irish two pence worth. \\ud83c\\uddee\\ud83c\\uddea (Living in London since the sixties).\"], [\"Here with my old Irish two pence worth. \\ud83c\\uddee\\ud83c\\uddea (Living in London since the sixties).\"], [\"supporter of all our armed forces but not the money grabbing legal scum dragging serving & ex servicemen thru the courts. Time to get behind our boys & girls.\"], [\"Most comments are deleted at the end of business day.....\"], [\"@LUFC\"], [\"Mummy, Girlfriend, Softball Player, Reader.  Please follow my brother\\u2019s new business Kinnaird Krafts.  https://t.co/npNQ24qwDb\"], [\"Looking for the wood through all these trees...\\nPronouns Wibble/Wobble\"], [\"It's ten talons clawing at twenty-six letters - Philip Roth\"], [\"Man\"], [\"Reggae Starz Radio - Dancehall Starz Radio - Lovers Rock Starz Radio - Soca Starz Radio. My Wife & My Queen \\ud83d\\udc51@OfficialJoyous\"], [\"21, ORIENT, Conservative, IR Student.\"], [\"\"], [\"Travel, cocktails and keen to help\"], [\"Arsenal Fan, IT Consultant (OCP),  APEX, PropTech CTO, AvGeek, SpaceGeek, TechGeek  #KBF, Anti-Woke \\ud83c\\uddec\\ud83c\\udde7\\ud83c\\uddf2\\ud83c\\uddfe\\ud83c\\uddf3\\ud83c\\uddf1\\ud83c\\uddf5\\ud83c\\uddf9\\ud83c\\udff4\\udb40\\udc67\\udb40\\udc62\\udb40\\udc73\\udb40\\udc63\\udb40\\udc74\\udb40\\udc7f\"], [\"If you know you know the Arsenal. don\\u2019t judge a book by a cover read it you never know what\\u2019s inside\"], [\"\"], [\"Social Butterfly \\ud83e\\udd8b, Friendly \\u2764\\ufe0f, Sarcastic \\ud83d\\ude09.  Love Animals \\ud83d\\udc0c\\ud83d\\udc1b\\ud83d\\udc2c\\ud83e\\udd81\\ud83d\\udc15\\ud83d\\udc35 sexist feminist peace lovin War monger!!\"], [\"\"], [\"Supporting N.I.Veterans from History being rewritten by terrorists. If you have FBPE in your title-GO AWAY!\"], [\"I am passionate about animal welfare. The more I learn about people the more I love my dogs. Not on here after a date and I don't suffer fools. #KBF\"], [\"\"], [\"Leyton Orient & Northern Ireland fan. Music lover and vinyl collector. Got opinions like everyone else but strangely seem to have lost my right to free speech.\"], [\"\"], [\"I'm in the common sense camp. Hate the dumbing down of society and all things reality show based.....\"], [\"The long & winding road eventually leads to a bridge over troubled waters.....My God if life was simple we\\u2019d all.....but that\\u2019s another story!\\u2764\\ufe0f \\ud83d\\ude37\"], [\"Non-woke English woman. Put your pronouns or FBPE in your bio and I\\u2019ll block you. A grand-daughter describes me as \\u201cFierce\\u201d.\"], [\"I don't care if you are on the right or the left, just stop spurting bias crap, please!\"], [\"\"], [\"I promote the best of SorryBro and the best of the Ben Phillips Prank YouTube channel. #Bae #Brofo #SorryBro\"], [\"Zero tolerance for whinging, whining Leftie shitfers. Still playing the game I love. Bye bye EU, it's (not) been nice knowing you. Hate #pisspoorjournalism\"], [\"Work Flow Management Consultant.\"], [\"2D / 3D Flight Tracking app on the Google Android Playstore\"], [\"International Law. Feminism. \\nTweeting in personal capacity.\\n'The body is and is and is' (Wis\\u0142awa Szymborska)\"], [\"9 9 9| Up the Blyth | \\ud83c\\udfce |\"], [\"9 9 9| Up the Blyth | \\ud83c\\udfce |\"], [\"WXTLewis@gmail.com Instagram: @WXTLewis @WaveyXTimes Snap: wxtlewis\"], [\"Seer / / Bono Vince Malum / / \\nNo followers please (add me to a list instead)\"], [\"Keep up to date with all events happening in parks & open spaces throughout #Lambeth #Brixton #Clapham #Streatham #Norwood #NorthLambeth events@lambeth.gov.uk\"], [\"Tormented by Multiple Sclerosis.\\n PPMS diagnosed 2013 .\\nJust a shadow of my former self.\\nEvolutionist and tea drinker.\"], [\"love & knowledge are what humans strive for, an Italian worked this out in the 1st century, use this app wisely or you'll sink into a hell with your followers.\"], [\"I'm told, by many i am a nice bloke, hence the user name, although i do have a evil streak in me (some times)\\nBeing a Gooner, doesn't make me a bad person.\"], [\"I'm told, by many i am a nice bloke, hence the user name, although i do have a evil streak in me (some times)\\nBeing a Gooner, doesn't make me a bad person.\"], [\"I'm told, by many i am a nice bloke, hence the user name, although i do have a evil streak in me (some times)\\nBeing a Gooner, doesn't make me a bad person.\"], [\"I'm told, by many i am a nice bloke, hence the user name, although i do have a evil streak in me (some times)\\nBeing a Gooner, doesn't make me a bad person.\"], [\"blissfully happily married,  norwich city fan\"], [\"\"], [\"\"], [\"All views are my own...and probably yours too\"], [\"The Big Cheese\"], [\"THE CENTRE OF UNIONISM THE UNITED KINGDOM OF GREAT BRITAIN THE POWERHOUSE UNION AND GLOBAL BRITAIN A INDEPENDENT UNION AND G8 COUNTRY\"], [\"COYS\"], [\"\"], [\"Klaatu Barrada Nikto\\n\\n#MBGA \\ud83c\\uddec\\ud83c\\udde7\\ud83c\\uddfa\\ud83c\\uddf8 #MAGA #Brexiteer Leave Means Leave  #WTO is the way to go.\"], [\"\\ud83c\\udff4\\udb40\\udc67\\udb40\\udc62\\udb40\\udc65\\udb40\\udc6e\\udb40\\udc67\\udb40\\udc7f@Arsenal fan. Red member. I used to do a bit of amateur boxing. \\ud83c\\udff4\\udb40\\udc67\\udb40\\udc62\\udb40\\udc65\\udb40\\udc6e\\udb40\\udc67\\udb40\\udc7f\"], [\"\"], [\"Snapchat: HelloImToasty\"], [\"Food and music lover who has worked in many different fields.\"], [\"FRONT @riots_rebecca GUITAR @findingaurorauk\"], [\"A great believer in teamwork. Proud father and grandad.\"], [\"\\u201cIt\\u2019s a multi-year squad evolution analysis\\u201d Ed Woodward Future Chairman of Altrincham FC\"], [\"When painting comes naturally. There's nothing like deep breaths after laughing that hard. Nothing in the world like a sore stomach for the right reasons.\"], [\"cricket enthusiast, Hampstead cricket coach, former President North Sydney Cricket, calling it how it is (views are my personal views)\"], [\"\"], [\"A licensed commercial manger with over 20 years\\u2019 experience in the licensed and hospitality industry. Love rum and coke.\"], [\"\\ud83c\\uddfe\\ud83c\\uddea\"], [\"just doing my bit......\"]], \"hoverlabel\": {\"namelength\": 0}, \"hovertemplate\": \"RW_prediction=False<br>Subjectivity=%{x}<br>Polarity=%{y}<br>Bios=%{customdata[0]}\", \"legendgroup\": \"RW_prediction=False\", \"marker\": {\"color\": \"#636efa\", \"symbol\": \"circle\"}, \"mode\": \"markers\", \"name\": \"RW_prediction=False\", \"showlegend\": true, \"type\": \"scatter\", \"x\": [0.0, 0.0, 0.0, 0.0, 0.7, 0.5785714285714285, 0.0, 0.0, 0.0, 0.4666666666666666, 0.2888888888888889, 0.6, 0.0, 0.0, 0.0, 0.0, 0.0, 0.0, 0.4666666666666666, 1.0, 1.0, 0.2857142857142857, 0.4738095238095238, 0.0, 0.0, 0.0, 0.0, 0.0, 0.5587962962962963, 0.0, 0.0, 0.2, 0.575, 0.6339285714285714, 0.75, 0.0, 0.0, 0.8500000000000001, 0.8500000000000001, 0.8500000000000001, 0.8500000000000001, 0.5583333333333333, 0.0, 0.0, 0.0, 0.6, 0.5357142857142857, 0.5777777777777778, 0.49000000000000005, 0.0, 0.25, 0.27708333333333335, 0.0, 0.51, 0.0, 0.6, 0.5416666666666666, 0.525, 0.25, 0.0, 0.30980725623582767, 0.1, 0.0, 0.25614285714285717, 0.7999999999999999, 0.0, 0.1, 0.2, 0.5642857142857143, 0.6000000000000001, 0.58, 0.0, 0.5, 1.0, 0.45, 0.825, 0.625, 0.0, 0.5, 0.2, 0.0, 0.0, 0.5416666666666666, 0.0, 0.2833333333333333, 0.5186507936507937, 1.0, 1.0, 0.0, 0.0, 0.7, 0.4, 0.0, 0.4966666666666667, 0.9, 0.13333333333333333, 0.0, 0.0, 0.0, 0.7875, 0.3125, 0.6333333333333333, 0.65, 0.0, 0.0, 0.0, 0.575, 0.0, 0.25, 0.5576388888888889, 0.7, 0.0], \"xaxis\": \"x\", \"y\": [0.0, 0.0, 0.0, 0.0, -0.09999999999999998, -0.421875, 0.0, 0.0, 0.0, 0.06666666666666665, -0.15555555555555559, 0.7000000000000001, 0.0, 0.0, 0.0, 0.0, 0.0, 0.0, 0.2583333333333333, 1.0, 1.0, -0.17857142857142858, 0.10357142857142862, 0.0, 0.0, 0.0, 0.0, 0.0, 0.1625, 0.0, 0.0, -0.1, 0.25, 0.12142857142857143, 0.30000000000000004, 0.0, 0.0, -0.8, -0.8, -0.8, -0.8, -0.21666666666666665, 0.0, 0.0, 0.0, -0.2, 0.2857142857142857, -0.5555555555555556, -0.38, 0.0, 0.25, 0.010416666666666678, 0.0, 0.165, 0.0, -0.4, -0.36458333333333337, -0.45, 0.16666666666666666, 0.0, -0.012443310657596383, 0.0, 0.0, 0.004142857142857137, -0.625, 0.0, 0.1, -0.1, 0.24285714285714283, 0.6, 0.11166666666666666, 0.0, 0.25, 0.5, -0.4, -0.4, 0.25833333333333336, 0.0, 0.5, 0.2, 0.0, 0.0, 0.05000000000000001, 0.0, 0.2916666666666667, -0.07817460317460319, 0.6, 0.6, 0.0, 0.0, -0.2, -0.3, 0.0, 0.03166666666666669, 0.25, 0.03333333333333333, 0.0, 0.0, 0.0, -0.09375, 0.2, -0.4666666666666666, 0.35, 0.0, 0.0, 0.0, 0.35, 0.0, -0.05, -0.08680555555555558, -0.5, 0.0], \"yaxis\": \"y\"}, {\"customdata\": [[\"Patriot, Brexiteer. Anti Communism and Anti Islam. Pro democracy and Free Speech\"], [\"Conservative, Trump, Brexit, Defund the BBC, Road Transport, Costa fiend, sometimes rides a bike, Yorkshire. \\n\\n#alllivesmatter\"], [\"Londoner. Smarter than the average Twitter user. I don't read comments. Block Happy. Allergic to anyone with FBPE in their profile. Not here for your opinion.\"], [\"Brexiteer\\nRickroo\\nEngage with all Parler account @rickwoohan as well\\nMasters level acc/fin\\n#Britishlivesmatter\\n#NeverFlySAA\\n#boycotttheproms\\n#voetsekANC\"], [\"Particularly fond of my own country. Looking forward to it being independent again, rather than ruled by self-important bureaucrats.\"], [\"Pronouns: Fuck/Off\"], [\"Peace, I am Mo,\\nInfinite Dimensional Ascended Master\\nBlue Ray Omniscient Angelic Gridworker\\nFollow Me For Follow Back\\nRetweet Me For Follow Back\\nInfinite Love\"], [\"Centre Ground in politics, Brexiteer, BWFC,  Leverhulme, George the Martyr. \\n\\n\\nNo fbpe types please.\\nI don't reply to Direct Messages\"], [\"brexiteer, cons, truth sayer & seeker, love my family, friends, animals, countryside, passionate music lover\"], [\"100% leave EU. English Rugby fan. Guitar player, 6 strings 1 dream,natural conservative not a Tory supporter.Huge animal lover, hates animal cruelty of any kind\"], [\"Follow me, I\\u2019ll follow back \\ud83c\\uddec\\ud83c\\udde7 stop illegal migrants \\ud83d\\udcaa very right wing \\ud83d\\udc49 love \\ud83c\\uddfa\\ud83c\\uddf8 used to be DJBURNS. All comments are my own.\"], [\"London hairdresser, voted Brexit. Don\\u2019t fund BBC, buy British. Daughter of immigrant, Britalian. Follow F1, love yoga and meditation. love sarcasm\"]], \"hoverlabel\": {\"namelength\": 0}, \"hovertemplate\": \"RW_prediction=True<br>Subjectivity=%{x}<br>Polarity=%{y}<br>Bios=%{customdata[0]}\", \"legendgroup\": \"RW_prediction=True\", \"marker\": {\"color\": \"#EF553B\", \"symbol\": \"circle\"}, \"mode\": \"markers\", \"name\": \"RW_prediction=True\", \"showlegend\": true, \"type\": \"scatter\", \"x\": [0.0, 0.2888888888888889, 0.4083333333333334, 0.5666666666666668, 0.3, 0.2875, 0.0, 0.0, 0.4, 0.0, 0.5125, 0.3], \"xaxis\": \"x\", \"y\": [0.0, -0.15555555555555559, 0.10833333333333332, 0.10000000000000002, -0.025, 0.025, 0.0, 0.0, -0.375, 0.0, 0.225, -0.125], \"yaxis\": \"y\"}],\n",
              "                        {\"legend\": {\"tracegroupgap\": 0}, \"margin\": {\"t\": 60}, \"template\": {\"data\": {\"bar\": [{\"error_x\": {\"color\": \"#2a3f5f\"}, \"error_y\": {\"color\": \"#2a3f5f\"}, \"marker\": {\"line\": {\"color\": \"#E5ECF6\", \"width\": 0.5}}, \"type\": \"bar\"}], \"barpolar\": [{\"marker\": {\"line\": {\"color\": \"#E5ECF6\", \"width\": 0.5}}, \"type\": \"barpolar\"}], \"carpet\": [{\"aaxis\": {\"endlinecolor\": \"#2a3f5f\", \"gridcolor\": \"white\", \"linecolor\": \"white\", \"minorgridcolor\": \"white\", \"startlinecolor\": \"#2a3f5f\"}, \"baxis\": {\"endlinecolor\": \"#2a3f5f\", \"gridcolor\": \"white\", \"linecolor\": \"white\", \"minorgridcolor\": \"white\", \"startlinecolor\": \"#2a3f5f\"}, \"type\": \"carpet\"}], \"choropleth\": [{\"colorbar\": {\"outlinewidth\": 0, \"ticks\": \"\"}, \"type\": \"choropleth\"}], \"contour\": [{\"colorbar\": {\"outlinewidth\": 0, \"ticks\": \"\"}, \"colorscale\": [[0.0, \"#0d0887\"], [0.1111111111111111, \"#46039f\"], [0.2222222222222222, \"#7201a8\"], [0.3333333333333333, \"#9c179e\"], [0.4444444444444444, \"#bd3786\"], [0.5555555555555556, \"#d8576b\"], [0.6666666666666666, \"#ed7953\"], [0.7777777777777778, \"#fb9f3a\"], [0.8888888888888888, \"#fdca26\"], [1.0, \"#f0f921\"]], \"type\": \"contour\"}], \"contourcarpet\": [{\"colorbar\": {\"outlinewidth\": 0, \"ticks\": \"\"}, \"type\": \"contourcarpet\"}], \"heatmap\": [{\"colorbar\": {\"outlinewidth\": 0, \"ticks\": \"\"}, \"colorscale\": [[0.0, \"#0d0887\"], [0.1111111111111111, \"#46039f\"], [0.2222222222222222, \"#7201a8\"], [0.3333333333333333, \"#9c179e\"], [0.4444444444444444, \"#bd3786\"], [0.5555555555555556, \"#d8576b\"], [0.6666666666666666, \"#ed7953\"], [0.7777777777777778, \"#fb9f3a\"], [0.8888888888888888, \"#fdca26\"], [1.0, \"#f0f921\"]], \"type\": \"heatmap\"}], \"heatmapgl\": [{\"colorbar\": {\"outlinewidth\": 0, \"ticks\": \"\"}, \"colorscale\": [[0.0, \"#0d0887\"], [0.1111111111111111, \"#46039f\"], [0.2222222222222222, \"#7201a8\"], [0.3333333333333333, \"#9c179e\"], [0.4444444444444444, \"#bd3786\"], [0.5555555555555556, \"#d8576b\"], [0.6666666666666666, \"#ed7953\"], [0.7777777777777778, \"#fb9f3a\"], [0.8888888888888888, \"#fdca26\"], [1.0, \"#f0f921\"]], \"type\": \"heatmapgl\"}], \"histogram\": [{\"marker\": {\"colorbar\": {\"outlinewidth\": 0, \"ticks\": \"\"}}, \"type\": \"histogram\"}], \"histogram2d\": [{\"colorbar\": {\"outlinewidth\": 0, \"ticks\": \"\"}, \"colorscale\": [[0.0, \"#0d0887\"], [0.1111111111111111, \"#46039f\"], [0.2222222222222222, \"#7201a8\"], [0.3333333333333333, \"#9c179e\"], [0.4444444444444444, \"#bd3786\"], [0.5555555555555556, \"#d8576b\"], [0.6666666666666666, \"#ed7953\"], [0.7777777777777778, \"#fb9f3a\"], [0.8888888888888888, \"#fdca26\"], [1.0, \"#f0f921\"]], \"type\": \"histogram2d\"}], \"histogram2dcontour\": [{\"colorbar\": {\"outlinewidth\": 0, \"ticks\": \"\"}, \"colorscale\": [[0.0, \"#0d0887\"], [0.1111111111111111, \"#46039f\"], [0.2222222222222222, \"#7201a8\"], [0.3333333333333333, \"#9c179e\"], [0.4444444444444444, \"#bd3786\"], [0.5555555555555556, \"#d8576b\"], [0.6666666666666666, \"#ed7953\"], [0.7777777777777778, \"#fb9f3a\"], [0.8888888888888888, \"#fdca26\"], [1.0, \"#f0f921\"]], \"type\": \"histogram2dcontour\"}], \"mesh3d\": [{\"colorbar\": {\"outlinewidth\": 0, \"ticks\": \"\"}, \"type\": \"mesh3d\"}], \"parcoords\": [{\"line\": {\"colorbar\": {\"outlinewidth\": 0, \"ticks\": \"\"}}, \"type\": \"parcoords\"}], \"pie\": [{\"automargin\": true, \"type\": \"pie\"}], \"scatter\": [{\"marker\": {\"colorbar\": {\"outlinewidth\": 0, \"ticks\": \"\"}}, \"type\": \"scatter\"}], \"scatter3d\": [{\"line\": {\"colorbar\": {\"outlinewidth\": 0, \"ticks\": \"\"}}, \"marker\": {\"colorbar\": {\"outlinewidth\": 0, \"ticks\": \"\"}}, \"type\": \"scatter3d\"}], \"scattercarpet\": [{\"marker\": {\"colorbar\": {\"outlinewidth\": 0, \"ticks\": \"\"}}, \"type\": \"scattercarpet\"}], \"scattergeo\": [{\"marker\": {\"colorbar\": {\"outlinewidth\": 0, \"ticks\": \"\"}}, \"type\": \"scattergeo\"}], \"scattergl\": [{\"marker\": {\"colorbar\": {\"outlinewidth\": 0, \"ticks\": \"\"}}, \"type\": \"scattergl\"}], \"scattermapbox\": [{\"marker\": {\"colorbar\": {\"outlinewidth\": 0, \"ticks\": \"\"}}, \"type\": \"scattermapbox\"}], \"scatterpolar\": [{\"marker\": {\"colorbar\": {\"outlinewidth\": 0, \"ticks\": \"\"}}, \"type\": \"scatterpolar\"}], \"scatterpolargl\": [{\"marker\": {\"colorbar\": {\"outlinewidth\": 0, \"ticks\": \"\"}}, \"type\": \"scatterpolargl\"}], \"scatterternary\": [{\"marker\": {\"colorbar\": {\"outlinewidth\": 0, \"ticks\": \"\"}}, \"type\": \"scatterternary\"}], \"surface\": [{\"colorbar\": {\"outlinewidth\": 0, \"ticks\": \"\"}, \"colorscale\": [[0.0, \"#0d0887\"], [0.1111111111111111, \"#46039f\"], [0.2222222222222222, \"#7201a8\"], [0.3333333333333333, \"#9c179e\"], [0.4444444444444444, \"#bd3786\"], [0.5555555555555556, \"#d8576b\"], [0.6666666666666666, \"#ed7953\"], [0.7777777777777778, \"#fb9f3a\"], [0.8888888888888888, \"#fdca26\"], [1.0, \"#f0f921\"]], \"type\": \"surface\"}], \"table\": [{\"cells\": {\"fill\": {\"color\": \"#EBF0F8\"}, \"line\": {\"color\": \"white\"}}, \"header\": {\"fill\": {\"color\": \"#C8D4E3\"}, \"line\": {\"color\": \"white\"}}, \"type\": \"table\"}]}, \"layout\": {\"annotationdefaults\": {\"arrowcolor\": \"#2a3f5f\", \"arrowhead\": 0, \"arrowwidth\": 1}, \"coloraxis\": {\"colorbar\": {\"outlinewidth\": 0, \"ticks\": \"\"}}, \"colorscale\": {\"diverging\": [[0, \"#8e0152\"], [0.1, \"#c51b7d\"], [0.2, \"#de77ae\"], [0.3, \"#f1b6da\"], [0.4, \"#fde0ef\"], [0.5, \"#f7f7f7\"], [0.6, \"#e6f5d0\"], [0.7, \"#b8e186\"], [0.8, \"#7fbc41\"], [0.9, \"#4d9221\"], [1, \"#276419\"]], \"sequential\": [[0.0, \"#0d0887\"], [0.1111111111111111, \"#46039f\"], [0.2222222222222222, \"#7201a8\"], [0.3333333333333333, \"#9c179e\"], [0.4444444444444444, \"#bd3786\"], [0.5555555555555556, \"#d8576b\"], [0.6666666666666666, \"#ed7953\"], [0.7777777777777778, \"#fb9f3a\"], [0.8888888888888888, \"#fdca26\"], [1.0, \"#f0f921\"]], \"sequentialminus\": [[0.0, \"#0d0887\"], [0.1111111111111111, \"#46039f\"], [0.2222222222222222, \"#7201a8\"], [0.3333333333333333, \"#9c179e\"], [0.4444444444444444, \"#bd3786\"], [0.5555555555555556, \"#d8576b\"], [0.6666666666666666, \"#ed7953\"], [0.7777777777777778, \"#fb9f3a\"], [0.8888888888888888, \"#fdca26\"], [1.0, \"#f0f921\"]]}, \"colorway\": [\"#636efa\", \"#EF553B\", \"#00cc96\", \"#ab63fa\", \"#FFA15A\", \"#19d3f3\", \"#FF6692\", \"#B6E880\", \"#FF97FF\", \"#FECB52\"], \"font\": {\"color\": \"#2a3f5f\"}, \"geo\": {\"bgcolor\": \"white\", \"lakecolor\": \"white\", \"landcolor\": \"#E5ECF6\", \"showlakes\": true, \"showland\": true, \"subunitcolor\": \"white\"}, \"hoverlabel\": {\"align\": \"left\"}, \"hovermode\": \"closest\", \"mapbox\": {\"style\": \"light\"}, \"paper_bgcolor\": \"white\", \"plot_bgcolor\": \"#E5ECF6\", \"polar\": {\"angularaxis\": {\"gridcolor\": \"white\", \"linecolor\": \"white\", \"ticks\": \"\"}, \"bgcolor\": \"#E5ECF6\", \"radialaxis\": {\"gridcolor\": \"white\", \"linecolor\": \"white\", \"ticks\": \"\"}}, \"scene\": {\"xaxis\": {\"backgroundcolor\": \"#E5ECF6\", \"gridcolor\": \"white\", \"gridwidth\": 2, \"linecolor\": \"white\", \"showbackground\": true, \"ticks\": \"\", \"zerolinecolor\": \"white\"}, \"yaxis\": {\"backgroundcolor\": \"#E5ECF6\", \"gridcolor\": \"white\", \"gridwidth\": 2, \"linecolor\": \"white\", \"showbackground\": true, \"ticks\": \"\", \"zerolinecolor\": \"white\"}, \"zaxis\": {\"backgroundcolor\": \"#E5ECF6\", \"gridcolor\": \"white\", \"gridwidth\": 2, \"linecolor\": \"white\", \"showbackground\": true, \"ticks\": \"\", \"zerolinecolor\": \"white\"}}, \"shapedefaults\": {\"line\": {\"color\": \"#2a3f5f\"}}, \"ternary\": {\"aaxis\": {\"gridcolor\": \"white\", \"linecolor\": \"white\", \"ticks\": \"\"}, \"baxis\": {\"gridcolor\": \"white\", \"linecolor\": \"white\", \"ticks\": \"\"}, \"bgcolor\": \"#E5ECF6\", \"caxis\": {\"gridcolor\": \"white\", \"linecolor\": \"white\", \"ticks\": \"\"}}, \"title\": {\"x\": 0.05}, \"xaxis\": {\"automargin\": true, \"gridcolor\": \"white\", \"linecolor\": \"white\", \"ticks\": \"\", \"title\": {\"standoff\": 15}, \"zerolinecolor\": \"white\", \"zerolinewidth\": 2}, \"yaxis\": {\"automargin\": true, \"gridcolor\": \"white\", \"linecolor\": \"white\", \"ticks\": \"\", \"title\": {\"standoff\": 15}, \"zerolinecolor\": \"white\", \"zerolinewidth\": 2}}}, \"xaxis\": {\"anchor\": \"y\", \"domain\": [0.0, 1.0], \"range\": [0, 1], \"title\": {\"text\": \"Subjectivity\"}}, \"yaxis\": {\"anchor\": \"x\", \"domain\": [0.0, 1.0], \"range\": [-1, 1], \"title\": {\"text\": \"Polarity\"}}},\n",
              "                        {\"responsive\": true}\n",
              "                    ).then(function(){\n",
              "                            \n",
              "var gd = document.getElementById('f79bd029-881c-42a0-87dd-0d6a47c75c7c');\n",
              "var x = new MutationObserver(function (mutations, observer) {{\n",
              "        var display = window.getComputedStyle(gd).display;\n",
              "        if (!display || display === 'none') {{\n",
              "            console.log([gd, 'removed!']);\n",
              "            Plotly.purge(gd);\n",
              "            observer.disconnect();\n",
              "        }}\n",
              "}});\n",
              "\n",
              "// Listen for the removal of the full notebook cells\n",
              "var notebookContainer = gd.closest('#notebook-container');\n",
              "if (notebookContainer) {{\n",
              "    x.observe(notebookContainer, {childList: true});\n",
              "}}\n",
              "\n",
              "// Listen for the clearing of the current output cell\n",
              "var outputEl = gd.closest('.output');\n",
              "if (outputEl) {{\n",
              "    x.observe(outputEl, {childList: true});\n",
              "}}\n",
              "\n",
              "                        })\n",
              "                };\n",
              "                \n",
              "            </script>\n",
              "        </div>\n",
              "</body>\n",
              "</html>"
            ]
          },
          "metadata": {
            "tags": []
          }
        }
      ]
    },
    {
      "cell_type": "code",
      "metadata": {
        "id": "157quwrgmq03",
        "colab_type": "code",
        "colab": {}
      },
      "source": [
        "grouped_by_RW = new_df.groupby(\"RW_prediction\").agg(\n",
        "    count= (\"text\", len),\n",
        "    Subjectivity = (\"Subjectivity\", np.mean),\n",
        "    Polarity = (\"Polarity\", np.mean)\n",
        ")"
      ],
      "execution_count": null,
      "outputs": []
    },
    {
      "cell_type": "code",
      "metadata": {
        "id": "ktXTxtGpoZDC",
        "colab_type": "code",
        "colab": {
          "base_uri": "https://localhost:8080/",
          "height": 142
        },
        "outputId": "3198d9b1-6d7f-406e-c348-e09aca531c8f"
      },
      "source": [
        "grouped_by_RW"
      ],
      "execution_count": null,
      "outputs": [
        {
          "output_type": "execute_result",
          "data": {
            "text/html": [
              "<div>\n",
              "<style scoped>\n",
              "    .dataframe tbody tr th:only-of-type {\n",
              "        vertical-align: middle;\n",
              "    }\n",
              "\n",
              "    .dataframe tbody tr th {\n",
              "        vertical-align: top;\n",
              "    }\n",
              "\n",
              "    .dataframe thead th {\n",
              "        text-align: right;\n",
              "    }\n",
              "</style>\n",
              "<table border=\"1\" class=\"dataframe\">\n",
              "  <thead>\n",
              "    <tr style=\"text-align: right;\">\n",
              "      <th></th>\n",
              "      <th>count</th>\n",
              "      <th>Subjectivity</th>\n",
              "      <th>Polarity</th>\n",
              "    </tr>\n",
              "    <tr>\n",
              "      <th>RW_prediction</th>\n",
              "      <th></th>\n",
              "      <th></th>\n",
              "      <th></th>\n",
              "    </tr>\n",
              "  </thead>\n",
              "  <tbody>\n",
              "    <tr>\n",
              "      <th>False</th>\n",
              "      <td>112</td>\n",
              "      <td>0.319138</td>\n",
              "      <td>0.002931</td>\n",
              "    </tr>\n",
              "    <tr>\n",
              "      <th>True</th>\n",
              "      <td>12</td>\n",
              "      <td>0.255324</td>\n",
              "      <td>-0.018519</td>\n",
              "    </tr>\n",
              "  </tbody>\n",
              "</table>\n",
              "</div>"
            ],
            "text/plain": [
              "               count  Subjectivity  Polarity\n",
              "RW_prediction                               \n",
              "False            112      0.319138  0.002931\n",
              "True              12      0.255324 -0.018519"
            ]
          },
          "metadata": {
            "tags": []
          },
          "execution_count": 212
        }
      ]
    },
    {
      "cell_type": "code",
      "metadata": {
        "id": "DoY0-LWaoONE",
        "colab_type": "code",
        "colab": {
          "base_uri": "https://localhost:8080/",
          "height": 542
        },
        "outputId": "597a23da-28cc-47b3-be1a-bccb175da480"
      },
      "source": [
        "import plotly.express as px\n",
        "fig1 = px.bar(grouped_by_RW, y=\"count\", color=grouped_by_RW.index)\n",
        "fig1.show()"
      ],
      "execution_count": null,
      "outputs": [
        {
          "output_type": "display_data",
          "data": {
            "text/html": [
              "<html>\n",
              "<head><meta charset=\"utf-8\" /></head>\n",
              "<body>\n",
              "    <div>\n",
              "            <script src=\"https://cdnjs.cloudflare.com/ajax/libs/mathjax/2.7.5/MathJax.js?config=TeX-AMS-MML_SVG\"></script><script type=\"text/javascript\">if (window.MathJax) {MathJax.Hub.Config({SVG: {font: \"STIX-Web\"}});}</script>\n",
              "                <script type=\"text/javascript\">window.PlotlyConfig = {MathJaxConfig: 'local'};</script>\n",
              "        <script src=\"https://cdn.plot.ly/plotly-latest.min.js\"></script>    \n",
              "            <div id=\"b0ccf4e8-3591-4061-9626-2b7c43b1408a\" class=\"plotly-graph-div\" style=\"height:525px; width:100%;\"></div>\n",
              "            <script type=\"text/javascript\">\n",
              "                \n",
              "                    window.PLOTLYENV=window.PLOTLYENV || {};\n",
              "                    \n",
              "                if (document.getElementById(\"b0ccf4e8-3591-4061-9626-2b7c43b1408a\")) {\n",
              "                    Plotly.newPlot(\n",
              "                        'b0ccf4e8-3591-4061-9626-2b7c43b1408a',\n",
              "                        [{\"alignmentgroup\": \"True\", \"hoverlabel\": {\"namelength\": 0}, \"hovertemplate\": \"color=False<br>count=%{y}\", \"legendgroup\": \"color=False\", \"marker\": {\"color\": \"#636efa\"}, \"name\": \"color=False\", \"offsetgroup\": \"color=False\", \"orientation\": \"v\", \"showlegend\": true, \"textposition\": \"auto\", \"type\": \"bar\", \"xaxis\": \"x\", \"y\": [112], \"yaxis\": \"y\"}, {\"alignmentgroup\": \"True\", \"hoverlabel\": {\"namelength\": 0}, \"hovertemplate\": \"color=True<br>count=%{y}\", \"legendgroup\": \"color=True\", \"marker\": {\"color\": \"#EF553B\"}, \"name\": \"color=True\", \"offsetgroup\": \"color=True\", \"orientation\": \"v\", \"showlegend\": true, \"textposition\": \"auto\", \"type\": \"bar\", \"xaxis\": \"x\", \"y\": [12], \"yaxis\": \"y\"}],\n",
              "                        {\"barmode\": \"relative\", \"legend\": {\"tracegroupgap\": 0}, \"margin\": {\"t\": 60}, \"template\": {\"data\": {\"bar\": [{\"error_x\": {\"color\": \"#2a3f5f\"}, \"error_y\": {\"color\": \"#2a3f5f\"}, \"marker\": {\"line\": {\"color\": \"#E5ECF6\", \"width\": 0.5}}, \"type\": \"bar\"}], \"barpolar\": [{\"marker\": {\"line\": {\"color\": \"#E5ECF6\", \"width\": 0.5}}, \"type\": \"barpolar\"}], \"carpet\": [{\"aaxis\": {\"endlinecolor\": \"#2a3f5f\", \"gridcolor\": \"white\", \"linecolor\": \"white\", \"minorgridcolor\": \"white\", \"startlinecolor\": \"#2a3f5f\"}, \"baxis\": {\"endlinecolor\": \"#2a3f5f\", \"gridcolor\": \"white\", \"linecolor\": \"white\", \"minorgridcolor\": \"white\", \"startlinecolor\": \"#2a3f5f\"}, \"type\": \"carpet\"}], \"choropleth\": [{\"colorbar\": {\"outlinewidth\": 0, \"ticks\": \"\"}, \"type\": \"choropleth\"}], \"contour\": [{\"colorbar\": {\"outlinewidth\": 0, \"ticks\": \"\"}, \"colorscale\": [[0.0, \"#0d0887\"], [0.1111111111111111, \"#46039f\"], [0.2222222222222222, \"#7201a8\"], [0.3333333333333333, \"#9c179e\"], [0.4444444444444444, \"#bd3786\"], [0.5555555555555556, \"#d8576b\"], [0.6666666666666666, \"#ed7953\"], [0.7777777777777778, \"#fb9f3a\"], [0.8888888888888888, \"#fdca26\"], [1.0, \"#f0f921\"]], \"type\": \"contour\"}], \"contourcarpet\": [{\"colorbar\": {\"outlinewidth\": 0, \"ticks\": \"\"}, \"type\": \"contourcarpet\"}], \"heatmap\": [{\"colorbar\": {\"outlinewidth\": 0, \"ticks\": \"\"}, \"colorscale\": [[0.0, \"#0d0887\"], [0.1111111111111111, \"#46039f\"], [0.2222222222222222, \"#7201a8\"], [0.3333333333333333, \"#9c179e\"], [0.4444444444444444, \"#bd3786\"], [0.5555555555555556, \"#d8576b\"], [0.6666666666666666, \"#ed7953\"], [0.7777777777777778, \"#fb9f3a\"], [0.8888888888888888, \"#fdca26\"], [1.0, \"#f0f921\"]], \"type\": \"heatmap\"}], \"heatmapgl\": [{\"colorbar\": {\"outlinewidth\": 0, \"ticks\": \"\"}, \"colorscale\": [[0.0, \"#0d0887\"], [0.1111111111111111, \"#46039f\"], [0.2222222222222222, \"#7201a8\"], [0.3333333333333333, \"#9c179e\"], [0.4444444444444444, \"#bd3786\"], [0.5555555555555556, \"#d8576b\"], [0.6666666666666666, \"#ed7953\"], [0.7777777777777778, \"#fb9f3a\"], [0.8888888888888888, \"#fdca26\"], [1.0, \"#f0f921\"]], \"type\": \"heatmapgl\"}], \"histogram\": [{\"marker\": {\"colorbar\": {\"outlinewidth\": 0, \"ticks\": \"\"}}, \"type\": \"histogram\"}], \"histogram2d\": [{\"colorbar\": {\"outlinewidth\": 0, \"ticks\": \"\"}, \"colorscale\": [[0.0, \"#0d0887\"], [0.1111111111111111, \"#46039f\"], [0.2222222222222222, \"#7201a8\"], [0.3333333333333333, \"#9c179e\"], [0.4444444444444444, \"#bd3786\"], [0.5555555555555556, \"#d8576b\"], [0.6666666666666666, \"#ed7953\"], [0.7777777777777778, \"#fb9f3a\"], [0.8888888888888888, \"#fdca26\"], [1.0, \"#f0f921\"]], \"type\": \"histogram2d\"}], \"histogram2dcontour\": [{\"colorbar\": {\"outlinewidth\": 0, \"ticks\": \"\"}, \"colorscale\": [[0.0, \"#0d0887\"], [0.1111111111111111, \"#46039f\"], [0.2222222222222222, \"#7201a8\"], [0.3333333333333333, \"#9c179e\"], [0.4444444444444444, \"#bd3786\"], [0.5555555555555556, \"#d8576b\"], [0.6666666666666666, \"#ed7953\"], [0.7777777777777778, \"#fb9f3a\"], [0.8888888888888888, \"#fdca26\"], [1.0, \"#f0f921\"]], \"type\": \"histogram2dcontour\"}], \"mesh3d\": [{\"colorbar\": {\"outlinewidth\": 0, \"ticks\": \"\"}, \"type\": \"mesh3d\"}], \"parcoords\": [{\"line\": {\"colorbar\": {\"outlinewidth\": 0, \"ticks\": \"\"}}, \"type\": \"parcoords\"}], \"pie\": [{\"automargin\": true, \"type\": \"pie\"}], \"scatter\": [{\"marker\": {\"colorbar\": {\"outlinewidth\": 0, \"ticks\": \"\"}}, \"type\": \"scatter\"}], \"scatter3d\": [{\"line\": {\"colorbar\": {\"outlinewidth\": 0, \"ticks\": \"\"}}, \"marker\": {\"colorbar\": {\"outlinewidth\": 0, \"ticks\": \"\"}}, \"type\": \"scatter3d\"}], \"scattercarpet\": [{\"marker\": {\"colorbar\": {\"outlinewidth\": 0, \"ticks\": \"\"}}, \"type\": \"scattercarpet\"}], \"scattergeo\": [{\"marker\": {\"colorbar\": {\"outlinewidth\": 0, \"ticks\": \"\"}}, \"type\": \"scattergeo\"}], \"scattergl\": [{\"marker\": {\"colorbar\": {\"outlinewidth\": 0, \"ticks\": \"\"}}, \"type\": \"scattergl\"}], \"scattermapbox\": [{\"marker\": {\"colorbar\": {\"outlinewidth\": 0, \"ticks\": \"\"}}, \"type\": \"scattermapbox\"}], \"scatterpolar\": [{\"marker\": {\"colorbar\": {\"outlinewidth\": 0, \"ticks\": \"\"}}, \"type\": \"scatterpolar\"}], \"scatterpolargl\": [{\"marker\": {\"colorbar\": {\"outlinewidth\": 0, \"ticks\": \"\"}}, \"type\": \"scatterpolargl\"}], \"scatterternary\": [{\"marker\": {\"colorbar\": {\"outlinewidth\": 0, \"ticks\": \"\"}}, \"type\": \"scatterternary\"}], \"surface\": [{\"colorbar\": {\"outlinewidth\": 0, \"ticks\": \"\"}, \"colorscale\": [[0.0, \"#0d0887\"], [0.1111111111111111, \"#46039f\"], [0.2222222222222222, \"#7201a8\"], [0.3333333333333333, \"#9c179e\"], [0.4444444444444444, \"#bd3786\"], [0.5555555555555556, \"#d8576b\"], [0.6666666666666666, \"#ed7953\"], [0.7777777777777778, \"#fb9f3a\"], [0.8888888888888888, \"#fdca26\"], [1.0, \"#f0f921\"]], \"type\": \"surface\"}], \"table\": [{\"cells\": {\"fill\": {\"color\": \"#EBF0F8\"}, \"line\": {\"color\": \"white\"}}, \"header\": {\"fill\": {\"color\": \"#C8D4E3\"}, \"line\": {\"color\": \"white\"}}, \"type\": \"table\"}]}, \"layout\": {\"annotationdefaults\": {\"arrowcolor\": \"#2a3f5f\", \"arrowhead\": 0, \"arrowwidth\": 1}, \"coloraxis\": {\"colorbar\": {\"outlinewidth\": 0, \"ticks\": \"\"}}, \"colorscale\": {\"diverging\": [[0, \"#8e0152\"], [0.1, \"#c51b7d\"], [0.2, \"#de77ae\"], [0.3, \"#f1b6da\"], [0.4, \"#fde0ef\"], [0.5, \"#f7f7f7\"], [0.6, \"#e6f5d0\"], [0.7, \"#b8e186\"], [0.8, \"#7fbc41\"], [0.9, \"#4d9221\"], [1, \"#276419\"]], \"sequential\": [[0.0, \"#0d0887\"], [0.1111111111111111, \"#46039f\"], [0.2222222222222222, \"#7201a8\"], [0.3333333333333333, \"#9c179e\"], [0.4444444444444444, \"#bd3786\"], [0.5555555555555556, \"#d8576b\"], [0.6666666666666666, \"#ed7953\"], [0.7777777777777778, \"#fb9f3a\"], [0.8888888888888888, \"#fdca26\"], [1.0, \"#f0f921\"]], \"sequentialminus\": [[0.0, \"#0d0887\"], [0.1111111111111111, \"#46039f\"], [0.2222222222222222, \"#7201a8\"], [0.3333333333333333, \"#9c179e\"], [0.4444444444444444, \"#bd3786\"], [0.5555555555555556, \"#d8576b\"], [0.6666666666666666, \"#ed7953\"], [0.7777777777777778, \"#fb9f3a\"], [0.8888888888888888, \"#fdca26\"], [1.0, \"#f0f921\"]]}, \"colorway\": [\"#636efa\", \"#EF553B\", \"#00cc96\", \"#ab63fa\", \"#FFA15A\", \"#19d3f3\", \"#FF6692\", \"#B6E880\", \"#FF97FF\", \"#FECB52\"], \"font\": {\"color\": \"#2a3f5f\"}, \"geo\": {\"bgcolor\": \"white\", \"lakecolor\": \"white\", \"landcolor\": \"#E5ECF6\", \"showlakes\": true, \"showland\": true, \"subunitcolor\": \"white\"}, \"hoverlabel\": {\"align\": \"left\"}, \"hovermode\": \"closest\", \"mapbox\": {\"style\": \"light\"}, \"paper_bgcolor\": \"white\", \"plot_bgcolor\": \"#E5ECF6\", \"polar\": {\"angularaxis\": {\"gridcolor\": \"white\", \"linecolor\": \"white\", \"ticks\": \"\"}, \"bgcolor\": \"#E5ECF6\", \"radialaxis\": {\"gridcolor\": \"white\", \"linecolor\": \"white\", \"ticks\": \"\"}}, \"scene\": {\"xaxis\": {\"backgroundcolor\": \"#E5ECF6\", \"gridcolor\": \"white\", \"gridwidth\": 2, \"linecolor\": \"white\", \"showbackground\": true, \"ticks\": \"\", \"zerolinecolor\": \"white\"}, \"yaxis\": {\"backgroundcolor\": \"#E5ECF6\", \"gridcolor\": \"white\", \"gridwidth\": 2, \"linecolor\": \"white\", \"showbackground\": true, \"ticks\": \"\", \"zerolinecolor\": \"white\"}, \"zaxis\": {\"backgroundcolor\": \"#E5ECF6\", \"gridcolor\": \"white\", \"gridwidth\": 2, \"linecolor\": \"white\", \"showbackground\": true, \"ticks\": \"\", \"zerolinecolor\": \"white\"}}, \"shapedefaults\": {\"line\": {\"color\": \"#2a3f5f\"}}, \"ternary\": {\"aaxis\": {\"gridcolor\": \"white\", \"linecolor\": \"white\", \"ticks\": \"\"}, \"baxis\": {\"gridcolor\": \"white\", \"linecolor\": \"white\", \"ticks\": \"\"}, \"bgcolor\": \"#E5ECF6\", \"caxis\": {\"gridcolor\": \"white\", \"linecolor\": \"white\", \"ticks\": \"\"}}, \"title\": {\"x\": 0.05}, \"xaxis\": {\"automargin\": true, \"gridcolor\": \"white\", \"linecolor\": \"white\", \"ticks\": \"\", \"title\": {\"standoff\": 15}, \"zerolinecolor\": \"white\", \"zerolinewidth\": 2}, \"yaxis\": {\"automargin\": true, \"gridcolor\": \"white\", \"linecolor\": \"white\", \"ticks\": \"\", \"title\": {\"standoff\": 15}, \"zerolinecolor\": \"white\", \"zerolinewidth\": 2}}}, \"xaxis\": {\"anchor\": \"y\", \"domain\": [0.0, 1.0]}, \"yaxis\": {\"anchor\": \"x\", \"domain\": [0.0, 1.0], \"title\": {\"text\": \"count\"}}},\n",
              "                        {\"responsive\": true}\n",
              "                    ).then(function(){\n",
              "                            \n",
              "var gd = document.getElementById('b0ccf4e8-3591-4061-9626-2b7c43b1408a');\n",
              "var x = new MutationObserver(function (mutations, observer) {{\n",
              "        var display = window.getComputedStyle(gd).display;\n",
              "        if (!display || display === 'none') {{\n",
              "            console.log([gd, 'removed!']);\n",
              "            Plotly.purge(gd);\n",
              "            observer.disconnect();\n",
              "        }}\n",
              "}});\n",
              "\n",
              "// Listen for the removal of the full notebook cells\n",
              "var notebookContainer = gd.closest('#notebook-container');\n",
              "if (notebookContainer) {{\n",
              "    x.observe(notebookContainer, {childList: true});\n",
              "}}\n",
              "\n",
              "// Listen for the clearing of the current output cell\n",
              "var outputEl = gd.closest('.output');\n",
              "if (outputEl) {{\n",
              "    x.observe(outputEl, {childList: true});\n",
              "}}\n",
              "\n",
              "                        })\n",
              "                };\n",
              "                \n",
              "            </script>\n",
              "        </div>\n",
              "</body>\n",
              "</html>"
            ]
          },
          "metadata": {
            "tags": []
          }
        }
      ]
    },
    {
      "cell_type": "code",
      "metadata": {
        "id": "2uxCAVx1Wa9T",
        "colab_type": "code",
        "colab": {
          "base_uri": "https://localhost:8080/",
          "height": 34
        },
        "outputId": "eac09692-34a2-4ce9-e560-201cd9086b2b"
      },
      "source": [
        "round(grouped_by_RW[\"count\"].iloc[1] / grouped_by_RW[\"count\"].iloc[0],3) * 100"
      ],
      "execution_count": null,
      "outputs": [
        {
          "output_type": "execute_result",
          "data": {
            "text/plain": [
              "10.7"
            ]
          },
          "metadata": {
            "tags": []
          },
          "execution_count": 523
        }
      ]
    },
    {
      "cell_type": "code",
      "metadata": {
        "colab_type": "code",
        "id": "pW5DXoKQVt-l",
        "colab": {}
      },
      "source": [
        "def run_process(user_name, date_from, date_to):\n",
        "\n",
        "  q='to:{}'.format(user_name)\n",
        "\n",
        "  tweetCriteria = got.manager.TweetCriteria().setQuerySearch(q)\\\n",
        "                                            .setSince(date_from)\\\n",
        "                                            .setUntil(date_to)\n",
        "  tweets = got.manager.TweetManager.getTweets(tweetCriteria)\n",
        "\n",
        "  df = pd.DataFrame(tweets)\n",
        "\n",
        "  def get_text(tweet):\n",
        "    return tweet.text\n",
        "\n",
        "  def get_username(tweet):\n",
        "    return tweet.username\n",
        "\n",
        "  df[\"username\"] = df[0].apply(get_username)\n",
        "  df[\"text\"] = df[0].apply(get_text)\n",
        "\n",
        "  bios_df = df.copy()\n",
        "  bios = bios_df.dropna(axis=0, subset=[\"username\"])\n",
        "  bios = bios.drop_duplicates(subset=[\"username\"])\n",
        "\n",
        "  auth = tweepy.OAuthHandler(API_KEY, API_SECRET)\n",
        "  auth.set_access_token(ACCESS_TOKEN, ACCESS_TOKEN_SECRET)\n",
        "\n",
        "  api = tweepy.API(auth)\n",
        "\n",
        "  list_of_new_bios = get_bio(df[\"username\"].tolist())\n",
        "\n",
        "  list_of_new_bios[\"RW_prediction\"] = list_of_new_bios[\"Bios\"].apply(learn_inf.predict)\n",
        "\n",
        "  list_of_new_bios[\"RW_prediction\"] = list_of_new_bios[\"RW_prediction\"].apply(get_label)\n",
        "\n",
        "  list_of_new_bios = list_of_new_bios.rename({\"Users\":\"username\"}, axis=1)\n",
        "\n",
        "  new_df = df.merge(list_of_new_bios, on=[\"username\"])\n",
        "\n",
        "\n",
        "\n",
        "  # Clean the tweets\n",
        "  new_df['clean_text'] = new_df['text'].apply(cleanTxt)\n",
        "\n",
        "    # Create two new columns 'Subjectivity' & 'Polarity'\n",
        "  new_df['Subjectivity'] = new_df['clean_text'].apply(getSubjectivity)\n",
        "  new_df['Polarity'] = new_df['clean_text'].apply(getPolarity)\n",
        "\n",
        "  right_wing_mask = new_df[\"RW_prediction\"] == \"True\"\n",
        "  right_wing = new_df[right_wing_mask]\n",
        "\n",
        "  not_right_wing_mask = new_df[\"RW_prediction\"] == \"False\"\n",
        "  not_right_wing = new_df[not_right_wing_mask]\n",
        "\n",
        "  fig2 = px.scatter(new_df, x=\"Subjectivity\", y=\"Polarity\", color=\"RW_prediction\", hover_data=[\"Bios\"])\n",
        "  fig2.update_xaxes(range=[-0.1,1.1])\n",
        "  fig2.update_yaxes(range=[-1.1, 1.1])\n",
        "\n",
        "  grouped_by_RW = new_df.groupby(\"RW_prediction\").agg(\n",
        "    count= (\"text\", len),\n",
        "    Subjectivity = (\"Subjectivity\", np.mean),\n",
        "    Polarity = (\"Polarity\", np.mean))\n",
        "  \n",
        "  fig1 = px.bar(grouped_by_RW, y=\"count\", color=grouped_by_RW.index)\n",
        "\n",
        "  final = round(grouped_by_RW[\"count\"].iloc[1] / grouped_by_RW[\"count\"].iloc[0],3) * 100\n",
        "\n",
        "  return grouped_by_RW, fig1, fig2, final\n",
        "  "
      ],
      "execution_count": null,
      "outputs": []
    },
    {
      "cell_type": "markdown",
      "metadata": {
        "id": "cjTdso49MVcr",
        "colab_type": "text"
      },
      "source": [
        "# Right Wing Follower Test\n",
        "\n",
        "This tool is designed to check how many explicitly right wing users interact with a twitter account on a certain day, and how they differ to the rest of the interactions."
      ]
    },
    {
      "cell_type": "code",
      "metadata": {
        "id": "2fUmOo34ppyb",
        "colab_type": "code",
        "colab": {}
      },
      "source": [
        "import ipywidgets as widgets\n",
        "from ipywidgets import interact, interact_manual\n",
        "from ipywidgets import *"
      ],
      "execution_count": null,
      "outputs": []
    },
    {
      "cell_type": "code",
      "metadata": {
        "id": "ca3LouCjpDe2",
        "colab_type": "code",
        "colab": {}
      },
      "source": [
        "username_select =widgets.Text(\n",
        "    value='@metpoliceuk',\n",
        "    placeholder='Type something',\n",
        "    description='Username:',\n",
        "    disabled=False\n",
        ")"
      ],
      "execution_count": null,
      "outputs": []
    },
    {
      "cell_type": "code",
      "metadata": {
        "id": "c4U0YGlM6Uh1",
        "colab_type": "code",
        "colab": {}
      },
      "source": [
        "date_from_widget =widgets.Text(\n",
        "    value='2020-08-27',\n",
        "    placeholder='Type something',\n",
        "    description='Date From:',\n",
        "    disabled=False\n",
        ")"
      ],
      "execution_count": null,
      "outputs": []
    },
    {
      "cell_type": "code",
      "metadata": {
        "id": "tOG0wGVQ6UtI",
        "colab_type": "code",
        "colab": {}
      },
      "source": [
        "date_to_widget =widgets.Text(\n",
        "    value='2020-08-28',\n",
        "    placeholder='Type something',\n",
        "    description='Date To:',\n",
        "    disabled=False\n",
        ")"
      ],
      "execution_count": null,
      "outputs": []
    },
    {
      "cell_type": "code",
      "metadata": {
        "id": "KAvOlKpGx2Zu",
        "colab_type": "code",
        "colab": {}
      },
      "source": [
        "def show_graph2(change):\n",
        "  with out_df:\n",
        "    print(\"analysing..\")\n",
        "  results = run_process(username_select.value, date_from_widget.value, date_to_widget.value)\n",
        "  out_df.clear_output()\n",
        "  out_analysis.clear_output()\n",
        "  out_graph1.clear_output()\n",
        "  out_graph2.clear_output()\n",
        "  with out_df:\n",
        "    print(str(results[3]) + \"% RW interactions\")\n",
        "  with out_analysis:\n",
        "    print(results[0])\n",
        "  with out_graph1:\n",
        "    results[1].show()\n",
        "  with out_graph2:\n",
        "    results[2].show()\n",
        "  \n"
      ],
      "execution_count": null,
      "outputs": []
    },
    {
      "cell_type": "code",
      "metadata": {
        "id": "uSdcGMZr2zsS",
        "colab_type": "code",
        "colab": {}
      },
      "source": [
        "analyse_button = widgets.Button(description='Analyse')\n",
        "\n",
        "analyse_button.on_click(show_graph2)"
      ],
      "execution_count": null,
      "outputs": []
    },
    {
      "cell_type": "code",
      "metadata": {
        "id": "Zm_keIcbs9uM",
        "colab_type": "code",
        "colab": {}
      },
      "source": [
        "out_df = widgets.Output(layout={'border': '1px solid black'})\n",
        "out_analysis = widgets.Output(layout={'border': '1px solid black'})\n",
        "out_graph1 = widgets.Output(layout={'border': '1px solid black'})\n",
        "out_graph2 = widgets.Output(layout={'border': '1px solid black'})"
      ],
      "execution_count": null,
      "outputs": []
    },
    {
      "cell_type": "code",
      "metadata": {
        "id": "lTm0AX3w65J6",
        "colab_type": "code",
        "colab": {
          "base_uri": "https://localhost:8080/",
          "height": 1000,
          "referenced_widgets": [
            "9a8b8c47e6fb4736a7700f42260017cf",
            "9ca3c03397354f009d7378f37a2bf88e",
            "679ffd1190cb499497c6c0e18c0a21b6",
            "bd4d127247d846b893d8c6b8799ccdab",
            "7f7d6cbb421c4400b3ed0bf4db39ee06",
            "afbc100d497c46fa8f3d1b10544bf8b5",
            "80095bafa6064366af53281cfcdfc0e7",
            "5e5f7d7eaa554175a4280e177fbdb78d",
            "93a975e490714016ae2d0d21d464dcc8",
            "cb0f8a1a8ac44e378dbf4b3038dd174c",
            "a79f41d809ed41d9aa128334dba8c6d0",
            "665942253ccd4c17a9c71cc31c03a3aa",
            "729d74c0e05643419c6bd55b4690a63b",
            "1fbd702ead53449ba9f7c0997edee573",
            "aa13d6492e034319a3b9b3781944f2af",
            "e6e7dde566334637a1a2e03d3a6018eb",
            "b6d83463367a49b48d823bf99c2027b3",
            "87413d605c394d76be3ec74a1bc20860",
            "9e4e27417b2e428fb94e84094252dfe9",
            "fe074177cdd64e3b8a36328faa33ddae",
            "7090ee53ae5648149cea46307cea8a78",
            "1b6a6f7055ab43a3a0ed9bd605ae0bf6",
            "219d9e5a9972497d886db7043d541857",
            "93e3f84322fd483ebb9f3fde565e60cd",
            "5816df1fc3ef4e158acc405b2eae9166"
          ]
        },
        "outputId": "156c9c87-59b1-4c33-be35-4c938f5b194a"
      },
      "source": [
        "VBox([widgets.Label('Tweet Monitor'),\n",
        "      username_select, date_from_widget, date_to_widget, analyse_button, out_df, out_analysis, out_graph1, out_graph2])"
      ],
      "execution_count": 533,
      "outputs": [
        {
          "output_type": "stream",
          "text": [
            "8.3% RW interactions\n",
            "               count  Subjectivity  Polarity\n",
            "RW_prediction                               \n",
            "False            133      0.289162  0.025225\n",
            "True              11      0.247890  0.055952\n"
          ],
          "name": "stdout"
        },
        {
          "output_type": "display_data",
          "data": {
            "text/html": [
              "<html>\n",
              "<head><meta charset=\"utf-8\" /></head>\n",
              "<body>\n",
              "    <div>\n",
              "            <script src=\"https://cdnjs.cloudflare.com/ajax/libs/mathjax/2.7.5/MathJax.js?config=TeX-AMS-MML_SVG\"></script><script type=\"text/javascript\">if (window.MathJax) {MathJax.Hub.Config({SVG: {font: \"STIX-Web\"}});}</script>\n",
              "                <script type=\"text/javascript\">window.PlotlyConfig = {MathJaxConfig: 'local'};</script>\n",
              "        <script src=\"https://cdn.plot.ly/plotly-latest.min.js\"></script>    \n",
              "            <div id=\"b3193888-5ade-4326-9128-cabeee99e6d5\" class=\"plotly-graph-div\" style=\"height:525px; width:100%;\"></div>\n",
              "            <script type=\"text/javascript\">\n",
              "                \n",
              "                    window.PLOTLYENV=window.PLOTLYENV || {};\n",
              "                    \n",
              "                if (document.getElementById(\"b3193888-5ade-4326-9128-cabeee99e6d5\")) {\n",
              "                    Plotly.newPlot(\n",
              "                        'b3193888-5ade-4326-9128-cabeee99e6d5',\n",
              "                        [{\"alignmentgroup\": \"True\", \"hoverlabel\": {\"namelength\": 0}, \"hovertemplate\": \"color=False<br>count=%{y}\", \"legendgroup\": \"color=False\", \"marker\": {\"color\": \"#636efa\"}, \"name\": \"color=False\", \"offsetgroup\": \"color=False\", \"orientation\": \"v\", \"showlegend\": true, \"textposition\": \"auto\", \"type\": \"bar\", \"xaxis\": \"x\", \"y\": [133], \"yaxis\": \"y\"}, {\"alignmentgroup\": \"True\", \"hoverlabel\": {\"namelength\": 0}, \"hovertemplate\": \"color=True<br>count=%{y}\", \"legendgroup\": \"color=True\", \"marker\": {\"color\": \"#EF553B\"}, \"name\": \"color=True\", \"offsetgroup\": \"color=True\", \"orientation\": \"v\", \"showlegend\": true, \"textposition\": \"auto\", \"type\": \"bar\", \"xaxis\": \"x\", \"y\": [11], \"yaxis\": \"y\"}],\n",
              "                        {\"barmode\": \"relative\", \"legend\": {\"tracegroupgap\": 0}, \"margin\": {\"t\": 60}, \"template\": {\"data\": {\"bar\": [{\"error_x\": {\"color\": \"#2a3f5f\"}, \"error_y\": {\"color\": \"#2a3f5f\"}, \"marker\": {\"line\": {\"color\": \"#E5ECF6\", \"width\": 0.5}}, \"type\": \"bar\"}], \"barpolar\": [{\"marker\": {\"line\": {\"color\": \"#E5ECF6\", \"width\": 0.5}}, \"type\": \"barpolar\"}], \"carpet\": [{\"aaxis\": {\"endlinecolor\": \"#2a3f5f\", \"gridcolor\": \"white\", \"linecolor\": \"white\", \"minorgridcolor\": \"white\", \"startlinecolor\": \"#2a3f5f\"}, \"baxis\": {\"endlinecolor\": \"#2a3f5f\", \"gridcolor\": \"white\", \"linecolor\": \"white\", \"minorgridcolor\": \"white\", \"startlinecolor\": \"#2a3f5f\"}, \"type\": \"carpet\"}], \"choropleth\": [{\"colorbar\": {\"outlinewidth\": 0, \"ticks\": \"\"}, \"type\": \"choropleth\"}], \"contour\": [{\"colorbar\": {\"outlinewidth\": 0, \"ticks\": \"\"}, \"colorscale\": [[0.0, \"#0d0887\"], [0.1111111111111111, \"#46039f\"], [0.2222222222222222, \"#7201a8\"], [0.3333333333333333, \"#9c179e\"], [0.4444444444444444, \"#bd3786\"], [0.5555555555555556, \"#d8576b\"], [0.6666666666666666, \"#ed7953\"], [0.7777777777777778, \"#fb9f3a\"], [0.8888888888888888, \"#fdca26\"], [1.0, \"#f0f921\"]], \"type\": \"contour\"}], \"contourcarpet\": [{\"colorbar\": {\"outlinewidth\": 0, \"ticks\": \"\"}, \"type\": \"contourcarpet\"}], \"heatmap\": [{\"colorbar\": {\"outlinewidth\": 0, \"ticks\": \"\"}, \"colorscale\": [[0.0, \"#0d0887\"], [0.1111111111111111, \"#46039f\"], [0.2222222222222222, \"#7201a8\"], [0.3333333333333333, \"#9c179e\"], [0.4444444444444444, \"#bd3786\"], [0.5555555555555556, \"#d8576b\"], [0.6666666666666666, \"#ed7953\"], [0.7777777777777778, \"#fb9f3a\"], [0.8888888888888888, \"#fdca26\"], [1.0, \"#f0f921\"]], \"type\": \"heatmap\"}], \"heatmapgl\": [{\"colorbar\": {\"outlinewidth\": 0, \"ticks\": \"\"}, \"colorscale\": [[0.0, \"#0d0887\"], [0.1111111111111111, \"#46039f\"], [0.2222222222222222, \"#7201a8\"], [0.3333333333333333, \"#9c179e\"], [0.4444444444444444, \"#bd3786\"], [0.5555555555555556, \"#d8576b\"], [0.6666666666666666, \"#ed7953\"], [0.7777777777777778, \"#fb9f3a\"], [0.8888888888888888, \"#fdca26\"], [1.0, \"#f0f921\"]], \"type\": \"heatmapgl\"}], \"histogram\": [{\"marker\": {\"colorbar\": {\"outlinewidth\": 0, \"ticks\": \"\"}}, \"type\": \"histogram\"}], \"histogram2d\": [{\"colorbar\": {\"outlinewidth\": 0, \"ticks\": \"\"}, \"colorscale\": [[0.0, \"#0d0887\"], [0.1111111111111111, \"#46039f\"], [0.2222222222222222, \"#7201a8\"], [0.3333333333333333, \"#9c179e\"], [0.4444444444444444, \"#bd3786\"], [0.5555555555555556, \"#d8576b\"], [0.6666666666666666, \"#ed7953\"], [0.7777777777777778, \"#fb9f3a\"], [0.8888888888888888, \"#fdca26\"], [1.0, \"#f0f921\"]], \"type\": \"histogram2d\"}], \"histogram2dcontour\": [{\"colorbar\": {\"outlinewidth\": 0, \"ticks\": \"\"}, \"colorscale\": [[0.0, \"#0d0887\"], [0.1111111111111111, \"#46039f\"], [0.2222222222222222, \"#7201a8\"], [0.3333333333333333, \"#9c179e\"], [0.4444444444444444, \"#bd3786\"], [0.5555555555555556, \"#d8576b\"], [0.6666666666666666, \"#ed7953\"], [0.7777777777777778, \"#fb9f3a\"], [0.8888888888888888, \"#fdca26\"], [1.0, \"#f0f921\"]], \"type\": \"histogram2dcontour\"}], \"mesh3d\": [{\"colorbar\": {\"outlinewidth\": 0, \"ticks\": \"\"}, \"type\": \"mesh3d\"}], \"parcoords\": [{\"line\": {\"colorbar\": {\"outlinewidth\": 0, \"ticks\": \"\"}}, \"type\": \"parcoords\"}], \"pie\": [{\"automargin\": true, \"type\": \"pie\"}], \"scatter\": [{\"marker\": {\"colorbar\": {\"outlinewidth\": 0, \"ticks\": \"\"}}, \"type\": \"scatter\"}], \"scatter3d\": [{\"line\": {\"colorbar\": {\"outlinewidth\": 0, \"ticks\": \"\"}}, \"marker\": {\"colorbar\": {\"outlinewidth\": 0, \"ticks\": \"\"}}, \"type\": \"scatter3d\"}], \"scattercarpet\": [{\"marker\": {\"colorbar\": {\"outlinewidth\": 0, \"ticks\": \"\"}}, \"type\": \"scattercarpet\"}], \"scattergeo\": [{\"marker\": {\"colorbar\": {\"outlinewidth\": 0, \"ticks\": \"\"}}, \"type\": \"scattergeo\"}], \"scattergl\": [{\"marker\": {\"colorbar\": {\"outlinewidth\": 0, \"ticks\": \"\"}}, \"type\": \"scattergl\"}], \"scattermapbox\": [{\"marker\": {\"colorbar\": {\"outlinewidth\": 0, \"ticks\": \"\"}}, \"type\": \"scattermapbox\"}], \"scatterpolar\": [{\"marker\": {\"colorbar\": {\"outlinewidth\": 0, \"ticks\": \"\"}}, \"type\": \"scatterpolar\"}], \"scatterpolargl\": [{\"marker\": {\"colorbar\": {\"outlinewidth\": 0, \"ticks\": \"\"}}, \"type\": \"scatterpolargl\"}], \"scatterternary\": [{\"marker\": {\"colorbar\": {\"outlinewidth\": 0, \"ticks\": \"\"}}, \"type\": \"scatterternary\"}], \"surface\": [{\"colorbar\": {\"outlinewidth\": 0, \"ticks\": \"\"}, \"colorscale\": [[0.0, \"#0d0887\"], [0.1111111111111111, \"#46039f\"], [0.2222222222222222, \"#7201a8\"], [0.3333333333333333, \"#9c179e\"], [0.4444444444444444, \"#bd3786\"], [0.5555555555555556, \"#d8576b\"], [0.6666666666666666, \"#ed7953\"], [0.7777777777777778, \"#fb9f3a\"], [0.8888888888888888, \"#fdca26\"], [1.0, \"#f0f921\"]], \"type\": \"surface\"}], \"table\": [{\"cells\": {\"fill\": {\"color\": \"#EBF0F8\"}, \"line\": {\"color\": \"white\"}}, \"header\": {\"fill\": {\"color\": \"#C8D4E3\"}, \"line\": {\"color\": \"white\"}}, \"type\": \"table\"}]}, \"layout\": {\"annotationdefaults\": {\"arrowcolor\": \"#2a3f5f\", \"arrowhead\": 0, \"arrowwidth\": 1}, \"coloraxis\": {\"colorbar\": {\"outlinewidth\": 0, \"ticks\": \"\"}}, \"colorscale\": {\"diverging\": [[0, \"#8e0152\"], [0.1, \"#c51b7d\"], [0.2, \"#de77ae\"], [0.3, \"#f1b6da\"], [0.4, \"#fde0ef\"], [0.5, \"#f7f7f7\"], [0.6, \"#e6f5d0\"], [0.7, \"#b8e186\"], [0.8, \"#7fbc41\"], [0.9, \"#4d9221\"], [1, \"#276419\"]], \"sequential\": [[0.0, \"#0d0887\"], [0.1111111111111111, \"#46039f\"], [0.2222222222222222, \"#7201a8\"], [0.3333333333333333, \"#9c179e\"], [0.4444444444444444, \"#bd3786\"], [0.5555555555555556, \"#d8576b\"], [0.6666666666666666, \"#ed7953\"], [0.7777777777777778, \"#fb9f3a\"], [0.8888888888888888, \"#fdca26\"], [1.0, \"#f0f921\"]], \"sequentialminus\": [[0.0, \"#0d0887\"], [0.1111111111111111, \"#46039f\"], [0.2222222222222222, \"#7201a8\"], [0.3333333333333333, \"#9c179e\"], [0.4444444444444444, \"#bd3786\"], [0.5555555555555556, \"#d8576b\"], [0.6666666666666666, \"#ed7953\"], [0.7777777777777778, \"#fb9f3a\"], [0.8888888888888888, \"#fdca26\"], [1.0, \"#f0f921\"]]}, \"colorway\": [\"#636efa\", \"#EF553B\", \"#00cc96\", \"#ab63fa\", \"#FFA15A\", \"#19d3f3\", \"#FF6692\", \"#B6E880\", \"#FF97FF\", \"#FECB52\"], \"font\": {\"color\": \"#2a3f5f\"}, \"geo\": {\"bgcolor\": \"white\", \"lakecolor\": \"white\", \"landcolor\": \"#E5ECF6\", \"showlakes\": true, \"showland\": true, \"subunitcolor\": \"white\"}, \"hoverlabel\": {\"align\": \"left\"}, \"hovermode\": \"closest\", \"mapbox\": {\"style\": \"light\"}, \"paper_bgcolor\": \"white\", \"plot_bgcolor\": \"#E5ECF6\", \"polar\": {\"angularaxis\": {\"gridcolor\": \"white\", \"linecolor\": \"white\", \"ticks\": \"\"}, \"bgcolor\": \"#E5ECF6\", \"radialaxis\": {\"gridcolor\": \"white\", \"linecolor\": \"white\", \"ticks\": \"\"}}, \"scene\": {\"xaxis\": {\"backgroundcolor\": \"#E5ECF6\", \"gridcolor\": \"white\", \"gridwidth\": 2, \"linecolor\": \"white\", \"showbackground\": true, \"ticks\": \"\", \"zerolinecolor\": \"white\"}, \"yaxis\": {\"backgroundcolor\": \"#E5ECF6\", \"gridcolor\": \"white\", \"gridwidth\": 2, \"linecolor\": \"white\", \"showbackground\": true, \"ticks\": \"\", \"zerolinecolor\": \"white\"}, \"zaxis\": {\"backgroundcolor\": \"#E5ECF6\", \"gridcolor\": \"white\", \"gridwidth\": 2, \"linecolor\": \"white\", \"showbackground\": true, \"ticks\": \"\", \"zerolinecolor\": \"white\"}}, \"shapedefaults\": {\"line\": {\"color\": \"#2a3f5f\"}}, \"ternary\": {\"aaxis\": {\"gridcolor\": \"white\", \"linecolor\": \"white\", \"ticks\": \"\"}, \"baxis\": {\"gridcolor\": \"white\", \"linecolor\": \"white\", \"ticks\": \"\"}, \"bgcolor\": \"#E5ECF6\", \"caxis\": {\"gridcolor\": \"white\", \"linecolor\": \"white\", \"ticks\": \"\"}}, \"title\": {\"x\": 0.05}, \"xaxis\": {\"automargin\": true, \"gridcolor\": \"white\", \"linecolor\": \"white\", \"ticks\": \"\", \"title\": {\"standoff\": 15}, \"zerolinecolor\": \"white\", \"zerolinewidth\": 2}, \"yaxis\": {\"automargin\": true, \"gridcolor\": \"white\", \"linecolor\": \"white\", \"ticks\": \"\", \"title\": {\"standoff\": 15}, \"zerolinecolor\": \"white\", \"zerolinewidth\": 2}}}, \"xaxis\": {\"anchor\": \"y\", \"domain\": [0.0, 1.0]}, \"yaxis\": {\"anchor\": \"x\", \"domain\": [0.0, 1.0], \"title\": {\"text\": \"count\"}}},\n",
              "                        {\"responsive\": true}\n",
              "                    ).then(function(){\n",
              "                            \n",
              "var gd = document.getElementById('b3193888-5ade-4326-9128-cabeee99e6d5');\n",
              "var x = new MutationObserver(function (mutations, observer) {{\n",
              "        var display = window.getComputedStyle(gd).display;\n",
              "        if (!display || display === 'none') {{\n",
              "            console.log([gd, 'removed!']);\n",
              "            Plotly.purge(gd);\n",
              "            observer.disconnect();\n",
              "        }}\n",
              "}});\n",
              "\n",
              "// Listen for the removal of the full notebook cells\n",
              "var notebookContainer = gd.closest('#notebook-container');\n",
              "if (notebookContainer) {{\n",
              "    x.observe(notebookContainer, {childList: true});\n",
              "}}\n",
              "\n",
              "// Listen for the clearing of the current output cell\n",
              "var outputEl = gd.closest('.output');\n",
              "if (outputEl) {{\n",
              "    x.observe(outputEl, {childList: true});\n",
              "}}\n",
              "\n",
              "                        })\n",
              "                };\n",
              "                \n",
              "            </script>\n",
              "        </div>\n",
              "</body>\n",
              "</html>"
            ]
          },
          "metadata": {
            "tags": []
          }
        },
        {
          "output_type": "display_data",
          "data": {
            "text/html": [
              "<html>\n",
              "<head><meta charset=\"utf-8\" /></head>\n",
              "<body>\n",
              "    <div>\n",
              "            <script src=\"https://cdnjs.cloudflare.com/ajax/libs/mathjax/2.7.5/MathJax.js?config=TeX-AMS-MML_SVG\"></script><script type=\"text/javascript\">if (window.MathJax) {MathJax.Hub.Config({SVG: {font: \"STIX-Web\"}});}</script>\n",
              "                <script type=\"text/javascript\">window.PlotlyConfig = {MathJaxConfig: 'local'};</script>\n",
              "        <script src=\"https://cdn.plot.ly/plotly-latest.min.js\"></script>    \n",
              "            <div id=\"cf62c2ac-43de-4d14-bf0d-0da4735847bb\" class=\"plotly-graph-div\" style=\"height:525px; width:100%;\"></div>\n",
              "            <script type=\"text/javascript\">\n",
              "                \n",
              "                    window.PLOTLYENV=window.PLOTLYENV || {};\n",
              "                    \n",
              "                if (document.getElementById(\"cf62c2ac-43de-4d14-bf0d-0da4735847bb\")) {\n",
              "                    Plotly.newPlot(\n",
              "                        'cf62c2ac-43de-4d14-bf0d-0da4735847bb',\n",
              "                        [{\"customdata\": [[\"\\u264b\\ufe0f\"], [\"stay safe ignore Johnson !!! Accepted the result so deliver my brexit enrichments now.Still waiting!\"], [\"To be continued...\"], [\"Ex co-sponsor of Gary Penrice's socks\"], [\"I make cool online things for little humans!\"], [\"All London Licence. These colours don't run. My tweets and retweets are not my endorsement.\"], [\"All Lives Matter but my family matter more especially more than criminals, illegal immigrants and terrorists. #allfromabat #BLMhoax \\ud83c\\udff4\\udb40\\udc67\\udb40\\udc62\\udb40\\udc65\\udb40\\udc6e\\udb40\\udc67\\udb40\\udc7f\\ud83c\\uddec\\ud83c\\udde7\\ud83c\\uddfa\\ud83c\\uddf8\"], [\"I make/supply/fit furniture\"], [\"BS petroleum engineering BA math@physics 1957 My life and joy University of Houston Alpha Phi Omega\"], [\"Seeking Pure Truth\"], [\"Loves all animals especially dogs, pigs, donkeys. R.C. Brexit. Loathe cruelty to the vulnerable. RT's not endorsement etc.\"], [\"Founder & CEO of @clicknclear_\\nTrustee of @ParaCheer\\nWheelchair Partner Stunt Flyer\\nInternational traveller and World Champion Cheerleader\"], [\"\"], [\"\\u26a1\\ufe0f \\ud835\\ude1a\\ud835\\ude36\\ud835\\ude31\\ud835\\ude26\\ud835\\ude33 \\ud835\\ude0d\\ud835\\ude33\\ud835\\ude22\\ud835\\ude2f\\ud835\\ude2c\\ud835\\ude2a\\ud835\\ude26 \\ud835\\ude13\\ud835\\ude22\\ud835\\ude2e\\ud835\\ude31\\ud835\\ude22\\ud835\\ude33\\ud835\\ude25 \\u26a1\\ufe0f \\ud835\\ude08\\ud835\\ude33\\ud835\\ude35\\ud835\\ude2a\\ud835\\ude34\\ud835\\ude35, \\ud835\\ude08\\ud835\\ude37\\ud835\\ude2a\\ud835\\ude25 \\ud835\\ude0a\\ud835\\ude29\\ud835\\ude26\\ud835\\ude2d\\ud835\\ude34\\ud835\\ude26\\ud835\\ude22 \\ud835\\ude0d\\ud835\\ude22\\ud835\\ude2f. \\ud835\\ude0a\\ud835\\ude29\\ud835\\ude26\\ud835\\ude24\\ud835\\ude2c \\ud835\\ude30\\ud835\\ude36\\ud835\\ude35 \\ud835\\ude2e\\ud835\\ude3a \\ud835\\ude23\\ud835\\ude22\\ud835\\ude24\\ud835\\ude2c\\ud835\\ude36\\ud835\\ude31 \\ud835\\ude22\\ud835\\ude35 : @CFC__Tim\"], [\"\"], [\"What you see is what you get ;-)\"], [\"Freelance travel writer. Politically opinionated. Views my own. Retweets not always an endorsement. Try @ac_Kaminski for travel-related tweets.\"], [\"\\u00a9untish\"], [\"\"], [\"\"], [\"CSA Survivor. Exposing the truth about Child Abuse, Holding authorities accountable and the Government to task! \\ud83d\\ude4f\"], [\"Racialists expect a response\"], [\"In The Lab LTD. // https://t.co/7z3Wcgl6GG Co-Owner of MAGZPODZ\"], [\"\"], [\"Urbane Crusader, Hedgerow Forager, Coronation Street Aficionado, Trifle Devotee\"], [\"Just a regular guy with a regular opinion who also happens to love cats and swears a lot. Proud to be British and WILL NOT BE WEARING A FUCKING MASK..\"], [\"gamekeeper\"], [\"Say-tan and b*tches, aka the iam, are always demanding evidence of their nefarious behavior.Because they can't conserve energy it is impossible to get evidence.\"], [\"Living my life vicariously through other people's tweets. I might follow back but don't hold me to it. Proud to be a small cog in the big NHS machine.\"], [\"\\u201c\\ud83c\\udf0d\\u201d A BE BAC \\u201c\\u270c\\ufe0f\\u201d\"], [\"Igbo bloodline prince from anambra state of Nigeria. Future hrh obi 5\"], [\"I am tokenized: https://t.co/b7pybw4Gcl\\n\\nI vlog about web3 coding\\nhttps://t.co/B5WMB5EWS4\\n\\nI write too\\nhttps://t.co/dTfZay4OW0\\n\\n\\ud83c\\udfadAqosg8S8KHQSlVBcanUYbWKBttRI7uKNNDenMebN7XE1D\\ud83c\\udfad\"], [\"PCSO for Plymouth City Centre, Barbican & Waterfront. A/C not monitored 24/7. Please do not report crime here. Non emergencies 101 or 999 for emergencies.\"], [\"F E A R L E S S \\u2022 L I V E M O R E\"], [\"\"], [\"\"], [\"Minority by 2066 \\ud83c\\udff4\\udb40\\udc67\\udb40\\udc62\\udb40\\udc65\\udb40\\udc6e\\udb40\\udc67\\udb40\\udc7f\\ud83c\\uddec\\ud83c\\udde7 All posts are ironic | 17 | Someone tell Owen Jones to unblock me\"], [\"Live today as if it's your last because one day it will be!\"], [\"Corporate Comms specialist, recovering ex pat, digesting C21 life with mixed emotion. \\u2764\\ufe0f London Yorkshire Bermuda NHS Cricket & the Arts (she, her, hers)\"], [\"Small Heath Bluenose, ex\\ud83d\\udc6e\\u200d\\u2642\\ufe0f, supporter of the \\u2018Thin blue line\\u2019. Rock music, Historian . Non voter.\"], [\"Work in Parliament for a Labour MP\\u2022Photographer and an uncommitted Runner\\u2022Women\\u2019s Football & DCMS\\u2022Scouser in London\\u2022 #LFC \\ud83c\\uddeb\\ud83c\\uddf7\\ud83c\\uddea\\ud83c\\uddfa\\ud83c\\uddee\\ud83c\\uddea #DumpTheScales\"], [\"\"], [\"\"], [\"\"], [\"YNWA UTAG\"], [\"No B.S\"], [\"Family, Sailing, Pubs, Boxing, Football (Utd fan) Six Nations Politics (conservative), history - retweets & likes not necessarily endorsements some for debate\"], [\"\"], [\"\"], [\"Truck Driving Rugby Nut. Northampton Saints Supporter. Yes I am a Socialist weird isn\\u2019t it. was labour not whilst Corbyn is there now I wait???\"], [\"A couple of chilled out Brits living in Mallorca after 30 years in the Met Police and a wife who sold her business to retire at the ripe 'old age of 50'.\"], [\"Passionate about truth, I am a biblical Christian. Retweets and follows not an endorsement of anyone. I am of no political persuasion, just my opinions.\"], [\"\\ud83c\\uddec\\ud83c\\udde7\\ud83c\\uddf2\\ud83c\\uddfe\"], [\"Getting performers industry-ready for stage & screen in 2 yrs since 2009. Twice named as @theStage  \\u201cSchool of the Year\\u201d for our innovative training programme.\"], [\"We never left the jungle, we just concreted it. Free Speech, Free Thought. Solutions through Debate.\"], [\"22 | follow my insta x https://t.co/ZrDdtgDbmT\"], [\"\"], [\"\"], [\"Really...Who cares \\ud83d\\ude34\\ud83c\\uddec\\ud83c\\udde7\\ud83c\\udff4\\udb40\\udc67\\udb40\\udc62\\udb40\\udc65\\udb40\\udc6e\\udb40\\udc67\\udb40\\udc7f\\ud83c\\udff4\\udb40\\udc67\\udb40\\udc62\\udb40\\udc77\\udb40\\udc6c\\udb40\\udc73\\udb40\\udc7f\"], [\"Zero tolerance for whinging, whining Leftie shitfers. Still playing the game I love. Bye bye EU, it's (not) been nice knowing you. Hate #pisspoorjournalism\"], [\"storyteller & day stock trader.  God is Real.\"], [\"What an absolute shower! Relentless critic of HMG. Proud rejoiner. People's Republic of Berkshire\"], [\"Former mr punyverse , world renown bed wetter and log burning lothario STOP KILLING CYCLISTS , my bike was stolen , I am also an LGBTV activist\"], [\"The only Account for England\\u2019s representation in the United Kingdom. Parodis et Satiris in Latinish. https://t.co/8U0YDP1OCc\"], [\"cubs fan \\u26be\\ufe0f Man City \\ud83d\\udc99#Blacklivesmatter (he/him) bi\"], [\"\\ud83c\\uddef\\ud83c\\uddf2 6\\u20194ish\"], [\"WARNING - may use humour to expose or criticise other people's stupidity or vices, especially in the world of contemporary politics.\"], [\"bitch I\\u2019m not from zooYork\"], [\"\"], [\"\"], [\"love my family xx proud mum, Salford reds fan\\ud83d\\udc79\\ud83d\\udc79\\ud83d\\udc79Masketeer \\ud83d\\ude37 Labour voting Manc.3.5% #FBPE Hate Tories and Brexit\"], [\"\"], [\"Formerly in the medical industry first in sales later in marketing. Now small business owner\"], [\"TravelLing, CycLing Yogini offering life hacks in Yoga,  Sound Baths & Therapeutic healing & rebalancing bodywork. https://t.co/jkfiGfjINK\"], [\"\"], [\"Journalist, Utah - King James Version (Hebrews 13:2) \\u201cBe not forgetful to entertain strangers: for thereby some have entertained angels unawares.\\u201d\"], [\"I am a non believer a infidel muslim race what a disgrace\"], [\"Attempting 2 positively help in the Missing Persons field.  (Also known as @M25Roundabout)\"], [\"install: chantella_b \\nsnapchat: chantelleburchx\"], [\"Musician, greyhound whisperer and web consultant.\"], [\"\"], [\"\"], [\"Half Maltese, Animal Lover! ,Supporter of West Ham United. Hate the E.U! Pro #Brexit! None PC! #DefundTheBBC P.s @JimDOfficial is funny! \\ud83c\\uddec\\ud83c\\udde7\\ud83c\\uddfa\\ud83c\\uddf8\\ud83c\\uddf2\\ud83c\\uddf9\\ud83c\\uddee\\ud83c\\uddf9\\ud83c\\udded\\ud83c\\uddfa\\u2692\\ufe0f\"], [\"Came for the kung flu \\ud83e\\udd71 | \\nStayed for Dawn Smollett \\ud83e\\udd37\\u200d\\u2642\\ufe0f| \\nconservative (not a tory) & proud Brit |\\n\\n\\ud83d\\udc47Leverage your voice\\ud83d\\udcb0 \\n\\nhttps://t.co/aSAn4XERB3\"], [\"Hoping for a better future, fearing we may have already gone past the point of no return. Liberal, cynical, sarcastic, geek. Sometimes funny.\"], [\"\\ud83c\\udff4\\udb40\\udc67\\udb40\\udc62\\udb40\\udc65\\udb40\\udc6e\\udb40\\udc67\\udb40\\udc7f  \\ud83c\\udff4\\udb40\\udc67\\udb40\\udc62\\udb40\\udc65\\udb40\\udc6e\\udb40\\udc67\\udb40\\udc7f  \\ud83c\\udff4\\udb40\\udc67\\udb40\\udc62\\udb40\\udc65\\udb40\\udc6e\\udb40\\udc67\\udb40\\udc7f\"], [\"tweet-to-who...\"], [\"I doubt we'll agree on everything but we probably have a lot more in common than you think. Take it easy. I \\u2764\\ufe0f you.\"], [\"\"], [\"Zero tolerance of abuse; will call out bullying, abuse, unfairness & inaccuracies. #BeKind #RandomActsOfKindness #Altruism\"], [\"The Sun's out, the daffodils are in bloom and Keir Starmer is the Labour Party's new leader. After nearly 5 yrs of mediocrity the grown ups are back in charge.\"], [\"[Gooner] [Gamer] [Geek] [Father to 3 Amazing Kids] [Fianc\\u00e9 to a Stunning Fianc\\u00e9e]\"], [\"Account been hacked for trolling purposes and all views are your mums\"], [\"\"], [\"Cake-eating, sporadically cycling BBC Monitoring journalist. Interested in social media, data and Southeast Asia. Views my own, retweets are not endorsements\"], [\"Hates winters\"], [\"For my sins...I mostly comment btl in The Guardian as; Oudeis1\\n\\nI am not an happy bunny.\"], [\"Leeds Utd till the world stops going round. Used to play a bit of football. Like to talk a lot in the gym\"], [\"\"], [\"Originally from London. Love fitness and the gym. Run my own business. Intrigued by people and the world. Let\\u2019s change politics and MSM for the better.\"], [\"Love: reading, cycling, food, music - the usual.\"], [\"Hippie on the inside.\"], [\"made by evolution the same as every living thing on this planet. what's wrong with morning, afternoon, please, Thank you, I love you & sorry. I say them DO U ?.\"], [\"Opinions are like arseholes, everyone has got one ,just here for Bantz. want a political discussion? join a debating society. Get laid, get drunk, \\ndon't @ me\"], [\"JACOB ACWORTH IS MY DADS GREAT GREAT GRANDFATHER WHO DESIGNS THE PLANS FOR HMS VICTORY AND LIVED AT THE MASTER SHIPWRIGHTS HOUSE IN DEPTFORD\"], [\"JACOB ACWORTH IS MY DADS GREAT GREAT GRANDFATHER WHO DESIGNS THE PLANS FOR HMS VICTORY AND LIVED AT THE MASTER SHIPWRIGHTS HOUSE IN DEPTFORD\"], [\"An ordinary person watching the world \\ud83d\\ude2f\"], [\"Love F1 & Chelsea FC. Carp Fishing. McLaren Renault. Essex lad. \\ud83c\\udff4\\udb40\\udc67\\udb40\\udc62\\udb40\\udc65\\udb40\\udc6e\\udb40\\udc67\\udb40\\udc7f\\ud83c\\uddec\\ud83c\\udde7\"], [\"\\ud83e\\udd18all-round metal head \\ud83e\\udd18corey taylor is my hero. Dog lover. Red dwarf, drummer and F1 fan.... Neil down and clear the stone of  leaves\"], [\"\"], [\"Likes cycling, guitars, ukes, and music.Bowie.Laurel and Hardy\\n.\\nHates racism in all forms... Hates far left and far right..\\n\\nSUPPORTS the thin blue line\"], [\"Perhaps best described as another grumpy old man\"], [\"animal lover and want the world to be a nicer place...but for now, working hard in the 'corporate world' and enjoying my free time.\"], [\"under reported media, today\\u2019s news is tomorrow\\u2019s chip paper wrappings.\"], [\"\"], [\"\"], [\"We thought Dr Shipman was evil!   No mercy, Boris!\\n\\n#Covid-19 expert.\\n\\nMohammed was a slave owner!\\n\\nCause no harm, cause no loss!\\n\\nWWG1WayWGA\\n\\n#EmilyJones\"], [\"We thought Dr Shipman was evil!   No mercy, Boris!\\n\\n#Covid-19 expert.\\n\\nMohammed was a slave owner!\\n\\nCause no harm, cause no loss!\\n\\nWWG1WayWGA\\n\\n#EmilyJones\"], [\"\\ud83c\\udff4\\udb40\\udc67\\udb40\\udc62\\udb40\\udc77\\udb40\\udc6c\\udb40\\udc73\\udb40\\udc7fIf you have FBPE hash tags on your profile you're an extremist. No white saviours please. Clownworld.COVFEFE.#DefundTheBBC \\ud83c\\uddec\\ud83c\\udde7\"], [\"No way I'm kneeling for anyone!\\nJoin me on Parler @Paspinall50\"], [\"campaigning for body cam release.\\nexposure of race baiting Dawn Butler \\nif you can't take the truth keep walking\\nTory\\nbrexiteer\\nlover of life and dogs.\"], [\"I'm a man who has made mistakes and now I want to help other's so they can have a better life without violence .\"], [\"Followed Watford for 48 years until all this BLM crap. Love family &  country - admire those keeping us safe. Loathe the EU, despise socialism & common purpose.\"], [\"\"], [\"Just because you don\\u2019t agree with me doesn\\u2019t mean you\\u2019re right\"], [\"I'm a Special Constable 4567 London \\ud83c\\udff4\\udb40\\udc67\\udb40\\udc62\\udb40\\udc65\\udb40\\udc6e\\udb40\\udc67\\udb40\\udc7f\\u2764\\ufe0f\"], [\"I'm a Special Constable 4567 London \\ud83c\\udff4\\udb40\\udc67\\udb40\\udc62\\udb40\\udc65\\udb40\\udc6e\\udb40\\udc67\\udb40\\udc7f\\u2764\\ufe0f\"], [\"I'm a Special Constable 4567 London \\ud83c\\udff4\\udb40\\udc67\\udb40\\udc62\\udb40\\udc65\\udb40\\udc6e\\udb40\\udc67\\udb40\\udc7f\\u2764\\ufe0f\"], [\"I'm a Special Constable 4567 London \\ud83c\\udff4\\udb40\\udc67\\udb40\\udc62\\udb40\\udc65\\udb40\\udc6e\\udb40\\udc67\\udb40\\udc7f\\u2764\\ufe0f\"], [\"I'm a Special Constable 4567 London \\ud83c\\udff4\\udb40\\udc67\\udb40\\udc62\\udb40\\udc65\\udb40\\udc6e\\udb40\\udc67\\udb40\\udc7f\\u2764\\ufe0f\"], [\"I'm a Special Constable 4567 London \\ud83c\\udff4\\udb40\\udc67\\udb40\\udc62\\udb40\\udc65\\udb40\\udc6e\\udb40\\udc67\\udb40\\udc7f\\u2764\\ufe0f\"], [\"I'm a Special Constable 4567 London \\ud83c\\udff4\\udb40\\udc67\\udb40\\udc62\\udb40\\udc65\\udb40\\udc6e\\udb40\\udc67\\udb40\\udc7f\\u2764\\ufe0f\"], [\"I'm a Special Constable 4567 London \\ud83c\\udff4\\udb40\\udc67\\udb40\\udc62\\udb40\\udc65\\udb40\\udc6e\\udb40\\udc67\\udb40\\udc7f\\u2764\\ufe0f\"]], \"hoverlabel\": {\"namelength\": 0}, \"hovertemplate\": \"RW_prediction=False<br>Subjectivity=%{x}<br>Polarity=%{y}<br>Bios=%{customdata[0]}\", \"legendgroup\": \"RW_prediction=False\", \"marker\": {\"color\": \"#636efa\", \"symbol\": \"circle\"}, \"mode\": \"markers\", \"name\": \"RW_prediction=False\", \"showlegend\": true, \"type\": \"scatter\", \"x\": [0.65, 0.18888888888888888, 0.57, 0.0, 0.14285714285714285, 0.0, 0.2, 0.525, 0.1111111111111111, 0.0, 0.0, 0.5, 0.0, 0.9, 0.0, 0.0, 0.2833333333333333, 0.9, 0.1, 0.3011904761904762, 1.0, 0.8450000000000001, 0.0, 0.05, 0.475, 0.5, 0.2833333333333333, 0.7, 0.0, 0.0, 0.3, 0.125, 0.0, 0.0, 0.0, 0.0, 0.36, 0.0, 0.4944444444444444, 0.0, 0.9, 0.0, 0.4, 0.4, 0.0, 0.0, 0.0, 0.0, 0.0, 0.5333333333333333, 0.9666666666666667, 0.44733333333333325, 0.6, 0.0, 0.0, 0.0, 0.06666666666666667, 0.0, 0.0, 0.0, 0.0, 0.0, 0.8, 0.7678571428571428, 0.0, 0.35, 0.0, 0.0, 1.0, 0.0, 0.0, 0.5, 0.0, 1.0, 0.48333333333333334, 0.4305555555555556, 0.16666666666666666, 0.225, 0.25, 0.0, 0.0, 0.0, 0.55, 0.49166666666666664, 0.1, 0.0, 0.8333333333333334, 0.0, 0.725, 0.0, 0.5, 0.5238095238095238, 0.625, 0.0, 0.0, 0.325, 1.0, 0.0, 1.0, 0.06666666666666667, 0.47500000000000003, 0.0, 0.75, 0.0, 0.29464285714285715, 0.0, 0.0, 0.75, 0.6, 0.43333333333333335, 0.49404761904761907, 0.0, 1.0, 0.45999999999999996, 0.8, 0.43333333333333335, 0.0, 0.0, 0.3, 0.2833333333333333, 0.0, 0.7462337662337661, 0.6666666666666666, 0.1, 0.5, 0.0, 0.0, 0.0, 0.5, 0.5, 0.0, 0.2888888888888889, 0.55], \"xaxis\": \"x\", \"y\": [0.35, -0.041666666666666664, -0.12000000000000001, 0.0, 0.0, 0.0, -0.1, -0.2, 0.026041666666666668, 0.0, 0.0, -0.04166666666666666, 0.0, 0.2, -0.05, 0.0, -0.19999999999999998, -0.5, 0.3, 0.2232142857142857, -0.625, 0.45499999999999996, 0.0, 0.0, -0.225, 0.5, -0.033333333333333326, -0.35, 0.0, 0.0, 0.25, -0.0125, 0.0, 0.0, 0.0, 0.0, -0.11749999999999998, 0.0, 0.3, 0.0, 0.4, 0.0, -0.05, 0.1, 0.0, 0.0, 0.0, 0.0, 0.0, 0.033333333333333326, -0.23333333333333336, -0.088, 0.625, 0.0, 0.0, 0.0, 0.0, 0.0, 0.0, 0.0, 0.0, -0.05, 0.4, 0.19285714285714284, 0.0, 0.25, 0.0, 0.0, -0.5, 0.0, 0.0, 0.2, 0.0, 0.5, -0.3, 0.05833333333333333, 0.0, -0.225, 0.1, 0.0, 0.0, 0.0, 0.0, -0.15000000000000002, 0.3, 0.0, 0.10833333333333334, 0.0, 0.3, 0.0, 0.5, 0.36071428571428577, -0.2916666666666667, 0.0, 0.0, 0.25, 0.5, 0.0, 0.0, 0.0, 0.2875, 0.0, 0.3, 0.0, -0.09821428571428571, 0.0, 0.0, 0.0875, -0.3875, -0.16666666666666666, 0.3333333333333333, 0.0, -1.0, 0.1, -0.85, -0.26041666666666663, 0.0, 0.0, 0.09, 0.016666666666666666, 0.0, 0.42259740259740264, 0.3, 0.05, 0.4166666666666667, 0.0, 0.0, 0.0, 0.13636363636363635, 0.13636363636363635, 0.0, -0.15555555555555559, 0.3181818181818182], \"yaxis\": \"y\"}, {\"customdata\": [[\"Proud to be British, even more proud to be English with a beautiful touch of Irish. I answer NO DM\\u2019s. The silliest thing you can do is pre judge me.\"], [\"retired from NHS, planned care, mental health, love my Country, voted for Brexit, fed up of political correctness and all the shit that comes with it \\ud83c\\uddec\\ud83c\\udde7....\\ud83d\\udcaf\"], [\"My tweets are my own opinion. Pro-Brexit. I love animals, enjoy respectful debates & a staunch advocate for fairness and justice. Love listening to music\"], [\"love God my family Royal Marines and my K9\"], [\"Ex Security Manager, Immigration Officer, UK Transplant Driver.\"], [\"Unless I'm retweeting all typos my own.\"], [\"Brexiteer and a patriot at heart..... veteran airborne forces... ready to defend queen and country internally and externally  *_* #freespeech #wearethepeople\"], [\"Sarcasm is my middle name, loves Europe but not the EU\"], [\"Anti Islam/Halal/Animal Cruelty. FCKBLM never owned a slave PRO MBGA Britain First #Tommy #Katie #GetKhanOut\\nBlocked by Burnley FC - Penis Moron\"], [\"Love my family, dogs and cat. Not necessarily in that order.\"], [\"Pro Europe, but EU isn't the answer. Islam has no place in civilised countries.\"]], \"hoverlabel\": {\"namelength\": 0}, \"hovertemplate\": \"RW_prediction=True<br>Subjectivity=%{x}<br>Polarity=%{y}<br>Bios=%{customdata[0]}\", \"legendgroup\": \"RW_prediction=True\", \"marker\": {\"color\": \"#EF553B\", \"symbol\": \"circle\"}, \"mode\": \"markers\", \"name\": \"RW_prediction=True\", \"showlegend\": true, \"type\": \"scatter\", \"x\": [0.24444444444444446, 0.2, 0.25, 0.0, 0.5, 0.2642857142857143, 0.0, 0.0, 0.4, 0.5, 0.3680555555555556], \"xaxis\": \"x\", \"y\": [0.0, 0.1, -0.125, 0.0, 0.5, 0.10714285714285714, 0.0, 0.0, -0.2, 0.0, 0.2333333333333333], \"yaxis\": \"y\"}],\n",
              "                        {\"legend\": {\"tracegroupgap\": 0}, \"margin\": {\"t\": 60}, \"template\": {\"data\": {\"bar\": [{\"error_x\": {\"color\": \"#2a3f5f\"}, \"error_y\": {\"color\": \"#2a3f5f\"}, \"marker\": {\"line\": {\"color\": \"#E5ECF6\", \"width\": 0.5}}, \"type\": \"bar\"}], \"barpolar\": [{\"marker\": {\"line\": {\"color\": \"#E5ECF6\", \"width\": 0.5}}, \"type\": \"barpolar\"}], \"carpet\": [{\"aaxis\": {\"endlinecolor\": \"#2a3f5f\", \"gridcolor\": \"white\", \"linecolor\": \"white\", \"minorgridcolor\": \"white\", \"startlinecolor\": \"#2a3f5f\"}, \"baxis\": {\"endlinecolor\": \"#2a3f5f\", \"gridcolor\": \"white\", \"linecolor\": \"white\", \"minorgridcolor\": \"white\", \"startlinecolor\": \"#2a3f5f\"}, \"type\": \"carpet\"}], \"choropleth\": [{\"colorbar\": {\"outlinewidth\": 0, \"ticks\": \"\"}, \"type\": \"choropleth\"}], \"contour\": [{\"colorbar\": {\"outlinewidth\": 0, \"ticks\": \"\"}, \"colorscale\": [[0.0, \"#0d0887\"], [0.1111111111111111, \"#46039f\"], [0.2222222222222222, \"#7201a8\"], [0.3333333333333333, \"#9c179e\"], [0.4444444444444444, \"#bd3786\"], [0.5555555555555556, \"#d8576b\"], [0.6666666666666666, \"#ed7953\"], [0.7777777777777778, \"#fb9f3a\"], [0.8888888888888888, \"#fdca26\"], [1.0, \"#f0f921\"]], \"type\": \"contour\"}], \"contourcarpet\": [{\"colorbar\": {\"outlinewidth\": 0, \"ticks\": \"\"}, \"type\": \"contourcarpet\"}], \"heatmap\": [{\"colorbar\": {\"outlinewidth\": 0, \"ticks\": \"\"}, \"colorscale\": [[0.0, \"#0d0887\"], [0.1111111111111111, \"#46039f\"], [0.2222222222222222, \"#7201a8\"], [0.3333333333333333, \"#9c179e\"], [0.4444444444444444, \"#bd3786\"], [0.5555555555555556, \"#d8576b\"], [0.6666666666666666, \"#ed7953\"], [0.7777777777777778, \"#fb9f3a\"], [0.8888888888888888, \"#fdca26\"], [1.0, \"#f0f921\"]], \"type\": \"heatmap\"}], \"heatmapgl\": [{\"colorbar\": {\"outlinewidth\": 0, \"ticks\": \"\"}, \"colorscale\": [[0.0, \"#0d0887\"], [0.1111111111111111, \"#46039f\"], [0.2222222222222222, \"#7201a8\"], [0.3333333333333333, \"#9c179e\"], [0.4444444444444444, \"#bd3786\"], [0.5555555555555556, \"#d8576b\"], [0.6666666666666666, \"#ed7953\"], [0.7777777777777778, \"#fb9f3a\"], [0.8888888888888888, \"#fdca26\"], [1.0, \"#f0f921\"]], \"type\": \"heatmapgl\"}], \"histogram\": [{\"marker\": {\"colorbar\": {\"outlinewidth\": 0, \"ticks\": \"\"}}, \"type\": \"histogram\"}], \"histogram2d\": [{\"colorbar\": {\"outlinewidth\": 0, \"ticks\": \"\"}, \"colorscale\": [[0.0, \"#0d0887\"], [0.1111111111111111, \"#46039f\"], [0.2222222222222222, \"#7201a8\"], [0.3333333333333333, \"#9c179e\"], [0.4444444444444444, \"#bd3786\"], [0.5555555555555556, \"#d8576b\"], [0.6666666666666666, \"#ed7953\"], [0.7777777777777778, \"#fb9f3a\"], [0.8888888888888888, \"#fdca26\"], [1.0, \"#f0f921\"]], \"type\": \"histogram2d\"}], \"histogram2dcontour\": [{\"colorbar\": {\"outlinewidth\": 0, \"ticks\": \"\"}, \"colorscale\": [[0.0, \"#0d0887\"], [0.1111111111111111, \"#46039f\"], [0.2222222222222222, \"#7201a8\"], [0.3333333333333333, \"#9c179e\"], [0.4444444444444444, \"#bd3786\"], [0.5555555555555556, \"#d8576b\"], [0.6666666666666666, \"#ed7953\"], [0.7777777777777778, \"#fb9f3a\"], [0.8888888888888888, \"#fdca26\"], [1.0, \"#f0f921\"]], \"type\": \"histogram2dcontour\"}], \"mesh3d\": [{\"colorbar\": {\"outlinewidth\": 0, \"ticks\": \"\"}, \"type\": \"mesh3d\"}], \"parcoords\": [{\"line\": {\"colorbar\": {\"outlinewidth\": 0, \"ticks\": \"\"}}, \"type\": \"parcoords\"}], \"pie\": [{\"automargin\": true, \"type\": \"pie\"}], \"scatter\": [{\"marker\": {\"colorbar\": {\"outlinewidth\": 0, \"ticks\": \"\"}}, \"type\": \"scatter\"}], \"scatter3d\": [{\"line\": {\"colorbar\": {\"outlinewidth\": 0, \"ticks\": \"\"}}, \"marker\": {\"colorbar\": {\"outlinewidth\": 0, \"ticks\": \"\"}}, \"type\": \"scatter3d\"}], \"scattercarpet\": [{\"marker\": {\"colorbar\": {\"outlinewidth\": 0, \"ticks\": \"\"}}, \"type\": \"scattercarpet\"}], \"scattergeo\": [{\"marker\": {\"colorbar\": {\"outlinewidth\": 0, \"ticks\": \"\"}}, \"type\": \"scattergeo\"}], \"scattergl\": [{\"marker\": {\"colorbar\": {\"outlinewidth\": 0, \"ticks\": \"\"}}, \"type\": \"scattergl\"}], \"scattermapbox\": [{\"marker\": {\"colorbar\": {\"outlinewidth\": 0, \"ticks\": \"\"}}, \"type\": \"scattermapbox\"}], \"scatterpolar\": [{\"marker\": {\"colorbar\": {\"outlinewidth\": 0, \"ticks\": \"\"}}, \"type\": \"scatterpolar\"}], \"scatterpolargl\": [{\"marker\": {\"colorbar\": {\"outlinewidth\": 0, \"ticks\": \"\"}}, \"type\": \"scatterpolargl\"}], \"scatterternary\": [{\"marker\": {\"colorbar\": {\"outlinewidth\": 0, \"ticks\": \"\"}}, \"type\": \"scatterternary\"}], \"surface\": [{\"colorbar\": {\"outlinewidth\": 0, \"ticks\": \"\"}, \"colorscale\": [[0.0, \"#0d0887\"], [0.1111111111111111, \"#46039f\"], [0.2222222222222222, \"#7201a8\"], [0.3333333333333333, \"#9c179e\"], [0.4444444444444444, \"#bd3786\"], [0.5555555555555556, \"#d8576b\"], [0.6666666666666666, \"#ed7953\"], [0.7777777777777778, \"#fb9f3a\"], [0.8888888888888888, \"#fdca26\"], [1.0, \"#f0f921\"]], \"type\": \"surface\"}], \"table\": [{\"cells\": {\"fill\": {\"color\": \"#EBF0F8\"}, \"line\": {\"color\": \"white\"}}, \"header\": {\"fill\": {\"color\": \"#C8D4E3\"}, \"line\": {\"color\": \"white\"}}, \"type\": \"table\"}]}, \"layout\": {\"annotationdefaults\": {\"arrowcolor\": \"#2a3f5f\", \"arrowhead\": 0, \"arrowwidth\": 1}, \"coloraxis\": {\"colorbar\": {\"outlinewidth\": 0, \"ticks\": \"\"}}, \"colorscale\": {\"diverging\": [[0, \"#8e0152\"], [0.1, \"#c51b7d\"], [0.2, \"#de77ae\"], [0.3, \"#f1b6da\"], [0.4, \"#fde0ef\"], [0.5, \"#f7f7f7\"], [0.6, \"#e6f5d0\"], [0.7, \"#b8e186\"], [0.8, \"#7fbc41\"], [0.9, \"#4d9221\"], [1, \"#276419\"]], \"sequential\": [[0.0, \"#0d0887\"], [0.1111111111111111, \"#46039f\"], [0.2222222222222222, \"#7201a8\"], [0.3333333333333333, \"#9c179e\"], [0.4444444444444444, \"#bd3786\"], [0.5555555555555556, \"#d8576b\"], [0.6666666666666666, \"#ed7953\"], [0.7777777777777778, \"#fb9f3a\"], [0.8888888888888888, \"#fdca26\"], [1.0, \"#f0f921\"]], \"sequentialminus\": [[0.0, \"#0d0887\"], [0.1111111111111111, \"#46039f\"], [0.2222222222222222, \"#7201a8\"], [0.3333333333333333, \"#9c179e\"], [0.4444444444444444, \"#bd3786\"], [0.5555555555555556, \"#d8576b\"], [0.6666666666666666, \"#ed7953\"], [0.7777777777777778, \"#fb9f3a\"], [0.8888888888888888, \"#fdca26\"], [1.0, \"#f0f921\"]]}, \"colorway\": [\"#636efa\", \"#EF553B\", \"#00cc96\", \"#ab63fa\", \"#FFA15A\", \"#19d3f3\", \"#FF6692\", \"#B6E880\", \"#FF97FF\", \"#FECB52\"], \"font\": {\"color\": \"#2a3f5f\"}, \"geo\": {\"bgcolor\": \"white\", \"lakecolor\": \"white\", \"landcolor\": \"#E5ECF6\", \"showlakes\": true, \"showland\": true, \"subunitcolor\": \"white\"}, \"hoverlabel\": {\"align\": \"left\"}, \"hovermode\": \"closest\", \"mapbox\": {\"style\": \"light\"}, \"paper_bgcolor\": \"white\", \"plot_bgcolor\": \"#E5ECF6\", \"polar\": {\"angularaxis\": {\"gridcolor\": \"white\", \"linecolor\": \"white\", \"ticks\": \"\"}, \"bgcolor\": \"#E5ECF6\", \"radialaxis\": {\"gridcolor\": \"white\", \"linecolor\": \"white\", \"ticks\": \"\"}}, \"scene\": {\"xaxis\": {\"backgroundcolor\": \"#E5ECF6\", \"gridcolor\": \"white\", \"gridwidth\": 2, \"linecolor\": \"white\", \"showbackground\": true, \"ticks\": \"\", \"zerolinecolor\": \"white\"}, \"yaxis\": {\"backgroundcolor\": \"#E5ECF6\", \"gridcolor\": \"white\", \"gridwidth\": 2, \"linecolor\": \"white\", \"showbackground\": true, \"ticks\": \"\", \"zerolinecolor\": \"white\"}, \"zaxis\": {\"backgroundcolor\": \"#E5ECF6\", \"gridcolor\": \"white\", \"gridwidth\": 2, \"linecolor\": \"white\", \"showbackground\": true, \"ticks\": \"\", \"zerolinecolor\": \"white\"}}, \"shapedefaults\": {\"line\": {\"color\": \"#2a3f5f\"}}, \"ternary\": {\"aaxis\": {\"gridcolor\": \"white\", \"linecolor\": \"white\", \"ticks\": \"\"}, \"baxis\": {\"gridcolor\": \"white\", \"linecolor\": \"white\", \"ticks\": \"\"}, \"bgcolor\": \"#E5ECF6\", \"caxis\": {\"gridcolor\": \"white\", \"linecolor\": \"white\", \"ticks\": \"\"}}, \"title\": {\"x\": 0.05}, \"xaxis\": {\"automargin\": true, \"gridcolor\": \"white\", \"linecolor\": \"white\", \"ticks\": \"\", \"title\": {\"standoff\": 15}, \"zerolinecolor\": \"white\", \"zerolinewidth\": 2}, \"yaxis\": {\"automargin\": true, \"gridcolor\": \"white\", \"linecolor\": \"white\", \"ticks\": \"\", \"title\": {\"standoff\": 15}, \"zerolinecolor\": \"white\", \"zerolinewidth\": 2}}}, \"xaxis\": {\"anchor\": \"y\", \"domain\": [0.0, 1.0], \"range\": [-0.1, 1.1], \"title\": {\"text\": \"Subjectivity\"}}, \"yaxis\": {\"anchor\": \"x\", \"domain\": [0.0, 1.0], \"range\": [-1.1, 1.1], \"title\": {\"text\": \"Polarity\"}}},\n",
              "                        {\"responsive\": true}\n",
              "                    ).then(function(){\n",
              "                            \n",
              "var gd = document.getElementById('cf62c2ac-43de-4d14-bf0d-0da4735847bb');\n",
              "var x = new MutationObserver(function (mutations, observer) {{\n",
              "        var display = window.getComputedStyle(gd).display;\n",
              "        if (!display || display === 'none') {{\n",
              "            console.log([gd, 'removed!']);\n",
              "            Plotly.purge(gd);\n",
              "            observer.disconnect();\n",
              "        }}\n",
              "}});\n",
              "\n",
              "// Listen for the removal of the full notebook cells\n",
              "var notebookContainer = gd.closest('#notebook-container');\n",
              "if (notebookContainer) {{\n",
              "    x.observe(notebookContainer, {childList: true});\n",
              "}}\n",
              "\n",
              "// Listen for the clearing of the current output cell\n",
              "var outputEl = gd.closest('.output');\n",
              "if (outputEl) {{\n",
              "    x.observe(outputEl, {childList: true});\n",
              "}}\n",
              "\n",
              "                        })\n",
              "                };\n",
              "                \n",
              "            </script>\n",
              "        </div>\n",
              "</body>\n",
              "</html>"
            ]
          },
          "metadata": {
            "tags": []
          }
        }
      ]
    },
    {
      "cell_type": "code",
      "metadata": {
        "id": "PsJPSm0BIMui",
        "colab_type": "code",
        "colab": {}
      },
      "source": [
        ""
      ],
      "execution_count": null,
      "outputs": []
    },
    {
      "cell_type": "code",
      "metadata": {
        "id": "knMWfAyjC5OI",
        "colab_type": "code",
        "colab": {}
      },
      "source": [
        "\n",
        "def run_test(change):\n",
        "  input = str(test_box.value)\n",
        "  results = learn_inf.predict(input)\n",
        "  test_out.clear_output()\n",
        "  with test_out:\n",
        "    print(\"Prediction for \" + input + \" is... \"+results[0])\n",
        "\n",
        "test_button = widgets.Button(description='Test')\n",
        "\n",
        "test_button.on_click(run_test)\n"
      ],
      "execution_count": null,
      "outputs": []
    },
    {
      "cell_type": "code",
      "metadata": {
        "id": "a0bQg8R4CuIB",
        "colab_type": "code",
        "colab": {}
      },
      "source": [
        "test_out = widgets.Output(layout={'border': '1px solid black'})\n",
        "\n",
        "\n",
        "test_box =widgets.Text(\n",
        "    value='Enter text test here',\n",
        "    placeholder='Type something',\n",
        "    description='String:',\n",
        "    disabled=False\n",
        ")"
      ],
      "execution_count": null,
      "outputs": []
    },
    {
      "cell_type": "code",
      "metadata": {
        "id": "dq_Bb1jRHAAV",
        "colab_type": "code",
        "colab": {
          "base_uri": "https://localhost:8080/",
          "height": 34
        },
        "outputId": "d42a3c9c-6cc7-4475-fe0c-da992c4f02c4"
      },
      "source": [
        "learn_inf.predict(\"not woke\")"
      ],
      "execution_count": null,
      "outputs": [
        {
          "output_type": "display_data",
          "data": {
            "text/html": [
              ""
            ],
            "text/plain": [
              "<IPython.core.display.HTML object>"
            ]
          },
          "metadata": {
            "tags": []
          }
        },
        {
          "output_type": "execute_result",
          "data": {
            "text/plain": [
              "('False', tensor(0), tensor([0.8779, 0.1221]))"
            ]
          },
          "metadata": {
            "tags": []
          },
          "execution_count": 380
        }
      ]
    },
    {
      "cell_type": "code",
      "metadata": {
        "id": "UfBQr28MCmfT",
        "colab_type": "code",
        "colab": {
          "base_uri": "https://localhost:8080/",
          "height": 132,
          "referenced_widgets": [
            "3c6b8b838beb4e87a602c525bb122afd",
            "3a95f420d0d2496cb440d239289e5074",
            "242704431dac4c0780d75f596041f7fc",
            "b76c9b7027764ad18cb489c55976f52d",
            "9e4383b103584c9bb848fa8ab6abe2f4",
            "818d319a942443318ac484e3a9236c3a",
            "87125ace641240078e7db90b5b2fea5c",
            "001a5f3e380942c798b21dd3a822acf6",
            "1385ae4e18fc44649f64628c8534089c",
            "fe1080f9e893447199f245caffd94441",
            "2e8de7edeaa54617880f7adace0ffff9",
            "7fef4cecff6e4798b806b3b21ad288b5",
            "4228f5b2473b49b5af2bf8431775960a"
          ]
        },
        "outputId": "89686967-5a95-4408-e900-8141c1113469"
      },
      "source": [
        "VBox([widgets.Label('Output Test'),\n",
        "      test_box, test_button, test_out])"
      ],
      "execution_count": null,
      "outputs": [
        {
          "output_type": "display_data",
          "data": {
            "application/vnd.jupyter.widget-view+json": {
              "model_id": "3c6b8b838beb4e87a602c525bb122afd",
              "version_minor": 0,
              "version_major": 2
            },
            "text/plain": [
              "VBox(children=(Label(value='Output Test'), Text(value='Enter text test here', description='String:', placehold…"
            ]
          },
          "metadata": {
            "tags": []
          }
        },
        {
          "output_type": "display_data",
          "data": {
            "text/html": [
              ""
            ],
            "text/plain": [
              "<IPython.core.display.HTML object>"
            ]
          },
          "metadata": {
            "tags": []
          }
        },
        {
          "output_type": "display_data",
          "data": {
            "text/html": [
              ""
            ],
            "text/plain": [
              "<IPython.core.display.HTML object>"
            ]
          },
          "metadata": {
            "tags": []
          }
        },
        {
          "output_type": "display_data",
          "data": {
            "text/html": [
              ""
            ],
            "text/plain": [
              "<IPython.core.display.HTML object>"
            ]
          },
          "metadata": {
            "tags": []
          }
        },
        {
          "output_type": "display_data",
          "data": {
            "text/html": [
              ""
            ],
            "text/plain": [
              "<IPython.core.display.HTML object>"
            ]
          },
          "metadata": {
            "tags": []
          }
        },
        {
          "output_type": "display_data",
          "data": {
            "text/html": [
              ""
            ],
            "text/plain": [
              "<IPython.core.display.HTML object>"
            ]
          },
          "metadata": {
            "tags": []
          }
        },
        {
          "output_type": "display_data",
          "data": {
            "text/html": [
              ""
            ],
            "text/plain": [
              "<IPython.core.display.HTML object>"
            ]
          },
          "metadata": {
            "tags": []
          }
        },
        {
          "output_type": "display_data",
          "data": {
            "text/html": [
              ""
            ],
            "text/plain": [
              "<IPython.core.display.HTML object>"
            ]
          },
          "metadata": {
            "tags": []
          }
        }
      ]
    },
    {
      "cell_type": "code",
      "metadata": {
        "id": "lL47Jj711eDc",
        "colab_type": "code",
        "colab": {
          "base_uri": "https://localhost:8080/",
          "height": 17
        },
        "outputId": "415478d2-931d-49a4-8bdc-f5850750770e"
      },
      "source": [
        "\n",
        "results = run_process(\"@metpoliceuk\",\"2020-08-26\", \"2020-08-27\")"
      ],
      "execution_count": null,
      "outputs": [
        {
          "output_type": "display_data",
          "data": {
            "text/html": [
              ""
            ],
            "text/plain": [
              "<IPython.core.display.HTML object>"
            ]
          },
          "metadata": {
            "tags": []
          }
        },
        {
          "output_type": "display_data",
          "data": {
            "text/html": [
              ""
            ],
            "text/plain": [
              "<IPython.core.display.HTML object>"
            ]
          },
          "metadata": {
            "tags": []
          }
        },
        {
          "output_type": "display_data",
          "data": {
            "text/html": [
              ""
            ],
            "text/plain": [
              "<IPython.core.display.HTML object>"
            ]
          },
          "metadata": {
            "tags": []
          }
        },
        {
          "output_type": "display_data",
          "data": {
            "text/html": [
              ""
            ],
            "text/plain": [
              "<IPython.core.display.HTML object>"
            ]
          },
          "metadata": {
            "tags": []
          }
        },
        {
          "output_type": "display_data",
          "data": {
            "text/html": [
              ""
            ],
            "text/plain": [
              "<IPython.core.display.HTML object>"
            ]
          },
          "metadata": {
            "tags": []
          }
        },
        {
          "output_type": "display_data",
          "data": {
            "text/html": [
              ""
            ],
            "text/plain": [
              "<IPython.core.display.HTML object>"
            ]
          },
          "metadata": {
            "tags": []
          }
        },
        {
          "output_type": "display_data",
          "data": {
            "text/html": [
              ""
            ],
            "text/plain": [
              "<IPython.core.display.HTML object>"
            ]
          },
          "metadata": {
            "tags": []
          }
        },
        {
          "output_type": "display_data",
          "data": {
            "text/html": [
              ""
            ],
            "text/plain": [
              "<IPython.core.display.HTML object>"
            ]
          },
          "metadata": {
            "tags": []
          }
        },
        {
          "output_type": "display_data",
          "data": {
            "text/html": [
              ""
            ],
            "text/plain": [
              "<IPython.core.display.HTML object>"
            ]
          },
          "metadata": {
            "tags": []
          }
        },
        {
          "output_type": "display_data",
          "data": {
            "text/html": [
              ""
            ],
            "text/plain": [
              "<IPython.core.display.HTML object>"
            ]
          },
          "metadata": {
            "tags": []
          }
        },
        {
          "output_type": "display_data",
          "data": {
            "text/html": [
              ""
            ],
            "text/plain": [
              "<IPython.core.display.HTML object>"
            ]
          },
          "metadata": {
            "tags": []
          }
        },
        {
          "output_type": "display_data",
          "data": {
            "text/html": [
              ""
            ],
            "text/plain": [
              "<IPython.core.display.HTML object>"
            ]
          },
          "metadata": {
            "tags": []
          }
        },
        {
          "output_type": "display_data",
          "data": {
            "text/html": [
              ""
            ],
            "text/plain": [
              "<IPython.core.display.HTML object>"
            ]
          },
          "metadata": {
            "tags": []
          }
        },
        {
          "output_type": "display_data",
          "data": {
            "text/html": [
              ""
            ],
            "text/plain": [
              "<IPython.core.display.HTML object>"
            ]
          },
          "metadata": {
            "tags": []
          }
        },
        {
          "output_type": "display_data",
          "data": {
            "text/html": [
              ""
            ],
            "text/plain": [
              "<IPython.core.display.HTML object>"
            ]
          },
          "metadata": {
            "tags": []
          }
        },
        {
          "output_type": "display_data",
          "data": {
            "text/html": [
              ""
            ],
            "text/plain": [
              "<IPython.core.display.HTML object>"
            ]
          },
          "metadata": {
            "tags": []
          }
        },
        {
          "output_type": "display_data",
          "data": {
            "text/html": [
              ""
            ],
            "text/plain": [
              "<IPython.core.display.HTML object>"
            ]
          },
          "metadata": {
            "tags": []
          }
        },
        {
          "output_type": "display_data",
          "data": {
            "text/html": [
              ""
            ],
            "text/plain": [
              "<IPython.core.display.HTML object>"
            ]
          },
          "metadata": {
            "tags": []
          }
        },
        {
          "output_type": "display_data",
          "data": {
            "text/html": [
              ""
            ],
            "text/plain": [
              "<IPython.core.display.HTML object>"
            ]
          },
          "metadata": {
            "tags": []
          }
        },
        {
          "output_type": "display_data",
          "data": {
            "text/html": [
              ""
            ],
            "text/plain": [
              "<IPython.core.display.HTML object>"
            ]
          },
          "metadata": {
            "tags": []
          }
        },
        {
          "output_type": "display_data",
          "data": {
            "text/html": [
              ""
            ],
            "text/plain": [
              "<IPython.core.display.HTML object>"
            ]
          },
          "metadata": {
            "tags": []
          }
        },
        {
          "output_type": "display_data",
          "data": {
            "text/html": [
              ""
            ],
            "text/plain": [
              "<IPython.core.display.HTML object>"
            ]
          },
          "metadata": {
            "tags": []
          }
        },
        {
          "output_type": "display_data",
          "data": {
            "text/html": [
              ""
            ],
            "text/plain": [
              "<IPython.core.display.HTML object>"
            ]
          },
          "metadata": {
            "tags": []
          }
        },
        {
          "output_type": "display_data",
          "data": {
            "text/html": [
              ""
            ],
            "text/plain": [
              "<IPython.core.display.HTML object>"
            ]
          },
          "metadata": {
            "tags": []
          }
        },
        {
          "output_type": "display_data",
          "data": {
            "text/html": [
              ""
            ],
            "text/plain": [
              "<IPython.core.display.HTML object>"
            ]
          },
          "metadata": {
            "tags": []
          }
        },
        {
          "output_type": "display_data",
          "data": {
            "text/html": [
              ""
            ],
            "text/plain": [
              "<IPython.core.display.HTML object>"
            ]
          },
          "metadata": {
            "tags": []
          }
        },
        {
          "output_type": "display_data",
          "data": {
            "text/html": [
              ""
            ],
            "text/plain": [
              "<IPython.core.display.HTML object>"
            ]
          },
          "metadata": {
            "tags": []
          }
        },
        {
          "output_type": "display_data",
          "data": {
            "text/html": [
              ""
            ],
            "text/plain": [
              "<IPython.core.display.HTML object>"
            ]
          },
          "metadata": {
            "tags": []
          }
        },
        {
          "output_type": "display_data",
          "data": {
            "text/html": [
              ""
            ],
            "text/plain": [
              "<IPython.core.display.HTML object>"
            ]
          },
          "metadata": {
            "tags": []
          }
        },
        {
          "output_type": "display_data",
          "data": {
            "text/html": [
              ""
            ],
            "text/plain": [
              "<IPython.core.display.HTML object>"
            ]
          },
          "metadata": {
            "tags": []
          }
        },
        {
          "output_type": "display_data",
          "data": {
            "text/html": [
              ""
            ],
            "text/plain": [
              "<IPython.core.display.HTML object>"
            ]
          },
          "metadata": {
            "tags": []
          }
        },
        {
          "output_type": "display_data",
          "data": {
            "text/html": [
              ""
            ],
            "text/plain": [
              "<IPython.core.display.HTML object>"
            ]
          },
          "metadata": {
            "tags": []
          }
        },
        {
          "output_type": "display_data",
          "data": {
            "text/html": [
              ""
            ],
            "text/plain": [
              "<IPython.core.display.HTML object>"
            ]
          },
          "metadata": {
            "tags": []
          }
        },
        {
          "output_type": "display_data",
          "data": {
            "text/html": [
              ""
            ],
            "text/plain": [
              "<IPython.core.display.HTML object>"
            ]
          },
          "metadata": {
            "tags": []
          }
        },
        {
          "output_type": "display_data",
          "data": {
            "text/html": [
              ""
            ],
            "text/plain": [
              "<IPython.core.display.HTML object>"
            ]
          },
          "metadata": {
            "tags": []
          }
        },
        {
          "output_type": "display_data",
          "data": {
            "text/html": [
              ""
            ],
            "text/plain": [
              "<IPython.core.display.HTML object>"
            ]
          },
          "metadata": {
            "tags": []
          }
        },
        {
          "output_type": "display_data",
          "data": {
            "text/html": [
              ""
            ],
            "text/plain": [
              "<IPython.core.display.HTML object>"
            ]
          },
          "metadata": {
            "tags": []
          }
        },
        {
          "output_type": "display_data",
          "data": {
            "text/html": [
              ""
            ],
            "text/plain": [
              "<IPython.core.display.HTML object>"
            ]
          },
          "metadata": {
            "tags": []
          }
        },
        {
          "output_type": "display_data",
          "data": {
            "text/html": [
              ""
            ],
            "text/plain": [
              "<IPython.core.display.HTML object>"
            ]
          },
          "metadata": {
            "tags": []
          }
        },
        {
          "output_type": "display_data",
          "data": {
            "text/html": [
              ""
            ],
            "text/plain": [
              "<IPython.core.display.HTML object>"
            ]
          },
          "metadata": {
            "tags": []
          }
        },
        {
          "output_type": "display_data",
          "data": {
            "text/html": [
              ""
            ],
            "text/plain": [
              "<IPython.core.display.HTML object>"
            ]
          },
          "metadata": {
            "tags": []
          }
        },
        {
          "output_type": "display_data",
          "data": {
            "text/html": [
              ""
            ],
            "text/plain": [
              "<IPython.core.display.HTML object>"
            ]
          },
          "metadata": {
            "tags": []
          }
        },
        {
          "output_type": "display_data",
          "data": {
            "text/html": [
              ""
            ],
            "text/plain": [
              "<IPython.core.display.HTML object>"
            ]
          },
          "metadata": {
            "tags": []
          }
        },
        {
          "output_type": "display_data",
          "data": {
            "text/html": [
              ""
            ],
            "text/plain": [
              "<IPython.core.display.HTML object>"
            ]
          },
          "metadata": {
            "tags": []
          }
        },
        {
          "output_type": "display_data",
          "data": {
            "text/html": [
              ""
            ],
            "text/plain": [
              "<IPython.core.display.HTML object>"
            ]
          },
          "metadata": {
            "tags": []
          }
        },
        {
          "output_type": "display_data",
          "data": {
            "text/html": [
              ""
            ],
            "text/plain": [
              "<IPython.core.display.HTML object>"
            ]
          },
          "metadata": {
            "tags": []
          }
        },
        {
          "output_type": "display_data",
          "data": {
            "text/html": [
              ""
            ],
            "text/plain": [
              "<IPython.core.display.HTML object>"
            ]
          },
          "metadata": {
            "tags": []
          }
        },
        {
          "output_type": "display_data",
          "data": {
            "text/html": [
              ""
            ],
            "text/plain": [
              "<IPython.core.display.HTML object>"
            ]
          },
          "metadata": {
            "tags": []
          }
        },
        {
          "output_type": "display_data",
          "data": {
            "text/html": [
              ""
            ],
            "text/plain": [
              "<IPython.core.display.HTML object>"
            ]
          },
          "metadata": {
            "tags": []
          }
        },
        {
          "output_type": "display_data",
          "data": {
            "text/html": [
              ""
            ],
            "text/plain": [
              "<IPython.core.display.HTML object>"
            ]
          },
          "metadata": {
            "tags": []
          }
        },
        {
          "output_type": "display_data",
          "data": {
            "text/html": [
              ""
            ],
            "text/plain": [
              "<IPython.core.display.HTML object>"
            ]
          },
          "metadata": {
            "tags": []
          }
        },
        {
          "output_type": "display_data",
          "data": {
            "text/html": [
              ""
            ],
            "text/plain": [
              "<IPython.core.display.HTML object>"
            ]
          },
          "metadata": {
            "tags": []
          }
        },
        {
          "output_type": "display_data",
          "data": {
            "text/html": [
              ""
            ],
            "text/plain": [
              "<IPython.core.display.HTML object>"
            ]
          },
          "metadata": {
            "tags": []
          }
        },
        {
          "output_type": "display_data",
          "data": {
            "text/html": [
              ""
            ],
            "text/plain": [
              "<IPython.core.display.HTML object>"
            ]
          },
          "metadata": {
            "tags": []
          }
        },
        {
          "output_type": "display_data",
          "data": {
            "text/html": [
              ""
            ],
            "text/plain": [
              "<IPython.core.display.HTML object>"
            ]
          },
          "metadata": {
            "tags": []
          }
        },
        {
          "output_type": "display_data",
          "data": {
            "text/html": [
              ""
            ],
            "text/plain": [
              "<IPython.core.display.HTML object>"
            ]
          },
          "metadata": {
            "tags": []
          }
        },
        {
          "output_type": "display_data",
          "data": {
            "text/html": [
              ""
            ],
            "text/plain": [
              "<IPython.core.display.HTML object>"
            ]
          },
          "metadata": {
            "tags": []
          }
        },
        {
          "output_type": "display_data",
          "data": {
            "text/html": [
              ""
            ],
            "text/plain": [
              "<IPython.core.display.HTML object>"
            ]
          },
          "metadata": {
            "tags": []
          }
        },
        {
          "output_type": "display_data",
          "data": {
            "text/html": [
              ""
            ],
            "text/plain": [
              "<IPython.core.display.HTML object>"
            ]
          },
          "metadata": {
            "tags": []
          }
        },
        {
          "output_type": "display_data",
          "data": {
            "text/html": [
              ""
            ],
            "text/plain": [
              "<IPython.core.display.HTML object>"
            ]
          },
          "metadata": {
            "tags": []
          }
        },
        {
          "output_type": "display_data",
          "data": {
            "text/html": [
              ""
            ],
            "text/plain": [
              "<IPython.core.display.HTML object>"
            ]
          },
          "metadata": {
            "tags": []
          }
        },
        {
          "output_type": "display_data",
          "data": {
            "text/html": [
              ""
            ],
            "text/plain": [
              "<IPython.core.display.HTML object>"
            ]
          },
          "metadata": {
            "tags": []
          }
        },
        {
          "output_type": "display_data",
          "data": {
            "text/html": [
              ""
            ],
            "text/plain": [
              "<IPython.core.display.HTML object>"
            ]
          },
          "metadata": {
            "tags": []
          }
        },
        {
          "output_type": "display_data",
          "data": {
            "text/html": [
              ""
            ],
            "text/plain": [
              "<IPython.core.display.HTML object>"
            ]
          },
          "metadata": {
            "tags": []
          }
        },
        {
          "output_type": "display_data",
          "data": {
            "text/html": [
              ""
            ],
            "text/plain": [
              "<IPython.core.display.HTML object>"
            ]
          },
          "metadata": {
            "tags": []
          }
        },
        {
          "output_type": "display_data",
          "data": {
            "text/html": [
              ""
            ],
            "text/plain": [
              "<IPython.core.display.HTML object>"
            ]
          },
          "metadata": {
            "tags": []
          }
        },
        {
          "output_type": "display_data",
          "data": {
            "text/html": [
              ""
            ],
            "text/plain": [
              "<IPython.core.display.HTML object>"
            ]
          },
          "metadata": {
            "tags": []
          }
        },
        {
          "output_type": "display_data",
          "data": {
            "text/html": [
              ""
            ],
            "text/plain": [
              "<IPython.core.display.HTML object>"
            ]
          },
          "metadata": {
            "tags": []
          }
        },
        {
          "output_type": "display_data",
          "data": {
            "text/html": [
              ""
            ],
            "text/plain": [
              "<IPython.core.display.HTML object>"
            ]
          },
          "metadata": {
            "tags": []
          }
        },
        {
          "output_type": "display_data",
          "data": {
            "text/html": [
              ""
            ],
            "text/plain": [
              "<IPython.core.display.HTML object>"
            ]
          },
          "metadata": {
            "tags": []
          }
        },
        {
          "output_type": "display_data",
          "data": {
            "text/html": [
              ""
            ],
            "text/plain": [
              "<IPython.core.display.HTML object>"
            ]
          },
          "metadata": {
            "tags": []
          }
        },
        {
          "output_type": "display_data",
          "data": {
            "text/html": [
              ""
            ],
            "text/plain": [
              "<IPython.core.display.HTML object>"
            ]
          },
          "metadata": {
            "tags": []
          }
        },
        {
          "output_type": "display_data",
          "data": {
            "text/html": [
              ""
            ],
            "text/plain": [
              "<IPython.core.display.HTML object>"
            ]
          },
          "metadata": {
            "tags": []
          }
        },
        {
          "output_type": "display_data",
          "data": {
            "text/html": [
              ""
            ],
            "text/plain": [
              "<IPython.core.display.HTML object>"
            ]
          },
          "metadata": {
            "tags": []
          }
        },
        {
          "output_type": "display_data",
          "data": {
            "text/html": [
              ""
            ],
            "text/plain": [
              "<IPython.core.display.HTML object>"
            ]
          },
          "metadata": {
            "tags": []
          }
        },
        {
          "output_type": "display_data",
          "data": {
            "text/html": [
              ""
            ],
            "text/plain": [
              "<IPython.core.display.HTML object>"
            ]
          },
          "metadata": {
            "tags": []
          }
        },
        {
          "output_type": "display_data",
          "data": {
            "text/html": [
              ""
            ],
            "text/plain": [
              "<IPython.core.display.HTML object>"
            ]
          },
          "metadata": {
            "tags": []
          }
        },
        {
          "output_type": "display_data",
          "data": {
            "text/html": [
              ""
            ],
            "text/plain": [
              "<IPython.core.display.HTML object>"
            ]
          },
          "metadata": {
            "tags": []
          }
        },
        {
          "output_type": "display_data",
          "data": {
            "text/html": [
              ""
            ],
            "text/plain": [
              "<IPython.core.display.HTML object>"
            ]
          },
          "metadata": {
            "tags": []
          }
        },
        {
          "output_type": "display_data",
          "data": {
            "text/html": [
              ""
            ],
            "text/plain": [
              "<IPython.core.display.HTML object>"
            ]
          },
          "metadata": {
            "tags": []
          }
        },
        {
          "output_type": "display_data",
          "data": {
            "text/html": [
              ""
            ],
            "text/plain": [
              "<IPython.core.display.HTML object>"
            ]
          },
          "metadata": {
            "tags": []
          }
        },
        {
          "output_type": "display_data",
          "data": {
            "text/html": [
              ""
            ],
            "text/plain": [
              "<IPython.core.display.HTML object>"
            ]
          },
          "metadata": {
            "tags": []
          }
        },
        {
          "output_type": "display_data",
          "data": {
            "text/html": [
              ""
            ],
            "text/plain": [
              "<IPython.core.display.HTML object>"
            ]
          },
          "metadata": {
            "tags": []
          }
        },
        {
          "output_type": "display_data",
          "data": {
            "text/html": [
              ""
            ],
            "text/plain": [
              "<IPython.core.display.HTML object>"
            ]
          },
          "metadata": {
            "tags": []
          }
        },
        {
          "output_type": "display_data",
          "data": {
            "text/html": [
              ""
            ],
            "text/plain": [
              "<IPython.core.display.HTML object>"
            ]
          },
          "metadata": {
            "tags": []
          }
        },
        {
          "output_type": "display_data",
          "data": {
            "text/html": [
              ""
            ],
            "text/plain": [
              "<IPython.core.display.HTML object>"
            ]
          },
          "metadata": {
            "tags": []
          }
        },
        {
          "output_type": "display_data",
          "data": {
            "text/html": [
              ""
            ],
            "text/plain": [
              "<IPython.core.display.HTML object>"
            ]
          },
          "metadata": {
            "tags": []
          }
        },
        {
          "output_type": "display_data",
          "data": {
            "text/html": [
              ""
            ],
            "text/plain": [
              "<IPython.core.display.HTML object>"
            ]
          },
          "metadata": {
            "tags": []
          }
        },
        {
          "output_type": "display_data",
          "data": {
            "text/html": [
              ""
            ],
            "text/plain": [
              "<IPython.core.display.HTML object>"
            ]
          },
          "metadata": {
            "tags": []
          }
        },
        {
          "output_type": "display_data",
          "data": {
            "text/html": [
              ""
            ],
            "text/plain": [
              "<IPython.core.display.HTML object>"
            ]
          },
          "metadata": {
            "tags": []
          }
        },
        {
          "output_type": "display_data",
          "data": {
            "text/html": [
              ""
            ],
            "text/plain": [
              "<IPython.core.display.HTML object>"
            ]
          },
          "metadata": {
            "tags": []
          }
        },
        {
          "output_type": "display_data",
          "data": {
            "text/html": [
              ""
            ],
            "text/plain": [
              "<IPython.core.display.HTML object>"
            ]
          },
          "metadata": {
            "tags": []
          }
        },
        {
          "output_type": "display_data",
          "data": {
            "text/html": [
              ""
            ],
            "text/plain": [
              "<IPython.core.display.HTML object>"
            ]
          },
          "metadata": {
            "tags": []
          }
        },
        {
          "output_type": "display_data",
          "data": {
            "text/html": [
              ""
            ],
            "text/plain": [
              "<IPython.core.display.HTML object>"
            ]
          },
          "metadata": {
            "tags": []
          }
        },
        {
          "output_type": "display_data",
          "data": {
            "text/html": [
              ""
            ],
            "text/plain": [
              "<IPython.core.display.HTML object>"
            ]
          },
          "metadata": {
            "tags": []
          }
        },
        {
          "output_type": "display_data",
          "data": {
            "text/html": [
              ""
            ],
            "text/plain": [
              "<IPython.core.display.HTML object>"
            ]
          },
          "metadata": {
            "tags": []
          }
        },
        {
          "output_type": "display_data",
          "data": {
            "text/html": [
              ""
            ],
            "text/plain": [
              "<IPython.core.display.HTML object>"
            ]
          },
          "metadata": {
            "tags": []
          }
        },
        {
          "output_type": "display_data",
          "data": {
            "text/html": [
              ""
            ],
            "text/plain": [
              "<IPython.core.display.HTML object>"
            ]
          },
          "metadata": {
            "tags": []
          }
        },
        {
          "output_type": "display_data",
          "data": {
            "text/html": [
              ""
            ],
            "text/plain": [
              "<IPython.core.display.HTML object>"
            ]
          },
          "metadata": {
            "tags": []
          }
        },
        {
          "output_type": "display_data",
          "data": {
            "text/html": [
              ""
            ],
            "text/plain": [
              "<IPython.core.display.HTML object>"
            ]
          },
          "metadata": {
            "tags": []
          }
        },
        {
          "output_type": "display_data",
          "data": {
            "text/html": [
              ""
            ],
            "text/plain": [
              "<IPython.core.display.HTML object>"
            ]
          },
          "metadata": {
            "tags": []
          }
        },
        {
          "output_type": "display_data",
          "data": {
            "text/html": [
              ""
            ],
            "text/plain": [
              "<IPython.core.display.HTML object>"
            ]
          },
          "metadata": {
            "tags": []
          }
        },
        {
          "output_type": "display_data",
          "data": {
            "text/html": [
              ""
            ],
            "text/plain": [
              "<IPython.core.display.HTML object>"
            ]
          },
          "metadata": {
            "tags": []
          }
        },
        {
          "output_type": "display_data",
          "data": {
            "text/html": [
              ""
            ],
            "text/plain": [
              "<IPython.core.display.HTML object>"
            ]
          },
          "metadata": {
            "tags": []
          }
        },
        {
          "output_type": "display_data",
          "data": {
            "text/html": [
              ""
            ],
            "text/plain": [
              "<IPython.core.display.HTML object>"
            ]
          },
          "metadata": {
            "tags": []
          }
        },
        {
          "output_type": "display_data",
          "data": {
            "text/html": [
              ""
            ],
            "text/plain": [
              "<IPython.core.display.HTML object>"
            ]
          },
          "metadata": {
            "tags": []
          }
        },
        {
          "output_type": "display_data",
          "data": {
            "text/html": [
              ""
            ],
            "text/plain": [
              "<IPython.core.display.HTML object>"
            ]
          },
          "metadata": {
            "tags": []
          }
        },
        {
          "output_type": "display_data",
          "data": {
            "text/html": [
              ""
            ],
            "text/plain": [
              "<IPython.core.display.HTML object>"
            ]
          },
          "metadata": {
            "tags": []
          }
        },
        {
          "output_type": "display_data",
          "data": {
            "text/html": [
              ""
            ],
            "text/plain": [
              "<IPython.core.display.HTML object>"
            ]
          },
          "metadata": {
            "tags": []
          }
        },
        {
          "output_type": "display_data",
          "data": {
            "text/html": [
              ""
            ],
            "text/plain": [
              "<IPython.core.display.HTML object>"
            ]
          },
          "metadata": {
            "tags": []
          }
        },
        {
          "output_type": "display_data",
          "data": {
            "text/html": [
              ""
            ],
            "text/plain": [
              "<IPython.core.display.HTML object>"
            ]
          },
          "metadata": {
            "tags": []
          }
        },
        {
          "output_type": "display_data",
          "data": {
            "text/html": [
              ""
            ],
            "text/plain": [
              "<IPython.core.display.HTML object>"
            ]
          },
          "metadata": {
            "tags": []
          }
        },
        {
          "output_type": "display_data",
          "data": {
            "text/html": [
              ""
            ],
            "text/plain": [
              "<IPython.core.display.HTML object>"
            ]
          },
          "metadata": {
            "tags": []
          }
        },
        {
          "output_type": "display_data",
          "data": {
            "text/html": [
              ""
            ],
            "text/plain": [
              "<IPython.core.display.HTML object>"
            ]
          },
          "metadata": {
            "tags": []
          }
        },
        {
          "output_type": "display_data",
          "data": {
            "text/html": [
              ""
            ],
            "text/plain": [
              "<IPython.core.display.HTML object>"
            ]
          },
          "metadata": {
            "tags": []
          }
        },
        {
          "output_type": "display_data",
          "data": {
            "text/html": [
              ""
            ],
            "text/plain": [
              "<IPython.core.display.HTML object>"
            ]
          },
          "metadata": {
            "tags": []
          }
        },
        {
          "output_type": "display_data",
          "data": {
            "text/html": [
              ""
            ],
            "text/plain": [
              "<IPython.core.display.HTML object>"
            ]
          },
          "metadata": {
            "tags": []
          }
        },
        {
          "output_type": "display_data",
          "data": {
            "text/html": [
              ""
            ],
            "text/plain": [
              "<IPython.core.display.HTML object>"
            ]
          },
          "metadata": {
            "tags": []
          }
        },
        {
          "output_type": "display_data",
          "data": {
            "text/html": [
              ""
            ],
            "text/plain": [
              "<IPython.core.display.HTML object>"
            ]
          },
          "metadata": {
            "tags": []
          }
        },
        {
          "output_type": "display_data",
          "data": {
            "text/html": [
              ""
            ],
            "text/plain": [
              "<IPython.core.display.HTML object>"
            ]
          },
          "metadata": {
            "tags": []
          }
        },
        {
          "output_type": "display_data",
          "data": {
            "text/html": [
              ""
            ],
            "text/plain": [
              "<IPython.core.display.HTML object>"
            ]
          },
          "metadata": {
            "tags": []
          }
        },
        {
          "output_type": "display_data",
          "data": {
            "text/html": [
              ""
            ],
            "text/plain": [
              "<IPython.core.display.HTML object>"
            ]
          },
          "metadata": {
            "tags": []
          }
        },
        {
          "output_type": "display_data",
          "data": {
            "text/html": [
              ""
            ],
            "text/plain": [
              "<IPython.core.display.HTML object>"
            ]
          },
          "metadata": {
            "tags": []
          }
        },
        {
          "output_type": "display_data",
          "data": {
            "text/html": [
              ""
            ],
            "text/plain": [
              "<IPython.core.display.HTML object>"
            ]
          },
          "metadata": {
            "tags": []
          }
        },
        {
          "output_type": "display_data",
          "data": {
            "text/html": [
              ""
            ],
            "text/plain": [
              "<IPython.core.display.HTML object>"
            ]
          },
          "metadata": {
            "tags": []
          }
        },
        {
          "output_type": "display_data",
          "data": {
            "text/html": [
              ""
            ],
            "text/plain": [
              "<IPython.core.display.HTML object>"
            ]
          },
          "metadata": {
            "tags": []
          }
        },
        {
          "output_type": "display_data",
          "data": {
            "text/html": [
              ""
            ],
            "text/plain": [
              "<IPython.core.display.HTML object>"
            ]
          },
          "metadata": {
            "tags": []
          }
        },
        {
          "output_type": "display_data",
          "data": {
            "text/html": [
              ""
            ],
            "text/plain": [
              "<IPython.core.display.HTML object>"
            ]
          },
          "metadata": {
            "tags": []
          }
        },
        {
          "output_type": "display_data",
          "data": {
            "text/html": [
              ""
            ],
            "text/plain": [
              "<IPython.core.display.HTML object>"
            ]
          },
          "metadata": {
            "tags": []
          }
        },
        {
          "output_type": "display_data",
          "data": {
            "text/html": [
              ""
            ],
            "text/plain": [
              "<IPython.core.display.HTML object>"
            ]
          },
          "metadata": {
            "tags": []
          }
        },
        {
          "output_type": "display_data",
          "data": {
            "text/html": [
              ""
            ],
            "text/plain": [
              "<IPython.core.display.HTML object>"
            ]
          },
          "metadata": {
            "tags": []
          }
        },
        {
          "output_type": "display_data",
          "data": {
            "text/html": [
              ""
            ],
            "text/plain": [
              "<IPython.core.display.HTML object>"
            ]
          },
          "metadata": {
            "tags": []
          }
        },
        {
          "output_type": "display_data",
          "data": {
            "text/html": [
              ""
            ],
            "text/plain": [
              "<IPython.core.display.HTML object>"
            ]
          },
          "metadata": {
            "tags": []
          }
        },
        {
          "output_type": "display_data",
          "data": {
            "text/html": [
              ""
            ],
            "text/plain": [
              "<IPython.core.display.HTML object>"
            ]
          },
          "metadata": {
            "tags": []
          }
        },
        {
          "output_type": "display_data",
          "data": {
            "text/html": [
              ""
            ],
            "text/plain": [
              "<IPython.core.display.HTML object>"
            ]
          },
          "metadata": {
            "tags": []
          }
        },
        {
          "output_type": "display_data",
          "data": {
            "text/html": [
              ""
            ],
            "text/plain": [
              "<IPython.core.display.HTML object>"
            ]
          },
          "metadata": {
            "tags": []
          }
        },
        {
          "output_type": "display_data",
          "data": {
            "text/html": [
              ""
            ],
            "text/plain": [
              "<IPython.core.display.HTML object>"
            ]
          },
          "metadata": {
            "tags": []
          }
        },
        {
          "output_type": "display_data",
          "data": {
            "text/html": [
              ""
            ],
            "text/plain": [
              "<IPython.core.display.HTML object>"
            ]
          },
          "metadata": {
            "tags": []
          }
        }
      ]
    },
    {
      "cell_type": "code",
      "metadata": {
        "id": "z1b9YZru_j0O",
        "colab_type": "code",
        "colab": {
          "base_uri": "https://localhost:8080/",
          "height": 34
        },
        "outputId": "3e72807b-534a-4347-fb67-c3fea5190d96"
      },
      "source": [
        "round(results[0][\"count\"].iloc[1] / results[0][\"count\"].iloc[0],3) * 100"
      ],
      "execution_count": null,
      "outputs": [
        {
          "output_type": "execute_result",
          "data": {
            "text/plain": [
              "14.7"
            ]
          },
          "metadata": {
            "tags": []
          },
          "execution_count": 486
        }
      ]
    },
    {
      "cell_type": "code",
      "metadata": {
        "id": "0V6z-X5v9fAN",
        "colab_type": "code",
        "colab": {}
      },
      "source": [
        "date_from = \"2020-08-27\"\n",
        "date_to = \"2020-08-28\"\n",
        "user_name=\"@metpoliceuk\"\n",
        "q='to:{}'.format(user_name)\n",
        "\n",
        "tweetCriteria = got.manager.TweetCriteria().setQuerySearch(q)\\\n",
        "                                          .setSince(date_from)\\\n",
        "                                          .setUntil(date_to)\n",
        "tweets = got.manager.TweetManager.getTweets(tweetCriteria)"
      ],
      "execution_count": null,
      "outputs": []
    },
    {
      "cell_type": "code",
      "metadata": {
        "id": "fbJXd-YX-niv",
        "colab_type": "code",
        "colab": {
          "base_uri": "https://localhost:8080/",
          "height": 1000
        },
        "outputId": "764f544b-902c-4eb8-f9a1-ce0e8c55ae55"
      },
      "source": [
        "tweets"
      ],
      "execution_count": null,
      "outputs": [
        {
          "output_type": "execute_result",
          "data": {
            "text/plain": [
              "[<GetOldTweets3.models.Tweet.Tweet at 0x7f8acb226eb8>,\n",
              " <GetOldTweets3.models.Tweet.Tweet at 0x7f8acb226f98>,\n",
              " <GetOldTweets3.models.Tweet.Tweet at 0x7f8acb226748>,\n",
              " <GetOldTweets3.models.Tweet.Tweet at 0x7f8acbb0fe80>,\n",
              " <GetOldTweets3.models.Tweet.Tweet at 0x7f8acdc7ed30>,\n",
              " <GetOldTweets3.models.Tweet.Tweet at 0x7f8acbb0fc50>,\n",
              " <GetOldTweets3.models.Tweet.Tweet at 0x7f8acdc7eef0>,\n",
              " <GetOldTweets3.models.Tweet.Tweet at 0x7f8acbb0fc88>,\n",
              " <GetOldTweets3.models.Tweet.Tweet at 0x7f8acb22fc50>,\n",
              " <GetOldTweets3.models.Tweet.Tweet at 0x7f8acb22f780>,\n",
              " <GetOldTweets3.models.Tweet.Tweet at 0x7f8acbb102e8>,\n",
              " <GetOldTweets3.models.Tweet.Tweet at 0x7f8acbb10eb8>,\n",
              " <GetOldTweets3.models.Tweet.Tweet at 0x7f8acb22f7f0>,\n",
              " <GetOldTweets3.models.Tweet.Tweet at 0x7f8acdc87cf8>,\n",
              " <GetOldTweets3.models.Tweet.Tweet at 0x7f8acbb0fcc0>,\n",
              " <GetOldTweets3.models.Tweet.Tweet at 0x7f8acbb0ffd0>,\n",
              " <GetOldTweets3.models.Tweet.Tweet at 0x7f8ad7d20860>,\n",
              " <GetOldTweets3.models.Tweet.Tweet at 0x7f8acbb0fbe0>,\n",
              " <GetOldTweets3.models.Tweet.Tweet at 0x7f8acb22f828>,\n",
              " <GetOldTweets3.models.Tweet.Tweet at 0x7f8acb2267f0>,\n",
              " <GetOldTweets3.models.Tweet.Tweet at 0x7f8acb226438>,\n",
              " <GetOldTweets3.models.Tweet.Tweet at 0x7f8acb2269b0>,\n",
              " <GetOldTweets3.models.Tweet.Tweet at 0x7f8acb226f60>,\n",
              " <GetOldTweets3.models.Tweet.Tweet at 0x7f8acdc87518>,\n",
              " <GetOldTweets3.models.Tweet.Tweet at 0x7f8acb22fb70>,\n",
              " <GetOldTweets3.models.Tweet.Tweet at 0x7f8acb22fb38>,\n",
              " <GetOldTweets3.models.Tweet.Tweet at 0x7f8acb226cc0>,\n",
              " <GetOldTweets3.models.Tweet.Tweet at 0x7f8acb226c50>,\n",
              " <GetOldTweets3.models.Tweet.Tweet at 0x7f8acb2260b8>,\n",
              " <GetOldTweets3.models.Tweet.Tweet at 0x7f8acb226898>,\n",
              " <GetOldTweets3.models.Tweet.Tweet at 0x7f8acb226390>,\n",
              " <GetOldTweets3.models.Tweet.Tweet at 0x7f8acbb0fda0>,\n",
              " <GetOldTweets3.models.Tweet.Tweet at 0x7f8acdc7e940>,\n",
              " <GetOldTweets3.models.Tweet.Tweet at 0x7f8acb226a20>,\n",
              " <GetOldTweets3.models.Tweet.Tweet at 0x7f8acb226fd0>,\n",
              " <GetOldTweets3.models.Tweet.Tweet at 0x7f8acb226b70>,\n",
              " <GetOldTweets3.models.Tweet.Tweet at 0x7f8acb226c88>,\n",
              " <GetOldTweets3.models.Tweet.Tweet at 0x7f8acb226278>,\n",
              " <GetOldTweets3.models.Tweet.Tweet at 0x7f8acb2260f0>,\n",
              " <GetOldTweets3.models.Tweet.Tweet at 0x7f8ad765ef98>,\n",
              " <GetOldTweets3.models.Tweet.Tweet at 0x7f8acb226710>,\n",
              " <GetOldTweets3.models.Tweet.Tweet at 0x7f8ad4ecd748>,\n",
              " <GetOldTweets3.models.Tweet.Tweet at 0x7f8ad4ecd7f0>,\n",
              " <GetOldTweets3.models.Tweet.Tweet at 0x7f8ad4ecd0f0>,\n",
              " <GetOldTweets3.models.Tweet.Tweet at 0x7f8ad4ecd3c8>,\n",
              " <GetOldTweets3.models.Tweet.Tweet at 0x7f8ad4ecd4a8>,\n",
              " <GetOldTweets3.models.Tweet.Tweet at 0x7f8ad4ecd4e0>,\n",
              " <GetOldTweets3.models.Tweet.Tweet at 0x7f8acbb0fe10>,\n",
              " <GetOldTweets3.models.Tweet.Tweet at 0x7f8acb226a58>,\n",
              " <GetOldTweets3.models.Tweet.Tweet at 0x7f8acb226550>,\n",
              " <GetOldTweets3.models.Tweet.Tweet at 0x7f8acb2264e0>,\n",
              " <GetOldTweets3.models.Tweet.Tweet at 0x7f8acb226588>,\n",
              " <GetOldTweets3.models.Tweet.Tweet at 0x7f8acb226940>,\n",
              " <GetOldTweets3.models.Tweet.Tweet at 0x7f8acb226e10>,\n",
              " <GetOldTweets3.models.Tweet.Tweet at 0x7f8acb2268d0>,\n",
              " <GetOldTweets3.models.Tweet.Tweet at 0x7f8acb226ac8>,\n",
              " <GetOldTweets3.models.Tweet.Tweet at 0x7f8acb226f28>,\n",
              " <GetOldTweets3.models.Tweet.Tweet at 0x7f8acb226470>,\n",
              " <GetOldTweets3.models.Tweet.Tweet at 0x7f8acb226208>,\n",
              " <GetOldTweets3.models.Tweet.Tweet at 0x7f8acb2262b0>,\n",
              " <GetOldTweets3.models.Tweet.Tweet at 0x7f8acb226630>,\n",
              " <GetOldTweets3.models.Tweet.Tweet at 0x7f8acb2266a0>,\n",
              " <GetOldTweets3.models.Tweet.Tweet at 0x7f8acb226dd8>,\n",
              " <GetOldTweets3.models.Tweet.Tweet at 0x7f8acb2265f8>,\n",
              " <GetOldTweets3.models.Tweet.Tweet at 0x7f8ad4ecd7b8>,\n",
              " <GetOldTweets3.models.Tweet.Tweet at 0x7f8ad4ecd6a0>,\n",
              " <GetOldTweets3.models.Tweet.Tweet at 0x7f8ad4ecd470>,\n",
              " <GetOldTweets3.models.Tweet.Tweet at 0x7f8ad4ecdcc0>,\n",
              " <GetOldTweets3.models.Tweet.Tweet at 0x7f8acb2265c0>,\n",
              " <GetOldTweets3.models.Tweet.Tweet at 0x7f8acb226e48>,\n",
              " <GetOldTweets3.models.Tweet.Tweet at 0x7f8acb2267b8>,\n",
              " <GetOldTweets3.models.Tweet.Tweet at 0x7f8acb226048>,\n",
              " <GetOldTweets3.models.Tweet.Tweet at 0x7f8ad4ecd400>,\n",
              " <GetOldTweets3.models.Tweet.Tweet at 0x7f8ad4ecd5c0>,\n",
              " <GetOldTweets3.models.Tweet.Tweet at 0x7f8ad4ecda90>,\n",
              " <GetOldTweets3.models.Tweet.Tweet at 0x7f8ad4ecd828>,\n",
              " <GetOldTweets3.models.Tweet.Tweet at 0x7f8acb2264a8>,\n",
              " <GetOldTweets3.models.Tweet.Tweet at 0x7f8acb226e80>,\n",
              " <GetOldTweets3.models.Tweet.Tweet at 0x7f8ad4ecd320>,\n",
              " <GetOldTweets3.models.Tweet.Tweet at 0x7f8ad4ecdac8>,\n",
              " <GetOldTweets3.models.Tweet.Tweet at 0x7f8ad4ecd9b0>,\n",
              " <GetOldTweets3.models.Tweet.Tweet at 0x7f8ad4ecd208>,\n",
              " <GetOldTweets3.models.Tweet.Tweet at 0x7f8ad4ecdf28>,\n",
              " <GetOldTweets3.models.Tweet.Tweet at 0x7f8ad4ecdb38>,\n",
              " <GetOldTweets3.models.Tweet.Tweet at 0x7f8ad4ecd710>,\n",
              " <GetOldTweets3.models.Tweet.Tweet at 0x7f8ad4ecddd8>,\n",
              " <GetOldTweets3.models.Tweet.Tweet at 0x7f8ad4ecdf98>,\n",
              " <GetOldTweets3.models.Tweet.Tweet at 0x7f8ad4ecde80>,\n",
              " <GetOldTweets3.models.Tweet.Tweet at 0x7f8ad4ecd550>,\n",
              " <GetOldTweets3.models.Tweet.Tweet at 0x7f8ad4ecd2e8>,\n",
              " <GetOldTweets3.models.Tweet.Tweet at 0x7f8ad4ecdbe0>,\n",
              " <GetOldTweets3.models.Tweet.Tweet at 0x7f8ad4ecd908>,\n",
              " <GetOldTweets3.models.Tweet.Tweet at 0x7f8ad4ecd278>,\n",
              " <GetOldTweets3.models.Tweet.Tweet at 0x7f8ad4ecdb70>,\n",
              " <GetOldTweets3.models.Tweet.Tweet at 0x7f8ad4ecdda0>,\n",
              " <GetOldTweets3.models.Tweet.Tweet at 0x7f8acb226780>,\n",
              " <GetOldTweets3.models.Tweet.Tweet at 0x7f8ad4ecd668>,\n",
              " <GetOldTweets3.models.Tweet.Tweet at 0x7f8acb2263c8>,\n",
              " <GetOldTweets3.models.Tweet.Tweet at 0x7f8ad4ecd588>,\n",
              " <GetOldTweets3.models.Tweet.Tweet at 0x7f8ad4ecd1d0>,\n",
              " <GetOldTweets3.models.Tweet.Tweet at 0x7f8acaf49940>,\n",
              " <GetOldTweets3.models.Tweet.Tweet at 0x7f8acaf494e0>,\n",
              " <GetOldTweets3.models.Tweet.Tweet at 0x7f8acaf49588>,\n",
              " <GetOldTweets3.models.Tweet.Tweet at 0x7f8acaf499e8>,\n",
              " <GetOldTweets3.models.Tweet.Tweet at 0x7f8acaf49550>,\n",
              " <GetOldTweets3.models.Tweet.Tweet at 0x7f8acbb0f400>,\n",
              " <GetOldTweets3.models.Tweet.Tweet at 0x7f8ad4ecdeb8>,\n",
              " <GetOldTweets3.models.Tweet.Tweet at 0x7f8ad4ecd048>,\n",
              " <GetOldTweets3.models.Tweet.Tweet at 0x7f8ad4ecd518>,\n",
              " <GetOldTweets3.models.Tweet.Tweet at 0x7f8ad4ecd390>,\n",
              " <GetOldTweets3.models.Tweet.Tweet at 0x7f8ad4ecd240>,\n",
              " <GetOldTweets3.models.Tweet.Tweet at 0x7f8ad4ecdef0>,\n",
              " <GetOldTweets3.models.Tweet.Tweet at 0x7f8ad4ecdf60>,\n",
              " <GetOldTweets3.models.Tweet.Tweet at 0x7f8ad4ecdb00>,\n",
              " <GetOldTweets3.models.Tweet.Tweet at 0x7f8ad4ecd0b8>,\n",
              " <GetOldTweets3.models.Tweet.Tweet at 0x7f8ad4ecdc88>,\n",
              " <GetOldTweets3.models.Tweet.Tweet at 0x7f8ad4ecdfd0>,\n",
              " <GetOldTweets3.models.Tweet.Tweet at 0x7f8acaf49320>,\n",
              " <GetOldTweets3.models.Tweet.Tweet at 0x7f8acaf49898>,\n",
              " <GetOldTweets3.models.Tweet.Tweet at 0x7f8acaf49518>,\n",
              " <GetOldTweets3.models.Tweet.Tweet at 0x7f8acaf49780>,\n",
              " <GetOldTweets3.models.Tweet.Tweet at 0x7f8acaf49cc0>,\n",
              " <GetOldTweets3.models.Tweet.Tweet at 0x7f8acaf499b0>,\n",
              " <GetOldTweets3.models.Tweet.Tweet at 0x7f8acaf49e10>,\n",
              " <GetOldTweets3.models.Tweet.Tweet at 0x7f8acaf49d30>,\n",
              " <GetOldTweets3.models.Tweet.Tweet at 0x7f8acaf49d68>,\n",
              " <GetOldTweets3.models.Tweet.Tweet at 0x7f8acaf496d8>,\n",
              " <GetOldTweets3.models.Tweet.Tweet at 0x7f8acb22f2e8>,\n",
              " <GetOldTweets3.models.Tweet.Tweet at 0x7f8ad4ecde48>,\n",
              " <GetOldTweets3.models.Tweet.Tweet at 0x7f8ad4ecd160>,\n",
              " <GetOldTweets3.models.Tweet.Tweet at 0x7f8acaf492e8>,\n",
              " <GetOldTweets3.models.Tweet.Tweet at 0x7f8acaf496a0>,\n",
              " <GetOldTweets3.models.Tweet.Tweet at 0x7f8acaf49748>,\n",
              " <GetOldTweets3.models.Tweet.Tweet at 0x7f8acaf49eb8>,\n",
              " <GetOldTweets3.models.Tweet.Tweet at 0x7f8ad4ecd860>,\n",
              " <GetOldTweets3.models.Tweet.Tweet at 0x7f8ad4ecd358>,\n",
              " <GetOldTweets3.models.Tweet.Tweet at 0x7f8acaf49470>,\n",
              " <GetOldTweets3.models.Tweet.Tweet at 0x7f8acaf49da0>,\n",
              " <GetOldTweets3.models.Tweet.Tweet at 0x7f8acaf49b00>,\n",
              " <GetOldTweets3.models.Tweet.Tweet at 0x7f8acaf49668>,\n",
              " <GetOldTweets3.models.Tweet.Tweet at 0x7f8acaf49208>,\n",
              " <GetOldTweets3.models.Tweet.Tweet at 0x7f8acaf49630>,\n",
              " <GetOldTweets3.models.Tweet.Tweet at 0x7f8acaf49dd8>,\n",
              " <GetOldTweets3.models.Tweet.Tweet at 0x7f8acaf494a8>,\n",
              " <GetOldTweets3.models.Tweet.Tweet at 0x7f8acaf497f0>,\n",
              " <GetOldTweets3.models.Tweet.Tweet at 0x7f8acaf493c8>,\n",
              " <GetOldTweets3.models.Tweet.Tweet at 0x7f8acaf49cf8>,\n",
              " <GetOldTweets3.models.Tweet.Tweet at 0x7f8acaf49c50>,\n",
              " <GetOldTweets3.models.Tweet.Tweet at 0x7f8acaf49048>,\n",
              " <GetOldTweets3.models.Tweet.Tweet at 0x7f8acaf491d0>,\n",
              " <GetOldTweets3.models.Tweet.Tweet at 0x7f8acaf49f60>,\n",
              " <GetOldTweets3.models.Tweet.Tweet at 0x7f8acaf49fd0>,\n",
              " <GetOldTweets3.models.Tweet.Tweet at 0x7f8acaf49358>,\n",
              " <GetOldTweets3.models.Tweet.Tweet at 0x7f8acaf490b8>,\n",
              " <GetOldTweets3.models.Tweet.Tweet at 0x7f8acaf49b38>,\n",
              " <GetOldTweets3.models.Tweet.Tweet at 0x7f8acb226198>,\n",
              " <GetOldTweets3.models.Tweet.Tweet at 0x7f8acaf492b0>,\n",
              " <GetOldTweets3.models.Tweet.Tweet at 0x7f8acaf49f98>,\n",
              " <GetOldTweets3.models.Tweet.Tweet at 0x7f8acaf49a58>,\n",
              " <GetOldTweets3.models.Tweet.Tweet at 0x7f8acaf49ef0>,\n",
              " <GetOldTweets3.models.Tweet.Tweet at 0x7f8acaf70978>,\n",
              " <GetOldTweets3.models.Tweet.Tweet at 0x7f8acaf70a90>,\n",
              " <GetOldTweets3.models.Tweet.Tweet at 0x7f8acaf70a20>,\n",
              " <GetOldTweets3.models.Tweet.Tweet at 0x7f8acaf497b8>,\n",
              " <GetOldTweets3.models.Tweet.Tweet at 0x7f8acaf495c0>,\n",
              " <GetOldTweets3.models.Tweet.Tweet at 0x7f8acaf49e48>,\n",
              " <GetOldTweets3.models.Tweet.Tweet at 0x7f8acaf49438>,\n",
              " <GetOldTweets3.models.Tweet.Tweet at 0x7f8ad4ecd6d8>,\n",
              " <GetOldTweets3.models.Tweet.Tweet at 0x7f8acaf49160>,\n",
              " <GetOldTweets3.models.Tweet.Tweet at 0x7f8acaf49240>,\n",
              " <GetOldTweets3.models.Tweet.Tweet at 0x7f8acaf49978>,\n",
              " <GetOldTweets3.models.Tweet.Tweet at 0x7f8acaf49400>,\n",
              " <GetOldTweets3.models.Tweet.Tweet at 0x7f8acaf490f0>,\n",
              " <GetOldTweets3.models.Tweet.Tweet at 0x7f8acaf49ac8>,\n",
              " <GetOldTweets3.models.Tweet.Tweet at 0x7f8acaf49390>,\n",
              " <GetOldTweets3.models.Tweet.Tweet at 0x7f8acaf709e8>,\n",
              " <GetOldTweets3.models.Tweet.Tweet at 0x7f8acaf70b00>,\n",
              " <GetOldTweets3.models.Tweet.Tweet at 0x7f8acaf70198>,\n",
              " <GetOldTweets3.models.Tweet.Tweet at 0x7f8ad4ecdba8>,\n",
              " <GetOldTweets3.models.Tweet.Tweet at 0x7f8acaf498d0>,\n",
              " <GetOldTweets3.models.Tweet.Tweet at 0x7f8acaf70400>,\n",
              " <GetOldTweets3.models.Tweet.Tweet at 0x7f8acaf70eb8>,\n",
              " <GetOldTweets3.models.Tweet.Tweet at 0x7f8acaf70e10>,\n",
              " <GetOldTweets3.models.Tweet.Tweet at 0x7f8acaf707f0>,\n",
              " <GetOldTweets3.models.Tweet.Tweet at 0x7f8acaf49860>,\n",
              " <GetOldTweets3.models.Tweet.Tweet at 0x7f8acaf49be0>,\n",
              " <GetOldTweets3.models.Tweet.Tweet at 0x7f8acaf49ba8>,\n",
              " <GetOldTweets3.models.Tweet.Tweet at 0x7f8acaf70f60>,\n",
              " <GetOldTweets3.models.Tweet.Tweet at 0x7f8acaf70588>,\n",
              " <GetOldTweets3.models.Tweet.Tweet at 0x7f8acaf70208>,\n",
              " <GetOldTweets3.models.Tweet.Tweet at 0x7f8acaf49080>,\n",
              " <GetOldTweets3.models.Tweet.Tweet at 0x7f8acaf49b70>,\n",
              " <GetOldTweets3.models.Tweet.Tweet at 0x7f8acaf49710>,\n",
              " <GetOldTweets3.models.Tweet.Tweet at 0x7f8acaf70240>,\n",
              " <GetOldTweets3.models.Tweet.Tweet at 0x7f8acaf70320>,\n",
              " <GetOldTweets3.models.Tweet.Tweet at 0x7f8acaf70358>,\n",
              " <GetOldTweets3.models.Tweet.Tweet at 0x7f8acaf70048>,\n",
              " <GetOldTweets3.models.Tweet.Tweet at 0x7f8acaf70ba8>,\n",
              " <GetOldTweets3.models.Tweet.Tweet at 0x7f8acaf49c88>,\n",
              " <GetOldTweets3.models.Tweet.Tweet at 0x7f8acaf70438>,\n",
              " <GetOldTweets3.models.Tweet.Tweet at 0x7f8acaf70d68>,\n",
              " <GetOldTweets3.models.Tweet.Tweet at 0x7f8acaf706a0>,\n",
              " <GetOldTweets3.models.Tweet.Tweet at 0x7f8acaf70d30>,\n",
              " <GetOldTweets3.models.Tweet.Tweet at 0x7f8acaf70c18>,\n",
              " <GetOldTweets3.models.Tweet.Tweet at 0x7f8acaf70710>,\n",
              " <GetOldTweets3.models.Tweet.Tweet at 0x7f8acaf70cc0>,\n",
              " <GetOldTweets3.models.Tweet.Tweet at 0x7f8acaf495f8>,\n",
              " <GetOldTweets3.models.Tweet.Tweet at 0x7f8acaf70c88>,\n",
              " <GetOldTweets3.models.Tweet.Tweet at 0x7f8acaf70470>,\n",
              " <GetOldTweets3.models.Tweet.Tweet at 0x7f8acaf70518>,\n",
              " <GetOldTweets3.models.Tweet.Tweet at 0x7f8acaf709b0>,\n",
              " <GetOldTweets3.models.Tweet.Tweet at 0x7f8acaf70f28>,\n",
              " <GetOldTweets3.models.Tweet.Tweet at 0x7f8acaf705f8>,\n",
              " <GetOldTweets3.models.Tweet.Tweet at 0x7f8acaf703c8>,\n",
              " <GetOldTweets3.models.Tweet.Tweet at 0x7f8acaf702b0>,\n",
              " <GetOldTweets3.models.Tweet.Tweet at 0x7f8acaf70780>,\n",
              " <GetOldTweets3.models.Tweet.Tweet at 0x7f8acaf70278>,\n",
              " <GetOldTweets3.models.Tweet.Tweet at 0x7f8acaf70128>,\n",
              " <GetOldTweets3.models.Tweet.Tweet at 0x7f8acaf708d0>,\n",
              " <GetOldTweets3.models.Tweet.Tweet at 0x7f8acaf70fd0>,\n",
              " <GetOldTweets3.models.Tweet.Tweet at 0x7f8acaf629e8>,\n",
              " <GetOldTweets3.models.Tweet.Tweet at 0x7f8acaf62b70>,\n",
              " <GetOldTweets3.models.Tweet.Tweet at 0x7f8acaf62b00>,\n",
              " <GetOldTweets3.models.Tweet.Tweet at 0x7f8acaf62b38>,\n",
              " <GetOldTweets3.models.Tweet.Tweet at 0x7f8acaf702e8>,\n",
              " <GetOldTweets3.models.Tweet.Tweet at 0x7f8acaf705c0>,\n",
              " <GetOldTweets3.models.Tweet.Tweet at 0x7f8acaf70e80>,\n",
              " <GetOldTweets3.models.Tweet.Tweet at 0x7f8acaf70748>,\n",
              " <GetOldTweets3.models.Tweet.Tweet at 0x7f8acaf706d8>,\n",
              " <GetOldTweets3.models.Tweet.Tweet at 0x7f8acaf70160>,\n",
              " <GetOldTweets3.models.Tweet.Tweet at 0x7f8acaf70c50>,\n",
              " <GetOldTweets3.models.Tweet.Tweet at 0x7f8acaf70e48>,\n",
              " <GetOldTweets3.models.Tweet.Tweet at 0x7f8acaf70940>,\n",
              " <GetOldTweets3.models.Tweet.Tweet at 0x7f8acaf70ef0>,\n",
              " <GetOldTweets3.models.Tweet.Tweet at 0x7f8acaf70b38>,\n",
              " <GetOldTweets3.models.Tweet.Tweet at 0x7f8acaf704e0>,\n",
              " <GetOldTweets3.models.Tweet.Tweet at 0x7f8acaf62a58>,\n",
              " <GetOldTweets3.models.Tweet.Tweet at 0x7f8acaf623c8>,\n",
              " <GetOldTweets3.models.Tweet.Tweet at 0x7f8acaf62780>,\n",
              " <GetOldTweets3.models.Tweet.Tweet at 0x7f8acaf62c18>,\n",
              " <GetOldTweets3.models.Tweet.Tweet at 0x7f8acaf627b8>,\n",
              " <GetOldTweets3.models.Tweet.Tweet at 0x7f8acaf62710>,\n",
              " <GetOldTweets3.models.Tweet.Tweet at 0x7f8acaf62f60>,\n",
              " <GetOldTweets3.models.Tweet.Tweet at 0x7f8acaf62f28>,\n",
              " <GetOldTweets3.models.Tweet.Tweet at 0x7f8acaf62eb8>,\n",
              " <GetOldTweets3.models.Tweet.Tweet at 0x7f8acaf62dd8>,\n",
              " <GetOldTweets3.models.Tweet.Tweet at 0x7f8acaf62da0>,\n",
              " <GetOldTweets3.models.Tweet.Tweet at 0x7f8acaf70ac8>,\n",
              " <GetOldTweets3.models.Tweet.Tweet at 0x7f8acaf70b70>,\n",
              " <GetOldTweets3.models.Tweet.Tweet at 0x7f8acaf62d30>,\n",
              " <GetOldTweets3.models.Tweet.Tweet at 0x7f8acaf62e10>,\n",
              " <GetOldTweets3.models.Tweet.Tweet at 0x7f8acaf62128>,\n",
              " <GetOldTweets3.models.Tweet.Tweet at 0x7f8acaf62278>,\n",
              " <GetOldTweets3.models.Tweet.Tweet at 0x7f8acaf62e48>,\n",
              " <GetOldTweets3.models.Tweet.Tweet at 0x7f8acaf62630>,\n",
              " <GetOldTweets3.models.Tweet.Tweet at 0x7f8acaf70be0>,\n",
              " <GetOldTweets3.models.Tweet.Tweet at 0x7f8acaf62320>,\n",
              " <GetOldTweets3.models.Tweet.Tweet at 0x7f8acaf624a8>,\n",
              " <GetOldTweets3.models.Tweet.Tweet at 0x7f8acaf62208>,\n",
              " <GetOldTweets3.models.Tweet.Tweet at 0x7f8acaf62048>,\n",
              " <GetOldTweets3.models.Tweet.Tweet at 0x7f8acaf622b0>,\n",
              " <GetOldTweets3.models.Tweet.Tweet at 0x7f8acaf62358>,\n",
              " <GetOldTweets3.models.Tweet.Tweet at 0x7f8acaf626d8>,\n",
              " <GetOldTweets3.models.Tweet.Tweet at 0x7f8acbb5f5f8>,\n",
              " <GetOldTweets3.models.Tweet.Tweet at 0x7f8acbb5f400>,\n",
              " <GetOldTweets3.models.Tweet.Tweet at 0x7f8acbb5f3c8>,\n",
              " <GetOldTweets3.models.Tweet.Tweet at 0x7f8acbb5f668>,\n",
              " <GetOldTweets3.models.Tweet.Tweet at 0x7f8acaf622e8>,\n",
              " <GetOldTweets3.models.Tweet.Tweet at 0x7f8acaf62e80>,\n",
              " <GetOldTweets3.models.Tweet.Tweet at 0x7f8acaf62588>,\n",
              " <GetOldTweets3.models.Tweet.Tweet at 0x7f8acbb5f5c0>,\n",
              " <GetOldTweets3.models.Tweet.Tweet at 0x7f8acbb5f160>,\n",
              " <GetOldTweets3.models.Tweet.Tweet at 0x7f8acbb5f518>,\n",
              " <GetOldTweets3.models.Tweet.Tweet at 0x7f8acaf62748>,\n",
              " <GetOldTweets3.models.Tweet.Tweet at 0x7f8acaf620f0>,\n",
              " <GetOldTweets3.models.Tweet.Tweet at 0x7f8acaf62940>,\n",
              " <GetOldTweets3.models.Tweet.Tweet at 0x7f8acaf625f8>,\n",
              " <GetOldTweets3.models.Tweet.Tweet at 0x7f8acaf62a90>,\n",
              " <GetOldTweets3.models.Tweet.Tweet at 0x7f8acaf624e0>,\n",
              " <GetOldTweets3.models.Tweet.Tweet at 0x7f8acaf62c50>]"
            ]
          },
          "metadata": {
            "tags": []
          },
          "execution_count": 302
        }
      ]
    },
    {
      "cell_type": "code",
      "metadata": {
        "id": "kejbUt1-9_5x",
        "colab_type": "code",
        "colab": {}
      },
      "source": [
        "\n",
        "df = pd.DataFrame(tweets)\n",
        "\n",
        "def get_text(tweet):\n",
        "  return tweet.text\n",
        "\n",
        "def get_username(tweet):\n",
        "  return tweet.username\n",
        "\n",
        "df[\"username\"] = df[0].apply(get_username)\n",
        "df[\"text\"] = df[0].apply(get_text)"
      ],
      "execution_count": null,
      "outputs": []
    },
    {
      "cell_type": "code",
      "metadata": {
        "id": "zfPFMdxq-WBc",
        "colab_type": "code",
        "colab": {
          "base_uri": "https://localhost:8080/",
          "height": 204
        },
        "outputId": "e421e291-bdfa-489f-88dd-9570556721db"
      },
      "source": [
        "df"
      ],
      "execution_count": null,
      "outputs": [
        {
          "output_type": "execute_result",
          "data": {
            "text/html": [
              "<div>\n",
              "<style scoped>\n",
              "    .dataframe tbody tr th:only-of-type {\n",
              "        vertical-align: middle;\n",
              "    }\n",
              "\n",
              "    .dataframe tbody tr th {\n",
              "        vertical-align: top;\n",
              "    }\n",
              "\n",
              "    .dataframe thead th {\n",
              "        text-align: right;\n",
              "    }\n",
              "</style>\n",
              "<table border=\"1\" class=\"dataframe\">\n",
              "  <thead>\n",
              "    <tr style=\"text-align: right;\">\n",
              "      <th></th>\n",
              "      <th>0</th>\n",
              "      <th>username</th>\n",
              "      <th>text</th>\n",
              "    </tr>\n",
              "  </thead>\n",
              "  <tbody>\n",
              "    <tr>\n",
              "      <th>0</th>\n",
              "      <td>&lt;GetOldTweets3.models.Tweet.Tweet object at 0x7f8acb22f9b0&gt;</td>\n",
              "      <td>Samsson31363375</td>\n",
              "      <td>@metpolice</td>\n",
              "    </tr>\n",
              "    <tr>\n",
              "      <th>1</th>\n",
              "      <td>&lt;GetOldTweets3.models.Tweet.Tweet object at 0x7f8acb22fa90&gt;</td>\n",
              "      <td>KarmaKarlz</td>\n",
              "      <td>@metpolice UK #Police What stops you looking like this #stopandsearch</td>\n",
              "    </tr>\n",
              "    <tr>\n",
              "      <th>2</th>\n",
              "      <td>&lt;GetOldTweets3.models.Tweet.Tweet object at 0x7f8acb22f978&gt;</td>\n",
              "      <td>ATOMONOUS1</td>\n",
              "      <td>@MetPolice @MetPolice @MotabilityOps @RSAMotability @dwppressoffice #WW3#Totalitarianism</td>\n",
              "    </tr>\n",
              "    <tr>\n",
              "      <th>3</th>\n",
              "      <td>&lt;GetOldTweets3.models.Tweet.Tweet object at 0x7f8acdc87e48&gt;</td>\n",
              "      <td>Samsson31363375</td>\n",
              "      <td>@metpolice @pritipatel @BorisJohnson</td>\n",
              "    </tr>\n",
              "    <tr>\n",
              "      <th>4</th>\n",
              "      <td>&lt;GetOldTweets3.models.Tweet.Tweet object at 0x7f8acdc87940&gt;</td>\n",
              "      <td>_jannatahmed</td>\n",
              "      <td>@metpolice he’s got their photo in his camera roll</td>\n",
              "    </tr>\n",
              "  </tbody>\n",
              "</table>\n",
              "</div>"
            ],
            "text/plain": [
              "                                                             0  ...                                                                                      text\n",
              "0  <GetOldTweets3.models.Tweet.Tweet object at 0x7f8acb22f9b0>  ...                                                                                @metpolice\n",
              "1  <GetOldTweets3.models.Tweet.Tweet object at 0x7f8acb22fa90>  ...                    @metpolice UK #Police What stops you looking like this #stopandsearch \n",
              "2  <GetOldTweets3.models.Tweet.Tweet object at 0x7f8acb22f978>  ...  @MetPolice @MetPolice @MotabilityOps @RSAMotability @dwppressoffice #WW3#Totalitarianism\n",
              "3  <GetOldTweets3.models.Tweet.Tweet object at 0x7f8acdc87e48>  ...                                                      @metpolice @pritipatel @BorisJohnson\n",
              "4  <GetOldTweets3.models.Tweet.Tweet object at 0x7f8acdc87940>  ...                                        @metpolice he’s got their photo in his camera roll\n",
              "\n",
              "[5 rows x 3 columns]"
            ]
          },
          "metadata": {
            "tags": []
          },
          "execution_count": 297
        }
      ]
    },
    {
      "cell_type": "code",
      "metadata": {
        "id": "CxN0NfKM_DsN",
        "colab_type": "code",
        "colab": {}
      },
      "source": [
        ""
      ],
      "execution_count": null,
      "outputs": []
    }
  ]
}