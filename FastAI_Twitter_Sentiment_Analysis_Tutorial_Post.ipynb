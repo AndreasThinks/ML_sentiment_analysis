{
  "nbformat": 4,
  "nbformat_minor": 0,
  "metadata": {
    "colab": {
      "name": "FastAI Twitter Sentiment Analysis Tutorial Post",
      "provenance": [],
      "toc_visible": true,
      "mount_file_id": "1jijAjRaJ1TTow1M7wxI2BNcY7CwGT60U",
      "authorship_tag": "ABX9TyNJP/NshIZAyNTmKbKch7AP",
      "include_colab_link": true
    },
    "kernelspec": {
      "name": "python3",
      "display_name": "Python 3"
    }
  },
  "cells": [
    {
      "cell_type": "markdown",
      "metadata": {
        "id": "view-in-github",
        "colab_type": "text"
      },
      "source": [
        "<a href=\"https://colab.research.google.com/github/crimsoneer/ML_sentiment_analysis/blob/master/FastAI_Twitter_Sentiment_Analysis_Tutorial_Post.ipynb\" target=\"_parent\"><img src=\"https://colab.research.google.com/assets/colab-badge.svg\" alt=\"Open In Colab\"/></a>"
      ]
    },
    {
      "cell_type": "markdown",
      "metadata": {
        "id": "IYeugE7N_HDd",
        "colab_type": "text"
      },
      "source": [
        "## Scraping and Cleaning Tweets\n",
        "The twitter API infuriatingly does not let you pull tweets more than a week old.  As such, I've had to use a combination of the [GetOldTweets library](https://pypi.org/project/GetOldTweets3/) and then Tweepy to extract the biography data. As such, this does need access to the Twitter API and a developer account (though I found that quite easy to get)."
      ]
    },
    {
      "cell_type": "code",
      "metadata": {
        "id": "PSOXVUujBsiF",
        "colab_type": "code",
        "colab": {
          "base_uri": "https://localhost:8080/",
          "height": 170
        },
        "outputId": "7ba02914-ec13-4cd6-c46b-8e071560c02d"
      },
      "source": [
        "pip install GetOldTweets3"
      ],
      "execution_count": 2,
      "outputs": [
        {
          "output_type": "stream",
          "text": [
            "Collecting GetOldTweets3\n",
            "  Downloading https://files.pythonhosted.org/packages/ed/f4/a00c2a7c90801abc875325bb5416ce9090ac86d06a00cc887131bd73ba45/GetOldTweets3-0.0.11-py3-none-any.whl\n",
            "Requirement already satisfied: lxml>=3.5.0 in /usr/local/lib/python3.6/dist-packages (from GetOldTweets3) (4.2.6)\n",
            "Collecting pyquery>=1.2.10\n",
            "  Downloading https://files.pythonhosted.org/packages/78/43/95d42e386c61cb639d1a0b94f0c0b9f0b7d6b981ad3c043a836c8b5bc68b/pyquery-1.4.1-py2.py3-none-any.whl\n",
            "Collecting cssselect>0.7.9\n",
            "  Downloading https://files.pythonhosted.org/packages/3b/d4/3b5c17f00cce85b9a1e6f91096e1cc8e8ede2e1be8e96b87ce1ed09e92c5/cssselect-1.1.0-py2.py3-none-any.whl\n",
            "Installing collected packages: cssselect, pyquery, GetOldTweets3\n",
            "Successfully installed GetOldTweets3-0.0.11 cssselect-1.1.0 pyquery-1.4.1\n"
          ],
          "name": "stdout"
        }
      ]
    },
    {
      "cell_type": "code",
      "metadata": {
        "id": "nFqOwJsK_Cnt",
        "colab_type": "code",
        "colab": {}
      },
      "source": [
        "import tweepy\n",
        "import logging\n",
        "import GetOldTweets3 as got\n",
        "import pandas as pd\n",
        "\n",
        "\n",
        "API_KEY = \"xx\"\n",
        "API_SECRET = \"xx\"\n",
        "ACCESS_TOKEN = \"xx\"\n",
        "ACCESS_TOKEN_SECRET =\"xx\"\n",
        "\n",
        "auth = tweepy.OAuthHandler(API_KEY, API_SECRET)\n",
        "auth.set_access_token(ACCESS_TOKEN, ACCESS_TOKEN_SECRET)\n",
        "\n",
        "api = tweepy.API(auth)\n",
        "\n",
        "from tweepy import API\n",
        "\n",
        "\n",
        "user_name = \"@metpoliceuk\"\n",
        "q='to:{}'.format(user_name)\n",
        "\n",
        "\n",
        "replies = api.search(q=q)"
      ],
      "execution_count": 3,
      "outputs": []
    },
    {
      "cell_type": "markdown",
      "metadata": {
        "id": "1LtAMRIU_8oQ",
        "colab_type": "text"
      },
      "source": [
        "In this case, I've put together a query that pulls all tweets directed to the MPS username between set dates.  I'd warn that even using GetOldTweets, pull too many tweets at once and Twitter will kick you out - I found that especially during especially active social media days, I had to add a delay to my code."
      ]
    },
    {
      "cell_type": "code",
      "metadata": {
        "id": "bpACnyYtACPC",
        "colab_type": "code",
        "colab": {}
      },
      "source": [
        "tweetCriteria = got.manager.TweetCriteria().setQuerySearch(q)\\\n",
        "                                           .setSince(\"2020-08-24\")\\\n",
        "                                           .setUntil(\"2020-08-25\")\n",
        "tweets = got.manager.TweetManager.getTweets(tweetCriteria)\n",
        "\n",
        "df = pd.DataFrame(tweets)\n",
        "\n",
        "def get_text(tweet):\n",
        "  return tweet.text\n",
        "\n",
        "def get_username(tweet):\n",
        "  return tweet.username\n",
        "\n",
        "df[\"username\"] = df[0].apply(get_username)\n",
        "df[\"text\"] = df[0].apply(get_text)\n",
        "\n",
        "bios_df = df.copy()\n",
        "bios = bios_df.dropna(axis=0, subset=[\"username\"])\n",
        "\n",
        "list_of_bios = bios[\"username\"].tolist()\n",
        "\n",
        "def get_bio(user):\n",
        "  list_of_bios = pd.DataFrame(columns=[\"Users\",\"Bios\"])\n",
        "  i = 100\n",
        "  while i < len(user):\n",
        "    users = user[i-100:i]\n",
        "    test = api.lookup_users(screen_names =users)\n",
        "    for person in test:\n",
        "      list_of_bios = list_of_bios.append({'Users' : person.screen_name , 'Bios' : person.description}, ignore_index=True)\n",
        "    i = i + 100\n",
        "  users = user[i-100:len(user)]\n",
        "  test = api.lookup_users(screen_names =users)\n",
        "  for person in test:\n",
        "      list_of_bios = list_of_bios.append({'Users' : person.screen_name , 'Bios' : person.description}, ignore_index=True)\n",
        "  return list_of_bios\n",
        " \n",
        "list_of_new_bios = get_bio(df[\"username\"].tolist())\n",
        "\n",
        "list_of_new_bios[\"username\"] = list_of_new_bios[\"Users\"]\n",
        "df_with_bio = df.merge(list_of_new_bios, on=\"username\")\n",
        "df_with_bio = df_with_bio.rename(columns={\"Bios\":\"bio\"})\n",
        "df_with_bio = df_with_bio.drop(\"Users\",axis=1)"
      ],
      "execution_count": 4,
      "outputs": []
    },
    {
      "cell_type": "markdown",
      "metadata": {
        "id": "ypsBaPBWCmyi",
        "colab_type": "text"
      },
      "source": [
        "With that all done, you can pull out a list of all your tweets that day, as well a the userbiography.  "
      ]
    },
    {
      "cell_type": "code",
      "metadata": {
        "id": "f1SqroNoBwiF",
        "colab_type": "code",
        "colab": {
          "base_uri": "https://localhost:8080/",
          "height": 419
        },
        "outputId": "738a6212-4db0-4a36-8cff-ac14b3c4e3eb"
      },
      "source": [
        "df_with_bio"
      ],
      "execution_count": 6,
      "outputs": [
        {
          "output_type": "execute_result",
          "data": {
            "text/html": [
              "<div>\n",
              "<style scoped>\n",
              "    .dataframe tbody tr th:only-of-type {\n",
              "        vertical-align: middle;\n",
              "    }\n",
              "\n",
              "    .dataframe tbody tr th {\n",
              "        vertical-align: top;\n",
              "    }\n",
              "\n",
              "    .dataframe thead th {\n",
              "        text-align: right;\n",
              "    }\n",
              "</style>\n",
              "<table border=\"1\" class=\"dataframe\">\n",
              "  <thead>\n",
              "    <tr style=\"text-align: right;\">\n",
              "      <th></th>\n",
              "      <th>0</th>\n",
              "      <th>username</th>\n",
              "      <th>text</th>\n",
              "      <th>bio</th>\n",
              "    </tr>\n",
              "  </thead>\n",
              "  <tbody>\n",
              "    <tr>\n",
              "      <th>0</th>\n",
              "      <td>&lt;GetOldTweets3.models.Tweet.Tweet object at 0x...</td>\n",
              "      <td>ClintClease</td>\n",
              "      <td>He’s got smug look on his face. A creature lik...</td>\n",
              "      <td>Author, Designer, Composer, Photographer, Anti...</td>\n",
              "    </tr>\n",
              "    <tr>\n",
              "      <th>1</th>\n",
              "      <td>&lt;GetOldTweets3.models.Tweet.Tweet object at 0x...</td>\n",
              "      <td>Listhebest2020</td>\n",
              "      <td>London is safe huh?! Judging by the majority o...</td>\n",
              "      <td>Nobody you know. #NLF #TheKLF and #KBF. RTs ar...</td>\n",
              "    </tr>\n",
              "    <tr>\n",
              "      <th>2</th>\n",
              "      <td>&lt;GetOldTweets3.models.Tweet.Tweet object at 0x...</td>\n",
              "      <td>repentandtrust</td>\n",
              "      <td>@metpoliceuk @UKParliament why are you still a...</td>\n",
              "      <td>✝️ Christian\\n✝️ Defending Christianity agains...</td>\n",
              "    </tr>\n",
              "    <tr>\n",
              "      <th>3</th>\n",
              "      <td>&lt;GetOldTweets3.models.Tweet.Tweet object at 0x...</td>\n",
              "      <td>hoxtonist</td>\n",
              "      <td>If you killed someone driving a car, you reall...</td>\n",
              "      <td></td>\n",
              "    </tr>\n",
              "    <tr>\n",
              "      <th>4</th>\n",
              "      <td>&lt;GetOldTweets3.models.Tweet.Tweet object at 0x...</td>\n",
              "      <td>joepublic99</td>\n",
              "      <td>@metpoliceuk @UKSupremeCourt @TheFCA @LibDems ...</td>\n",
              "      <td>True Social Justice ¦ Thriving Fair Economy ¦ ...</td>\n",
              "    </tr>\n",
              "    <tr>\n",
              "      <th>...</th>\n",
              "      <td>...</td>\n",
              "      <td>...</td>\n",
              "      <td>...</td>\n",
              "      <td>...</td>\n",
              "    </tr>\n",
              "    <tr>\n",
              "      <th>175</th>\n",
              "      <td>&lt;GetOldTweets3.models.Tweet.Tweet object at 0x...</td>\n",
              "      <td>MornnigGlory</td>\n",
              "      <td>@metpoliceuk #metpoliceuk</td>\n",
              "      <td>Self-Made man - confident reliable honest cari...</td>\n",
              "    </tr>\n",
              "    <tr>\n",
              "      <th>176</th>\n",
              "      <td>&lt;GetOldTweets3.models.Tweet.Tweet object at 0x...</td>\n",
              "      <td>MatthewFahey15</td>\n",
              "      <td>Um, not to sure what to say other than that's ...</td>\n",
              "      <td>Disability rights advocate, Supporter of the a...</td>\n",
              "    </tr>\n",
              "    <tr>\n",
              "      <th>177</th>\n",
              "      <td>&lt;GetOldTweets3.models.Tweet.Tweet object at 0x...</td>\n",
              "      <td>AlfredWintle</td>\n",
              "      <td>London isn’t safe so stop virtue signalling, s...</td>\n",
              "      <td>Western virtues such as democracy, free speech...</td>\n",
              "    </tr>\n",
              "    <tr>\n",
              "      <th>178</th>\n",
              "      <td>&lt;GetOldTweets3.models.Tweet.Tweet object at 0x...</td>\n",
              "      <td>PatriciaRickey2</td>\n",
              "      <td>But BLM riots allowed to happen</td>\n",
              "      <td></td>\n",
              "    </tr>\n",
              "    <tr>\n",
              "      <th>179</th>\n",
              "      <td>&lt;GetOldTweets3.models.Tweet.Tweet object at 0x...</td>\n",
              "      <td>Me1Chri</td>\n",
              "      <td></td>\n",
              "      <td>Journalist forever (I care, write, edit, desig...</td>\n",
              "    </tr>\n",
              "  </tbody>\n",
              "</table>\n",
              "<p>180 rows × 4 columns</p>\n",
              "</div>"
            ],
            "text/plain": [
              "                                                     0  ...                                                bio\n",
              "0    <GetOldTweets3.models.Tweet.Tweet object at 0x...  ...  Author, Designer, Composer, Photographer, Anti...\n",
              "1    <GetOldTweets3.models.Tweet.Tweet object at 0x...  ...  Nobody you know. #NLF #TheKLF and #KBF. RTs ar...\n",
              "2    <GetOldTweets3.models.Tweet.Tweet object at 0x...  ...  ✝️ Christian\\n✝️ Defending Christianity agains...\n",
              "3    <GetOldTweets3.models.Tweet.Tweet object at 0x...  ...                                                   \n",
              "4    <GetOldTweets3.models.Tweet.Tweet object at 0x...  ...  True Social Justice ¦ Thriving Fair Economy ¦ ...\n",
              "..                                                 ...  ...                                                ...\n",
              "175  <GetOldTweets3.models.Tweet.Tweet object at 0x...  ...  Self-Made man - confident reliable honest cari...\n",
              "176  <GetOldTweets3.models.Tweet.Tweet object at 0x...  ...  Disability rights advocate, Supporter of the a...\n",
              "177  <GetOldTweets3.models.Tweet.Tweet object at 0x...  ...  Western virtues such as democracy, free speech...\n",
              "178  <GetOldTweets3.models.Tweet.Tweet object at 0x...  ...                                                   \n",
              "179  <GetOldTweets3.models.Tweet.Tweet object at 0x...  ...  Journalist forever (I care, write, edit, desig...\n",
              "\n",
              "[180 rows x 4 columns]"
            ]
          },
          "metadata": {
            "tags": []
          },
          "execution_count": 6
        }
      ]
    },
    {
      "cell_type": "markdown",
      "metadata": {
        "id": "qIWkPgV5Cxy4",
        "colab_type": "text"
      },
      "source": [
        "## Coding and Learning\n",
        "This is the painful bit: I had to manually go through a few hundred tweets and manually label them as \"Right Wing\" or not based on my own hunches.  \n",
        "\n",
        "I went with the below\n",
        "\n",
        "\n",
        "*   Anti-immigration sentiment\n",
        "*   Anti-socialism/BLM\n",
        "*   Pro-Brexit/Anti-EU\n",
        "*   Pro-Trump/MAGA\n",
        "\n",
        "The coded set can be found below.\n",
        "\n",
        "\n"
      ]
    },
    {
      "cell_type": "code",
      "metadata": {
        "id": "y32mL3GOB2_E",
        "colab_type": "code",
        "colab": {}
      },
      "source": [
        "import pandas as pd\n",
        "from fastai.text.all import *\n"
      ],
      "execution_count": 8,
      "outputs": []
    },
    {
      "cell_type": "code",
      "metadata": {
        "id": "fPSOHwNVCE6D",
        "colab_type": "code",
        "colab": {
          "base_uri": "https://localhost:8080/",
          "height": 419
        },
        "outputId": "f89e40ef-df50-4558-deee-a0f984ff4471"
      },
      "source": [
        "training = pd.read_csv(\"/content/drive/My Drive/data/sentiment training set.csv\")\n",
        "training"
      ],
      "execution_count": 10,
      "outputs": [
        {
          "output_type": "execute_result",
          "data": {
            "text/html": [
              "<div>\n",
              "<style scoped>\n",
              "    .dataframe tbody tr th:only-of-type {\n",
              "        vertical-align: middle;\n",
              "    }\n",
              "\n",
              "    .dataframe tbody tr th {\n",
              "        vertical-align: top;\n",
              "    }\n",
              "\n",
              "    .dataframe thead th {\n",
              "        text-align: right;\n",
              "    }\n",
              "</style>\n",
              "<table border=\"1\" class=\"dataframe\">\n",
              "  <thead>\n",
              "    <tr style=\"text-align: right;\">\n",
              "      <th></th>\n",
              "      <th>username</th>\n",
              "      <th>bio</th>\n",
              "      <th>RW</th>\n",
              "      <th>is_valid</th>\n",
              "    </tr>\n",
              "  </thead>\n",
              "  <tbody>\n",
              "    <tr>\n",
              "      <th>0</th>\n",
              "      <td>RichardSTOCKDA4</td>\n",
              "      <td>RUGBY LOVING EX PLAYER NOW ONE OF THE PROUD RVS/NHS VOLUNTEERING TEAM ACTIVELY SEEKING OUT/EXPOSING GROOMING GANG MEMBERS</td>\n",
              "      <td>1</td>\n",
              "      <td>1</td>\n",
              "    </tr>\n",
              "    <tr>\n",
              "      <th>1</th>\n",
              "      <td>cold957</td>\n",
              "      <td>#Veteran. 1st Bn Coldstream Guards/Guards Para.\\nWe can forgive a child who is afraid of the dark. The real tragedy of life is when men fear the light.\\nNO DMs.</td>\n",
              "      <td>1</td>\n",
              "      <td>1</td>\n",
              "    </tr>\n",
              "    <tr>\n",
              "      <th>2</th>\n",
              "      <td>leftwant2brite</td>\n",
              "      <td>Be aware of leftwing politics, Jihadists &amp; militant Communists like those in ANTIFA. fascism is totalitarianism born from socialism. It's also an economic syst🧐</td>\n",
              "      <td>1</td>\n",
              "      <td>1</td>\n",
              "    </tr>\n",
              "    <tr>\n",
              "      <th>3</th>\n",
              "      <td>HermioneMidwife</td>\n",
              "      <td>Digital Midwife at the RCM and King’s College Hospital. Women centred, clinically led, digitally driven. FNF Scholar</td>\n",
              "      <td>0</td>\n",
              "      <td>1</td>\n",
              "    </tr>\n",
              "    <tr>\n",
              "      <th>4</th>\n",
              "      <td>scoutingfamily</td>\n",
              "      <td>Professional Football Scout &amp; Player Recruitment Specialist \\n@england @stokecity \\nEngland U17 World Cup Winners 🏆🥇</td>\n",
              "      <td>0</td>\n",
              "      <td>1</td>\n",
              "    </tr>\n",
              "    <tr>\n",
              "      <th>...</th>\n",
              "      <td>...</td>\n",
              "      <td>...</td>\n",
              "      <td>...</td>\n",
              "      <td>...</td>\n",
              "    </tr>\n",
              "    <tr>\n",
              "      <th>502</th>\n",
              "      <td>AlfredWintle</td>\n",
              "      <td>Western virtues such as democracy, free speech, equal &amp; human rights need to be preserved &amp; protected before it’s too late. Love Europe &amp; therefore hate the EU.</td>\n",
              "      <td>1</td>\n",
              "      <td>1</td>\n",
              "    </tr>\n",
              "    <tr>\n",
              "      <th>503</th>\n",
              "      <td>Me1Chri</td>\n",
              "      <td>Journalist forever (I care, write, edit, design, research and study, cook, volunteer). Project Editor. Kingston University, London.</td>\n",
              "      <td>0</td>\n",
              "      <td>1</td>\n",
              "    </tr>\n",
              "    <tr>\n",
              "      <th>504</th>\n",
              "      <td>UK Cop Humour</td>\n",
              "      <td>Simply trying to show the human side of our fantastic Police Officers &amp; raise a bit of money for good causes whilst we're at it! RT's are not an endorsement.</td>\n",
              "      <td>0</td>\n",
              "      <td>1</td>\n",
              "    </tr>\n",
              "    <tr>\n",
              "      <th>505</th>\n",
              "      <td>CopThatCooks</td>\n",
              "      <td>Detective with \\n@WMerciaPolice\\n working in #Worcester CID . Also tweeting as \\n@HistoryCop\\n. Here to engage, explain and encourage.</td>\n",
              "      <td>0</td>\n",
              "      <td>1</td>\n",
              "    </tr>\n",
              "    <tr>\n",
              "      <th>506</th>\n",
              "      <td>Northern_Bobby</td>\n",
              "      <td>Traffic Sgt on a Roads Policing Team somewhere in the UK. Passionate about Traffic and Road SafteyMen holding handsRainbow flag #Taser #TPAC</td>\n",
              "      <td>0</td>\n",
              "      <td>1</td>\n",
              "    </tr>\n",
              "  </tbody>\n",
              "</table>\n",
              "<p>507 rows × 4 columns</p>\n",
              "</div>"
            ],
            "text/plain": [
              "            username  ... is_valid\n",
              "0    RichardSTOCKDA4  ...        1\n",
              "1            cold957  ...        1\n",
              "2     leftwant2brite  ...        1\n",
              "3    HermioneMidwife  ...        1\n",
              "4     scoutingfamily  ...        1\n",
              "..               ...  ...      ...\n",
              "502     AlfredWintle  ...        1\n",
              "503          Me1Chri  ...        1\n",
              "504    UK Cop Humour  ...        1\n",
              "505     CopThatCooks  ...        1\n",
              "506   Northern_Bobby  ...        1\n",
              "\n",
              "[507 rows x 4 columns]"
            ]
          },
          "metadata": {
            "tags": []
          },
          "execution_count": 10
        }
      ]
    },
    {
      "cell_type": "markdown",
      "metadata": {
        "id": "giTJkcYUDXpY",
        "colab_type": "text"
      },
      "source": [
        "FastAI includes the very convenient concept of a \"DataLoader\": a python object that combines all the data you're working with, split into a training and test set, in a format it can work with. \n",
        "\n",
        "For text classication, that object does a lot of the heavy lifting for you. NLP normally requires an awful lot of data-cleaning: you break your text into words, then add special characters to capitalisation, sentence starts, etc. As you can see below, FastAI has done *all of that* in a few lines of code. The down-side is, I'm not hugely clear exactly what it's done, or how I can now read my text."
      ]
    },
    {
      "cell_type": "code",
      "metadata": {
        "id": "7uDWs_lECGVd",
        "colab_type": "code",
        "colab": {
          "base_uri": "https://localhost:8080/",
          "height": 481
        },
        "outputId": "cce16a11-2028-48e9-8a7c-abf7cb9ed1ba"
      },
      "source": [
        "training = training.dropna(axis=0)\n",
        "training[\"RW\"] = training[\"RW\"].astype(\"boolean\")\n",
        "training[\"is_valid\"] = training[\"is_valid\"].astype(\"boolean\")\n",
        "dls = TextDataLoaders.from_df(training, text_col = \"bio\", label_col=\"RW\")\n",
        "dls.show_batch()"
      ],
      "execution_count": 11,
      "outputs": [
        {
          "output_type": "display_data",
          "data": {
            "text/html": [
              ""
            ],
            "text/plain": [
              "<IPython.core.display.HTML object>"
            ]
          },
          "metadata": {
            "tags": []
          }
        },
        {
          "output_type": "display_data",
          "data": {
            "text/html": [
              "<table border=\"1\" class=\"dataframe\">\n",
              "  <thead>\n",
              "    <tr style=\"text-align: right;\">\n",
              "      <th></th>\n",
              "      <th>text</th>\n",
              "      <th>category</th>\n",
              "    </tr>\n",
              "  </thead>\n",
              "  <tbody>\n",
              "    <tr>\n",
              "      <th>0</th>\n",
              "      <td>xxbos xxmaj xxunk xxmaj united , xxmaj welsh xxmaj rugby , xxmaj xxunk , xxmaj xxunk xxmaj xxunk , xxmaj xxunk xxmaj xxunk , xxmaj xxunk , xxmaj the xxmaj xxunk , xxmaj small xxmaj xxunk , xxmaj the xxmaj who , xxmaj the xxmaj xxunk , xxmaj the xxmaj xxunk , xxmaj xxunk , xxmaj xxunk + xxmaj the xxmaj xxunk</td>\n",
              "      <td>False</td>\n",
              "    </tr>\n",
              "    <tr>\n",
              "      <th>1</th>\n",
              "      <td>xxbos xxmaj ex xxunk . xxmaj xxunk . xxmaj xxunk living in xxmaj london . xxmaj england great . xxmaj dislike xxup xxunk . \\n\\n ( xxunk : xxmaj xxunk xxmaj xxunk xxmaj xxunk xxmaj xxunk , xxup xxunk , &amp; xxunk ) \\n ( small : xxmaj xxunk xxmaj xxunk , xxmaj xxunk xxup xxunk ) xxpad xxpad xxpad xxpad xxpad</td>\n",
              "      <td>False</td>\n",
              "    </tr>\n",
              "    <tr>\n",
              "      <th>2</th>\n",
              "      <td>xxbos xxmaj peace , i am xxmaj xxunk , \\n xxmaj xxunk xxmaj xxunk xxmaj xxunk xxmaj xxunk \\n xxmaj xxunk xxmaj xxunk xxmaj xxunk xxmaj xxunk xxmaj xxunk \\n xxmaj follow xxmaj me xxmaj for xxmaj follow xxmaj back \\n xxmaj retweet xxmaj me xxmaj for xxmaj follow xxmaj back \\n xxmaj xxunk xxmaj love xxpad xxpad xxpad xxpad xxpad xxpad</td>\n",
              "      <td>False</td>\n",
              "    </tr>\n",
              "    <tr>\n",
              "      <th>3</th>\n",
              "      <td>xxbos xxmaj loves xxmaj xxunk , xxmaj cats , xxmaj xxunk xxmaj xxunk , xxmaj xxunk xxmaj xxunk , xxmaj xxunk , xxmaj xxunk , xxmaj xxunk xxmaj xxunk , xxmaj the xxmaj xxunk , \\n xxmaj xxunk &amp; xxmaj xxunk . \\n xxmaj art xxunk xxunk - https : / / t.co / xxunk 🙏 xxpad xxpad xxpad xxpad xxpad xxpad</td>\n",
              "      <td>False</td>\n",
              "    </tr>\n",
              "    <tr>\n",
              "      <th>4</th>\n",
              "      <td>xxbos xxmaj xxunk me know when the xxunk xxunk , \\n xxmaj no xxmaj xxunk xxmaj brexit \\n xxmaj if its on the xxup bbc its not true , \\n▁ # defundthebbc \\n▁ # xxup maga , # xxup mbga , # xxunk , # xxunk \\n i xxunk not xxunk of xxmaj xxunk , xxpad xxpad xxpad xxpad xxpad xxpad xxpad</td>\n",
              "      <td>False</td>\n",
              "    </tr>\n",
              "    <tr>\n",
              "      <th>5</th>\n",
              "      <td>xxbos xxmaj love my xxunk xxmaj xxunk fc , xxmaj football , xxmaj xxunk , xxmaj xxunk , xxmaj xxunk and xxmaj xxunk . xxmaj but i love nothing more than my family and xxmaj xxunk xxmaj xxunk xxunk ️ # xxup lfc # xxup xxunk # xxup ynwa \\n\\n xxmaj xxunk - xxmaj xxunk xxpad xxpad xxpad xxpad xxpad xxpad xxpad</td>\n",
              "      <td>False</td>\n",
              "    </tr>\n",
              "    <tr>\n",
              "      <th>6</th>\n",
              "      <td>xxbos xxmaj xxunk . xxup xxunk xxmaj member . xxup xxunk xxmaj member , xxmaj xxunk xxrep 3 i xxmaj member , xxmaj xxunk xxmaj member , xxmaj xxunk not xxmaj xxunk , # xxup xxunk , # xxup xxunk , # xxup xxunk , # xxup xxunk , 🇬 🇧 🇨 xxunk xxpad xxpad xxpad xxpad xxpad xxpad xxpad xxpad xxpad</td>\n",
              "      <td>False</td>\n",
              "    </tr>\n",
              "    <tr>\n",
              "      <th>7</th>\n",
              "      <td>xxbos xxmaj xxunk xxmaj west xxunk live for xxunk xxunk . xxmaj xxunk xxmaj xxunk xxmaj xxunk , hate xxmaj london xxmaj xxunk . xxmaj still a xxup xxunk xxunk block xxunk . xxunk ️ # xxup xxunk # xxmaj xxunk xxrep 3 xxunk # xxunk # xxmaj brexit # xxmaj england xxpad xxpad xxpad xxpad xxpad xxpad xxpad xxpad xxpad xxpad</td>\n",
              "      <td>False</td>\n",
              "    </tr>\n",
              "    <tr>\n",
              "      <th>8</th>\n",
              "      <td>xxbos # xxmaj xxunk . 1st xxmaj xxunk xxmaj xxunk xxmaj xxunk / xxmaj xxunk xxmaj xxunk . \\n xxmaj we can xxunk a xxunk who is afraid of the xxunk . xxmaj the real xxunk of life is when men fear the light . \\n xxup no dms . xxpad xxpad xxpad xxpad xxpad xxpad xxpad xxpad xxpad xxpad xxpad xxpad</td>\n",
              "      <td>True</td>\n",
              "    </tr>\n",
              "  </tbody>\n",
              "</table>"
            ],
            "text/plain": [
              "<IPython.core.display.HTML object>"
            ]
          },
          "metadata": {
            "tags": []
          }
        }
      ]
    },
    {
      "cell_type": "markdown",
      "metadata": {
        "id": "GxVU1nSFD7qt",
        "colab_type": "text"
      },
      "source": [
        "This is the fun bit: learning. Notice hear we aren't starting from scracth: we call the \"fine_tune\" function, because fastAI already contains a model trained on text."
      ]
    },
    {
      "cell_type": "code",
      "metadata": {
        "id": "lk0xtLyyCKmK",
        "colab_type": "code",
        "colab": {
          "base_uri": "https://localhost:8080/",
          "height": 267
        },
        "outputId": "dedbca30-329a-4de0-ff9b-d3775f57c913"
      },
      "source": [
        "learn = text_classifier_learner(dls, AWD_LSTM, drop_mult=0.5, metrics=accuracy)\n",
        "learn.fine_tune(5)\n"
      ],
      "execution_count": 12,
      "outputs": [
        {
          "output_type": "display_data",
          "data": {
            "text/html": [
              ""
            ],
            "text/plain": [
              "<IPython.core.display.HTML object>"
            ]
          },
          "metadata": {
            "tags": []
          }
        },
        {
          "output_type": "display_data",
          "data": {
            "text/html": [
              "<table border=\"1\" class=\"dataframe\">\n",
              "  <thead>\n",
              "    <tr style=\"text-align: left;\">\n",
              "      <th>epoch</th>\n",
              "      <th>train_loss</th>\n",
              "      <th>valid_loss</th>\n",
              "      <th>accuracy</th>\n",
              "      <th>time</th>\n",
              "    </tr>\n",
              "  </thead>\n",
              "  <tbody>\n",
              "    <tr>\n",
              "      <td>0</td>\n",
              "      <td>0.881830</td>\n",
              "      <td>0.655739</td>\n",
              "      <td>0.861386</td>\n",
              "      <td>00:12</td>\n",
              "    </tr>\n",
              "  </tbody>\n",
              "</table>"
            ],
            "text/plain": [
              "<IPython.core.display.HTML object>"
            ]
          },
          "metadata": {
            "tags": []
          }
        },
        {
          "output_type": "display_data",
          "data": {
            "text/html": [
              "<table border=\"1\" class=\"dataframe\">\n",
              "  <thead>\n",
              "    <tr style=\"text-align: left;\">\n",
              "      <th>epoch</th>\n",
              "      <th>train_loss</th>\n",
              "      <th>valid_loss</th>\n",
              "      <th>accuracy</th>\n",
              "      <th>time</th>\n",
              "    </tr>\n",
              "  </thead>\n",
              "  <tbody>\n",
              "    <tr>\n",
              "      <td>0</td>\n",
              "      <td>0.825345</td>\n",
              "      <td>0.595676</td>\n",
              "      <td>0.851485</td>\n",
              "      <td>00:34</td>\n",
              "    </tr>\n",
              "    <tr>\n",
              "      <td>1</td>\n",
              "      <td>0.796265</td>\n",
              "      <td>0.541380</td>\n",
              "      <td>0.891089</td>\n",
              "      <td>00:29</td>\n",
              "    </tr>\n",
              "    <tr>\n",
              "      <td>2</td>\n",
              "      <td>0.784324</td>\n",
              "      <td>0.509539</td>\n",
              "      <td>0.881188</td>\n",
              "      <td>00:28</td>\n",
              "    </tr>\n",
              "    <tr>\n",
              "      <td>3</td>\n",
              "      <td>0.764621</td>\n",
              "      <td>0.497642</td>\n",
              "      <td>0.871287</td>\n",
              "      <td>00:30</td>\n",
              "    </tr>\n",
              "    <tr>\n",
              "      <td>4</td>\n",
              "      <td>0.742817</td>\n",
              "      <td>0.503554</td>\n",
              "      <td>0.801980</td>\n",
              "      <td>00:29</td>\n",
              "    </tr>\n",
              "  </tbody>\n",
              "</table>"
            ],
            "text/plain": [
              "<IPython.core.display.HTML object>"
            ]
          },
          "metadata": {
            "tags": []
          }
        }
      ]
    },
    {
      "cell_type": "code",
      "metadata": {
        "id": "i_iooDOtCLB4",
        "colab_type": "code",
        "colab": {
          "base_uri": "https://localhost:8080/",
          "height": 481
        },
        "outputId": "59afd5fb-440b-4632-cebf-65b863104d49"
      },
      "source": [
        "learn.show_results()"
      ],
      "execution_count": 13,
      "outputs": [
        {
          "output_type": "display_data",
          "data": {
            "text/html": [
              ""
            ],
            "text/plain": [
              "<IPython.core.display.HTML object>"
            ]
          },
          "metadata": {
            "tags": []
          }
        },
        {
          "output_type": "display_data",
          "data": {
            "text/html": [
              "<table border=\"1\" class=\"dataframe\">\n",
              "  <thead>\n",
              "    <tr style=\"text-align: right;\">\n",
              "      <th></th>\n",
              "      <th>text</th>\n",
              "      <th>category</th>\n",
              "      <th>category_</th>\n",
              "    </tr>\n",
              "  </thead>\n",
              "  <tbody>\n",
              "    <tr>\n",
              "      <th>0</th>\n",
              "      <td>xxbos xxmaj xxunk xxmaj of # xxunk xxmaj with xxmaj old # xxup xxunk xxmaj xxunk / s , &amp; # xxup xxunk / # xxup xxunk , u xxup must xxup be xxunk + xxunk xxup me . xxup i 'm xxup open &amp; xxup xxunk xxup about xxup my # xxup xxunk , # xxup xxunk , &amp; xxup life xxunk # xxup xxunk</td>\n",
              "      <td>False</td>\n",
              "      <td>False</td>\n",
              "    </tr>\n",
              "    <tr>\n",
              "      <th>1</th>\n",
              "      <td>xxbos xxmaj bye xxmaj bye xxup eu xxunk xxmaj xxunk so xxunk xxmaj i xxunk only xxunk % xxmaj english with xxunk % xxmaj welsh , xxmaj irish , xxmaj xxunk + little bit of xxmaj xxunk . that ’ll be the xxmaj xxunk side . xxmaj xxunk ; i xxunk back ! xxpad xxpad xxpad xxpad xxpad xxpad xxpad xxpad xxpad xxpad xxpad xxpad xxpad</td>\n",
              "      <td>True</td>\n",
              "      <td>True</td>\n",
              "    </tr>\n",
              "    <tr>\n",
              "      <th>2</th>\n",
              "      <td>xxbos xxmaj xxunk 1 xxmaj xxunk since ' xxunk ; xxup xxunk xxmaj football xxmaj referee ; xxup xxunk xxmaj referee xxmaj xxunk ; xxup xxunk ; xxmaj xxunk - time xxmaj xxunk &amp; xxmaj xxunk xxmaj xxunk . i may xxunk with you but will never xxunk you ! xxpad xxpad xxpad xxpad xxpad xxpad xxpad xxpad xxpad xxpad xxpad xxpad xxpad xxpad xxpad xxpad</td>\n",
              "      <td>False</td>\n",
              "      <td>False</td>\n",
              "    </tr>\n",
              "    <tr>\n",
              "      <th>3</th>\n",
              "      <td>xxbos xxmaj xxunk , the xxunk , xxunk xxunk . xxmaj xxunk xxmaj xxunk . ' i do n't agree xxunk / what u have 2 say , but xxmaj i 'll xxunk 2 xxunk xxunk right 2 say it . ' xxmaj xxunk xxmaj xxunk xxmaj xxunk xxpad xxpad xxpad xxpad xxpad xxpad xxpad xxpad xxpad xxpad xxpad xxpad xxpad xxpad xxpad xxpad xxpad xxpad</td>\n",
              "      <td>False</td>\n",
              "      <td>False</td>\n",
              "    </tr>\n",
              "    <tr>\n",
              "      <th>4</th>\n",
              "      <td>xxbos xxmaj xxunk up with xxmaj all the xxmaj politicians xxunk to us . \\n xxunk \\n xxmaj do nt xxunk me off about xxmaj snowflakes of the world . \\n\\n xxmaj xxunk when xxmaj i 'm out xxunk my bike xxunk or walking my dog 🐶 xxpad xxpad xxpad xxpad xxpad xxpad xxpad xxpad xxpad xxpad xxpad xxpad xxpad xxpad xxpad xxpad xxpad xxpad xxpad</td>\n",
              "      <td>False</td>\n",
              "      <td>False</td>\n",
              "    </tr>\n",
              "    <tr>\n",
              "      <th>5</th>\n",
              "      <td>xxbos xxmaj xxunk with xxup me / xxmaj xxunk 20 xxunk . xxmaj loves - xxmaj xxunk ( my xxunk ) xxunk xxmaj my xxunk , mum , xxunk family . xxmaj dogs ( more than people ! ) 🐶 \\n xxmaj xxunk / xxmaj xxunk xxpad xxpad xxpad xxpad xxpad xxpad xxpad xxpad xxpad xxpad xxpad xxpad xxpad xxpad xxpad xxpad xxpad xxpad xxpad xxpad</td>\n",
              "      <td>False</td>\n",
              "      <td>False</td>\n",
              "    </tr>\n",
              "    <tr>\n",
              "      <th>6</th>\n",
              "      <td>xxbos xxmaj xxunk for xxmaj xxunk , xxmaj xxunk of xxmaj xxunk xxmaj xxunk xxmaj trust . xxmaj xxunk xxmaj xxunk xxmaj xxunk xxmaj xxunk , xxmaj xxunk xxmaj face xxmaj uk , xxmaj supports our xxmaj armed xxmaj forces and our xxmaj emergency services . xxpad xxpad xxpad xxpad xxpad xxpad xxpad xxpad xxpad xxpad xxpad xxpad xxpad xxpad xxpad xxpad xxpad xxpad xxpad xxpad</td>\n",
              "      <td>True</td>\n",
              "      <td>False</td>\n",
              "    </tr>\n",
              "    <tr>\n",
              "      <th>7</th>\n",
              "      <td>xxbos xxmaj xxunk in xxmaj xxunk xxmaj xxunk . xxmaj first xxmaj xxunk xxunk xxunk from xxmaj xxunk . xxmaj xxunk xxunk xxmaj may 1st xxunk . xxunk xxmaj xxunk to xxmaj prem , back to xxunk , back to xxmaj prem in xxunk years ! xxpad xxpad xxpad xxpad xxpad xxpad xxpad xxpad xxpad xxpad xxpad xxpad xxpad xxpad xxpad xxpad xxpad xxpad xxpad xxpad</td>\n",
              "      <td>False</td>\n",
              "      <td>False</td>\n",
              "    </tr>\n",
              "    <tr>\n",
              "      <th>8</th>\n",
              "      <td>xxbos xxmaj xxunk . xxmaj author . xxmaj xxunk with the xxunk from xxmaj xxunk . xxmaj xxunk . xxmaj retweet / follow does n't xxunk xxunk - i use xxunk a lot . xxmaj xxunk but not xxmaj xxunk . xxup xxunk . xxpad xxpad xxpad xxpad xxpad xxpad xxpad xxpad xxpad xxpad xxpad xxpad xxpad xxpad xxpad xxpad xxpad xxpad xxpad xxpad xxpad xxpad</td>\n",
              "      <td>False</td>\n",
              "      <td>False</td>\n",
              "    </tr>\n",
              "  </tbody>\n",
              "</table>"
            ],
            "text/plain": [
              "<IPython.core.display.HTML object>"
            ]
          },
          "metadata": {
            "tags": []
          }
        }
      ]
    },
    {
      "cell_type": "markdown",
      "metadata": {
        "id": "Nv-xG1CbEMhP",
        "colab_type": "text"
      },
      "source": [
        "Now, we can start predicting! FastAI will take any bundle of text and tell you whether it thinks it's right wing or not (based on my coding).  If I'm entirely honest, this doesn't work fantastically - it seems to have decided that the phrase \"Justice for\" is essentially a right wing calling card, which I'm not entirely comfortable with.  That said, the process works!  Ish.  "
      ]
    },
    {
      "cell_type": "code",
      "metadata": {
        "id": "cs4HDda-CPGw",
        "colab_type": "code",
        "colab": {
          "base_uri": "https://localhost:8080/",
          "height": 34
        },
        "outputId": "8421456c-0c2f-4c2e-ab94-104dec8fd131"
      },
      "source": [
        "learn.predict(\"Justice for our Brexit\")"
      ],
      "execution_count": 19,
      "outputs": [
        {
          "output_type": "display_data",
          "data": {
            "text/html": [
              ""
            ],
            "text/plain": [
              "<IPython.core.display.HTML object>"
            ]
          },
          "metadata": {
            "tags": []
          }
        },
        {
          "output_type": "execute_result",
          "data": {
            "text/plain": [
              "('True', tensor(1), tensor([0.3523, 0.6477]))"
            ]
          },
          "metadata": {
            "tags": []
          },
          "execution_count": 19
        }
      ]
    },
    {
      "cell_type": "code",
      "metadata": {
        "id": "yqrDoeUbEc0f",
        "colab_type": "code",
        "colab": {
          "base_uri": "https://localhost:8080/",
          "height": 34
        },
        "outputId": "ebef2c20-562c-413e-eb01-cad1432ac515"
      },
      "source": [
        "learn.predict(\"Hate snowflakes, socialists, and the EU\")"
      ],
      "execution_count": 17,
      "outputs": [
        {
          "output_type": "display_data",
          "data": {
            "text/html": [
              ""
            ],
            "text/plain": [
              "<IPython.core.display.HTML object>"
            ]
          },
          "metadata": {
            "tags": []
          }
        },
        {
          "output_type": "execute_result",
          "data": {
            "text/plain": [
              "('True', tensor(1), tensor([0.2483, 0.7517]))"
            ]
          },
          "metadata": {
            "tags": []
          },
          "execution_count": 17
        }
      ]
    },
    {
      "cell_type": "code",
      "metadata": {
        "id": "ckmTSJ3kElYG",
        "colab_type": "code",
        "colab": {
          "base_uri": "https://localhost:8080/",
          "height": 34
        },
        "outputId": "85894993-d95f-4902-ac65-d6933032d370"
      },
      "source": [
        "learn.predict(\"I love puppies and stuff\")"
      ],
      "execution_count": 20,
      "outputs": [
        {
          "output_type": "display_data",
          "data": {
            "text/html": [
              ""
            ],
            "text/plain": [
              "<IPython.core.display.HTML object>"
            ]
          },
          "metadata": {
            "tags": []
          }
        },
        {
          "output_type": "execute_result",
          "data": {
            "text/plain": [
              "('False', tensor(0), tensor([0.5286, 0.4714]))"
            ]
          },
          "metadata": {
            "tags": []
          },
          "execution_count": 20
        }
      ]
    },
    {
      "cell_type": "code",
      "metadata": {
        "id": "Kql_2ySnCRJ3",
        "colab_type": "code",
        "colab": {
          "base_uri": "https://localhost:8080/",
          "height": 311
        },
        "outputId": "d133cdbd-6bab-44d7-8c2d-cadb266f8a62"
      },
      "source": [
        "interp = ClassificationInterpretation.from_learner(learn)\n",
        "interp.plot_confusion_matrix()"
      ],
      "execution_count": 15,
      "outputs": [
        {
          "output_type": "display_data",
          "data": {
            "text/html": [
              ""
            ],
            "text/plain": [
              "<IPython.core.display.HTML object>"
            ]
          },
          "metadata": {
            "tags": []
          }
        },
        {
          "output_type": "display_data",
          "data": {
            "image/png": "[encoded data removed]",
            "text/plain": [
              "<Figure size 432x288 with 1 Axes>"
            ]
          },
          "metadata": {
            "tags": [],
            "needs_background": "light"
          }
        }
      ]
    },
    {
      "cell_type": "markdown",
      "metadata": {
        "id": "dtLeNH9_E2tZ",
        "colab_type": "text"
      },
      "source": [
        "## The Prototype\n",
        "So, can we convert all this into a working application?  Sure!  Ish. My combining my tweet extractor with sentiment analysis of the tweet text itself (I found [this medium blog post](https://medium.com/better-programming/twitter-sentiment-analysis-15d8892c0082) very helpful) we can analyse for any specific day, the volume of tweets flagged as \"right wing\", and contrast them to the overall messaging, and compare their \"Subjectivity (how subjective or opinionated the text is — a score of 0 is fact, and a score of +1 is very much an opinion) and the other to get the tweets called Polarity (how positive or negative the text is, — score of -1 is the highest negative score, and a score of +1 is the highest positive score)\".\n",
        "\n",
        "While I would have loved to deploy this to Heroku or Binder using Voila, the Pytorch text classification model annoying takes far over 500mb of space, so neither free option will support it - it does look like you can chose to use the CPU pytorch option instead, but frankly it's painful to get the implementation working! "
      ]
    },
    {
      "cell_type": "markdown",
      "metadata": {
        "id": "Lir1SCVYKYja",
        "colab_type": "text"
      },
      "source": [
        "### Helper Functions\n",
        "We start by bringing together all my previous code (as well as some rough sentiment analysis of the text itself) into one chunk, then added widgets."
      ]
    },
    {
      "cell_type": "code",
      "metadata": {
        "id": "qgaV4OXnE6gl",
        "colab_type": "code",
        "colab": {}
      },
      "source": [
        "from textblob import TextBlob\n",
        "from wordcloud import WordCloud\n",
        "import plotly.express as px\n",
        "\n",
        "import ipywidgets as widgets\n",
        "from ipywidgets import interact, interact_manual\n",
        "from ipywidgets import *"
      ],
      "execution_count": 31,
      "outputs": []
    },
    {
      "cell_type": "code",
      "metadata": {
        "id": "9Qap2jaaFHip",
        "colab_type": "code",
        "colab": {}
      },
      "source": [
        "import tweepy\n",
        "import logging\n",
        "from tweepy import API\n",
        "\n",
        "auth = tweepy.OAuthHandler(API_KEY, API_SECRET)\n",
        "auth.set_access_token(ACCESS_TOKEN, ACCESS_TOKEN_SECRET)\n",
        "\n",
        "api = tweepy.API(auth)\n",
        "\n",
        "learn_inf = learn\n",
        "\n",
        "#Tweet cleaning helper function\n",
        "def cleanTxt(text):\n",
        " text = re.sub('@[A-Za-z0–9]+', '', text) #Removing @mentions\n",
        " text = re.sub('#', '', text) # Removing '#' hash tag\n",
        " text = re.sub('RT[\\s]+', '', text) # Removing RT\n",
        " text = re.sub('https?:\\/\\/\\S+', '', text) # Removing hyperlink\n",
        " \n",
        " return text\n",
        "\n",
        "#helper function that pulls the biography of a username using the Twitter api\n",
        "def get_bio(user):\n",
        "  list_of_bios = pd.DataFrame(columns=[\"Users\",\"Bios\"])\n",
        "  i = 100\n",
        "  while i < len(user):\n",
        "    users = user[i-100:i]\n",
        "    test = api.lookup_users(screen_names =users)\n",
        "    for person in test:\n",
        "      list_of_bios = list_of_bios.append({'Users' : person.screen_name , 'Bios' : person.description}, ignore_index=True)\n",
        "    i = i + 100\n",
        "  users = user[i-100:len(user)]\n",
        "  test = api.lookup_users(screen_names =users)\n",
        "  for person in test:\n",
        "      list_of_bios = list_of_bios.append({'Users' : person.screen_name , 'Bios' : person.description}, ignore_index=True)\n",
        "  return list_of_bios\n",
        "\n",
        "\n",
        "def get_label(row):\n",
        "  return row[0]\n",
        "\n",
        "def getSubjectivity(text):\n",
        "   return TextBlob(text).sentiment.subjectivity\n",
        "\n",
        "# Create a function to get the polarity\n",
        "def getPolarity(text):\n",
        "   return  TextBlob(text).sentiment.polarity\n",
        "\n",
        "def cleanTxt(text):\n",
        " text = re.sub('@[A-Za-z0–9]+', '', text) #Removing @mentions\n",
        " text = re.sub('#', '', text) # Removing '#' hash tag\n",
        " text = re.sub('RT[\\s]+', '', text) # Removing RT\n",
        " text = re.sub('https?:\\/\\/\\S+', '', text) # Removing hyperlink\n",
        " \n",
        " return text\n",
        "\n",
        "\n",
        "list_of_new_bios = get_bio(df[\"username\"].tolist())"
      ],
      "execution_count": 32,
      "outputs": []
    },
    {
      "cell_type": "code",
      "metadata": {
        "id": "TeCb2DqSFLo5",
        "colab_type": "code",
        "colab": {}
      },
      "source": [
        "def run_process(user_name, date_from, date_to):\n",
        "\n",
        "  q='to:{}'.format(user_name)\n",
        "\n",
        "  tweetCriteria = got.manager.TweetCriteria().setQuerySearch(q)\\\n",
        "                                            .setSince(date_from)\\\n",
        "                                            .setUntil(date_to)\n",
        "  tweets = got.manager.TweetManager.getTweets(tweetCriteria)\n",
        "\n",
        "  df = pd.DataFrame(tweets)\n",
        "\n",
        "  def get_text(tweet):\n",
        "    return tweet.text\n",
        "\n",
        "  def get_username(tweet):\n",
        "    return tweet.username\n",
        "\n",
        "  df[\"username\"] = df[0].apply(get_username)\n",
        "  df[\"text\"] = df[0].apply(get_text)\n",
        "\n",
        "  bios_df = df.copy()\n",
        "  bios = bios_df.dropna(axis=0, subset=[\"username\"])\n",
        "  bios = bios.drop_duplicates(subset=[\"username\"])\n",
        "\n",
        "  auth = tweepy.OAuthHandler(API_KEY, API_SECRET)\n",
        "  auth.set_access_token(ACCESS_TOKEN, ACCESS_TOKEN_SECRET)\n",
        "\n",
        "  api = tweepy.API(auth)\n",
        "\n",
        "  list_of_new_bios = get_bio(df[\"username\"].tolist())\n",
        "\n",
        "  list_of_new_bios[\"RW_prediction\"] = list_of_new_bios[\"Bios\"].apply(learn_inf.predict)\n",
        "\n",
        "  list_of_new_bios[\"RW_prediction\"] = list_of_new_bios[\"RW_prediction\"].apply(get_label)\n",
        "\n",
        "  list_of_new_bios = list_of_new_bios.rename({\"Users\":\"username\"}, axis=1)\n",
        "\n",
        "  new_df = df.merge(list_of_new_bios, on=[\"username\"])\n",
        "\n",
        "\n",
        "\n",
        "  # Clean the tweets\n",
        "  new_df['clean_text'] = new_df['text'].apply(cleanTxt)\n",
        "\n",
        "    # Create two new columns 'Subjectivity' & 'Polarity'\n",
        "  new_df['Subjectivity'] = new_df['clean_text'].apply(getSubjectivity)\n",
        "  new_df['Polarity'] = new_df['clean_text'].apply(getPolarity)\n",
        "\n",
        "  right_wing_mask = new_df[\"RW_prediction\"] == \"True\"\n",
        "  right_wing = new_df[right_wing_mask]\n",
        "\n",
        "  not_right_wing_mask = new_df[\"RW_prediction\"] == \"False\"\n",
        "  not_right_wing = new_df[not_right_wing_mask]\n",
        "\n",
        "  fig2 = px.scatter(new_df, x=\"Subjectivity\", y=\"Polarity\", color=\"RW_prediction\", trendline=\"ols\", hover_data=[\"Bios\"])\n",
        "  fig2.update_xaxes(range=[-0.1,1.1])\n",
        "  fig2.update_yaxes(range=[-1.1, 1.1])\n",
        "\n",
        "  grouped_by_RW = new_df.groupby(\"RW_prediction\").agg(\n",
        "    count= (\"text\", len),\n",
        "    Subjectivity = (\"Subjectivity\", np.mean),\n",
        "    Polarity = (\"Polarity\", np.mean))\n",
        "  \n",
        "  fig1 = px.bar(grouped_by_RW, y=\"count\", color=grouped_by_RW.index)\n",
        "\n",
        "  final = round(grouped_by_RW[\"count\"].iloc[1] / grouped_by_RW[\"count\"].iloc[0],3) * 100\n",
        "\n",
        "  return grouped_by_RW, fig1, fig2, final"
      ],
      "execution_count": 33,
      "outputs": []
    },
    {
      "cell_type": "code",
      "metadata": {
        "id": "YyRetqlYFNzK",
        "colab_type": "code",
        "colab": {}
      },
      "source": [
        "username_select =widgets.Text(\n",
        "    value='@metpoliceuk',\n",
        "    placeholder='Type something',\n",
        "    description='Username:',\n",
        "    disabled=False\n",
        ")\n",
        "\n",
        "date_from_widget =widgets.Text(\n",
        "    value='2020-08-27',\n",
        "    placeholder='Type something',\n",
        "    description='Date From:',\n",
        "    disabled=False\n",
        ")\n",
        "\n",
        "date_to_widget =widgets.Text(\n",
        "    value='2020-08-28',\n",
        "    placeholder='Type something',\n",
        "    description='Date To:',\n",
        "    disabled=False\n",
        ")\n",
        "\n",
        "def show_graph2(change):\n",
        "  with out_df:\n",
        "    print(\"analysing..\")\n",
        "  results = run_process(username_select.value, date_from_widget.value, date_to_widget.value)\n",
        "  out_df.clear_output()\n",
        "  out_analysis.clear_output()\n",
        "  out_graph1.clear_output()\n",
        "  out_graph2.clear_output()\n",
        "  with out_df:\n",
        "    print(str(results[3]) + \"% RW interactions\")\n",
        "  with out_analysis:\n",
        "    print(results[0])\n",
        "  with out_graph1:\n",
        "    results[1].show()\n",
        "  with out_graph2:\n",
        "    results[2].show()\n",
        "  \n",
        "analyse_button = widgets.Button(description='Analyse')\n",
        "\n",
        "analyse_button.on_click(show_graph2)\n",
        "\n",
        "out_df = widgets.Output(layout={'border': '1px solid black'})\n",
        "out_analysis = widgets.Output(layout={'border': '1px solid black'})\n",
        "out_graph1 = widgets.Output(layout={'border': '1px solid black'})\n",
        "out_graph2 = widgets.Output(layout={'border': '1px solid black'})\n"
      ],
      "execution_count": 34,
      "outputs": []
    },
    {
      "cell_type": "markdown",
      "metadata": {
        "id": "v0dFF7k8GFUp",
        "colab_type": "text"
      },
      "source": [
        "### The Product\n",
        "Finally, my working product - given a user-name and two dates, it will pull all tweets on those dates, run the sentiment analysis, show the ratio of right-wing tweets, and the sentiment on those. Here I've specifically picked the day Dawn Butler was stopped by police, and notice how right wing "
      ]
    },
    {
      "cell_type": "code",
      "metadata": {
        "id": "fzNyPc4gFOT9",
        "colab_type": "code",
        "colab": {
          "base_uri": "https://localhost:8080/",
          "height": 35
        },
        "outputId": "77335869-38a5-45f0-b61a-a53b5921e203"
      },
      "source": [
        "'''VBox([widgets.Label('Tweet Monitor'),\n",
        "      username_select, date_from_widget, date_to_widget, analyse_button, out_df, out_analysis, out_graph1, out_graph2])'''"
      ],
      "execution_count": 37,
      "outputs": [
        {
          "output_type": "execute_result",
          "data": {
            "application/vnd.google.colaboratory.intrinsic+json": {
              "type": "string"
            },
            "text/plain": [
              "\"VBox([widgets.Label('Tweet Monitor'),\\n      username_select, date_from_widget, date_to_widget, analyse_button, out_df, out_analysis, out_graph1, out_graph2])\""
            ]
          },
          "metadata": {
            "tags": []
          },
          "execution_count": 37
        }
      ]
    },
    {
      "cell_type": "code",
      "metadata": {
        "id": "rBj54Rd3MuXv",
        "colab_type": "code",
        "colab": {
          "base_uri": "https://localhost:8080/",
          "height": 17
        },
        "outputId": "c58178d7-43d1-4524-b105-3bdaf3641be7"
      },
      "source": [
        "grouped_by_RW, fig1, fig2, final = run_process(\"@MetPoliceUK\", \"2020-08-09\",\"2020-08-10\")"
      ],
      "execution_count": 38,
      "outputs": [
        {
          "output_type": "display_data",
          "data": {
            "text/html": [
              ""
            ],
            "text/plain": [
              "<IPython.core.display.HTML object>"
            ]
          },
          "metadata": {
            "tags": []
          }
        },
        {
          "output_type": "display_data",
          "data": {
            "text/html": [
              ""
            ],
            "text/plain": [
              "<IPython.core.display.HTML object>"
            ]
          },
          "metadata": {
            "tags": []
          }
        },
        {
          "output_type": "display_data",
          "data": {
            "text/html": [
              ""
            ],
            "text/plain": [
              "<IPython.core.display.HTML object>"
            ]
          },
          "metadata": {
            "tags": []
          }
        },
        {
          "output_type": "display_data",
          "data": {
            "text/html": [
              ""
            ],
            "text/plain": [
              "<IPython.core.display.HTML object>"
            ]
          },
          "metadata": {
            "tags": []
          }
        },
        {
          "output_type": "display_data",
          "data": {
            "text/html": [
              ""
            ],
            "text/plain": [
              "<IPython.core.display.HTML object>"
            ]
          },
          "metadata": {
            "tags": []
          }
        },
        {
          "output_type": "display_data",
          "data": {
            "text/html": [
              ""
            ],
            "text/plain": [
              "<IPython.core.display.HTML object>"
            ]
          },
          "metadata": {
            "tags": []
          }
        },
        {
          "output_type": "display_data",
          "data": {
            "text/html": [
              ""
            ],
            "text/plain": [
              "<IPython.core.display.HTML object>"
            ]
          },
          "metadata": {
            "tags": []
          }
        },
        {
          "output_type": "display_data",
          "data": {
            "text/html": [
              ""
            ],
            "text/plain": [
              "<IPython.core.display.HTML object>"
            ]
          },
          "metadata": {
            "tags": []
          }
        },
        {
          "output_type": "display_data",
          "data": {
            "text/html": [
              ""
            ],
            "text/plain": [
              "<IPython.core.display.HTML object>"
            ]
          },
          "metadata": {
            "tags": []
          }
        },
        {
          "output_type": "display_data",
          "data": {
            "text/html": [
              ""
            ],
            "text/plain": [
              "<IPython.core.display.HTML object>"
            ]
          },
          "metadata": {
            "tags": []
          }
        },
        {
          "output_type": "display_data",
          "data": {
            "text/html": [
              ""
            ],
            "text/plain": [
              "<IPython.core.display.HTML object>"
            ]
          },
          "metadata": {
            "tags": []
          }
        },
        {
          "output_type": "display_data",
          "data": {
            "text/html": [
              ""
            ],
            "text/plain": [
              "<IPython.core.display.HTML object>"
            ]
          },
          "metadata": {
            "tags": []
          }
        },
        {
          "output_type": "display_data",
          "data": {
            "text/html": [
              ""
            ],
            "text/plain": [
              "<IPython.core.display.HTML object>"
            ]
          },
          "metadata": {
            "tags": []
          }
        },
        {
          "output_type": "display_data",
          "data": {
            "text/html": [
              ""
            ],
            "text/plain": [
              "<IPython.core.display.HTML object>"
            ]
          },
          "metadata": {
            "tags": []
          }
        },
        {
          "output_type": "display_data",
          "data": {
            "text/html": [
              ""
            ],
            "text/plain": [
              "<IPython.core.display.HTML object>"
            ]
          },
          "metadata": {
            "tags": []
          }
        },
        {
          "output_type": "display_data",
          "data": {
            "text/html": [
              ""
            ],
            "text/plain": [
              "<IPython.core.display.HTML object>"
            ]
          },
          "metadata": {
            "tags": []
          }
        },
        {
          "output_type": "display_data",
          "data": {
            "text/html": [
              ""
            ],
            "text/plain": [
              "<IPython.core.display.HTML object>"
            ]
          },
          "metadata": {
            "tags": []
          }
        },
        {
          "output_type": "display_data",
          "data": {
            "text/html": [
              ""
            ],
            "text/plain": [
              "<IPython.core.display.HTML object>"
            ]
          },
          "metadata": {
            "tags": []
          }
        },
        {
          "output_type": "display_data",
          "data": {
            "text/html": [
              ""
            ],
            "text/plain": [
              "<IPython.core.display.HTML object>"
            ]
          },
          "metadata": {
            "tags": []
          }
        },
        {
          "output_type": "display_data",
          "data": {
            "text/html": [
              ""
            ],
            "text/plain": [
              "<IPython.core.display.HTML object>"
            ]
          },
          "metadata": {
            "tags": []
          }
        },
        {
          "output_type": "display_data",
          "data": {
            "text/html": [
              ""
            ],
            "text/plain": [
              "<IPython.core.display.HTML object>"
            ]
          },
          "metadata": {
            "tags": []
          }
        },
        {
          "output_type": "display_data",
          "data": {
            "text/html": [
              ""
            ],
            "text/plain": [
              "<IPython.core.display.HTML object>"
            ]
          },
          "metadata": {
            "tags": []
          }
        },
        {
          "output_type": "display_data",
          "data": {
            "text/html": [
              ""
            ],
            "text/plain": [
              "<IPython.core.display.HTML object>"
            ]
          },
          "metadata": {
            "tags": []
          }
        },
        {
          "output_type": "display_data",
          "data": {
            "text/html": [
              ""
            ],
            "text/plain": [
              "<IPython.core.display.HTML object>"
            ]
          },
          "metadata": {
            "tags": []
          }
        },
        {
          "output_type": "display_data",
          "data": {
            "text/html": [
              ""
            ],
            "text/plain": [
              "<IPython.core.display.HTML object>"
            ]
          },
          "metadata": {
            "tags": []
          }
        },
        {
          "output_type": "display_data",
          "data": {
            "text/html": [
              ""
            ],
            "text/plain": [
              "<IPython.core.display.HTML object>"
            ]
          },
          "metadata": {
            "tags": []
          }
        },
        {
          "output_type": "display_data",
          "data": {
            "text/html": [
              ""
            ],
            "text/plain": [
              "<IPython.core.display.HTML object>"
            ]
          },
          "metadata": {
            "tags": []
          }
        },
        {
          "output_type": "display_data",
          "data": {
            "text/html": [
              ""
            ],
            "text/plain": [
              "<IPython.core.display.HTML object>"
            ]
          },
          "metadata": {
            "tags": []
          }
        },
        {
          "output_type": "display_data",
          "data": {
            "text/html": [
              ""
            ],
            "text/plain": [
              "<IPython.core.display.HTML object>"
            ]
          },
          "metadata": {
            "tags": []
          }
        },
        {
          "output_type": "display_data",
          "data": {
            "text/html": [
              ""
            ],
            "text/plain": [
              "<IPython.core.display.HTML object>"
            ]
          },
          "metadata": {
            "tags": []
          }
        },
        {
          "output_type": "display_data",
          "data": {
            "text/html": [
              ""
            ],
            "text/plain": [
              "<IPython.core.display.HTML object>"
            ]
          },
          "metadata": {
            "tags": []
          }
        },
        {
          "output_type": "display_data",
          "data": {
            "text/html": [
              ""
            ],
            "text/plain": [
              "<IPython.core.display.HTML object>"
            ]
          },
          "metadata": {
            "tags": []
          }
        },
        {
          "output_type": "display_data",
          "data": {
            "text/html": [
              ""
            ],
            "text/plain": [
              "<IPython.core.display.HTML object>"
            ]
          },
          "metadata": {
            "tags": []
          }
        },
        {
          "output_type": "display_data",
          "data": {
            "text/html": [
              ""
            ],
            "text/plain": [
              "<IPython.core.display.HTML object>"
            ]
          },
          "metadata": {
            "tags": []
          }
        },
        {
          "output_type": "display_data",
          "data": {
            "text/html": [
              ""
            ],
            "text/plain": [
              "<IPython.core.display.HTML object>"
            ]
          },
          "metadata": {
            "tags": []
          }
        },
        {
          "output_type": "display_data",
          "data": {
            "text/html": [
              ""
            ],
            "text/plain": [
              "<IPython.core.display.HTML object>"
            ]
          },
          "metadata": {
            "tags": []
          }
        },
        {
          "output_type": "display_data",
          "data": {
            "text/html": [
              ""
            ],
            "text/plain": [
              "<IPython.core.display.HTML object>"
            ]
          },
          "metadata": {
            "tags": []
          }
        },
        {
          "output_type": "display_data",
          "data": {
            "text/html": [
              ""
            ],
            "text/plain": [
              "<IPython.core.display.HTML object>"
            ]
          },
          "metadata": {
            "tags": []
          }
        },
        {
          "output_type": "display_data",
          "data": {
            "text/html": [
              ""
            ],
            "text/plain": [
              "<IPython.core.display.HTML object>"
            ]
          },
          "metadata": {
            "tags": []
          }
        },
        {
          "output_type": "display_data",
          "data": {
            "text/html": [
              ""
            ],
            "text/plain": [
              "<IPython.core.display.HTML object>"
            ]
          },
          "metadata": {
            "tags": []
          }
        },
        {
          "output_type": "display_data",
          "data": {
            "text/html": [
              ""
            ],
            "text/plain": [
              "<IPython.core.display.HTML object>"
            ]
          },
          "metadata": {
            "tags": []
          }
        },
        {
          "output_type": "display_data",
          "data": {
            "text/html": [
              ""
            ],
            "text/plain": [
              "<IPython.core.display.HTML object>"
            ]
          },
          "metadata": {
            "tags": []
          }
        },
        {
          "output_type": "display_data",
          "data": {
            "text/html": [
              ""
            ],
            "text/plain": [
              "<IPython.core.display.HTML object>"
            ]
          },
          "metadata": {
            "tags": []
          }
        },
        {
          "output_type": "display_data",
          "data": {
            "text/html": [
              ""
            ],
            "text/plain": [
              "<IPython.core.display.HTML object>"
            ]
          },
          "metadata": {
            "tags": []
          }
        },
        {
          "output_type": "display_data",
          "data": {
            "text/html": [
              ""
            ],
            "text/plain": [
              "<IPython.core.display.HTML object>"
            ]
          },
          "metadata": {
            "tags": []
          }
        },
        {
          "output_type": "display_data",
          "data": {
            "text/html": [
              ""
            ],
            "text/plain": [
              "<IPython.core.display.HTML object>"
            ]
          },
          "metadata": {
            "tags": []
          }
        },
        {
          "output_type": "display_data",
          "data": {
            "text/html": [
              ""
            ],
            "text/plain": [
              "<IPython.core.display.HTML object>"
            ]
          },
          "metadata": {
            "tags": []
          }
        },
        {
          "output_type": "display_data",
          "data": {
            "text/html": [
              ""
            ],
            "text/plain": [
              "<IPython.core.display.HTML object>"
            ]
          },
          "metadata": {
            "tags": []
          }
        },
        {
          "output_type": "display_data",
          "data": {
            "text/html": [
              ""
            ],
            "text/plain": [
              "<IPython.core.display.HTML object>"
            ]
          },
          "metadata": {
            "tags": []
          }
        },
        {
          "output_type": "display_data",
          "data": {
            "text/html": [
              ""
            ],
            "text/plain": [
              "<IPython.core.display.HTML object>"
            ]
          },
          "metadata": {
            "tags": []
          }
        },
        {
          "output_type": "display_data",
          "data": {
            "text/html": [
              ""
            ],
            "text/plain": [
              "<IPython.core.display.HTML object>"
            ]
          },
          "metadata": {
            "tags": []
          }
        },
        {
          "output_type": "display_data",
          "data": {
            "text/html": [
              ""
            ],
            "text/plain": [
              "<IPython.core.display.HTML object>"
            ]
          },
          "metadata": {
            "tags": []
          }
        },
        {
          "output_type": "display_data",
          "data": {
            "text/html": [
              ""
            ],
            "text/plain": [
              "<IPython.core.display.HTML object>"
            ]
          },
          "metadata": {
            "tags": []
          }
        },
        {
          "output_type": "display_data",
          "data": {
            "text/html": [
              ""
            ],
            "text/plain": [
              "<IPython.core.display.HTML object>"
            ]
          },
          "metadata": {
            "tags": []
          }
        },
        {
          "output_type": "display_data",
          "data": {
            "text/html": [
              ""
            ],
            "text/plain": [
              "<IPython.core.display.HTML object>"
            ]
          },
          "metadata": {
            "tags": []
          }
        },
        {
          "output_type": "display_data",
          "data": {
            "text/html": [
              ""
            ],
            "text/plain": [
              "<IPython.core.display.HTML object>"
            ]
          },
          "metadata": {
            "tags": []
          }
        },
        {
          "output_type": "display_data",
          "data": {
            "text/html": [
              ""
            ],
            "text/plain": [
              "<IPython.core.display.HTML object>"
            ]
          },
          "metadata": {
            "tags": []
          }
        },
        {
          "output_type": "display_data",
          "data": {
            "text/html": [
              ""
            ],
            "text/plain": [
              "<IPython.core.display.HTML object>"
            ]
          },
          "metadata": {
            "tags": []
          }
        },
        {
          "output_type": "display_data",
          "data": {
            "text/html": [
              ""
            ],
            "text/plain": [
              "<IPython.core.display.HTML object>"
            ]
          },
          "metadata": {
            "tags": []
          }
        },
        {
          "output_type": "display_data",
          "data": {
            "text/html": [
              ""
            ],
            "text/plain": [
              "<IPython.core.display.HTML object>"
            ]
          },
          "metadata": {
            "tags": []
          }
        },
        {
          "output_type": "display_data",
          "data": {
            "text/html": [
              ""
            ],
            "text/plain": [
              "<IPython.core.display.HTML object>"
            ]
          },
          "metadata": {
            "tags": []
          }
        },
        {
          "output_type": "display_data",
          "data": {
            "text/html": [
              ""
            ],
            "text/plain": [
              "<IPython.core.display.HTML object>"
            ]
          },
          "metadata": {
            "tags": []
          }
        },
        {
          "output_type": "display_data",
          "data": {
            "text/html": [
              ""
            ],
            "text/plain": [
              "<IPython.core.display.HTML object>"
            ]
          },
          "metadata": {
            "tags": []
          }
        },
        {
          "output_type": "display_data",
          "data": {
            "text/html": [
              ""
            ],
            "text/plain": [
              "<IPython.core.display.HTML object>"
            ]
          },
          "metadata": {
            "tags": []
          }
        },
        {
          "output_type": "display_data",
          "data": {
            "text/html": [
              ""
            ],
            "text/plain": [
              "<IPython.core.display.HTML object>"
            ]
          },
          "metadata": {
            "tags": []
          }
        },
        {
          "output_type": "display_data",
          "data": {
            "text/html": [
              ""
            ],
            "text/plain": [
              "<IPython.core.display.HTML object>"
            ]
          },
          "metadata": {
            "tags": []
          }
        },
        {
          "output_type": "display_data",
          "data": {
            "text/html": [
              ""
            ],
            "text/plain": [
              "<IPython.core.display.HTML object>"
            ]
          },
          "metadata": {
            "tags": []
          }
        },
        {
          "output_type": "display_data",
          "data": {
            "text/html": [
              ""
            ],
            "text/plain": [
              "<IPython.core.display.HTML object>"
            ]
          },
          "metadata": {
            "tags": []
          }
        },
        {
          "output_type": "display_data",
          "data": {
            "text/html": [
              ""
            ],
            "text/plain": [
              "<IPython.core.display.HTML object>"
            ]
          },
          "metadata": {
            "tags": []
          }
        },
        {
          "output_type": "display_data",
          "data": {
            "text/html": [
              ""
            ],
            "text/plain": [
              "<IPython.core.display.HTML object>"
            ]
          },
          "metadata": {
            "tags": []
          }
        },
        {
          "output_type": "display_data",
          "data": {
            "text/html": [
              ""
            ],
            "text/plain": [
              "<IPython.core.display.HTML object>"
            ]
          },
          "metadata": {
            "tags": []
          }
        },
        {
          "output_type": "display_data",
          "data": {
            "text/html": [
              ""
            ],
            "text/plain": [
              "<IPython.core.display.HTML object>"
            ]
          },
          "metadata": {
            "tags": []
          }
        },
        {
          "output_type": "display_data",
          "data": {
            "text/html": [
              ""
            ],
            "text/plain": [
              "<IPython.core.display.HTML object>"
            ]
          },
          "metadata": {
            "tags": []
          }
        },
        {
          "output_type": "display_data",
          "data": {
            "text/html": [
              ""
            ],
            "text/plain": [
              "<IPython.core.display.HTML object>"
            ]
          },
          "metadata": {
            "tags": []
          }
        },
        {
          "output_type": "display_data",
          "data": {
            "text/html": [
              ""
            ],
            "text/plain": [
              "<IPython.core.display.HTML object>"
            ]
          },
          "metadata": {
            "tags": []
          }
        },
        {
          "output_type": "display_data",
          "data": {
            "text/html": [
              ""
            ],
            "text/plain": [
              "<IPython.core.display.HTML object>"
            ]
          },
          "metadata": {
            "tags": []
          }
        },
        {
          "output_type": "display_data",
          "data": {
            "text/html": [
              ""
            ],
            "text/plain": [
              "<IPython.core.display.HTML object>"
            ]
          },
          "metadata": {
            "tags": []
          }
        },
        {
          "output_type": "display_data",
          "data": {
            "text/html": [
              ""
            ],
            "text/plain": [
              "<IPython.core.display.HTML object>"
            ]
          },
          "metadata": {
            "tags": []
          }
        },
        {
          "output_type": "display_data",
          "data": {
            "text/html": [
              ""
            ],
            "text/plain": [
              "<IPython.core.display.HTML object>"
            ]
          },
          "metadata": {
            "tags": []
          }
        },
        {
          "output_type": "display_data",
          "data": {
            "text/html": [
              ""
            ],
            "text/plain": [
              "<IPython.core.display.HTML object>"
            ]
          },
          "metadata": {
            "tags": []
          }
        },
        {
          "output_type": "display_data",
          "data": {
            "text/html": [
              ""
            ],
            "text/plain": [
              "<IPython.core.display.HTML object>"
            ]
          },
          "metadata": {
            "tags": []
          }
        },
        {
          "output_type": "display_data",
          "data": {
            "text/html": [
              ""
            ],
            "text/plain": [
              "<IPython.core.display.HTML object>"
            ]
          },
          "metadata": {
            "tags": []
          }
        },
        {
          "output_type": "display_data",
          "data": {
            "text/html": [
              ""
            ],
            "text/plain": [
              "<IPython.core.display.HTML object>"
            ]
          },
          "metadata": {
            "tags": []
          }
        },
        {
          "output_type": "display_data",
          "data": {
            "text/html": [
              ""
            ],
            "text/plain": [
              "<IPython.core.display.HTML object>"
            ]
          },
          "metadata": {
            "tags": []
          }
        },
        {
          "output_type": "display_data",
          "data": {
            "text/html": [
              ""
            ],
            "text/plain": [
              "<IPython.core.display.HTML object>"
            ]
          },
          "metadata": {
            "tags": []
          }
        },
        {
          "output_type": "display_data",
          "data": {
            "text/html": [
              ""
            ],
            "text/plain": [
              "<IPython.core.display.HTML object>"
            ]
          },
          "metadata": {
            "tags": []
          }
        },
        {
          "output_type": "display_data",
          "data": {
            "text/html": [
              ""
            ],
            "text/plain": [
              "<IPython.core.display.HTML object>"
            ]
          },
          "metadata": {
            "tags": []
          }
        },
        {
          "output_type": "display_data",
          "data": {
            "text/html": [
              ""
            ],
            "text/plain": [
              "<IPython.core.display.HTML object>"
            ]
          },
          "metadata": {
            "tags": []
          }
        },
        {
          "output_type": "display_data",
          "data": {
            "text/html": [
              ""
            ],
            "text/plain": [
              "<IPython.core.display.HTML object>"
            ]
          },
          "metadata": {
            "tags": []
          }
        },
        {
          "output_type": "display_data",
          "data": {
            "text/html": [
              ""
            ],
            "text/plain": [
              "<IPython.core.display.HTML object>"
            ]
          },
          "metadata": {
            "tags": []
          }
        },
        {
          "output_type": "display_data",
          "data": {
            "text/html": [
              ""
            ],
            "text/plain": [
              "<IPython.core.display.HTML object>"
            ]
          },
          "metadata": {
            "tags": []
          }
        },
        {
          "output_type": "display_data",
          "data": {
            "text/html": [
              ""
            ],
            "text/plain": [
              "<IPython.core.display.HTML object>"
            ]
          },
          "metadata": {
            "tags": []
          }
        },
        {
          "output_type": "display_data",
          "data": {
            "text/html": [
              ""
            ],
            "text/plain": [
              "<IPython.core.display.HTML object>"
            ]
          },
          "metadata": {
            "tags": []
          }
        },
        {
          "output_type": "display_data",
          "data": {
            "text/html": [
              ""
            ],
            "text/plain": [
              "<IPython.core.display.HTML object>"
            ]
          },
          "metadata": {
            "tags": []
          }
        },
        {
          "output_type": "display_data",
          "data": {
            "text/html": [
              ""
            ],
            "text/plain": [
              "<IPython.core.display.HTML object>"
            ]
          },
          "metadata": {
            "tags": []
          }
        },
        {
          "output_type": "display_data",
          "data": {
            "text/html": [
              ""
            ],
            "text/plain": [
              "<IPython.core.display.HTML object>"
            ]
          },
          "metadata": {
            "tags": []
          }
        },
        {
          "output_type": "display_data",
          "data": {
            "text/html": [
              ""
            ],
            "text/plain": [
              "<IPython.core.display.HTML object>"
            ]
          },
          "metadata": {
            "tags": []
          }
        },
        {
          "output_type": "display_data",
          "data": {
            "text/html": [
              ""
            ],
            "text/plain": [
              "<IPython.core.display.HTML object>"
            ]
          },
          "metadata": {
            "tags": []
          }
        },
        {
          "output_type": "display_data",
          "data": {
            "text/html": [
              ""
            ],
            "text/plain": [
              "<IPython.core.display.HTML object>"
            ]
          },
          "metadata": {
            "tags": []
          }
        },
        {
          "output_type": "display_data",
          "data": {
            "text/html": [
              ""
            ],
            "text/plain": [
              "<IPython.core.display.HTML object>"
            ]
          },
          "metadata": {
            "tags": []
          }
        },
        {
          "output_type": "display_data",
          "data": {
            "text/html": [
              ""
            ],
            "text/plain": [
              "<IPython.core.display.HTML object>"
            ]
          },
          "metadata": {
            "tags": []
          }
        },
        {
          "output_type": "display_data",
          "data": {
            "text/html": [
              ""
            ],
            "text/plain": [
              "<IPython.core.display.HTML object>"
            ]
          },
          "metadata": {
            "tags": []
          }
        },
        {
          "output_type": "display_data",
          "data": {
            "text/html": [
              ""
            ],
            "text/plain": [
              "<IPython.core.display.HTML object>"
            ]
          },
          "metadata": {
            "tags": []
          }
        },
        {
          "output_type": "display_data",
          "data": {
            "text/html": [
              ""
            ],
            "text/plain": [
              "<IPython.core.display.HTML object>"
            ]
          },
          "metadata": {
            "tags": []
          }
        },
        {
          "output_type": "display_data",
          "data": {
            "text/html": [
              ""
            ],
            "text/plain": [
              "<IPython.core.display.HTML object>"
            ]
          },
          "metadata": {
            "tags": []
          }
        },
        {
          "output_type": "display_data",
          "data": {
            "text/html": [
              ""
            ],
            "text/plain": [
              "<IPython.core.display.HTML object>"
            ]
          },
          "metadata": {
            "tags": []
          }
        },
        {
          "output_type": "display_data",
          "data": {
            "text/html": [
              ""
            ],
            "text/plain": [
              "<IPython.core.display.HTML object>"
            ]
          },
          "metadata": {
            "tags": []
          }
        },
        {
          "output_type": "display_data",
          "data": {
            "text/html": [
              ""
            ],
            "text/plain": [
              "<IPython.core.display.HTML object>"
            ]
          },
          "metadata": {
            "tags": []
          }
        },
        {
          "output_type": "display_data",
          "data": {
            "text/html": [
              ""
            ],
            "text/plain": [
              "<IPython.core.display.HTML object>"
            ]
          },
          "metadata": {
            "tags": []
          }
        },
        {
          "output_type": "display_data",
          "data": {
            "text/html": [
              ""
            ],
            "text/plain": [
              "<IPython.core.display.HTML object>"
            ]
          },
          "metadata": {
            "tags": []
          }
        },
        {
          "output_type": "display_data",
          "data": {
            "text/html": [
              ""
            ],
            "text/plain": [
              "<IPython.core.display.HTML object>"
            ]
          },
          "metadata": {
            "tags": []
          }
        },
        {
          "output_type": "display_data",
          "data": {
            "text/html": [
              ""
            ],
            "text/plain": [
              "<IPython.core.display.HTML object>"
            ]
          },
          "metadata": {
            "tags": []
          }
        },
        {
          "output_type": "display_data",
          "data": {
            "text/html": [
              ""
            ],
            "text/plain": [
              "<IPython.core.display.HTML object>"
            ]
          },
          "metadata": {
            "tags": []
          }
        },
        {
          "output_type": "display_data",
          "data": {
            "text/html": [
              ""
            ],
            "text/plain": [
              "<IPython.core.display.HTML object>"
            ]
          },
          "metadata": {
            "tags": []
          }
        },
        {
          "output_type": "display_data",
          "data": {
            "text/html": [
              ""
            ],
            "text/plain": [
              "<IPython.core.display.HTML object>"
            ]
          },
          "metadata": {
            "tags": []
          }
        },
        {
          "output_type": "display_data",
          "data": {
            "text/html": [
              ""
            ],
            "text/plain": [
              "<IPython.core.display.HTML object>"
            ]
          },
          "metadata": {
            "tags": []
          }
        },
        {
          "output_type": "display_data",
          "data": {
            "text/html": [
              ""
            ],
            "text/plain": [
              "<IPython.core.display.HTML object>"
            ]
          },
          "metadata": {
            "tags": []
          }
        },
        {
          "output_type": "display_data",
          "data": {
            "text/html": [
              ""
            ],
            "text/plain": [
              "<IPython.core.display.HTML object>"
            ]
          },
          "metadata": {
            "tags": []
          }
        },
        {
          "output_type": "display_data",
          "data": {
            "text/html": [
              ""
            ],
            "text/plain": [
              "<IPython.core.display.HTML object>"
            ]
          },
          "metadata": {
            "tags": []
          }
        },
        {
          "output_type": "display_data",
          "data": {
            "text/html": [
              ""
            ],
            "text/plain": [
              "<IPython.core.display.HTML object>"
            ]
          },
          "metadata": {
            "tags": []
          }
        },
        {
          "output_type": "display_data",
          "data": {
            "text/html": [
              ""
            ],
            "text/plain": [
              "<IPython.core.display.HTML object>"
            ]
          },
          "metadata": {
            "tags": []
          }
        },
        {
          "output_type": "display_data",
          "data": {
            "text/html": [
              ""
            ],
            "text/plain": [
              "<IPython.core.display.HTML object>"
            ]
          },
          "metadata": {
            "tags": []
          }
        },
        {
          "output_type": "display_data",
          "data": {
            "text/html": [
              ""
            ],
            "text/plain": [
              "<IPython.core.display.HTML object>"
            ]
          },
          "metadata": {
            "tags": []
          }
        },
        {
          "output_type": "display_data",
          "data": {
            "text/html": [
              ""
            ],
            "text/plain": [
              "<IPython.core.display.HTML object>"
            ]
          },
          "metadata": {
            "tags": []
          }
        },
        {
          "output_type": "display_data",
          "data": {
            "text/html": [
              ""
            ],
            "text/plain": [
              "<IPython.core.display.HTML object>"
            ]
          },
          "metadata": {
            "tags": []
          }
        },
        {
          "output_type": "display_data",
          "data": {
            "text/html": [
              ""
            ],
            "text/plain": [
              "<IPython.core.display.HTML object>"
            ]
          },
          "metadata": {
            "tags": []
          }
        },
        {
          "output_type": "display_data",
          "data": {
            "text/html": [
              ""
            ],
            "text/plain": [
              "<IPython.core.display.HTML object>"
            ]
          },
          "metadata": {
            "tags": []
          }
        },
        {
          "output_type": "display_data",
          "data": {
            "text/html": [
              ""
            ],
            "text/plain": [
              "<IPython.core.display.HTML object>"
            ]
          },
          "metadata": {
            "tags": []
          }
        },
        {
          "output_type": "display_data",
          "data": {
            "text/html": [
              ""
            ],
            "text/plain": [
              "<IPython.core.display.HTML object>"
            ]
          },
          "metadata": {
            "tags": []
          }
        },
        {
          "output_type": "display_data",
          "data": {
            "text/html": [
              ""
            ],
            "text/plain": [
              "<IPython.core.display.HTML object>"
            ]
          },
          "metadata": {
            "tags": []
          }
        },
        {
          "output_type": "display_data",
          "data": {
            "text/html": [
              ""
            ],
            "text/plain": [
              "<IPython.core.display.HTML object>"
            ]
          },
          "metadata": {
            "tags": []
          }
        },
        {
          "output_type": "display_data",
          "data": {
            "text/html": [
              ""
            ],
            "text/plain": [
              "<IPython.core.display.HTML object>"
            ]
          },
          "metadata": {
            "tags": []
          }
        },
        {
          "output_type": "display_data",
          "data": {
            "text/html": [
              ""
            ],
            "text/plain": [
              "<IPython.core.display.HTML object>"
            ]
          },
          "metadata": {
            "tags": []
          }
        },
        {
          "output_type": "display_data",
          "data": {
            "text/html": [
              ""
            ],
            "text/plain": [
              "<IPython.core.display.HTML object>"
            ]
          },
          "metadata": {
            "tags": []
          }
        },
        {
          "output_type": "display_data",
          "data": {
            "text/html": [
              ""
            ],
            "text/plain": [
              "<IPython.core.display.HTML object>"
            ]
          },
          "metadata": {
            "tags": []
          }
        },
        {
          "output_type": "display_data",
          "data": {
            "text/html": [
              ""
            ],
            "text/plain": [
              "<IPython.core.display.HTML object>"
            ]
          },
          "metadata": {
            "tags": []
          }
        },
        {
          "output_type": "display_data",
          "data": {
            "text/html": [
              ""
            ],
            "text/plain": [
              "<IPython.core.display.HTML object>"
            ]
          },
          "metadata": {
            "tags": []
          }
        },
        {
          "output_type": "display_data",
          "data": {
            "text/html": [
              ""
            ],
            "text/plain": [
              "<IPython.core.display.HTML object>"
            ]
          },
          "metadata": {
            "tags": []
          }
        },
        {
          "output_type": "display_data",
          "data": {
            "text/html": [
              ""
            ],
            "text/plain": [
              "<IPython.core.display.HTML object>"
            ]
          },
          "metadata": {
            "tags": []
          }
        },
        {
          "output_type": "display_data",
          "data": {
            "text/html": [
              ""
            ],
            "text/plain": [
              "<IPython.core.display.HTML object>"
            ]
          },
          "metadata": {
            "tags": []
          }
        },
        {
          "output_type": "display_data",
          "data": {
            "text/html": [
              ""
            ],
            "text/plain": [
              "<IPython.core.display.HTML object>"
            ]
          },
          "metadata": {
            "tags": []
          }
        },
        {
          "output_type": "display_data",
          "data": {
            "text/html": [
              ""
            ],
            "text/plain": [
              "<IPython.core.display.HTML object>"
            ]
          },
          "metadata": {
            "tags": []
          }
        },
        {
          "output_type": "display_data",
          "data": {
            "text/html": [
              ""
            ],
            "text/plain": [
              "<IPython.core.display.HTML object>"
            ]
          },
          "metadata": {
            "tags": []
          }
        },
        {
          "output_type": "display_data",
          "data": {
            "text/html": [
              ""
            ],
            "text/plain": [
              "<IPython.core.display.HTML object>"
            ]
          },
          "metadata": {
            "tags": []
          }
        },
        {
          "output_type": "display_data",
          "data": {
            "text/html": [
              ""
            ],
            "text/plain": [
              "<IPython.core.display.HTML object>"
            ]
          },
          "metadata": {
            "tags": []
          }
        },
        {
          "output_type": "display_data",
          "data": {
            "text/html": [
              ""
            ],
            "text/plain": [
              "<IPython.core.display.HTML object>"
            ]
          },
          "metadata": {
            "tags": []
          }
        },
        {
          "output_type": "display_data",
          "data": {
            "text/html": [
              ""
            ],
            "text/plain": [
              "<IPython.core.display.HTML object>"
            ]
          },
          "metadata": {
            "tags": []
          }
        },
        {
          "output_type": "display_data",
          "data": {
            "text/html": [
              ""
            ],
            "text/plain": [
              "<IPython.core.display.HTML object>"
            ]
          },
          "metadata": {
            "tags": []
          }
        },
        {
          "output_type": "display_data",
          "data": {
            "text/html": [
              ""
            ],
            "text/plain": [
              "<IPython.core.display.HTML object>"
            ]
          },
          "metadata": {
            "tags": []
          }
        },
        {
          "output_type": "display_data",
          "data": {
            "text/html": [
              ""
            ],
            "text/plain": [
              "<IPython.core.display.HTML object>"
            ]
          },
          "metadata": {
            "tags": []
          }
        },
        {
          "output_type": "display_data",
          "data": {
            "text/html": [
              ""
            ],
            "text/plain": [
              "<IPython.core.display.HTML object>"
            ]
          },
          "metadata": {
            "tags": []
          }
        },
        {
          "output_type": "display_data",
          "data": {
            "text/html": [
              ""
            ],
            "text/plain": [
              "<IPython.core.display.HTML object>"
            ]
          },
          "metadata": {
            "tags": []
          }
        },
        {
          "output_type": "display_data",
          "data": {
            "text/html": [
              ""
            ],
            "text/plain": [
              "<IPython.core.display.HTML object>"
            ]
          },
          "metadata": {
            "tags": []
          }
        },
        {
          "output_type": "display_data",
          "data": {
            "text/html": [
              ""
            ],
            "text/plain": [
              "<IPython.core.display.HTML object>"
            ]
          },
          "metadata": {
            "tags": []
          }
        },
        {
          "output_type": "display_data",
          "data": {
            "text/html": [
              ""
            ],
            "text/plain": [
              "<IPython.core.display.HTML object>"
            ]
          },
          "metadata": {
            "tags": []
          }
        },
        {
          "output_type": "display_data",
          "data": {
            "text/html": [
              ""
            ],
            "text/plain": [
              "<IPython.core.display.HTML object>"
            ]
          },
          "metadata": {
            "tags": []
          }
        },
        {
          "output_type": "display_data",
          "data": {
            "text/html": [
              ""
            ],
            "text/plain": [
              "<IPython.core.display.HTML object>"
            ]
          },
          "metadata": {
            "tags": []
          }
        },
        {
          "output_type": "display_data",
          "data": {
            "text/html": [
              ""
            ],
            "text/plain": [
              "<IPython.core.display.HTML object>"
            ]
          },
          "metadata": {
            "tags": []
          }
        },
        {
          "output_type": "display_data",
          "data": {
            "text/html": [
              ""
            ],
            "text/plain": [
              "<IPython.core.display.HTML object>"
            ]
          },
          "metadata": {
            "tags": []
          }
        },
        {
          "output_type": "display_data",
          "data": {
            "text/html": [
              ""
            ],
            "text/plain": [
              "<IPython.core.display.HTML object>"
            ]
          },
          "metadata": {
            "tags": []
          }
        },
        {
          "output_type": "display_data",
          "data": {
            "text/html": [
              ""
            ],
            "text/plain": [
              "<IPython.core.display.HTML object>"
            ]
          },
          "metadata": {
            "tags": []
          }
        },
        {
          "output_type": "display_data",
          "data": {
            "text/html": [
              ""
            ],
            "text/plain": [
              "<IPython.core.display.HTML object>"
            ]
          },
          "metadata": {
            "tags": []
          }
        },
        {
          "output_type": "display_data",
          "data": {
            "text/html": [
              ""
            ],
            "text/plain": [
              "<IPython.core.display.HTML object>"
            ]
          },
          "metadata": {
            "tags": []
          }
        },
        {
          "output_type": "display_data",
          "data": {
            "text/html": [
              ""
            ],
            "text/plain": [
              "<IPython.core.display.HTML object>"
            ]
          },
          "metadata": {
            "tags": []
          }
        },
        {
          "output_type": "display_data",
          "data": {
            "text/html": [
              ""
            ],
            "text/plain": [
              "<IPython.core.display.HTML object>"
            ]
          },
          "metadata": {
            "tags": []
          }
        },
        {
          "output_type": "display_data",
          "data": {
            "text/html": [
              ""
            ],
            "text/plain": [
              "<IPython.core.display.HTML object>"
            ]
          },
          "metadata": {
            "tags": []
          }
        },
        {
          "output_type": "display_data",
          "data": {
            "text/html": [
              ""
            ],
            "text/plain": [
              "<IPython.core.display.HTML object>"
            ]
          },
          "metadata": {
            "tags": []
          }
        },
        {
          "output_type": "display_data",
          "data": {
            "text/html": [
              ""
            ],
            "text/plain": [
              "<IPython.core.display.HTML object>"
            ]
          },
          "metadata": {
            "tags": []
          }
        },
        {
          "output_type": "display_data",
          "data": {
            "text/html": [
              ""
            ],
            "text/plain": [
              "<IPython.core.display.HTML object>"
            ]
          },
          "metadata": {
            "tags": []
          }
        },
        {
          "output_type": "display_data",
          "data": {
            "text/html": [
              ""
            ],
            "text/plain": [
              "<IPython.core.display.HTML object>"
            ]
          },
          "metadata": {
            "tags": []
          }
        },
        {
          "output_type": "display_data",
          "data": {
            "text/html": [
              ""
            ],
            "text/plain": [
              "<IPython.core.display.HTML object>"
            ]
          },
          "metadata": {
            "tags": []
          }
        },
        {
          "output_type": "display_data",
          "data": {
            "text/html": [
              ""
            ],
            "text/plain": [
              "<IPython.core.display.HTML object>"
            ]
          },
          "metadata": {
            "tags": []
          }
        },
        {
          "output_type": "display_data",
          "data": {
            "text/html": [
              ""
            ],
            "text/plain": [
              "<IPython.core.display.HTML object>"
            ]
          },
          "metadata": {
            "tags": []
          }
        },
        {
          "output_type": "display_data",
          "data": {
            "text/html": [
              ""
            ],
            "text/plain": [
              "<IPython.core.display.HTML object>"
            ]
          },
          "metadata": {
            "tags": []
          }
        },
        {
          "output_type": "display_data",
          "data": {
            "text/html": [
              ""
            ],
            "text/plain": [
              "<IPython.core.display.HTML object>"
            ]
          },
          "metadata": {
            "tags": []
          }
        },
        {
          "output_type": "display_data",
          "data": {
            "text/html": [
              ""
            ],
            "text/plain": [
              "<IPython.core.display.HTML object>"
            ]
          },
          "metadata": {
            "tags": []
          }
        },
        {
          "output_type": "display_data",
          "data": {
            "text/html": [
              ""
            ],
            "text/plain": [
              "<IPython.core.display.HTML object>"
            ]
          },
          "metadata": {
            "tags": []
          }
        },
        {
          "output_type": "display_data",
          "data": {
            "text/html": [
              ""
            ],
            "text/plain": [
              "<IPython.core.display.HTML object>"
            ]
          },
          "metadata": {
            "tags": []
          }
        },
        {
          "output_type": "display_data",
          "data": {
            "text/html": [
              ""
            ],
            "text/plain": [
              "<IPython.core.display.HTML object>"
            ]
          },
          "metadata": {
            "tags": []
          }
        },
        {
          "output_type": "display_data",
          "data": {
            "text/html": [
              ""
            ],
            "text/plain": [
              "<IPython.core.display.HTML object>"
            ]
          },
          "metadata": {
            "tags": []
          }
        },
        {
          "output_type": "display_data",
          "data": {
            "text/html": [
              ""
            ],
            "text/plain": [
              "<IPython.core.display.HTML object>"
            ]
          },
          "metadata": {
            "tags": []
          }
        },
        {
          "output_type": "display_data",
          "data": {
            "text/html": [
              ""
            ],
            "text/plain": [
              "<IPython.core.display.HTML object>"
            ]
          },
          "metadata": {
            "tags": []
          }
        },
        {
          "output_type": "display_data",
          "data": {
            "text/html": [
              ""
            ],
            "text/plain": [
              "<IPython.core.display.HTML object>"
            ]
          },
          "metadata": {
            "tags": []
          }
        },
        {
          "output_type": "display_data",
          "data": {
            "text/html": [
              ""
            ],
            "text/plain": [
              "<IPython.core.display.HTML object>"
            ]
          },
          "metadata": {
            "tags": []
          }
        },
        {
          "output_type": "display_data",
          "data": {
            "text/html": [
              ""
            ],
            "text/plain": [
              "<IPython.core.display.HTML object>"
            ]
          },
          "metadata": {
            "tags": []
          }
        },
        {
          "output_type": "display_data",
          "data": {
            "text/html": [
              ""
            ],
            "text/plain": [
              "<IPython.core.display.HTML object>"
            ]
          },
          "metadata": {
            "tags": []
          }
        },
        {
          "output_type": "display_data",
          "data": {
            "text/html": [
              ""
            ],
            "text/plain": [
              "<IPython.core.display.HTML object>"
            ]
          },
          "metadata": {
            "tags": []
          }
        },
        {
          "output_type": "display_data",
          "data": {
            "text/html": [
              ""
            ],
            "text/plain": [
              "<IPython.core.display.HTML object>"
            ]
          },
          "metadata": {
            "tags": []
          }
        },
        {
          "output_type": "display_data",
          "data": {
            "text/html": [
              ""
            ],
            "text/plain": [
              "<IPython.core.display.HTML object>"
            ]
          },
          "metadata": {
            "tags": []
          }
        },
        {
          "output_type": "display_data",
          "data": {
            "text/html": [
              ""
            ],
            "text/plain": [
              "<IPython.core.display.HTML object>"
            ]
          },
          "metadata": {
            "tags": []
          }
        },
        {
          "output_type": "display_data",
          "data": {
            "text/html": [
              ""
            ],
            "text/plain": [
              "<IPython.core.display.HTML object>"
            ]
          },
          "metadata": {
            "tags": []
          }
        },
        {
          "output_type": "display_data",
          "data": {
            "text/html": [
              ""
            ],
            "text/plain": [
              "<IPython.core.display.HTML object>"
            ]
          },
          "metadata": {
            "tags": []
          }
        },
        {
          "output_type": "display_data",
          "data": {
            "text/html": [
              ""
            ],
            "text/plain": [
              "<IPython.core.display.HTML object>"
            ]
          },
          "metadata": {
            "tags": []
          }
        },
        {
          "output_type": "display_data",
          "data": {
            "text/html": [
              ""
            ],
            "text/plain": [
              "<IPython.core.display.HTML object>"
            ]
          },
          "metadata": {
            "tags": []
          }
        },
        {
          "output_type": "display_data",
          "data": {
            "text/html": [
              ""
            ],
            "text/plain": [
              "<IPython.core.display.HTML object>"
            ]
          },
          "metadata": {
            "tags": []
          }
        },
        {
          "output_type": "display_data",
          "data": {
            "text/html": [
              ""
            ],
            "text/plain": [
              "<IPython.core.display.HTML object>"
            ]
          },
          "metadata": {
            "tags": []
          }
        },
        {
          "output_type": "display_data",
          "data": {
            "text/html": [
              ""
            ],
            "text/plain": [
              "<IPython.core.display.HTML object>"
            ]
          },
          "metadata": {
            "tags": []
          }
        },
        {
          "output_type": "display_data",
          "data": {
            "text/html": [
              ""
            ],
            "text/plain": [
              "<IPython.core.display.HTML object>"
            ]
          },
          "metadata": {
            "tags": []
          }
        },
        {
          "output_type": "display_data",
          "data": {
            "text/html": [
              ""
            ],
            "text/plain": [
              "<IPython.core.display.HTML object>"
            ]
          },
          "metadata": {
            "tags": []
          }
        },
        {
          "output_type": "display_data",
          "data": {
            "text/html": [
              ""
            ],
            "text/plain": [
              "<IPython.core.display.HTML object>"
            ]
          },
          "metadata": {
            "tags": []
          }
        },
        {
          "output_type": "display_data",
          "data": {
            "text/html": [
              ""
            ],
            "text/plain": [
              "<IPython.core.display.HTML object>"
            ]
          },
          "metadata": {
            "tags": []
          }
        },
        {
          "output_type": "display_data",
          "data": {
            "text/html": [
              ""
            ],
            "text/plain": [
              "<IPython.core.display.HTML object>"
            ]
          },
          "metadata": {
            "tags": []
          }
        },
        {
          "output_type": "display_data",
          "data": {
            "text/html": [
              ""
            ],
            "text/plain": [
              "<IPython.core.display.HTML object>"
            ]
          },
          "metadata": {
            "tags": []
          }
        },
        {
          "output_type": "display_data",
          "data": {
            "text/html": [
              ""
            ],
            "text/plain": [
              "<IPython.core.display.HTML object>"
            ]
          },
          "metadata": {
            "tags": []
          }
        },
        {
          "output_type": "display_data",
          "data": {
            "text/html": [
              ""
            ],
            "text/plain": [
              "<IPython.core.display.HTML object>"
            ]
          },
          "metadata": {
            "tags": []
          }
        },
        {
          "output_type": "display_data",
          "data": {
            "text/html": [
              ""
            ],
            "text/plain": [
              "<IPython.core.display.HTML object>"
            ]
          },
          "metadata": {
            "tags": []
          }
        },
        {
          "output_type": "display_data",
          "data": {
            "text/html": [
              ""
            ],
            "text/plain": [
              "<IPython.core.display.HTML object>"
            ]
          },
          "metadata": {
            "tags": []
          }
        },
        {
          "output_type": "display_data",
          "data": {
            "text/html": [
              ""
            ],
            "text/plain": [
              "<IPython.core.display.HTML object>"
            ]
          },
          "metadata": {
            "tags": []
          }
        },
        {
          "output_type": "display_data",
          "data": {
            "text/html": [
              ""
            ],
            "text/plain": [
              "<IPython.core.display.HTML object>"
            ]
          },
          "metadata": {
            "tags": []
          }
        },
        {
          "output_type": "display_data",
          "data": {
            "text/html": [
              ""
            ],
            "text/plain": [
              "<IPython.core.display.HTML object>"
            ]
          },
          "metadata": {
            "tags": []
          }
        },
        {
          "output_type": "display_data",
          "data": {
            "text/html": [
              ""
            ],
            "text/plain": [
              "<IPython.core.display.HTML object>"
            ]
          },
          "metadata": {
            "tags": []
          }
        },
        {
          "output_type": "display_data",
          "data": {
            "text/html": [
              ""
            ],
            "text/plain": [
              "<IPython.core.display.HTML object>"
            ]
          },
          "metadata": {
            "tags": []
          }
        },
        {
          "output_type": "display_data",
          "data": {
            "text/html": [
              ""
            ],
            "text/plain": [
              "<IPython.core.display.HTML object>"
            ]
          },
          "metadata": {
            "tags": []
          }
        },
        {
          "output_type": "display_data",
          "data": {
            "text/html": [
              ""
            ],
            "text/plain": [
              "<IPython.core.display.HTML object>"
            ]
          },
          "metadata": {
            "tags": []
          }
        },
        {
          "output_type": "display_data",
          "data": {
            "text/html": [
              ""
            ],
            "text/plain": [
              "<IPython.core.display.HTML object>"
            ]
          },
          "metadata": {
            "tags": []
          }
        },
        {
          "output_type": "display_data",
          "data": {
            "text/html": [
              ""
            ],
            "text/plain": [
              "<IPython.core.display.HTML object>"
            ]
          },
          "metadata": {
            "tags": []
          }
        },
        {
          "output_type": "display_data",
          "data": {
            "text/html": [
              ""
            ],
            "text/plain": [
              "<IPython.core.display.HTML object>"
            ]
          },
          "metadata": {
            "tags": []
          }
        },
        {
          "output_type": "display_data",
          "data": {
            "text/html": [
              ""
            ],
            "text/plain": [
              "<IPython.core.display.HTML object>"
            ]
          },
          "metadata": {
            "tags": []
          }
        },
        {
          "output_type": "display_data",
          "data": {
            "text/html": [
              ""
            ],
            "text/plain": [
              "<IPython.core.display.HTML object>"
            ]
          },
          "metadata": {
            "tags": []
          }
        },
        {
          "output_type": "display_data",
          "data": {
            "text/html": [
              ""
            ],
            "text/plain": [
              "<IPython.core.display.HTML object>"
            ]
          },
          "metadata": {
            "tags": []
          }
        },
        {
          "output_type": "display_data",
          "data": {
            "text/html": [
              ""
            ],
            "text/plain": [
              "<IPython.core.display.HTML object>"
            ]
          },
          "metadata": {
            "tags": []
          }
        },
        {
          "output_type": "display_data",
          "data": {
            "text/html": [
              ""
            ],
            "text/plain": [
              "<IPython.core.display.HTML object>"
            ]
          },
          "metadata": {
            "tags": []
          }
        },
        {
          "output_type": "display_data",
          "data": {
            "text/html": [
              ""
            ],
            "text/plain": [
              "<IPython.core.display.HTML object>"
            ]
          },
          "metadata": {
            "tags": []
          }
        },
        {
          "output_type": "display_data",
          "data": {
            "text/html": [
              ""
            ],
            "text/plain": [
              "<IPython.core.display.HTML object>"
            ]
          },
          "metadata": {
            "tags": []
          }
        },
        {
          "output_type": "display_data",
          "data": {
            "text/html": [
              ""
            ],
            "text/plain": [
              "<IPython.core.display.HTML object>"
            ]
          },
          "metadata": {
            "tags": []
          }
        },
        {
          "output_type": "display_data",
          "data": {
            "text/html": [
              ""
            ],
            "text/plain": [
              "<IPython.core.display.HTML object>"
            ]
          },
          "metadata": {
            "tags": []
          }
        },
        {
          "output_type": "display_data",
          "data": {
            "text/html": [
              ""
            ],
            "text/plain": [
              "<IPython.core.display.HTML object>"
            ]
          },
          "metadata": {
            "tags": []
          }
        },
        {
          "output_type": "display_data",
          "data": {
            "text/html": [
              ""
            ],
            "text/plain": [
              "<IPython.core.display.HTML object>"
            ]
          },
          "metadata": {
            "tags": []
          }
        },
        {
          "output_type": "display_data",
          "data": {
            "text/html": [
              ""
            ],
            "text/plain": [
              "<IPython.core.display.HTML object>"
            ]
          },
          "metadata": {
            "tags": []
          }
        },
        {
          "output_type": "display_data",
          "data": {
            "text/html": [
              ""
            ],
            "text/plain": [
              "<IPython.core.display.HTML object>"
            ]
          },
          "metadata": {
            "tags": []
          }
        },
        {
          "output_type": "display_data",
          "data": {
            "text/html": [
              ""
            ],
            "text/plain": [
              "<IPython.core.display.HTML object>"
            ]
          },
          "metadata": {
            "tags": []
          }
        },
        {
          "output_type": "display_data",
          "data": {
            "text/html": [
              ""
            ],
            "text/plain": [
              "<IPython.core.display.HTML object>"
            ]
          },
          "metadata": {
            "tags": []
          }
        },
        {
          "output_type": "display_data",
          "data": {
            "text/html": [
              ""
            ],
            "text/plain": [
              "<IPython.core.display.HTML object>"
            ]
          },
          "metadata": {
            "tags": []
          }
        },
        {
          "output_type": "display_data",
          "data": {
            "text/html": [
              ""
            ],
            "text/plain": [
              "<IPython.core.display.HTML object>"
            ]
          },
          "metadata": {
            "tags": []
          }
        },
        {
          "output_type": "display_data",
          "data": {
            "text/html": [
              ""
            ],
            "text/plain": [
              "<IPython.core.display.HTML object>"
            ]
          },
          "metadata": {
            "tags": []
          }
        },
        {
          "output_type": "display_data",
          "data": {
            "text/html": [
              ""
            ],
            "text/plain": [
              "<IPython.core.display.HTML object>"
            ]
          },
          "metadata": {
            "tags": []
          }
        },
        {
          "output_type": "display_data",
          "data": {
            "text/html": [
              ""
            ],
            "text/plain": [
              "<IPython.core.display.HTML object>"
            ]
          },
          "metadata": {
            "tags": []
          }
        },
        {
          "output_type": "display_data",
          "data": {
            "text/html": [
              ""
            ],
            "text/plain": [
              "<IPython.core.display.HTML object>"
            ]
          },
          "metadata": {
            "tags": []
          }
        },
        {
          "output_type": "display_data",
          "data": {
            "text/html": [
              ""
            ],
            "text/plain": [
              "<IPython.core.display.HTML object>"
            ]
          },
          "metadata": {
            "tags": []
          }
        },
        {
          "output_type": "display_data",
          "data": {
            "text/html": [
              ""
            ],
            "text/plain": [
              "<IPython.core.display.HTML object>"
            ]
          },
          "metadata": {
            "tags": []
          }
        },
        {
          "output_type": "display_data",
          "data": {
            "text/html": [
              ""
            ],
            "text/plain": [
              "<IPython.core.display.HTML object>"
            ]
          },
          "metadata": {
            "tags": []
          }
        }
      ]
    },
    {
      "cell_type": "code",
      "metadata": {
        "id": "EshrpsILNY6-",
        "colab_type": "code",
        "colab": {
          "base_uri": "https://localhost:8080/",
          "height": 142
        },
        "outputId": "05f6b29f-b0a2-4b48-f7f9-0e1dd391e1e4"
      },
      "source": [
        "grouped_by_RW"
      ],
      "execution_count": 39,
      "outputs": [
        {
          "output_type": "execute_result",
          "data": {
            "text/html": [
              "<div>\n",
              "<style scoped>\n",
              "    .dataframe tbody tr th:only-of-type {\n",
              "        vertical-align: middle;\n",
              "    }\n",
              "\n",
              "    .dataframe tbody tr th {\n",
              "        vertical-align: top;\n",
              "    }\n",
              "\n",
              "    .dataframe thead th {\n",
              "        text-align: right;\n",
              "    }\n",
              "</style>\n",
              "<table border=\"1\" class=\"dataframe\">\n",
              "  <thead>\n",
              "    <tr style=\"text-align: right;\">\n",
              "      <th></th>\n",
              "      <th>count</th>\n",
              "      <th>Subjectivity</th>\n",
              "      <th>Polarity</th>\n",
              "    </tr>\n",
              "    <tr>\n",
              "      <th>RW_prediction</th>\n",
              "      <th></th>\n",
              "      <th></th>\n",
              "      <th></th>\n",
              "    </tr>\n",
              "  </thead>\n",
              "  <tbody>\n",
              "    <tr>\n",
              "      <th>False</th>\n",
              "      <td>258</td>\n",
              "      <td>0.267133</td>\n",
              "      <td>-0.001350</td>\n",
              "    </tr>\n",
              "    <tr>\n",
              "      <th>True</th>\n",
              "      <td>30</td>\n",
              "      <td>0.241813</td>\n",
              "      <td>0.054455</td>\n",
              "    </tr>\n",
              "  </tbody>\n",
              "</table>\n",
              "</div>"
            ],
            "text/plain": [
              "               count  Subjectivity  Polarity\n",
              "RW_prediction                               \n",
              "False            258      0.267133 -0.001350\n",
              "True              30      0.241813  0.054455"
            ]
          },
          "metadata": {
            "tags": []
          },
          "execution_count": 39
        }
      ]
    },
    {
      "cell_type": "code",
      "metadata": {
        "id": "keNh38DPM9ib",
        "colab_type": "code",
        "colab": {
          "base_uri": "https://localhost:8080/",
          "height": 542
        },
        "outputId": "07e87cf5-1f8f-470d-c743-76e3be77ef0e"
      },
      "source": [
        "fig1"
      ],
      "execution_count": 40,
      "outputs": [
        {
          "output_type": "display_data",
          "data": {
            "text/html": [
              "<html>\n",
              "<head><meta charset=\"utf-8\" /></head>\n",
              "<body>\n",
              "    <div>\n",
              "            <script src=\"https://cdnjs.cloudflare.com/ajax/libs/mathjax/2.7.5/MathJax.js?config=TeX-AMS-MML_SVG\"></script><script type=\"text/javascript\">if (window.MathJax) {MathJax.Hub.Config({SVG: {font: \"STIX-Web\"}});}</script>\n",
              "                <script type=\"text/javascript\">window.PlotlyConfig = {MathJaxConfig: 'local'};</script>\n",
              "        <script src=\"https://cdn.plot.ly/plotly-latest.min.js\"></script>    \n",
              "            <div id=\"dfc563a8-12b5-4a74-ba00-e0c602e9ea94\" class=\"plotly-graph-div\" style=\"height:525px; width:100%;\"></div>\n",
              "            <script type=\"text/javascript\">\n",
              "                \n",
              "                    window.PLOTLYENV=window.PLOTLYENV || {};\n",
              "                    \n",
              "                if (document.getElementById(\"dfc563a8-12b5-4a74-ba00-e0c602e9ea94\")) {\n",
              "                    Plotly.newPlot(\n",
              "                        'dfc563a8-12b5-4a74-ba00-e0c602e9ea94',\n",
              "                        [{\"alignmentgroup\": \"True\", \"hoverlabel\": {\"namelength\": 0}, \"hovertemplate\": \"color=False<br>count=%{y}\", \"legendgroup\": \"color=False\", \"marker\": {\"color\": \"#636efa\"}, \"name\": \"color=False\", \"offsetgroup\": \"color=False\", \"orientation\": \"v\", \"showlegend\": true, \"textposition\": \"auto\", \"type\": \"bar\", \"xaxis\": \"x\", \"y\": [258], \"yaxis\": \"y\"}, {\"alignmentgroup\": \"True\", \"hoverlabel\": {\"namelength\": 0}, \"hovertemplate\": \"color=True<br>count=%{y}\", \"legendgroup\": \"color=True\", \"marker\": {\"color\": \"#EF553B\"}, \"name\": \"color=True\", \"offsetgroup\": \"color=True\", \"orientation\": \"v\", \"showlegend\": true, \"textposition\": \"auto\", \"type\": \"bar\", \"xaxis\": \"x\", \"y\": [30], \"yaxis\": \"y\"}],\n",
              "                        {\"barmode\": \"relative\", \"legend\": {\"tracegroupgap\": 0}, \"margin\": {\"t\": 60}, \"template\": {\"data\": {\"bar\": [{\"error_x\": {\"color\": \"#2a3f5f\"}, \"error_y\": {\"color\": \"#2a3f5f\"}, \"marker\": {\"line\": {\"color\": \"#E5ECF6\", \"width\": 0.5}}, \"type\": \"bar\"}], \"barpolar\": [{\"marker\": {\"line\": {\"color\": \"#E5ECF6\", \"width\": 0.5}}, \"type\": \"barpolar\"}], \"carpet\": [{\"aaxis\": {\"endlinecolor\": \"#2a3f5f\", \"gridcolor\": \"white\", \"linecolor\": \"white\", \"minorgridcolor\": \"white\", \"startlinecolor\": \"#2a3f5f\"}, \"baxis\": {\"endlinecolor\": \"#2a3f5f\", \"gridcolor\": \"white\", \"linecolor\": \"white\", \"minorgridcolor\": \"white\", \"startlinecolor\": \"#2a3f5f\"}, \"type\": \"carpet\"}], \"choropleth\": [{\"colorbar\": {\"outlinewidth\": 0, \"ticks\": \"\"}, \"type\": \"choropleth\"}], \"contour\": [{\"colorbar\": {\"outlinewidth\": 0, \"ticks\": \"\"}, \"colorscale\": [[0.0, \"#0d0887\"], [0.1111111111111111, \"#46039f\"], [0.2222222222222222, \"#7201a8\"], [0.3333333333333333, \"#9c179e\"], [0.4444444444444444, \"#bd3786\"], [0.5555555555555556, \"#d8576b\"], [0.6666666666666666, \"#ed7953\"], [0.7777777777777778, \"#fb9f3a\"], [0.8888888888888888, \"#fdca26\"], [1.0, \"#f0f921\"]], \"type\": \"contour\"}], \"contourcarpet\": [{\"colorbar\": {\"outlinewidth\": 0, \"ticks\": \"\"}, \"type\": \"contourcarpet\"}], \"heatmap\": [{\"colorbar\": {\"outlinewidth\": 0, \"ticks\": \"\"}, \"colorscale\": [[0.0, \"#0d0887\"], [0.1111111111111111, \"#46039f\"], [0.2222222222222222, \"#7201a8\"], [0.3333333333333333, \"#9c179e\"], [0.4444444444444444, \"#bd3786\"], [0.5555555555555556, \"#d8576b\"], [0.6666666666666666, \"#ed7953\"], [0.7777777777777778, \"#fb9f3a\"], [0.8888888888888888, \"#fdca26\"], [1.0, \"#f0f921\"]], \"type\": \"heatmap\"}], \"heatmapgl\": [{\"colorbar\": {\"outlinewidth\": 0, \"ticks\": \"\"}, \"colorscale\": [[0.0, \"#0d0887\"], [0.1111111111111111, \"#46039f\"], [0.2222222222222222, \"#7201a8\"], [0.3333333333333333, \"#9c179e\"], [0.4444444444444444, \"#bd3786\"], [0.5555555555555556, \"#d8576b\"], [0.6666666666666666, \"#ed7953\"], [0.7777777777777778, \"#fb9f3a\"], [0.8888888888888888, \"#fdca26\"], [1.0, \"#f0f921\"]], \"type\": \"heatmapgl\"}], \"histogram\": [{\"marker\": {\"colorbar\": {\"outlinewidth\": 0, \"ticks\": \"\"}}, \"type\": \"histogram\"}], \"histogram2d\": [{\"colorbar\": {\"outlinewidth\": 0, \"ticks\": \"\"}, \"colorscale\": [[0.0, \"#0d0887\"], [0.1111111111111111, \"#46039f\"], [0.2222222222222222, \"#7201a8\"], [0.3333333333333333, \"#9c179e\"], [0.4444444444444444, \"#bd3786\"], [0.5555555555555556, \"#d8576b\"], [0.6666666666666666, \"#ed7953\"], [0.7777777777777778, \"#fb9f3a\"], [0.8888888888888888, \"#fdca26\"], [1.0, \"#f0f921\"]], \"type\": \"histogram2d\"}], \"histogram2dcontour\": [{\"colorbar\": {\"outlinewidth\": 0, \"ticks\": \"\"}, \"colorscale\": [[0.0, \"#0d0887\"], [0.1111111111111111, \"#46039f\"], [0.2222222222222222, \"#7201a8\"], [0.3333333333333333, \"#9c179e\"], [0.4444444444444444, \"#bd3786\"], [0.5555555555555556, \"#d8576b\"], [0.6666666666666666, \"#ed7953\"], [0.7777777777777778, \"#fb9f3a\"], [0.8888888888888888, \"#fdca26\"], [1.0, \"#f0f921\"]], \"type\": \"histogram2dcontour\"}], \"mesh3d\": [{\"colorbar\": {\"outlinewidth\": 0, \"ticks\": \"\"}, \"type\": \"mesh3d\"}], \"parcoords\": [{\"line\": {\"colorbar\": {\"outlinewidth\": 0, \"ticks\": \"\"}}, \"type\": \"parcoords\"}], \"pie\": [{\"automargin\": true, \"type\": \"pie\"}], \"scatter\": [{\"marker\": {\"colorbar\": {\"outlinewidth\": 0, \"ticks\": \"\"}}, \"type\": \"scatter\"}], \"scatter3d\": [{\"line\": {\"colorbar\": {\"outlinewidth\": 0, \"ticks\": \"\"}}, \"marker\": {\"colorbar\": {\"outlinewidth\": 0, \"ticks\": \"\"}}, \"type\": \"scatter3d\"}], \"scattercarpet\": [{\"marker\": {\"colorbar\": {\"outlinewidth\": 0, \"ticks\": \"\"}}, \"type\": \"scattercarpet\"}], \"scattergeo\": [{\"marker\": {\"colorbar\": {\"outlinewidth\": 0, \"ticks\": \"\"}}, \"type\": \"scattergeo\"}], \"scattergl\": [{\"marker\": {\"colorbar\": {\"outlinewidth\": 0, \"ticks\": \"\"}}, \"type\": \"scattergl\"}], \"scattermapbox\": [{\"marker\": {\"colorbar\": {\"outlinewidth\": 0, \"ticks\": \"\"}}, \"type\": \"scattermapbox\"}], \"scatterpolar\": [{\"marker\": {\"colorbar\": {\"outlinewidth\": 0, \"ticks\": \"\"}}, \"type\": \"scatterpolar\"}], \"scatterpolargl\": [{\"marker\": {\"colorbar\": {\"outlinewidth\": 0, \"ticks\": \"\"}}, \"type\": \"scatterpolargl\"}], \"scatterternary\": [{\"marker\": {\"colorbar\": {\"outlinewidth\": 0, \"ticks\": \"\"}}, \"type\": \"scatterternary\"}], \"surface\": [{\"colorbar\": {\"outlinewidth\": 0, \"ticks\": \"\"}, \"colorscale\": [[0.0, \"#0d0887\"], [0.1111111111111111, \"#46039f\"], [0.2222222222222222, \"#7201a8\"], [0.3333333333333333, \"#9c179e\"], [0.4444444444444444, \"#bd3786\"], [0.5555555555555556, \"#d8576b\"], [0.6666666666666666, \"#ed7953\"], [0.7777777777777778, \"#fb9f3a\"], [0.8888888888888888, \"#fdca26\"], [1.0, \"#f0f921\"]], \"type\": \"surface\"}], \"table\": [{\"cells\": {\"fill\": {\"color\": \"#EBF0F8\"}, \"line\": {\"color\": \"white\"}}, \"header\": {\"fill\": {\"color\": \"#C8D4E3\"}, \"line\": {\"color\": \"white\"}}, \"type\": \"table\"}]}, \"layout\": {\"annotationdefaults\": {\"arrowcolor\": \"#2a3f5f\", \"arrowhead\": 0, \"arrowwidth\": 1}, \"coloraxis\": {\"colorbar\": {\"outlinewidth\": 0, \"ticks\": \"\"}}, \"colorscale\": {\"diverging\": [[0, \"#8e0152\"], [0.1, \"#c51b7d\"], [0.2, \"#de77ae\"], [0.3, \"#f1b6da\"], [0.4, \"#fde0ef\"], [0.5, \"#f7f7f7\"], [0.6, \"#e6f5d0\"], [0.7, \"#b8e186\"], [0.8, \"#7fbc41\"], [0.9, \"#4d9221\"], [1, \"#276419\"]], \"sequential\": [[0.0, \"#0d0887\"], [0.1111111111111111, \"#46039f\"], [0.2222222222222222, \"#7201a8\"], [0.3333333333333333, \"#9c179e\"], [0.4444444444444444, \"#bd3786\"], [0.5555555555555556, \"#d8576b\"], [0.6666666666666666, \"#ed7953\"], [0.7777777777777778, \"#fb9f3a\"], [0.8888888888888888, \"#fdca26\"], [1.0, \"#f0f921\"]], \"sequentialminus\": [[0.0, \"#0d0887\"], [0.1111111111111111, \"#46039f\"], [0.2222222222222222, \"#7201a8\"], [0.3333333333333333, \"#9c179e\"], [0.4444444444444444, \"#bd3786\"], [0.5555555555555556, \"#d8576b\"], [0.6666666666666666, \"#ed7953\"], [0.7777777777777778, \"#fb9f3a\"], [0.8888888888888888, \"#fdca26\"], [1.0, \"#f0f921\"]]}, \"colorway\": [\"#636efa\", \"#EF553B\", \"#00cc96\", \"#ab63fa\", \"#FFA15A\", \"#19d3f3\", \"#FF6692\", \"#B6E880\", \"#FF97FF\", \"#FECB52\"], \"font\": {\"color\": \"#2a3f5f\"}, \"geo\": {\"bgcolor\": \"white\", \"lakecolor\": \"white\", \"landcolor\": \"#E5ECF6\", \"showlakes\": true, \"showland\": true, \"subunitcolor\": \"white\"}, \"hoverlabel\": {\"align\": \"left\"}, \"hovermode\": \"closest\", \"mapbox\": {\"style\": \"light\"}, \"paper_bgcolor\": \"white\", \"plot_bgcolor\": \"#E5ECF6\", \"polar\": {\"angularaxis\": {\"gridcolor\": \"white\", \"linecolor\": \"white\", \"ticks\": \"\"}, \"bgcolor\": \"#E5ECF6\", \"radialaxis\": {\"gridcolor\": \"white\", \"linecolor\": \"white\", \"ticks\": \"\"}}, \"scene\": {\"xaxis\": {\"backgroundcolor\": \"#E5ECF6\", \"gridcolor\": \"white\", \"gridwidth\": 2, \"linecolor\": \"white\", \"showbackground\": true, \"ticks\": \"\", \"zerolinecolor\": \"white\"}, \"yaxis\": {\"backgroundcolor\": \"#E5ECF6\", \"gridcolor\": \"white\", \"gridwidth\": 2, \"linecolor\": \"white\", \"showbackground\": true, \"ticks\": \"\", \"zerolinecolor\": \"white\"}, \"zaxis\": {\"backgroundcolor\": \"#E5ECF6\", \"gridcolor\": \"white\", \"gridwidth\": 2, \"linecolor\": \"white\", \"showbackground\": true, \"ticks\": \"\", \"zerolinecolor\": \"white\"}}, \"shapedefaults\": {\"line\": {\"color\": \"#2a3f5f\"}}, \"ternary\": {\"aaxis\": {\"gridcolor\": \"white\", \"linecolor\": \"white\", \"ticks\": \"\"}, \"baxis\": {\"gridcolor\": \"white\", \"linecolor\": \"white\", \"ticks\": \"\"}, \"bgcolor\": \"#E5ECF6\", \"caxis\": {\"gridcolor\": \"white\", \"linecolor\": \"white\", \"ticks\": \"\"}}, \"title\": {\"x\": 0.05}, \"xaxis\": {\"automargin\": true, \"gridcolor\": \"white\", \"linecolor\": \"white\", \"ticks\": \"\", \"title\": {\"standoff\": 15}, \"zerolinecolor\": \"white\", \"zerolinewidth\": 2}, \"yaxis\": {\"automargin\": true, \"gridcolor\": \"white\", \"linecolor\": \"white\", \"ticks\": \"\", \"title\": {\"standoff\": 15}, \"zerolinecolor\": \"white\", \"zerolinewidth\": 2}}}, \"xaxis\": {\"anchor\": \"y\", \"domain\": [0.0, 1.0]}, \"yaxis\": {\"anchor\": \"x\", \"domain\": [0.0, 1.0], \"title\": {\"text\": \"count\"}}},\n",
              "                        {\"responsive\": true}\n",
              "                    ).then(function(){\n",
              "                            \n",
              "var gd = document.getElementById('dfc563a8-12b5-4a74-ba00-e0c602e9ea94');\n",
              "var x = new MutationObserver(function (mutations, observer) {{\n",
              "        var display = window.getComputedStyle(gd).display;\n",
              "        if (!display || display === 'none') {{\n",
              "            console.log([gd, 'removed!']);\n",
              "            Plotly.purge(gd);\n",
              "            observer.disconnect();\n",
              "        }}\n",
              "}});\n",
              "\n",
              "// Listen for the removal of the full notebook cells\n",
              "var notebookContainer = gd.closest('#notebook-container');\n",
              "if (notebookContainer) {{\n",
              "    x.observe(notebookContainer, {childList: true});\n",
              "}}\n",
              "\n",
              "// Listen for the clearing of the current output cell\n",
              "var outputEl = gd.closest('.output');\n",
              "if (outputEl) {{\n",
              "    x.observe(outputEl, {childList: true});\n",
              "}}\n",
              "\n",
              "                        })\n",
              "                };\n",
              "                \n",
              "            </script>\n",
              "        </div>\n",
              "</body>\n",
              "</html>"
            ]
          },
          "metadata": {
            "tags": []
          }
        }
      ]
    },
    {
      "cell_type": "code",
      "metadata": {
        "id": "TrKrTW-TM_FA",
        "colab_type": "code",
        "colab": {
          "base_uri": "https://localhost:8080/",
          "height": 542
        },
        "outputId": "0c76183c-f4cc-4d80-bcba-1e81f09163e9"
      },
      "source": [
        "fig2"
      ],
      "execution_count": 41,
      "outputs": [
        {
          "output_type": "display_data",
          "data": {
            "text/html": [
              "<html>\n",
              "<head><meta charset=\"utf-8\" /></head>\n",
              "<body>\n",
              "    <div>\n",
              "            <script src=\"https://cdnjs.cloudflare.com/ajax/libs/mathjax/2.7.5/MathJax.js?config=TeX-AMS-MML_SVG\"></script><script type=\"text/javascript\">if (window.MathJax) {MathJax.Hub.Config({SVG: {font: \"STIX-Web\"}});}</script>\n",
              "                <script type=\"text/javascript\">window.PlotlyConfig = {MathJaxConfig: 'local'};</script>\n",
              "        <script src=\"https://cdn.plot.ly/plotly-latest.min.js\"></script>    \n",
              "            <div id=\"428d1b47-fc28-46c5-b423-b39c536bb9cc\" class=\"plotly-graph-div\" style=\"height:525px; width:100%;\"></div>\n",
              "            <script type=\"text/javascript\">\n",
              "                \n",
              "                    window.PLOTLYENV=window.PLOTLYENV || {};\n",
              "                    \n",
              "                if (document.getElementById(\"428d1b47-fc28-46c5-b423-b39c536bb9cc\")) {\n",
              "                    Plotly.newPlot(\n",
              "                        '428d1b47-fc28-46c5-b423-b39c536bb9cc',\n",
              "                        [{\"customdata\": [[\"winging life. opinionated. don\\u2019t get to stressed with life.\"], [\"\"], [\"General News Royal Family Weather Politics Music R&B UK Top 40 Dance and Electronica History Health\"], [\"Autistic lone Mum of 2, with MS. Hoomum to @Billythe_kat @HrcGeorge\\ud83d\\udc69\\ud83c\\udffc\\u200d\\ud83e\\uddbc#spoonie #MSer #Ace *She/her\\u270b#GTTO #DemocraticSocialist *RTs not an endorsement*\"], [\"Make it make sense.....Based in the UK/Sicily/Malta.\"], [\"Make it make sense.....Based in the UK/Sicily/Malta.\"], [\"\\ud83c\\uddec\\ud83c\\udde7\"], [\"Bringing You All The News From The Roads Reporting What Reporters Wont\"], [\"Friendly, fun loving, VERY loving, caring, So blessed and grateful to be here alive and healthy. I got common sense. I give a damn. LOVE MUSIC! Enjoy movies :-)\"], [\"#MORPHYVA: a piss ark?! Certified genius and model! hi ! \\ud83d\\ude04\\u270c\\ud83c\\udffb\"], [\"ExRugby&good golfer.In2my own Classic Cars. Crisis management&Sop firm&big Comms. MSc acii Gent but vehemently anti greed&pro EU&Scotland\"], [\"Outdated attitudes. Treats objects like women.  Gender: 61152674\"], [\"Season ticket holder in the Sir Bobby Robson, for my sins. Emergency services supporter. All things football , trying to better my 28k OR finish #FPL #ITFC.OSRS\"], [\"G2HO manufacturer of History and Hobby clothing and gifts, perfect quirky products for all types of retail outlets. Metal signs, mugs, t-shirts, magnets etc\"], [\"\"], [\"I'm a good person\"], [\"Offence is free, take all you like.\\nCruelty to animals is despicable.\\n#BLACKOLIVESMATTER. RT not endorsement obvs.\"], [\"Business owner. I say it how it is. Truth doesn't care about your feelings. Oh, I love spam too!\"], [\"\"], [\"Scientist (physiologist), Dad, runner.\"], [\"\"], [\"\"], [\"Blocked by Al Murray. Who? you may ask and rightly so, a waste of a privileged Bedford School education? Or, one chosen, to distract while they rule/dismantle?\"], [\"Adored by millions once, under another hoofwanking spangletwat name,now just here for the laughs with a select few.\"], [\"Stand for what is right and True... even if it means standing alone. Mum of 1...my \\u2764\\ufe0f\"], [\"Hospitality, Restaurants,  Bars,Venue, Music, Entertainment Management. Lafayette, Goods Way, Bloomsbury, Alphabet Bars, Ronnie Scott\\u2019s, Boisdale The Hippodrome\"], [\"Opinions my own and probably different to your own, doesn't make them any less valid though. Always a realist.  Yes, I'm bald, well spotted. Gen X\"], [\"Languages, Anime and Roller skating take priority. \\n\\u2661\\none makes money, one keeps me creative and one keeps me fit.\"], [\"Don\\u2019t believe everything you read...\"], [\"Don\\u2019t believe everything you read...\"], [\"Innocent instigator! From Essex but currently having a much better time enjoying London. I'm the f in fun\"], [\"\"], [\"A good life for everyone.\"], [\"Freelance Commercial Writer - Articles, Blogs, Web Content and eBooks. Love animals & interesting people.  RTs not necessarily endorsed but for debate. No DMs.\"], [\"Mum, Teacher, Early Years enthusiast, SENCO, loves dogs and Democracy. Brown and white \\ud83c\\udf08 Children are citizens too. Mercy Beguma #sayhername\"], [\"Geordie, biker, vegan. Proud to have served for 31 years; Northumbria Police, Metropolitan Police and Greater Manchester Police. Animal sanctuary co owner. NUFC\"], [\"\"], [\"Liars and hypocrites can do one.\"], [\"Disgusted! #FBPE Retweets not endorsements\"], [\"\"], [\"Bios with : #FBPE #LFC #SOCIALIST #BEKIND tend to indicate nasty,unhinged morons exc a few welcome exceptions of course. PS if you insult me,make it funny !\"], [\"\"], [\"Muso\"], [\"Wear a face mask!\"], [\"Leftist, don't even bother. FOIYDLTUK\\n  #alllivesmater\"], [\"Vacation Reassurance- securing your home whilst you're away. Ex Police officer (CRB checked) experienced in guardianship. Competitive rates (inc HD CCTV).\"], [\"Christian .. loves animals, nice people and our wonderful land. Brexiteer through and through ... #humbug to the surrender deal..\"], [\"Agbalagba in the making! You should call your mum often \\ud83d\\udcde \\ud83d\\udcde\"], [\"Security Controller at Middlesex University. Future Police Officer! Amateur entomologist. Christian (C of E). Single. UK\"], [\"An incessant user of the F word. if easily offended please f--k off & follow someone else! :)\"], [\"\"], [\"The 3rd account of Johnnyboy cause i keep being a cunt upsetting cunts, but im also still anti cunts!\"], [\"Worldwide Breaking News Live via Twitter\"], [\"GSOH\"], [\"GSOH\"], [\"Streatham resident sharing the Streatham Love around\"], [\"Labour, republican, socialist. I'm retired due to Ehlers Danlos Syndrome. #EDS, Hypermobility. Register to vote.\"], [\"Cpfc fan & music lover\"], [\"17 \\ud83e\\uddd4\\ud83c\\udffd@ManUtd#GGMU \\ud83c\\uddfe\\ud83c\\uddea @lakers MUSLIM \\ud83d\\udd4b\\ud83d\\udd4c \\ud83c\\uddec\\ud83c\\udde7 #BLM\\u270a\\ud83c\\udfffGUJU\\ud83c\\uddee\\ud83c\\uddf3 redbulls \\ud83d\\udc02#freepalestine\\ud83c\\uddf5\\ud83c\\uddf8 #saveyemen All hail Jhon @fxiyxz 6\\u20191 #MartialFC\"], [\"Retired police officer. Love my family, martial arts, keeping fit, shooting and 50's and early 60's music, films and TV. Split my time between the U.S. and U.K.\"], [\"logistics specialist\"], [\"love my family xx proud mum, Salford reds fan\\ud83d\\udc79\\ud83d\\udc79\\ud83d\\udc79Masketeer \\ud83d\\ude37 Labour voting Manc.3.5% #FBPE Hate Tories and Brexit\"], [\"love my family xx proud mum, Salford reds fan\\ud83d\\udc79\\ud83d\\udc79\\ud83d\\udc79Masketeer \\ud83d\\ude37 Labour voting Manc.3.5% #FBPE Hate Tories and Brexit\"], [\"love my family xx proud mum, Salford reds fan\\ud83d\\udc79\\ud83d\\udc79\\ud83d\\udc79Masketeer \\ud83d\\ude37 Labour voting Manc.3.5% #FBPE Hate Tories and Brexit\"], [\"love my family xx proud mum, Salford reds fan\\ud83d\\udc79\\ud83d\\udc79\\ud83d\\udc79Masketeer \\ud83d\\ude37 Labour voting Manc.3.5% #FBPE Hate Tories and Brexit\"], [\"love my family xx proud mum, Salford reds fan\\ud83d\\udc79\\ud83d\\udc79\\ud83d\\udc79Masketeer \\ud83d\\ude37 Labour voting Manc.3.5% #FBPE Hate Tories and Brexit\"], [\"love my family xx proud mum, Salford reds fan\\ud83d\\udc79\\ud83d\\udc79\\ud83d\\udc79Masketeer \\ud83d\\ude37 Labour voting Manc.3.5% #FBPE Hate Tories and Brexit\"], [\"love my family xx proud mum, Salford reds fan\\ud83d\\udc79\\ud83d\\udc79\\ud83d\\udc79Masketeer \\ud83d\\ude37 Labour voting Manc.3.5% #FBPE Hate Tories and Brexit\"], [\"love my family xx proud mum, Salford reds fan\\ud83d\\udc79\\ud83d\\udc79\\ud83d\\udc79Masketeer \\ud83d\\ude37 Labour voting Manc.3.5% #FBPE Hate Tories and Brexit\"], [\"love my family xx proud mum, Salford reds fan\\ud83d\\udc79\\ud83d\\udc79\\ud83d\\udc79Masketeer \\ud83d\\ude37 Labour voting Manc.3.5% #FBPE Hate Tories and Brexit\"], [\"love my family xx proud mum, Salford reds fan\\ud83d\\udc79\\ud83d\\udc79\\ud83d\\udc79Masketeer \\ud83d\\ude37 Labour voting Manc.3.5% #FBPE Hate Tories and Brexit\"], [\"love my family xx proud mum, Salford reds fan\\ud83d\\udc79\\ud83d\\udc79\\ud83d\\udc79Masketeer \\ud83d\\ude37 Labour voting Manc.3.5% #FBPE Hate Tories and Brexit\"], [\"love my family xx proud mum, Salford reds fan\\ud83d\\udc79\\ud83d\\udc79\\ud83d\\udc79Masketeer \\ud83d\\ude37 Labour voting Manc.3.5% #FBPE Hate Tories and Brexit\"], [\"love my family xx proud mum, Salford reds fan\\ud83d\\udc79\\ud83d\\udc79\\ud83d\\udc79Masketeer \\ud83d\\ude37 Labour voting Manc.3.5% #FBPE Hate Tories and Brexit\"], [\"love my family xx proud mum, Salford reds fan\\ud83d\\udc79\\ud83d\\udc79\\ud83d\\udc79Masketeer \\ud83d\\ude37 Labour voting Manc.3.5% #FBPE Hate Tories and Brexit\"], [\"love my family xx proud mum, Salford reds fan\\ud83d\\udc79\\ud83d\\udc79\\ud83d\\udc79Masketeer \\ud83d\\ude37 Labour voting Manc.3.5% #FBPE Hate Tories and Brexit\"], [\"love my family xx proud mum, Salford reds fan\\ud83d\\udc79\\ud83d\\udc79\\ud83d\\udc79Masketeer \\ud83d\\ude37 Labour voting Manc.3.5% #FBPE Hate Tories and Brexit\"], [\"love my family xx proud mum, Salford reds fan\\ud83d\\udc79\\ud83d\\udc79\\ud83d\\udc79Masketeer \\ud83d\\ude37 Labour voting Manc.3.5% #FBPE Hate Tories and Brexit\"], [\"love my family xx proud mum, Salford reds fan\\ud83d\\udc79\\ud83d\\udc79\\ud83d\\udc79Masketeer \\ud83d\\ude37 Labour voting Manc.3.5% #FBPE Hate Tories and Brexit\"], [\"love my family xx proud mum, Salford reds fan\\ud83d\\udc79\\ud83d\\udc79\\ud83d\\udc79Masketeer \\ud83d\\ude37 Labour voting Manc.3.5% #FBPE Hate Tories and Brexit\"], [\"love my family xx proud mum, Salford reds fan\\ud83d\\udc79\\ud83d\\udc79\\ud83d\\udc79Masketeer \\ud83d\\ude37 Labour voting Manc.3.5% #FBPE Hate Tories and Brexit\"], [\"love my family xx proud mum, Salford reds fan\\ud83d\\udc79\\ud83d\\udc79\\ud83d\\udc79Masketeer \\ud83d\\ude37 Labour voting Manc.3.5% #FBPE Hate Tories and Brexit\"], [\"love my family xx proud mum, Salford reds fan\\ud83d\\udc79\\ud83d\\udc79\\ud83d\\udc79Masketeer \\ud83d\\ude37 Labour voting Manc.3.5% #FBPE Hate Tories and Brexit\"], [\"love my family xx proud mum, Salford reds fan\\ud83d\\udc79\\ud83d\\udc79\\ud83d\\udc79Masketeer \\ud83d\\ude37 Labour voting Manc.3.5% #FBPE Hate Tories and Brexit\"], [\"love my family xx proud mum, Salford reds fan\\ud83d\\udc79\\ud83d\\udc79\\ud83d\\udc79Masketeer \\ud83d\\ude37 Labour voting Manc.3.5% #FBPE Hate Tories and Brexit\"], [\"\"], [\"Everything we hear is an opinion, not a fact. \\nEverything we see is a perspective, not the truth.\\n\\u2015 Marcus Aurelius\"], [\"\"], [\"Professional IT Technician. Cyber Janitor.\\nInfoSEC, OpSec, History, Physics and SciFi.\\nOne is glad to be of service \\ud83d\\ude42 \\ud83d\\udd96\"], [\"Retired Leeds fan who loves history, politics and rock music\"], [\"On Parler as Adamboyer.\\nFacts not emotions if you can't argue without getting offensive then you have lost.\"], [\"Pain Refugee,Singer,Model,\\nDoctor,HumanRights,Justice,Loves beauty& being adored\\n\\nDr Maria Harriet Stack talks to Gary -join me most days on Twitter @doctuir\"], [\"\\u2764the NHS\\ud83d\\udc4fOn that, face facts. We know who and what the problem is and they'll try n priviatise the NHS in the next 4 years. Love Doncaster Rovers & away days\\ud83d\\udc4d\"], [\"\"], [\"aging goff type, but don't let that put you off. I know tomorrow's gonna taste like cake\"], [\"Cannot sit back anymore! Must stand up and fight the new wave of hatred, xenophobia, Islamophobia, and discrimination. #ResistingHate member. #HopeNotHate.\"], [\"Just want to have a relaxed fun life!\"], [\"No to entitled millennials, Remoaners, Leftie Loonies, The Markles, Illegal Immigrants & conspiracy believers.  Yes to BRF, Brexit & humour\"], [\"\"], [\"Fight 4 Animals & Brexit.  My eternal wish is 4 NO more animal cruelty, halal/koshe, hunting, captivity, racing, working. Let them be free. BOYCOT MADE IN CHINA\"], [\"I\\u2019m a person that brings out strong emotions in people you will either love me or hate me I enjoy it either way\"], [\"I\\u2019m a person that brings out strong emotions in people you will either love me or hate me I enjoy it either way\"], [\"I\\u2019m a person that brings out strong emotions in people you will either love me or hate me I enjoy it either way\"], [\"I\\u2019m a person that brings out strong emotions in people you will either love me or hate me I enjoy it either way\"], [\"\\u201cIgnorance more frequently begets confidence than does knowledge.\\u201d -Charles Darwin\"], [\"#Brexit\"], [\"#Brexit\"], [\"Proud to be English. Proud to be British. #TeamNigelFarage. #IStandWithIsrael If you\\u2019re like minded you\\u2019re welcome to follow me. #BritishIndependence #Brexit\"], [\"\"], [\"64 year old ex Cop. personal trainer , Spin, hiit and Swimming instructor now lost over 5 stone! Working in East Sussex. qualified in GP referrals\"], [\"Going where the evidence takes me ... \\ud83d\\udd0e\"], [\"Producer / Engineer / Levlz@live.co.uk https://t.co/b6sasSDI9b Stream Certi https://t.co/jCftpTodtQ\"], [\"Always Watching\"], [\"Maxfac Surgeon & Medical Director(Retd) Chair NCEPOD. Past President: BAOMS, EACMFS, FSSA, BAHNO, NEMLS. Ex RAF CCA. Hobby Flying (CPL/IR/FE/FI) Wife Diane.\"], [\"Nigger\"], [\"Cornish born and bred, loves honesty,people who have an opinion and a good sense of humour, no time for bigots\"], [\"#Poverty Stories\"], [\"Pipe organ builder, organist, choir director, lover of good food and wine, socialist, Francophile, interested in peace, justice, fairness and tolerance.\"], [\"...non celebrity cook,unprofessional dancer, veteran golfer, Tottenham supporter, current cribbage champion \\ud83c\\uddf0\\ud83c\\uddfe..... sees the funny side!!\"], [\"Animal and plant lover.\"], [\"Retired, Lover of Theatre, married to David been together 30 years. Dads to Harvey our Jack Russell . \\ud83c\\udff4\\udb40\\udc67\\udb40\\udc62\\udb40\\udc65\\udb40\\udc6e\\udb40\\udc67\\udb40\\udc7f\\ud83c\\udff4\\udb40\\udc67\\udb40\\udc62\\udb40\\udc77\\udb40\\udc6c\\udb40\\udc73\\udb40\\udc7f\"], [\"800m Athlete \\ud83c\\udfc3\\ud83c\\udfff\\u200d\\u2642\\ufe0f\"], [\"Photographer /Music /Photojournalist, Fashion/Graphic artist/Photoshop 20 and Lightroom.... Unemployed\"], [\"Photographer /Music /Photojournalist, Fashion/Graphic artist/Photoshop 20 and Lightroom.... Unemployed\"], [\"Photographer /Music /Photojournalist, Fashion/Graphic artist/Photoshop 20 and Lightroom.... Unemployed\"], [\"Photographer /Music /Photojournalist, Fashion/Graphic artist/Photoshop 20 and Lightroom.... Unemployed\"], [\"Photographer /Music /Photojournalist, Fashion/Graphic artist/Photoshop 20 and Lightroom.... Unemployed\"], [\"Photographer /Music /Photojournalist, Fashion/Graphic artist/Photoshop 20 and Lightroom.... Unemployed\"], [\"Photographer /Music /Photojournalist, Fashion/Graphic artist/Photoshop 20 and Lightroom.... Unemployed\"], [\"Photographer /Music /Photojournalist, Fashion/Graphic artist/Photoshop 20 and Lightroom.... Unemployed\"], [\"Photographer /Music /Photojournalist, Fashion/Graphic artist/Photoshop 20 and Lightroom.... Unemployed\"], [\"Photographer /Music /Photojournalist, Fashion/Graphic artist/Photoshop 20 and Lightroom.... Unemployed\"], [\"Vegan for the animals\\nVegan for the planet\\nVegan for kind people\"], [\"\"], [\"#Brexit\"], [\"Father,Son,Brother,Uncle.    QPR\"], [\"DFK and DFC. #HTTR  #Redskins\"], [\"Richmond London\"], [\"Lighting events films T.V, I breath arsenal #goonerfamily.\"], [\"In search of beauty & the truth #Forthemany #ALLHumanRights #toriesout #boycottfarrightmedia #BDS  #StopIsraelApartheid #GOPevil #fuckBrexit \\u270a\"], [\"One of the 18%. Retired from work not life. Leftie. Enjoy reading, politics, swimming against the tide, unions, credit unions, Shih Tzus, theatre & walking.\"], [\"I'm not proud of my tweets. Its like a form of tourettes and I can't help it.  I delete most of them, and you only see the sanitized ones. Be glad...  #NonVegan\"], [\"A Yorkshire lass originally!\"], [\"\"], [\"I think I lost my mind round the same time I lost my six pack.\"], [\"Not a lot\"], [\"\"], [\"Described by Wings as a traitor first class. Blocked also by Mr Wishart, my MP, who is paid to represent me and also by Bunter. Currently politically homeless.\"], [\"x x x x x x x x x x x x\"], [\"\"], [\"When walking just walk, When sitting just sit, When being just be....Above all, don't stray from your chosen path..\"], [\"Psychotherapist.\"], [\"\\ud83c\\uddec\\ud83c\\udde7\\ud83c\\udde7\\ud83c\\udde9\"], [\"{Youth Independent Advisory Board}  Advisor To the Young Mayor of Lewisham Chair of Young Advisors PROUD CAMPAIGNER\"], [\"An educational leader.  anti #FBPE anti #scummedia\"], [\"Family man, Patriotic England supporting West Ham fan, hard working, honest, all views are from me and me only. Business owner.\"], [\"8 june 1970\"], [\"ONE OF THE 17.4 MILLION\\nLEAVE MEANS LEAVE\"], [\"im not a bot please dont ban me\"], [\"\\u262e\\ud83d\\udc9a\\ud83d\\udc99\\u270a\\ud83c\\udfff #Marxist #EcoSocialist #MMT #UBI  #NHSNotForSale #Palestine #BDS  #Yemen #Vegan #AntiRacist  \\ud83c\\udf08  \\n \\u25b6 NO DMs \\u25c0\"], [\"\"], [\"I might block myself, even I\\u2019m fed up with my shit \\ud83d\\udc4d\\ud83d\\ude02\"], [\"WARNING - may use humour to expose or criticise other people's stupidity or vices, especially in the world of contemporary politics.\"], [\"\"], [\"Electrical Engineer................................... If you don't like me, then hit DEL\"], [\"British, ProBrexit, Right leaning \\ud83c\\uddec\\ud83c\\udde7\\ud83c\\udff4\\udb40\\udc67\\udb40\\udc62\\udb40\\udc65\\udb40\\udc6e\\udb40\\udc67\\udb40\\udc7f\"], [\"British, ProBrexit, Right leaning \\ud83c\\uddec\\ud83c\\udde7\\ud83c\\udff4\\udb40\\udc67\\udb40\\udc62\\udb40\\udc65\\udb40\\udc6e\\udb40\\udc67\\udb40\\udc7f\"], [\"British, ProBrexit, Right leaning \\ud83c\\uddec\\ud83c\\udde7\\ud83c\\udff4\\udb40\\udc67\\udb40\\udc62\\udb40\\udc65\\udb40\\udc6e\\udb40\\udc67\\udb40\\udc7f\"], [\"British, ProBrexit, Right leaning \\ud83c\\uddec\\ud83c\\udde7\\ud83c\\udff4\\udb40\\udc67\\udb40\\udc62\\udb40\\udc65\\udb40\\udc6e\\udb40\\udc67\\udb40\\udc7f\"], [\"This is all we have...\"], [\"\"], [\"\"], [\"Collector of funky, house & disco music forever...vinyl junkie! Just Julie DJ \\u2764 Football crazy Yidette, lifelong Tottenham Hotspur fan. xxx TTID xxx\"], [\"Metro Hetro Retro. I used to vote Labour but since they went crazy not any more. I don\\u2019t have many followers but I like to keep a tight knit group.\"], [\"\"], [\"\"], [\"\"], [\"\"], [\"Done a bit of borstal 2 years In the scrubs now working as a debt collector for a bit of cash in the hand , Mixed Race, Mum from the Punjab father from Peckham\"], [\"\"], [\"Nothing here is any of your business!\"], [\"Don\\u2019t @ me if you don\\u2019t have a clue what you\\u2019re talking about.\"], [\"So glad we finally left the EU, love katie, OFAH, Politics, England, regular on various Radio stations. im ON here FB & VK\"], [\"\"], [\"Legal adviser to @wateruk . Bike enthusiast. Marylebone resident and cat lover.\"], [\"Is it 2021 yet !!\"], [\"\"], [\"male. over 60. These are my opinions and if you don\\u2019t like them, well, I have others.\"], [\"Enjoying life in London\"], [\"Retweets are not an endorsement ! XBOX gamer Assassins Creed Fan ! #PowerTV Hard Rock Hotel Regular #DC comics collector #AssassinsCreed #EndTheLockdown #KBF\"], [\"\"], [\"Hull City, Cricket. Despairing at lack of integrity, honesty and humanity of those that 'lead' for the few .\\ud83c\\uddea\\ud83c\\uddfa\\ud83c\\uddec\\ud83c\\udde7\\ud83c\\udfcf\\u26bd\\ufe0f\"], [\"EVIL EMPIRE\\nFALLING \\nTHIS IS A WAR\"], [\"Currently in the Gulf - Saudi Arabia\"], [\"\"], [\"Former senior civil servant. Former Labour Leader, Bath City Council. Exec Member @SME4LABOUR. Chair @VauxhallLabour. Tweets represent personal views.\"], [\"why hello there\"], [\"\"], [\"\"], [\"\"], [\"If you know you know the Arsenal. don\\u2019t judge a book by a cover read it you never know what\\u2019s inside\"], [\"\"], [\"\"], [\"\"], [\"\"], [\"Analogue by birth, digital by design !\"], [\"\\u2b50\\ufe0f\\ud83c\\udfc6\\u2b50\\ufe0f\\ud83c\\udfc6\\u2b50\\ufe0f\\ud83c\\udfc6\\u2b50\\ufe0f\\ud83c\\udfc6\\u2b50\\ufe0f\\ud83c\\udfc6\\u2b50\\ufe0f\\ud83c\\udfc6 I\\u2019m right handed but identity as left handed.                      #backtheblue.                                    #policelivesmatter\"], [\"\"], [\"#FBPE\"], [\"\"], [\"sanitised, medicated and staying away from idiots.\"], [\"20yrs supporting vulnerable peeps x C-PTSD survivor. In my free time I feebly attempt to find an agent for my inane ramblings & swear quite a lot on Twitter.\"], [\"General News,Football Television,Movies, Premier League,FA Cup Weather ChampionsLeague, Bees\"], [\"CSA Survivor. Exposing the truth about Child Abuse, Holding authorities accountable and the Government to task! \\ud83d\\ude4f\"], [\"#WHUFC #80s nut #WoW PC Gamer & PSN - BSMako YouTube channel https://t.co/DOuaPWQNgI https://t.co/Skz56XTHHh #GoT\"], [\"Punk Rocking Leeds Fan who ought to know better\\ud83e\\udd37\\ud83c\\udffc\\u200d\\u2642\\ufe0f\"], [\"London\"], [\"19. Producer. London.\"], [\"YouTube channel: C\\u2019est Chancy. Life with autoimmune Liver Disease, transplant & mental health. Retweets do not = endorsements/agreements\"], [\"\"], [\"Just waiting for a BBC adaptation of my books with Richard Armitage. One will continue to think of alternative words for spanked in the meantime.\"], [\"The best MC ya ever heard with no chain\"], [\"Cave Dweller, Saboteur, Traitor. Learning Guitar...slowly.\"], [\"\"], [\"\"], [\"Various jobs, Telegram Boy, Electrician, Police Officer & Black Cab Driver (Green Badge) Now retired\\ud83d\\ude01THFC season ticket holder.\"], [\"I am a cat without conviction\"], [\"Nerdy geek, writer, SciFi/Horror lover, big ball of fluffy fun, LLB Law Graduate.\"], [\"dragons\"], [\"Lifelong gamer on console & PC. Enjoy reading, board games, miniature painting & motorbikes.  cat & rat fan. early 80s Milennial. Forever single.\"], [\"Londoner  ,member of the Arnhem fellowship , love The jam, From the Jam and Northern soul\"], [\"As a person with epilepsy I introduced my Epilepsy Blog and Videos The Unwelcome Visitor (TUV) in an easy to understand way. These are my own personal views.\"], [\"Gooooner\"], [\"Addicted to cycling. Fabian Cancellara LEGEND.  Cycling changed my life.  Retired TPS-Toronto not Timmins  follower of Law enforcement, the Military & cycling\"], [\"\"], [\"HufflePuff\"], [\"\"], [\"Musings of a single dad, part owner of a 5 year old beautiful little girl. Owner of 'Pitlochry TMD', transport boffin and high IQ geek...sometimes \\ud83d\\udc68\\u200d\\ud83d\\udc67\"], [\"Economist, Zionist, campaigner against antisemitism, Remainer, #COYS #EveryLifeMatters\"], [\"\"], [\"Love everything about Manchester and it\\u2019s people. Songwriter and sport lover. Chartered Engineer.\"], [\"\\\"He may look like an idiot and talk like an idiot but don't let that fool you. He really is an idiot.\\u201d\\nGroucho Marx\"], [\"#NEVER BEND THE KNEE\"], [\"Linguistics and Languages Academic. Comedy. Writer. Musician. Family, Disabilities and Housing Law Consultant. Economics. No hobbies.\"], [\"Life long Yiddo\"], [\"Journalist, Digital Consultant and Producer working with Brands and Content Creators. https://t.co/zK0r4I0MjP\"], [\"British veteran. Patriot.  Bored of left negativity and press lies.\"], [\"\"], [\"London boy\"], [\"\"], [\"feminist, left wing, lawyer learning welsh\"], [\"\"], [\"\"], [\"\"], [\"\"], [\"Science - maybe. Films and TV - probably. Food - definitely. Memes ranging from hilarious to doom, according to my mood. Chicken manages this account.\"], [\"ex-honorary-Glasgow gal; now full time financial services word nerd. opinions abound\"], [\"Bathing in White Privilege. Supports the \\ud83c\\uddee\\ud83c\\uddf1Zionist Entity. Family motto: \\u2018The Only Good Socialist Is A Rich One\\u2019.\"]], \"hoverlabel\": {\"namelength\": 0}, \"hovertemplate\": \"RW_prediction=False<br>Subjectivity=%{x}<br>Polarity=%{y}<br>Bios=%{customdata[0]}\", \"legendgroup\": \"RW_prediction=False\", \"marker\": {\"color\": \"#636efa\", \"symbol\": \"circle\"}, \"mode\": \"markers\", \"name\": \"RW_prediction=False\", \"showlegend\": true, \"type\": \"scatter\", \"x\": [0.7, 0.0, 0.4777777777777778, 0.0, 0.0, 0.65, 0.0, 0.0, 0.43333333333333335, 0.0, 0.4722222222222222, 0.0, 0.17666666666666667, 0.45, 0.39999999999999997, 0.8452380952380952, 0.0, 0.3904761904761904, 0.6666666666666666, 0.0, 0.3666666666666667, 0.525, 0.0, 0.0, 0.0, 0.3875, 0.0, 0.5416666666666666, 0.85, 0.0, 0.16666666666666666, 0.5, 0.3444444444444445, 0.0, 0.0, 0.3452380952380952, 0.26666666666666666, 0.0, 0.0, 0.0, 0.05, 0.0, 0.4777777777777778, 0.5396825396825397, 0.0, 0.0, 0.0, 0.525, 0.7, 0.3, 0.0, 0.5, 0.503125, 0.6000000000000001, 0.6000000000000001, 0.3666666666666667, 0.39499999999999996, 0.0, 0.0, 0.95, 0.0, 0.0, 0.0, 0.0, 0.0, 0.0, 0.0, 0.0, 0.0, 0.0, 0.0, 0.0, 0.0, 0.0, 0.0, 0.0, 0.0, 0.0, 0.0, 0.0, 0.0, 0.0, 0.0, 0.0, 0.0, 0.0, 0.5, 0.8, 0.0, 0.0, 0.5, 0.3, 0.7666666666666667, 0.6, 0.1, 0.75, 0.6, 0.0, 0.06666666666666667, 0.6805555555555555, 0.625, 0.625, 0.5041666666666667, 0.5041666666666667, 0.0, 0.7, 0.625, 0.25, 0.0, 0.4166666666666667, 0.0, 0.44000000000000006, 0.0, 0.5, 0.6, 0.18333333333333335, 0.2803571428571428, 0.6083333333333334, 0.47777777777777775, 1.0, 0.0, 0.225, 0.0, 0.0, 0.08333333333333334, 0.08333333333333334, 0.375, 0.375, 0.5305555555555556, 0.5305555555555556, 0.0, 0.0, 0.0, 0.65, 0.0, 0.43333333333333335, 0.0, 0.6000000000000001, 0.6666666666666666, 0.22727272727272727, 0.5, 0.625, 0.0, 0.846875, 0.0, 0.0, 0.0, 0.4888888888888889, 0.85, 0.0, 0.1, 0.0, 0.5750000000000001, 0.7166666666666667, 0.4388888888888889, 0.43333333333333335, 0.0, 0.0, 0.0, 0.0, 0.7083333333333334, 0.2888888888888889, 0.7666666666666666, 0.0, 0.06666666666666667, 0.09999999999999999, 0.09999999999999999, 0.5083333333333333, 0.5083333333333333, 0.53, 0.0, 0.05, 0.39999999999999997, 0.29999999999999993, 0.41904761904761906, 0.41904761904761906, 0.0, 0.0, 0.0, 0.4, 0.0, 0.4916666666666667, 0.21666666666666667, 0.55, 0.7589285714285714, 0.0, 0.55, 0.0, 0.0, 0.0, 0.0, 0.24047619047619048, 0.0, 0.0, 0.11666666666666667, 0.55, 0.06666666666666667, 0.24166666666666664, 0.25, 0.78, 0.478125, 0.0, 0.0, 0.0, 0.0, 0.19999999999999998, 0.21666666666666665, 0.0, 0.21428571428571427, 0.35000000000000003, 0.0, 0.0, 0.0, 0.6375, 0.0, 0.2833333333333333, 0.7296296296296297, 0.15833333333333333, 0.0, 0.8, 0.7, 0.0, 0.4833333333333333, 1.0, 0.0, 0.0, 0.0, 0.0, 0.9, 0.30000000000000004, 0.75, 0.0, 0.3522222222222222, 0.0, 0.5, 0.2888888888888889, 0.0, 0.5791666666666666, 0.5, 0.0, 0.0, 0.30000000000000004, 0.4666666666666666, 0.2, 0.4666666666666666, 0.0, 0.7166666666666667, 0.6583333333333333, 0.975, 1.0, 0.0, 0.9, 0.0, 0.0, 0.5619047619047618, 0.32857142857142857, 0.7250000000000001, 0.0], \"xaxis\": \"x\", \"y\": [-0.2, -0.2, 0.2777777777777778, 0.0, 0.0, 0.3625, 0.0, 0.0, -0.16666666666666666, 0.0, 0.15, 0.0, 0.16, 0.35, -0.30000000000000004, 0.2619047619047619, 0.0, 0.21428571428571427, 0.23750000000000002, 0.0, 0.13333333333333333, -0.07499999999999998, 0.0, 0.0, 0.0, 0.1125, 0.0, 0.3333333333333333, -0.7, 0.0, 0.08333333333333333, 0.17045454545454544, 0.17777777777777778, 0.0, 0.0, 0.1952380952380952, 0.03333333333333333, 0.0, 0.0, 0.0, -0.1, 0.0, -0.3918402777777778, -0.011904761904761899, 0.0, 0.0, 0.0, -0.125, -0.2, -0.07500000000000001, 0.0, 0.12, -0.11875, 0.7, 0.7, 0.16666666666666666, 0.20500000000000002, 0.0, 0.0, -0.5, 0.0, 0.0, 0.0, 0.0, 0.0, 0.0, 0.0, 0.0, 0.0, 0.0, 0.0, 0.0, 0.0, 0.0, 0.0, 0.0, 0.0, 0.0, 0.0, 0.0, 0.0, 0.0, 0.0, 0.0, 0.0, 0.0, -0.3166666666666666, 0.375, 0.0, 0.0, -0.24431818181818182, 1.0, -0.10000000000000002, -0.10000000000000002, 0.0, 0.0, 0.26666666666666666, 0.0, 0.0, -0.1527777777777778, 0.25, 0.25, 0.2916666666666667, 0.2916666666666667, 0.0, -0.4, 0.125, -0.08333333333333333, 0.0, 0.03333333333333334, 0.0, -0.24000000000000005, 0.0, 0.5, -0.4, -0.15, 0.09226190476190477, 0.04583333333333334, -0.125, 0.013888888888888876, 0.0, 0.17500000000000002, 0.0, 0.0, -0.1, -0.1, -0.125, -0.125, -0.05555555555555556, -0.05555555555555556, 0.0, 0.0, 0.0, -0.04999999999999999, 0.0, -0.16666666666666666, 0.0, -0.15000000000000002, -0.3333333333333333, 0.06818181818181818, 0.25, 0.0, 0.0, -0.278125, 0.0, 0.0, 0.0, 0.19999999999999998, -0.35, 0.0, 0.1, 0.0, -0.08333333333333333, -0.08333333333333333, -0.13888888888888887, -0.16666666666666666, 0.0, 0.0, 0.3, 0.0, -0.17708333333333334, -0.15555555555555559, -0.3333333333333333, 0.0, -0.016666666666666666, -0.10833333333333334, -0.10833333333333334, -0.13333333333333333, -0.13333333333333333, -0.16999999999999998, 0.0, -0.07500000000000001, -0.6666666666666666, -0.5, -0.2714285714285714, -0.2714285714285714, 0.0, 0.0, 0.0, 0.1, 0.0, -0.3, 0.125, -0.4, 0.08955357142857143, 0.0, 0.55, 0.0, 0.0, -0.05, 0.0, 0.07976190476190476, 0.0, 0.0, -0.043333333333333335, 0.05, -0.08333333333333333, 6.938893903907228e-18, 0.0, -0.178125, -0.19791666666666669, 0.0, 0.0, 0.0, 0.0, -0.16666666666666666, 0.012500000000000004, 0.0, -0.07142857142857142, -0.1416666666666667, 0.0, 0.0, 0.0, 0.125, 0.0, -0.08333333333333333, -0.3351851851851852, 0.08138020833333333, 0.0, -0.6, -0.9375, 0.0, -0.16666666666666666, -0.5, 0.0, 0.0, 0.0, 0.0, 0.4, -0.04999999999999999, 0.5681818181818181, 0.0, 0.07888888888888887, 0.0, 0.5, -0.12777777777777777, 0.0, 0.3416666666666666, 0.7333333333333334, 0.0, 0.0, 0.25, 0.3666666666666667, 0.2, 0.0, 0.0, 0.4833333333333334, 0.2916666666666667, -0.024999999999999994, -0.625, 0.0, 0.6, 0.0, 0.0, -0.10753066378066378, 0.05, -0.05000000000000001, 0.0], \"yaxis\": \"y\"}, {\"hoverlabel\": {\"namelength\": 0}, \"hovertemplate\": \"<b>OLS trendline</b><br>Polarity = -0.043821 * Subjectivity + 0.010356<br>R<sup>2</sup>=0.003435<br><br>RW_prediction=False<br>Subjectivity=%{x}<br>Polarity=%{y} <b>(trend)</b>\", \"legendgroup\": \"RW_prediction=False\", \"marker\": {\"color\": \"#636efa\", \"symbol\": \"circle\"}, \"mode\": \"lines\", \"name\": \"RW_prediction=False\", \"showlegend\": false, \"type\": \"scatter\", \"x\": [0.0, 0.0, 0.0, 0.0, 0.0, 0.0, 0.0, 0.0, 0.0, 0.0, 0.0, 0.0, 0.0, 0.0, 0.0, 0.0, 0.0, 0.0, 0.0, 0.0, 0.0, 0.0, 0.0, 0.0, 0.0, 0.0, 0.0, 0.0, 0.0, 0.0, 0.0, 0.0, 0.0, 0.0, 0.0, 0.0, 0.0, 0.0, 0.0, 0.0, 0.0, 0.0, 0.0, 0.0, 0.0, 0.0, 0.0, 0.0, 0.0, 0.0, 0.0, 0.0, 0.0, 0.0, 0.0, 0.0, 0.0, 0.0, 0.0, 0.0, 0.0, 0.0, 0.0, 0.0, 0.0, 0.0, 0.0, 0.0, 0.0, 0.0, 0.0, 0.0, 0.0, 0.0, 0.0, 0.0, 0.0, 0.0, 0.0, 0.0, 0.0, 0.0, 0.0, 0.0, 0.0, 0.0, 0.0, 0.0, 0.0, 0.0, 0.0, 0.0, 0.0, 0.0, 0.0, 0.0, 0.0, 0.0, 0.0, 0.0, 0.0, 0.0, 0.0, 0.0, 0.0, 0.0, 0.0, 0.0, 0.0, 0.0, 0.0, 0.0, 0.0, 0.0, 0.0, 0.05, 0.05, 0.06666666666666667, 0.06666666666666667, 0.06666666666666667, 0.08333333333333334, 0.08333333333333334, 0.09999999999999999, 0.09999999999999999, 0.1, 0.1, 0.11666666666666667, 0.15833333333333333, 0.16666666666666666, 0.17666666666666667, 0.18333333333333335, 0.19999999999999998, 0.2, 0.21428571428571427, 0.21666666666666665, 0.21666666666666667, 0.225, 0.22727272727272727, 0.24047619047619048, 0.24166666666666664, 0.25, 0.25, 0.26666666666666666, 0.2803571428571428, 0.2833333333333333, 0.2888888888888889, 0.2888888888888889, 0.29999999999999993, 0.3, 0.3, 0.30000000000000004, 0.30000000000000004, 0.32857142857142857, 0.3444444444444445, 0.3452380952380952, 0.35000000000000003, 0.3522222222222222, 0.3666666666666667, 0.3666666666666667, 0.375, 0.375, 0.3875, 0.3904761904761904, 0.39499999999999996, 0.39999999999999997, 0.39999999999999997, 0.4, 0.4166666666666667, 0.41904761904761906, 0.41904761904761906, 0.43333333333333335, 0.43333333333333335, 0.43333333333333335, 0.4388888888888889, 0.44000000000000006, 0.45, 0.4666666666666666, 0.4666666666666666, 0.4722222222222222, 0.47777777777777775, 0.4777777777777778, 0.4777777777777778, 0.478125, 0.4833333333333333, 0.4888888888888889, 0.4916666666666667, 0.5, 0.5, 0.5, 0.5, 0.5, 0.5, 0.5, 0.5, 0.503125, 0.5041666666666667, 0.5041666666666667, 0.5083333333333333, 0.5083333333333333, 0.525, 0.525, 0.53, 0.5305555555555556, 0.5305555555555556, 0.5396825396825397, 0.5416666666666666, 0.55, 0.55, 0.55, 0.5619047619047618, 0.5750000000000001, 0.5791666666666666, 0.6, 0.6, 0.6, 0.6000000000000001, 0.6000000000000001, 0.6000000000000001, 0.6083333333333334, 0.625, 0.625, 0.625, 0.625, 0.6375, 0.65, 0.65, 0.6583333333333333, 0.6666666666666666, 0.6666666666666666, 0.6805555555555555, 0.7, 0.7, 0.7, 0.7, 0.7083333333333334, 0.7166666666666667, 0.7166666666666667, 0.7250000000000001, 0.7296296296296297, 0.75, 0.75, 0.7589285714285714, 0.7666666666666666, 0.7666666666666667, 0.78, 0.8, 0.8, 0.8452380952380952, 0.846875, 0.85, 0.85, 0.9, 0.9, 0.95, 0.975, 1.0, 1.0, 1.0], \"xaxis\": \"x\", \"y\": [0.010356134609249942, 0.010356134609249942, 0.010356134609249942, 0.010356134609249942, 0.010356134609249942, 0.010356134609249942, 0.010356134609249942, 0.010356134609249942, 0.010356134609249942, 0.010356134609249942, 0.010356134609249942, 0.010356134609249942, 0.010356134609249942, 0.010356134609249942, 0.010356134609249942, 0.010356134609249942, 0.010356134609249942, 0.010356134609249942, 0.010356134609249942, 0.010356134609249942, 0.010356134609249942, 0.010356134609249942, 0.010356134609249942, 0.010356134609249942, 0.010356134609249942, 0.010356134609249942, 0.010356134609249942, 0.010356134609249942, 0.010356134609249942, 0.010356134609249942, 0.010356134609249942, 0.010356134609249942, 0.010356134609249942, 0.010356134609249942, 0.010356134609249942, 0.010356134609249942, 0.010356134609249942, 0.010356134609249942, 0.010356134609249942, 0.010356134609249942, 0.010356134609249942, 0.010356134609249942, 0.010356134609249942, 0.010356134609249942, 0.010356134609249942, 0.010356134609249942, 0.010356134609249942, 0.010356134609249942, 0.010356134609249942, 0.010356134609249942, 0.010356134609249942, 0.010356134609249942, 0.010356134609249942, 0.010356134609249942, 0.010356134609249942, 0.010356134609249942, 0.010356134609249942, 0.010356134609249942, 0.010356134609249942, 0.010356134609249942, 0.010356134609249942, 0.010356134609249942, 0.010356134609249942, 0.010356134609249942, 0.010356134609249942, 0.010356134609249942, 0.010356134609249942, 0.010356134609249942, 0.010356134609249942, 0.010356134609249942, 0.010356134609249942, 0.010356134609249942, 0.010356134609249942, 0.010356134609249942, 0.010356134609249942, 0.010356134609249942, 0.010356134609249942, 0.010356134609249942, 0.010356134609249942, 0.010356134609249942, 0.010356134609249942, 0.010356134609249942, 0.010356134609249942, 0.010356134609249942, 0.010356134609249942, 0.010356134609249942, 0.010356134609249942, 0.010356134609249942, 0.010356134609249942, 0.010356134609249942, 0.010356134609249942, 0.010356134609249942, 0.010356134609249942, 0.010356134609249942, 0.010356134609249942, 0.010356134609249942, 0.010356134609249942, 0.010356134609249942, 0.010356134609249942, 0.010356134609249942, 0.010356134609249942, 0.010356134609249942, 0.010356134609249942, 0.010356134609249942, 0.010356134609249942, 0.010356134609249942, 0.010356134609249942, 0.010356134609249942, 0.010356134609249942, 0.010356134609249942, 0.010356134609249942, 0.010356134609249942, 0.010356134609249942, 0.010356134609249942, 0.010356134609249942, 0.008165059651118502, 0.008165059651118502, 0.007434701331741355, 0.007434701331741355, 0.007434701331741355, 0.006704343012364208, 0.006704343012364208, 0.005973984692987063, 0.005973984692987063, 0.005973984692987063, 0.005973984692987063, 0.005243626373609916, 0.00341773057516705, 0.003052551415478477, 0.0026143364238521887, 0.0023221930961013285, 0.0015918347767241835, 0.0015918347767241835, 0.0009658133601152009, 0.0008614764573470369, 0.0008614764573470369, 0.0004962972976584636, 0.0003967029813797627, -0.00018189257033460193, -0.00023406102171868136, -0.0005992401814072564, -0.0005992401814072564, -0.001329598500784403, -0.0019295356917013416, -0.0020599568201615497, -0.002303409593287266, -0.002303409593287266, -0.002790315139538693, -0.0027903151395386964, -0.0027903151395386964, -0.002790315139538698, -0.002790315139538698, -0.004042357972756662, -0.004737937324544422, -0.004772716292133805, -0.004981390097670136, -0.005078771206920421, -0.005711748417047285, -0.005711748417047285, -0.006076927576735856, -0.006076927576735856, -0.0066246963162687154, -0.006755117444728918, -0.006953357559988431, -0.0071724650558015746, -0.0071724650558015746, -0.0071724650558015746, -0.007902823375178721, -0.008007160277946887, -0.008007160277946887, -0.008633181694555868, -0.008633181694555868, -0.008633181694555868, -0.008876634467681582, -0.00892532502230673, -0.009363540013933015, -0.010093898333310158, -0.010093898333310158, -0.010337351106435876, -0.01058080387956159, -0.010580803879561593, -0.010580803879561593, -0.01059601967788195, -0.010824256652687304, -0.011067709425813022, -0.011189435812375883, -0.011554614972064454, -0.011554614972064454, -0.011554614972064454, -0.011554614972064454, -0.011554614972064454, -0.011554614972064454, -0.011554614972064454, -0.011554614972064454, -0.011691557156947672, -0.011737204551908742, -0.011737204551908742, -0.011919794131753026, -0.011919794131753026, -0.012650152451130176, -0.012650152451130176, -0.01286925994694332, -0.01289360522425589, -0.01289360522425589, -0.013293563351533848, -0.01338051077050732, -0.013745689930195894, -0.013745689930195894, -0.013745689930195894, -0.01426737444403671, -0.014841227409261616, -0.015023816989105897, -0.015936764888327334, -0.015936764888327334, -0.015936764888327334, -0.015936764888327338, -0.015936764888327338, -0.015936764888327338, -0.01630194404801591, -0.017032302367393053, -0.017032302367393053, -0.017032302367393053, -0.017032302367393053, -0.017580071106925912, -0.018127839846458774, -0.018127839846458774, -0.018493019006147346, -0.018858198165835918, -0.018858198165835918, -0.019466830098650204, -0.02031891480459021, -0.02031891480459021, -0.02031891480459021, -0.02031891480459021, -0.02068409396427879, -0.02104927312396736, -0.02104927312396736, -0.021414452283655936, -0.021617329594594035, -0.022509989762721654, -0.022509989762721654, -0.022901253148102266, -0.023240348082098797, -0.023240348082098804, -0.023824634737600516, -0.02470106472085309, -0.02470106472085309, -0.026683465873448203, -0.02675519749410132, -0.026892139678984534, -0.026892139678984534, -0.02908321463711597, -0.02908321463711597, -0.031274289595247404, -0.03236982707431313, -0.033465364553378854, -0.033465364553378854, -0.033465364553378854], \"yaxis\": \"y\"}, {\"customdata\": [[\"Re-Tweets not necessarily an endorsement.\\nWill follow back\\nParler: https://t.co/609iyKnJbF\\nGab: https://t.co/SMTpvBXLGo\"], [\"Justice-Respect-Truth-no excuses-no fake news-have met Aliens & Ghosts-so know there is more than this crazed MESS we all face-thanks 2 corrupt greedy LEADERS.\"], [\"Justice-Respect-Truth-no excuses-no fake news-have met Aliens & Ghosts-so know there is more than this crazed MESS we all face-thanks 2 corrupt greedy LEADERS.\"], [\"Justice-Respect-Truth-no excuses-no fake news-have met Aliens & Ghosts-so know there is more than this crazed MESS we all face-thanks 2 corrupt greedy LEADERS.\"], [\"Justice-Respect-Truth-no excuses-no fake news-have met Aliens & Ghosts-so know there is more than this crazed MESS we all face-thanks 2 corrupt greedy LEADERS.\"], [\"Justice-Respect-Truth-no excuses-no fake news-have met Aliens & Ghosts-so know there is more than this crazed MESS we all face-thanks 2 corrupt greedy LEADERS.\"], [\"Justice-Respect-Truth-no excuses-no fake news-have met Aliens & Ghosts-so know there is more than this crazed MESS we all face-thanks 2 corrupt greedy LEADERS.\"], [\"https://t.co/ntFHEHoVmN\"], [\"Don't trust the MSM #ScumMedia. Snowflakes will be blocked. Pro Brexit. Will follow back. Every life matters! Follow me on Parler.... same username.\"], [\"The 'Right' Time Is Now!\"], [\"Pro MMA (3-1) Amateur (5-3), WFS Amateur MW Champ, BCMMA LHW Title contender, IMMAF Team UK, Elite MMA Agency. Blerd\"], [\"God Save The Queen & Her Police Service\"], [\"Voter. When Labour wins we usually all win, unless there is a Labour Report Whitewash. Fighting back to preserve fairness for all, which typifies the true UK.\"], [\"Eastend born n bred..Hate injustice, selfish people, and lazy authorities! Supporter of our Police\"], [\"Writer-Activist-Educator-Mum \\nFolkestone/London/Ayrshire \\nAgent @gordonwise \\n@SpelkFiction\\n#workingclasswriters \\n#WriteNowLive  #ACEsupported\"], [\"ARSENAL FC \\u26bd\\ufe0f, On the Square \\ud83d\\udd32 :Irish blood \\u2618\\ud83c\\uddee\\ud83c\\uddea, English heart \\u2764\\ud83c\\udf39, this I\\u2019m made of There is no one on earth I\\u2019m afraid of And no regime can buy or sell me.\"], [\"Conservative, Patriot and Brexiteer - Please no DMs.\"], [\"#ASD child social care DM's open\\n#Survivor #CSA #CSE #IBD #Crohns #nystagmus #dcfc\"], [\"Pro Europe, but EU isn't the answer. Islam has no place in civilised countries.\"], [\"Dagenham & Redbridge fan - Brexiteer - love travel but hate EU\"], [\"A better world for future generations. Love Animals,family life,travel. Christian. Support Army, RAF, Police,Navy & Fire Service. Brexit MAGA AllLivesMatter\"], [\"Retweets are not necessarily endorsements.\\nDisagree with politeness and/or humour... please!\"], [\"Welsh, living in England\"], [\"Headmaster at St Moribund\\u2019s College for the Rehabilitation of the Perpetually Offended. All tweets my opinion. Army Veteran. Does not play nice with idiots.\"], [\"Not afraid to speak my mind about any subject of interests. However I am careful not to knowingly offend anyone in the process.  Mindful of the power of words.\"], [\"Pro Brexit. Anti EU dictatorship. No time for political correctness. I speak as I find.\\nPronouns: get a grip / fuck off!\"], [\"Voted for Brexit - I'm not a typical social media person, I am just an average guy who cares deeply about the future of his family and for his country \\ud83c\\uddec\\ud83c\\udde7\"], [\"#3.5% #FBPE. Appalled by this corrupt and amoral Tory government and its prominent supporters. Love art, reading, the continent, cats. No racists or Brexiters\"], [\"No bullshit here .Will not tolerate Government #covid19 & #lockdown lies .Truthseeker for Madeleine #McCann & children with no voice..truth is all in the #\"], [\"Laugh a lot, love with all your might, make a difference! we only get one go at it. life isn\\u2019t a rehearsal!\"]], \"hoverlabel\": {\"namelength\": 0}, \"hovertemplate\": \"RW_prediction=True<br>Subjectivity=%{x}<br>Polarity=%{y}<br>Bios=%{customdata[0]}\", \"legendgroup\": \"RW_prediction=True\", \"marker\": {\"color\": \"#EF553B\", \"symbol\": \"circle\"}, \"mode\": \"markers\", \"name\": \"RW_prediction=True\", \"showlegend\": true, \"type\": \"scatter\", \"x\": [0.0, 0.1, 0.1, 0.1, 0.1, 0.1, 0.1, 0.125, 0.0, 0.4666666666666666, 0.0, 0.2, 0.0, 0.45357142857142857, 0.65, 0.35555555555555557, 0.55, 0.48, 0.3111111111111111, 0.0, 0.4, 0.0, 0.0, 0.375, 0.0, 0.6, 0.0, 0.0, 0.6875, 1.0], \"xaxis\": \"x\", \"y\": [0.0, 0.1, 0.1, 0.1, 0.1, 0.1, 0.1, -0.05833333333333333, 0.0, -0.10694444444444444, 0.0, -0.3, 0.0, -0.43080357142857145, 0.2, 0.3444444444444444, -0.4, 0.13666666666666666, 0.11111111111111112, 0.0, 0.1, 0.0, -0.05, -0.35, 0.0, 0.65, 0.0, 0.0, 0.1875, 1.0], \"yaxis\": \"y\"}, {\"hoverlabel\": {\"namelength\": 0}, \"hovertemplate\": \"<b>OLS trendline</b><br>Polarity = 0.435260 * Subjectivity + -0.050797<br>R<sup>2</sup>=0.180255<br><br>RW_prediction=True<br>Subjectivity=%{x}<br>Polarity=%{y} <b>(trend)</b>\", \"legendgroup\": \"RW_prediction=True\", \"marker\": {\"color\": \"#EF553B\", \"symbol\": \"circle\"}, \"mode\": \"lines\", \"name\": \"RW_prediction=True\", \"showlegend\": false, \"type\": \"scatter\", \"x\": [0.0, 0.0, 0.0, 0.0, 0.0, 0.0, 0.0, 0.0, 0.0, 0.0, 0.1, 0.1, 0.1, 0.1, 0.1, 0.1, 0.125, 0.2, 0.3111111111111111, 0.35555555555555557, 0.375, 0.4, 0.45357142857142857, 0.4666666666666666, 0.48, 0.55, 0.6, 0.65, 0.6875, 1.0], \"xaxis\": \"x\", \"y\": [-0.050797156498586, -0.050797156498586, -0.050797156498586, -0.050797156498586, -0.050797156498586, -0.050797156498586, -0.050797156498586, -0.050797156498586, -0.050797156498586, -0.050797156498586, -0.007271110301731873, -0.007271110301731873, -0.007271110301731873, -0.007271110301731873, -0.007271110301731873, -0.007271110301731873, 0.0036104012474816594, 0.036254935895122256, 0.08461720944718241, 0.10396211886800645, 0.112425516739617, 0.12330702828883051, 0.14662455303714522, 0.15232439242006657, 0.15812786524631384, 0.18859609758411172, 0.21035912068253876, 0.23212214378096585, 0.2484444111047861, 0.3844633054699553], \"yaxis\": \"y\"}],\n",
              "                        {\"legend\": {\"tracegroupgap\": 0}, \"margin\": {\"t\": 60}, \"template\": {\"data\": {\"bar\": [{\"error_x\": {\"color\": \"#2a3f5f\"}, \"error_y\": {\"color\": \"#2a3f5f\"}, \"marker\": {\"line\": {\"color\": \"#E5ECF6\", \"width\": 0.5}}, \"type\": \"bar\"}], \"barpolar\": [{\"marker\": {\"line\": {\"color\": \"#E5ECF6\", \"width\": 0.5}}, \"type\": \"barpolar\"}], \"carpet\": [{\"aaxis\": {\"endlinecolor\": \"#2a3f5f\", \"gridcolor\": \"white\", \"linecolor\": \"white\", \"minorgridcolor\": \"white\", \"startlinecolor\": \"#2a3f5f\"}, \"baxis\": {\"endlinecolor\": \"#2a3f5f\", \"gridcolor\": \"white\", \"linecolor\": \"white\", \"minorgridcolor\": \"white\", \"startlinecolor\": \"#2a3f5f\"}, \"type\": \"carpet\"}], \"choropleth\": [{\"colorbar\": {\"outlinewidth\": 0, \"ticks\": \"\"}, \"type\": \"choropleth\"}], \"contour\": [{\"colorbar\": {\"outlinewidth\": 0, \"ticks\": \"\"}, \"colorscale\": [[0.0, \"#0d0887\"], [0.1111111111111111, \"#46039f\"], [0.2222222222222222, \"#7201a8\"], [0.3333333333333333, \"#9c179e\"], [0.4444444444444444, \"#bd3786\"], [0.5555555555555556, \"#d8576b\"], [0.6666666666666666, \"#ed7953\"], [0.7777777777777778, \"#fb9f3a\"], [0.8888888888888888, \"#fdca26\"], [1.0, \"#f0f921\"]], \"type\": \"contour\"}], \"contourcarpet\": [{\"colorbar\": {\"outlinewidth\": 0, \"ticks\": \"\"}, \"type\": \"contourcarpet\"}], \"heatmap\": [{\"colorbar\": {\"outlinewidth\": 0, \"ticks\": \"\"}, \"colorscale\": [[0.0, \"#0d0887\"], [0.1111111111111111, \"#46039f\"], [0.2222222222222222, \"#7201a8\"], [0.3333333333333333, \"#9c179e\"], [0.4444444444444444, \"#bd3786\"], [0.5555555555555556, \"#d8576b\"], [0.6666666666666666, \"#ed7953\"], [0.7777777777777778, \"#fb9f3a\"], [0.8888888888888888, \"#fdca26\"], [1.0, \"#f0f921\"]], \"type\": \"heatmap\"}], \"heatmapgl\": [{\"colorbar\": {\"outlinewidth\": 0, \"ticks\": \"\"}, \"colorscale\": [[0.0, \"#0d0887\"], [0.1111111111111111, \"#46039f\"], [0.2222222222222222, \"#7201a8\"], [0.3333333333333333, \"#9c179e\"], [0.4444444444444444, \"#bd3786\"], [0.5555555555555556, \"#d8576b\"], [0.6666666666666666, \"#ed7953\"], [0.7777777777777778, \"#fb9f3a\"], [0.8888888888888888, \"#fdca26\"], [1.0, \"#f0f921\"]], \"type\": \"heatmapgl\"}], \"histogram\": [{\"marker\": {\"colorbar\": {\"outlinewidth\": 0, \"ticks\": \"\"}}, \"type\": \"histogram\"}], \"histogram2d\": [{\"colorbar\": {\"outlinewidth\": 0, \"ticks\": \"\"}, \"colorscale\": [[0.0, \"#0d0887\"], [0.1111111111111111, \"#46039f\"], [0.2222222222222222, \"#7201a8\"], [0.3333333333333333, \"#9c179e\"], [0.4444444444444444, \"#bd3786\"], [0.5555555555555556, \"#d8576b\"], [0.6666666666666666, \"#ed7953\"], [0.7777777777777778, \"#fb9f3a\"], [0.8888888888888888, \"#fdca26\"], [1.0, \"#f0f921\"]], \"type\": \"histogram2d\"}], \"histogram2dcontour\": [{\"colorbar\": {\"outlinewidth\": 0, \"ticks\": \"\"}, \"colorscale\": [[0.0, \"#0d0887\"], [0.1111111111111111, \"#46039f\"], [0.2222222222222222, \"#7201a8\"], [0.3333333333333333, \"#9c179e\"], [0.4444444444444444, \"#bd3786\"], [0.5555555555555556, \"#d8576b\"], [0.6666666666666666, \"#ed7953\"], [0.7777777777777778, \"#fb9f3a\"], [0.8888888888888888, \"#fdca26\"], [1.0, \"#f0f921\"]], \"type\": \"histogram2dcontour\"}], \"mesh3d\": [{\"colorbar\": {\"outlinewidth\": 0, \"ticks\": \"\"}, \"type\": \"mesh3d\"}], \"parcoords\": [{\"line\": {\"colorbar\": {\"outlinewidth\": 0, \"ticks\": \"\"}}, \"type\": \"parcoords\"}], \"pie\": [{\"automargin\": true, \"type\": \"pie\"}], \"scatter\": [{\"marker\": {\"colorbar\": {\"outlinewidth\": 0, \"ticks\": \"\"}}, \"type\": \"scatter\"}], \"scatter3d\": [{\"line\": {\"colorbar\": {\"outlinewidth\": 0, \"ticks\": \"\"}}, \"marker\": {\"colorbar\": {\"outlinewidth\": 0, \"ticks\": \"\"}}, \"type\": \"scatter3d\"}], \"scattercarpet\": [{\"marker\": {\"colorbar\": {\"outlinewidth\": 0, \"ticks\": \"\"}}, \"type\": \"scattercarpet\"}], \"scattergeo\": [{\"marker\": {\"colorbar\": {\"outlinewidth\": 0, \"ticks\": \"\"}}, \"type\": \"scattergeo\"}], \"scattergl\": [{\"marker\": {\"colorbar\": {\"outlinewidth\": 0, \"ticks\": \"\"}}, \"type\": \"scattergl\"}], \"scattermapbox\": [{\"marker\": {\"colorbar\": {\"outlinewidth\": 0, \"ticks\": \"\"}}, \"type\": \"scattermapbox\"}], \"scatterpolar\": [{\"marker\": {\"colorbar\": {\"outlinewidth\": 0, \"ticks\": \"\"}}, \"type\": \"scatterpolar\"}], \"scatterpolargl\": [{\"marker\": {\"colorbar\": {\"outlinewidth\": 0, \"ticks\": \"\"}}, \"type\": \"scatterpolargl\"}], \"scatterternary\": [{\"marker\": {\"colorbar\": {\"outlinewidth\": 0, \"ticks\": \"\"}}, \"type\": \"scatterternary\"}], \"surface\": [{\"colorbar\": {\"outlinewidth\": 0, \"ticks\": \"\"}, \"colorscale\": [[0.0, \"#0d0887\"], [0.1111111111111111, \"#46039f\"], [0.2222222222222222, \"#7201a8\"], [0.3333333333333333, \"#9c179e\"], [0.4444444444444444, \"#bd3786\"], [0.5555555555555556, \"#d8576b\"], [0.6666666666666666, \"#ed7953\"], [0.7777777777777778, \"#fb9f3a\"], [0.8888888888888888, \"#fdca26\"], [1.0, \"#f0f921\"]], \"type\": \"surface\"}], \"table\": [{\"cells\": {\"fill\": {\"color\": \"#EBF0F8\"}, \"line\": {\"color\": \"white\"}}, \"header\": {\"fill\": {\"color\": \"#C8D4E3\"}, \"line\": {\"color\": \"white\"}}, \"type\": \"table\"}]}, \"layout\": {\"annotationdefaults\": {\"arrowcolor\": \"#2a3f5f\", \"arrowhead\": 0, \"arrowwidth\": 1}, \"coloraxis\": {\"colorbar\": {\"outlinewidth\": 0, \"ticks\": \"\"}}, \"colorscale\": {\"diverging\": [[0, \"#8e0152\"], [0.1, \"#c51b7d\"], [0.2, \"#de77ae\"], [0.3, \"#f1b6da\"], [0.4, \"#fde0ef\"], [0.5, \"#f7f7f7\"], [0.6, \"#e6f5d0\"], [0.7, \"#b8e186\"], [0.8, \"#7fbc41\"], [0.9, \"#4d9221\"], [1, \"#276419\"]], \"sequential\": [[0.0, \"#0d0887\"], [0.1111111111111111, \"#46039f\"], [0.2222222222222222, \"#7201a8\"], [0.3333333333333333, \"#9c179e\"], [0.4444444444444444, \"#bd3786\"], [0.5555555555555556, \"#d8576b\"], [0.6666666666666666, \"#ed7953\"], [0.7777777777777778, \"#fb9f3a\"], [0.8888888888888888, \"#fdca26\"], [1.0, \"#f0f921\"]], \"sequentialminus\": [[0.0, \"#0d0887\"], [0.1111111111111111, \"#46039f\"], [0.2222222222222222, \"#7201a8\"], [0.3333333333333333, \"#9c179e\"], [0.4444444444444444, \"#bd3786\"], [0.5555555555555556, \"#d8576b\"], [0.6666666666666666, \"#ed7953\"], [0.7777777777777778, \"#fb9f3a\"], [0.8888888888888888, \"#fdca26\"], [1.0, \"#f0f921\"]]}, \"colorway\": [\"#636efa\", \"#EF553B\", \"#00cc96\", \"#ab63fa\", \"#FFA15A\", \"#19d3f3\", \"#FF6692\", \"#B6E880\", \"#FF97FF\", \"#FECB52\"], \"font\": {\"color\": \"#2a3f5f\"}, \"geo\": {\"bgcolor\": \"white\", \"lakecolor\": \"white\", \"landcolor\": \"#E5ECF6\", \"showlakes\": true, \"showland\": true, \"subunitcolor\": \"white\"}, \"hoverlabel\": {\"align\": \"left\"}, \"hovermode\": \"closest\", \"mapbox\": {\"style\": \"light\"}, \"paper_bgcolor\": \"white\", \"plot_bgcolor\": \"#E5ECF6\", \"polar\": {\"angularaxis\": {\"gridcolor\": \"white\", \"linecolor\": \"white\", \"ticks\": \"\"}, \"bgcolor\": \"#E5ECF6\", \"radialaxis\": {\"gridcolor\": \"white\", \"linecolor\": \"white\", \"ticks\": \"\"}}, \"scene\": {\"xaxis\": {\"backgroundcolor\": \"#E5ECF6\", \"gridcolor\": \"white\", \"gridwidth\": 2, \"linecolor\": \"white\", \"showbackground\": true, \"ticks\": \"\", \"zerolinecolor\": \"white\"}, \"yaxis\": {\"backgroundcolor\": \"#E5ECF6\", \"gridcolor\": \"white\", \"gridwidth\": 2, \"linecolor\": \"white\", \"showbackground\": true, \"ticks\": \"\", \"zerolinecolor\": \"white\"}, \"zaxis\": {\"backgroundcolor\": \"#E5ECF6\", \"gridcolor\": \"white\", \"gridwidth\": 2, \"linecolor\": \"white\", \"showbackground\": true, \"ticks\": \"\", \"zerolinecolor\": \"white\"}}, \"shapedefaults\": {\"line\": {\"color\": \"#2a3f5f\"}}, \"ternary\": {\"aaxis\": {\"gridcolor\": \"white\", \"linecolor\": \"white\", \"ticks\": \"\"}, \"baxis\": {\"gridcolor\": \"white\", \"linecolor\": \"white\", \"ticks\": \"\"}, \"bgcolor\": \"#E5ECF6\", \"caxis\": {\"gridcolor\": \"white\", \"linecolor\": \"white\", \"ticks\": \"\"}}, \"title\": {\"x\": 0.05}, \"xaxis\": {\"automargin\": true, \"gridcolor\": \"white\", \"linecolor\": \"white\", \"ticks\": \"\", \"title\": {\"standoff\": 15}, \"zerolinecolor\": \"white\", \"zerolinewidth\": 2}, \"yaxis\": {\"automargin\": true, \"gridcolor\": \"white\", \"linecolor\": \"white\", \"ticks\": \"\", \"title\": {\"standoff\": 15}, \"zerolinecolor\": \"white\", \"zerolinewidth\": 2}}}, \"xaxis\": {\"anchor\": \"y\", \"domain\": [0.0, 1.0], \"range\": [-0.1, 1.1], \"title\": {\"text\": \"Subjectivity\"}}, \"yaxis\": {\"anchor\": \"x\", \"domain\": [0.0, 1.0], \"range\": [-1.1, 1.1], \"title\": {\"text\": \"Polarity\"}}},\n",
              "                        {\"responsive\": true}\n",
              "                    ).then(function(){\n",
              "                            \n",
              "var gd = document.getElementById('428d1b47-fc28-46c5-b423-b39c536bb9cc');\n",
              "var x = new MutationObserver(function (mutations, observer) {{\n",
              "        var display = window.getComputedStyle(gd).display;\n",
              "        if (!display || display === 'none') {{\n",
              "            console.log([gd, 'removed!']);\n",
              "            Plotly.purge(gd);\n",
              "            observer.disconnect();\n",
              "        }}\n",
              "}});\n",
              "\n",
              "// Listen for the removal of the full notebook cells\n",
              "var notebookContainer = gd.closest('#notebook-container');\n",
              "if (notebookContainer) {{\n",
              "    x.observe(notebookContainer, {childList: true});\n",
              "}}\n",
              "\n",
              "// Listen for the clearing of the current output cell\n",
              "var outputEl = gd.closest('.output');\n",
              "if (outputEl) {{\n",
              "    x.observe(outputEl, {childList: true});\n",
              "}}\n",
              "\n",
              "                        })\n",
              "                };\n",
              "                \n",
              "            </script>\n",
              "        </div>\n",
              "</body>\n",
              "</html>"
            ]
          },
          "metadata": {
            "tags": []
          }
        }
      ]
    },
    {
      "cell_type": "code",
      "metadata": {
        "id": "MhbrIAViNAYM",
        "colab_type": "code",
        "colab": {
          "base_uri": "https://localhost:8080/",
          "height": 17
        },
        "outputId": "80e97fee-bde3-4b33-ecde-14479eb5199c"
      },
      "source": [
        "grouped_by_RW, fig1, fig2, final = run_process(\"@GuidoFawkes\", \"2020-08-09\",\"2020-08-10\")"
      ],
      "execution_count": 42,
      "outputs": [
        {
          "output_type": "display_data",
          "data": {
            "text/html": [
              ""
            ],
            "text/plain": [
              "<IPython.core.display.HTML object>"
            ]
          },
          "metadata": {
            "tags": []
          }
        },
        {
          "output_type": "display_data",
          "data": {
            "text/html": [
              ""
            ],
            "text/plain": [
              "<IPython.core.display.HTML object>"
            ]
          },
          "metadata": {
            "tags": []
          }
        },
        {
          "output_type": "display_data",
          "data": {
            "text/html": [
              ""
            ],
            "text/plain": [
              "<IPython.core.display.HTML object>"
            ]
          },
          "metadata": {
            "tags": []
          }
        },
        {
          "output_type": "display_data",
          "data": {
            "text/html": [
              ""
            ],
            "text/plain": [
              "<IPython.core.display.HTML object>"
            ]
          },
          "metadata": {
            "tags": []
          }
        },
        {
          "output_type": "display_data",
          "data": {
            "text/html": [
              ""
            ],
            "text/plain": [
              "<IPython.core.display.HTML object>"
            ]
          },
          "metadata": {
            "tags": []
          }
        },
        {
          "output_type": "display_data",
          "data": {
            "text/html": [
              ""
            ],
            "text/plain": [
              "<IPython.core.display.HTML object>"
            ]
          },
          "metadata": {
            "tags": []
          }
        },
        {
          "output_type": "display_data",
          "data": {
            "text/html": [
              ""
            ],
            "text/plain": [
              "<IPython.core.display.HTML object>"
            ]
          },
          "metadata": {
            "tags": []
          }
        },
        {
          "output_type": "display_data",
          "data": {
            "text/html": [
              ""
            ],
            "text/plain": [
              "<IPython.core.display.HTML object>"
            ]
          },
          "metadata": {
            "tags": []
          }
        },
        {
          "output_type": "display_data",
          "data": {
            "text/html": [
              ""
            ],
            "text/plain": [
              "<IPython.core.display.HTML object>"
            ]
          },
          "metadata": {
            "tags": []
          }
        },
        {
          "output_type": "display_data",
          "data": {
            "text/html": [
              ""
            ],
            "text/plain": [
              "<IPython.core.display.HTML object>"
            ]
          },
          "metadata": {
            "tags": []
          }
        },
        {
          "output_type": "display_data",
          "data": {
            "text/html": [
              ""
            ],
            "text/plain": [
              "<IPython.core.display.HTML object>"
            ]
          },
          "metadata": {
            "tags": []
          }
        },
        {
          "output_type": "display_data",
          "data": {
            "text/html": [
              ""
            ],
            "text/plain": [
              "<IPython.core.display.HTML object>"
            ]
          },
          "metadata": {
            "tags": []
          }
        },
        {
          "output_type": "display_data",
          "data": {
            "text/html": [
              ""
            ],
            "text/plain": [
              "<IPython.core.display.HTML object>"
            ]
          },
          "metadata": {
            "tags": []
          }
        },
        {
          "output_type": "display_data",
          "data": {
            "text/html": [
              ""
            ],
            "text/plain": [
              "<IPython.core.display.HTML object>"
            ]
          },
          "metadata": {
            "tags": []
          }
        },
        {
          "output_type": "display_data",
          "data": {
            "text/html": [
              ""
            ],
            "text/plain": [
              "<IPython.core.display.HTML object>"
            ]
          },
          "metadata": {
            "tags": []
          }
        },
        {
          "output_type": "display_data",
          "data": {
            "text/html": [
              ""
            ],
            "text/plain": [
              "<IPython.core.display.HTML object>"
            ]
          },
          "metadata": {
            "tags": []
          }
        },
        {
          "output_type": "display_data",
          "data": {
            "text/html": [
              ""
            ],
            "text/plain": [
              "<IPython.core.display.HTML object>"
            ]
          },
          "metadata": {
            "tags": []
          }
        },
        {
          "output_type": "display_data",
          "data": {
            "text/html": [
              ""
            ],
            "text/plain": [
              "<IPython.core.display.HTML object>"
            ]
          },
          "metadata": {
            "tags": []
          }
        },
        {
          "output_type": "display_data",
          "data": {
            "text/html": [
              ""
            ],
            "text/plain": [
              "<IPython.core.display.HTML object>"
            ]
          },
          "metadata": {
            "tags": []
          }
        },
        {
          "output_type": "display_data",
          "data": {
            "text/html": [
              ""
            ],
            "text/plain": [
              "<IPython.core.display.HTML object>"
            ]
          },
          "metadata": {
            "tags": []
          }
        },
        {
          "output_type": "display_data",
          "data": {
            "text/html": [
              ""
            ],
            "text/plain": [
              "<IPython.core.display.HTML object>"
            ]
          },
          "metadata": {
            "tags": []
          }
        },
        {
          "output_type": "display_data",
          "data": {
            "text/html": [
              ""
            ],
            "text/plain": [
              "<IPython.core.display.HTML object>"
            ]
          },
          "metadata": {
            "tags": []
          }
        },
        {
          "output_type": "display_data",
          "data": {
            "text/html": [
              ""
            ],
            "text/plain": [
              "<IPython.core.display.HTML object>"
            ]
          },
          "metadata": {
            "tags": []
          }
        },
        {
          "output_type": "display_data",
          "data": {
            "text/html": [
              ""
            ],
            "text/plain": [
              "<IPython.core.display.HTML object>"
            ]
          },
          "metadata": {
            "tags": []
          }
        },
        {
          "output_type": "display_data",
          "data": {
            "text/html": [
              ""
            ],
            "text/plain": [
              "<IPython.core.display.HTML object>"
            ]
          },
          "metadata": {
            "tags": []
          }
        },
        {
          "output_type": "display_data",
          "data": {
            "text/html": [
              ""
            ],
            "text/plain": [
              "<IPython.core.display.HTML object>"
            ]
          },
          "metadata": {
            "tags": []
          }
        },
        {
          "output_type": "display_data",
          "data": {
            "text/html": [
              ""
            ],
            "text/plain": [
              "<IPython.core.display.HTML object>"
            ]
          },
          "metadata": {
            "tags": []
          }
        },
        {
          "output_type": "display_data",
          "data": {
            "text/html": [
              ""
            ],
            "text/plain": [
              "<IPython.core.display.HTML object>"
            ]
          },
          "metadata": {
            "tags": []
          }
        },
        {
          "output_type": "display_data",
          "data": {
            "text/html": [
              ""
            ],
            "text/plain": [
              "<IPython.core.display.HTML object>"
            ]
          },
          "metadata": {
            "tags": []
          }
        },
        {
          "output_type": "display_data",
          "data": {
            "text/html": [
              ""
            ],
            "text/plain": [
              "<IPython.core.display.HTML object>"
            ]
          },
          "metadata": {
            "tags": []
          }
        },
        {
          "output_type": "display_data",
          "data": {
            "text/html": [
              ""
            ],
            "text/plain": [
              "<IPython.core.display.HTML object>"
            ]
          },
          "metadata": {
            "tags": []
          }
        },
        {
          "output_type": "display_data",
          "data": {
            "text/html": [
              ""
            ],
            "text/plain": [
              "<IPython.core.display.HTML object>"
            ]
          },
          "metadata": {
            "tags": []
          }
        },
        {
          "output_type": "display_data",
          "data": {
            "text/html": [
              ""
            ],
            "text/plain": [
              "<IPython.core.display.HTML object>"
            ]
          },
          "metadata": {
            "tags": []
          }
        },
        {
          "output_type": "display_data",
          "data": {
            "text/html": [
              ""
            ],
            "text/plain": [
              "<IPython.core.display.HTML object>"
            ]
          },
          "metadata": {
            "tags": []
          }
        },
        {
          "output_type": "display_data",
          "data": {
            "text/html": [
              ""
            ],
            "text/plain": [
              "<IPython.core.display.HTML object>"
            ]
          },
          "metadata": {
            "tags": []
          }
        },
        {
          "output_type": "display_data",
          "data": {
            "text/html": [
              ""
            ],
            "text/plain": [
              "<IPython.core.display.HTML object>"
            ]
          },
          "metadata": {
            "tags": []
          }
        },
        {
          "output_type": "display_data",
          "data": {
            "text/html": [
              ""
            ],
            "text/plain": [
              "<IPython.core.display.HTML object>"
            ]
          },
          "metadata": {
            "tags": []
          }
        },
        {
          "output_type": "display_data",
          "data": {
            "text/html": [
              ""
            ],
            "text/plain": [
              "<IPython.core.display.HTML object>"
            ]
          },
          "metadata": {
            "tags": []
          }
        },
        {
          "output_type": "display_data",
          "data": {
            "text/html": [
              ""
            ],
            "text/plain": [
              "<IPython.core.display.HTML object>"
            ]
          },
          "metadata": {
            "tags": []
          }
        },
        {
          "output_type": "display_data",
          "data": {
            "text/html": [
              ""
            ],
            "text/plain": [
              "<IPython.core.display.HTML object>"
            ]
          },
          "metadata": {
            "tags": []
          }
        },
        {
          "output_type": "display_data",
          "data": {
            "text/html": [
              ""
            ],
            "text/plain": [
              "<IPython.core.display.HTML object>"
            ]
          },
          "metadata": {
            "tags": []
          }
        },
        {
          "output_type": "display_data",
          "data": {
            "text/html": [
              ""
            ],
            "text/plain": [
              "<IPython.core.display.HTML object>"
            ]
          },
          "metadata": {
            "tags": []
          }
        },
        {
          "output_type": "display_data",
          "data": {
            "text/html": [
              ""
            ],
            "text/plain": [
              "<IPython.core.display.HTML object>"
            ]
          },
          "metadata": {
            "tags": []
          }
        },
        {
          "output_type": "display_data",
          "data": {
            "text/html": [
              ""
            ],
            "text/plain": [
              "<IPython.core.display.HTML object>"
            ]
          },
          "metadata": {
            "tags": []
          }
        },
        {
          "output_type": "display_data",
          "data": {
            "text/html": [
              ""
            ],
            "text/plain": [
              "<IPython.core.display.HTML object>"
            ]
          },
          "metadata": {
            "tags": []
          }
        },
        {
          "output_type": "display_data",
          "data": {
            "text/html": [
              ""
            ],
            "text/plain": [
              "<IPython.core.display.HTML object>"
            ]
          },
          "metadata": {
            "tags": []
          }
        },
        {
          "output_type": "display_data",
          "data": {
            "text/html": [
              ""
            ],
            "text/plain": [
              "<IPython.core.display.HTML object>"
            ]
          },
          "metadata": {
            "tags": []
          }
        },
        {
          "output_type": "display_data",
          "data": {
            "text/html": [
              ""
            ],
            "text/plain": [
              "<IPython.core.display.HTML object>"
            ]
          },
          "metadata": {
            "tags": []
          }
        },
        {
          "output_type": "display_data",
          "data": {
            "text/html": [
              ""
            ],
            "text/plain": [
              "<IPython.core.display.HTML object>"
            ]
          },
          "metadata": {
            "tags": []
          }
        },
        {
          "output_type": "display_data",
          "data": {
            "text/html": [
              ""
            ],
            "text/plain": [
              "<IPython.core.display.HTML object>"
            ]
          },
          "metadata": {
            "tags": []
          }
        },
        {
          "output_type": "display_data",
          "data": {
            "text/html": [
              ""
            ],
            "text/plain": [
              "<IPython.core.display.HTML object>"
            ]
          },
          "metadata": {
            "tags": []
          }
        },
        {
          "output_type": "display_data",
          "data": {
            "text/html": [
              ""
            ],
            "text/plain": [
              "<IPython.core.display.HTML object>"
            ]
          },
          "metadata": {
            "tags": []
          }
        },
        {
          "output_type": "display_data",
          "data": {
            "text/html": [
              ""
            ],
            "text/plain": [
              "<IPython.core.display.HTML object>"
            ]
          },
          "metadata": {
            "tags": []
          }
        },
        {
          "output_type": "display_data",
          "data": {
            "text/html": [
              ""
            ],
            "text/plain": [
              "<IPython.core.display.HTML object>"
            ]
          },
          "metadata": {
            "tags": []
          }
        },
        {
          "output_type": "display_data",
          "data": {
            "text/html": [
              ""
            ],
            "text/plain": [
              "<IPython.core.display.HTML object>"
            ]
          },
          "metadata": {
            "tags": []
          }
        },
        {
          "output_type": "display_data",
          "data": {
            "text/html": [
              ""
            ],
            "text/plain": [
              "<IPython.core.display.HTML object>"
            ]
          },
          "metadata": {
            "tags": []
          }
        },
        {
          "output_type": "display_data",
          "data": {
            "text/html": [
              ""
            ],
            "text/plain": [
              "<IPython.core.display.HTML object>"
            ]
          },
          "metadata": {
            "tags": []
          }
        },
        {
          "output_type": "display_data",
          "data": {
            "text/html": [
              ""
            ],
            "text/plain": [
              "<IPython.core.display.HTML object>"
            ]
          },
          "metadata": {
            "tags": []
          }
        },
        {
          "output_type": "display_data",
          "data": {
            "text/html": [
              ""
            ],
            "text/plain": [
              "<IPython.core.display.HTML object>"
            ]
          },
          "metadata": {
            "tags": []
          }
        },
        {
          "output_type": "display_data",
          "data": {
            "text/html": [
              ""
            ],
            "text/plain": [
              "<IPython.core.display.HTML object>"
            ]
          },
          "metadata": {
            "tags": []
          }
        },
        {
          "output_type": "display_data",
          "data": {
            "text/html": [
              ""
            ],
            "text/plain": [
              "<IPython.core.display.HTML object>"
            ]
          },
          "metadata": {
            "tags": []
          }
        },
        {
          "output_type": "display_data",
          "data": {
            "text/html": [
              ""
            ],
            "text/plain": [
              "<IPython.core.display.HTML object>"
            ]
          },
          "metadata": {
            "tags": []
          }
        },
        {
          "output_type": "display_data",
          "data": {
            "text/html": [
              ""
            ],
            "text/plain": [
              "<IPython.core.display.HTML object>"
            ]
          },
          "metadata": {
            "tags": []
          }
        },
        {
          "output_type": "display_data",
          "data": {
            "text/html": [
              ""
            ],
            "text/plain": [
              "<IPython.core.display.HTML object>"
            ]
          },
          "metadata": {
            "tags": []
          }
        },
        {
          "output_type": "display_data",
          "data": {
            "text/html": [
              ""
            ],
            "text/plain": [
              "<IPython.core.display.HTML object>"
            ]
          },
          "metadata": {
            "tags": []
          }
        },
        {
          "output_type": "display_data",
          "data": {
            "text/html": [
              ""
            ],
            "text/plain": [
              "<IPython.core.display.HTML object>"
            ]
          },
          "metadata": {
            "tags": []
          }
        },
        {
          "output_type": "display_data",
          "data": {
            "text/html": [
              ""
            ],
            "text/plain": [
              "<IPython.core.display.HTML object>"
            ]
          },
          "metadata": {
            "tags": []
          }
        },
        {
          "output_type": "display_data",
          "data": {
            "text/html": [
              ""
            ],
            "text/plain": [
              "<IPython.core.display.HTML object>"
            ]
          },
          "metadata": {
            "tags": []
          }
        },
        {
          "output_type": "display_data",
          "data": {
            "text/html": [
              ""
            ],
            "text/plain": [
              "<IPython.core.display.HTML object>"
            ]
          },
          "metadata": {
            "tags": []
          }
        },
        {
          "output_type": "display_data",
          "data": {
            "text/html": [
              ""
            ],
            "text/plain": [
              "<IPython.core.display.HTML object>"
            ]
          },
          "metadata": {
            "tags": []
          }
        },
        {
          "output_type": "display_data",
          "data": {
            "text/html": [
              ""
            ],
            "text/plain": [
              "<IPython.core.display.HTML object>"
            ]
          },
          "metadata": {
            "tags": []
          }
        },
        {
          "output_type": "display_data",
          "data": {
            "text/html": [
              ""
            ],
            "text/plain": [
              "<IPython.core.display.HTML object>"
            ]
          },
          "metadata": {
            "tags": []
          }
        },
        {
          "output_type": "display_data",
          "data": {
            "text/html": [
              ""
            ],
            "text/plain": [
              "<IPython.core.display.HTML object>"
            ]
          },
          "metadata": {
            "tags": []
          }
        },
        {
          "output_type": "display_data",
          "data": {
            "text/html": [
              ""
            ],
            "text/plain": [
              "<IPython.core.display.HTML object>"
            ]
          },
          "metadata": {
            "tags": []
          }
        }
      ]
    },
    {
      "cell_type": "code",
      "metadata": {
        "id": "lI_1z_Z3NZyq",
        "colab_type": "code",
        "colab": {
          "base_uri": "https://localhost:8080/",
          "height": 142
        },
        "outputId": "b700797d-ee15-4a02-c919-34890a867262"
      },
      "source": [
        "grouped_by_RW"
      ],
      "execution_count": 43,
      "outputs": [
        {
          "output_type": "execute_result",
          "data": {
            "text/html": [
              "<div>\n",
              "<style scoped>\n",
              "    .dataframe tbody tr th:only-of-type {\n",
              "        vertical-align: middle;\n",
              "    }\n",
              "\n",
              "    .dataframe tbody tr th {\n",
              "        vertical-align: top;\n",
              "    }\n",
              "\n",
              "    .dataframe thead th {\n",
              "        text-align: right;\n",
              "    }\n",
              "</style>\n",
              "<table border=\"1\" class=\"dataframe\">\n",
              "  <thead>\n",
              "    <tr style=\"text-align: right;\">\n",
              "      <th></th>\n",
              "      <th>count</th>\n",
              "      <th>Subjectivity</th>\n",
              "      <th>Polarity</th>\n",
              "    </tr>\n",
              "    <tr>\n",
              "      <th>RW_prediction</th>\n",
              "      <th></th>\n",
              "      <th></th>\n",
              "      <th></th>\n",
              "    </tr>\n",
              "  </thead>\n",
              "  <tbody>\n",
              "    <tr>\n",
              "      <th>False</th>\n",
              "      <td>65</td>\n",
              "      <td>0.293716</td>\n",
              "      <td>0.045260</td>\n",
              "    </tr>\n",
              "    <tr>\n",
              "      <th>True</th>\n",
              "      <td>12</td>\n",
              "      <td>0.376620</td>\n",
              "      <td>-0.007639</td>\n",
              "    </tr>\n",
              "  </tbody>\n",
              "</table>\n",
              "</div>"
            ],
            "text/plain": [
              "               count  Subjectivity  Polarity\n",
              "RW_prediction                               \n",
              "False             65      0.293716  0.045260\n",
              "True              12      0.376620 -0.007639"
            ]
          },
          "metadata": {
            "tags": []
          },
          "execution_count": 43
        }
      ]
    },
    {
      "cell_type": "code",
      "metadata": {
        "id": "ln30vzitNJe0",
        "colab_type": "code",
        "colab": {
          "base_uri": "https://localhost:8080/",
          "height": 542
        },
        "outputId": "fd8b5f07-e77e-4317-d84e-3d878912bfda"
      },
      "source": [
        "fig1"
      ],
      "execution_count": 44,
      "outputs": [
        {
          "output_type": "display_data",
          "data": {
            "text/html": [
              "<html>\n",
              "<head><meta charset=\"utf-8\" /></head>\n",
              "<body>\n",
              "    <div>\n",
              "            <script src=\"https://cdnjs.cloudflare.com/ajax/libs/mathjax/2.7.5/MathJax.js?config=TeX-AMS-MML_SVG\"></script><script type=\"text/javascript\">if (window.MathJax) {MathJax.Hub.Config({SVG: {font: \"STIX-Web\"}});}</script>\n",
              "                <script type=\"text/javascript\">window.PlotlyConfig = {MathJaxConfig: 'local'};</script>\n",
              "        <script src=\"https://cdn.plot.ly/plotly-latest.min.js\"></script>    \n",
              "            <div id=\"4d0d27ff-566f-434d-96a4-ee3629ed6d96\" class=\"plotly-graph-div\" style=\"height:525px; width:100%;\"></div>\n",
              "            <script type=\"text/javascript\">\n",
              "                \n",
              "                    window.PLOTLYENV=window.PLOTLYENV || {};\n",
              "                    \n",
              "                if (document.getElementById(\"4d0d27ff-566f-434d-96a4-ee3629ed6d96\")) {\n",
              "                    Plotly.newPlot(\n",
              "                        '4d0d27ff-566f-434d-96a4-ee3629ed6d96',\n",
              "                        [{\"alignmentgroup\": \"True\", \"hoverlabel\": {\"namelength\": 0}, \"hovertemplate\": \"color=False<br>count=%{y}\", \"legendgroup\": \"color=False\", \"marker\": {\"color\": \"#636efa\"}, \"name\": \"color=False\", \"offsetgroup\": \"color=False\", \"orientation\": \"v\", \"showlegend\": true, \"textposition\": \"auto\", \"type\": \"bar\", \"xaxis\": \"x\", \"y\": [65], \"yaxis\": \"y\"}, {\"alignmentgroup\": \"True\", \"hoverlabel\": {\"namelength\": 0}, \"hovertemplate\": \"color=True<br>count=%{y}\", \"legendgroup\": \"color=True\", \"marker\": {\"color\": \"#EF553B\"}, \"name\": \"color=True\", \"offsetgroup\": \"color=True\", \"orientation\": \"v\", \"showlegend\": true, \"textposition\": \"auto\", \"type\": \"bar\", \"xaxis\": \"x\", \"y\": [12], \"yaxis\": \"y\"}],\n",
              "                        {\"barmode\": \"relative\", \"legend\": {\"tracegroupgap\": 0}, \"margin\": {\"t\": 60}, \"template\": {\"data\": {\"bar\": [{\"error_x\": {\"color\": \"#2a3f5f\"}, \"error_y\": {\"color\": \"#2a3f5f\"}, \"marker\": {\"line\": {\"color\": \"#E5ECF6\", \"width\": 0.5}}, \"type\": \"bar\"}], \"barpolar\": [{\"marker\": {\"line\": {\"color\": \"#E5ECF6\", \"width\": 0.5}}, \"type\": \"barpolar\"}], \"carpet\": [{\"aaxis\": {\"endlinecolor\": \"#2a3f5f\", \"gridcolor\": \"white\", \"linecolor\": \"white\", \"minorgridcolor\": \"white\", \"startlinecolor\": \"#2a3f5f\"}, \"baxis\": {\"endlinecolor\": \"#2a3f5f\", \"gridcolor\": \"white\", \"linecolor\": \"white\", \"minorgridcolor\": \"white\", \"startlinecolor\": \"#2a3f5f\"}, \"type\": \"carpet\"}], \"choropleth\": [{\"colorbar\": {\"outlinewidth\": 0, \"ticks\": \"\"}, \"type\": \"choropleth\"}], \"contour\": [{\"colorbar\": {\"outlinewidth\": 0, \"ticks\": \"\"}, \"colorscale\": [[0.0, \"#0d0887\"], [0.1111111111111111, \"#46039f\"], [0.2222222222222222, \"#7201a8\"], [0.3333333333333333, \"#9c179e\"], [0.4444444444444444, \"#bd3786\"], [0.5555555555555556, \"#d8576b\"], [0.6666666666666666, \"#ed7953\"], [0.7777777777777778, \"#fb9f3a\"], [0.8888888888888888, \"#fdca26\"], [1.0, \"#f0f921\"]], \"type\": \"contour\"}], \"contourcarpet\": [{\"colorbar\": {\"outlinewidth\": 0, \"ticks\": \"\"}, \"type\": \"contourcarpet\"}], \"heatmap\": [{\"colorbar\": {\"outlinewidth\": 0, \"ticks\": \"\"}, \"colorscale\": [[0.0, \"#0d0887\"], [0.1111111111111111, \"#46039f\"], [0.2222222222222222, \"#7201a8\"], [0.3333333333333333, \"#9c179e\"], [0.4444444444444444, \"#bd3786\"], [0.5555555555555556, \"#d8576b\"], [0.6666666666666666, \"#ed7953\"], [0.7777777777777778, \"#fb9f3a\"], [0.8888888888888888, \"#fdca26\"], [1.0, \"#f0f921\"]], \"type\": \"heatmap\"}], \"heatmapgl\": [{\"colorbar\": {\"outlinewidth\": 0, \"ticks\": \"\"}, \"colorscale\": [[0.0, \"#0d0887\"], [0.1111111111111111, \"#46039f\"], [0.2222222222222222, \"#7201a8\"], [0.3333333333333333, \"#9c179e\"], [0.4444444444444444, \"#bd3786\"], [0.5555555555555556, \"#d8576b\"], [0.6666666666666666, \"#ed7953\"], [0.7777777777777778, \"#fb9f3a\"], [0.8888888888888888, \"#fdca26\"], [1.0, \"#f0f921\"]], \"type\": \"heatmapgl\"}], \"histogram\": [{\"marker\": {\"colorbar\": {\"outlinewidth\": 0, \"ticks\": \"\"}}, \"type\": \"histogram\"}], \"histogram2d\": [{\"colorbar\": {\"outlinewidth\": 0, \"ticks\": \"\"}, \"colorscale\": [[0.0, \"#0d0887\"], [0.1111111111111111, \"#46039f\"], [0.2222222222222222, \"#7201a8\"], [0.3333333333333333, \"#9c179e\"], [0.4444444444444444, \"#bd3786\"], [0.5555555555555556, \"#d8576b\"], [0.6666666666666666, \"#ed7953\"], [0.7777777777777778, \"#fb9f3a\"], [0.8888888888888888, \"#fdca26\"], [1.0, \"#f0f921\"]], \"type\": \"histogram2d\"}], \"histogram2dcontour\": [{\"colorbar\": {\"outlinewidth\": 0, \"ticks\": \"\"}, \"colorscale\": [[0.0, \"#0d0887\"], [0.1111111111111111, \"#46039f\"], [0.2222222222222222, \"#7201a8\"], [0.3333333333333333, \"#9c179e\"], [0.4444444444444444, \"#bd3786\"], [0.5555555555555556, \"#d8576b\"], [0.6666666666666666, \"#ed7953\"], [0.7777777777777778, \"#fb9f3a\"], [0.8888888888888888, \"#fdca26\"], [1.0, \"#f0f921\"]], \"type\": \"histogram2dcontour\"}], \"mesh3d\": [{\"colorbar\": {\"outlinewidth\": 0, \"ticks\": \"\"}, \"type\": \"mesh3d\"}], \"parcoords\": [{\"line\": {\"colorbar\": {\"outlinewidth\": 0, \"ticks\": \"\"}}, \"type\": \"parcoords\"}], \"pie\": [{\"automargin\": true, \"type\": \"pie\"}], \"scatter\": [{\"marker\": {\"colorbar\": {\"outlinewidth\": 0, \"ticks\": \"\"}}, \"type\": \"scatter\"}], \"scatter3d\": [{\"line\": {\"colorbar\": {\"outlinewidth\": 0, \"ticks\": \"\"}}, \"marker\": {\"colorbar\": {\"outlinewidth\": 0, \"ticks\": \"\"}}, \"type\": \"scatter3d\"}], \"scattercarpet\": [{\"marker\": {\"colorbar\": {\"outlinewidth\": 0, \"ticks\": \"\"}}, \"type\": \"scattercarpet\"}], \"scattergeo\": [{\"marker\": {\"colorbar\": {\"outlinewidth\": 0, \"ticks\": \"\"}}, \"type\": \"scattergeo\"}], \"scattergl\": [{\"marker\": {\"colorbar\": {\"outlinewidth\": 0, \"ticks\": \"\"}}, \"type\": \"scattergl\"}], \"scattermapbox\": [{\"marker\": {\"colorbar\": {\"outlinewidth\": 0, \"ticks\": \"\"}}, \"type\": \"scattermapbox\"}], \"scatterpolar\": [{\"marker\": {\"colorbar\": {\"outlinewidth\": 0, \"ticks\": \"\"}}, \"type\": \"scatterpolar\"}], \"scatterpolargl\": [{\"marker\": {\"colorbar\": {\"outlinewidth\": 0, \"ticks\": \"\"}}, \"type\": \"scatterpolargl\"}], \"scatterternary\": [{\"marker\": {\"colorbar\": {\"outlinewidth\": 0, \"ticks\": \"\"}}, \"type\": \"scatterternary\"}], \"surface\": [{\"colorbar\": {\"outlinewidth\": 0, \"ticks\": \"\"}, \"colorscale\": [[0.0, \"#0d0887\"], [0.1111111111111111, \"#46039f\"], [0.2222222222222222, \"#7201a8\"], [0.3333333333333333, \"#9c179e\"], [0.4444444444444444, \"#bd3786\"], [0.5555555555555556, \"#d8576b\"], [0.6666666666666666, \"#ed7953\"], [0.7777777777777778, \"#fb9f3a\"], [0.8888888888888888, \"#fdca26\"], [1.0, \"#f0f921\"]], \"type\": \"surface\"}], \"table\": [{\"cells\": {\"fill\": {\"color\": \"#EBF0F8\"}, \"line\": {\"color\": \"white\"}}, \"header\": {\"fill\": {\"color\": \"#C8D4E3\"}, \"line\": {\"color\": \"white\"}}, \"type\": \"table\"}]}, \"layout\": {\"annotationdefaults\": {\"arrowcolor\": \"#2a3f5f\", \"arrowhead\": 0, \"arrowwidth\": 1}, \"coloraxis\": {\"colorbar\": {\"outlinewidth\": 0, \"ticks\": \"\"}}, \"colorscale\": {\"diverging\": [[0, \"#8e0152\"], [0.1, \"#c51b7d\"], [0.2, \"#de77ae\"], [0.3, \"#f1b6da\"], [0.4, \"#fde0ef\"], [0.5, \"#f7f7f7\"], [0.6, \"#e6f5d0\"], [0.7, \"#b8e186\"], [0.8, \"#7fbc41\"], [0.9, \"#4d9221\"], [1, \"#276419\"]], \"sequential\": [[0.0, \"#0d0887\"], [0.1111111111111111, \"#46039f\"], [0.2222222222222222, \"#7201a8\"], [0.3333333333333333, \"#9c179e\"], [0.4444444444444444, \"#bd3786\"], [0.5555555555555556, \"#d8576b\"], [0.6666666666666666, \"#ed7953\"], [0.7777777777777778, \"#fb9f3a\"], [0.8888888888888888, \"#fdca26\"], [1.0, \"#f0f921\"]], \"sequentialminus\": [[0.0, \"#0d0887\"], [0.1111111111111111, \"#46039f\"], [0.2222222222222222, \"#7201a8\"], [0.3333333333333333, \"#9c179e\"], [0.4444444444444444, \"#bd3786\"], [0.5555555555555556, \"#d8576b\"], [0.6666666666666666, \"#ed7953\"], [0.7777777777777778, \"#fb9f3a\"], [0.8888888888888888, \"#fdca26\"], [1.0, \"#f0f921\"]]}, \"colorway\": [\"#636efa\", \"#EF553B\", \"#00cc96\", \"#ab63fa\", \"#FFA15A\", \"#19d3f3\", \"#FF6692\", \"#B6E880\", \"#FF97FF\", \"#FECB52\"], \"font\": {\"color\": \"#2a3f5f\"}, \"geo\": {\"bgcolor\": \"white\", \"lakecolor\": \"white\", \"landcolor\": \"#E5ECF6\", \"showlakes\": true, \"showland\": true, \"subunitcolor\": \"white\"}, \"hoverlabel\": {\"align\": \"left\"}, \"hovermode\": \"closest\", \"mapbox\": {\"style\": \"light\"}, \"paper_bgcolor\": \"white\", \"plot_bgcolor\": \"#E5ECF6\", \"polar\": {\"angularaxis\": {\"gridcolor\": \"white\", \"linecolor\": \"white\", \"ticks\": \"\"}, \"bgcolor\": \"#E5ECF6\", \"radialaxis\": {\"gridcolor\": \"white\", \"linecolor\": \"white\", \"ticks\": \"\"}}, \"scene\": {\"xaxis\": {\"backgroundcolor\": \"#E5ECF6\", \"gridcolor\": \"white\", \"gridwidth\": 2, \"linecolor\": \"white\", \"showbackground\": true, \"ticks\": \"\", \"zerolinecolor\": \"white\"}, \"yaxis\": {\"backgroundcolor\": \"#E5ECF6\", \"gridcolor\": \"white\", \"gridwidth\": 2, \"linecolor\": \"white\", \"showbackground\": true, \"ticks\": \"\", \"zerolinecolor\": \"white\"}, \"zaxis\": {\"backgroundcolor\": \"#E5ECF6\", \"gridcolor\": \"white\", \"gridwidth\": 2, \"linecolor\": \"white\", \"showbackground\": true, \"ticks\": \"\", \"zerolinecolor\": \"white\"}}, \"shapedefaults\": {\"line\": {\"color\": \"#2a3f5f\"}}, \"ternary\": {\"aaxis\": {\"gridcolor\": \"white\", \"linecolor\": \"white\", \"ticks\": \"\"}, \"baxis\": {\"gridcolor\": \"white\", \"linecolor\": \"white\", \"ticks\": \"\"}, \"bgcolor\": \"#E5ECF6\", \"caxis\": {\"gridcolor\": \"white\", \"linecolor\": \"white\", \"ticks\": \"\"}}, \"title\": {\"x\": 0.05}, \"xaxis\": {\"automargin\": true, \"gridcolor\": \"white\", \"linecolor\": \"white\", \"ticks\": \"\", \"title\": {\"standoff\": 15}, \"zerolinecolor\": \"white\", \"zerolinewidth\": 2}, \"yaxis\": {\"automargin\": true, \"gridcolor\": \"white\", \"linecolor\": \"white\", \"ticks\": \"\", \"title\": {\"standoff\": 15}, \"zerolinecolor\": \"white\", \"zerolinewidth\": 2}}}, \"xaxis\": {\"anchor\": \"y\", \"domain\": [0.0, 1.0]}, \"yaxis\": {\"anchor\": \"x\", \"domain\": [0.0, 1.0], \"title\": {\"text\": \"count\"}}},\n",
              "                        {\"responsive\": true}\n",
              "                    ).then(function(){\n",
              "                            \n",
              "var gd = document.getElementById('4d0d27ff-566f-434d-96a4-ee3629ed6d96');\n",
              "var x = new MutationObserver(function (mutations, observer) {{\n",
              "        var display = window.getComputedStyle(gd).display;\n",
              "        if (!display || display === 'none') {{\n",
              "            console.log([gd, 'removed!']);\n",
              "            Plotly.purge(gd);\n",
              "            observer.disconnect();\n",
              "        }}\n",
              "}});\n",
              "\n",
              "// Listen for the removal of the full notebook cells\n",
              "var notebookContainer = gd.closest('#notebook-container');\n",
              "if (notebookContainer) {{\n",
              "    x.observe(notebookContainer, {childList: true});\n",
              "}}\n",
              "\n",
              "// Listen for the clearing of the current output cell\n",
              "var outputEl = gd.closest('.output');\n",
              "if (outputEl) {{\n",
              "    x.observe(outputEl, {childList: true});\n",
              "}}\n",
              "\n",
              "                        })\n",
              "                };\n",
              "                \n",
              "            </script>\n",
              "        </div>\n",
              "</body>\n",
              "</html>"
            ]
          },
          "metadata": {
            "tags": []
          }
        }
      ]
    },
    {
      "cell_type": "code",
      "metadata": {
        "id": "ABzq_OlqNJtf",
        "colab_type": "code",
        "colab": {
          "base_uri": "https://localhost:8080/",
          "height": 542
        },
        "outputId": "e66a2ad2-19a8-40f2-ff44-7d8caa98cb1b"
      },
      "source": [
        "fig2"
      ],
      "execution_count": 45,
      "outputs": [
        {
          "output_type": "display_data",
          "data": {
            "text/html": [
              "<html>\n",
              "<head><meta charset=\"utf-8\" /></head>\n",
              "<body>\n",
              "    <div>\n",
              "            <script src=\"https://cdnjs.cloudflare.com/ajax/libs/mathjax/2.7.5/MathJax.js?config=TeX-AMS-MML_SVG\"></script><script type=\"text/javascript\">if (window.MathJax) {MathJax.Hub.Config({SVG: {font: \"STIX-Web\"}});}</script>\n",
              "                <script type=\"text/javascript\">window.PlotlyConfig = {MathJaxConfig: 'local'};</script>\n",
              "        <script src=\"https://cdn.plot.ly/plotly-latest.min.js\"></script>    \n",
              "            <div id=\"23e1f615-bd77-4f2c-b9b0-ea1d67d66658\" class=\"plotly-graph-div\" style=\"height:525px; width:100%;\"></div>\n",
              "            <script type=\"text/javascript\">\n",
              "                \n",
              "                    window.PLOTLYENV=window.PLOTLYENV || {};\n",
              "                    \n",
              "                if (document.getElementById(\"23e1f615-bd77-4f2c-b9b0-ea1d67d66658\")) {\n",
              "                    Plotly.newPlot(\n",
              "                        '23e1f615-bd77-4f2c-b9b0-ea1d67d66658',\n",
              "                        [{\"customdata\": [[\"It's OK to be human\"], [\"It's OK to be human\"], [\"F1 fan but enjoy mountain walking & massive beatles fan. Interested in politics and my country. Love my sons\"], [\"\\u2615Piper at the gates of tea time\\u2615  \\n             \\u2764\\ufe0fSocialism for all\\u2764\\ufe0f    \\ud83d\\udc99Everton for ever\\ud83d\\udc99\"], [\"Citizen Of The World\"], [\"\"], [\"I am a neglected pooch. Pops is something in MI6. He leaves me alone for long periods. Every dog and dog owner please follow me (except @garylineker) woof!\"], [\"Tea Drinking Olympic Standard - Countryside Pursuits - Motorsport - Classic cars - British Food - Free Trade - 52% Member \\ud83c\\uddec\\ud83c\\udde7 #CANZUK\"], [\"MBA is a specialist consulting firm focussing on business improvement consultancy and recruitment. We work to recruit retain and develop top performing teams\"], [\"An observer of and commentator on things and events.\"], [\"Watch TV breakfast https://t.co/U0vdyWLCMT https://t.co/M0wR09OQoU.Spiritual.Christianity.Judaism. Sci Fi.Museums.ArtGalleries.\"], [\"Conservative \\ud83c\\udf33was a remainer but don\\u2019t really care anymore\\ud83d\\ude02 bots make less mistakes than humans\\ud83d\\ude09 more centrist than you\\u2019ll ever be. #NoDealNoFuture\"], [\"Rage, rage against the dying of the light.\"], [\"Love: dogs, guitar, family (that order ha!). Hate:what's become of the left, which is now intolerant, identity obsessed, hypocritical, race baiting, irrational.\"], [\"\"], [\"\"], [\"Just being me, no fluff no special agenda just has an opinion now and again \\ud83d\\ude0a love my country wouldn't live anywhere else \\ud83c\\uddec\\ud83c\\udde7\\ud83c\\uddec\\ud83c\\udde7\\ud83c\\uddec\\ud83c\\udde7\"], [\"Best-selling crime writer and international playboy sleuth\"], [\"Politically incorrect. Love leftists, feminists and fatties.\\n\\nAdmirer of the female form.\"], [\"Tried it, loved it,Did it again!!!\"], [\"fat. fiftysomething leftie bastard.\"], [\"Please send all complaints to -  IDon'tGiveAFuckAboutYourPreciousFeelings@\\ud83d\\udd95.co.uk\"], [\"If your easily offended, your probably best fucking right off!                                                  #freedom #KeepBritainGreat #Notsorryformyopinion\"], [\"that which hangs your clothes.\"], [\"Retired Founder/CEO of anti crime, anti gang charity based in Feltham.  Opinions my own!  No Daily Fail readers!  Add me to a list, you will be BLOCKED!\"], [\"Loves theatre, music, cinema, Wimbledon. Very  interested in UFO's. Retweets not necessarily an endorsement.\"], [\"\"], [\"\"], [\"Starship Trooper\"], [\"Uncompromisingly honest\"], [\"Just a cat that makes videos pontificating over the world. Have  a look only wastes a few minutes\\nhttps://t.co/Cdw1W5j1Um?\"], [\"\"], [\"British, white lives matter, as do all lives, definitely not woke, can't stand lefties or anyone who hates this country, all for free Speech & not gimmigrants\"], [\"Wife, mum, happy sort of person!\"], [\"Enjoy the soaps, especially one!!!!\"], [\"When you know nothing matters the universe is yours.\"], [\"Interested in politics, party neutral as none inspire me currently\"], [\"\"], [\"\"], [\"Construction and power commercial insurance underwriter. Film and sports fan. Views expressed are my own.\"], [\"life is a strange affair - the things we choose- shall lead us - who knows where ? - writer / musician / highly enthusiastic smoker\"], [\"\"], [\"I'm a lad who is sad that so much of the world makes him mad.\"], [\"If you walk slow or eat with your mouth open, you better move along\"], [\"cant be that bad really :)*UPDATE* F**K what really\"], [\"\"], [\"\"], [\"Optimistic cynic. Left-wing leaning capitalist (scornful of modern Labour Party). Lover of all things decent and positive. Man-made Climate-Change denier.\"], [\"\"], [\"\"], [\"London-based lawyer\"], [\"We can make this so much better, together.\"], [\"\\ud83c\\uddec\\ud83c\\udde7 Professional punter, occasional tipster.  Also tweet about politics, football and #Gold! DM open. Secure EMAIL: ProPunterUK@protonmail.com\"], [\"\\u201cring leader, tomboy and chum to the weak\\u201d (to quote Betjeman)\\nAll thoughts my own(ish), retweets do NOT = endorsement\"], [\"Stop being angry just because the internet told you to be angry.\"], [\"Will always support the underdog (or cat) while taking cheap shots as those with thick skins and an attitude of \\\"do as I say not as I do\\\".\"], [\"\"], [\"The tyranny and folly of our times, is an attack on nature, as if we are exempt, impartial observers.\"], [\"Just because you're paranoid doesn't mean they aren't out to get you\"], [\"NHS & proud \\ud83d\\ude37\"], [\"Retired senior teacher.  MA; BSc; PGCE; FETC. Christian Socialist. Churchwarden, lay worship leader, lay preacher. Party activist. All comments are my own.\"], [\"Part of the cephalopod uprising.\"], [\"views my own\"], [\"Just a regular guy with a regular opinion who also happens to love cats and swears a lot. Proud to be British and WILL NOT BE WEARING A FUCKING MASK..\"], [\"If you mute or block me you LOSE :) God is the illusion of good in mankind. Truth shatters illusions. No such thing as fair or fairness. Socialism is a lie.\"]], \"hoverlabel\": {\"namelength\": 0}, \"hovertemplate\": \"RW_prediction=False<br>Subjectivity=%{x}<br>Polarity=%{y}<br>Bios=%{customdata[0]}\", \"legendgroup\": \"RW_prediction=False\", \"marker\": {\"color\": \"#636efa\", \"symbol\": \"circle\"}, \"mode\": \"markers\", \"name\": \"RW_prediction=False\", \"showlegend\": true, \"type\": \"scatter\", \"x\": [0.0, 0.0, 0.0, 0.7, 0.4, 0.0, 0.8500000000000001, 0.0, 0.28194444444444444, 0.0, 0.0, 0.0, 0.0, 0.0, 0.0, 0.8500000000000001, 0.0, 0.375, 0.0, 0.0, 0.0, 0.5, 0.0, 0.30000000000000004, 0.0, 0.0, 0.0, 1.0, 0.44431818181818183, 0.4, 0.2111111111111111, 1.0, 0.0, 0.825, 0.0, 1.0, 0.5, 0.0, 0.6, 0.0, 0.8, 0.0, 0.3166666666666667, 0.3, 0.0, 0.3, 0.7, 1.0, 0.0, 0.0, 0.0, 0.0, 0.6333333333333334, 0.2, 0.8, 0.4, 0.65, 0.0, 0.4, 0.0, 0.55, 0.37916666666666665, 0.25, 0.375, 0.8], \"xaxis\": \"x\", \"y\": [0.0, 0.0, 0.0, -0.09999999999999999, 0.3125, 0.0, 0.390625, 0.0, -0.14027777777777775, 0.0, 0.0, 0.0, 0.0, 0.0, 0.0, 0.3125, 0.0, -0.125, 0.0, 0.0, 0.0, 0.0, 0.0, 0.2, 0.0, 0.0, 0.0, 0.1, -0.17537878787878788, 0.125, 0.011111111111111118, 1.0, 0.0, -0.325, 0.0, -0.5, 0.13636363636363635, 0.0, 0.6, 0.0, -0.6, 0.0, -0.1125, 1.0, 0.0, 0.25, 0.8, -0.6, 0.0, 0.0, 0.0, 0.0, 0.4333333333333333, 0.25, -0.15000000000000002, -0.05, 0.35, 0.0, -0.2, 0.0, 0.3, -0.07638888888888891, -0.07500000000000001, 0.4, -0.8], \"yaxis\": \"y\"}, {\"hoverlabel\": {\"namelength\": 0}, \"hovertemplate\": \"<b>OLS trendline</b><br>Polarity = 0.037893 * Subjectivity + 0.034130<br>R<sup>2</sup>=0.001778<br><br>RW_prediction=False<br>Subjectivity=%{x}<br>Polarity=%{y} <b>(trend)</b>\", \"legendgroup\": \"RW_prediction=False\", \"marker\": {\"color\": \"#636efa\", \"symbol\": \"circle\"}, \"mode\": \"lines\", \"name\": \"RW_prediction=False\", \"showlegend\": false, \"type\": \"scatter\", \"x\": [0.0, 0.0, 0.0, 0.0, 0.0, 0.0, 0.0, 0.0, 0.0, 0.0, 0.0, 0.0, 0.0, 0.0, 0.0, 0.0, 0.0, 0.0, 0.0, 0.0, 0.0, 0.0, 0.0, 0.0, 0.0, 0.0, 0.0, 0.0, 0.0, 0.0, 0.0, 0.2, 0.2111111111111111, 0.25, 0.28194444444444444, 0.3, 0.3, 0.30000000000000004, 0.3166666666666667, 0.375, 0.375, 0.37916666666666665, 0.4, 0.4, 0.4, 0.4, 0.44431818181818183, 0.5, 0.5, 0.55, 0.6, 0.6333333333333334, 0.65, 0.7, 0.7, 0.8, 0.8, 0.8, 0.825, 0.8500000000000001, 0.8500000000000001, 1.0, 1.0, 1.0, 1.0], \"xaxis\": \"x\", \"y\": [0.03413008887953595, 0.03413008887953595, 0.03413008887953595, 0.03413008887953595, 0.03413008887953595, 0.03413008887953595, 0.03413008887953595, 0.03413008887953595, 0.03413008887953595, 0.03413008887953595, 0.03413008887953595, 0.03413008887953595, 0.03413008887953595, 0.03413008887953595, 0.03413008887953595, 0.03413008887953595, 0.03413008887953595, 0.03413008887953595, 0.03413008887953595, 0.03413008887953595, 0.03413008887953595, 0.03413008887953595, 0.03413008887953595, 0.03413008887953595, 0.03413008887953595, 0.03413008887953595, 0.03413008887953595, 0.03413008887953595, 0.03413008887953595, 0.03413008887953595, 0.03413008887953595, 0.04170864811344342, 0.04212967918199383, 0.04360328792192029, 0.04481375224400273, 0.04549792773039715, 0.04549792773039715, 0.04549792773039716, 0.04612947433322278, 0.04833988744311246, 0.04833988744311246, 0.04849777409381886, 0.04928720734735089, 0.04928720734735089, 0.04928720734735089, 0.04928720734735089, 0.050966547177591755, 0.05307648696430463, 0.05307648696430463, 0.0549711267727815, 0.05686576658125836, 0.05812885978690961, 0.05876040638973523, 0.060655046198212104, 0.060655046198212104, 0.06444432581516583, 0.06444432581516583, 0.06444432581516583, 0.06539164571940427, 0.0663389656236427, 0.0663389656236427, 0.07202288504907331, 0.07202288504907331, 0.07202288504907331, 0.07202288504907331], \"yaxis\": \"y\"}, {\"customdata\": [[\"Proud to be English. Anti the politics of envy. Glad we've left EU. No need for bad language or abuse. Quirky sense of humour.\"], [\"#Brexit , MAGA. its good to love your country , not racist. Don't expect money or things. Am here for friendship . Not marriage. Follow patriot's .\"], [\"Don\\u2019t abuse animals or Karma (and Twitter) will find you. Tweets evaporate every so often. Labour hates the white working class.\"], [\"DEMOCRACY = Respect Brexit\\nGoverment OF the people, BY the people, FOR the people shall not perish from this land\"], [\"Still serving,Tweets/RT not endorsement. Views spoken here rather in uniform. Dry direct-Sarcastic. #GBmfg #UKmfg #supportUKmfg #BackTheBlue #thinblueline\"], [\"Bristolian, centre right, gay, Libra so tries to see both sides of a debate \\ud83c\\udf08\"], [\"Accountant; pro Brexit; only 2 genders; climate change not man-made; mothers are female, fathers are male; grammar police member. I do not reply to \\u2018Hello\\u2019 DMs.\"], [\"European -\\nPro Democracy - Anti EU\\nInternational Trader (rtd)\\nInterests: Oil Gas Rare Earth Metals\\nSolar Hydrogen Economy\\nMolten Salts Reactors\\nCoal Bed Methane\"], [\"Voted to improve Britain for the feeble minded shouty guys. Opinions -my medication decides.\\nStop following me. Often uses logical fallacies to sound smart.\"], [\"Free speech is essential so long it does not urge violence against someone else's free speech.Solve all conflicts by partition.1 humanity via best cultures only\"], [\"*Arsenal* - *England* - Do you need to use the facilities, Mr. Bob? Go number two? All views are my own.\"], [\"100% leave EU. English Rugby fan. Guitar player, 6 strings 1 dream,natural conservative not a Tory supporter.Huge animal lover, hates animal cruelty of any kind\"]], \"hoverlabel\": {\"namelength\": 0}, \"hovertemplate\": \"RW_prediction=True<br>Subjectivity=%{x}<br>Polarity=%{y}<br>Bios=%{customdata[0]}\", \"legendgroup\": \"RW_prediction=True\", \"marker\": {\"color\": \"#EF553B\", \"symbol\": \"circle\"}, \"mode\": \"markers\", \"name\": \"RW_prediction=True\", \"showlegend\": true, \"type\": \"scatter\", \"x\": [0.675, 0.0, 0.8500000000000001, 0.37777777777777777, 0.0, 0.6166666666666667, 0.0, 0.0, 0.5, 0.6, 0.9, 0.0], \"xaxis\": \"x\", \"y\": [0.325, 0.0, 0.25, 0.06666666666666667, 0.0, 0.06666666666666667, 0.0, 0.0, 0.4, -0.4, -0.8, 0.0], \"yaxis\": \"y\"}, {\"hoverlabel\": {\"namelength\": 0}, \"hovertemplate\": \"<b>OLS trendline</b><br>Polarity = -0.160186 * Subjectivity + 0.052691<br>R<sup>2</sup>=0.032043<br><br>RW_prediction=True<br>Subjectivity=%{x}<br>Polarity=%{y} <b>(trend)</b>\", \"legendgroup\": \"RW_prediction=True\", \"marker\": {\"color\": \"#EF553B\", \"symbol\": \"circle\"}, \"mode\": \"lines\", \"name\": \"RW_prediction=True\", \"showlegend\": false, \"type\": \"scatter\", \"x\": [0.0, 0.0, 0.0, 0.0, 0.0, 0.37777777777777777, 0.5, 0.6, 0.6166666666666667, 0.675, 0.8500000000000001, 0.9], \"xaxis\": \"x\", \"y\": [0.052690580250298144, 0.052690580250298144, 0.052690580250298144, 0.052690580250298144, 0.052690580250298144, -0.007824289838917094, -0.027402630161898492, -0.04342127224433781, -0.046091045924744375, -0.05543525380616732, -0.08346787745043614, -0.0914771984916558], \"yaxis\": \"y\"}],\n",
              "                        {\"legend\": {\"tracegroupgap\": 0}, \"margin\": {\"t\": 60}, \"template\": {\"data\": {\"bar\": [{\"error_x\": {\"color\": \"#2a3f5f\"}, \"error_y\": {\"color\": \"#2a3f5f\"}, \"marker\": {\"line\": {\"color\": \"#E5ECF6\", \"width\": 0.5}}, \"type\": \"bar\"}], \"barpolar\": [{\"marker\": {\"line\": {\"color\": \"#E5ECF6\", \"width\": 0.5}}, \"type\": \"barpolar\"}], \"carpet\": [{\"aaxis\": {\"endlinecolor\": \"#2a3f5f\", \"gridcolor\": \"white\", \"linecolor\": \"white\", \"minorgridcolor\": \"white\", \"startlinecolor\": \"#2a3f5f\"}, \"baxis\": {\"endlinecolor\": \"#2a3f5f\", \"gridcolor\": \"white\", \"linecolor\": \"white\", \"minorgridcolor\": \"white\", \"startlinecolor\": \"#2a3f5f\"}, \"type\": \"carpet\"}], \"choropleth\": [{\"colorbar\": {\"outlinewidth\": 0, \"ticks\": \"\"}, \"type\": \"choropleth\"}], \"contour\": [{\"colorbar\": {\"outlinewidth\": 0, \"ticks\": \"\"}, \"colorscale\": [[0.0, \"#0d0887\"], [0.1111111111111111, \"#46039f\"], [0.2222222222222222, \"#7201a8\"], [0.3333333333333333, \"#9c179e\"], [0.4444444444444444, \"#bd3786\"], [0.5555555555555556, \"#d8576b\"], [0.6666666666666666, \"#ed7953\"], [0.7777777777777778, \"#fb9f3a\"], [0.8888888888888888, \"#fdca26\"], [1.0, \"#f0f921\"]], \"type\": \"contour\"}], \"contourcarpet\": [{\"colorbar\": {\"outlinewidth\": 0, \"ticks\": \"\"}, \"type\": \"contourcarpet\"}], \"heatmap\": [{\"colorbar\": {\"outlinewidth\": 0, \"ticks\": \"\"}, \"colorscale\": [[0.0, \"#0d0887\"], [0.1111111111111111, \"#46039f\"], [0.2222222222222222, \"#7201a8\"], [0.3333333333333333, \"#9c179e\"], [0.4444444444444444, \"#bd3786\"], [0.5555555555555556, \"#d8576b\"], [0.6666666666666666, \"#ed7953\"], [0.7777777777777778, \"#fb9f3a\"], [0.8888888888888888, \"#fdca26\"], [1.0, \"#f0f921\"]], \"type\": \"heatmap\"}], \"heatmapgl\": [{\"colorbar\": {\"outlinewidth\": 0, \"ticks\": \"\"}, \"colorscale\": [[0.0, \"#0d0887\"], [0.1111111111111111, \"#46039f\"], [0.2222222222222222, \"#7201a8\"], [0.3333333333333333, \"#9c179e\"], [0.4444444444444444, \"#bd3786\"], [0.5555555555555556, \"#d8576b\"], [0.6666666666666666, \"#ed7953\"], [0.7777777777777778, \"#fb9f3a\"], [0.8888888888888888, \"#fdca26\"], [1.0, \"#f0f921\"]], \"type\": \"heatmapgl\"}], \"histogram\": [{\"marker\": {\"colorbar\": {\"outlinewidth\": 0, \"ticks\": \"\"}}, \"type\": \"histogram\"}], \"histogram2d\": [{\"colorbar\": {\"outlinewidth\": 0, \"ticks\": \"\"}, \"colorscale\": [[0.0, \"#0d0887\"], [0.1111111111111111, \"#46039f\"], [0.2222222222222222, \"#7201a8\"], [0.3333333333333333, \"#9c179e\"], [0.4444444444444444, \"#bd3786\"], [0.5555555555555556, \"#d8576b\"], [0.6666666666666666, \"#ed7953\"], [0.7777777777777778, \"#fb9f3a\"], [0.8888888888888888, \"#fdca26\"], [1.0, \"#f0f921\"]], \"type\": \"histogram2d\"}], \"histogram2dcontour\": [{\"colorbar\": {\"outlinewidth\": 0, \"ticks\": \"\"}, \"colorscale\": [[0.0, \"#0d0887\"], [0.1111111111111111, \"#46039f\"], [0.2222222222222222, \"#7201a8\"], [0.3333333333333333, \"#9c179e\"], [0.4444444444444444, \"#bd3786\"], [0.5555555555555556, \"#d8576b\"], [0.6666666666666666, \"#ed7953\"], [0.7777777777777778, \"#fb9f3a\"], [0.8888888888888888, \"#fdca26\"], [1.0, \"#f0f921\"]], \"type\": \"histogram2dcontour\"}], \"mesh3d\": [{\"colorbar\": {\"outlinewidth\": 0, \"ticks\": \"\"}, \"type\": \"mesh3d\"}], \"parcoords\": [{\"line\": {\"colorbar\": {\"outlinewidth\": 0, \"ticks\": \"\"}}, \"type\": \"parcoords\"}], \"pie\": [{\"automargin\": true, \"type\": \"pie\"}], \"scatter\": [{\"marker\": {\"colorbar\": {\"outlinewidth\": 0, \"ticks\": \"\"}}, \"type\": \"scatter\"}], \"scatter3d\": [{\"line\": {\"colorbar\": {\"outlinewidth\": 0, \"ticks\": \"\"}}, \"marker\": {\"colorbar\": {\"outlinewidth\": 0, \"ticks\": \"\"}}, \"type\": \"scatter3d\"}], \"scattercarpet\": [{\"marker\": {\"colorbar\": {\"outlinewidth\": 0, \"ticks\": \"\"}}, \"type\": \"scattercarpet\"}], \"scattergeo\": [{\"marker\": {\"colorbar\": {\"outlinewidth\": 0, \"ticks\": \"\"}}, \"type\": \"scattergeo\"}], \"scattergl\": [{\"marker\": {\"colorbar\": {\"outlinewidth\": 0, \"ticks\": \"\"}}, \"type\": \"scattergl\"}], \"scattermapbox\": [{\"marker\": {\"colorbar\": {\"outlinewidth\": 0, \"ticks\": \"\"}}, \"type\": \"scattermapbox\"}], \"scatterpolar\": [{\"marker\": {\"colorbar\": {\"outlinewidth\": 0, \"ticks\": \"\"}}, \"type\": \"scatterpolar\"}], \"scatterpolargl\": [{\"marker\": {\"colorbar\": {\"outlinewidth\": 0, \"ticks\": \"\"}}, \"type\": \"scatterpolargl\"}], \"scatterternary\": [{\"marker\": {\"colorbar\": {\"outlinewidth\": 0, \"ticks\": \"\"}}, \"type\": \"scatterternary\"}], \"surface\": [{\"colorbar\": {\"outlinewidth\": 0, \"ticks\": \"\"}, \"colorscale\": [[0.0, \"#0d0887\"], [0.1111111111111111, \"#46039f\"], [0.2222222222222222, \"#7201a8\"], [0.3333333333333333, \"#9c179e\"], [0.4444444444444444, \"#bd3786\"], [0.5555555555555556, \"#d8576b\"], [0.6666666666666666, \"#ed7953\"], [0.7777777777777778, \"#fb9f3a\"], [0.8888888888888888, \"#fdca26\"], [1.0, \"#f0f921\"]], \"type\": \"surface\"}], \"table\": [{\"cells\": {\"fill\": {\"color\": \"#EBF0F8\"}, \"line\": {\"color\": \"white\"}}, \"header\": {\"fill\": {\"color\": \"#C8D4E3\"}, \"line\": {\"color\": \"white\"}}, \"type\": \"table\"}]}, \"layout\": {\"annotationdefaults\": {\"arrowcolor\": \"#2a3f5f\", \"arrowhead\": 0, \"arrowwidth\": 1}, \"coloraxis\": {\"colorbar\": {\"outlinewidth\": 0, \"ticks\": \"\"}}, \"colorscale\": {\"diverging\": [[0, \"#8e0152\"], [0.1, \"#c51b7d\"], [0.2, \"#de77ae\"], [0.3, \"#f1b6da\"], [0.4, \"#fde0ef\"], [0.5, \"#f7f7f7\"], [0.6, \"#e6f5d0\"], [0.7, \"#b8e186\"], [0.8, \"#7fbc41\"], [0.9, \"#4d9221\"], [1, \"#276419\"]], \"sequential\": [[0.0, \"#0d0887\"], [0.1111111111111111, \"#46039f\"], [0.2222222222222222, \"#7201a8\"], [0.3333333333333333, \"#9c179e\"], [0.4444444444444444, \"#bd3786\"], [0.5555555555555556, \"#d8576b\"], [0.6666666666666666, \"#ed7953\"], [0.7777777777777778, \"#fb9f3a\"], [0.8888888888888888, \"#fdca26\"], [1.0, \"#f0f921\"]], \"sequentialminus\": [[0.0, \"#0d0887\"], [0.1111111111111111, \"#46039f\"], [0.2222222222222222, \"#7201a8\"], [0.3333333333333333, \"#9c179e\"], [0.4444444444444444, \"#bd3786\"], [0.5555555555555556, \"#d8576b\"], [0.6666666666666666, \"#ed7953\"], [0.7777777777777778, \"#fb9f3a\"], [0.8888888888888888, \"#fdca26\"], [1.0, \"#f0f921\"]]}, \"colorway\": [\"#636efa\", \"#EF553B\", \"#00cc96\", \"#ab63fa\", \"#FFA15A\", \"#19d3f3\", \"#FF6692\", \"#B6E880\", \"#FF97FF\", \"#FECB52\"], \"font\": {\"color\": \"#2a3f5f\"}, \"geo\": {\"bgcolor\": \"white\", \"lakecolor\": \"white\", \"landcolor\": \"#E5ECF6\", \"showlakes\": true, \"showland\": true, \"subunitcolor\": \"white\"}, \"hoverlabel\": {\"align\": \"left\"}, \"hovermode\": \"closest\", \"mapbox\": {\"style\": \"light\"}, \"paper_bgcolor\": \"white\", \"plot_bgcolor\": \"#E5ECF6\", \"polar\": {\"angularaxis\": {\"gridcolor\": \"white\", \"linecolor\": \"white\", \"ticks\": \"\"}, \"bgcolor\": \"#E5ECF6\", \"radialaxis\": {\"gridcolor\": \"white\", \"linecolor\": \"white\", \"ticks\": \"\"}}, \"scene\": {\"xaxis\": {\"backgroundcolor\": \"#E5ECF6\", \"gridcolor\": \"white\", \"gridwidth\": 2, \"linecolor\": \"white\", \"showbackground\": true, \"ticks\": \"\", \"zerolinecolor\": \"white\"}, \"yaxis\": {\"backgroundcolor\": \"#E5ECF6\", \"gridcolor\": \"white\", \"gridwidth\": 2, \"linecolor\": \"white\", \"showbackground\": true, \"ticks\": \"\", \"zerolinecolor\": \"white\"}, \"zaxis\": {\"backgroundcolor\": \"#E5ECF6\", \"gridcolor\": \"white\", \"gridwidth\": 2, \"linecolor\": \"white\", \"showbackground\": true, \"ticks\": \"\", \"zerolinecolor\": \"white\"}}, \"shapedefaults\": {\"line\": {\"color\": \"#2a3f5f\"}}, \"ternary\": {\"aaxis\": {\"gridcolor\": \"white\", \"linecolor\": \"white\", \"ticks\": \"\"}, \"baxis\": {\"gridcolor\": \"white\", \"linecolor\": \"white\", \"ticks\": \"\"}, \"bgcolor\": \"#E5ECF6\", \"caxis\": {\"gridcolor\": \"white\", \"linecolor\": \"white\", \"ticks\": \"\"}}, \"title\": {\"x\": 0.05}, \"xaxis\": {\"automargin\": true, \"gridcolor\": \"white\", \"linecolor\": \"white\", \"ticks\": \"\", \"title\": {\"standoff\": 15}, \"zerolinecolor\": \"white\", \"zerolinewidth\": 2}, \"yaxis\": {\"automargin\": true, \"gridcolor\": \"white\", \"linecolor\": \"white\", \"ticks\": \"\", \"title\": {\"standoff\": 15}, \"zerolinecolor\": \"white\", \"zerolinewidth\": 2}}}, \"xaxis\": {\"anchor\": \"y\", \"domain\": [0.0, 1.0], \"range\": [-0.1, 1.1], \"title\": {\"text\": \"Subjectivity\"}}, \"yaxis\": {\"anchor\": \"x\", \"domain\": [0.0, 1.0], \"range\": [-1.1, 1.1], \"title\": {\"text\": \"Polarity\"}}},\n",
              "                        {\"responsive\": true}\n",
              "                    ).then(function(){\n",
              "                            \n",
              "var gd = document.getElementById('23e1f615-bd77-4f2c-b9b0-ea1d67d66658');\n",
              "var x = new MutationObserver(function (mutations, observer) {{\n",
              "        var display = window.getComputedStyle(gd).display;\n",
              "        if (!display || display === 'none') {{\n",
              "            console.log([gd, 'removed!']);\n",
              "            Plotly.purge(gd);\n",
              "            observer.disconnect();\n",
              "        }}\n",
              "}});\n",
              "\n",
              "// Listen for the removal of the full notebook cells\n",
              "var notebookContainer = gd.closest('#notebook-container');\n",
              "if (notebookContainer) {{\n",
              "    x.observe(notebookContainer, {childList: true});\n",
              "}}\n",
              "\n",
              "// Listen for the clearing of the current output cell\n",
              "var outputEl = gd.closest('.output');\n",
              "if (outputEl) {{\n",
              "    x.observe(outputEl, {childList: true});\n",
              "}}\n",
              "\n",
              "                        })\n",
              "                };\n",
              "                \n",
              "            </script>\n",
              "        </div>\n",
              "</body>\n",
              "</html>"
            ]
          },
          "metadata": {
            "tags": []
          }
        }
      ]
    },
    {
      "cell_type": "code",
      "metadata": {
        "id": "4BfAFnvmNJQH",
        "colab_type": "code",
        "colab": {
          "base_uri": "https://localhost:8080/",
          "height": 17
        },
        "outputId": "b727d2f0-3fd7-4781-c9ee-975178843263"
      },
      "source": [
        "grouped_by_RW, fig1, fig2, final = run_process(\"@OwenJones84\", \"2020-08-09\",\"2020-08-10\")"
      ],
      "execution_count": 46,
      "outputs": [
        {
          "output_type": "display_data",
          "data": {
            "text/html": [
              ""
            ],
            "text/plain": [
              "<IPython.core.display.HTML object>"
            ]
          },
          "metadata": {
            "tags": []
          }
        },
        {
          "output_type": "display_data",
          "data": {
            "text/html": [
              ""
            ],
            "text/plain": [
              "<IPython.core.display.HTML object>"
            ]
          },
          "metadata": {
            "tags": []
          }
        },
        {
          "output_type": "display_data",
          "data": {
            "text/html": [
              ""
            ],
            "text/plain": [
              "<IPython.core.display.HTML object>"
            ]
          },
          "metadata": {
            "tags": []
          }
        },
        {
          "output_type": "display_data",
          "data": {
            "text/html": [
              ""
            ],
            "text/plain": [
              "<IPython.core.display.HTML object>"
            ]
          },
          "metadata": {
            "tags": []
          }
        },
        {
          "output_type": "display_data",
          "data": {
            "text/html": [
              ""
            ],
            "text/plain": [
              "<IPython.core.display.HTML object>"
            ]
          },
          "metadata": {
            "tags": []
          }
        },
        {
          "output_type": "display_data",
          "data": {
            "text/html": [
              ""
            ],
            "text/plain": [
              "<IPython.core.display.HTML object>"
            ]
          },
          "metadata": {
            "tags": []
          }
        },
        {
          "output_type": "display_data",
          "data": {
            "text/html": [
              ""
            ],
            "text/plain": [
              "<IPython.core.display.HTML object>"
            ]
          },
          "metadata": {
            "tags": []
          }
        },
        {
          "output_type": "display_data",
          "data": {
            "text/html": [
              ""
            ],
            "text/plain": [
              "<IPython.core.display.HTML object>"
            ]
          },
          "metadata": {
            "tags": []
          }
        },
        {
          "output_type": "display_data",
          "data": {
            "text/html": [
              ""
            ],
            "text/plain": [
              "<IPython.core.display.HTML object>"
            ]
          },
          "metadata": {
            "tags": []
          }
        },
        {
          "output_type": "display_data",
          "data": {
            "text/html": [
              ""
            ],
            "text/plain": [
              "<IPython.core.display.HTML object>"
            ]
          },
          "metadata": {
            "tags": []
          }
        },
        {
          "output_type": "display_data",
          "data": {
            "text/html": [
              ""
            ],
            "text/plain": [
              "<IPython.core.display.HTML object>"
            ]
          },
          "metadata": {
            "tags": []
          }
        },
        {
          "output_type": "display_data",
          "data": {
            "text/html": [
              ""
            ],
            "text/plain": [
              "<IPython.core.display.HTML object>"
            ]
          },
          "metadata": {
            "tags": []
          }
        },
        {
          "output_type": "display_data",
          "data": {
            "text/html": [
              ""
            ],
            "text/plain": [
              "<IPython.core.display.HTML object>"
            ]
          },
          "metadata": {
            "tags": []
          }
        },
        {
          "output_type": "display_data",
          "data": {
            "text/html": [
              ""
            ],
            "text/plain": [
              "<IPython.core.display.HTML object>"
            ]
          },
          "metadata": {
            "tags": []
          }
        },
        {
          "output_type": "display_data",
          "data": {
            "text/html": [
              ""
            ],
            "text/plain": [
              "<IPython.core.display.HTML object>"
            ]
          },
          "metadata": {
            "tags": []
          }
        },
        {
          "output_type": "display_data",
          "data": {
            "text/html": [
              ""
            ],
            "text/plain": [
              "<IPython.core.display.HTML object>"
            ]
          },
          "metadata": {
            "tags": []
          }
        },
        {
          "output_type": "display_data",
          "data": {
            "text/html": [
              ""
            ],
            "text/plain": [
              "<IPython.core.display.HTML object>"
            ]
          },
          "metadata": {
            "tags": []
          }
        },
        {
          "output_type": "display_data",
          "data": {
            "text/html": [
              ""
            ],
            "text/plain": [
              "<IPython.core.display.HTML object>"
            ]
          },
          "metadata": {
            "tags": []
          }
        },
        {
          "output_type": "display_data",
          "data": {
            "text/html": [
              ""
            ],
            "text/plain": [
              "<IPython.core.display.HTML object>"
            ]
          },
          "metadata": {
            "tags": []
          }
        },
        {
          "output_type": "display_data",
          "data": {
            "text/html": [
              ""
            ],
            "text/plain": [
              "<IPython.core.display.HTML object>"
            ]
          },
          "metadata": {
            "tags": []
          }
        },
        {
          "output_type": "display_data",
          "data": {
            "text/html": [
              ""
            ],
            "text/plain": [
              "<IPython.core.display.HTML object>"
            ]
          },
          "metadata": {
            "tags": []
          }
        },
        {
          "output_type": "display_data",
          "data": {
            "text/html": [
              ""
            ],
            "text/plain": [
              "<IPython.core.display.HTML object>"
            ]
          },
          "metadata": {
            "tags": []
          }
        },
        {
          "output_type": "display_data",
          "data": {
            "text/html": [
              ""
            ],
            "text/plain": [
              "<IPython.core.display.HTML object>"
            ]
          },
          "metadata": {
            "tags": []
          }
        },
        {
          "output_type": "display_data",
          "data": {
            "text/html": [
              ""
            ],
            "text/plain": [
              "<IPython.core.display.HTML object>"
            ]
          },
          "metadata": {
            "tags": []
          }
        },
        {
          "output_type": "display_data",
          "data": {
            "text/html": [
              ""
            ],
            "text/plain": [
              "<IPython.core.display.HTML object>"
            ]
          },
          "metadata": {
            "tags": []
          }
        },
        {
          "output_type": "display_data",
          "data": {
            "text/html": [
              ""
            ],
            "text/plain": [
              "<IPython.core.display.HTML object>"
            ]
          },
          "metadata": {
            "tags": []
          }
        },
        {
          "output_type": "display_data",
          "data": {
            "text/html": [
              ""
            ],
            "text/plain": [
              "<IPython.core.display.HTML object>"
            ]
          },
          "metadata": {
            "tags": []
          }
        },
        {
          "output_type": "display_data",
          "data": {
            "text/html": [
              ""
            ],
            "text/plain": [
              "<IPython.core.display.HTML object>"
            ]
          },
          "metadata": {
            "tags": []
          }
        },
        {
          "output_type": "display_data",
          "data": {
            "text/html": [
              ""
            ],
            "text/plain": [
              "<IPython.core.display.HTML object>"
            ]
          },
          "metadata": {
            "tags": []
          }
        },
        {
          "output_type": "display_data",
          "data": {
            "text/html": [
              ""
            ],
            "text/plain": [
              "<IPython.core.display.HTML object>"
            ]
          },
          "metadata": {
            "tags": []
          }
        },
        {
          "output_type": "display_data",
          "data": {
            "text/html": [
              ""
            ],
            "text/plain": [
              "<IPython.core.display.HTML object>"
            ]
          },
          "metadata": {
            "tags": []
          }
        },
        {
          "output_type": "display_data",
          "data": {
            "text/html": [
              ""
            ],
            "text/plain": [
              "<IPython.core.display.HTML object>"
            ]
          },
          "metadata": {
            "tags": []
          }
        },
        {
          "output_type": "display_data",
          "data": {
            "text/html": [
              ""
            ],
            "text/plain": [
              "<IPython.core.display.HTML object>"
            ]
          },
          "metadata": {
            "tags": []
          }
        },
        {
          "output_type": "display_data",
          "data": {
            "text/html": [
              ""
            ],
            "text/plain": [
              "<IPython.core.display.HTML object>"
            ]
          },
          "metadata": {
            "tags": []
          }
        },
        {
          "output_type": "display_data",
          "data": {
            "text/html": [
              ""
            ],
            "text/plain": [
              "<IPython.core.display.HTML object>"
            ]
          },
          "metadata": {
            "tags": []
          }
        },
        {
          "output_type": "display_data",
          "data": {
            "text/html": [
              ""
            ],
            "text/plain": [
              "<IPython.core.display.HTML object>"
            ]
          },
          "metadata": {
            "tags": []
          }
        },
        {
          "output_type": "display_data",
          "data": {
            "text/html": [
              ""
            ],
            "text/plain": [
              "<IPython.core.display.HTML object>"
            ]
          },
          "metadata": {
            "tags": []
          }
        },
        {
          "output_type": "display_data",
          "data": {
            "text/html": [
              ""
            ],
            "text/plain": [
              "<IPython.core.display.HTML object>"
            ]
          },
          "metadata": {
            "tags": []
          }
        },
        {
          "output_type": "display_data",
          "data": {
            "text/html": [
              ""
            ],
            "text/plain": [
              "<IPython.core.display.HTML object>"
            ]
          },
          "metadata": {
            "tags": []
          }
        },
        {
          "output_type": "display_data",
          "data": {
            "text/html": [
              ""
            ],
            "text/plain": [
              "<IPython.core.display.HTML object>"
            ]
          },
          "metadata": {
            "tags": []
          }
        },
        {
          "output_type": "display_data",
          "data": {
            "text/html": [
              ""
            ],
            "text/plain": [
              "<IPython.core.display.HTML object>"
            ]
          },
          "metadata": {
            "tags": []
          }
        },
        {
          "output_type": "display_data",
          "data": {
            "text/html": [
              ""
            ],
            "text/plain": [
              "<IPython.core.display.HTML object>"
            ]
          },
          "metadata": {
            "tags": []
          }
        },
        {
          "output_type": "display_data",
          "data": {
            "text/html": [
              ""
            ],
            "text/plain": [
              "<IPython.core.display.HTML object>"
            ]
          },
          "metadata": {
            "tags": []
          }
        },
        {
          "output_type": "display_data",
          "data": {
            "text/html": [
              ""
            ],
            "text/plain": [
              "<IPython.core.display.HTML object>"
            ]
          },
          "metadata": {
            "tags": []
          }
        },
        {
          "output_type": "display_data",
          "data": {
            "text/html": [
              ""
            ],
            "text/plain": [
              "<IPython.core.display.HTML object>"
            ]
          },
          "metadata": {
            "tags": []
          }
        },
        {
          "output_type": "display_data",
          "data": {
            "text/html": [
              ""
            ],
            "text/plain": [
              "<IPython.core.display.HTML object>"
            ]
          },
          "metadata": {
            "tags": []
          }
        },
        {
          "output_type": "display_data",
          "data": {
            "text/html": [
              ""
            ],
            "text/plain": [
              "<IPython.core.display.HTML object>"
            ]
          },
          "metadata": {
            "tags": []
          }
        },
        {
          "output_type": "display_data",
          "data": {
            "text/html": [
              ""
            ],
            "text/plain": [
              "<IPython.core.display.HTML object>"
            ]
          },
          "metadata": {
            "tags": []
          }
        },
        {
          "output_type": "display_data",
          "data": {
            "text/html": [
              ""
            ],
            "text/plain": [
              "<IPython.core.display.HTML object>"
            ]
          },
          "metadata": {
            "tags": []
          }
        },
        {
          "output_type": "display_data",
          "data": {
            "text/html": [
              ""
            ],
            "text/plain": [
              "<IPython.core.display.HTML object>"
            ]
          },
          "metadata": {
            "tags": []
          }
        },
        {
          "output_type": "display_data",
          "data": {
            "text/html": [
              ""
            ],
            "text/plain": [
              "<IPython.core.display.HTML object>"
            ]
          },
          "metadata": {
            "tags": []
          }
        },
        {
          "output_type": "display_data",
          "data": {
            "text/html": [
              ""
            ],
            "text/plain": [
              "<IPython.core.display.HTML object>"
            ]
          },
          "metadata": {
            "tags": []
          }
        },
        {
          "output_type": "display_data",
          "data": {
            "text/html": [
              ""
            ],
            "text/plain": [
              "<IPython.core.display.HTML object>"
            ]
          },
          "metadata": {
            "tags": []
          }
        },
        {
          "output_type": "display_data",
          "data": {
            "text/html": [
              ""
            ],
            "text/plain": [
              "<IPython.core.display.HTML object>"
            ]
          },
          "metadata": {
            "tags": []
          }
        },
        {
          "output_type": "display_data",
          "data": {
            "text/html": [
              ""
            ],
            "text/plain": [
              "<IPython.core.display.HTML object>"
            ]
          },
          "metadata": {
            "tags": []
          }
        },
        {
          "output_type": "display_data",
          "data": {
            "text/html": [
              ""
            ],
            "text/plain": [
              "<IPython.core.display.HTML object>"
            ]
          },
          "metadata": {
            "tags": []
          }
        },
        {
          "output_type": "display_data",
          "data": {
            "text/html": [
              ""
            ],
            "text/plain": [
              "<IPython.core.display.HTML object>"
            ]
          },
          "metadata": {
            "tags": []
          }
        },
        {
          "output_type": "display_data",
          "data": {
            "text/html": [
              ""
            ],
            "text/plain": [
              "<IPython.core.display.HTML object>"
            ]
          },
          "metadata": {
            "tags": []
          }
        },
        {
          "output_type": "display_data",
          "data": {
            "text/html": [
              ""
            ],
            "text/plain": [
              "<IPython.core.display.HTML object>"
            ]
          },
          "metadata": {
            "tags": []
          }
        },
        {
          "output_type": "display_data",
          "data": {
            "text/html": [
              ""
            ],
            "text/plain": [
              "<IPython.core.display.HTML object>"
            ]
          },
          "metadata": {
            "tags": []
          }
        },
        {
          "output_type": "display_data",
          "data": {
            "text/html": [
              ""
            ],
            "text/plain": [
              "<IPython.core.display.HTML object>"
            ]
          },
          "metadata": {
            "tags": []
          }
        },
        {
          "output_type": "display_data",
          "data": {
            "text/html": [
              ""
            ],
            "text/plain": [
              "<IPython.core.display.HTML object>"
            ]
          },
          "metadata": {
            "tags": []
          }
        },
        {
          "output_type": "display_data",
          "data": {
            "text/html": [
              ""
            ],
            "text/plain": [
              "<IPython.core.display.HTML object>"
            ]
          },
          "metadata": {
            "tags": []
          }
        },
        {
          "output_type": "display_data",
          "data": {
            "text/html": [
              ""
            ],
            "text/plain": [
              "<IPython.core.display.HTML object>"
            ]
          },
          "metadata": {
            "tags": []
          }
        },
        {
          "output_type": "display_data",
          "data": {
            "text/html": [
              ""
            ],
            "text/plain": [
              "<IPython.core.display.HTML object>"
            ]
          },
          "metadata": {
            "tags": []
          }
        },
        {
          "output_type": "display_data",
          "data": {
            "text/html": [
              ""
            ],
            "text/plain": [
              "<IPython.core.display.HTML object>"
            ]
          },
          "metadata": {
            "tags": []
          }
        },
        {
          "output_type": "display_data",
          "data": {
            "text/html": [
              ""
            ],
            "text/plain": [
              "<IPython.core.display.HTML object>"
            ]
          },
          "metadata": {
            "tags": []
          }
        },
        {
          "output_type": "display_data",
          "data": {
            "text/html": [
              ""
            ],
            "text/plain": [
              "<IPython.core.display.HTML object>"
            ]
          },
          "metadata": {
            "tags": []
          }
        },
        {
          "output_type": "display_data",
          "data": {
            "text/html": [
              ""
            ],
            "text/plain": [
              "<IPython.core.display.HTML object>"
            ]
          },
          "metadata": {
            "tags": []
          }
        },
        {
          "output_type": "display_data",
          "data": {
            "text/html": [
              ""
            ],
            "text/plain": [
              "<IPython.core.display.HTML object>"
            ]
          },
          "metadata": {
            "tags": []
          }
        },
        {
          "output_type": "display_data",
          "data": {
            "text/html": [
              ""
            ],
            "text/plain": [
              "<IPython.core.display.HTML object>"
            ]
          },
          "metadata": {
            "tags": []
          }
        },
        {
          "output_type": "display_data",
          "data": {
            "text/html": [
              ""
            ],
            "text/plain": [
              "<IPython.core.display.HTML object>"
            ]
          },
          "metadata": {
            "tags": []
          }
        },
        {
          "output_type": "display_data",
          "data": {
            "text/html": [
              ""
            ],
            "text/plain": [
              "<IPython.core.display.HTML object>"
            ]
          },
          "metadata": {
            "tags": []
          }
        },
        {
          "output_type": "display_data",
          "data": {
            "text/html": [
              ""
            ],
            "text/plain": [
              "<IPython.core.display.HTML object>"
            ]
          },
          "metadata": {
            "tags": []
          }
        },
        {
          "output_type": "display_data",
          "data": {
            "text/html": [
              ""
            ],
            "text/plain": [
              "<IPython.core.display.HTML object>"
            ]
          },
          "metadata": {
            "tags": []
          }
        },
        {
          "output_type": "display_data",
          "data": {
            "text/html": [
              ""
            ],
            "text/plain": [
              "<IPython.core.display.HTML object>"
            ]
          },
          "metadata": {
            "tags": []
          }
        },
        {
          "output_type": "display_data",
          "data": {
            "text/html": [
              ""
            ],
            "text/plain": [
              "<IPython.core.display.HTML object>"
            ]
          },
          "metadata": {
            "tags": []
          }
        },
        {
          "output_type": "display_data",
          "data": {
            "text/html": [
              ""
            ],
            "text/plain": [
              "<IPython.core.display.HTML object>"
            ]
          },
          "metadata": {
            "tags": []
          }
        },
        {
          "output_type": "display_data",
          "data": {
            "text/html": [
              ""
            ],
            "text/plain": [
              "<IPython.core.display.HTML object>"
            ]
          },
          "metadata": {
            "tags": []
          }
        },
        {
          "output_type": "display_data",
          "data": {
            "text/html": [
              ""
            ],
            "text/plain": [
              "<IPython.core.display.HTML object>"
            ]
          },
          "metadata": {
            "tags": []
          }
        },
        {
          "output_type": "display_data",
          "data": {
            "text/html": [
              ""
            ],
            "text/plain": [
              "<IPython.core.display.HTML object>"
            ]
          },
          "metadata": {
            "tags": []
          }
        },
        {
          "output_type": "display_data",
          "data": {
            "text/html": [
              ""
            ],
            "text/plain": [
              "<IPython.core.display.HTML object>"
            ]
          },
          "metadata": {
            "tags": []
          }
        },
        {
          "output_type": "display_data",
          "data": {
            "text/html": [
              ""
            ],
            "text/plain": [
              "<IPython.core.display.HTML object>"
            ]
          },
          "metadata": {
            "tags": []
          }
        },
        {
          "output_type": "display_data",
          "data": {
            "text/html": [
              ""
            ],
            "text/plain": [
              "<IPython.core.display.HTML object>"
            ]
          },
          "metadata": {
            "tags": []
          }
        },
        {
          "output_type": "display_data",
          "data": {
            "text/html": [
              ""
            ],
            "text/plain": [
              "<IPython.core.display.HTML object>"
            ]
          },
          "metadata": {
            "tags": []
          }
        },
        {
          "output_type": "display_data",
          "data": {
            "text/html": [
              ""
            ],
            "text/plain": [
              "<IPython.core.display.HTML object>"
            ]
          },
          "metadata": {
            "tags": []
          }
        },
        {
          "output_type": "display_data",
          "data": {
            "text/html": [
              ""
            ],
            "text/plain": [
              "<IPython.core.display.HTML object>"
            ]
          },
          "metadata": {
            "tags": []
          }
        },
        {
          "output_type": "display_data",
          "data": {
            "text/html": [
              ""
            ],
            "text/plain": [
              "<IPython.core.display.HTML object>"
            ]
          },
          "metadata": {
            "tags": []
          }
        },
        {
          "output_type": "display_data",
          "data": {
            "text/html": [
              ""
            ],
            "text/plain": [
              "<IPython.core.display.HTML object>"
            ]
          },
          "metadata": {
            "tags": []
          }
        },
        {
          "output_type": "display_data",
          "data": {
            "text/html": [
              ""
            ],
            "text/plain": [
              "<IPython.core.display.HTML object>"
            ]
          },
          "metadata": {
            "tags": []
          }
        },
        {
          "output_type": "display_data",
          "data": {
            "text/html": [
              ""
            ],
            "text/plain": [
              "<IPython.core.display.HTML object>"
            ]
          },
          "metadata": {
            "tags": []
          }
        },
        {
          "output_type": "display_data",
          "data": {
            "text/html": [
              ""
            ],
            "text/plain": [
              "<IPython.core.display.HTML object>"
            ]
          },
          "metadata": {
            "tags": []
          }
        },
        {
          "output_type": "display_data",
          "data": {
            "text/html": [
              ""
            ],
            "text/plain": [
              "<IPython.core.display.HTML object>"
            ]
          },
          "metadata": {
            "tags": []
          }
        },
        {
          "output_type": "display_data",
          "data": {
            "text/html": [
              ""
            ],
            "text/plain": [
              "<IPython.core.display.HTML object>"
            ]
          },
          "metadata": {
            "tags": []
          }
        },
        {
          "output_type": "display_data",
          "data": {
            "text/html": [
              ""
            ],
            "text/plain": [
              "<IPython.core.display.HTML object>"
            ]
          },
          "metadata": {
            "tags": []
          }
        },
        {
          "output_type": "display_data",
          "data": {
            "text/html": [
              ""
            ],
            "text/plain": [
              "<IPython.core.display.HTML object>"
            ]
          },
          "metadata": {
            "tags": []
          }
        },
        {
          "output_type": "display_data",
          "data": {
            "text/html": [
              ""
            ],
            "text/plain": [
              "<IPython.core.display.HTML object>"
            ]
          },
          "metadata": {
            "tags": []
          }
        },
        {
          "output_type": "display_data",
          "data": {
            "text/html": [
              ""
            ],
            "text/plain": [
              "<IPython.core.display.HTML object>"
            ]
          },
          "metadata": {
            "tags": []
          }
        },
        {
          "output_type": "display_data",
          "data": {
            "text/html": [
              ""
            ],
            "text/plain": [
              "<IPython.core.display.HTML object>"
            ]
          },
          "metadata": {
            "tags": []
          }
        },
        {
          "output_type": "display_data",
          "data": {
            "text/html": [
              ""
            ],
            "text/plain": [
              "<IPython.core.display.HTML object>"
            ]
          },
          "metadata": {
            "tags": []
          }
        },
        {
          "output_type": "display_data",
          "data": {
            "text/html": [
              ""
            ],
            "text/plain": [
              "<IPython.core.display.HTML object>"
            ]
          },
          "metadata": {
            "tags": []
          }
        },
        {
          "output_type": "display_data",
          "data": {
            "text/html": [
              ""
            ],
            "text/plain": [
              "<IPython.core.display.HTML object>"
            ]
          },
          "metadata": {
            "tags": []
          }
        },
        {
          "output_type": "display_data",
          "data": {
            "text/html": [
              ""
            ],
            "text/plain": [
              "<IPython.core.display.HTML object>"
            ]
          },
          "metadata": {
            "tags": []
          }
        },
        {
          "output_type": "display_data",
          "data": {
            "text/html": [
              ""
            ],
            "text/plain": [
              "<IPython.core.display.HTML object>"
            ]
          },
          "metadata": {
            "tags": []
          }
        },
        {
          "output_type": "display_data",
          "data": {
            "text/html": [
              ""
            ],
            "text/plain": [
              "<IPython.core.display.HTML object>"
            ]
          },
          "metadata": {
            "tags": []
          }
        },
        {
          "output_type": "display_data",
          "data": {
            "text/html": [
              ""
            ],
            "text/plain": [
              "<IPython.core.display.HTML object>"
            ]
          },
          "metadata": {
            "tags": []
          }
        },
        {
          "output_type": "display_data",
          "data": {
            "text/html": [
              ""
            ],
            "text/plain": [
              "<IPython.core.display.HTML object>"
            ]
          },
          "metadata": {
            "tags": []
          }
        },
        {
          "output_type": "display_data",
          "data": {
            "text/html": [
              ""
            ],
            "text/plain": [
              "<IPython.core.display.HTML object>"
            ]
          },
          "metadata": {
            "tags": []
          }
        },
        {
          "output_type": "display_data",
          "data": {
            "text/html": [
              ""
            ],
            "text/plain": [
              "<IPython.core.display.HTML object>"
            ]
          },
          "metadata": {
            "tags": []
          }
        },
        {
          "output_type": "display_data",
          "data": {
            "text/html": [
              ""
            ],
            "text/plain": [
              "<IPython.core.display.HTML object>"
            ]
          },
          "metadata": {
            "tags": []
          }
        },
        {
          "output_type": "display_data",
          "data": {
            "text/html": [
              ""
            ],
            "text/plain": [
              "<IPython.core.display.HTML object>"
            ]
          },
          "metadata": {
            "tags": []
          }
        },
        {
          "output_type": "display_data",
          "data": {
            "text/html": [
              ""
            ],
            "text/plain": [
              "<IPython.core.display.HTML object>"
            ]
          },
          "metadata": {
            "tags": []
          }
        },
        {
          "output_type": "display_data",
          "data": {
            "text/html": [
              ""
            ],
            "text/plain": [
              "<IPython.core.display.HTML object>"
            ]
          },
          "metadata": {
            "tags": []
          }
        },
        {
          "output_type": "display_data",
          "data": {
            "text/html": [
              ""
            ],
            "text/plain": [
              "<IPython.core.display.HTML object>"
            ]
          },
          "metadata": {
            "tags": []
          }
        },
        {
          "output_type": "display_data",
          "data": {
            "text/html": [
              ""
            ],
            "text/plain": [
              "<IPython.core.display.HTML object>"
            ]
          },
          "metadata": {
            "tags": []
          }
        },
        {
          "output_type": "display_data",
          "data": {
            "text/html": [
              ""
            ],
            "text/plain": [
              "<IPython.core.display.HTML object>"
            ]
          },
          "metadata": {
            "tags": []
          }
        },
        {
          "output_type": "display_data",
          "data": {
            "text/html": [
              ""
            ],
            "text/plain": [
              "<IPython.core.display.HTML object>"
            ]
          },
          "metadata": {
            "tags": []
          }
        },
        {
          "output_type": "display_data",
          "data": {
            "text/html": [
              ""
            ],
            "text/plain": [
              "<IPython.core.display.HTML object>"
            ]
          },
          "metadata": {
            "tags": []
          }
        },
        {
          "output_type": "display_data",
          "data": {
            "text/html": [
              ""
            ],
            "text/plain": [
              "<IPython.core.display.HTML object>"
            ]
          },
          "metadata": {
            "tags": []
          }
        },
        {
          "output_type": "display_data",
          "data": {
            "text/html": [
              ""
            ],
            "text/plain": [
              "<IPython.core.display.HTML object>"
            ]
          },
          "metadata": {
            "tags": []
          }
        },
        {
          "output_type": "display_data",
          "data": {
            "text/html": [
              ""
            ],
            "text/plain": [
              "<IPython.core.display.HTML object>"
            ]
          },
          "metadata": {
            "tags": []
          }
        },
        {
          "output_type": "display_data",
          "data": {
            "text/html": [
              ""
            ],
            "text/plain": [
              "<IPython.core.display.HTML object>"
            ]
          },
          "metadata": {
            "tags": []
          }
        },
        {
          "output_type": "display_data",
          "data": {
            "text/html": [
              ""
            ],
            "text/plain": [
              "<IPython.core.display.HTML object>"
            ]
          },
          "metadata": {
            "tags": []
          }
        },
        {
          "output_type": "display_data",
          "data": {
            "text/html": [
              ""
            ],
            "text/plain": [
              "<IPython.core.display.HTML object>"
            ]
          },
          "metadata": {
            "tags": []
          }
        },
        {
          "output_type": "display_data",
          "data": {
            "text/html": [
              ""
            ],
            "text/plain": [
              "<IPython.core.display.HTML object>"
            ]
          },
          "metadata": {
            "tags": []
          }
        },
        {
          "output_type": "display_data",
          "data": {
            "text/html": [
              ""
            ],
            "text/plain": [
              "<IPython.core.display.HTML object>"
            ]
          },
          "metadata": {
            "tags": []
          }
        },
        {
          "output_type": "display_data",
          "data": {
            "text/html": [
              ""
            ],
            "text/plain": [
              "<IPython.core.display.HTML object>"
            ]
          },
          "metadata": {
            "tags": []
          }
        },
        {
          "output_type": "display_data",
          "data": {
            "text/html": [
              ""
            ],
            "text/plain": [
              "<IPython.core.display.HTML object>"
            ]
          },
          "metadata": {
            "tags": []
          }
        },
        {
          "output_type": "display_data",
          "data": {
            "text/html": [
              ""
            ],
            "text/plain": [
              "<IPython.core.display.HTML object>"
            ]
          },
          "metadata": {
            "tags": []
          }
        },
        {
          "output_type": "display_data",
          "data": {
            "text/html": [
              ""
            ],
            "text/plain": [
              "<IPython.core.display.HTML object>"
            ]
          },
          "metadata": {
            "tags": []
          }
        },
        {
          "output_type": "display_data",
          "data": {
            "text/html": [
              ""
            ],
            "text/plain": [
              "<IPython.core.display.HTML object>"
            ]
          },
          "metadata": {
            "tags": []
          }
        },
        {
          "output_type": "display_data",
          "data": {
            "text/html": [
              ""
            ],
            "text/plain": [
              "<IPython.core.display.HTML object>"
            ]
          },
          "metadata": {
            "tags": []
          }
        },
        {
          "output_type": "display_data",
          "data": {
            "text/html": [
              ""
            ],
            "text/plain": [
              "<IPython.core.display.HTML object>"
            ]
          },
          "metadata": {
            "tags": []
          }
        },
        {
          "output_type": "display_data",
          "data": {
            "text/html": [
              ""
            ],
            "text/plain": [
              "<IPython.core.display.HTML object>"
            ]
          },
          "metadata": {
            "tags": []
          }
        },
        {
          "output_type": "display_data",
          "data": {
            "text/html": [
              ""
            ],
            "text/plain": [
              "<IPython.core.display.HTML object>"
            ]
          },
          "metadata": {
            "tags": []
          }
        },
        {
          "output_type": "display_data",
          "data": {
            "text/html": [
              ""
            ],
            "text/plain": [
              "<IPython.core.display.HTML object>"
            ]
          },
          "metadata": {
            "tags": []
          }
        },
        {
          "output_type": "display_data",
          "data": {
            "text/html": [
              ""
            ],
            "text/plain": [
              "<IPython.core.display.HTML object>"
            ]
          },
          "metadata": {
            "tags": []
          }
        },
        {
          "output_type": "display_data",
          "data": {
            "text/html": [
              ""
            ],
            "text/plain": [
              "<IPython.core.display.HTML object>"
            ]
          },
          "metadata": {
            "tags": []
          }
        },
        {
          "output_type": "display_data",
          "data": {
            "text/html": [
              ""
            ],
            "text/plain": [
              "<IPython.core.display.HTML object>"
            ]
          },
          "metadata": {
            "tags": []
          }
        },
        {
          "output_type": "display_data",
          "data": {
            "text/html": [
              ""
            ],
            "text/plain": [
              "<IPython.core.display.HTML object>"
            ]
          },
          "metadata": {
            "tags": []
          }
        },
        {
          "output_type": "display_data",
          "data": {
            "text/html": [
              ""
            ],
            "text/plain": [
              "<IPython.core.display.HTML object>"
            ]
          },
          "metadata": {
            "tags": []
          }
        },
        {
          "output_type": "display_data",
          "data": {
            "text/html": [
              ""
            ],
            "text/plain": [
              "<IPython.core.display.HTML object>"
            ]
          },
          "metadata": {
            "tags": []
          }
        },
        {
          "output_type": "display_data",
          "data": {
            "text/html": [
              ""
            ],
            "text/plain": [
              "<IPython.core.display.HTML object>"
            ]
          },
          "metadata": {
            "tags": []
          }
        },
        {
          "output_type": "display_data",
          "data": {
            "text/html": [
              ""
            ],
            "text/plain": [
              "<IPython.core.display.HTML object>"
            ]
          },
          "metadata": {
            "tags": []
          }
        },
        {
          "output_type": "display_data",
          "data": {
            "text/html": [
              ""
            ],
            "text/plain": [
              "<IPython.core.display.HTML object>"
            ]
          },
          "metadata": {
            "tags": []
          }
        },
        {
          "output_type": "display_data",
          "data": {
            "text/html": [
              ""
            ],
            "text/plain": [
              "<IPython.core.display.HTML object>"
            ]
          },
          "metadata": {
            "tags": []
          }
        },
        {
          "output_type": "display_data",
          "data": {
            "text/html": [
              ""
            ],
            "text/plain": [
              "<IPython.core.display.HTML object>"
            ]
          },
          "metadata": {
            "tags": []
          }
        },
        {
          "output_type": "display_data",
          "data": {
            "text/html": [
              ""
            ],
            "text/plain": [
              "<IPython.core.display.HTML object>"
            ]
          },
          "metadata": {
            "tags": []
          }
        },
        {
          "output_type": "display_data",
          "data": {
            "text/html": [
              ""
            ],
            "text/plain": [
              "<IPython.core.display.HTML object>"
            ]
          },
          "metadata": {
            "tags": []
          }
        },
        {
          "output_type": "display_data",
          "data": {
            "text/html": [
              ""
            ],
            "text/plain": [
              "<IPython.core.display.HTML object>"
            ]
          },
          "metadata": {
            "tags": []
          }
        },
        {
          "output_type": "display_data",
          "data": {
            "text/html": [
              ""
            ],
            "text/plain": [
              "<IPython.core.display.HTML object>"
            ]
          },
          "metadata": {
            "tags": []
          }
        },
        {
          "output_type": "display_data",
          "data": {
            "text/html": [
              ""
            ],
            "text/plain": [
              "<IPython.core.display.HTML object>"
            ]
          },
          "metadata": {
            "tags": []
          }
        },
        {
          "output_type": "display_data",
          "data": {
            "text/html": [
              ""
            ],
            "text/plain": [
              "<IPython.core.display.HTML object>"
            ]
          },
          "metadata": {
            "tags": []
          }
        },
        {
          "output_type": "display_data",
          "data": {
            "text/html": [
              ""
            ],
            "text/plain": [
              "<IPython.core.display.HTML object>"
            ]
          },
          "metadata": {
            "tags": []
          }
        },
        {
          "output_type": "display_data",
          "data": {
            "text/html": [
              ""
            ],
            "text/plain": [
              "<IPython.core.display.HTML object>"
            ]
          },
          "metadata": {
            "tags": []
          }
        },
        {
          "output_type": "display_data",
          "data": {
            "text/html": [
              ""
            ],
            "text/plain": [
              "<IPython.core.display.HTML object>"
            ]
          },
          "metadata": {
            "tags": []
          }
        },
        {
          "output_type": "display_data",
          "data": {
            "text/html": [
              ""
            ],
            "text/plain": [
              "<IPython.core.display.HTML object>"
            ]
          },
          "metadata": {
            "tags": []
          }
        },
        {
          "output_type": "display_data",
          "data": {
            "text/html": [
              ""
            ],
            "text/plain": [
              "<IPython.core.display.HTML object>"
            ]
          },
          "metadata": {
            "tags": []
          }
        },
        {
          "output_type": "display_data",
          "data": {
            "text/html": [
              ""
            ],
            "text/plain": [
              "<IPython.core.display.HTML object>"
            ]
          },
          "metadata": {
            "tags": []
          }
        },
        {
          "output_type": "display_data",
          "data": {
            "text/html": [
              ""
            ],
            "text/plain": [
              "<IPython.core.display.HTML object>"
            ]
          },
          "metadata": {
            "tags": []
          }
        },
        {
          "output_type": "display_data",
          "data": {
            "text/html": [
              ""
            ],
            "text/plain": [
              "<IPython.core.display.HTML object>"
            ]
          },
          "metadata": {
            "tags": []
          }
        },
        {
          "output_type": "display_data",
          "data": {
            "text/html": [
              ""
            ],
            "text/plain": [
              "<IPython.core.display.HTML object>"
            ]
          },
          "metadata": {
            "tags": []
          }
        },
        {
          "output_type": "display_data",
          "data": {
            "text/html": [
              ""
            ],
            "text/plain": [
              "<IPython.core.display.HTML object>"
            ]
          },
          "metadata": {
            "tags": []
          }
        },
        {
          "output_type": "display_data",
          "data": {
            "text/html": [
              ""
            ],
            "text/plain": [
              "<IPython.core.display.HTML object>"
            ]
          },
          "metadata": {
            "tags": []
          }
        },
        {
          "output_type": "display_data",
          "data": {
            "text/html": [
              ""
            ],
            "text/plain": [
              "<IPython.core.display.HTML object>"
            ]
          },
          "metadata": {
            "tags": []
          }
        },
        {
          "output_type": "display_data",
          "data": {
            "text/html": [
              ""
            ],
            "text/plain": [
              "<IPython.core.display.HTML object>"
            ]
          },
          "metadata": {
            "tags": []
          }
        },
        {
          "output_type": "display_data",
          "data": {
            "text/html": [
              ""
            ],
            "text/plain": [
              "<IPython.core.display.HTML object>"
            ]
          },
          "metadata": {
            "tags": []
          }
        },
        {
          "output_type": "display_data",
          "data": {
            "text/html": [
              ""
            ],
            "text/plain": [
              "<IPython.core.display.HTML object>"
            ]
          },
          "metadata": {
            "tags": []
          }
        },
        {
          "output_type": "display_data",
          "data": {
            "text/html": [
              ""
            ],
            "text/plain": [
              "<IPython.core.display.HTML object>"
            ]
          },
          "metadata": {
            "tags": []
          }
        },
        {
          "output_type": "display_data",
          "data": {
            "text/html": [
              ""
            ],
            "text/plain": [
              "<IPython.core.display.HTML object>"
            ]
          },
          "metadata": {
            "tags": []
          }
        },
        {
          "output_type": "display_data",
          "data": {
            "text/html": [
              ""
            ],
            "text/plain": [
              "<IPython.core.display.HTML object>"
            ]
          },
          "metadata": {
            "tags": []
          }
        },
        {
          "output_type": "display_data",
          "data": {
            "text/html": [
              ""
            ],
            "text/plain": [
              "<IPython.core.display.HTML object>"
            ]
          },
          "metadata": {
            "tags": []
          }
        },
        {
          "output_type": "display_data",
          "data": {
            "text/html": [
              ""
            ],
            "text/plain": [
              "<IPython.core.display.HTML object>"
            ]
          },
          "metadata": {
            "tags": []
          }
        },
        {
          "output_type": "display_data",
          "data": {
            "text/html": [
              ""
            ],
            "text/plain": [
              "<IPython.core.display.HTML object>"
            ]
          },
          "metadata": {
            "tags": []
          }
        },
        {
          "output_type": "display_data",
          "data": {
            "text/html": [
              ""
            ],
            "text/plain": [
              "<IPython.core.display.HTML object>"
            ]
          },
          "metadata": {
            "tags": []
          }
        },
        {
          "output_type": "display_data",
          "data": {
            "text/html": [
              ""
            ],
            "text/plain": [
              "<IPython.core.display.HTML object>"
            ]
          },
          "metadata": {
            "tags": []
          }
        },
        {
          "output_type": "display_data",
          "data": {
            "text/html": [
              ""
            ],
            "text/plain": [
              "<IPython.core.display.HTML object>"
            ]
          },
          "metadata": {
            "tags": []
          }
        },
        {
          "output_type": "display_data",
          "data": {
            "text/html": [
              ""
            ],
            "text/plain": [
              "<IPython.core.display.HTML object>"
            ]
          },
          "metadata": {
            "tags": []
          }
        },
        {
          "output_type": "display_data",
          "data": {
            "text/html": [
              ""
            ],
            "text/plain": [
              "<IPython.core.display.HTML object>"
            ]
          },
          "metadata": {
            "tags": []
          }
        },
        {
          "output_type": "display_data",
          "data": {
            "text/html": [
              ""
            ],
            "text/plain": [
              "<IPython.core.display.HTML object>"
            ]
          },
          "metadata": {
            "tags": []
          }
        },
        {
          "output_type": "display_data",
          "data": {
            "text/html": [
              ""
            ],
            "text/plain": [
              "<IPython.core.display.HTML object>"
            ]
          },
          "metadata": {
            "tags": []
          }
        },
        {
          "output_type": "display_data",
          "data": {
            "text/html": [
              ""
            ],
            "text/plain": [
              "<IPython.core.display.HTML object>"
            ]
          },
          "metadata": {
            "tags": []
          }
        },
        {
          "output_type": "display_data",
          "data": {
            "text/html": [
              ""
            ],
            "text/plain": [
              "<IPython.core.display.HTML object>"
            ]
          },
          "metadata": {
            "tags": []
          }
        },
        {
          "output_type": "display_data",
          "data": {
            "text/html": [
              ""
            ],
            "text/plain": [
              "<IPython.core.display.HTML object>"
            ]
          },
          "metadata": {
            "tags": []
          }
        },
        {
          "output_type": "display_data",
          "data": {
            "text/html": [
              ""
            ],
            "text/plain": [
              "<IPython.core.display.HTML object>"
            ]
          },
          "metadata": {
            "tags": []
          }
        },
        {
          "output_type": "display_data",
          "data": {
            "text/html": [
              ""
            ],
            "text/plain": [
              "<IPython.core.display.HTML object>"
            ]
          },
          "metadata": {
            "tags": []
          }
        },
        {
          "output_type": "display_data",
          "data": {
            "text/html": [
              ""
            ],
            "text/plain": [
              "<IPython.core.display.HTML object>"
            ]
          },
          "metadata": {
            "tags": []
          }
        },
        {
          "output_type": "display_data",
          "data": {
            "text/html": [
              ""
            ],
            "text/plain": [
              "<IPython.core.display.HTML object>"
            ]
          },
          "metadata": {
            "tags": []
          }
        },
        {
          "output_type": "display_data",
          "data": {
            "text/html": [
              ""
            ],
            "text/plain": [
              "<IPython.core.display.HTML object>"
            ]
          },
          "metadata": {
            "tags": []
          }
        },
        {
          "output_type": "display_data",
          "data": {
            "text/html": [
              ""
            ],
            "text/plain": [
              "<IPython.core.display.HTML object>"
            ]
          },
          "metadata": {
            "tags": []
          }
        },
        {
          "output_type": "display_data",
          "data": {
            "text/html": [
              ""
            ],
            "text/plain": [
              "<IPython.core.display.HTML object>"
            ]
          },
          "metadata": {
            "tags": []
          }
        },
        {
          "output_type": "display_data",
          "data": {
            "text/html": [
              ""
            ],
            "text/plain": [
              "<IPython.core.display.HTML object>"
            ]
          },
          "metadata": {
            "tags": []
          }
        },
        {
          "output_type": "display_data",
          "data": {
            "text/html": [
              ""
            ],
            "text/plain": [
              "<IPython.core.display.HTML object>"
            ]
          },
          "metadata": {
            "tags": []
          }
        },
        {
          "output_type": "display_data",
          "data": {
            "text/html": [
              ""
            ],
            "text/plain": [
              "<IPython.core.display.HTML object>"
            ]
          },
          "metadata": {
            "tags": []
          }
        },
        {
          "output_type": "display_data",
          "data": {
            "text/html": [
              ""
            ],
            "text/plain": [
              "<IPython.core.display.HTML object>"
            ]
          },
          "metadata": {
            "tags": []
          }
        },
        {
          "output_type": "display_data",
          "data": {
            "text/html": [
              ""
            ],
            "text/plain": [
              "<IPython.core.display.HTML object>"
            ]
          },
          "metadata": {
            "tags": []
          }
        },
        {
          "output_type": "display_data",
          "data": {
            "text/html": [
              ""
            ],
            "text/plain": [
              "<IPython.core.display.HTML object>"
            ]
          },
          "metadata": {
            "tags": []
          }
        },
        {
          "output_type": "display_data",
          "data": {
            "text/html": [
              ""
            ],
            "text/plain": [
              "<IPython.core.display.HTML object>"
            ]
          },
          "metadata": {
            "tags": []
          }
        },
        {
          "output_type": "display_data",
          "data": {
            "text/html": [
              ""
            ],
            "text/plain": [
              "<IPython.core.display.HTML object>"
            ]
          },
          "metadata": {
            "tags": []
          }
        },
        {
          "output_type": "display_data",
          "data": {
            "text/html": [
              ""
            ],
            "text/plain": [
              "<IPython.core.display.HTML object>"
            ]
          },
          "metadata": {
            "tags": []
          }
        },
        {
          "output_type": "display_data",
          "data": {
            "text/html": [
              ""
            ],
            "text/plain": [
              "<IPython.core.display.HTML object>"
            ]
          },
          "metadata": {
            "tags": []
          }
        },
        {
          "output_type": "display_data",
          "data": {
            "text/html": [
              ""
            ],
            "text/plain": [
              "<IPython.core.display.HTML object>"
            ]
          },
          "metadata": {
            "tags": []
          }
        },
        {
          "output_type": "display_data",
          "data": {
            "text/html": [
              ""
            ],
            "text/plain": [
              "<IPython.core.display.HTML object>"
            ]
          },
          "metadata": {
            "tags": []
          }
        },
        {
          "output_type": "display_data",
          "data": {
            "text/html": [
              ""
            ],
            "text/plain": [
              "<IPython.core.display.HTML object>"
            ]
          },
          "metadata": {
            "tags": []
          }
        },
        {
          "output_type": "display_data",
          "data": {
            "text/html": [
              ""
            ],
            "text/plain": [
              "<IPython.core.display.HTML object>"
            ]
          },
          "metadata": {
            "tags": []
          }
        },
        {
          "output_type": "display_data",
          "data": {
            "text/html": [
              ""
            ],
            "text/plain": [
              "<IPython.core.display.HTML object>"
            ]
          },
          "metadata": {
            "tags": []
          }
        },
        {
          "output_type": "display_data",
          "data": {
            "text/html": [
              ""
            ],
            "text/plain": [
              "<IPython.core.display.HTML object>"
            ]
          },
          "metadata": {
            "tags": []
          }
        },
        {
          "output_type": "display_data",
          "data": {
            "text/html": [
              ""
            ],
            "text/plain": [
              "<IPython.core.display.HTML object>"
            ]
          },
          "metadata": {
            "tags": []
          }
        },
        {
          "output_type": "display_data",
          "data": {
            "text/html": [
              ""
            ],
            "text/plain": [
              "<IPython.core.display.HTML object>"
            ]
          },
          "metadata": {
            "tags": []
          }
        },
        {
          "output_type": "display_data",
          "data": {
            "text/html": [
              ""
            ],
            "text/plain": [
              "<IPython.core.display.HTML object>"
            ]
          },
          "metadata": {
            "tags": []
          }
        },
        {
          "output_type": "display_data",
          "data": {
            "text/html": [
              ""
            ],
            "text/plain": [
              "<IPython.core.display.HTML object>"
            ]
          },
          "metadata": {
            "tags": []
          }
        },
        {
          "output_type": "display_data",
          "data": {
            "text/html": [
              ""
            ],
            "text/plain": [
              "<IPython.core.display.HTML object>"
            ]
          },
          "metadata": {
            "tags": []
          }
        },
        {
          "output_type": "display_data",
          "data": {
            "text/html": [
              ""
            ],
            "text/plain": [
              "<IPython.core.display.HTML object>"
            ]
          },
          "metadata": {
            "tags": []
          }
        },
        {
          "output_type": "display_data",
          "data": {
            "text/html": [
              ""
            ],
            "text/plain": [
              "<IPython.core.display.HTML object>"
            ]
          },
          "metadata": {
            "tags": []
          }
        },
        {
          "output_type": "display_data",
          "data": {
            "text/html": [
              ""
            ],
            "text/plain": [
              "<IPython.core.display.HTML object>"
            ]
          },
          "metadata": {
            "tags": []
          }
        },
        {
          "output_type": "display_data",
          "data": {
            "text/html": [
              ""
            ],
            "text/plain": [
              "<IPython.core.display.HTML object>"
            ]
          },
          "metadata": {
            "tags": []
          }
        },
        {
          "output_type": "display_data",
          "data": {
            "text/html": [
              ""
            ],
            "text/plain": [
              "<IPython.core.display.HTML object>"
            ]
          },
          "metadata": {
            "tags": []
          }
        },
        {
          "output_type": "display_data",
          "data": {
            "text/html": [
              ""
            ],
            "text/plain": [
              "<IPython.core.display.HTML object>"
            ]
          },
          "metadata": {
            "tags": []
          }
        },
        {
          "output_type": "display_data",
          "data": {
            "text/html": [
              ""
            ],
            "text/plain": [
              "<IPython.core.display.HTML object>"
            ]
          },
          "metadata": {
            "tags": []
          }
        },
        {
          "output_type": "display_data",
          "data": {
            "text/html": [
              ""
            ],
            "text/plain": [
              "<IPython.core.display.HTML object>"
            ]
          },
          "metadata": {
            "tags": []
          }
        },
        {
          "output_type": "display_data",
          "data": {
            "text/html": [
              ""
            ],
            "text/plain": [
              "<IPython.core.display.HTML object>"
            ]
          },
          "metadata": {
            "tags": []
          }
        },
        {
          "output_type": "display_data",
          "data": {
            "text/html": [
              ""
            ],
            "text/plain": [
              "<IPython.core.display.HTML object>"
            ]
          },
          "metadata": {
            "tags": []
          }
        },
        {
          "output_type": "display_data",
          "data": {
            "text/html": [
              ""
            ],
            "text/plain": [
              "<IPython.core.display.HTML object>"
            ]
          },
          "metadata": {
            "tags": []
          }
        },
        {
          "output_type": "display_data",
          "data": {
            "text/html": [
              ""
            ],
            "text/plain": [
              "<IPython.core.display.HTML object>"
            ]
          },
          "metadata": {
            "tags": []
          }
        },
        {
          "output_type": "display_data",
          "data": {
            "text/html": [
              ""
            ],
            "text/plain": [
              "<IPython.core.display.HTML object>"
            ]
          },
          "metadata": {
            "tags": []
          }
        },
        {
          "output_type": "display_data",
          "data": {
            "text/html": [
              ""
            ],
            "text/plain": [
              "<IPython.core.display.HTML object>"
            ]
          },
          "metadata": {
            "tags": []
          }
        },
        {
          "output_type": "display_data",
          "data": {
            "text/html": [
              ""
            ],
            "text/plain": [
              "<IPython.core.display.HTML object>"
            ]
          },
          "metadata": {
            "tags": []
          }
        },
        {
          "output_type": "display_data",
          "data": {
            "text/html": [
              ""
            ],
            "text/plain": [
              "<IPython.core.display.HTML object>"
            ]
          },
          "metadata": {
            "tags": []
          }
        },
        {
          "output_type": "display_data",
          "data": {
            "text/html": [
              ""
            ],
            "text/plain": [
              "<IPython.core.display.HTML object>"
            ]
          },
          "metadata": {
            "tags": []
          }
        },
        {
          "output_type": "display_data",
          "data": {
            "text/html": [
              ""
            ],
            "text/plain": [
              "<IPython.core.display.HTML object>"
            ]
          },
          "metadata": {
            "tags": []
          }
        },
        {
          "output_type": "display_data",
          "data": {
            "text/html": [
              ""
            ],
            "text/plain": [
              "<IPython.core.display.HTML object>"
            ]
          },
          "metadata": {
            "tags": []
          }
        },
        {
          "output_type": "display_data",
          "data": {
            "text/html": [
              ""
            ],
            "text/plain": [
              "<IPython.core.display.HTML object>"
            ]
          },
          "metadata": {
            "tags": []
          }
        },
        {
          "output_type": "display_data",
          "data": {
            "text/html": [
              ""
            ],
            "text/plain": [
              "<IPython.core.display.HTML object>"
            ]
          },
          "metadata": {
            "tags": []
          }
        },
        {
          "output_type": "display_data",
          "data": {
            "text/html": [
              ""
            ],
            "text/plain": [
              "<IPython.core.display.HTML object>"
            ]
          },
          "metadata": {
            "tags": []
          }
        },
        {
          "output_type": "display_data",
          "data": {
            "text/html": [
              ""
            ],
            "text/plain": [
              "<IPython.core.display.HTML object>"
            ]
          },
          "metadata": {
            "tags": []
          }
        },
        {
          "output_type": "display_data",
          "data": {
            "text/html": [
              ""
            ],
            "text/plain": [
              "<IPython.core.display.HTML object>"
            ]
          },
          "metadata": {
            "tags": []
          }
        },
        {
          "output_type": "display_data",
          "data": {
            "text/html": [
              ""
            ],
            "text/plain": [
              "<IPython.core.display.HTML object>"
            ]
          },
          "metadata": {
            "tags": []
          }
        },
        {
          "output_type": "display_data",
          "data": {
            "text/html": [
              ""
            ],
            "text/plain": [
              "<IPython.core.display.HTML object>"
            ]
          },
          "metadata": {
            "tags": []
          }
        },
        {
          "output_type": "display_data",
          "data": {
            "text/html": [
              ""
            ],
            "text/plain": [
              "<IPython.core.display.HTML object>"
            ]
          },
          "metadata": {
            "tags": []
          }
        },
        {
          "output_type": "display_data",
          "data": {
            "text/html": [
              ""
            ],
            "text/plain": [
              "<IPython.core.display.HTML object>"
            ]
          },
          "metadata": {
            "tags": []
          }
        },
        {
          "output_type": "display_data",
          "data": {
            "text/html": [
              ""
            ],
            "text/plain": [
              "<IPython.core.display.HTML object>"
            ]
          },
          "metadata": {
            "tags": []
          }
        },
        {
          "output_type": "display_data",
          "data": {
            "text/html": [
              ""
            ],
            "text/plain": [
              "<IPython.core.display.HTML object>"
            ]
          },
          "metadata": {
            "tags": []
          }
        },
        {
          "output_type": "display_data",
          "data": {
            "text/html": [
              ""
            ],
            "text/plain": [
              "<IPython.core.display.HTML object>"
            ]
          },
          "metadata": {
            "tags": []
          }
        },
        {
          "output_type": "display_data",
          "data": {
            "text/html": [
              ""
            ],
            "text/plain": [
              "<IPython.core.display.HTML object>"
            ]
          },
          "metadata": {
            "tags": []
          }
        },
        {
          "output_type": "display_data",
          "data": {
            "text/html": [
              ""
            ],
            "text/plain": [
              "<IPython.core.display.HTML object>"
            ]
          },
          "metadata": {
            "tags": []
          }
        },
        {
          "output_type": "display_data",
          "data": {
            "text/html": [
              ""
            ],
            "text/plain": [
              "<IPython.core.display.HTML object>"
            ]
          },
          "metadata": {
            "tags": []
          }
        },
        {
          "output_type": "display_data",
          "data": {
            "text/html": [
              ""
            ],
            "text/plain": [
              "<IPython.core.display.HTML object>"
            ]
          },
          "metadata": {
            "tags": []
          }
        },
        {
          "output_type": "display_data",
          "data": {
            "text/html": [
              ""
            ],
            "text/plain": [
              "<IPython.core.display.HTML object>"
            ]
          },
          "metadata": {
            "tags": []
          }
        },
        {
          "output_type": "display_data",
          "data": {
            "text/html": [
              ""
            ],
            "text/plain": [
              "<IPython.core.display.HTML object>"
            ]
          },
          "metadata": {
            "tags": []
          }
        },
        {
          "output_type": "display_data",
          "data": {
            "text/html": [
              ""
            ],
            "text/plain": [
              "<IPython.core.display.HTML object>"
            ]
          },
          "metadata": {
            "tags": []
          }
        },
        {
          "output_type": "display_data",
          "data": {
            "text/html": [
              ""
            ],
            "text/plain": [
              "<IPython.core.display.HTML object>"
            ]
          },
          "metadata": {
            "tags": []
          }
        },
        {
          "output_type": "display_data",
          "data": {
            "text/html": [
              ""
            ],
            "text/plain": [
              "<IPython.core.display.HTML object>"
            ]
          },
          "metadata": {
            "tags": []
          }
        },
        {
          "output_type": "display_data",
          "data": {
            "text/html": [
              ""
            ],
            "text/plain": [
              "<IPython.core.display.HTML object>"
            ]
          },
          "metadata": {
            "tags": []
          }
        },
        {
          "output_type": "display_data",
          "data": {
            "text/html": [
              ""
            ],
            "text/plain": [
              "<IPython.core.display.HTML object>"
            ]
          },
          "metadata": {
            "tags": []
          }
        },
        {
          "output_type": "display_data",
          "data": {
            "text/html": [
              ""
            ],
            "text/plain": [
              "<IPython.core.display.HTML object>"
            ]
          },
          "metadata": {
            "tags": []
          }
        },
        {
          "output_type": "display_data",
          "data": {
            "text/html": [
              ""
            ],
            "text/plain": [
              "<IPython.core.display.HTML object>"
            ]
          },
          "metadata": {
            "tags": []
          }
        },
        {
          "output_type": "display_data",
          "data": {
            "text/html": [
              ""
            ],
            "text/plain": [
              "<IPython.core.display.HTML object>"
            ]
          },
          "metadata": {
            "tags": []
          }
        },
        {
          "output_type": "display_data",
          "data": {
            "text/html": [
              ""
            ],
            "text/plain": [
              "<IPython.core.display.HTML object>"
            ]
          },
          "metadata": {
            "tags": []
          }
        },
        {
          "output_type": "display_data",
          "data": {
            "text/html": [
              ""
            ],
            "text/plain": [
              "<IPython.core.display.HTML object>"
            ]
          },
          "metadata": {
            "tags": []
          }
        },
        {
          "output_type": "display_data",
          "data": {
            "text/html": [
              ""
            ],
            "text/plain": [
              "<IPython.core.display.HTML object>"
            ]
          },
          "metadata": {
            "tags": []
          }
        },
        {
          "output_type": "display_data",
          "data": {
            "text/html": [
              ""
            ],
            "text/plain": [
              "<IPython.core.display.HTML object>"
            ]
          },
          "metadata": {
            "tags": []
          }
        },
        {
          "output_type": "display_data",
          "data": {
            "text/html": [
              ""
            ],
            "text/plain": [
              "<IPython.core.display.HTML object>"
            ]
          },
          "metadata": {
            "tags": []
          }
        },
        {
          "output_type": "display_data",
          "data": {
            "text/html": [
              ""
            ],
            "text/plain": [
              "<IPython.core.display.HTML object>"
            ]
          },
          "metadata": {
            "tags": []
          }
        },
        {
          "output_type": "display_data",
          "data": {
            "text/html": [
              ""
            ],
            "text/plain": [
              "<IPython.core.display.HTML object>"
            ]
          },
          "metadata": {
            "tags": []
          }
        },
        {
          "output_type": "display_data",
          "data": {
            "text/html": [
              ""
            ],
            "text/plain": [
              "<IPython.core.display.HTML object>"
            ]
          },
          "metadata": {
            "tags": []
          }
        },
        {
          "output_type": "display_data",
          "data": {
            "text/html": [
              ""
            ],
            "text/plain": [
              "<IPython.core.display.HTML object>"
            ]
          },
          "metadata": {
            "tags": []
          }
        },
        {
          "output_type": "display_data",
          "data": {
            "text/html": [
              ""
            ],
            "text/plain": [
              "<IPython.core.display.HTML object>"
            ]
          },
          "metadata": {
            "tags": []
          }
        },
        {
          "output_type": "display_data",
          "data": {
            "text/html": [
              ""
            ],
            "text/plain": [
              "<IPython.core.display.HTML object>"
            ]
          },
          "metadata": {
            "tags": []
          }
        },
        {
          "output_type": "display_data",
          "data": {
            "text/html": [
              ""
            ],
            "text/plain": [
              "<IPython.core.display.HTML object>"
            ]
          },
          "metadata": {
            "tags": []
          }
        },
        {
          "output_type": "display_data",
          "data": {
            "text/html": [
              ""
            ],
            "text/plain": [
              "<IPython.core.display.HTML object>"
            ]
          },
          "metadata": {
            "tags": []
          }
        },
        {
          "output_type": "display_data",
          "data": {
            "text/html": [
              ""
            ],
            "text/plain": [
              "<IPython.core.display.HTML object>"
            ]
          },
          "metadata": {
            "tags": []
          }
        },
        {
          "output_type": "display_data",
          "data": {
            "text/html": [
              ""
            ],
            "text/plain": [
              "<IPython.core.display.HTML object>"
            ]
          },
          "metadata": {
            "tags": []
          }
        },
        {
          "output_type": "display_data",
          "data": {
            "text/html": [
              ""
            ],
            "text/plain": [
              "<IPython.core.display.HTML object>"
            ]
          },
          "metadata": {
            "tags": []
          }
        },
        {
          "output_type": "display_data",
          "data": {
            "text/html": [
              ""
            ],
            "text/plain": [
              "<IPython.core.display.HTML object>"
            ]
          },
          "metadata": {
            "tags": []
          }
        },
        {
          "output_type": "display_data",
          "data": {
            "text/html": [
              ""
            ],
            "text/plain": [
              "<IPython.core.display.HTML object>"
            ]
          },
          "metadata": {
            "tags": []
          }
        },
        {
          "output_type": "display_data",
          "data": {
            "text/html": [
              ""
            ],
            "text/plain": [
              "<IPython.core.display.HTML object>"
            ]
          },
          "metadata": {
            "tags": []
          }
        },
        {
          "output_type": "display_data",
          "data": {
            "text/html": [
              ""
            ],
            "text/plain": [
              "<IPython.core.display.HTML object>"
            ]
          },
          "metadata": {
            "tags": []
          }
        },
        {
          "output_type": "display_data",
          "data": {
            "text/html": [
              ""
            ],
            "text/plain": [
              "<IPython.core.display.HTML object>"
            ]
          },
          "metadata": {
            "tags": []
          }
        },
        {
          "output_type": "display_data",
          "data": {
            "text/html": [
              ""
            ],
            "text/plain": [
              "<IPython.core.display.HTML object>"
            ]
          },
          "metadata": {
            "tags": []
          }
        },
        {
          "output_type": "display_data",
          "data": {
            "text/html": [
              ""
            ],
            "text/plain": [
              "<IPython.core.display.HTML object>"
            ]
          },
          "metadata": {
            "tags": []
          }
        },
        {
          "output_type": "display_data",
          "data": {
            "text/html": [
              ""
            ],
            "text/plain": [
              "<IPython.core.display.HTML object>"
            ]
          },
          "metadata": {
            "tags": []
          }
        },
        {
          "output_type": "display_data",
          "data": {
            "text/html": [
              ""
            ],
            "text/plain": [
              "<IPython.core.display.HTML object>"
            ]
          },
          "metadata": {
            "tags": []
          }
        },
        {
          "output_type": "display_data",
          "data": {
            "text/html": [
              ""
            ],
            "text/plain": [
              "<IPython.core.display.HTML object>"
            ]
          },
          "metadata": {
            "tags": []
          }
        },
        {
          "output_type": "display_data",
          "data": {
            "text/html": [
              ""
            ],
            "text/plain": [
              "<IPython.core.display.HTML object>"
            ]
          },
          "metadata": {
            "tags": []
          }
        },
        {
          "output_type": "display_data",
          "data": {
            "text/html": [
              ""
            ],
            "text/plain": [
              "<IPython.core.display.HTML object>"
            ]
          },
          "metadata": {
            "tags": []
          }
        },
        {
          "output_type": "display_data",
          "data": {
            "text/html": [
              ""
            ],
            "text/plain": [
              "<IPython.core.display.HTML object>"
            ]
          },
          "metadata": {
            "tags": []
          }
        },
        {
          "output_type": "display_data",
          "data": {
            "text/html": [
              ""
            ],
            "text/plain": [
              "<IPython.core.display.HTML object>"
            ]
          },
          "metadata": {
            "tags": []
          }
        },
        {
          "output_type": "display_data",
          "data": {
            "text/html": [
              ""
            ],
            "text/plain": [
              "<IPython.core.display.HTML object>"
            ]
          },
          "metadata": {
            "tags": []
          }
        },
        {
          "output_type": "display_data",
          "data": {
            "text/html": [
              ""
            ],
            "text/plain": [
              "<IPython.core.display.HTML object>"
            ]
          },
          "metadata": {
            "tags": []
          }
        },
        {
          "output_type": "display_data",
          "data": {
            "text/html": [
              ""
            ],
            "text/plain": [
              "<IPython.core.display.HTML object>"
            ]
          },
          "metadata": {
            "tags": []
          }
        },
        {
          "output_type": "display_data",
          "data": {
            "text/html": [
              ""
            ],
            "text/plain": [
              "<IPython.core.display.HTML object>"
            ]
          },
          "metadata": {
            "tags": []
          }
        },
        {
          "output_type": "display_data",
          "data": {
            "text/html": [
              ""
            ],
            "text/plain": [
              "<IPython.core.display.HTML object>"
            ]
          },
          "metadata": {
            "tags": []
          }
        },
        {
          "output_type": "display_data",
          "data": {
            "text/html": [
              ""
            ],
            "text/plain": [
              "<IPython.core.display.HTML object>"
            ]
          },
          "metadata": {
            "tags": []
          }
        },
        {
          "output_type": "display_data",
          "data": {
            "text/html": [
              ""
            ],
            "text/plain": [
              "<IPython.core.display.HTML object>"
            ]
          },
          "metadata": {
            "tags": []
          }
        },
        {
          "output_type": "display_data",
          "data": {
            "text/html": [
              ""
            ],
            "text/plain": [
              "<IPython.core.display.HTML object>"
            ]
          },
          "metadata": {
            "tags": []
          }
        },
        {
          "output_type": "display_data",
          "data": {
            "text/html": [
              ""
            ],
            "text/plain": [
              "<IPython.core.display.HTML object>"
            ]
          },
          "metadata": {
            "tags": []
          }
        },
        {
          "output_type": "display_data",
          "data": {
            "text/html": [
              ""
            ],
            "text/plain": [
              "<IPython.core.display.HTML object>"
            ]
          },
          "metadata": {
            "tags": []
          }
        },
        {
          "output_type": "display_data",
          "data": {
            "text/html": [
              ""
            ],
            "text/plain": [
              "<IPython.core.display.HTML object>"
            ]
          },
          "metadata": {
            "tags": []
          }
        },
        {
          "output_type": "display_data",
          "data": {
            "text/html": [
              ""
            ],
            "text/plain": [
              "<IPython.core.display.HTML object>"
            ]
          },
          "metadata": {
            "tags": []
          }
        },
        {
          "output_type": "display_data",
          "data": {
            "text/html": [
              ""
            ],
            "text/plain": [
              "<IPython.core.display.HTML object>"
            ]
          },
          "metadata": {
            "tags": []
          }
        },
        {
          "output_type": "display_data",
          "data": {
            "text/html": [
              ""
            ],
            "text/plain": [
              "<IPython.core.display.HTML object>"
            ]
          },
          "metadata": {
            "tags": []
          }
        },
        {
          "output_type": "display_data",
          "data": {
            "text/html": [
              ""
            ],
            "text/plain": [
              "<IPython.core.display.HTML object>"
            ]
          },
          "metadata": {
            "tags": []
          }
        },
        {
          "output_type": "display_data",
          "data": {
            "text/html": [
              ""
            ],
            "text/plain": [
              "<IPython.core.display.HTML object>"
            ]
          },
          "metadata": {
            "tags": []
          }
        },
        {
          "output_type": "display_data",
          "data": {
            "text/html": [
              ""
            ],
            "text/plain": [
              "<IPython.core.display.HTML object>"
            ]
          },
          "metadata": {
            "tags": []
          }
        },
        {
          "output_type": "display_data",
          "data": {
            "text/html": [
              ""
            ],
            "text/plain": [
              "<IPython.core.display.HTML object>"
            ]
          },
          "metadata": {
            "tags": []
          }
        },
        {
          "output_type": "display_data",
          "data": {
            "text/html": [
              ""
            ],
            "text/plain": [
              "<IPython.core.display.HTML object>"
            ]
          },
          "metadata": {
            "tags": []
          }
        },
        {
          "output_type": "display_data",
          "data": {
            "text/html": [
              ""
            ],
            "text/plain": [
              "<IPython.core.display.HTML object>"
            ]
          },
          "metadata": {
            "tags": []
          }
        },
        {
          "output_type": "display_data",
          "data": {
            "text/html": [
              ""
            ],
            "text/plain": [
              "<IPython.core.display.HTML object>"
            ]
          },
          "metadata": {
            "tags": []
          }
        },
        {
          "output_type": "display_data",
          "data": {
            "text/html": [
              ""
            ],
            "text/plain": [
              "<IPython.core.display.HTML object>"
            ]
          },
          "metadata": {
            "tags": []
          }
        },
        {
          "output_type": "display_data",
          "data": {
            "text/html": [
              ""
            ],
            "text/plain": [
              "<IPython.core.display.HTML object>"
            ]
          },
          "metadata": {
            "tags": []
          }
        },
        {
          "output_type": "display_data",
          "data": {
            "text/html": [
              ""
            ],
            "text/plain": [
              "<IPython.core.display.HTML object>"
            ]
          },
          "metadata": {
            "tags": []
          }
        },
        {
          "output_type": "display_data",
          "data": {
            "text/html": [
              ""
            ],
            "text/plain": [
              "<IPython.core.display.HTML object>"
            ]
          },
          "metadata": {
            "tags": []
          }
        },
        {
          "output_type": "display_data",
          "data": {
            "text/html": [
              ""
            ],
            "text/plain": [
              "<IPython.core.display.HTML object>"
            ]
          },
          "metadata": {
            "tags": []
          }
        },
        {
          "output_type": "display_data",
          "data": {
            "text/html": [
              ""
            ],
            "text/plain": [
              "<IPython.core.display.HTML object>"
            ]
          },
          "metadata": {
            "tags": []
          }
        },
        {
          "output_type": "display_data",
          "data": {
            "text/html": [
              ""
            ],
            "text/plain": [
              "<IPython.core.display.HTML object>"
            ]
          },
          "metadata": {
            "tags": []
          }
        },
        {
          "output_type": "display_data",
          "data": {
            "text/html": [
              ""
            ],
            "text/plain": [
              "<IPython.core.display.HTML object>"
            ]
          },
          "metadata": {
            "tags": []
          }
        },
        {
          "output_type": "display_data",
          "data": {
            "text/html": [
              ""
            ],
            "text/plain": [
              "<IPython.core.display.HTML object>"
            ]
          },
          "metadata": {
            "tags": []
          }
        },
        {
          "output_type": "display_data",
          "data": {
            "text/html": [
              ""
            ],
            "text/plain": [
              "<IPython.core.display.HTML object>"
            ]
          },
          "metadata": {
            "tags": []
          }
        },
        {
          "output_type": "display_data",
          "data": {
            "text/html": [
              ""
            ],
            "text/plain": [
              "<IPython.core.display.HTML object>"
            ]
          },
          "metadata": {
            "tags": []
          }
        },
        {
          "output_type": "display_data",
          "data": {
            "text/html": [
              ""
            ],
            "text/plain": [
              "<IPython.core.display.HTML object>"
            ]
          },
          "metadata": {
            "tags": []
          }
        },
        {
          "output_type": "display_data",
          "data": {
            "text/html": [
              ""
            ],
            "text/plain": [
              "<IPython.core.display.HTML object>"
            ]
          },
          "metadata": {
            "tags": []
          }
        },
        {
          "output_type": "display_data",
          "data": {
            "text/html": [
              ""
            ],
            "text/plain": [
              "<IPython.core.display.HTML object>"
            ]
          },
          "metadata": {
            "tags": []
          }
        },
        {
          "output_type": "display_data",
          "data": {
            "text/html": [
              ""
            ],
            "text/plain": [
              "<IPython.core.display.HTML object>"
            ]
          },
          "metadata": {
            "tags": []
          }
        },
        {
          "output_type": "display_data",
          "data": {
            "text/html": [
              ""
            ],
            "text/plain": [
              "<IPython.core.display.HTML object>"
            ]
          },
          "metadata": {
            "tags": []
          }
        },
        {
          "output_type": "display_data",
          "data": {
            "text/html": [
              ""
            ],
            "text/plain": [
              "<IPython.core.display.HTML object>"
            ]
          },
          "metadata": {
            "tags": []
          }
        },
        {
          "output_type": "display_data",
          "data": {
            "text/html": [
              ""
            ],
            "text/plain": [
              "<IPython.core.display.HTML object>"
            ]
          },
          "metadata": {
            "tags": []
          }
        },
        {
          "output_type": "display_data",
          "data": {
            "text/html": [
              ""
            ],
            "text/plain": [
              "<IPython.core.display.HTML object>"
            ]
          },
          "metadata": {
            "tags": []
          }
        },
        {
          "output_type": "display_data",
          "data": {
            "text/html": [
              ""
            ],
            "text/plain": [
              "<IPython.core.display.HTML object>"
            ]
          },
          "metadata": {
            "tags": []
          }
        },
        {
          "output_type": "display_data",
          "data": {
            "text/html": [
              ""
            ],
            "text/plain": [
              "<IPython.core.display.HTML object>"
            ]
          },
          "metadata": {
            "tags": []
          }
        },
        {
          "output_type": "display_data",
          "data": {
            "text/html": [
              ""
            ],
            "text/plain": [
              "<IPython.core.display.HTML object>"
            ]
          },
          "metadata": {
            "tags": []
          }
        },
        {
          "output_type": "display_data",
          "data": {
            "text/html": [
              ""
            ],
            "text/plain": [
              "<IPython.core.display.HTML object>"
            ]
          },
          "metadata": {
            "tags": []
          }
        },
        {
          "output_type": "display_data",
          "data": {
            "text/html": [
              ""
            ],
            "text/plain": [
              "<IPython.core.display.HTML object>"
            ]
          },
          "metadata": {
            "tags": []
          }
        },
        {
          "output_type": "display_data",
          "data": {
            "text/html": [
              ""
            ],
            "text/plain": [
              "<IPython.core.display.HTML object>"
            ]
          },
          "metadata": {
            "tags": []
          }
        },
        {
          "output_type": "display_data",
          "data": {
            "text/html": [
              ""
            ],
            "text/plain": [
              "<IPython.core.display.HTML object>"
            ]
          },
          "metadata": {
            "tags": []
          }
        },
        {
          "output_type": "display_data",
          "data": {
            "text/html": [
              ""
            ],
            "text/plain": [
              "<IPython.core.display.HTML object>"
            ]
          },
          "metadata": {
            "tags": []
          }
        },
        {
          "output_type": "display_data",
          "data": {
            "text/html": [
              ""
            ],
            "text/plain": [
              "<IPython.core.display.HTML object>"
            ]
          },
          "metadata": {
            "tags": []
          }
        },
        {
          "output_type": "display_data",
          "data": {
            "text/html": [
              ""
            ],
            "text/plain": [
              "<IPython.core.display.HTML object>"
            ]
          },
          "metadata": {
            "tags": []
          }
        },
        {
          "output_type": "display_data",
          "data": {
            "text/html": [
              ""
            ],
            "text/plain": [
              "<IPython.core.display.HTML object>"
            ]
          },
          "metadata": {
            "tags": []
          }
        },
        {
          "output_type": "display_data",
          "data": {
            "text/html": [
              ""
            ],
            "text/plain": [
              "<IPython.core.display.HTML object>"
            ]
          },
          "metadata": {
            "tags": []
          }
        },
        {
          "output_type": "display_data",
          "data": {
            "text/html": [
              ""
            ],
            "text/plain": [
              "<IPython.core.display.HTML object>"
            ]
          },
          "metadata": {
            "tags": []
          }
        },
        {
          "output_type": "display_data",
          "data": {
            "text/html": [
              ""
            ],
            "text/plain": [
              "<IPython.core.display.HTML object>"
            ]
          },
          "metadata": {
            "tags": []
          }
        },
        {
          "output_type": "display_data",
          "data": {
            "text/html": [
              ""
            ],
            "text/plain": [
              "<IPython.core.display.HTML object>"
            ]
          },
          "metadata": {
            "tags": []
          }
        },
        {
          "output_type": "display_data",
          "data": {
            "text/html": [
              ""
            ],
            "text/plain": [
              "<IPython.core.display.HTML object>"
            ]
          },
          "metadata": {
            "tags": []
          }
        },
        {
          "output_type": "display_data",
          "data": {
            "text/html": [
              ""
            ],
            "text/plain": [
              "<IPython.core.display.HTML object>"
            ]
          },
          "metadata": {
            "tags": []
          }
        },
        {
          "output_type": "display_data",
          "data": {
            "text/html": [
              ""
            ],
            "text/plain": [
              "<IPython.core.display.HTML object>"
            ]
          },
          "metadata": {
            "tags": []
          }
        },
        {
          "output_type": "display_data",
          "data": {
            "text/html": [
              ""
            ],
            "text/plain": [
              "<IPython.core.display.HTML object>"
            ]
          },
          "metadata": {
            "tags": []
          }
        },
        {
          "output_type": "display_data",
          "data": {
            "text/html": [
              ""
            ],
            "text/plain": [
              "<IPython.core.display.HTML object>"
            ]
          },
          "metadata": {
            "tags": []
          }
        },
        {
          "output_type": "display_data",
          "data": {
            "text/html": [
              ""
            ],
            "text/plain": [
              "<IPython.core.display.HTML object>"
            ]
          },
          "metadata": {
            "tags": []
          }
        },
        {
          "output_type": "display_data",
          "data": {
            "text/html": [
              ""
            ],
            "text/plain": [
              "<IPython.core.display.HTML object>"
            ]
          },
          "metadata": {
            "tags": []
          }
        },
        {
          "output_type": "display_data",
          "data": {
            "text/html": [
              ""
            ],
            "text/plain": [
              "<IPython.core.display.HTML object>"
            ]
          },
          "metadata": {
            "tags": []
          }
        },
        {
          "output_type": "display_data",
          "data": {
            "text/html": [
              ""
            ],
            "text/plain": [
              "<IPython.core.display.HTML object>"
            ]
          },
          "metadata": {
            "tags": []
          }
        },
        {
          "output_type": "display_data",
          "data": {
            "text/html": [
              ""
            ],
            "text/plain": [
              "<IPython.core.display.HTML object>"
            ]
          },
          "metadata": {
            "tags": []
          }
        },
        {
          "output_type": "display_data",
          "data": {
            "text/html": [
              ""
            ],
            "text/plain": [
              "<IPython.core.display.HTML object>"
            ]
          },
          "metadata": {
            "tags": []
          }
        },
        {
          "output_type": "display_data",
          "data": {
            "text/html": [
              ""
            ],
            "text/plain": [
              "<IPython.core.display.HTML object>"
            ]
          },
          "metadata": {
            "tags": []
          }
        },
        {
          "output_type": "display_data",
          "data": {
            "text/html": [
              ""
            ],
            "text/plain": [
              "<IPython.core.display.HTML object>"
            ]
          },
          "metadata": {
            "tags": []
          }
        },
        {
          "output_type": "display_data",
          "data": {
            "text/html": [
              ""
            ],
            "text/plain": [
              "<IPython.core.display.HTML object>"
            ]
          },
          "metadata": {
            "tags": []
          }
        },
        {
          "output_type": "display_data",
          "data": {
            "text/html": [
              ""
            ],
            "text/plain": [
              "<IPython.core.display.HTML object>"
            ]
          },
          "metadata": {
            "tags": []
          }
        },
        {
          "output_type": "display_data",
          "data": {
            "text/html": [
              ""
            ],
            "text/plain": [
              "<IPython.core.display.HTML object>"
            ]
          },
          "metadata": {
            "tags": []
          }
        },
        {
          "output_type": "display_data",
          "data": {
            "text/html": [
              ""
            ],
            "text/plain": [
              "<IPython.core.display.HTML object>"
            ]
          },
          "metadata": {
            "tags": []
          }
        },
        {
          "output_type": "display_data",
          "data": {
            "text/html": [
              ""
            ],
            "text/plain": [
              "<IPython.core.display.HTML object>"
            ]
          },
          "metadata": {
            "tags": []
          }
        },
        {
          "output_type": "display_data",
          "data": {
            "text/html": [
              ""
            ],
            "text/plain": [
              "<IPython.core.display.HTML object>"
            ]
          },
          "metadata": {
            "tags": []
          }
        },
        {
          "output_type": "display_data",
          "data": {
            "text/html": [
              ""
            ],
            "text/plain": [
              "<IPython.core.display.HTML object>"
            ]
          },
          "metadata": {
            "tags": []
          }
        },
        {
          "output_type": "display_data",
          "data": {
            "text/html": [
              ""
            ],
            "text/plain": [
              "<IPython.core.display.HTML object>"
            ]
          },
          "metadata": {
            "tags": []
          }
        },
        {
          "output_type": "display_data",
          "data": {
            "text/html": [
              ""
            ],
            "text/plain": [
              "<IPython.core.display.HTML object>"
            ]
          },
          "metadata": {
            "tags": []
          }
        },
        {
          "output_type": "display_data",
          "data": {
            "text/html": [
              ""
            ],
            "text/plain": [
              "<IPython.core.display.HTML object>"
            ]
          },
          "metadata": {
            "tags": []
          }
        },
        {
          "output_type": "display_data",
          "data": {
            "text/html": [
              ""
            ],
            "text/plain": [
              "<IPython.core.display.HTML object>"
            ]
          },
          "metadata": {
            "tags": []
          }
        },
        {
          "output_type": "display_data",
          "data": {
            "text/html": [
              ""
            ],
            "text/plain": [
              "<IPython.core.display.HTML object>"
            ]
          },
          "metadata": {
            "tags": []
          }
        },
        {
          "output_type": "display_data",
          "data": {
            "text/html": [
              ""
            ],
            "text/plain": [
              "<IPython.core.display.HTML object>"
            ]
          },
          "metadata": {
            "tags": []
          }
        },
        {
          "output_type": "display_data",
          "data": {
            "text/html": [
              ""
            ],
            "text/plain": [
              "<IPython.core.display.HTML object>"
            ]
          },
          "metadata": {
            "tags": []
          }
        },
        {
          "output_type": "display_data",
          "data": {
            "text/html": [
              ""
            ],
            "text/plain": [
              "<IPython.core.display.HTML object>"
            ]
          },
          "metadata": {
            "tags": []
          }
        },
        {
          "output_type": "display_data",
          "data": {
            "text/html": [
              ""
            ],
            "text/plain": [
              "<IPython.core.display.HTML object>"
            ]
          },
          "metadata": {
            "tags": []
          }
        },
        {
          "output_type": "display_data",
          "data": {
            "text/html": [
              ""
            ],
            "text/plain": [
              "<IPython.core.display.HTML object>"
            ]
          },
          "metadata": {
            "tags": []
          }
        },
        {
          "output_type": "display_data",
          "data": {
            "text/html": [
              ""
            ],
            "text/plain": [
              "<IPython.core.display.HTML object>"
            ]
          },
          "metadata": {
            "tags": []
          }
        },
        {
          "output_type": "display_data",
          "data": {
            "text/html": [
              ""
            ],
            "text/plain": [
              "<IPython.core.display.HTML object>"
            ]
          },
          "metadata": {
            "tags": []
          }
        },
        {
          "output_type": "display_data",
          "data": {
            "text/html": [
              ""
            ],
            "text/plain": [
              "<IPython.core.display.HTML object>"
            ]
          },
          "metadata": {
            "tags": []
          }
        },
        {
          "output_type": "display_data",
          "data": {
            "text/html": [
              ""
            ],
            "text/plain": [
              "<IPython.core.display.HTML object>"
            ]
          },
          "metadata": {
            "tags": []
          }
        },
        {
          "output_type": "display_data",
          "data": {
            "text/html": [
              ""
            ],
            "text/plain": [
              "<IPython.core.display.HTML object>"
            ]
          },
          "metadata": {
            "tags": []
          }
        },
        {
          "output_type": "display_data",
          "data": {
            "text/html": [
              ""
            ],
            "text/plain": [
              "<IPython.core.display.HTML object>"
            ]
          },
          "metadata": {
            "tags": []
          }
        },
        {
          "output_type": "display_data",
          "data": {
            "text/html": [
              ""
            ],
            "text/plain": [
              "<IPython.core.display.HTML object>"
            ]
          },
          "metadata": {
            "tags": []
          }
        },
        {
          "output_type": "display_data",
          "data": {
            "text/html": [
              ""
            ],
            "text/plain": [
              "<IPython.core.display.HTML object>"
            ]
          },
          "metadata": {
            "tags": []
          }
        },
        {
          "output_type": "display_data",
          "data": {
            "text/html": [
              ""
            ],
            "text/plain": [
              "<IPython.core.display.HTML object>"
            ]
          },
          "metadata": {
            "tags": []
          }
        },
        {
          "output_type": "display_data",
          "data": {
            "text/html": [
              ""
            ],
            "text/plain": [
              "<IPython.core.display.HTML object>"
            ]
          },
          "metadata": {
            "tags": []
          }
        },
        {
          "output_type": "display_data",
          "data": {
            "text/html": [
              ""
            ],
            "text/plain": [
              "<IPython.core.display.HTML object>"
            ]
          },
          "metadata": {
            "tags": []
          }
        },
        {
          "output_type": "display_data",
          "data": {
            "text/html": [
              ""
            ],
            "text/plain": [
              "<IPython.core.display.HTML object>"
            ]
          },
          "metadata": {
            "tags": []
          }
        },
        {
          "output_type": "display_data",
          "data": {
            "text/html": [
              ""
            ],
            "text/plain": [
              "<IPython.core.display.HTML object>"
            ]
          },
          "metadata": {
            "tags": []
          }
        },
        {
          "output_type": "display_data",
          "data": {
            "text/html": [
              ""
            ],
            "text/plain": [
              "<IPython.core.display.HTML object>"
            ]
          },
          "metadata": {
            "tags": []
          }
        },
        {
          "output_type": "display_data",
          "data": {
            "text/html": [
              ""
            ],
            "text/plain": [
              "<IPython.core.display.HTML object>"
            ]
          },
          "metadata": {
            "tags": []
          }
        },
        {
          "output_type": "display_data",
          "data": {
            "text/html": [
              ""
            ],
            "text/plain": [
              "<IPython.core.display.HTML object>"
            ]
          },
          "metadata": {
            "tags": []
          }
        },
        {
          "output_type": "display_data",
          "data": {
            "text/html": [
              ""
            ],
            "text/plain": [
              "<IPython.core.display.HTML object>"
            ]
          },
          "metadata": {
            "tags": []
          }
        },
        {
          "output_type": "display_data",
          "data": {
            "text/html": [
              ""
            ],
            "text/plain": [
              "<IPython.core.display.HTML object>"
            ]
          },
          "metadata": {
            "tags": []
          }
        },
        {
          "output_type": "display_data",
          "data": {
            "text/html": [
              ""
            ],
            "text/plain": [
              "<IPython.core.display.HTML object>"
            ]
          },
          "metadata": {
            "tags": []
          }
        },
        {
          "output_type": "display_data",
          "data": {
            "text/html": [
              ""
            ],
            "text/plain": [
              "<IPython.core.display.HTML object>"
            ]
          },
          "metadata": {
            "tags": []
          }
        },
        {
          "output_type": "display_data",
          "data": {
            "text/html": [
              ""
            ],
            "text/plain": [
              "<IPython.core.display.HTML object>"
            ]
          },
          "metadata": {
            "tags": []
          }
        },
        {
          "output_type": "display_data",
          "data": {
            "text/html": [
              ""
            ],
            "text/plain": [
              "<IPython.core.display.HTML object>"
            ]
          },
          "metadata": {
            "tags": []
          }
        },
        {
          "output_type": "display_data",
          "data": {
            "text/html": [
              ""
            ],
            "text/plain": [
              "<IPython.core.display.HTML object>"
            ]
          },
          "metadata": {
            "tags": []
          }
        },
        {
          "output_type": "display_data",
          "data": {
            "text/html": [
              ""
            ],
            "text/plain": [
              "<IPython.core.display.HTML object>"
            ]
          },
          "metadata": {
            "tags": []
          }
        },
        {
          "output_type": "display_data",
          "data": {
            "text/html": [
              ""
            ],
            "text/plain": [
              "<IPython.core.display.HTML object>"
            ]
          },
          "metadata": {
            "tags": []
          }
        },
        {
          "output_type": "display_data",
          "data": {
            "text/html": [
              ""
            ],
            "text/plain": [
              "<IPython.core.display.HTML object>"
            ]
          },
          "metadata": {
            "tags": []
          }
        },
        {
          "output_type": "display_data",
          "data": {
            "text/html": [
              ""
            ],
            "text/plain": [
              "<IPython.core.display.HTML object>"
            ]
          },
          "metadata": {
            "tags": []
          }
        },
        {
          "output_type": "display_data",
          "data": {
            "text/html": [
              ""
            ],
            "text/plain": [
              "<IPython.core.display.HTML object>"
            ]
          },
          "metadata": {
            "tags": []
          }
        },
        {
          "output_type": "display_data",
          "data": {
            "text/html": [
              ""
            ],
            "text/plain": [
              "<IPython.core.display.HTML object>"
            ]
          },
          "metadata": {
            "tags": []
          }
        },
        {
          "output_type": "display_data",
          "data": {
            "text/html": [
              ""
            ],
            "text/plain": [
              "<IPython.core.display.HTML object>"
            ]
          },
          "metadata": {
            "tags": []
          }
        },
        {
          "output_type": "display_data",
          "data": {
            "text/html": [
              ""
            ],
            "text/plain": [
              "<IPython.core.display.HTML object>"
            ]
          },
          "metadata": {
            "tags": []
          }
        },
        {
          "output_type": "display_data",
          "data": {
            "text/html": [
              ""
            ],
            "text/plain": [
              "<IPython.core.display.HTML object>"
            ]
          },
          "metadata": {
            "tags": []
          }
        },
        {
          "output_type": "display_data",
          "data": {
            "text/html": [
              ""
            ],
            "text/plain": [
              "<IPython.core.display.HTML object>"
            ]
          },
          "metadata": {
            "tags": []
          }
        },
        {
          "output_type": "display_data",
          "data": {
            "text/html": [
              ""
            ],
            "text/plain": [
              "<IPython.core.display.HTML object>"
            ]
          },
          "metadata": {
            "tags": []
          }
        },
        {
          "output_type": "display_data",
          "data": {
            "text/html": [
              ""
            ],
            "text/plain": [
              "<IPython.core.display.HTML object>"
            ]
          },
          "metadata": {
            "tags": []
          }
        },
        {
          "output_type": "display_data",
          "data": {
            "text/html": [
              ""
            ],
            "text/plain": [
              "<IPython.core.display.HTML object>"
            ]
          },
          "metadata": {
            "tags": []
          }
        },
        {
          "output_type": "display_data",
          "data": {
            "text/html": [
              ""
            ],
            "text/plain": [
              "<IPython.core.display.HTML object>"
            ]
          },
          "metadata": {
            "tags": []
          }
        },
        {
          "output_type": "display_data",
          "data": {
            "text/html": [
              ""
            ],
            "text/plain": [
              "<IPython.core.display.HTML object>"
            ]
          },
          "metadata": {
            "tags": []
          }
        },
        {
          "output_type": "display_data",
          "data": {
            "text/html": [
              ""
            ],
            "text/plain": [
              "<IPython.core.display.HTML object>"
            ]
          },
          "metadata": {
            "tags": []
          }
        },
        {
          "output_type": "display_data",
          "data": {
            "text/html": [
              ""
            ],
            "text/plain": [
              "<IPython.core.display.HTML object>"
            ]
          },
          "metadata": {
            "tags": []
          }
        },
        {
          "output_type": "display_data",
          "data": {
            "text/html": [
              ""
            ],
            "text/plain": [
              "<IPython.core.display.HTML object>"
            ]
          },
          "metadata": {
            "tags": []
          }
        },
        {
          "output_type": "display_data",
          "data": {
            "text/html": [
              ""
            ],
            "text/plain": [
              "<IPython.core.display.HTML object>"
            ]
          },
          "metadata": {
            "tags": []
          }
        },
        {
          "output_type": "display_data",
          "data": {
            "text/html": [
              ""
            ],
            "text/plain": [
              "<IPython.core.display.HTML object>"
            ]
          },
          "metadata": {
            "tags": []
          }
        },
        {
          "output_type": "display_data",
          "data": {
            "text/html": [
              ""
            ],
            "text/plain": [
              "<IPython.core.display.HTML object>"
            ]
          },
          "metadata": {
            "tags": []
          }
        },
        {
          "output_type": "display_data",
          "data": {
            "text/html": [
              ""
            ],
            "text/plain": [
              "<IPython.core.display.HTML object>"
            ]
          },
          "metadata": {
            "tags": []
          }
        },
        {
          "output_type": "display_data",
          "data": {
            "text/html": [
              ""
            ],
            "text/plain": [
              "<IPython.core.display.HTML object>"
            ]
          },
          "metadata": {
            "tags": []
          }
        },
        {
          "output_type": "display_data",
          "data": {
            "text/html": [
              ""
            ],
            "text/plain": [
              "<IPython.core.display.HTML object>"
            ]
          },
          "metadata": {
            "tags": []
          }
        },
        {
          "output_type": "display_data",
          "data": {
            "text/html": [
              ""
            ],
            "text/plain": [
              "<IPython.core.display.HTML object>"
            ]
          },
          "metadata": {
            "tags": []
          }
        },
        {
          "output_type": "display_data",
          "data": {
            "text/html": [
              ""
            ],
            "text/plain": [
              "<IPython.core.display.HTML object>"
            ]
          },
          "metadata": {
            "tags": []
          }
        },
        {
          "output_type": "display_data",
          "data": {
            "text/html": [
              ""
            ],
            "text/plain": [
              "<IPython.core.display.HTML object>"
            ]
          },
          "metadata": {
            "tags": []
          }
        },
        {
          "output_type": "display_data",
          "data": {
            "text/html": [
              ""
            ],
            "text/plain": [
              "<IPython.core.display.HTML object>"
            ]
          },
          "metadata": {
            "tags": []
          }
        },
        {
          "output_type": "display_data",
          "data": {
            "text/html": [
              ""
            ],
            "text/plain": [
              "<IPython.core.display.HTML object>"
            ]
          },
          "metadata": {
            "tags": []
          }
        },
        {
          "output_type": "display_data",
          "data": {
            "text/html": [
              ""
            ],
            "text/plain": [
              "<IPython.core.display.HTML object>"
            ]
          },
          "metadata": {
            "tags": []
          }
        },
        {
          "output_type": "display_data",
          "data": {
            "text/html": [
              ""
            ],
            "text/plain": [
              "<IPython.core.display.HTML object>"
            ]
          },
          "metadata": {
            "tags": []
          }
        },
        {
          "output_type": "display_data",
          "data": {
            "text/html": [
              ""
            ],
            "text/plain": [
              "<IPython.core.display.HTML object>"
            ]
          },
          "metadata": {
            "tags": []
          }
        },
        {
          "output_type": "display_data",
          "data": {
            "text/html": [
              ""
            ],
            "text/plain": [
              "<IPython.core.display.HTML object>"
            ]
          },
          "metadata": {
            "tags": []
          }
        },
        {
          "output_type": "display_data",
          "data": {
            "text/html": [
              ""
            ],
            "text/plain": [
              "<IPython.core.display.HTML object>"
            ]
          },
          "metadata": {
            "tags": []
          }
        },
        {
          "output_type": "display_data",
          "data": {
            "text/html": [
              ""
            ],
            "text/plain": [
              "<IPython.core.display.HTML object>"
            ]
          },
          "metadata": {
            "tags": []
          }
        },
        {
          "output_type": "display_data",
          "data": {
            "text/html": [
              ""
            ],
            "text/plain": [
              "<IPython.core.display.HTML object>"
            ]
          },
          "metadata": {
            "tags": []
          }
        },
        {
          "output_type": "display_data",
          "data": {
            "text/html": [
              ""
            ],
            "text/plain": [
              "<IPython.core.display.HTML object>"
            ]
          },
          "metadata": {
            "tags": []
          }
        },
        {
          "output_type": "display_data",
          "data": {
            "text/html": [
              ""
            ],
            "text/plain": [
              "<IPython.core.display.HTML object>"
            ]
          },
          "metadata": {
            "tags": []
          }
        },
        {
          "output_type": "display_data",
          "data": {
            "text/html": [
              ""
            ],
            "text/plain": [
              "<IPython.core.display.HTML object>"
            ]
          },
          "metadata": {
            "tags": []
          }
        },
        {
          "output_type": "display_data",
          "data": {
            "text/html": [
              ""
            ],
            "text/plain": [
              "<IPython.core.display.HTML object>"
            ]
          },
          "metadata": {
            "tags": []
          }
        },
        {
          "output_type": "display_data",
          "data": {
            "text/html": [
              ""
            ],
            "text/plain": [
              "<IPython.core.display.HTML object>"
            ]
          },
          "metadata": {
            "tags": []
          }
        },
        {
          "output_type": "display_data",
          "data": {
            "text/html": [
              ""
            ],
            "text/plain": [
              "<IPython.core.display.HTML object>"
            ]
          },
          "metadata": {
            "tags": []
          }
        },
        {
          "output_type": "display_data",
          "data": {
            "text/html": [
              ""
            ],
            "text/plain": [
              "<IPython.core.display.HTML object>"
            ]
          },
          "metadata": {
            "tags": []
          }
        },
        {
          "output_type": "display_data",
          "data": {
            "text/html": [
              ""
            ],
            "text/plain": [
              "<IPython.core.display.HTML object>"
            ]
          },
          "metadata": {
            "tags": []
          }
        },
        {
          "output_type": "display_data",
          "data": {
            "text/html": [
              ""
            ],
            "text/plain": [
              "<IPython.core.display.HTML object>"
            ]
          },
          "metadata": {
            "tags": []
          }
        },
        {
          "output_type": "display_data",
          "data": {
            "text/html": [
              ""
            ],
            "text/plain": [
              "<IPython.core.display.HTML object>"
            ]
          },
          "metadata": {
            "tags": []
          }
        },
        {
          "output_type": "display_data",
          "data": {
            "text/html": [
              ""
            ],
            "text/plain": [
              "<IPython.core.display.HTML object>"
            ]
          },
          "metadata": {
            "tags": []
          }
        },
        {
          "output_type": "display_data",
          "data": {
            "text/html": [
              ""
            ],
            "text/plain": [
              "<IPython.core.display.HTML object>"
            ]
          },
          "metadata": {
            "tags": []
          }
        },
        {
          "output_type": "display_data",
          "data": {
            "text/html": [
              ""
            ],
            "text/plain": [
              "<IPython.core.display.HTML object>"
            ]
          },
          "metadata": {
            "tags": []
          }
        },
        {
          "output_type": "display_data",
          "data": {
            "text/html": [
              ""
            ],
            "text/plain": [
              "<IPython.core.display.HTML object>"
            ]
          },
          "metadata": {
            "tags": []
          }
        },
        {
          "output_type": "display_data",
          "data": {
            "text/html": [
              ""
            ],
            "text/plain": [
              "<IPython.core.display.HTML object>"
            ]
          },
          "metadata": {
            "tags": []
          }
        },
        {
          "output_type": "display_data",
          "data": {
            "text/html": [
              ""
            ],
            "text/plain": [
              "<IPython.core.display.HTML object>"
            ]
          },
          "metadata": {
            "tags": []
          }
        },
        {
          "output_type": "display_data",
          "data": {
            "text/html": [
              ""
            ],
            "text/plain": [
              "<IPython.core.display.HTML object>"
            ]
          },
          "metadata": {
            "tags": []
          }
        },
        {
          "output_type": "display_data",
          "data": {
            "text/html": [
              ""
            ],
            "text/plain": [
              "<IPython.core.display.HTML object>"
            ]
          },
          "metadata": {
            "tags": []
          }
        },
        {
          "output_type": "display_data",
          "data": {
            "text/html": [
              ""
            ],
            "text/plain": [
              "<IPython.core.display.HTML object>"
            ]
          },
          "metadata": {
            "tags": []
          }
        },
        {
          "output_type": "display_data",
          "data": {
            "text/html": [
              ""
            ],
            "text/plain": [
              "<IPython.core.display.HTML object>"
            ]
          },
          "metadata": {
            "tags": []
          }
        },
        {
          "output_type": "display_data",
          "data": {
            "text/html": [
              ""
            ],
            "text/plain": [
              "<IPython.core.display.HTML object>"
            ]
          },
          "metadata": {
            "tags": []
          }
        },
        {
          "output_type": "display_data",
          "data": {
            "text/html": [
              ""
            ],
            "text/plain": [
              "<IPython.core.display.HTML object>"
            ]
          },
          "metadata": {
            "tags": []
          }
        },
        {
          "output_type": "display_data",
          "data": {
            "text/html": [
              ""
            ],
            "text/plain": [
              "<IPython.core.display.HTML object>"
            ]
          },
          "metadata": {
            "tags": []
          }
        },
        {
          "output_type": "display_data",
          "data": {
            "text/html": [
              ""
            ],
            "text/plain": [
              "<IPython.core.display.HTML object>"
            ]
          },
          "metadata": {
            "tags": []
          }
        },
        {
          "output_type": "display_data",
          "data": {
            "text/html": [
              ""
            ],
            "text/plain": [
              "<IPython.core.display.HTML object>"
            ]
          },
          "metadata": {
            "tags": []
          }
        },
        {
          "output_type": "display_data",
          "data": {
            "text/html": [
              ""
            ],
            "text/plain": [
              "<IPython.core.display.HTML object>"
            ]
          },
          "metadata": {
            "tags": []
          }
        },
        {
          "output_type": "display_data",
          "data": {
            "text/html": [
              ""
            ],
            "text/plain": [
              "<IPython.core.display.HTML object>"
            ]
          },
          "metadata": {
            "tags": []
          }
        },
        {
          "output_type": "display_data",
          "data": {
            "text/html": [
              ""
            ],
            "text/plain": [
              "<IPython.core.display.HTML object>"
            ]
          },
          "metadata": {
            "tags": []
          }
        },
        {
          "output_type": "display_data",
          "data": {
            "text/html": [
              ""
            ],
            "text/plain": [
              "<IPython.core.display.HTML object>"
            ]
          },
          "metadata": {
            "tags": []
          }
        },
        {
          "output_type": "display_data",
          "data": {
            "text/html": [
              ""
            ],
            "text/plain": [
              "<IPython.core.display.HTML object>"
            ]
          },
          "metadata": {
            "tags": []
          }
        },
        {
          "output_type": "display_data",
          "data": {
            "text/html": [
              ""
            ],
            "text/plain": [
              "<IPython.core.display.HTML object>"
            ]
          },
          "metadata": {
            "tags": []
          }
        },
        {
          "output_type": "display_data",
          "data": {
            "text/html": [
              ""
            ],
            "text/plain": [
              "<IPython.core.display.HTML object>"
            ]
          },
          "metadata": {
            "tags": []
          }
        },
        {
          "output_type": "display_data",
          "data": {
            "text/html": [
              ""
            ],
            "text/plain": [
              "<IPython.core.display.HTML object>"
            ]
          },
          "metadata": {
            "tags": []
          }
        },
        {
          "output_type": "display_data",
          "data": {
            "text/html": [
              ""
            ],
            "text/plain": [
              "<IPython.core.display.HTML object>"
            ]
          },
          "metadata": {
            "tags": []
          }
        },
        {
          "output_type": "display_data",
          "data": {
            "text/html": [
              ""
            ],
            "text/plain": [
              "<IPython.core.display.HTML object>"
            ]
          },
          "metadata": {
            "tags": []
          }
        },
        {
          "output_type": "display_data",
          "data": {
            "text/html": [
              ""
            ],
            "text/plain": [
              "<IPython.core.display.HTML object>"
            ]
          },
          "metadata": {
            "tags": []
          }
        },
        {
          "output_type": "display_data",
          "data": {
            "text/html": [
              ""
            ],
            "text/plain": [
              "<IPython.core.display.HTML object>"
            ]
          },
          "metadata": {
            "tags": []
          }
        },
        {
          "output_type": "display_data",
          "data": {
            "text/html": [
              ""
            ],
            "text/plain": [
              "<IPython.core.display.HTML object>"
            ]
          },
          "metadata": {
            "tags": []
          }
        },
        {
          "output_type": "display_data",
          "data": {
            "text/html": [
              ""
            ],
            "text/plain": [
              "<IPython.core.display.HTML object>"
            ]
          },
          "metadata": {
            "tags": []
          }
        },
        {
          "output_type": "display_data",
          "data": {
            "text/html": [
              ""
            ],
            "text/plain": [
              "<IPython.core.display.HTML object>"
            ]
          },
          "metadata": {
            "tags": []
          }
        },
        {
          "output_type": "display_data",
          "data": {
            "text/html": [
              ""
            ],
            "text/plain": [
              "<IPython.core.display.HTML object>"
            ]
          },
          "metadata": {
            "tags": []
          }
        },
        {
          "output_type": "display_data",
          "data": {
            "text/html": [
              ""
            ],
            "text/plain": [
              "<IPython.core.display.HTML object>"
            ]
          },
          "metadata": {
            "tags": []
          }
        },
        {
          "output_type": "display_data",
          "data": {
            "text/html": [
              ""
            ],
            "text/plain": [
              "<IPython.core.display.HTML object>"
            ]
          },
          "metadata": {
            "tags": []
          }
        },
        {
          "output_type": "display_data",
          "data": {
            "text/html": [
              ""
            ],
            "text/plain": [
              "<IPython.core.display.HTML object>"
            ]
          },
          "metadata": {
            "tags": []
          }
        },
        {
          "output_type": "display_data",
          "data": {
            "text/html": [
              ""
            ],
            "text/plain": [
              "<IPython.core.display.HTML object>"
            ]
          },
          "metadata": {
            "tags": []
          }
        },
        {
          "output_type": "display_data",
          "data": {
            "text/html": [
              ""
            ],
            "text/plain": [
              "<IPython.core.display.HTML object>"
            ]
          },
          "metadata": {
            "tags": []
          }
        },
        {
          "output_type": "display_data",
          "data": {
            "text/html": [
              ""
            ],
            "text/plain": [
              "<IPython.core.display.HTML object>"
            ]
          },
          "metadata": {
            "tags": []
          }
        },
        {
          "output_type": "display_data",
          "data": {
            "text/html": [
              ""
            ],
            "text/plain": [
              "<IPython.core.display.HTML object>"
            ]
          },
          "metadata": {
            "tags": []
          }
        },
        {
          "output_type": "display_data",
          "data": {
            "text/html": [
              ""
            ],
            "text/plain": [
              "<IPython.core.display.HTML object>"
            ]
          },
          "metadata": {
            "tags": []
          }
        },
        {
          "output_type": "display_data",
          "data": {
            "text/html": [
              ""
            ],
            "text/plain": [
              "<IPython.core.display.HTML object>"
            ]
          },
          "metadata": {
            "tags": []
          }
        },
        {
          "output_type": "display_data",
          "data": {
            "text/html": [
              ""
            ],
            "text/plain": [
              "<IPython.core.display.HTML object>"
            ]
          },
          "metadata": {
            "tags": []
          }
        },
        {
          "output_type": "display_data",
          "data": {
            "text/html": [
              ""
            ],
            "text/plain": [
              "<IPython.core.display.HTML object>"
            ]
          },
          "metadata": {
            "tags": []
          }
        },
        {
          "output_type": "display_data",
          "data": {
            "text/html": [
              ""
            ],
            "text/plain": [
              "<IPython.core.display.HTML object>"
            ]
          },
          "metadata": {
            "tags": []
          }
        },
        {
          "output_type": "display_data",
          "data": {
            "text/html": [
              ""
            ],
            "text/plain": [
              "<IPython.core.display.HTML object>"
            ]
          },
          "metadata": {
            "tags": []
          }
        },
        {
          "output_type": "display_data",
          "data": {
            "text/html": [
              ""
            ],
            "text/plain": [
              "<IPython.core.display.HTML object>"
            ]
          },
          "metadata": {
            "tags": []
          }
        },
        {
          "output_type": "display_data",
          "data": {
            "text/html": [
              ""
            ],
            "text/plain": [
              "<IPython.core.display.HTML object>"
            ]
          },
          "metadata": {
            "tags": []
          }
        },
        {
          "output_type": "display_data",
          "data": {
            "text/html": [
              ""
            ],
            "text/plain": [
              "<IPython.core.display.HTML object>"
            ]
          },
          "metadata": {
            "tags": []
          }
        },
        {
          "output_type": "display_data",
          "data": {
            "text/html": [
              ""
            ],
            "text/plain": [
              "<IPython.core.display.HTML object>"
            ]
          },
          "metadata": {
            "tags": []
          }
        },
        {
          "output_type": "display_data",
          "data": {
            "text/html": [
              ""
            ],
            "text/plain": [
              "<IPython.core.display.HTML object>"
            ]
          },
          "metadata": {
            "tags": []
          }
        },
        {
          "output_type": "display_data",
          "data": {
            "text/html": [
              ""
            ],
            "text/plain": [
              "<IPython.core.display.HTML object>"
            ]
          },
          "metadata": {
            "tags": []
          }
        },
        {
          "output_type": "display_data",
          "data": {
            "text/html": [
              ""
            ],
            "text/plain": [
              "<IPython.core.display.HTML object>"
            ]
          },
          "metadata": {
            "tags": []
          }
        },
        {
          "output_type": "display_data",
          "data": {
            "text/html": [
              ""
            ],
            "text/plain": [
              "<IPython.core.display.HTML object>"
            ]
          },
          "metadata": {
            "tags": []
          }
        },
        {
          "output_type": "display_data",
          "data": {
            "text/html": [
              ""
            ],
            "text/plain": [
              "<IPython.core.display.HTML object>"
            ]
          },
          "metadata": {
            "tags": []
          }
        },
        {
          "output_type": "display_data",
          "data": {
            "text/html": [
              ""
            ],
            "text/plain": [
              "<IPython.core.display.HTML object>"
            ]
          },
          "metadata": {
            "tags": []
          }
        },
        {
          "output_type": "display_data",
          "data": {
            "text/html": [
              ""
            ],
            "text/plain": [
              "<IPython.core.display.HTML object>"
            ]
          },
          "metadata": {
            "tags": []
          }
        },
        {
          "output_type": "display_data",
          "data": {
            "text/html": [
              ""
            ],
            "text/plain": [
              "<IPython.core.display.HTML object>"
            ]
          },
          "metadata": {
            "tags": []
          }
        },
        {
          "output_type": "display_data",
          "data": {
            "text/html": [
              ""
            ],
            "text/plain": [
              "<IPython.core.display.HTML object>"
            ]
          },
          "metadata": {
            "tags": []
          }
        },
        {
          "output_type": "display_data",
          "data": {
            "text/html": [
              ""
            ],
            "text/plain": [
              "<IPython.core.display.HTML object>"
            ]
          },
          "metadata": {
            "tags": []
          }
        },
        {
          "output_type": "display_data",
          "data": {
            "text/html": [
              ""
            ],
            "text/plain": [
              "<IPython.core.display.HTML object>"
            ]
          },
          "metadata": {
            "tags": []
          }
        },
        {
          "output_type": "display_data",
          "data": {
            "text/html": [
              ""
            ],
            "text/plain": [
              "<IPython.core.display.HTML object>"
            ]
          },
          "metadata": {
            "tags": []
          }
        },
        {
          "output_type": "display_data",
          "data": {
            "text/html": [
              ""
            ],
            "text/plain": [
              "<IPython.core.display.HTML object>"
            ]
          },
          "metadata": {
            "tags": []
          }
        },
        {
          "output_type": "display_data",
          "data": {
            "text/html": [
              ""
            ],
            "text/plain": [
              "<IPython.core.display.HTML object>"
            ]
          },
          "metadata": {
            "tags": []
          }
        },
        {
          "output_type": "display_data",
          "data": {
            "text/html": [
              ""
            ],
            "text/plain": [
              "<IPython.core.display.HTML object>"
            ]
          },
          "metadata": {
            "tags": []
          }
        },
        {
          "output_type": "display_data",
          "data": {
            "text/html": [
              ""
            ],
            "text/plain": [
              "<IPython.core.display.HTML object>"
            ]
          },
          "metadata": {
            "tags": []
          }
        },
        {
          "output_type": "display_data",
          "data": {
            "text/html": [
              ""
            ],
            "text/plain": [
              "<IPython.core.display.HTML object>"
            ]
          },
          "metadata": {
            "tags": []
          }
        },
        {
          "output_type": "display_data",
          "data": {
            "text/html": [
              ""
            ],
            "text/plain": [
              "<IPython.core.display.HTML object>"
            ]
          },
          "metadata": {
            "tags": []
          }
        },
        {
          "output_type": "display_data",
          "data": {
            "text/html": [
              ""
            ],
            "text/plain": [
              "<IPython.core.display.HTML object>"
            ]
          },
          "metadata": {
            "tags": []
          }
        },
        {
          "output_type": "display_data",
          "data": {
            "text/html": [
              ""
            ],
            "text/plain": [
              "<IPython.core.display.HTML object>"
            ]
          },
          "metadata": {
            "tags": []
          }
        },
        {
          "output_type": "display_data",
          "data": {
            "text/html": [
              ""
            ],
            "text/plain": [
              "<IPython.core.display.HTML object>"
            ]
          },
          "metadata": {
            "tags": []
          }
        },
        {
          "output_type": "display_data",
          "data": {
            "text/html": [
              ""
            ],
            "text/plain": [
              "<IPython.core.display.HTML object>"
            ]
          },
          "metadata": {
            "tags": []
          }
        },
        {
          "output_type": "display_data",
          "data": {
            "text/html": [
              ""
            ],
            "text/plain": [
              "<IPython.core.display.HTML object>"
            ]
          },
          "metadata": {
            "tags": []
          }
        },
        {
          "output_type": "display_data",
          "data": {
            "text/html": [
              ""
            ],
            "text/plain": [
              "<IPython.core.display.HTML object>"
            ]
          },
          "metadata": {
            "tags": []
          }
        },
        {
          "output_type": "display_data",
          "data": {
            "text/html": [
              ""
            ],
            "text/plain": [
              "<IPython.core.display.HTML object>"
            ]
          },
          "metadata": {
            "tags": []
          }
        },
        {
          "output_type": "display_data",
          "data": {
            "text/html": [
              ""
            ],
            "text/plain": [
              "<IPython.core.display.HTML object>"
            ]
          },
          "metadata": {
            "tags": []
          }
        },
        {
          "output_type": "display_data",
          "data": {
            "text/html": [
              ""
            ],
            "text/plain": [
              "<IPython.core.display.HTML object>"
            ]
          },
          "metadata": {
            "tags": []
          }
        },
        {
          "output_type": "display_data",
          "data": {
            "text/html": [
              ""
            ],
            "text/plain": [
              "<IPython.core.display.HTML object>"
            ]
          },
          "metadata": {
            "tags": []
          }
        },
        {
          "output_type": "display_data",
          "data": {
            "text/html": [
              ""
            ],
            "text/plain": [
              "<IPython.core.display.HTML object>"
            ]
          },
          "metadata": {
            "tags": []
          }
        },
        {
          "output_type": "display_data",
          "data": {
            "text/html": [
              ""
            ],
            "text/plain": [
              "<IPython.core.display.HTML object>"
            ]
          },
          "metadata": {
            "tags": []
          }
        },
        {
          "output_type": "display_data",
          "data": {
            "text/html": [
              ""
            ],
            "text/plain": [
              "<IPython.core.display.HTML object>"
            ]
          },
          "metadata": {
            "tags": []
          }
        },
        {
          "output_type": "display_data",
          "data": {
            "text/html": [
              ""
            ],
            "text/plain": [
              "<IPython.core.display.HTML object>"
            ]
          },
          "metadata": {
            "tags": []
          }
        },
        {
          "output_type": "display_data",
          "data": {
            "text/html": [
              ""
            ],
            "text/plain": [
              "<IPython.core.display.HTML object>"
            ]
          },
          "metadata": {
            "tags": []
          }
        },
        {
          "output_type": "display_data",
          "data": {
            "text/html": [
              ""
            ],
            "text/plain": [
              "<IPython.core.display.HTML object>"
            ]
          },
          "metadata": {
            "tags": []
          }
        },
        {
          "output_type": "display_data",
          "data": {
            "text/html": [
              ""
            ],
            "text/plain": [
              "<IPython.core.display.HTML object>"
            ]
          },
          "metadata": {
            "tags": []
          }
        },
        {
          "output_type": "display_data",
          "data": {
            "text/html": [
              ""
            ],
            "text/plain": [
              "<IPython.core.display.HTML object>"
            ]
          },
          "metadata": {
            "tags": []
          }
        },
        {
          "output_type": "display_data",
          "data": {
            "text/html": [
              ""
            ],
            "text/plain": [
              "<IPython.core.display.HTML object>"
            ]
          },
          "metadata": {
            "tags": []
          }
        },
        {
          "output_type": "display_data",
          "data": {
            "text/html": [
              ""
            ],
            "text/plain": [
              "<IPython.core.display.HTML object>"
            ]
          },
          "metadata": {
            "tags": []
          }
        },
        {
          "output_type": "display_data",
          "data": {
            "text/html": [
              ""
            ],
            "text/plain": [
              "<IPython.core.display.HTML object>"
            ]
          },
          "metadata": {
            "tags": []
          }
        },
        {
          "output_type": "display_data",
          "data": {
            "text/html": [
              ""
            ],
            "text/plain": [
              "<IPython.core.display.HTML object>"
            ]
          },
          "metadata": {
            "tags": []
          }
        },
        {
          "output_type": "display_data",
          "data": {
            "text/html": [
              ""
            ],
            "text/plain": [
              "<IPython.core.display.HTML object>"
            ]
          },
          "metadata": {
            "tags": []
          }
        },
        {
          "output_type": "display_data",
          "data": {
            "text/html": [
              ""
            ],
            "text/plain": [
              "<IPython.core.display.HTML object>"
            ]
          },
          "metadata": {
            "tags": []
          }
        },
        {
          "output_type": "display_data",
          "data": {
            "text/html": [
              ""
            ],
            "text/plain": [
              "<IPython.core.display.HTML object>"
            ]
          },
          "metadata": {
            "tags": []
          }
        },
        {
          "output_type": "display_data",
          "data": {
            "text/html": [
              ""
            ],
            "text/plain": [
              "<IPython.core.display.HTML object>"
            ]
          },
          "metadata": {
            "tags": []
          }
        },
        {
          "output_type": "display_data",
          "data": {
            "text/html": [
              ""
            ],
            "text/plain": [
              "<IPython.core.display.HTML object>"
            ]
          },
          "metadata": {
            "tags": []
          }
        },
        {
          "output_type": "display_data",
          "data": {
            "text/html": [
              ""
            ],
            "text/plain": [
              "<IPython.core.display.HTML object>"
            ]
          },
          "metadata": {
            "tags": []
          }
        },
        {
          "output_type": "display_data",
          "data": {
            "text/html": [
              ""
            ],
            "text/plain": [
              "<IPython.core.display.HTML object>"
            ]
          },
          "metadata": {
            "tags": []
          }
        },
        {
          "output_type": "display_data",
          "data": {
            "text/html": [
              ""
            ],
            "text/plain": [
              "<IPython.core.display.HTML object>"
            ]
          },
          "metadata": {
            "tags": []
          }
        },
        {
          "output_type": "display_data",
          "data": {
            "text/html": [
              ""
            ],
            "text/plain": [
              "<IPython.core.display.HTML object>"
            ]
          },
          "metadata": {
            "tags": []
          }
        },
        {
          "output_type": "display_data",
          "data": {
            "text/html": [
              ""
            ],
            "text/plain": [
              "<IPython.core.display.HTML object>"
            ]
          },
          "metadata": {
            "tags": []
          }
        },
        {
          "output_type": "display_data",
          "data": {
            "text/html": [
              ""
            ],
            "text/plain": [
              "<IPython.core.display.HTML object>"
            ]
          },
          "metadata": {
            "tags": []
          }
        },
        {
          "output_type": "display_data",
          "data": {
            "text/html": [
              ""
            ],
            "text/plain": [
              "<IPython.core.display.HTML object>"
            ]
          },
          "metadata": {
            "tags": []
          }
        },
        {
          "output_type": "display_data",
          "data": {
            "text/html": [
              ""
            ],
            "text/plain": [
              "<IPython.core.display.HTML object>"
            ]
          },
          "metadata": {
            "tags": []
          }
        },
        {
          "output_type": "display_data",
          "data": {
            "text/html": [
              ""
            ],
            "text/plain": [
              "<IPython.core.display.HTML object>"
            ]
          },
          "metadata": {
            "tags": []
          }
        },
        {
          "output_type": "display_data",
          "data": {
            "text/html": [
              ""
            ],
            "text/plain": [
              "<IPython.core.display.HTML object>"
            ]
          },
          "metadata": {
            "tags": []
          }
        },
        {
          "output_type": "display_data",
          "data": {
            "text/html": [
              ""
            ],
            "text/plain": [
              "<IPython.core.display.HTML object>"
            ]
          },
          "metadata": {
            "tags": []
          }
        },
        {
          "output_type": "display_data",
          "data": {
            "text/html": [
              ""
            ],
            "text/plain": [
              "<IPython.core.display.HTML object>"
            ]
          },
          "metadata": {
            "tags": []
          }
        },
        {
          "output_type": "display_data",
          "data": {
            "text/html": [
              ""
            ],
            "text/plain": [
              "<IPython.core.display.HTML object>"
            ]
          },
          "metadata": {
            "tags": []
          }
        },
        {
          "output_type": "display_data",
          "data": {
            "text/html": [
              ""
            ],
            "text/plain": [
              "<IPython.core.display.HTML object>"
            ]
          },
          "metadata": {
            "tags": []
          }
        },
        {
          "output_type": "display_data",
          "data": {
            "text/html": [
              ""
            ],
            "text/plain": [
              "<IPython.core.display.HTML object>"
            ]
          },
          "metadata": {
            "tags": []
          }
        },
        {
          "output_type": "display_data",
          "data": {
            "text/html": [
              ""
            ],
            "text/plain": [
              "<IPython.core.display.HTML object>"
            ]
          },
          "metadata": {
            "tags": []
          }
        },
        {
          "output_type": "display_data",
          "data": {
            "text/html": [
              ""
            ],
            "text/plain": [
              "<IPython.core.display.HTML object>"
            ]
          },
          "metadata": {
            "tags": []
          }
        },
        {
          "output_type": "display_data",
          "data": {
            "text/html": [
              ""
            ],
            "text/plain": [
              "<IPython.core.display.HTML object>"
            ]
          },
          "metadata": {
            "tags": []
          }
        },
        {
          "output_type": "display_data",
          "data": {
            "text/html": [
              ""
            ],
            "text/plain": [
              "<IPython.core.display.HTML object>"
            ]
          },
          "metadata": {
            "tags": []
          }
        },
        {
          "output_type": "display_data",
          "data": {
            "text/html": [
              ""
            ],
            "text/plain": [
              "<IPython.core.display.HTML object>"
            ]
          },
          "metadata": {
            "tags": []
          }
        },
        {
          "output_type": "display_data",
          "data": {
            "text/html": [
              ""
            ],
            "text/plain": [
              "<IPython.core.display.HTML object>"
            ]
          },
          "metadata": {
            "tags": []
          }
        },
        {
          "output_type": "display_data",
          "data": {
            "text/html": [
              ""
            ],
            "text/plain": [
              "<IPython.core.display.HTML object>"
            ]
          },
          "metadata": {
            "tags": []
          }
        },
        {
          "output_type": "display_data",
          "data": {
            "text/html": [
              ""
            ],
            "text/plain": [
              "<IPython.core.display.HTML object>"
            ]
          },
          "metadata": {
            "tags": []
          }
        },
        {
          "output_type": "display_data",
          "data": {
            "text/html": [
              ""
            ],
            "text/plain": [
              "<IPython.core.display.HTML object>"
            ]
          },
          "metadata": {
            "tags": []
          }
        },
        {
          "output_type": "display_data",
          "data": {
            "text/html": [
              ""
            ],
            "text/plain": [
              "<IPython.core.display.HTML object>"
            ]
          },
          "metadata": {
            "tags": []
          }
        },
        {
          "output_type": "display_data",
          "data": {
            "text/html": [
              ""
            ],
            "text/plain": [
              "<IPython.core.display.HTML object>"
            ]
          },
          "metadata": {
            "tags": []
          }
        },
        {
          "output_type": "display_data",
          "data": {
            "text/html": [
              ""
            ],
            "text/plain": [
              "<IPython.core.display.HTML object>"
            ]
          },
          "metadata": {
            "tags": []
          }
        },
        {
          "output_type": "display_data",
          "data": {
            "text/html": [
              ""
            ],
            "text/plain": [
              "<IPython.core.display.HTML object>"
            ]
          },
          "metadata": {
            "tags": []
          }
        },
        {
          "output_type": "display_data",
          "data": {
            "text/html": [
              ""
            ],
            "text/plain": [
              "<IPython.core.display.HTML object>"
            ]
          },
          "metadata": {
            "tags": []
          }
        },
        {
          "output_type": "display_data",
          "data": {
            "text/html": [
              ""
            ],
            "text/plain": [
              "<IPython.core.display.HTML object>"
            ]
          },
          "metadata": {
            "tags": []
          }
        },
        {
          "output_type": "display_data",
          "data": {
            "text/html": [
              ""
            ],
            "text/plain": [
              "<IPython.core.display.HTML object>"
            ]
          },
          "metadata": {
            "tags": []
          }
        },
        {
          "output_type": "display_data",
          "data": {
            "text/html": [
              ""
            ],
            "text/plain": [
              "<IPython.core.display.HTML object>"
            ]
          },
          "metadata": {
            "tags": []
          }
        },
        {
          "output_type": "display_data",
          "data": {
            "text/html": [
              ""
            ],
            "text/plain": [
              "<IPython.core.display.HTML object>"
            ]
          },
          "metadata": {
            "tags": []
          }
        }
      ]
    },
    {
      "cell_type": "code",
      "metadata": {
        "id": "N8cQMsQhNaSn",
        "colab_type": "code",
        "colab": {
          "base_uri": "https://localhost:8080/",
          "height": 142
        },
        "outputId": "919b1663-cf4a-458a-82ba-f867a4c1f4fe"
      },
      "source": [
        "grouped_by_RW"
      ],
      "execution_count": 47,
      "outputs": [
        {
          "output_type": "execute_result",
          "data": {
            "text/html": [
              "<div>\n",
              "<style scoped>\n",
              "    .dataframe tbody tr th:only-of-type {\n",
              "        vertical-align: middle;\n",
              "    }\n",
              "\n",
              "    .dataframe tbody tr th {\n",
              "        vertical-align: top;\n",
              "    }\n",
              "\n",
              "    .dataframe thead th {\n",
              "        text-align: right;\n",
              "    }\n",
              "</style>\n",
              "<table border=\"1\" class=\"dataframe\">\n",
              "  <thead>\n",
              "    <tr style=\"text-align: right;\">\n",
              "      <th></th>\n",
              "      <th>count</th>\n",
              "      <th>Subjectivity</th>\n",
              "      <th>Polarity</th>\n",
              "    </tr>\n",
              "    <tr>\n",
              "      <th>RW_prediction</th>\n",
              "      <th></th>\n",
              "      <th></th>\n",
              "      <th></th>\n",
              "    </tr>\n",
              "  </thead>\n",
              "  <tbody>\n",
              "    <tr>\n",
              "      <th>False</th>\n",
              "      <td>563</td>\n",
              "      <td>0.340549</td>\n",
              "      <td>0.099624</td>\n",
              "    </tr>\n",
              "    <tr>\n",
              "      <th>True</th>\n",
              "      <td>55</td>\n",
              "      <td>0.335796</td>\n",
              "      <td>0.088851</td>\n",
              "    </tr>\n",
              "  </tbody>\n",
              "</table>\n",
              "</div>"
            ],
            "text/plain": [
              "               count  Subjectivity  Polarity\n",
              "RW_prediction                               \n",
              "False            563      0.340549  0.099624\n",
              "True              55      0.335796  0.088851"
            ]
          },
          "metadata": {
            "tags": []
          },
          "execution_count": 47
        }
      ]
    },
    {
      "cell_type": "code",
      "metadata": {
        "id": "XDSuDCv1NWI6",
        "colab_type": "code",
        "colab": {
          "base_uri": "https://localhost:8080/",
          "height": 542
        },
        "outputId": "94f0a329-469b-406c-9979-5ad2afe0f74d"
      },
      "source": [
        "fig1"
      ],
      "execution_count": 48,
      "outputs": [
        {
          "output_type": "display_data",
          "data": {
            "text/html": [
              "<html>\n",
              "<head><meta charset=\"utf-8\" /></head>\n",
              "<body>\n",
              "    <div>\n",
              "            <script src=\"https://cdnjs.cloudflare.com/ajax/libs/mathjax/2.7.5/MathJax.js?config=TeX-AMS-MML_SVG\"></script><script type=\"text/javascript\">if (window.MathJax) {MathJax.Hub.Config({SVG: {font: \"STIX-Web\"}});}</script>\n",
              "                <script type=\"text/javascript\">window.PlotlyConfig = {MathJaxConfig: 'local'};</script>\n",
              "        <script src=\"https://cdn.plot.ly/plotly-latest.min.js\"></script>    \n",
              "            <div id=\"bdcd225b-4b25-46a8-9dc4-cbc794b05f2e\" class=\"plotly-graph-div\" style=\"height:525px; width:100%;\"></div>\n",
              "            <script type=\"text/javascript\">\n",
              "                \n",
              "                    window.PLOTLYENV=window.PLOTLYENV || {};\n",
              "                    \n",
              "                if (document.getElementById(\"bdcd225b-4b25-46a8-9dc4-cbc794b05f2e\")) {\n",
              "                    Plotly.newPlot(\n",
              "                        'bdcd225b-4b25-46a8-9dc4-cbc794b05f2e',\n",
              "                        [{\"alignmentgroup\": \"True\", \"hoverlabel\": {\"namelength\": 0}, \"hovertemplate\": \"color=False<br>count=%{y}\", \"legendgroup\": \"color=False\", \"marker\": {\"color\": \"#636efa\"}, \"name\": \"color=False\", \"offsetgroup\": \"color=False\", \"orientation\": \"v\", \"showlegend\": true, \"textposition\": \"auto\", \"type\": \"bar\", \"xaxis\": \"x\", \"y\": [563], \"yaxis\": \"y\"}, {\"alignmentgroup\": \"True\", \"hoverlabel\": {\"namelength\": 0}, \"hovertemplate\": \"color=True<br>count=%{y}\", \"legendgroup\": \"color=True\", \"marker\": {\"color\": \"#EF553B\"}, \"name\": \"color=True\", \"offsetgroup\": \"color=True\", \"orientation\": \"v\", \"showlegend\": true, \"textposition\": \"auto\", \"type\": \"bar\", \"xaxis\": \"x\", \"y\": [55], \"yaxis\": \"y\"}],\n",
              "                        {\"barmode\": \"relative\", \"legend\": {\"tracegroupgap\": 0}, \"margin\": {\"t\": 60}, \"template\": {\"data\": {\"bar\": [{\"error_x\": {\"color\": \"#2a3f5f\"}, \"error_y\": {\"color\": \"#2a3f5f\"}, \"marker\": {\"line\": {\"color\": \"#E5ECF6\", \"width\": 0.5}}, \"type\": \"bar\"}], \"barpolar\": [{\"marker\": {\"line\": {\"color\": \"#E5ECF6\", \"width\": 0.5}}, \"type\": \"barpolar\"}], \"carpet\": [{\"aaxis\": {\"endlinecolor\": \"#2a3f5f\", \"gridcolor\": \"white\", \"linecolor\": \"white\", \"minorgridcolor\": \"white\", \"startlinecolor\": \"#2a3f5f\"}, \"baxis\": {\"endlinecolor\": \"#2a3f5f\", \"gridcolor\": \"white\", \"linecolor\": \"white\", \"minorgridcolor\": \"white\", \"startlinecolor\": \"#2a3f5f\"}, \"type\": \"carpet\"}], \"choropleth\": [{\"colorbar\": {\"outlinewidth\": 0, \"ticks\": \"\"}, \"type\": \"choropleth\"}], \"contour\": [{\"colorbar\": {\"outlinewidth\": 0, \"ticks\": \"\"}, \"colorscale\": [[0.0, \"#0d0887\"], [0.1111111111111111, \"#46039f\"], [0.2222222222222222, \"#7201a8\"], [0.3333333333333333, \"#9c179e\"], [0.4444444444444444, \"#bd3786\"], [0.5555555555555556, \"#d8576b\"], [0.6666666666666666, \"#ed7953\"], [0.7777777777777778, \"#fb9f3a\"], [0.8888888888888888, \"#fdca26\"], [1.0, \"#f0f921\"]], \"type\": \"contour\"}], \"contourcarpet\": [{\"colorbar\": {\"outlinewidth\": 0, \"ticks\": \"\"}, \"type\": \"contourcarpet\"}], \"heatmap\": [{\"colorbar\": {\"outlinewidth\": 0, \"ticks\": \"\"}, \"colorscale\": [[0.0, \"#0d0887\"], [0.1111111111111111, \"#46039f\"], [0.2222222222222222, \"#7201a8\"], [0.3333333333333333, \"#9c179e\"], [0.4444444444444444, \"#bd3786\"], [0.5555555555555556, \"#d8576b\"], [0.6666666666666666, \"#ed7953\"], [0.7777777777777778, \"#fb9f3a\"], [0.8888888888888888, \"#fdca26\"], [1.0, \"#f0f921\"]], \"type\": \"heatmap\"}], \"heatmapgl\": [{\"colorbar\": {\"outlinewidth\": 0, \"ticks\": \"\"}, \"colorscale\": [[0.0, \"#0d0887\"], [0.1111111111111111, \"#46039f\"], [0.2222222222222222, \"#7201a8\"], [0.3333333333333333, \"#9c179e\"], [0.4444444444444444, \"#bd3786\"], [0.5555555555555556, \"#d8576b\"], [0.6666666666666666, \"#ed7953\"], [0.7777777777777778, \"#fb9f3a\"], [0.8888888888888888, \"#fdca26\"], [1.0, \"#f0f921\"]], \"type\": \"heatmapgl\"}], \"histogram\": [{\"marker\": {\"colorbar\": {\"outlinewidth\": 0, \"ticks\": \"\"}}, \"type\": \"histogram\"}], \"histogram2d\": [{\"colorbar\": {\"outlinewidth\": 0, \"ticks\": \"\"}, \"colorscale\": [[0.0, \"#0d0887\"], [0.1111111111111111, \"#46039f\"], [0.2222222222222222, \"#7201a8\"], [0.3333333333333333, \"#9c179e\"], [0.4444444444444444, \"#bd3786\"], [0.5555555555555556, \"#d8576b\"], [0.6666666666666666, \"#ed7953\"], [0.7777777777777778, \"#fb9f3a\"], [0.8888888888888888, \"#fdca26\"], [1.0, \"#f0f921\"]], \"type\": \"histogram2d\"}], \"histogram2dcontour\": [{\"colorbar\": {\"outlinewidth\": 0, \"ticks\": \"\"}, \"colorscale\": [[0.0, \"#0d0887\"], [0.1111111111111111, \"#46039f\"], [0.2222222222222222, \"#7201a8\"], [0.3333333333333333, \"#9c179e\"], [0.4444444444444444, \"#bd3786\"], [0.5555555555555556, \"#d8576b\"], [0.6666666666666666, \"#ed7953\"], [0.7777777777777778, \"#fb9f3a\"], [0.8888888888888888, \"#fdca26\"], [1.0, \"#f0f921\"]], \"type\": \"histogram2dcontour\"}], \"mesh3d\": [{\"colorbar\": {\"outlinewidth\": 0, \"ticks\": \"\"}, \"type\": \"mesh3d\"}], \"parcoords\": [{\"line\": {\"colorbar\": {\"outlinewidth\": 0, \"ticks\": \"\"}}, \"type\": \"parcoords\"}], \"pie\": [{\"automargin\": true, \"type\": \"pie\"}], \"scatter\": [{\"marker\": {\"colorbar\": {\"outlinewidth\": 0, \"ticks\": \"\"}}, \"type\": \"scatter\"}], \"scatter3d\": [{\"line\": {\"colorbar\": {\"outlinewidth\": 0, \"ticks\": \"\"}}, \"marker\": {\"colorbar\": {\"outlinewidth\": 0, \"ticks\": \"\"}}, \"type\": \"scatter3d\"}], \"scattercarpet\": [{\"marker\": {\"colorbar\": {\"outlinewidth\": 0, \"ticks\": \"\"}}, \"type\": \"scattercarpet\"}], \"scattergeo\": [{\"marker\": {\"colorbar\": {\"outlinewidth\": 0, \"ticks\": \"\"}}, \"type\": \"scattergeo\"}], \"scattergl\": [{\"marker\": {\"colorbar\": {\"outlinewidth\": 0, \"ticks\": \"\"}}, \"type\": \"scattergl\"}], \"scattermapbox\": [{\"marker\": {\"colorbar\": {\"outlinewidth\": 0, \"ticks\": \"\"}}, \"type\": \"scattermapbox\"}], \"scatterpolar\": [{\"marker\": {\"colorbar\": {\"outlinewidth\": 0, \"ticks\": \"\"}}, \"type\": \"scatterpolar\"}], \"scatterpolargl\": [{\"marker\": {\"colorbar\": {\"outlinewidth\": 0, \"ticks\": \"\"}}, \"type\": \"scatterpolargl\"}], \"scatterternary\": [{\"marker\": {\"colorbar\": {\"outlinewidth\": 0, \"ticks\": \"\"}}, \"type\": \"scatterternary\"}], \"surface\": [{\"colorbar\": {\"outlinewidth\": 0, \"ticks\": \"\"}, \"colorscale\": [[0.0, \"#0d0887\"], [0.1111111111111111, \"#46039f\"], [0.2222222222222222, \"#7201a8\"], [0.3333333333333333, \"#9c179e\"], [0.4444444444444444, \"#bd3786\"], [0.5555555555555556, \"#d8576b\"], [0.6666666666666666, \"#ed7953\"], [0.7777777777777778, \"#fb9f3a\"], [0.8888888888888888, \"#fdca26\"], [1.0, \"#f0f921\"]], \"type\": \"surface\"}], \"table\": [{\"cells\": {\"fill\": {\"color\": \"#EBF0F8\"}, \"line\": {\"color\": \"white\"}}, \"header\": {\"fill\": {\"color\": \"#C8D4E3\"}, \"line\": {\"color\": \"white\"}}, \"type\": \"table\"}]}, \"layout\": {\"annotationdefaults\": {\"arrowcolor\": \"#2a3f5f\", \"arrowhead\": 0, \"arrowwidth\": 1}, \"coloraxis\": {\"colorbar\": {\"outlinewidth\": 0, \"ticks\": \"\"}}, \"colorscale\": {\"diverging\": [[0, \"#8e0152\"], [0.1, \"#c51b7d\"], [0.2, \"#de77ae\"], [0.3, \"#f1b6da\"], [0.4, \"#fde0ef\"], [0.5, \"#f7f7f7\"], [0.6, \"#e6f5d0\"], [0.7, \"#b8e186\"], [0.8, \"#7fbc41\"], [0.9, \"#4d9221\"], [1, \"#276419\"]], \"sequential\": [[0.0, \"#0d0887\"], [0.1111111111111111, \"#46039f\"], [0.2222222222222222, \"#7201a8\"], [0.3333333333333333, \"#9c179e\"], [0.4444444444444444, \"#bd3786\"], [0.5555555555555556, \"#d8576b\"], [0.6666666666666666, \"#ed7953\"], [0.7777777777777778, \"#fb9f3a\"], [0.8888888888888888, \"#fdca26\"], [1.0, \"#f0f921\"]], \"sequentialminus\": [[0.0, \"#0d0887\"], [0.1111111111111111, \"#46039f\"], [0.2222222222222222, \"#7201a8\"], [0.3333333333333333, \"#9c179e\"], [0.4444444444444444, \"#bd3786\"], [0.5555555555555556, \"#d8576b\"], [0.6666666666666666, \"#ed7953\"], [0.7777777777777778, \"#fb9f3a\"], [0.8888888888888888, \"#fdca26\"], [1.0, \"#f0f921\"]]}, \"colorway\": [\"#636efa\", \"#EF553B\", \"#00cc96\", \"#ab63fa\", \"#FFA15A\", \"#19d3f3\", \"#FF6692\", \"#B6E880\", \"#FF97FF\", \"#FECB52\"], \"font\": {\"color\": \"#2a3f5f\"}, \"geo\": {\"bgcolor\": \"white\", \"lakecolor\": \"white\", \"landcolor\": \"#E5ECF6\", \"showlakes\": true, \"showland\": true, \"subunitcolor\": \"white\"}, \"hoverlabel\": {\"align\": \"left\"}, \"hovermode\": \"closest\", \"mapbox\": {\"style\": \"light\"}, \"paper_bgcolor\": \"white\", \"plot_bgcolor\": \"#E5ECF6\", \"polar\": {\"angularaxis\": {\"gridcolor\": \"white\", \"linecolor\": \"white\", \"ticks\": \"\"}, \"bgcolor\": \"#E5ECF6\", \"radialaxis\": {\"gridcolor\": \"white\", \"linecolor\": \"white\", \"ticks\": \"\"}}, \"scene\": {\"xaxis\": {\"backgroundcolor\": \"#E5ECF6\", \"gridcolor\": \"white\", \"gridwidth\": 2, \"linecolor\": \"white\", \"showbackground\": true, \"ticks\": \"\", \"zerolinecolor\": \"white\"}, \"yaxis\": {\"backgroundcolor\": \"#E5ECF6\", \"gridcolor\": \"white\", \"gridwidth\": 2, \"linecolor\": \"white\", \"showbackground\": true, \"ticks\": \"\", \"zerolinecolor\": \"white\"}, \"zaxis\": {\"backgroundcolor\": \"#E5ECF6\", \"gridcolor\": \"white\", \"gridwidth\": 2, \"linecolor\": \"white\", \"showbackground\": true, \"ticks\": \"\", \"zerolinecolor\": \"white\"}}, \"shapedefaults\": {\"line\": {\"color\": \"#2a3f5f\"}}, \"ternary\": {\"aaxis\": {\"gridcolor\": \"white\", \"linecolor\": \"white\", \"ticks\": \"\"}, \"baxis\": {\"gridcolor\": \"white\", \"linecolor\": \"white\", \"ticks\": \"\"}, \"bgcolor\": \"#E5ECF6\", \"caxis\": {\"gridcolor\": \"white\", \"linecolor\": \"white\", \"ticks\": \"\"}}, \"title\": {\"x\": 0.05}, \"xaxis\": {\"automargin\": true, \"gridcolor\": \"white\", \"linecolor\": \"white\", \"ticks\": \"\", \"title\": {\"standoff\": 15}, \"zerolinecolor\": \"white\", \"zerolinewidth\": 2}, \"yaxis\": {\"automargin\": true, \"gridcolor\": \"white\", \"linecolor\": \"white\", \"ticks\": \"\", \"title\": {\"standoff\": 15}, \"zerolinecolor\": \"white\", \"zerolinewidth\": 2}}}, \"xaxis\": {\"anchor\": \"y\", \"domain\": [0.0, 1.0]}, \"yaxis\": {\"anchor\": \"x\", \"domain\": [0.0, 1.0], \"title\": {\"text\": \"count\"}}},\n",
              "                        {\"responsive\": true}\n",
              "                    ).then(function(){\n",
              "                            \n",
              "var gd = document.getElementById('bdcd225b-4b25-46a8-9dc4-cbc794b05f2e');\n",
              "var x = new MutationObserver(function (mutations, observer) {{\n",
              "        var display = window.getComputedStyle(gd).display;\n",
              "        if (!display || display === 'none') {{\n",
              "            console.log([gd, 'removed!']);\n",
              "            Plotly.purge(gd);\n",
              "            observer.disconnect();\n",
              "        }}\n",
              "}});\n",
              "\n",
              "// Listen for the removal of the full notebook cells\n",
              "var notebookContainer = gd.closest('#notebook-container');\n",
              "if (notebookContainer) {{\n",
              "    x.observe(notebookContainer, {childList: true});\n",
              "}}\n",
              "\n",
              "// Listen for the clearing of the current output cell\n",
              "var outputEl = gd.closest('.output');\n",
              "if (outputEl) {{\n",
              "    x.observe(outputEl, {childList: true});\n",
              "}}\n",
              "\n",
              "                        })\n",
              "                };\n",
              "                \n",
              "            </script>\n",
              "        </div>\n",
              "</body>\n",
              "</html>"
            ]
          },
          "metadata": {
            "tags": []
          }
        }
      ]
    },
    {
      "cell_type": "code",
      "metadata": {
        "id": "NNgCRfOhNVzA",
        "colab_type": "code",
        "colab": {
          "base_uri": "https://localhost:8080/",
          "height": 542
        },
        "outputId": "5445521d-79a9-4f6d-e765-ddab0eed566d"
      },
      "source": [
        "fig2"
      ],
      "execution_count": 49,
      "outputs": [
        {
          "output_type": "display_data",
          "data": {
            "text/html": [
              "<html>\n",
              "<head><meta charset=\"utf-8\" /></head>\n",
              "<body>\n",
              "    <div>\n",
              "            <script src=\"https://cdnjs.cloudflare.com/ajax/libs/mathjax/2.7.5/MathJax.js?config=TeX-AMS-MML_SVG\"></script><script type=\"text/javascript\">if (window.MathJax) {MathJax.Hub.Config({SVG: {font: \"STIX-Web\"}});}</script>\n",
              "                <script type=\"text/javascript\">window.PlotlyConfig = {MathJaxConfig: 'local'};</script>\n",
              "        <script src=\"https://cdn.plot.ly/plotly-latest.min.js\"></script>    \n",
              "            <div id=\"4c202236-af95-49f7-8b14-44ece5ca172c\" class=\"plotly-graph-div\" style=\"height:525px; width:100%;\"></div>\n",
              "            <script type=\"text/javascript\">\n",
              "                \n",
              "                    window.PLOTLYENV=window.PLOTLYENV || {};\n",
              "                    \n",
              "                if (document.getElementById(\"4c202236-af95-49f7-8b14-44ece5ca172c\")) {\n",
              "                    Plotly.newPlot(\n",
              "                        '4c202236-af95-49f7-8b14-44ece5ca172c',\n",
              "                        [{\"customdata\": [[\"\"], [\"Ducks. Pretty much ducks.\"], [\"\"], [\"\"], [\"I Live in Christchurch,Dorset,England,luuuuurve great tattoos, and American road trips..Fave place to be, somewhere along the Californian Coast, or in Arizona.\"], [\"\"], [\"Grumpy faced but generally optimistic middle aged Plumber happily shackled to @julieegriffiths.\\nInstagram @lyndongriffiths70\"], [\"Values factual debate over opinionated bias, and evidence over ideology.  Happy to clarify views, but if you abuse, you will be blocked.\"], [\"Not interested in followers, just watching the world go by with a cynical view. Hates narcissists. Loves strong women.\"], [\"Supporting the CPFC since 1965\"], [\"Trans woman. Writer in waiting, idling in Fife. Taoist, yoga student, cook, vegan, \\ud83c\\udff3\\ufe0f\\u200d\\ud83c\\udf08\\ud83c\\udff4\\udb40\\udc67\\udb40\\udc62\\udb40\\udc73\\udb40\\udc63\\udb40\\udc74\\udb40\\udc7f\"], [\"Cognitive dissonance is a thing, on the other hand...\"], [\"THE WOLF OF MOOR STREET\\nBCFC,RFC,FAMILY,#Z AND THE ///\"], [\"\"], [\"\"], [\"\"], [\"The truth can be hard to take, but I will tell it anyway\"], [\"\\ud83c\\uddec\\ud83c\\udde7\\ud83c\\udff4\\udb40\\udc67\\udb40\\udc62\\udb40\\udc65\\udb40\\udc6e\\udb40\\udc67\\udb40\\udc7f\\ud83c\\uddfa\\ud83c\\uddf8George Mallory, Sir William Marshall,Anne Boleyn,Inayat Noor Khan,Busby Babes,Lisbon Lions.MUFC.Socialists are mad #backedboris.\"], [\"\"], [\"\"], [\"\"], [\"\"], [\"\"], [\"\"], [\"Arsenal 4 life. Female. 3 grown up children. Born and Bred Londoner. will say it how it is \\ud83e\\udd37\\u200d\\u2640\\ufe0f\\ud83d\\udcaf Brexit. No vaccine. love to retweet. follow all followers\"], [\"Work hard, play hard. Firmly believe in making the most of life because you don't get a second chance. Sucker for a pretty lady.\"], [\"\"], [\"You can take a horse to water, but a pencil must be lead \\u270f\\ufe0f Views are my own. Don\\u2019t accept your dog\\u2019s admiration as conclusive evidence that you are wonderful.\"], [\"Go away\"], [\"stuck in a generation where loyalty is just a tattoo, love is just a quote and lying is the new truth. MAGA \\ud83c\\uddfa\\ud83c\\uddf8 MBGA \\ud83c\\uddec\\ud83c\\udde7 #BackBoris\"], [\"The less fat chauffeur, opinions R my own, noone else's. loves his family and AFC.\"], [\"Blocked by Lammy & Abbott. Says it all. Say hello to National pride losers. Brexit all the way. Never Forget The Sun's lies  #JusticeForJohnnyDepp\"], [\"\"], [\"\"], [\"#BHAFC North stand STH \\nBoxing & football\\nPresenter @sportanarium\"], [\"husband and father of 3 boys (known as the shits) 2 Malamutes, 2 cats, 4 turtles and no money. COYL MFC RFFR SYLO\"], [\"The Committee for the Liberation and Integration of Terrifying Organisms and their Rehabilitation Into Society.\"], [\"Free-thinker. UK patriot. Reluctantly anonymous. \\n\\ud83c\\uddec\\ud83c\\udde7\\ud83c\\uddea\\ud83c\\uddf8\\ud83c\\uddeb\\ud83c\\uddf7\\ud83c\\uddf5\\ud83c\\uddf9\"], [\"Proud Mother Grandmother. karate teacher , love my family and my beautiful Great Britain \\ud83c\\uddec\\ud83c\\udde7\"], [\"\"], [\"watching for pigs on the wing\"], [\"Middle aged bloke. FFC since 1981\"], [\"Johnny lyall\\u2019s claret & blue army.. E.7 \\u2692\"], [\"\"], [\"Only woke up to politics again when they tried to destroy our Democracy.\\nLost all trust in our MSM a year ago.\\n#AllLivesMatter\"], [\"QPR 80s 90s ska northern soul born blue n white \\ud83c\\udff4\\udb40\\udc67\\udb40\\udc62\\udb40\\udc65\\udb40\\udc6e\\udb40\\udc67\\udb40\\udc7f\"], [\"a more determined Brexiteer than I ever expected, sometimes a contradiction, tolerant but not daft, politicians on 24/7 notice, love beer, friends and Tapas.\"], [\"a more determined Brexiteer than I ever expected, sometimes a contradiction, tolerant but not daft, politicians on 24/7 notice, love beer, friends and Tapas.\"], [\"a more determined Brexiteer than I ever expected, sometimes a contradiction, tolerant but not daft, politicians on 24/7 notice, love beer, friends and Tapas.\"], [\"a more determined Brexiteer than I ever expected, sometimes a contradiction, tolerant but not daft, politicians on 24/7 notice, love beer, friends and Tapas.\"], [\"I call a spade a spade. \\ud83c\\uddec\\ud83c\\udde7\\ud83c\\udff4\\udb40\\udc67\\udb40\\udc62\\udb40\\udc73\\udb40\\udc63\\udb40\\udc74\\udb40\\udc7f\\ud83c\\uddff\\ud83c\\uddfc\"], [\"Husband. Father. Spurs. Oasis. Golf. Herts born, now in Essex. A growing suspension count! No fucks given. Don't like what I say, that's your own problem \\ud83e\\udd37\\u200d\\u2642\\ufe0f\"], [\"Born In Tottenham North London. COYS\"], [\"Salford reds and MUFC\"], [\"artist, activist, social sculptor\"], [\"\"], [\"\"], [\"\"], [\"Chelsea fc \\nLikes golf and the odd game of Blackjack\\nEngland  cricket\"], [\"Cab Driver - Chauffeur - Likes Innovation - Critic - LFC - All Views Are My Own - Ex Bus Driver\"], [\"\"], [\"Jesus only had 12 followers. I only ask you judge me only on my words.\"], [\"work, parent, chat, amazed by the world.\"], [\"I've tidied up my bio, which means I've scooped up the old bio and shoved it into the bottom of a wardrobe.\"], [\"\"], [\"\"], [\"Schemie, currently working on musical from another world for 2021 Fringe about Peter Williamson 1730-1799, (Indian Peter)\"], [\"Poet, playwright,songwriter, purveyer of quality books in better times\"], [\"My teams are @officialdafc & @ManUtd.Darts fan fav players James Wade,Ando,Jabba & MvG. Single\"], [\"\"], [\"Assistant News Editor for Daily https://t.co/FQQXxyWguR. Supporter of everyone's least favourite football club. Views my own.\"], [\"Vivid.Avid.Livid #DivaManc Library Fancier\"], [\"Solving the world's problems  .  .  on twitter.\\ud83e\\udd14\"], [\"Free thinker, centrist.Don't call me cis. 2+2=4. Shame I'm allergic to dogs.\"], [\"One of the 17.4 Million. Thank you NHS\"], [\"Song Writer, Musician, political junkie that detests the Regressive Left, anything Climate Changey, and identity politics. BE NICE and RETURN MY FOLLOW\"], [\"I detest trophy hunting and animal cruelty but love motor sports!\"], [\"\"], [\"Working\"], [\"back from my twitter sabbatical. not sure why. be kind(ish)\"], [\"\"], [\"lifelong Gooner living in Cornwall also follow my local club PAFC. Family Football and fitness, not always in that order! follow back all gooners! love my \\ud83d\\udc08\"], [\"Not an expert.\"], [\"\"], [\"\"], [\"\"], [\"\"], [\"Tall, dark, handsome, funny and modest. glad all over, palace till i die.\"], [\"Tall, dark, handsome, funny and modest. glad all over, palace till i die.\"], [\"Tall, dark, handsome, funny and modest. glad all over, palace till i die.\"], [\"Tall, dark, handsome, funny and modest. glad all over, palace till i die.\"], [\"Tall, dark, handsome, funny and modest. glad all over, palace till i die.\"], [\"Tall, dark, handsome, funny and modest. glad all over, palace till i die.\"], [\"Tall, dark, handsome, funny and modest. glad all over, palace till i die.\"], [\"Tall, dark, handsome, funny and modest. glad all over, palace till i die.\"], [\"Tall, dark, handsome, funny and modest. glad all over, palace till i die.\"], [\"Tall, dark, handsome, funny and modest. glad all over, palace till i die.\"], [\"Performer of music and song. Nice work if you can get it.\"], [\"Husband, opinionated left-winger, sometimes cook (sometimes terrible).\\n\\nThings i find interesting - astronomy, mushrooms, biochem, food, maths and programming\"], [\"\"], [\"Tired of liberal lunacy and politically correct BS. #Brexit #Trump #freedomofspeech #BanHalal Retweets/likes not endorsements. No time for Trolls or Assholes.\"], [\"Nfactory.Artist./ When seagulls follow the trawler, it is because they think sardines will be thrown into the sea/ Trans / NHS/ Situationist.\"], [\"just another confused voter. Toxoplasma creates mental illness. BBC are fakenews. Less shit than Labour.\"], [\"Busy being mam , keeper, smarticle particle, RMN and friend\"], [\"Work in policy. Tortured Arsenal fan. All tweets personal.\"], [\"If you would do it to someone else, it will happen to you. Good or bad. You set ur own standards. How is cucumber even counted as food??\"], [\"\"], [\"The divide widens.\"], [\"Football Fan and pub enthusiast. #KBF #endlockdowncompletely #endlockdownuk https://t.co/eqO0grZGUQ #nomask #masknazis\"], [\"St Mary\\u2019s CBS Belfast. Trent Poly. retired teacher. broad minded and narrow waisted in youth, Hope not narrow minded and broad waisted in old age\"], [\"Balance in all things. Aiming for a better political discourse, one conversation at a time. Have no qualms admitting when I\\u2019m wrong.\"], [\"Interested in politics and crypto and other things\"], [\"\"], [\"\"], [\"\"], [\"\"], [\"\"], [\"\"], [\"Bucket list: 1. Move to a beach. 2. Have no regrets... She/Her pronouns. #FBPE\"], [\"Beer, Gear, Spurs in that order. Angry 90% of the time the other 10% I'm asleep. Lizard!!\"], [\"\"], [\"#socialist\\ud83c\\udf39- #blacklivesmatter- #queer \\ud83c\\udff3\\ufe0f\\u200d\\ud83c\\udf08- #activist\\u270a- #eu\\ud83c\\uddea\\ud83c\\uddfa- #bpd\\u267b\\ufe0f- #antifascist\\ud83c\\udff4- #anticentrist\\u270c\\ufe0f- #green\\ud83c\\udf33- #labour\\ud83d\\udea9- 23 - hi \\ud83c\\udf38 xo\"], [\"hammers fan educating Yorkshire on all things West Ham #alllivesmatter\"], [\"I find videos of  animals fails people falling over just fun videos to brighten your day and make you smile\"], [\"Searching for the truth and equalizing the odds.\"], [\"Searching for the truth and equalizing the odds.\"], [\"Searching for the truth and equalizing the odds.\"], [\"Searching for the truth and equalizing the odds.\"], [\"Searching for the truth and equalizing the odds.\"], [\"Searching for the truth and equalizing the odds.\"], [\"Searching for the truth and equalizing the odds.\"], [\"Searching for the truth and equalizing the odds.\"], [\"Searching for the truth and equalizing the odds.\"], [\"Searching for the truth and equalizing the odds.\"], [\"Searching for the truth and equalizing the odds.\"], [\"Searching for the truth and equalizing the odds.\"], [\"Yorkshire Born & Bred\"], [\"Louise Redknapp stan account.\"], [\"\"], [\"Socialist Dorset boy, loves music, football, cricket, politics. Oh and still into Scouting. He Him\"], [\"Spooky getting tweets from accounts wot don't exist. Then again..\"], [\"I am whatever I say I am.\"], [\"\"], [\"\"], [\"British Patriot \\ud83c\\uddec\\ud83c\\udde7\\ud83c\\uddec\\ud83c\\udde7Brexit \\ud83c\\uddec\\ud83c\\udde7\\ud83c\\uddec\\ud83c\\udde7 Tommy Robinson \\ud83c\\uddec\\ud83c\\udde7\\ud83c\\uddec\\ud83c\\udde7Trump 2020 \\ud83c\\uddfa\\ud83c\\uddf8\\ud83c\\uddfa\\ud83c\\uddf8No surrender \\ud83c\\uddec\\ud83c\\udde7\\ud83c\\uddec\\ud83c\\udde7\\u26d4\\ufe0f Lefties \\ud83e\\udd2b\\ud83d\\ude44 Parler account @MichC\"], [\"Went for one and never came home\"], [\"\\ud83c\\udff4\\udb40\\udc67\\udb40\\udc62\\udb40\\udc65\\udb40\\udc6e\\udb40\\udc67\\udb40\\udc7f & \\ud83c\\udff4\\udb40\\udc67\\udb40\\udc62\\udb40\\udc73\\udb40\\udc63\\udb40\\udc74\\udb40\\udc7f 96.5%\"], [\"\"], [\"Horses, football, family ,Manchester\\n(AND THE OCCASIONAL SESSION  \\ud83c\\udf7b\\ud83d\\udc9a)\"], [\"\"], [\"For gods sake just stay at home!!!\"], [\"Sports fan. All hail king Ragnar. Power corrupts the best and seduces the rest.\\nRule, Britannia! Britannia, rule the waves!\"], [\"\"], [\"\"], [\"Lifestyle guru\"], [\"Left of Centre and consistent...\"], [\"open your eyes and wake up !!\"], [\"\"], [\"\"], [\"TTID \\ud83d\\ude44\"], [\"\"], [\". The continued use of cocaine leads to physical, mental and moral degeneration. Holmes, on the other hand, was the most unsociable of men and showed none. !\"], [\"Commercial Skipper/crew at YMS for Tideway project Skipper director Thames Ranger Marine - Photographer on the River Thames - Nerja/la Herradura Spain \\ud83c\\uddea\\ud83c\\uddf8\"], [\"Brexit\"], [\"Competition Guy\"], [\"Roll Safe\"], [\"I\\u2019m old and know my own mind. Please don\\u2019t try to educate me. I\\u2019ve been educated by the University of Life. Love my family. Bred Boxer Dogs half my http://life.\"], [\"Always looking for the truth\"], [\"Just on here to rip\"], [\"Don\\u2019t wait until your death bed to tell people how you feel. Tell them to fuck off now. Bit of a wind up merchant.Generally irritated by everything & everyone\\ud83d\\ude09\"], [\"\"], [\"love LUFC,(ST holder) Weller,The Rifles,LG,Ashcroft,Stone Foundation,The Beatles,TSC,The Jam. No time for the #loonyleft\"], [\"Old geezer, woke, loves the joanna\"], [\"one man band now, Proud dad grandad gammon boomer .\"], [\"Hobby artist, animal lover\"], [\"\"], [\"cowboy sparky and massive bee\"], [\"English man quarter Irish quarter Scottish. Half mongrel\"], [\"\"], [\"Anglo-Irish, originally from the peoples republic of Essex, escaped the madness to a sleepy little village in Norfolk with my wife & terriers. AFC, Rioja, Indie\"], [\"Adjacent black, handsexual, popularist, cynic, proud taxpayer and owner of views.\"], [\"\"], [\"\"], [\"Fatter ikke en dyt, but I doo have my opinions .\\ud83c\\udde9\\ud83c\\uddf0\\ud83c\\uddf3\\ud83c\\uddf4\\ud83c\\udff4\\udb40\\udc67\\udb40\\udc62\\udb40\\udc65\\udb40\\udc6e\\udb40\\udc67\\udb40\\udc7f\\ud83d\\udcce\"], [\"N.F.F.C \\ud83d\\udd34\\u26aa\\ufe0f\\u26bd\\ufe0f \\ud83d\\udc0e\\ud83d\\udc0e\\ud83d\\udc0e\"], [\"HGK @ IOSGC. NVQ level 3. PA1,2&6. Husband, father and wild golfer. Whisky lover. Proud Brit \\ud83c\\uddec\\ud83c\\udde7.All posts are my own & independent of my employer.\"], [\"http://Alumni of both Liverpool and London Universities. Proud to be Black,British,Christian and on the right of politics.\"], [\"all lives matter\"], [\"\"], [\"#BlackpoolAreBack\"], [\"\"], [\"Bad golfer \\ud83c\\udfcc\\ud83c\\udffe\\u200d\\u2642\\ufe0f\\u26f3\\ufe0fRetweets does not mean I agree or subscribe!\"], [\"Go woke go broke\"], [\"\"], [\"\"], [\"\\ud83c\\uddf2\\ud83c\\uddfd\\ud83c\\udde8\\ud83c\\udde6\\ud83c\\uddec\\ud83c\\udde7Proud Owner CWS\\u2122\\ufe0f \\ud83d\\udc89Skin Aesthetics Practitioner MSc \\ud83c\\uddec\\ud83c\\udde7Royal Marine \\u26bd\\ufe0fLIVERPOOL FC IS MY LIFE MY LOVE YNWA \\ud83c\\udfc6\\ud83c\\udfc6\\ud83c\\udfc6\\ud83c\\udfc6\\ud83c\\udfc6\\ud83c\\udfc6\"], [\"\"], [\"\"], [\"Quod bonum guys semper vincere in finem\"], [\"Quod bonum guys semper vincere in finem\"], [\"Quod bonum guys semper vincere in finem\"], [\"Quod bonum guys semper vincere in finem\"], [\"Do you know what \\\"nemesis\\\" means? A righteous infliction of retribution manifested by an appropriate agent. Personified in this case by an 'orrible C***...me.\"], [\"\"], [\"\\\"We are on the verge of a global transformation. All we need is the right major crisis and the nations will accept the New World Order.\\\" - David Rockerfeller\"], [\"Ex RAF Police Sgt & Post apocalyptic Sci-fi, cold war geek \\u2622\\ufe0f & physics teacher! PTSD sufferer. Struggling to write 1st book. Pompey boy \\ud83c\\udff4\\udb40\\udc67\\udb40\\udc62\\udb40\\udc65\\udb40\\udc6e\\udb40\\udc67\\udb40\\udc7f\\ud83c\\udf7a\\ud83c\\udf77\\ud83c\\udfcf\\ud83c\\udfce\"], [\"proud Dad and Grandad to three of the most remarkable kids, and a Dude and Dudette of a Grandson and Granddaughter. Tug Captain and proud to be one\"], [\"Man City, Ranger , Atheist, nature lover and guitar player ,\"], [\"\"], [\"Views from the middle. I am what I say I am. Pronouns - WTF/LMAO \\ud83c\\udf08\\u26c4\\ufe0f\\ud83d\\udca6\"], [\"Vicarious enjoyer of a Springer. Engaged with the land.\"], [\"Chief Executive of SLAM Community DevelopmentTrust a forward thinking trust with the community at the heart of its leisure business\"], [\"\\ud83c\\uddec\\ud83c\\udde7\\ud83c\\uddfa\\ud83c\\uddf8\\ud83c\\uddea\\ud83c\\uddf8\\ud83c\\uddf5\\ud83c\\uddf9Working class International truck driver.Stop social dumping in transport.#FairTransport.Support our armed forces and emergency services.\"], [\"CEO Incognito Property \\ud83c\\udfdb\\ufe0f\"], [\"\"], [\"\"], [\"Nationality: German, Private account\"], [\"\"], [\"determined to replace the rocks that corona virus has lifted. so the FBPE can crawl back under them. #superboris. #obingo\"], [\"Retired fun lover\"], [\"hey stay young and invincible\"], [\"Never apologise.\"], [\"Never apologise.\"], [\"\"], [\"Law. Badminton. Long term sufferer of the Spurs trophy drought.\"], [\"Rangers .\"], [\"No time for the left, Brexiteer,\\nproud peasant, apparently a member of the thickest part of the uk.\\nNo fan of any religion.\"], [\"have you ever seen Chelsea win the league?...yeah a few times now\"], [\"Rootin Tootin Taxi Driver\"], [\"\"], [\"Talker listener provocotor    bow down at thy alter\"], [\"mother to 2 gorgeous girls\\nloving life, family and friends\\ntory supporting brexiteer, yeah i know i\\u2018m this that and the other, get over it, no-one cares\"], [\"\"], [\"Too old to give a toss. All Lives Matter including the 3%. Get off your knees and stand on your feet. F@\\u20ack ANTIFA, the EU, Lefties & Toasters.\"], [\"Blackpool FC \\ud83c\\udf4a\\ud83d\\udc4a Anti-theist \\u271d\\ufe0f\\ud83d\\udc4e Boxing fan \\ud83e\\udd4a\\ud83c\\uddec\\ud83c\\udde7 Loony left watch \\ud83e\\udd2a\\ud83d\\udd95\"], [\"good bloke . Win or lose always booze \\ud83c\\uddec\\ud83c\\udde7\"], [\"Long suffering Wigan White. The real class of '92, MOT, WACCOE, WAFFL.\\nWigan Warriors. Altruist.\"], [\"All those who know me don't need any info, all those that don't know me don't care!\"], [\"Babysitter of tech. Likes to think he knows his Glass from his Elbow. Carnism - koyaanisqatsi (definition 5). Born to be mild.\"], [\"Chaos claims the unwary or the incomplete. A true man may flinch away it\\u2019s embrace, if he is stalwart, and he girds his soul with the armour of contempt.\"], [\"Shark lover\"], [\"\"], [\"Family man and keen photographer who loves to travel, eat great food and drink superb wine.\"], [\"Turbine Technician  \\ud83d\\udee0 Middlesbrough FC \\ud83d\\udd34\\u26aa\\ufe0f Portsmouth/Whitby\"], [\"gardener \\ud83c\\udf34 pubquizsetter \\ud83c\\udf7a  mostlylefty \\ud83c\\udf39 fukwoke \\u270c\\ufe0f   All views welcomed \\ud83d\\udd1e  #freejulianassange  #freespeech\"], [\"Green badge, West Ham. \\u2692\"], [\"#icanbreathjustfinethankyou\\n\\nBLM is a false ideology created to cultivate victimhood\"], [\"Dislike Twitter intensely, but can't seem to wean myself off the thought that everyone is really interested in what I have to say. The truth ain't so pretty \\ud83d\\ude44\"], [\"I am a bot\"], [\"Music & More Music \\u266b\\u266b\\u266b \\n\\nWine & More Wine \\ud83c\\udf77 \\n\\n\\u23f1\\ufe0f \\ud83c\\udfc3\\u200d\\u2640\\ufe0f Always late \\ud83c\\udfc3\\u200d\\u23f1\\ufe0f\\nx\"], [\"Following the dream of Saint Bernard fighting against the hypocrisy of liberal socialism.\"], [\"Straight, White, Male, Meat-eater (Not sure if I'm privileged or scum of the earth \\ud83e\\udd14\\ud83d\\ude05) \\ud83c\\udff4\\udb40\\udc67\\udb40\\udc62\\udb40\\udc65\\udb40\\udc6e\\udb40\\udc67\\udb40\\udc7f\\ud83c\\uddec\\ud83c\\udde7\"], [\"\"], [\"Lifelong Tory and hater of Socialism. Returned last year after fourteen years in Spain, seriously regretting now.\"], [\"\"], [\"\"], [\"\"], [\"\"], [\"Just a guy that enjoys beings outdoors.\"], [\"\"], [\"\"], [\"I\\u2019 ve got my views and opinions. They may not match yours. I stand by what I choose to believe.Twitter has set my \\u2018following\\u2019 to Zero. not true\"], [\"All round damn good fellow\"], [\"All round damn good fellow\"], [\"Co Director,Retired in 2007,got bored,so back in the game. Lefties,Woke etc,just not welcome! Love boats and cars. North East UK. Will not kneel for any f--ker\"], [\"Stronger Together, United Kingdom. Dr, 28, not woke, Londoner. Climate Change is real!\"], [\"London Cabbie GB / MayfairMob ***My RT's are not an endorsement of the opinion of other's***\"], [\"\"], [\"Increasingly grumpy white man, not particularly keen on kneeling for anyone unless I am offered a knighthood which isn\\u2019t at all likely. Live Berlin and Budapest\"], [\"Harder to eliminate than Covid-19\"], [\"\"], [\"Cook British Indian Restaurant (BIR) food at home. My 2 Ebooks show you how...Onion Bhajis, Madras, Tikka Masala, Jalfrezi, etc with videos from the kitchens.\"], [\"\"], [\"Facts Don\\u2019t Care About Your Feelings/ Socialism Has Never Worked And Never Will/ Islam Is Just As Dangerous Now As It\\u2019s Always Been/ Get Woke, Go Broke \\ud83c\\uddec\\ud83c\\udde7\\ud83c\\uddfa\\ud83c\\uddf8\"], [\"Facts Don\\u2019t Care About Your Feelings/ Socialism Has Never Worked And Never Will/ Islam Is Just As Dangerous Now As It\\u2019s Always Been/ Get Woke, Go Broke \\ud83c\\uddec\\ud83c\\udde7\\ud83c\\uddfa\\ud83c\\uddf8\"], [\"Facts Don\\u2019t Care About Your Feelings/ Socialism Has Never Worked And Never Will/ Islam Is Just As Dangerous Now As It\\u2019s Always Been/ Get Woke, Go Broke \\ud83c\\uddec\\ud83c\\udde7\\ud83c\\uddfa\\ud83c\\uddf8\"], [\"Facts Don\\u2019t Care About Your Feelings/ Socialism Has Never Worked And Never Will/ Islam Is Just As Dangerous Now As It\\u2019s Always Been/ Get Woke, Go Broke \\ud83c\\uddec\\ud83c\\udde7\\ud83c\\uddfa\\ud83c\\uddf8\"], [\"truth hurts!\"], [\"FAX NOT FICTION. Exposing BBC CNN SKY NEWS etc for left wing bias and challenging the MSM to report all news stories even if it doesn\\u2019t fit their PC narrative.\"], [\"\"], [\"\"], [\"\"], [\"Not sure how this all works - I was bullied into coming on here by a Sheffield United fan.\"], [\"\"], [\"Goal in life = Husband and a Father.\\nStockport County, Rangers, Washington Redskins, Maryland Terrapins, New York Yankees\\n\\nViva Las Vegas - Last come gets some\"], [\"just my options, don\\u2019t be offended if I don\\u2019t agree with you.\"], [\"#LEAVEMEANSLEAVE #TRUMP #MILO #MAGA #PATRIOT#MBGA\"], [\"20 yrs public service, 10 yrs business owner,  now happily retired. Politically neutral, guided by evidence. Correlation is not the same as causation.\"], [\"\"], [\"\"], [\"just get in the boat and row\"], [\"forty something, West ham fan, muddling my way through life\"], [\"\"], [\"and maybe just remind the few who of ill of us they speak, we are all that stands between the monsters and the weak\"], [\"\"], [\"\"], [\"Husband,father of two girls,Arsenal fan,Kent county cricket fan,interior project manager,conservative and lager lover.\"], [\"\"], [\"\"], [\"\"], [\"\"], [\"Dad.....City.... Likes cats. fanboys not welcome. I just keep on keeping on.....The Future Gets Written Today! MUSIC SAVES\"], [\"\"], [\"Living the dream\"], [\"on a quest searching for any intelligent people in governments\"], [\"I either like you or I dont'. \\nYou will know which. \\nDon't suffer fools gladly.\\nMy humour gets me through life Its a true British thing\\nI will not apologise\"], [\"\"], [\"Retired Police Sergeant watching Warrington Wolves, but exiled in the NE. Still passionate about my Policing.\"], [\"Remoaners amuse me                  Why do graduates struggle to graduate ?\"], [\"WBA, BRE, love tv, reading, good coffee, 80's music, 80's girl forever, avid handbag collector, mom to Bolly and Fudge. Like a good laugh. All views my own.\"], [\"Daddy to baby Alice | Massive Liverpool supporter | Warhammer 40K painter | PhD in Chemistry | All round nerd |\"], [\"Chorley ex-pat plying my trade down south.... i'm going to fix the in-equality in this country\"], [\"DJ,Producer,Father of 5\\ud83d\\udc99 \\ud83c\\uddec\\ud83c\\udde7Proudly British\\ud83c\\uddec\\ud83c\\udde7Scottish\\ud83c\\udff4\\udb40\\udc67\\udb40\\udc62\\udb40\\udc73\\udb40\\udc63\\udb40\\udc74\\udb40\\udc7f& Irish\\ud83c\\uddee\\ud83c\\uddea\\ud83d\\udc99Israel\\ud83c\\uddee\\ud83c\\uddf1Techno\\ud83c\\uddec\\ud83c\\udde7Glasgow @RangersFC\\ud83c\\uddec\\ud83c\\udde7ex-LAB now TORY\\ud83c\\uddec\\ud83c\\udde7Add2Lists=BLOCK\"], [\"Everyones got a plan till they get punched in the face;- (Mike Tyson)\"], [\"Really...Who cares \\ud83d\\ude34\\ud83c\\uddec\\ud83c\\udde7\\ud83c\\udff4\\udb40\\udc67\\udb40\\udc62\\udb40\\udc65\\udb40\\udc6e\\udb40\\udc67\\udb40\\udc7f\\ud83c\\udff4\\udb40\\udc67\\udb40\\udc62\\udb40\\udc77\\udb40\\udc6c\\udb40\\udc73\\udb40\\udc7f\"], [\"\"], [\"\"], [\"Periodista en paro / Unemployed journalist / Al\\u00e9rgico al pensamiento \\u00fanico / Allergic to one-track thinking / Pol\\u00edglota. Gay. Y muchas cosas m\\u00e1s.\"], [\"Brought up in old left wing environment. Saw the light. Now allergic to modern liberal left madness. Love common sense and fairness. I won't swear at you!\"], [\"I've done too many things to mention, and i still want to try and help all the poor and needy, which is my burning ambition.\"], [\"\"], [\"\\ud83c\\udf08 The World is a book, and those who do not travel read only a page \\ud83c\\udf08\"], [\"Happiness comes when we stop complaining about the troubles we have and offer thanks for all the troubles we don\\u2019t have!\"], [\"Diesel boat submariner, press photographer, Gentleman fashionesta, All round good egg and snappy dresser. Dolphin 38\"], [\"Average Joe. Into Rugby, Football, Cricket, NFL. Beer & wino,foodie. kickboxer, Motorhomer. Ex pat Englander lovin it in Wales\\ud83c\\udff4\\udb40\\udc67\\udb40\\udc62\\udb40\\udc65\\udb40\\udc6e\\nWifey + 2 lads. Bloke\"], [\"Charlton Athletic, Lancashire CCC\\ud83c\\udf39 and England\"], [\"Worked my nuts off. Opinions are my own. Not looking for followers.\"], [\"views are my own. Retweet etc doesn\\u2019t mean agreement.\"], [\"Paratrooper. Holder of the Warrant. Atheist.\"], [\"Service Veteran. Nobody will EVER tell me what I can/can't think. Loves Europe, hates EU. Bores will be muted. Follow me on Parler, my handle is @Vladimir0304\"], [\"Love life.\"], [\"Why so entitled?... \\nI respect your freedom to disagree with me!!\\nPronouns, whatever you want I couldn't care less!\"], [\"Worcs CCC & long suffering Birmingham City supporter. Euphonium/Baritone player. Bit of a statto.  I don't like liars!\"], [\"\"], [\"I resurface cold and missing Persons Cases Have a tip about a missing child? Call or text 1-800-THE-LOST. (America)\"], [\"\"], [\"Encouraging reflection good-natured humour and fair play!                         Everything here is free. Bass.\\n\\nHeader : with The Ginny Brown Collective\"], [\"I was born in the light of a blue graveyard.I was raised by dogs.My father is dead and my mother lives inside of her head.And Ben said: We will never get out.\"], [\"\"], [\"Classic British Liberal Atheist with Conservative Values. Trump 2020\"], [\"THE BIGGEST SMALL CLUB IN THE WORLD. #COYL #NOLUWDC #WFNF\"], [\"Mostly peaceful\"], [\"Hold on to your lug nuts, it's time for an overhaul!\"], [\"\"], [\"Love Spurs, Bruce Springsteen, Bowie, Monty Python & the UK. Occasional runner - but not born to run. Family man doing my best.\"], [\"#lufc season ticket holder in the wedge!\"], [\"\"], [\"\"], [\"\\ud83d\\udc4c\\ud83c\\udff4\\udb40\\udc67\\udb40\\udc62\\udb40\\udc65\\udb40\\udc6e\\udb40\\udc67\\udb40\\udc7f\\ud835\\ude7f\\ud835\\ude81\\ud835\\ude7e\\ud835\\ude84\\ud835\\ude73 \\ud835\\ude7f\\ud835\\ude70\\ud835\\ude83\\ud835\\ude81\\ud835\\ude78\\ud835\\ude7e\\ud835\\ude83\\ud83c\\uddec\\ud83c\\udde7\\ud83d\\udc4c\"], [\"\"], [\"Legal eagle who strives for justice for all. It has absolutely nothing to do with the money!\"], [\"West Bromwich Albion \\u26bd\\ud83c\\udf7a Tweeting all things Football, Boxing, Rugby an Politics \\n\\n\\ud83c\\uddec\\ud83c\\udde7\"], [\"If you can use real names and photos + your cause is supported by big business you're no dissident you're a pawn.\"], [\"Believes in humanity.... Joined twitter to uplift and defend the Sussexes PERIOD.\"], [\"#diversityofthought #wewereneverasked #releasethegroominggangreport Links RTs not endorsement\"], [\"Well-made words and music, cocktails, business, maths, history. politics eclectic, truth and civility above all. No DMs pls. Abuse = immediate block.\"], [\"\"], [\"\"], [\"Idiots will be filtered and blocked - I\\u2019m not always right so convince me otherwise! sometimes engages fingers before brain! I do delete shite posts sometimes\\ud83d\\ude00\"], [\"I hope you got your sh*ttin pants on... #Parody #TheWalkingDead\"], [\"Saving souls perhaps\"], [\"\"], [\"S.I.M Music is a lyrical MC from London - striving to make a positive impact both on and off stage!\"], [\"There is a forgotten, nay almost forbidden word, which means more to me than any other. That word is England. Sir Winston Churchill\"], [\"Psychologically free individual\"], [\"Politically centrist and non-binary. Interested in others\\u2019 points of view. All people must be treated fairly and with respect. New account (old one got hacked).\"], [\"English man in Paris, armchair physicist, red wine, watching the footy at the pub & trolling news sites.\"], [\"TO CLARIFY ITS Gary Lenaghan \\nSUPPORTING OUR ARMED FORCES EVERYWHERE RETWEETS ARE NOT AN ENDORSEMENT\"], [\"Enjoy Creative Writing, gym and fitness.\"], [\"Views are my own. Retweets don\\u2019t necessarily mean I agree\"], [\"New to Twitter. For those of u who\\u2019ve been here long enough to forget, it\\u2019s crazy. I\\u2019m honest & open minded. The truth is out there, if u take the time to look.\"], [\"TTIOT - The Truth is Out There\"], [\"like interesting stuff & have opinions you need to hear \\ud83d\\ude02 so If you knows a better ole go to it !\"], [\"Sceptical of MSM Propaganda, Lefty tyrants and #Politicians. #Entrepreneur #Humour #Bitcoin #Internationalist Will Always Be Free and a good Dad! #NoMask\"], [\"Did some policing once - star of \\u2018Hats off strangers!!\\u2019 2012-2016.\"], [\"\"], [\"South East London born, happily residing in North Norfolk with my husband.\\n\\nCrystal Palace fan, cricket fan, total bookworm.\"], [\"Comedy, Football, Indie music, History. Best of all I\\u2019m married to my best friend\"], [\"Miserable Selfish Grumpy over the hill Bigot & proud of it. AIRPORT TAXIS OF ST ALBANS.\"], [\"Brentmeister general\"], [\"Singer, songwriter, mystical poet, cleric - nope I'm none of those but I am the cleverest person I know.\"], [\"\"], [\"\"], [\"\"], [\"\"], [\"Advocate for a peaceful, fair and just world. \\n\\nRegulate the media properly. No more lies.\\nAccountability is a powerful tool.\"], [\"Former miner, former ARV traffic cop. Fly fishing, shooting and Balvenie. Durham CCC and NUFC supporter.\"], [\"Project Mgr, Reiki Master & Crystal therapist. Conservationist & believe in the 'we' society! Love animals, nature & sustainability. Love life & have fun daily.\"], [\"Aston Villa FC. Dog lover. Tory. Despiser of the MSM. Racial differences should be openly discussed, not swept under the carpet. #AllLivesMatter\"], [\"\"], [\"\"], [\"football fan , golf fan , sports fan , labour supporter but don\\u2019t trust corbyn/ McDonald/ Abbot\"], [\"\"], [\"\"], [\"\"], [\"\\ud83c\\udff4\\udb40\\udc67\\udb40\\udc62\\udb40\\udc65\\udb40\\udc6e\\udb40\\udc67\\udb40\\udc7f\\ud83c\\uddec\\ud83c\\udde7\\ud83c\\udde9\\ud83c\\uddea\\ud83c\\uddfa\\ud83c\\uddf8\"], [\"Founded in 2016, Britain's newest independent newspaper. Bringing you nothing but the facts and stories that other media outlets are too scared to cover.\"], [\"\"], [\"I make  handthrown, colourful pottery including mugs with quotes from classic novels.\"], [\"Theatremaker, Writer, Acting Coach, ETA \\ud83c\\udff3\\ufe0f\\u200d\\ud83c\\udf08\"], [\"Retired teacher having spent 37 years teaching in Italy, Germany , Birmingham and Manchester. Gutted UK is leaving EU and cannot unite with Leavers!\"], [\"\"], [\"Life long Toffee living in the South West.\"], [\"I'm just a little bit mad ;o)\"], [\"23 years in IT banking. Retired early and loving life.\"], [\"The essence of the independent mind lies not in what it thinks, but in how it thinks - Hitchens\"], [\"Loyal friend \\u2022 Dad to one \\u2022 Luckier than I deserve \\u2022 MMXX\\u2122\"], [\"Brexiteer. Lover of History, travel & books.\"], [\"Honorary Fellow. University of Manchester Institute of Education. Researcher: Education Policy; literacy policy; commodification in schooling.\"], [\"Retired Senior Police Officer, grandmother and defender of common sense. Loving life, grandchildren, travelling, nature and photography, and dog walking.\"], [\"Read The Ragged Trousered Philanthropist's\"], [\"\"], [\"!\"], [\"Rock n Roll , Bluesy boy Top camper in love with southern Spain and the culture Gibraltar forever ours \\ud83c\\uddec\\ud83c\\udde7\\ud83c\\udff4\\udb40\\udc67\\udb40\\udc62\\udb40\\udc65\\udb40\\udc6e\\udb40\\udc67\\udb40\\udc7f\"], [\"The Thin Green Line. 2 Wheels, 4 Wheels. All opinions are my own and not related to any organisation.\"], [\"proud family man. love family,folk, my European people\"], [\"Armley Massive, Approved Spark, A scholar and a gentleman. \\ud83d\\udc9b\\ud83d\\udc99 LUFC.\"], [\"Leave voter. One nation Conservative.\"], [\"sharna is my world  xx  #NFFC\"], [\"#BlueLivesMatter\"], [\"Writer, reader, blogger, procrastinator.\"], [\"\"], [\"\"], [\"Privileged black organic vegan womxn let\\u2019s make this world right again \\ud83e\\udd84\\ud83d\\ude4c\\ud83c\\udffe\\ud83c\\udf39\"], [\"\"], [\"\\ud83c\\udff4\\udb40\\udc67\\udb40\\udc62\\udb40\\udc73\\udb40\\udc63\\udb40\\udc74\\udb40\\udc7f\\ud83c\\uddec\\ud83c\\udde7\\ud83c\\uddec\\ud83c\\udde7\\ud83c\\uddec\\ud83c\\udde7\\ud83c\\udff4\\udb40\\udc67\\udb40\\udc62\\udb40\\udc73\\udb40\\udc63\\udb40\\udc74\\udb40\\udc7f British, Scottish, hate the krankie. Give us Scotland Back.\"], [\"Shirt and Tie manufacturer\"], [\"\"], [\"South London based nordic noir, binge-watching humanist designer, creating ranges of merchandise inspired by humour, world events and personal introspection.\"], [\"Wolf 359 is a red dwarf star located in the constellation Leo, near the ecliptic. It is approx. 7.9 light years from Earth. It does not self-ID as a cupcake.\"], [\"Step up ur game twitter\"], [\"\"], [\"25y/o Conservative and mechatronics engineer\"], [\"\\ud83d\\udea9Democratic Socialist\\u270c\\ufe0f\\ud83c\\udf31Vegan\\u270aAtheist\\ud83d\\udc71\\ud83c\\udffc\\u200d\\u2640\\ufe0f\\ud83d\\udc67\\ud83c\\udffd fUnschooling\\ud83d\\udeabMinimalist\\ud83c\\udf0dNomadic\\ud83c\\udf84 Xmasaholic\\ud83c\\udf85JC4PM\\ud83c\\udf39 Sassenach\\ud83e\\udd84 TeamDeppTruth&Justice \\ud83c\\udff4\\u200d\\u2620\\ufe0f\"], [\"\\ud83d\\udea9Democratic Socialist\\u270c\\ufe0f\\ud83c\\udf31Vegan\\u270aAtheist\\ud83d\\udc71\\ud83c\\udffc\\u200d\\u2640\\ufe0f\\ud83d\\udc67\\ud83c\\udffd fUnschooling\\ud83d\\udeabMinimalist\\ud83c\\udf0dNomadic\\ud83c\\udf84 Xmasaholic\\ud83c\\udf85JC4PM\\ud83c\\udf39 Sassenach\\ud83e\\udd84 TeamDeppTruth&Justice \\ud83c\\udff4\\u200d\\u2620\\ufe0f\"], [\"\\ud83d\\udea9Democratic Socialist\\u270c\\ufe0f\\ud83c\\udf31Vegan\\u270aAtheist\\ud83d\\udc71\\ud83c\\udffc\\u200d\\u2640\\ufe0f\\ud83d\\udc67\\ud83c\\udffd fUnschooling\\ud83d\\udeabMinimalist\\ud83c\\udf0dNomadic\\ud83c\\udf84 Xmasaholic\\ud83c\\udf85JC4PM\\ud83c\\udf39 Sassenach\\ud83e\\udd84 TeamDeppTruth&Justice \\ud83c\\udff4\\u200d\\u2620\\ufe0f\"], [\"\\ud83d\\udea9Democratic Socialist\\u270c\\ufe0f\\ud83c\\udf31Vegan\\u270aAtheist\\ud83d\\udc71\\ud83c\\udffc\\u200d\\u2640\\ufe0f\\ud83d\\udc67\\ud83c\\udffd fUnschooling\\ud83d\\udeabMinimalist\\ud83c\\udf0dNomadic\\ud83c\\udf84 Xmasaholic\\ud83c\\udf85JC4PM\\ud83c\\udf39 Sassenach\\ud83e\\udd84 TeamDeppTruth&Justice \\ud83c\\udff4\\u200d\\u2620\\ufe0f\"], [\"\"], [\"\"], [\"\"], [\"who says age is but a number ... although it would appear that the age of rationale thought is behind us and the age left sensationalism is upon us\"], [\"\"], [\"writer | student \\u2606\\nbook enthusiast | big fan of writing reviews \\u2661\\nshe/her\"], [\"War is Peace/Freedom is Slavery/Ignorance is Strength/Lie is Truth/Opposition is Government/Sovereignty is Bribery/Opinion is Fact-This is 21st Century Politics\"], [\"\"], [\"Retired Construction Safety Manager, now full time cook and bottle washer, loves good food, wine, single malt whisky and Wigan Athletic.\"], [\"Wrote the best textbook of medicine ever.\\nNo joke.\"], [\"\\ud83d\\udc48I'm doing it for her \\u261d\\ufe0f\"], [\"Bucket list: The Clipper Race: \\nCircumnavigate the Globe.\\n\\nTREXIT : 31st December 2020\\n\\nTrue blue in my \\ud83d\\udc99.\\n\\n~ I was born to run,\\nI don't belong to anyone.\"], [\"Watch PLANET OF THE HUMANS free on @Youtube:\\nhttps://t.co/id1y6UnB8v \\n\\n@PlanetHumansDoc\\n\\n@MMFlint\\n \\n@JeffGibbstc\\n \\n@OzzieZehner\"], [\"I\\u2019m really only here to try and keep up with the politics and cat videos\"], [\"\"], [\"Comic writer. INFP-T. The Pride. Acceptable Losses. COMING SOON: Glitter Vipers. The Miracles. Cis. He/him\\ud83c\\udff3\\ufe0f\\u200d\\ud83c\\udf08Banner by @bobgoblynn & @lucianoVecchio\"], [\"Busy working on a time machine to get me out of 2020.\"], [\"\"], [\"\"], [\"Leader of GLA Conservatives. Chairman of Budget & Audit. Past Council Leader. Harrow Cllr. RT not an endorsement #GetBrexitDone #ProtectTheProtectors\"], [\"Leader of GLA Conservatives. Chairman of Budget & Audit. Past Council Leader. Harrow Cllr. RT not an endorsement #GetBrexitDone #ProtectTheProtectors\"], [\"\"], [\"\"], [\"\"], [\"The stone that the builder refused, The spark that makes the idea bright, The ballot in your box The bullet in your gun The promise of whats to come....\"], [\"cynical pessimistic aethist with issues.\"], [\"\"], [\"Design Lead, Google Arts & Culture\"], [\"World Peace and tolerance .\"], [\"\\ud83d\\udc9a\\ud83c\\udf40\\ud83d\\ude01\\ud83c\\udff4\\udb40\\udc67\\udb40\\udc62\\udb40\\udc73\\udb40\\udc63\\udb40\\udc74\\udb40\\udc7f\\ud83d\\udc4c\\ud83c\\udf7a\"], [\"UAL MA grad screenwriter/ Director: writes dark action drama, and magical realism TV and film scripts based on complex characters. Consultancy @therapy4scripts\"], [\"#Coffee #LawLLB #LLM #Mediation #Jazz #LGBT #Jewish #Traveller #Worker #Kurdistan \\ud83c\\uddee\\ud83c\\uddf1\\ud83c\\uddee\\ud83c\\uddea\\ud83c\\uddec\\ud83c\\udde7\"], [\"Increasingly alarmed that this little island of ours is slipping into fascism. That the government is undermining democracy and the judicial system.\"], [\"Always Indy! Suas Alba! Cymru am byth! SNP member & Plaid Cymru supporter \\ud83c\\udff4\\udb40\\udc67\\udb40\\udc62\\udb40\\udc73\\udb40\\udc63\\udb40\\udc74\\udb40\\udc7f\\ud83c\\udff4\\udb40\\udc67\\udb40\\udc62\\udb40\\udc77\\udb40\\udc6c\\udb40\\udc73\\udb40\\udc7f\\ud83c\\udff3\\ufe0f\\u200d\\ud83c\\udf08\\ud83e\\udd84\"], [\"I am turning in to Mrs Angry ...One day Scotland will be free! SNP voter and Independence supporter. Rude Yoons will be blocked x\"], [\"British Engineer & Pro-European lefty.\"], [\"phd in microbiology, Manchester university, currently doing microbiology research for World heath care.\"], [\"London.\"], [\"best chicken in town.\"], [\"An Award Winning British SME Director. Enabling Excellence. A kind hearted Londoner! Interested in the UK/EU Politics, Economy.RTs are RTs no more or less\"], [\"Parent; science, literature & movie lover; runner; loves ice-cream\"], [\"LGBTQ, Lefty, Metal-, Alternative- and Beer-loving, Bearoid, HIV Researcher.\"], [\"\"], [\"Retired nurse,love the NHS,mother to 2creative children.\"], [\"Trying to mum, trying to work, trying to learn\"], [\"\"], [\"Husband, father of 3, autism parent, Special School Governor, Former Labour Cllr & MP\\u2019s staffer now Lib Democrat member. 20 years in TV My tweets=My views\"], [\"F1 Freak,Realist,Politics watcher (aka comedy show)Free speech,Freedom seeker.\\ud83c\\uddec\\ud83c\\udde7\\ud83c\\uddfa\\ud83c\\uddf8\\ud83c\\uddee\\ud83c\\uddf1\\ud83c\\udde6\\ud83c\\uddfa\\ud83c\\udded\\ud83c\\uddf2\\ud83c\\udde8\\ud83c\\udde6 Brexiteer,Unionist,Ex-Forces\"], [\"Allotment grandad with attitude\"], [\"\"], [\"\"], [\"man with a fork in a world of soup.  takushi doraiva\"], [\"Juste heureux de se r\\u00e9veiller tous les matins ces jours-ci.\\nNe croyez pas tout ce que vous lisez ici, il y a beaucoup de fausset\\u00e9.\"], [\"He/him\\u2728\\u2728 \\ud83e\\udd84\\u2764\\ufe0f\\ud83e\\udd8e #LGBTQ Be kind x \\ud83d\\udc9c\\ud83d\\udc9c Shine yourself as fabulous as you are x You only you be you!!\"], [\"Gym/fitness, Bodybuilder. \\ud83c\\udfcb\\ufe0f\\u200d\\u2642\\ufe0f\"], [\"United fan, curry lover and leaver\"], [\"United fan, curry lover and leaver\"], [\"United fan, curry lover and leaver\"], [\"United fan, curry lover and leaver\"], [\"Women who behave rarely make history. Tooting CLP Fundraising Officer\"], [\"Did you exchange\\nA walk on part in the war\\nFor a lead role in a cage?\"], [\"\"], [\"Human of Earth \\ud83c\\udf0d. Nature \\ud83d\\udc9a\\nPlannedParenthood \\u2764\\ufe0f \\nOptimist, but I have off-days\\nProud owner of model train & buttons\\nSo many buttons\"], [\"Market leading automation providers in the Intralogistics Market for ASRS/Picking/Conveyors/24x7 Service & Support. Also UK agents https://t.co/9oAnn93f3f & the ICAM Silo\"], [\"Give more, Want less. I like to ask why \\ud83d\\udcac - call me whatever you want\"], [\"British writer living in Madrid \\ud83d\\udd8a \\nSobremesa podcast host, a podcast talking about modern Spanish society\\ud83c\\udf99 @sobremesacast\"], [\"writer, human being\"], [\"Volunteer #forevertangerine \\ud83c\\udff3\\ufe0f\\u200d\\ud83c\\udf08 \\ud83c\\uddec\\ud83c\\udde7\\ud83c\\udf3b\"], [\"oh bugger\"], [\"Primary teacher\"], [\"General mischief-maker #FBPE (people who put me on lists without permission will be blocked).\"], [\"Alive\"], [\"Artist, activist, writer, dog loving, heath walking, nature embracing, football playing, minimalist bohemian. Books \\u2018Rave Art\\u2019 & 'Tart Art' online and in shops\"], [\"We must have another #LevinsonInquiry. Ex Army Vet. #Brexit. #MAGA #scraptheTVlicence #BuyBritish Prefer dogs to people. #AbolishSennedd. parler-Victor_Victory\"], [\"Solicitor advocate with higher rights of audience. Specialist in serious crime, extraditions and public interest inquests.\"], [\"Clearly on the wrong platform for most\"], [\"Semi-retired and enjoying life. Husband, family and travel (in style if possible) are my priorities now. Great experiences are more important than things.\"], [\"Analytical Chemist, Photographer, Family Tree /History.  From Elvington, York, now in Marston Montgomery, Derbyshire.  Editor of The Marston Montgomery Gazette.\"], [\"Partner,Summer Strawberries ,Barmouth. Dachshund fanatic,  RBFM 87.8 Aberystwyth. 10 AM -1pm  Saturday's...www.radiobronglais.cymru   87.8fm in Aberystwyth.\"], [\"Woke and PC free\"], [\"Full time SPY operating on behalf of the EU and it\\u2019s family\"], [\"\"], [\"One of only 10,000 true Jersey Crapauds!\"], [\"Professional Thoughtful Intelligent\"], [\"Comedian / Host / Thot. One half of @gaynongay, @mtvuk + @hitsradioUK breakfast \\ud83e\\udd5e he/him\"], [\"\"], [\"Business Development Manager for Shapemaster Global.\\nChampioning Active Ageing in UK leisure centres.\"], [\"Statistician, karaoke, hockey Blue, 2:43:36 marathon, history, science, comedy, politics (Starmer). Founder of BRTUS and @Parents_Utd.\"], [\"\"], [\"An IQ of 137, not bad come to think of it...\\n\\nviews are my own and not representative of my work or anything regarding more significant debate.\"], [\"mental health practitioner - artist - nature lover - club culture - survivor\"], [\"likes = music, football, boxing, rugby league, golf, wife. Dislikes = lists!\"], [\"\\ud83e\\udd37\\ud83c\\udffb\\u200d\\u2642\\ufe0f\"], [\"\"], [\"identify as: grenade without a pin.\\ndisfunktional child.\\n80's Cannon fodder.\\nDeep sea skiver.\\nHusband & father.\\naware this life is precious.\\nroger so far over,\"], [\"Teacher | Freelance Writer | Masters Student | Chronically Ill | Not The Actor | Published in Eureka Street, Junkee, Pro Bono News, Crikey (He/Him)\"], [\"Bemasked weaver of soundscapes, looper of da loops and a socialist - obviously an ex Labour supporter/voter!\"], [\"\"], [\"know the odd thing about transport, traffic and cities\"], [\"Caring socialist , Hopefully!\"], [\"The Lake District - Craft Beers - Working in the Middle East \\ud83d\\udea2\\u2693\\ufe0f\\ud83c\\udf0a\\ud83c\\udf1d\"], [\"\"], [\"Creator of music for PANDA. Passionate Music Lover. Political Ranter, Long suffering Forest supporter \\u26bd\"], [\"\"], [\"Country lover, northerner, TERF \\ud83c\\udff3\\ufe0f\\u200d\\ud83c\\udf08\\ud83c\\udde6\\ud83c\\uddfa \\ud83c\\uddec\\ud83c\\udde7\"], [\"\"], [\"\"], [\"\"], [\"Researcher -Foreign Policy. Innovative/Sustainable development. Often zoom-viewing the media & Politics through a very peculiar lens\"], [\"Liverpool FC Fan, Pakistan Cricket lover!\"], [\"Husband Dad Labour member \\ud83c\\udf39 #laboursocialist\\n#IStandwithJeremyCorbyn\"], [\"\"], [\"Hardcore Remainer who loves traveling and sailing. And good food. And dogs. And a cleaner planet\"], [\"I detest corruption. Blocked by the worst. \\u2764\\ufe0f'd by others! And totally had it with our lying, morally void government.\"], [\"Leftist-Gamer #BLM #CorbynWasRight #WakandaForever\"], [\"Anglo-Irish-Brazilian-European, jew-ish, quaker\"], [\"#GirtherMovement\\n\\nThe older I get the more cynical and left wing I get. Got a thing about the movie Groundhog Day.\\n\\n#UyghurGenocide\"], [\"Just trying to be better ...... not doing too well! Socialist, European, music lover and trying not to be weird ..... but I am!!\"], [\"DCFC  season ticket holder east stand lower.  https://t.co/KF03ptnEvZ\"], [\"#Resist, #BidenHarris2020\"], [\"I don\\u2019t think inside the box. I don\\u2019t think outside the box either. I\\u2019m not sure where the box is anymore.\"], [\"Ph.D. in Stem Cells (Univ. of Edinburgh). \\u2764 80's US TV, new wave music, Peter Cincotti, John Hughes, Nigel Kennedy, Yuja Wang, Lang Lang and BBC Proms/Radio 3.\"], [\"WARNING!\\n\\nThis account contains material that will offend right-wing bigots and sanctimonious pricks who write: \\\"How sick is the person who writes that?\\\"\"], [\"Humanist, music lover, bookworm, anti-fascist, and not least, ardent europhile.\"], [\"\"], [\"Crazy old cat man. He/Him. Facebook refugee. Found a better standard of shite here on twatter.\"]], \"hoverlabel\": {\"namelength\": 0}, \"hovertemplate\": \"RW_prediction=False<br>Subjectivity=%{x}<br>Polarity=%{y}<br>Bios=%{customdata[0]}\", \"legendgroup\": \"RW_prediction=False\", \"marker\": {\"color\": \"#636efa\", \"symbol\": \"circle\"}, \"mode\": \"markers\", \"name\": \"RW_prediction=False\", \"showlegend\": true, \"type\": \"scatter\", \"x\": [0.7333333333333334, 0.0, 0.05, 0.6, 0.75, 0.30000000000000004, 0.6375, 0.5833333333333333, 0.5, 0.0, 0.325, 0.39999999999999997, 0.65, 0.6, 0.0, 0.0, 0.5, 0.0, 0.2, 0.2, 0.75, 0.75, 0.0, 0.0, 0.0, 0.0, 0.7190476190476192, 1.0, 0.0, 0.65, 0.3, 0.5888888888888889, 0.0, 0.4777777777777778, 0.0, 0.0, 0.0, 0.0, 0.0, 0.9099999999999999, 0.0, 0.0, 0.0, 0.0, 0.07692307692307693, 0.45, 0.6, 0.6, 0.19999999999999998, 0.19999999999999998, 0.0, 0.65, 0.30000000000000004, 0.0, 0.575, 0.7375, 0.10000000000000002, 0.5223214285714286, 0.0, 0.0, 0.6666666666666666, 0.0, 0.05, 0.375, 0.0, 0.0, 1.0, 0.0, 1.0, 0.0, 0.775, 0.0, 0.0, 0.9, 0.5, 0.75, 0.0, 0.0, 0.35555555555555557, 0.7666666666666666, 0.21666666666666667, 0.0, 0.5928571428571429, 0.0, 0.0, 0.0, 0.0, 0.6177777777777778, 0.6177777777777778, 0.9, 0.9, 0.125, 0.125, 0.5694444444444444, 0.5694444444444444, 0.0, 0.0, 0.4291666666666667, 0.55, 0.576530612244898, 0.0, 0.5499999999999999, 0.0, 0.7, 0.13333333333333333, 1.0, 0.0, 0.5, 0.5183333333333333, 0.0, 0.5333333333333333, 0.6916666666666667, 0.0, 0.0, 0.0, 0.0, 0.0, 0.0, 0.8888888888888888, 0.6, 0.0, 1.0, 0.0, 0.0, 0.5125, 0.5125, 0.5125, 0.5, 0.5, 0.5, 0.0, 0.0, 0.0, 0.6, 0.6, 0.6, 0.45, 0.4, 0.85, 0.6777777777777779, 0.21666666666666667, 0.6, 1.0, 0.0, 0.0, 0.0, 0.5, 0.9, 0.30000000000000004, 0.0, 0.0, 0.6, 0.0, 0.9, 0.0, 0.43333333333333335, 1.0, 0.0, 0.0, 0.0, 0.05, 0.6, 0.0, 0.4916666666666667, 0.0, 0.0, 0.0, 0.0, 0.5, 0.0, 0.0, 0.0, 0.45, 0.75, 0.625, 0.2, 0.7462962962962963, 0.7123015873015872, 0.0, 0.1, 0.4666666666666666, 0.0, 0.31875000000000003, 0.0, 0.0, 0.7, 0.4, 0.0, 0.0, 0.6, 0.5, 0.0, 0.0, 0.3, 0.5, 0.5625, 0.9, 0.0, 0.55, 0.55, 0.0, 0.0, 0.0, 0.6361904761904762, 0.0, 0.0, 0.0, 0.6, 0.0, 0.6, 0.8571428571428571, 0.45, 0.0, 0.0, 0.0, 0.5, 0.6000000000000001, 0.4125, 0.0, 0.3326388888888889, 0.0, 0.3, 0.0, 1.0, 0.0, 0.0, 0.611111111111111, 0.0, 0.65, 0.0, 0.5, 0.0, 0.7, 0.35, 0.0, 0.4, 0.75, 1.0, 0.425, 0.3, 0.0, 0.25, 0.0, 0.0, 0.0875, 0.0, 0.5333333333333333, 0.5357142857142857, 0.4, 0.0, 0.1, 0.0, 0.25, 0.13, 0.0, 0.15000000000000002, 0.3333333333333333, 0.6, 0.8888888888888888, 0.0, 0.26999999999999996, 0.0, 0.0, 0.0, 0.0, 0.0, 0.9, 0.4, 0.3958333333333333, 0.8, 0.0, 0.0, 0.0, 0.0, 0.0, 0.0, 0.0, 0.0, 0.6, 0.1, 0.0, 0.85, 0.0, 0.5, 0.0, 0.7, 0.6749999999999999, 0.38933333333333336, 0.1, 0.0, 0.0, 0.5844444444444445, 0.0, 0.025, 0.6, 0.0, 0.9, 0.0, 0.0, 0.5, 0.5, 0.06666666666666667, 0.5, 0.0, 0.6333333333333333, 0.5, 0.0, 0.0, 0.0, 0.0, 0.6444444444444445, 0.0, 0.0, 0.7857142857142857, 0.0, 0.0, 0.25, 0.0, 0.0, 1.0, 0.43497023809523805, 0.0, 0.0, 0.0, 0.0, 0.0, 0.0, 0.0, 0.0, 0.0, 0.0, 0.45, 0.0, 0.5611111111111112, 0.38055555555555554, 0.4503968253968254, 0.0, 0.0, 0.5, 0.5, 0.0, 0.0, 0.0, 0.6, 0.0, 0.0, 0.0, 0.0, 0.0, 0.517, 0.75, 0.0, 0.0, 0.8, 0.0, 0.3452380952380952, 0.4, 0.4674603174603174, 0.39999999999999997, 0.0, 0.0, 0.0, 0.2833333333333333, 0.0, 0.5388888888888889, 0.7708333333333333, 0.0, 0.55, 0.8333333333333334, 0.325, 0.5955555555555556, 0.6333333333333333, 0.3267857142857143, 1.0, 0.65, 0.0, 0.6, 0.30178571428571427, 0.0, 0.425, 0.5694444444444444, 0.5119047619047619, 0.5119047619047619, 0.3, 0.3, 0.4666666666666666, 0.025, 1.0, 0.9, 0.6, 0.5604166666666667, 0.0, 0.0, 0.0, 0.0, 0.0, 0.0, 0.0, 1.0, 0.0, 0.530952380952381, 0.0, 0.0, 0.0, 0.0, 0.5, 0.0, 0.0, 0.3433333333333334, 0.0, 0.0, 0.0, 0.7, 0.4748677248677248, 0.2, 0.0, 0.8, 0.42000000000000004, 0.0, 0.75, 0.2, 0.3483359497645212, 0.9, 1.0, 0.6, 0.75, 0.0, 0.0, 0.0, 0.8888888888888888, 0.0, 0.0, 0.8, 0.18055555555555558, 0.18055555555555558, 0.4, 0.4, 0.4005952380952381, 0.4000000000000001, 0.0, 0.3708333333333333, 0.5357142857142857, 1.0, 0.0, 0.0, 0.3125, 0.05, 0.6666666666666666, 1.0, 1.0, 0.75, 1.0, 1.0, 0.9, 0.8, 0.1, 1.0, 0.5136363636363637, 0.525, 0.0, 0.37896825396825395, 0.6116071428571428, 0.175, 0.43333333333333335, 0.425, 0.47777777777777775, 0.5, 0.0, 0.5875, 0.4986111111111111, 0.75625, 0.9, 0.3833333333333333, 1.0, 1.0, 0.0, 0.5222222222222223, 1.0, 1.0, 0.0, 0.75, 0.0, 0.6375, 0.7502777777777777, 0.5, 0.0, 0.0, 1.0, 1.0, 0.5, 1.0, 0.0, 0.9, 0.9, 0.3, 0.3, 0.75, 0.0, 0.6277777777777779, 0.7999999999999999, 0.6, 0.0, 1.0, 0.6, 0.4, 0.0, 0.65, 0.7523809523809523, 1.0, 1.0, 0.0, 0.0, 0.06666666666666667, 0.6785714285714285, 0.7, 0.8, 0.0, 0.0, 0.6, 0.0, 0.8814814814814816, 1.0, 0.35714285714285715, 1.0, 0.0, 1.0, 0.65, 1.0, 0.5, 0.2, 0.0, 0.6, 0.75, 0.22916666666666666, 0.0, 0.676530612244898, 0.4533333333333333, 0.7444444444444445, 0.6333333333333333, 0.5785714285714285, 0.0, 0.0, 0.38, 0.0, 1.0, 0.8, 0.55, 0.0, 0.0, 0.0, 0.0, 1.0, 0.6266666666666667, 0.0, 0.6333333333333333, 0.0, 1.0, 0.0, 1.0, 0.5714285714285714, 1.0, 0.0, 1.0], \"xaxis\": \"x\", \"y\": [0.41666666666666674, 0.0, 0.0, 0.5, 0.08333333333333334, 0.2, -0.02500000000000001, 0.29166666666666663, 0.5, 0.0, 0.0, -0.30000000000000004, -0.39375, 0.625, 0.0, 0.0, 0.41666666666666663, 0.0, 0.2, 0.2, 0.3, 0.3, 0.0, 0.0, 0.0, 0.0, 0.13333333333333333, -0.75, 0.0, 0.2953125, 0.0, -0.19999999999999998, 0.0, -0.15, 0.0, 0.0, 0.0, 0.0, 0.0, -0.78, 0.0, 0.0, 0.0, 0.0, 0.0, -0.121875, 0.5, 0.5, 0.16666666666666666, 0.16666666666666666, 0.0, 0.037500000000000006, 0.2, 0.0, -0.175, -0.025000000000000022, 0.06666666666666667, 0.10178571428571428, 0.0, 0.0, -0.5, 0.0, -0.1, 0.12499999999999999, 0.0, 0.0, -0.5, 0.0, 1.0, 0.0, 0.5, 0.0, 0.0, 0.6, -0.1875, 0.0, 0.0, 0.0, 0.05972222222222221, 0.22777777777777777, -0.08333333333333333, 0.0, 0.2607142857142857, 0.0, 0.0, 0.0, 0.0, 0.5, 0.5, 0.4000000000000001, 0.4000000000000001, 0.0, 0.0, 0.375, 0.375, 0.0, 0.0, -0.3458333333333333, 0.0875, 0.4551020408163265, 0.0, 0.22777777777777777, 0.0, -0.275, -0.041666666666666664, 0.0, 0.0, -0.5, -0.2991666666666667, 0.0, 0.4666666666666666, -0.19999999999999998, 0.0, 0.0, 0.0, 0.0, 0.0, 0.0, 0.5, 0.5, 0.0, 0.25, 0.0, 0.0, 0.11249999999999999, 0.11249999999999999, 0.11249999999999999, -0.25, -0.25, -0.25, 0.0, 0.0, 0.0, 1.0, 1.0, 1.0, 0.16666666666666666, 0.0062500000000000056, -0.11249999999999999, 0.2111111111111111, 0.041666666666666664, 0.2, 0.9, 0.0, 0.0, 0.0, 0.0, 0.7000000000000001, 0.2, 0.0, 0.0, 0.5, 0.0, -1.0, 0.0, -0.16666666666666666, -0.5, 0.0, 0.0, 0.0, 0.0, 0.2, 0.0, -0.30833333333333335, 0.0, 0.0, 0.0, 0.0, 0.3, 0.0, 0.0, 0.0, 0.043181818181818175, 0.25, 0.1875, -0.15625, 0.08333333333333333, 0.39285714285714285, 0.0, 0.0, 0.39999999999999997, 0.0, -0.05, 0.0, 0.0, 0.22000000000000003, 0.15, 0.0, 0.0, 0.5, -0.1875, 0.0, 0.0, 0.25, 0.2, -0.2, -0.5, 0.0, -0.39999999999999997, -0.39999999999999997, 0.0, 0.0, 0.0, 0.2857142857142857, 0.0, 0.0, 0.0, -0.4333333333333333, 0.0, 0.5, -0.7142857142857143, 0.35, 0.0, 0.0, 0.0, 0.5, -0.35000000000000003, 0.0325, 0.0, -0.14305555555555557, 0.0, -0.3, 0.0, -1.0, 0.0, 0.0, 0.31111111111111117, 0.0, 0.35, 0.0, 0.5, 0.0, -0.55, 0.1, 0.0, 0.0, -0.25, -1.0, 0.30833333333333335, 0.2, 0.0, 0.25, 0.0, 0.0, 0.0, 0.0, 0.23333333333333336, 0.2857142857142857, 0.2, 0.0, 0.3, 0.0, -0.25, 0.0, 0.0, -0.025, -0.2, 0.5, 0.5, 0.0, 0.08, 0.0, 0.0, 0.0, 0.0, 0.0, 0.2, -0.125, -0.16666666666666666, 0.7, 0.0, 0.0, 0.0, 0.0, 0.0, 0.0, 0.0, 0.0, 0.625, 0.0, 0.0, 0.525, 0.0, 0.3, 0.0, 0.4, 0.033333333333333326, 0.002666666666666662, 0.0, 0.0, 0.0, 0.11333333333333333, 0.0, -0.037500000000000006, 0.5, 0.0, 0.5, 0.0, 0.0, -0.16666666666666666, -0.16666666666666666, 0.0, 0.5, 0.0, 0.24444444444444446, 0.2, 0.0, 0.0, 0.0, 0.0, -0.2222222222222222, 0.0, 0.0, 0.17857142857142858, 0.0, 0.0, -0.08333333333333333, 0.0, 0.0, 0.8, -0.027529761904761904, 0.0, 0.0, 0.0, 0.0, 0.0, 0.0, 0.0, 0.0, 0.0, 0.0, 0.4791666666666667, 0.0, 0.24305555555555558, -0.23055555555555554, 0.10317460317460318, 0.0, 0.0, 0.0, -0.1875, 0.0, 0.0, 0.0, 0.5625, 0.0, 0.0, 0.0, 0.0, 0.0, 0.36800000000000005, -0.5, 0.0, 0.0, 0.09999999999999998, 0.0, 0.011904761904761899, -0.4, -0.17142857142857137, -0.37500000000000006, 0.0, 0.0, 0.0, 0.2766666666666667, 0.0, 0.37222222222222223, -0.18229166666666669, 0.0, 0.35, 0.7000000000000001, 0.175, 0.445, 0.10000000000000002, 0.125, 0.3125, -0.025000000000000022, 0.0, 0.5, 0.1875, 0.0, 0.375, -0.3194444444444445, 0.12857142857142856, 0.12857142857142856, 1.0, 1.0, 0.26666666666666666, 0.0, 0.8, -0.5, -0.4, -0.42291666666666666, 0.0, 0.0, 0.0, 0.0, 0.0, 0.0, 0.0, 1.0, 0.0, 0.15595238095238095, 0.0, 0.0, 0.0, 0.0, -0.1, 0.0, 0.0, 0.37166666666666665, 0.0, 0.0, 0.0, 0.3, 0.2619047619047619, 0.2, 0.0, 0.4, 0.0625, 0.0, -0.9375, 0.2, -0.12510204081632653, 0.5, -0.875, 0.5, 1.0, 0.0, 0.0, 0.0, 0.5, 0.0, 0.0, 0.0, -0.10833333333333334, -0.10833333333333334, 0.2, 0.2, 0.11309523809523808, -0.3333333333333333, 0.0, -0.07916666666666666, 0.2857142857142857, 1.0, 0.0, 0.0, 0.25, 0.0, 0.4166666666666667, -0.5, 0.8, 0.75, -0.55, 1.0, -1.0, 0.75, 0.0, 0.5, 0.1715909090909091, 0.08000000000000003, 0.0, 0.0853174603174603, -0.01339285714285715, 0.0, -0.06666666666666665, -0.16, 0.0375, 0.5, 0.0, -0.3625, 0.11666666666666665, 0.15625, 0.7500000000000001, 0.08333333333333333, -0.9, -1.0, 0.0, 0.4444444444444445, 0.8, 1.0, 0.0, 0.65, 0.0, 0.13333333333333333, 0.25958333333333333, 0.5, 0.0, 0.0, 0.8, 0.8, 0.5, 0.8, 0.0, 0.625, 0.625, 0.25, 0.25, 0.0, 0.0, 0.29166666666666663, 0.8750000000000001, -0.05, 0.0, 0.8, 0.7000000000000001, -0.1, 0.0, 0.9, 0.35238095238095235, 0.8, 0.8, 0.0, 0.0, 0.0, 0.2619047619047619, 0.0, 0.8375, 0.0, 0.0, -0.175, 0.0, 0.09166666666666667, 0.8, 0.0, 1.0, 0.0, 0.8, -0.19999999999999998, 0.8, -0.25, -0.1, 0.0, -0.09999999999999999, 0.25, 0.15625, 0.0, -0.044897959183673466, 0.019999999999999997, 0.6, 0.46666666666666673, 0.18303571428571427, 0.0, 0.0, 0.04, 0.0, 1.0, 0.75, 0.25, 0.0, 0.0, 0.0, 0.0, 0.8, -0.06333333333333334, 0.0, 0.375, 0.0, 0.8, 0.0, 1.0, -0.10714285714285714, 1.0, 0.0, 1.0], \"yaxis\": \"y\"}, {\"hoverlabel\": {\"namelength\": 0}, \"hovertemplate\": \"<b>OLS trendline</b><br>Polarity = 0.324319 * Subjectivity + -0.010822<br>R<sup>2</sup>=0.115363<br><br>RW_prediction=False<br>Subjectivity=%{x}<br>Polarity=%{y} <b>(trend)</b>\", \"legendgroup\": \"RW_prediction=False\", \"marker\": {\"color\": \"#636efa\", \"symbol\": \"circle\"}, \"mode\": \"lines\", \"name\": \"RW_prediction=False\", \"showlegend\": false, \"type\": \"scatter\", \"x\": [0.0, 0.0, 0.0, 0.0, 0.0, 0.0, 0.0, 0.0, 0.0, 0.0, 0.0, 0.0, 0.0, 0.0, 0.0, 0.0, 0.0, 0.0, 0.0, 0.0, 0.0, 0.0, 0.0, 0.0, 0.0, 0.0, 0.0, 0.0, 0.0, 0.0, 0.0, 0.0, 0.0, 0.0, 0.0, 0.0, 0.0, 0.0, 0.0, 0.0, 0.0, 0.0, 0.0, 0.0, 0.0, 0.0, 0.0, 0.0, 0.0, 0.0, 0.0, 0.0, 0.0, 0.0, 0.0, 0.0, 0.0, 0.0, 0.0, 0.0, 0.0, 0.0, 0.0, 0.0, 0.0, 0.0, 0.0, 0.0, 0.0, 0.0, 0.0, 0.0, 0.0, 0.0, 0.0, 0.0, 0.0, 0.0, 0.0, 0.0, 0.0, 0.0, 0.0, 0.0, 0.0, 0.0, 0.0, 0.0, 0.0, 0.0, 0.0, 0.0, 0.0, 0.0, 0.0, 0.0, 0.0, 0.0, 0.0, 0.0, 0.0, 0.0, 0.0, 0.0, 0.0, 0.0, 0.0, 0.0, 0.0, 0.0, 0.0, 0.0, 0.0, 0.0, 0.0, 0.0, 0.0, 0.0, 0.0, 0.0, 0.0, 0.0, 0.0, 0.0, 0.0, 0.0, 0.0, 0.0, 0.0, 0.0, 0.0, 0.0, 0.0, 0.0, 0.0, 0.0, 0.0, 0.0, 0.0, 0.0, 0.0, 0.0, 0.0, 0.0, 0.0, 0.0, 0.0, 0.0, 0.0, 0.0, 0.0, 0.0, 0.0, 0.0, 0.0, 0.0, 0.0, 0.0, 0.0, 0.0, 0.0, 0.0, 0.0, 0.0, 0.0, 0.0, 0.0, 0.0, 0.0, 0.0, 0.0, 0.0, 0.0, 0.0, 0.0, 0.0, 0.0, 0.0, 0.0, 0.0, 0.0, 0.0, 0.0, 0.0, 0.0, 0.0, 0.0, 0.0, 0.0, 0.0, 0.0, 0.0, 0.0, 0.0, 0.0, 0.0, 0.0, 0.0, 0.0, 0.0, 0.0, 0.0, 0.0, 0.0, 0.0, 0.0, 0.0, 0.0, 0.0, 0.0, 0.0, 0.0, 0.0, 0.0, 0.0, 0.0, 0.0, 0.0, 0.0, 0.0, 0.0, 0.0, 0.0, 0.0, 0.0, 0.0, 0.0, 0.0, 0.0, 0.0, 0.0, 0.025, 0.025, 0.05, 0.05, 0.05, 0.05, 0.06666666666666667, 0.06666666666666667, 0.07692307692307693, 0.0875, 0.1, 0.1, 0.1, 0.1, 0.1, 0.10000000000000002, 0.125, 0.125, 0.13, 0.13333333333333333, 0.15000000000000002, 0.175, 0.18055555555555558, 0.18055555555555558, 0.19999999999999998, 0.19999999999999998, 0.2, 0.2, 0.2, 0.2, 0.2, 0.2, 0.21666666666666667, 0.21666666666666667, 0.22916666666666666, 0.25, 0.25, 0.25, 0.26999999999999996, 0.2833333333333333, 0.3, 0.3, 0.3, 0.3, 0.3, 0.3, 0.3, 0.3, 0.30000000000000004, 0.30000000000000004, 0.30000000000000004, 0.30178571428571427, 0.3125, 0.31875000000000003, 0.325, 0.325, 0.3267857142857143, 0.3326388888888889, 0.3333333333333333, 0.3433333333333334, 0.3452380952380952, 0.3483359497645212, 0.35, 0.35555555555555557, 0.35714285714285715, 0.3708333333333333, 0.375, 0.37896825396825395, 0.38, 0.38055555555555554, 0.3833333333333333, 0.38933333333333336, 0.3958333333333333, 0.39999999999999997, 0.39999999999999997, 0.4, 0.4, 0.4, 0.4, 0.4, 0.4, 0.4, 0.4, 0.4, 0.4000000000000001, 0.4005952380952381, 0.4125, 0.42000000000000004, 0.425, 0.425, 0.425, 0.4291666666666667, 0.43333333333333335, 0.43333333333333335, 0.43497023809523805, 0.45, 0.45, 0.45, 0.45, 0.45, 0.4503968253968254, 0.4533333333333333, 0.4666666666666666, 0.4666666666666666, 0.4674603174603174, 0.4748677248677248, 0.47777777777777775, 0.4777777777777778, 0.4916666666666667, 0.4986111111111111, 0.5, 0.5, 0.5, 0.5, 0.5, 0.5, 0.5, 0.5, 0.5, 0.5, 0.5, 0.5, 0.5, 0.5, 0.5, 0.5, 0.5, 0.5, 0.5, 0.5, 0.5, 0.5, 0.5, 0.5, 0.5, 0.5119047619047619, 0.5119047619047619, 0.5125, 0.5125, 0.5125, 0.5136363636363637, 0.517, 0.5183333333333333, 0.5222222222222223, 0.5223214285714286, 0.525, 0.530952380952381, 0.5333333333333333, 0.5333333333333333, 0.5357142857142857, 0.5357142857142857, 0.5388888888888889, 0.5499999999999999, 0.55, 0.55, 0.55, 0.55, 0.55, 0.5604166666666667, 0.5611111111111112, 0.5625, 0.5694444444444444, 0.5694444444444444, 0.5694444444444444, 0.5714285714285714, 0.575, 0.576530612244898, 0.5785714285714285, 0.5833333333333333, 0.5844444444444445, 0.5875, 0.5888888888888889, 0.5928571428571429, 0.5955555555555556, 0.6, 0.6, 0.6, 0.6, 0.6, 0.6, 0.6, 0.6, 0.6, 0.6, 0.6, 0.6, 0.6, 0.6, 0.6, 0.6, 0.6, 0.6, 0.6, 0.6, 0.6, 0.6, 0.6, 0.6, 0.6, 0.6000000000000001, 0.611111111111111, 0.6116071428571428, 0.6177777777777778, 0.6177777777777778, 0.625, 0.6266666666666667, 0.6277777777777779, 0.6333333333333333, 0.6333333333333333, 0.6333333333333333, 0.6333333333333333, 0.6361904761904762, 0.6375, 0.6375, 0.6444444444444445, 0.65, 0.65, 0.65, 0.65, 0.65, 0.65, 0.65, 0.6666666666666666, 0.6666666666666666, 0.6749999999999999, 0.676530612244898, 0.6777777777777779, 0.6785714285714285, 0.6916666666666667, 0.7, 0.7, 0.7, 0.7, 0.7, 0.7, 0.7123015873015872, 0.7190476190476192, 0.7333333333333334, 0.7375, 0.7444444444444445, 0.7462962962962963, 0.75, 0.75, 0.75, 0.75, 0.75, 0.75, 0.75, 0.75, 0.75, 0.75, 0.75, 0.75, 0.75, 0.7502777777777777, 0.7523809523809523, 0.75625, 0.7666666666666666, 0.7708333333333333, 0.775, 0.7857142857142857, 0.7999999999999999, 0.8, 0.8, 0.8, 0.8, 0.8, 0.8, 0.8, 0.8333333333333334, 0.85, 0.85, 0.8571428571428571, 0.8814814814814816, 0.8888888888888888, 0.8888888888888888, 0.8888888888888888, 0.9, 0.9, 0.9, 0.9, 0.9, 0.9, 0.9, 0.9, 0.9, 0.9, 0.9, 0.9, 0.9, 0.9, 0.9099999999999999, 1.0, 1.0, 1.0, 1.0, 1.0, 1.0, 1.0, 1.0, 1.0, 1.0, 1.0, 1.0, 1.0, 1.0, 1.0, 1.0, 1.0, 1.0, 1.0, 1.0, 1.0, 1.0, 1.0, 1.0, 1.0, 1.0, 1.0, 1.0, 1.0, 1.0, 1.0, 1.0, 1.0, 1.0, 1.0, 1.0, 1.0, 1.0, 1.0, 1.0], \"xaxis\": \"x\", \"y\": [-0.010822360048509883, -0.010822360048509883, -0.010822360048509883, -0.010822360048509883, -0.010822360048509883, -0.010822360048509883, -0.010822360048509883, -0.010822360048509883, -0.010822360048509883, -0.010822360048509883, -0.010822360048509883, -0.010822360048509883, -0.010822360048509883, -0.010822360048509883, -0.010822360048509883, -0.010822360048509883, -0.010822360048509883, -0.010822360048509883, -0.010822360048509883, -0.010822360048509883, -0.010822360048509883, -0.010822360048509883, -0.010822360048509883, -0.010822360048509883, -0.010822360048509883, -0.010822360048509883, -0.010822360048509883, -0.010822360048509883, -0.010822360048509883, -0.010822360048509883, -0.010822360048509883, -0.010822360048509883, -0.010822360048509883, -0.010822360048509883, -0.010822360048509883, -0.010822360048509883, -0.010822360048509883, -0.010822360048509883, -0.010822360048509883, -0.010822360048509883, -0.010822360048509883, -0.010822360048509883, -0.010822360048509883, -0.010822360048509883, -0.010822360048509883, -0.010822360048509883, -0.010822360048509883, -0.010822360048509883, -0.010822360048509883, -0.010822360048509883, -0.010822360048509883, -0.010822360048509883, -0.010822360048509883, -0.010822360048509883, -0.010822360048509883, -0.010822360048509883, -0.010822360048509883, -0.010822360048509883, -0.010822360048509883, -0.010822360048509883, -0.010822360048509883, -0.010822360048509883, -0.010822360048509883, -0.010822360048509883, -0.010822360048509883, -0.010822360048509883, -0.010822360048509883, -0.010822360048509883, -0.010822360048509883, -0.010822360048509883, -0.010822360048509883, -0.010822360048509883, -0.010822360048509883, -0.010822360048509883, -0.010822360048509883, -0.010822360048509883, -0.010822360048509883, -0.010822360048509883, -0.010822360048509883, -0.010822360048509883, -0.010822360048509883, -0.010822360048509883, -0.010822360048509883, -0.010822360048509883, -0.010822360048509883, -0.010822360048509883, -0.010822360048509883, -0.010822360048509883, -0.010822360048509883, -0.010822360048509883, -0.010822360048509883, -0.010822360048509883, -0.010822360048509883, -0.010822360048509883, -0.010822360048509883, -0.010822360048509883, -0.010822360048509883, -0.010822360048509883, -0.010822360048509883, -0.010822360048509883, -0.010822360048509883, -0.010822360048509883, -0.010822360048509883, -0.010822360048509883, -0.010822360048509883, -0.010822360048509883, -0.010822360048509883, -0.010822360048509883, -0.010822360048509883, -0.010822360048509883, -0.010822360048509883, -0.010822360048509883, -0.010822360048509883, -0.010822360048509883, -0.010822360048509883, -0.010822360048509883, -0.010822360048509883, -0.010822360048509883, -0.010822360048509883, -0.010822360048509883, -0.010822360048509883, -0.010822360048509883, -0.010822360048509883, -0.010822360048509883, -0.010822360048509883, -0.010822360048509883, -0.010822360048509883, -0.010822360048509883, -0.010822360048509883, -0.010822360048509883, -0.010822360048509883, -0.010822360048509883, -0.010822360048509883, -0.010822360048509883, -0.010822360048509883, -0.010822360048509883, -0.010822360048509883, -0.010822360048509883, -0.010822360048509883, -0.010822360048509883, -0.010822360048509883, -0.010822360048509883, -0.010822360048509883, -0.010822360048509883, -0.010822360048509883, -0.010822360048509883, -0.010822360048509883, -0.010822360048509883, -0.010822360048509883, -0.010822360048509883, -0.010822360048509883, -0.010822360048509883, -0.010822360048509883, -0.010822360048509883, -0.010822360048509883, -0.010822360048509883, -0.010822360048509883, -0.010822360048509883, -0.010822360048509883, -0.010822360048509883, -0.010822360048509883, -0.010822360048509883, -0.010822360048509883, -0.010822360048509883, -0.010822360048509883, -0.010822360048509883, -0.010822360048509883, -0.010822360048509883, -0.010822360048509883, -0.010822360048509883, -0.010822360048509883, -0.010822360048509883, -0.010822360048509883, -0.010822360048509883, -0.010822360048509883, -0.010822360048509883, -0.010822360048509883, -0.010822360048509883, -0.010822360048509883, -0.010822360048509883, -0.010822360048509883, -0.010822360048509883, -0.010822360048509883, -0.010822360048509883, -0.010822360048509883, -0.010822360048509883, -0.010822360048509883, -0.010822360048509883, -0.010822360048509883, -0.010822360048509883, -0.010822360048509883, -0.010822360048509883, -0.010822360048509883, -0.010822360048509883, -0.010822360048509883, -0.010822360048509883, -0.010822360048509883, -0.010822360048509883, -0.010822360048509883, -0.010822360048509883, -0.010822360048509883, -0.010822360048509883, -0.010822360048509883, -0.010822360048509883, -0.010822360048509883, -0.010822360048509883, -0.010822360048509883, -0.010822360048509883, -0.010822360048509883, -0.010822360048509883, -0.010822360048509883, -0.010822360048509883, -0.010822360048509883, -0.010822360048509883, -0.010822360048509883, -0.010822360048509883, -0.010822360048509883, -0.010822360048509883, -0.010822360048509883, -0.010822360048509883, -0.010822360048509883, -0.010822360048509883, -0.010822360048509883, -0.010822360048509883, -0.010822360048509883, -0.010822360048509883, -0.010822360048509883, -0.010822360048509883, -0.010822360048509883, -0.010822360048509883, -0.010822360048509883, -0.002714393639531784, -0.002714393639531784, 0.005393572769446315, 0.005393572769446315, 0.005393572769446315, 0.005393572769446315, 0.010798883708765045, 0.010798883708765045, 0.01412522890219196, 0.01755552238291346, 0.021609505587402513, 0.021609505587402513, 0.021609505587402513, 0.021609505587402513, 0.021609505587402513, 0.02160950558740252, 0.02971747199638061, 0.02971747199638061, 0.03133906527817623, 0.03242012746603998, 0.03782543840535871, 0.0459334048143368, 0.04773517512744306, 0.04773517512744306, 0.0540413712233149, 0.0540413712233149, 0.05404137122331491, 0.05404137122331491, 0.05404137122331491, 0.05404137122331491, 0.05404137122331491, 0.05404137122331491, 0.05944668216263364, 0.05944668216263364, 0.06350066536712269, 0.0702573040412711, 0.0702573040412711, 0.0702573040412711, 0.07674367716845357, 0.08106792591990857, 0.0864732368592273, 0.0864732368592273, 0.0864732368592273, 0.0864732368592273, 0.0864732368592273, 0.0864732368592273, 0.0864732368592273, 0.0864732368592273, 0.08647323685922731, 0.08647323685922731, 0.08647323685922731, 0.08705237731701145, 0.09052722006371634, 0.09255421166596088, 0.0945812032682054, 0.0945812032682054, 0.09516034372598955, 0.09705863744872648, 0.09728385873786476, 0.10052704530145602, 0.10114479512309241, 0.10214948714069894, 0.10268916967718349, 0.10449093999028974, 0.1050057315083201, 0.1094458083513319, 0.1107971360861616, 0.11208411488123748, 0.11241872936795722, 0.11259890639926784, 0.11349979155582095, 0.11544570349397572, 0.11755377476031, 0.11890510249513968, 0.11890510249513968, 0.1189051024951397, 0.1189051024951397, 0.1189051024951397, 0.1189051024951397, 0.1189051024951397, 0.1189051024951397, 0.1189051024951397, 0.1189051024951397, 0.1189051024951397, 0.11890510249513973, 0.11909814931440109, 0.12295908569962873, 0.12539147562232217, 0.1270130689041178, 0.1270130689041178, 0.1270130689041178, 0.12836439663894747, 0.12971572437377715, 0.12971572437377715, 0.13024660312674594, 0.13512103531309588, 0.13512103531309588, 0.13512103531309588, 0.13512103531309588, 0.13512103531309588, 0.13524973319260347, 0.13620209750095963, 0.14052634625241459, 0.14052634625241459, 0.14078374201142976, 0.14318610242890475, 0.1441298868786271, 0.1441298868786271, 0.1486343126613927, 0.1508865255527755, 0.15133696813105207, 0.15133696813105207, 0.15133696813105207, 0.15133696813105207, 0.15133696813105207, 0.15133696813105207, 0.15133696813105207, 0.15133696813105207, 0.15133696813105207, 0.15133696813105207, 0.15133696813105207, 0.15133696813105207, 0.15133696813105207, 0.15133696813105207, 0.15133696813105207, 0.15133696813105207, 0.15133696813105207, 0.15133696813105207, 0.15133696813105207, 0.15133696813105207, 0.15133696813105207, 0.15133696813105207, 0.15133696813105207, 0.15133696813105207, 0.15133696813105207, 0.15519790451627974, 0.15519790451627974, 0.15539095133554112, 0.15539095133554112, 0.15539095133554112, 0.15575949526322197, 0.15685038528915718, 0.15728281016430268, 0.15854404938347705, 0.15857622385335396, 0.15944493454003017, 0.161375402732644, 0.16214759000968954, 0.16214759000968954, 0.16291977728673507, 0.16291977728673507, 0.16394936032279578, 0.16755290094900824, 0.1675529009490083, 0.1675529009490083, 0.1675529009490083, 0.1675529009490083, 0.1675529009490083, 0.17093122028608249, 0.1711564415752208, 0.1716068841534973, 0.17385909704488012, 0.17385909704488012, 0.17385909704488012, 0.17450258644241806, 0.17566086735798636, 0.1761572734646585, 0.17681914827355466, 0.1783635228276457, 0.17872387689026703, 0.17971485056247544, 0.180165293140752, 0.18145227193582786, 0.1823274175164795, 0.18376883376696446, 0.18376883376696446, 0.18376883376696446, 0.18376883376696446, 0.18376883376696446, 0.18376883376696446, 0.18376883376696446, 0.18376883376696446, 0.18376883376696446, 0.18376883376696446, 0.18376883376696446, 0.18376883376696446, 0.18376883376696446, 0.18376883376696446, 0.18376883376696446, 0.18376883376696446, 0.18376883376696446, 0.18376883376696446, 0.18376883376696446, 0.18376883376696446, 0.18376883376696446, 0.18376883376696446, 0.18376883376696446, 0.18376883376696446, 0.18376883376696446, 0.18376883376696448, 0.18737237439317694, 0.18753324674256142, 0.18953449876890444, 0.18953449876890444, 0.19187680017594255, 0.19241733126987445, 0.19277768533249573, 0.19457945564560192, 0.19457945564560192, 0.19457945564560192, 0.19457945564560192, 0.19550608037805658, 0.1959307833804316, 0.1959307833804316, 0.19818299627181443, 0.19998476658492068, 0.19998476658492068, 0.19998476658492068, 0.19998476658492068, 0.19998476658492068, 0.19998476658492068, 0.19998476658492068, 0.20539007752423938, 0.20539007752423938, 0.20809273299389874, 0.2085891391005709, 0.20899361815045192, 0.20925101390946704, 0.2134980439332175, 0.21620069940287684, 0.21620069940287684, 0.21620069940287684, 0.21620069940287684, 0.21620069940287684, 0.21620069940287684, 0.2201903336676121, 0.22237819761924116, 0.22701132128151436, 0.228362649016344, 0.23061486190772681, 0.2312154520120956, 0.23241663222083306, 0.23241663222083306, 0.23241663222083306, 0.23241663222083306, 0.23241663222083306, 0.23241663222083306, 0.23241663222083306, 0.23241663222083306, 0.23241663222083306, 0.23241663222083306, 0.23241663222083306, 0.23241663222083306, 0.23241663222083306, 0.23250672073648834, 0.23318881949787856, 0.23444362382307757, 0.23782194316015176, 0.23917327089498144, 0.24052459862981118, 0.24399944137651602, 0.24863256503878922, 0.24863256503878928, 0.24863256503878928, 0.24863256503878928, 0.24863256503878928, 0.24863256503878928, 0.24863256503878928, 0.24863256503878928, 0.25944318691742674, 0.26484849785674547, 0.26484849785674547, 0.267165059687882, 0.27505852963101424, 0.2774608900484891, 0.2774608900484891, 0.2774608900484891, 0.28106443067470166, 0.28106443067470166, 0.28106443067470166, 0.28106443067470166, 0.28106443067470166, 0.28106443067470166, 0.28106443067470166, 0.28106443067470166, 0.28106443067470166, 0.28106443067470166, 0.28106443067470166, 0.28106443067470166, 0.28106443067470166, 0.28106443067470166, 0.28430761723829284, 0.31349629631061404, 0.31349629631061404, 0.31349629631061404, 0.31349629631061404, 0.31349629631061404, 0.31349629631061404, 0.31349629631061404, 0.31349629631061404, 0.31349629631061404, 0.31349629631061404, 0.31349629631061404, 0.31349629631061404, 0.31349629631061404, 0.31349629631061404, 0.31349629631061404, 0.31349629631061404, 0.31349629631061404, 0.31349629631061404, 0.31349629631061404, 0.31349629631061404, 0.31349629631061404, 0.31349629631061404, 0.31349629631061404, 0.31349629631061404, 0.31349629631061404, 0.31349629631061404, 0.31349629631061404, 0.31349629631061404, 0.31349629631061404, 0.31349629631061404, 0.31349629631061404, 0.31349629631061404, 0.31349629631061404, 0.31349629631061404, 0.31349629631061404, 0.31349629631061404, 0.31349629631061404, 0.31349629631061404, 0.31349629631061404, 0.31349629631061404], \"yaxis\": \"y\"}, {\"customdata\": [[\"brexit party supporter ,\"], [\"Education, socialism, Lego, #BLM, blocked by Frankie Boyle. Ex Labour member. \\ud83c\\uddf5\\ud83c\\uddf8\"], [\"Environmentalist & Animal Rights Activist         Help Stop Islam taking over the UK\"], [\"\\ud83c\\udff4\\udb40\\udc67\\udb40\\udc62\\udb40\\udc65\\udb40\\udc6e\\udb40\\udc67\\udb40\\udc7f English - \\ud83c\\uddec\\ud83c\\udde7 British - White - Christian - COYI \\u2692\"], [\"Standing up for social justice & human rights #NoJusticeNoPeace\\n\\n'Emancipate yourself from mental slavery, none but ourselves can free our mind' Bob Marley\"], [\"Animal https://t.co/vfeaXvEMF2 of ClassicFM/Radio4/4Extra/5Live. Brexiteer. Depressive worrier,mass of contradictions.Married to a top chap since 1991. #SupportOurArmedForces\"], [\"A Right Wing Hindu Nationalist. Strong supporter of Modi/BJP/RSS. Pro-Trump,Pro-Brexit, Pro-Isreal. Anti-Islam. Anti-immigration. Anti-pakistan.\"], [\"Retweets not necessarily an endorsement.\"], [\"England rugby, Spurs & karate dad\"], [\"Wee words on equality and injustice. Fighting against discrimination and racism in the Scottish education system and Scottish gov.\"], [\"Westham loving, gig going, Adidas buying, Brexit voting, Prodigy fan. Conspirithists can't all be wrong. My views are my own, apparently!\"], [\"motorcycle racing/rugby fan/hate lies/zero patience for fools/documentary freak/needs punctuation/pain in the ass mother\"], [\"Ex miner, Ex Labour voter, just to the right of centre \\ud83c\\uddec\\ud83c\\udde7\\ud83c\\uddec\\ud83c\\udde7\\ud83c\\uddec\\ud83c\\udde7\\ud83c\\uddec\\ud83c\\udde7\"], [\"Centre left on economy - Centre right on social policy - SDP Member - Middlesbrough Fan - Father of 2 - Railway Worker - Pronouns : She/Him\"], [\"Brexit\\ud83c\\uddec\\ud83c\\udde7Have no time for WOKE leftie loonballs.\"], [\"\\u2764\\ufe0f\\ud83d\\ude91\\ud83d\\ude92\\ud83d\\ude93\\u2764\\ufe0f\\nI follow only our saviour, Jesus Christ the Almighty\\n#BlueLivesMatter\\n#BackTheBlue\\n#AllLivesMatter\"], [\"\\u2764\\ufe0f\\ud83d\\ude91\\ud83d\\ude92\\ud83d\\ude93\\u2764\\ufe0f\\nI follow only our saviour, Jesus Christ the Almighty\\n#BlueLivesMatter\\n#BackTheBlue\\n#AllLivesMatter\"], [\"\\u2764\\ufe0f\\ud83d\\ude91\\ud83d\\ude92\\ud83d\\ude93\\u2764\\ufe0f\\nI follow only our saviour, Jesus Christ the Almighty\\n#BlueLivesMatter\\n#BackTheBlue\\n#AllLivesMatter\"], [\"\\u2764\\ufe0f\\ud83d\\ude91\\ud83d\\ude92\\ud83d\\ude93\\u2764\\ufe0f\\nI follow only our saviour, Jesus Christ the Almighty\\n#BlueLivesMatter\\n#BackTheBlue\\n#AllLivesMatter\"], [\"Love Europe, hate the EU. Support the Thin Blue line! All lives matter! Defund the BBC! Happy to follow back.\"], [\"Love Europe, hate the EU. Support the Thin Blue line! All lives matter! Defund the BBC! Happy to follow back.\"], [\"Love all animals not too keen on alot of Humans. Not pro Israel. English Nationalist.\"], [\"Democracy, freedom of speech, \\u2764UK, NHS and human nature. Support our Veterans and our Elderly. Educate our children to question. Be happy life's to short. \\ud83d\\ude42\"], [\"patriot \\ud83c\\udff4\\udb40\\udc67\\udb40\\udc62\\udb40\\udc65\\udb40\\udc6e\\udb40\\udc67\\udb40\\udc7f voted to leave the Eu 3 times under 3 different names, drinker of carling .\"], [\"love outdoors, love exploring but family always comes first. All views are my own\"], [\"Pro-Brexit - Classical Liberal - Pro-CANZUK\"], [\"Patriot first. Gay, but I don\\u2019t agree with lefties. AT ALL // Right leaning // Conservative // I stand with Tommy Robinson, Active & Nobby. And many more\"], [\"Army (R. Signals) Veteran, Pompey & Rangers FC, Non-Unionist Conservative #10MoreYears #BanAntifa #BanBLM #ReformJudiciary #DefundTheBBC\"], [\"I love traveling the world and exploring the unknown.\"], [\"All my views/opinions are my own, and appreciate others views/opinions too\"], [\"English, British, Ex soldier. Quis Seperabit.\\nBREXIT. Animal rights. Return freeloaders.\\nUndo the Marxism within. Stick your \\ud83d\\ude37 and lockdown up your ....\"], [\"Fed up with All the Politicians lying to us.\\n\\ud83d\\udca9\\nDont start me off about  Snowflakes of the world.\"], [\"still laughing at the #fbpe ... why are they still around\"], [\"#keeptheban #blacklivesmatter\"], [\"A seeker of truth and Social Justice.\\nA lover of Northern Soul.\\nA very slow cycling fanatic.\\nAn unrepentant moderate.\\nGranby Street Fl\\u00e2neur.\\nKopite till I die.\"], [\"Lancashire lad, Don\\u2019t agree with the far left and Liberals. says it as it is. Love what\\u2019s left of England. Support Brexit. want my country back.\"], [\"Retired long-jumper turned social activist. Self-hatred is a leftist trait.\"], [\"\\ud83c\\uddec\\ud83c\\udde7\\ud83c\\uddec\\ud83c\\udde7\\ud83c\\uddec\\ud83c\\udde7 WTO Brexit , Conservative, Pro Trump. Immensely proud of Country and HM Armed Forces. Independent Britain. Support our Police\"], [\"Honest; seeker of truth; hate injustice and cruelty; animal lover; a cat lover and owner of 2 adorable Coton de Tulear dogs.\"], [\"Centre right (although not a tory supporter) just a believer in right and wrong. Dislike injustice and unfairness.\"], [\"Opinions expressed may differ from your own. Prefers calm dialogue, even when opinions differ. He/Him/His #AntiRacist #Atheist\"], [\"Student trans rights activist, feminist, and pensioner. Fighting to make the world a better place irrespective of gender, race, religion, sexuality and more.\"], [\"Family, Pro-Brexit, Yorkshire, British, European, Centre Right, if you're here to find out what my pro nouns are they're feck/off\"], [\"I am Member of parliament Adajar Hasmad, read my tweets to see what I\\u2019m up to!\"], [\"Scottish\\ud83c\\udff4\\udb40\\udc67\\udb40\\udc62\\udb40\\udc73\\udb40\\udc63\\udb40\\udc74\\udb40\\udc7f and British\\ud83c\\uddec\\ud83c\\udde7, 16 year old member of the Conservative Party, Inverclyde, Thatcherite, Douglas Ross 2021, RT\\u2019s not endorsements\"], [\"Just astonished at the hate on Twitter\"], [\"I am not exactly fat, I confess to serving my country as a soldier and was and am still proud to have done so. I am of  the \\\"Right\\\" & can't bear Piers Morgan.\"], [\"I am not exactly fat, I confess to serving my country as a soldier and was and am still proud to have done so. I am of  the \\\"Right\\\" & can't bear Piers Morgan.\"], [\"Gay/human rights activist X chair of Belfast #Pride\\ud83c\\udff3\\ufe0f\\u200d\\ud83c\\udf08#Equality is a Right Not a privilege\\u270a\\ud83c\\udffc l\\u2764\\ufe0f music \\ud83c\\udfb6reading\\ud83d\\udcda&most people \\ud83d\\ude09so come along with me \\ud83d\\ude0a\"], [\"Ladybirds, netball, ladybirds, postdoc career development, equality, diversity and inclusion, #FBPE pro-EU remain, oh and ladybirds\"], [\"Spurs supporting Anti-Theist.\"], [\"Offensive tweets are pre-blocked, so please don\\u2019t waste your time \\ud83d\\ude00 Thank you!\"], [\"Intelligent pop culture, creativity, left-wing politics, mental health, contentedly imperfect.\"], [\"I believe that #blacklivesmatter and I'm Leftist, anti-racist and a realist.\"], [\"I believe that #blacklivesmatter and I'm Leftist, anti-racist and a realist.\"]], \"hoverlabel\": {\"namelength\": 0}, \"hovertemplate\": \"RW_prediction=True<br>Subjectivity=%{x}<br>Polarity=%{y}<br>Bios=%{customdata[0]}\", \"legendgroup\": \"RW_prediction=True\", \"marker\": {\"color\": \"#EF553B\", \"symbol\": \"circle\"}, \"mode\": \"markers\", \"name\": \"RW_prediction=True\", \"showlegend\": true, \"type\": \"scatter\", \"x\": [0.8, 0.596875, 0.0, 0.25, 0.05, 0.0, 0.5777777777777778, 0.2722222222222222, 0.55, 0.23012820512820512, 0.45, 0.0, 0.0, 0.0, 0.0, 0.0, 0.0, 0.0, 0.0, 0.0, 0.30000000000000004, 0.0, 0.0, 0.0, 0.0, 0.4222222222222222, 0.0, 0.6, 0.575, 0.0, 0.30000000000000004, 0.6416666666666667, 1.0, 1.0, 0.6666666666666666, 0.9, 0.4, 0.6444444444444445, 0.0, 0.0, 0.7550925925925925, 0.5305555555555556, 0.0, 0.0, 0.03333333333333333, 0.13392857142857142, 0.7444444444444445, 0.7444444444444445, 1.0, 0.3, 0.3333333333333333, 1.0, 0.6666666666666666, 1.0, 0.0], \"xaxis\": \"x\", \"y\": [-0.6, 0.271875, 0.0, -0.09375, 0.0, 0.0, 0.04999999999999999, -0.022222222222222213, 0.41666666666666663, 0.05000000000000001, 0.16666666666666666, 0.0, 0.0, 0.0, 0.0, 0.0, 0.0, 0.0, 0.0, 0.0, 0.2, 0.0, 0.0, 0.0, 0.0, 0.15, 0.0, 0.5, -0.325, 0.0, 0.2, -0.18333333333333335, 0.0, 1.0, -0.3333333333333333, -1.0, -0.14999999999999997, -0.5777777777777778, 0.0, 0.0, 0.3347222222222222, 0.165625, 0.0, 0.0, 0.0, 0.0, 0.5, 0.5, 0.8, 0.25, 0.25, 1.0, 0.5666666666666668, 0.8, 0.0], \"yaxis\": \"y\"}, {\"hoverlabel\": {\"namelength\": 0}, \"hovertemplate\": \"<b>OLS trendline</b><br>Polarity = 0.326656 * Subjectivity + -0.020839<br>R<sup>2</sup>=0.109972<br><br>RW_prediction=True<br>Subjectivity=%{x}<br>Polarity=%{y} <b>(trend)</b>\", \"legendgroup\": \"RW_prediction=True\", \"marker\": {\"color\": \"#EF553B\", \"symbol\": \"circle\"}, \"mode\": \"lines\", \"name\": \"RW_prediction=True\", \"showlegend\": false, \"type\": \"scatter\", \"x\": [0.0, 0.0, 0.0, 0.0, 0.0, 0.0, 0.0, 0.0, 0.0, 0.0, 0.0, 0.0, 0.0, 0.0, 0.0, 0.0, 0.0, 0.0, 0.0, 0.0, 0.0, 0.0, 0.03333333333333333, 0.05, 0.13392857142857142, 0.23012820512820512, 0.25, 0.2722222222222222, 0.3, 0.30000000000000004, 0.30000000000000004, 0.3333333333333333, 0.4, 0.4222222222222222, 0.45, 0.5305555555555556, 0.55, 0.575, 0.5777777777777778, 0.596875, 0.6, 0.6416666666666667, 0.6444444444444445, 0.6666666666666666, 0.6666666666666666, 0.7444444444444445, 0.7444444444444445, 0.7550925925925925, 0.8, 0.9, 1.0, 1.0, 1.0, 1.0, 1.0], \"xaxis\": \"x\", \"y\": [-0.0208390412374788, -0.0208390412374788, -0.0208390412374788, -0.0208390412374788, -0.0208390412374788, -0.0208390412374788, -0.0208390412374788, -0.0208390412374788, -0.0208390412374788, -0.0208390412374788, -0.0208390412374788, -0.0208390412374788, -0.0208390412374788, -0.0208390412374788, -0.0208390412374788, -0.0208390412374788, -0.0208390412374788, -0.0208390412374788, -0.0208390412374788, -0.0208390412374788, -0.0208390412374788, -0.0208390412374788, -0.009950493845283402, -0.0045062201491857, 0.022909586677591996, 0.05433381479710096, 0.06082506420398669, 0.0680840957987836, 0.07715788529227978, 0.0771578852922798, 0.0771578852922798, 0.08804643268447518, 0.10982352746886599, 0.11708255906366292, 0.1261563485571591, 0.15247033808829796, 0.1588219907337453, 0.16698840127789183, 0.16789578022724147, 0.17413401050402008, 0.17515481182203838, 0.18876549606228266, 0.18967287501163227, 0.19693190660642917, 0.19693190660642917, 0.22233851718821845, 0.22233851718821845, 0.2258168031607253, 0.2404860961752108, 0.27315173835179696, 0.30581738052838314, 0.30581738052838314, 0.30581738052838314, 0.30581738052838314, 0.30581738052838314], \"yaxis\": \"y\"}],\n",
              "                        {\"legend\": {\"tracegroupgap\": 0}, \"margin\": {\"t\": 60}, \"template\": {\"data\": {\"bar\": [{\"error_x\": {\"color\": \"#2a3f5f\"}, \"error_y\": {\"color\": \"#2a3f5f\"}, \"marker\": {\"line\": {\"color\": \"#E5ECF6\", \"width\": 0.5}}, \"type\": \"bar\"}], \"barpolar\": [{\"marker\": {\"line\": {\"color\": \"#E5ECF6\", \"width\": 0.5}}, \"type\": \"barpolar\"}], \"carpet\": [{\"aaxis\": {\"endlinecolor\": \"#2a3f5f\", \"gridcolor\": \"white\", \"linecolor\": \"white\", \"minorgridcolor\": \"white\", \"startlinecolor\": \"#2a3f5f\"}, \"baxis\": {\"endlinecolor\": \"#2a3f5f\", \"gridcolor\": \"white\", \"linecolor\": \"white\", \"minorgridcolor\": \"white\", \"startlinecolor\": \"#2a3f5f\"}, \"type\": \"carpet\"}], \"choropleth\": [{\"colorbar\": {\"outlinewidth\": 0, \"ticks\": \"\"}, \"type\": \"choropleth\"}], \"contour\": [{\"colorbar\": {\"outlinewidth\": 0, \"ticks\": \"\"}, \"colorscale\": [[0.0, \"#0d0887\"], [0.1111111111111111, \"#46039f\"], [0.2222222222222222, \"#7201a8\"], [0.3333333333333333, \"#9c179e\"], [0.4444444444444444, \"#bd3786\"], [0.5555555555555556, \"#d8576b\"], [0.6666666666666666, \"#ed7953\"], [0.7777777777777778, \"#fb9f3a\"], [0.8888888888888888, \"#fdca26\"], [1.0, \"#f0f921\"]], \"type\": \"contour\"}], \"contourcarpet\": [{\"colorbar\": {\"outlinewidth\": 0, \"ticks\": \"\"}, \"type\": \"contourcarpet\"}], \"heatmap\": [{\"colorbar\": {\"outlinewidth\": 0, \"ticks\": \"\"}, \"colorscale\": [[0.0, \"#0d0887\"], [0.1111111111111111, \"#46039f\"], [0.2222222222222222, \"#7201a8\"], [0.3333333333333333, \"#9c179e\"], [0.4444444444444444, \"#bd3786\"], [0.5555555555555556, \"#d8576b\"], [0.6666666666666666, \"#ed7953\"], [0.7777777777777778, \"#fb9f3a\"], [0.8888888888888888, \"#fdca26\"], [1.0, \"#f0f921\"]], \"type\": \"heatmap\"}], \"heatmapgl\": [{\"colorbar\": {\"outlinewidth\": 0, \"ticks\": \"\"}, \"colorscale\": [[0.0, \"#0d0887\"], [0.1111111111111111, \"#46039f\"], [0.2222222222222222, \"#7201a8\"], [0.3333333333333333, \"#9c179e\"], [0.4444444444444444, \"#bd3786\"], [0.5555555555555556, \"#d8576b\"], [0.6666666666666666, \"#ed7953\"], [0.7777777777777778, \"#fb9f3a\"], [0.8888888888888888, \"#fdca26\"], [1.0, \"#f0f921\"]], \"type\": \"heatmapgl\"}], \"histogram\": [{\"marker\": {\"colorbar\": {\"outlinewidth\": 0, \"ticks\": \"\"}}, \"type\": \"histogram\"}], \"histogram2d\": [{\"colorbar\": {\"outlinewidth\": 0, \"ticks\": \"\"}, \"colorscale\": [[0.0, \"#0d0887\"], [0.1111111111111111, \"#46039f\"], [0.2222222222222222, \"#7201a8\"], [0.3333333333333333, \"#9c179e\"], [0.4444444444444444, \"#bd3786\"], [0.5555555555555556, \"#d8576b\"], [0.6666666666666666, \"#ed7953\"], [0.7777777777777778, \"#fb9f3a\"], [0.8888888888888888, \"#fdca26\"], [1.0, \"#f0f921\"]], \"type\": \"histogram2d\"}], \"histogram2dcontour\": [{\"colorbar\": {\"outlinewidth\": 0, \"ticks\": \"\"}, \"colorscale\": [[0.0, \"#0d0887\"], [0.1111111111111111, \"#46039f\"], [0.2222222222222222, \"#7201a8\"], [0.3333333333333333, \"#9c179e\"], [0.4444444444444444, \"#bd3786\"], [0.5555555555555556, \"#d8576b\"], [0.6666666666666666, \"#ed7953\"], [0.7777777777777778, \"#fb9f3a\"], [0.8888888888888888, \"#fdca26\"], [1.0, \"#f0f921\"]], \"type\": \"histogram2dcontour\"}], \"mesh3d\": [{\"colorbar\": {\"outlinewidth\": 0, \"ticks\": \"\"}, \"type\": \"mesh3d\"}], \"parcoords\": [{\"line\": {\"colorbar\": {\"outlinewidth\": 0, \"ticks\": \"\"}}, \"type\": \"parcoords\"}], \"pie\": [{\"automargin\": true, \"type\": \"pie\"}], \"scatter\": [{\"marker\": {\"colorbar\": {\"outlinewidth\": 0, \"ticks\": \"\"}}, \"type\": \"scatter\"}], \"scatter3d\": [{\"line\": {\"colorbar\": {\"outlinewidth\": 0, \"ticks\": \"\"}}, \"marker\": {\"colorbar\": {\"outlinewidth\": 0, \"ticks\": \"\"}}, \"type\": \"scatter3d\"}], \"scattercarpet\": [{\"marker\": {\"colorbar\": {\"outlinewidth\": 0, \"ticks\": \"\"}}, \"type\": \"scattercarpet\"}], \"scattergeo\": [{\"marker\": {\"colorbar\": {\"outlinewidth\": 0, \"ticks\": \"\"}}, \"type\": \"scattergeo\"}], \"scattergl\": [{\"marker\": {\"colorbar\": {\"outlinewidth\": 0, \"ticks\": \"\"}}, \"type\": \"scattergl\"}], \"scattermapbox\": [{\"marker\": {\"colorbar\": {\"outlinewidth\": 0, \"ticks\": \"\"}}, \"type\": \"scattermapbox\"}], \"scatterpolar\": [{\"marker\": {\"colorbar\": {\"outlinewidth\": 0, \"ticks\": \"\"}}, \"type\": \"scatterpolar\"}], \"scatterpolargl\": [{\"marker\": {\"colorbar\": {\"outlinewidth\": 0, \"ticks\": \"\"}}, \"type\": \"scatterpolargl\"}], \"scatterternary\": [{\"marker\": {\"colorbar\": {\"outlinewidth\": 0, \"ticks\": \"\"}}, \"type\": \"scatterternary\"}], \"surface\": [{\"colorbar\": {\"outlinewidth\": 0, \"ticks\": \"\"}, \"colorscale\": [[0.0, \"#0d0887\"], [0.1111111111111111, \"#46039f\"], [0.2222222222222222, \"#7201a8\"], [0.3333333333333333, \"#9c179e\"], [0.4444444444444444, \"#bd3786\"], [0.5555555555555556, \"#d8576b\"], [0.6666666666666666, \"#ed7953\"], [0.7777777777777778, \"#fb9f3a\"], [0.8888888888888888, \"#fdca26\"], [1.0, \"#f0f921\"]], \"type\": \"surface\"}], \"table\": [{\"cells\": {\"fill\": {\"color\": \"#EBF0F8\"}, \"line\": {\"color\": \"white\"}}, \"header\": {\"fill\": {\"color\": \"#C8D4E3\"}, \"line\": {\"color\": \"white\"}}, \"type\": \"table\"}]}, \"layout\": {\"annotationdefaults\": {\"arrowcolor\": \"#2a3f5f\", \"arrowhead\": 0, \"arrowwidth\": 1}, \"coloraxis\": {\"colorbar\": {\"outlinewidth\": 0, \"ticks\": \"\"}}, \"colorscale\": {\"diverging\": [[0, \"#8e0152\"], [0.1, \"#c51b7d\"], [0.2, \"#de77ae\"], [0.3, \"#f1b6da\"], [0.4, \"#fde0ef\"], [0.5, \"#f7f7f7\"], [0.6, \"#e6f5d0\"], [0.7, \"#b8e186\"], [0.8, \"#7fbc41\"], [0.9, \"#4d9221\"], [1, \"#276419\"]], \"sequential\": [[0.0, \"#0d0887\"], [0.1111111111111111, \"#46039f\"], [0.2222222222222222, \"#7201a8\"], [0.3333333333333333, \"#9c179e\"], [0.4444444444444444, \"#bd3786\"], [0.5555555555555556, \"#d8576b\"], [0.6666666666666666, \"#ed7953\"], [0.7777777777777778, \"#fb9f3a\"], [0.8888888888888888, \"#fdca26\"], [1.0, \"#f0f921\"]], \"sequentialminus\": [[0.0, \"#0d0887\"], [0.1111111111111111, \"#46039f\"], [0.2222222222222222, \"#7201a8\"], [0.3333333333333333, \"#9c179e\"], [0.4444444444444444, \"#bd3786\"], [0.5555555555555556, \"#d8576b\"], [0.6666666666666666, \"#ed7953\"], [0.7777777777777778, \"#fb9f3a\"], [0.8888888888888888, \"#fdca26\"], [1.0, \"#f0f921\"]]}, \"colorway\": [\"#636efa\", \"#EF553B\", \"#00cc96\", \"#ab63fa\", \"#FFA15A\", \"#19d3f3\", \"#FF6692\", \"#B6E880\", \"#FF97FF\", \"#FECB52\"], \"font\": {\"color\": \"#2a3f5f\"}, \"geo\": {\"bgcolor\": \"white\", \"lakecolor\": \"white\", \"landcolor\": \"#E5ECF6\", \"showlakes\": true, \"showland\": true, \"subunitcolor\": \"white\"}, \"hoverlabel\": {\"align\": \"left\"}, \"hovermode\": \"closest\", \"mapbox\": {\"style\": \"light\"}, \"paper_bgcolor\": \"white\", \"plot_bgcolor\": \"#E5ECF6\", \"polar\": {\"angularaxis\": {\"gridcolor\": \"white\", \"linecolor\": \"white\", \"ticks\": \"\"}, \"bgcolor\": \"#E5ECF6\", \"radialaxis\": {\"gridcolor\": \"white\", \"linecolor\": \"white\", \"ticks\": \"\"}}, \"scene\": {\"xaxis\": {\"backgroundcolor\": \"#E5ECF6\", \"gridcolor\": \"white\", \"gridwidth\": 2, \"linecolor\": \"white\", \"showbackground\": true, \"ticks\": \"\", \"zerolinecolor\": \"white\"}, \"yaxis\": {\"backgroundcolor\": \"#E5ECF6\", \"gridcolor\": \"white\", \"gridwidth\": 2, \"linecolor\": \"white\", \"showbackground\": true, \"ticks\": \"\", \"zerolinecolor\": \"white\"}, \"zaxis\": {\"backgroundcolor\": \"#E5ECF6\", \"gridcolor\": \"white\", \"gridwidth\": 2, \"linecolor\": \"white\", \"showbackground\": true, \"ticks\": \"\", \"zerolinecolor\": \"white\"}}, \"shapedefaults\": {\"line\": {\"color\": \"#2a3f5f\"}}, \"ternary\": {\"aaxis\": {\"gridcolor\": \"white\", \"linecolor\": \"white\", \"ticks\": \"\"}, \"baxis\": {\"gridcolor\": \"white\", \"linecolor\": \"white\", \"ticks\": \"\"}, \"bgcolor\": \"#E5ECF6\", \"caxis\": {\"gridcolor\": \"white\", \"linecolor\": \"white\", \"ticks\": \"\"}}, \"title\": {\"x\": 0.05}, \"xaxis\": {\"automargin\": true, \"gridcolor\": \"white\", \"linecolor\": \"white\", \"ticks\": \"\", \"title\": {\"standoff\": 15}, \"zerolinecolor\": \"white\", \"zerolinewidth\": 2}, \"yaxis\": {\"automargin\": true, \"gridcolor\": \"white\", \"linecolor\": \"white\", \"ticks\": \"\", \"title\": {\"standoff\": 15}, \"zerolinecolor\": \"white\", \"zerolinewidth\": 2}}}, \"xaxis\": {\"anchor\": \"y\", \"domain\": [0.0, 1.0], \"range\": [-0.1, 1.1], \"title\": {\"text\": \"Subjectivity\"}}, \"yaxis\": {\"anchor\": \"x\", \"domain\": [0.0, 1.0], \"range\": [-1.1, 1.1], \"title\": {\"text\": \"Polarity\"}}},\n",
              "                        {\"responsive\": true}\n",
              "                    ).then(function(){\n",
              "                            \n",
              "var gd = document.getElementById('4c202236-af95-49f7-8b14-44ece5ca172c');\n",
              "var x = new MutationObserver(function (mutations, observer) {{\n",
              "        var display = window.getComputedStyle(gd).display;\n",
              "        if (!display || display === 'none') {{\n",
              "            console.log([gd, 'removed!']);\n",
              "            Plotly.purge(gd);\n",
              "            observer.disconnect();\n",
              "        }}\n",
              "}});\n",
              "\n",
              "// Listen for the removal of the full notebook cells\n",
              "var notebookContainer = gd.closest('#notebook-container');\n",
              "if (notebookContainer) {{\n",
              "    x.observe(notebookContainer, {childList: true});\n",
              "}}\n",
              "\n",
              "// Listen for the clearing of the current output cell\n",
              "var outputEl = gd.closest('.output');\n",
              "if (outputEl) {{\n",
              "    x.observe(outputEl, {childList: true});\n",
              "}}\n",
              "\n",
              "                        })\n",
              "                };\n",
              "                \n",
              "            </script>\n",
              "        </div>\n",
              "</body>\n",
              "</html>"
            ]
          },
          "metadata": {
            "tags": []
          }
        }
      ]
    },
    {
      "cell_type": "code",
      "metadata": {
        "id": "G9t6qC7HNrsh",
        "colab_type": "code",
        "colab": {}
      },
      "source": [
        ""
      ],
      "execution_count": null,
      "outputs": []
    }
  ]
}